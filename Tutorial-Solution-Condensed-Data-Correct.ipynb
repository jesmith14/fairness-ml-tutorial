{
 "cells": [
  {
   "cell_type": "markdown",
   "metadata": {},
   "source": [
    "# An Introduction to Ethical Supervised Learning - Solution Manual"
   ]
  },
  {
   "cell_type": "markdown",
   "metadata": {},
   "source": [
    "<hr/>"
   ]
  },
  {
   "cell_type": "markdown",
   "metadata": {},
   "source": [
    "## Overview:\n",
    "- Measuring performance of supervised learning predictors that are:\n",
    "    - classification problems\n",
    "    - binary predictors\n",
    "- Introduction to non-discriminatory ML predictor models\n",
    "- Charting performance of a TransRisk score case study to determine if it passes as non-discriminatory"
   ]
  },
  {
   "cell_type": "markdown",
   "metadata": {},
   "source": [
    "<hr/>"
   ]
  },
  {
   "cell_type": "markdown",
   "metadata": {},
   "source": [
    "## Part 1: A Brief Introduction to Non-Discriminatory Machine Learning Predictors\n",
    "For companies that use classification based predictors, sometimes the predicted outcome of individuals within a group will fully influence the decision that is made for that individual. This needs to be treated particularly carefully when the decision being made is an <i>Important Benefit</i> - ie) health care, loan approval, or college admission. What if the data that is being used to train the model is inherently discriminatory? What if factors that created the data we use was inherently discriminatory and we didn't even know? Then the outcome predicted would also be discriminatory.<br/><br/>\n",
    "This is what non-discriminatory predictors seek to solve. For example, <b>The Equal Opportunity Model</b> requires that the true positive rate for all groups in a dataset to be the same in order to achieve fairness. What does this mean in terms of performance for binary classifiers? (Write in terms of 1's an 0's below)"
   ]
  },
  {
   "cell_type": "markdown",
   "metadata": {},
   "source": [
    "** Write Answer Here: **"
   ]
  },
  {
   "cell_type": "markdown",
   "metadata": {
    "collapsed": true
   },
   "source": [
    "Among all of the actual 1's, it's the percentage you predicted were 1."
   ]
  },
  {
   "cell_type": "markdown",
   "metadata": {},
   "source": [
    "<hr/>"
   ]
  },
  {
   "cell_type": "markdown",
   "metadata": {},
   "source": [
    "## Part 2: Introducing the TransRisk Dataset\n",
    "For this part of the tutorial, we will be working with a dataset that represents the distribution of TransRisk scores for non-defaulters (the 'Good' - people who have previously paid off their loans on time) and defaulters (the 'Bad' - people who previously haven't paid their loans on time) against four main demographic groups: Asian, Hispanic, Black, and White. Go ahead and import this data to take a look. What collected information to create TransRisk scores could be inherently discriminatory?"
   ]
  },
  {
   "cell_type": "code",
   "execution_count": 1,
   "metadata": {
    "collapsed": true
   },
   "outputs": [],
   "source": [
    "import pickle\n",
    "import pandas as pd\n",
    "import matplotlib.pyplot as plt\n",
    "import matplotlib.lines as mlines\n",
    "%matplotlib inline"
   ]
  },
  {
   "cell_type": "code",
   "execution_count": 2,
   "metadata": {},
   "outputs": [
    {
     "data": {
      "text/html": [
       "<div>\n",
       "<style>\n",
       "    .dataframe thead tr:only-child th {\n",
       "        text-align: right;\n",
       "    }\n",
       "\n",
       "    .dataframe thead th {\n",
       "        text-align: left;\n",
       "    }\n",
       "\n",
       "    .dataframe tbody tr th {\n",
       "        vertical-align: top;\n",
       "    }\n",
       "</style>\n",
       "<table border=\"1\" class=\"dataframe\">\n",
       "  <thead>\n",
       "    <tr style=\"text-align: right;\">\n",
       "      <th></th>\n",
       "      <th>TransRisk Score</th>\n",
       "      <th>Demographic</th>\n",
       "      <th>Good</th>\n",
       "      <th>Bad</th>\n",
       "    </tr>\n",
       "  </thead>\n",
       "  <tbody>\n",
       "    <tr>\n",
       "      <th>0</th>\n",
       "      <td>10</td>\n",
       "      <td>white</td>\n",
       "      <td>0.140804</td>\n",
       "      <td>0.859196</td>\n",
       "    </tr>\n",
       "    <tr>\n",
       "      <th>1</th>\n",
       "      <td>30</td>\n",
       "      <td>white</td>\n",
       "      <td>0.587287</td>\n",
       "      <td>0.412713</td>\n",
       "    </tr>\n",
       "    <tr>\n",
       "      <th>2</th>\n",
       "      <td>50</td>\n",
       "      <td>white</td>\n",
       "      <td>0.899488</td>\n",
       "      <td>0.100512</td>\n",
       "    </tr>\n",
       "    <tr>\n",
       "      <th>3</th>\n",
       "      <td>70</td>\n",
       "      <td>white</td>\n",
       "      <td>0.970315</td>\n",
       "      <td>0.029685</td>\n",
       "    </tr>\n",
       "    <tr>\n",
       "      <th>4</th>\n",
       "      <td>90</td>\n",
       "      <td>white</td>\n",
       "      <td>0.986525</td>\n",
       "      <td>0.013475</td>\n",
       "    </tr>\n",
       "  </tbody>\n",
       "</table>\n",
       "</div>"
      ],
      "text/plain": [
       "   TransRisk Score Demographic      Good       Bad\n",
       "0               10       white  0.140804  0.859196\n",
       "1               30       white  0.587287  0.412713\n",
       "2               50       white  0.899488  0.100512\n",
       "3               70       white  0.970315  0.029685\n",
       "4               90       white  0.986525  0.013475"
      ]
     },
     "execution_count": 2,
     "metadata": {},
     "output_type": "execute_result"
    }
   ],
   "source": [
    "totalData = pd.read_csv(\"ShortenedData.csv\")\n",
    "totalData.head()"
   ]
  },
  {
   "cell_type": "markdown",
   "metadata": {},
   "source": [
    "For loan approval, usually a bank will set a <b>threshold TransRisk score</b> that determines who is approved and who is denied. For example, if the threshold was 60: everyone with a TransRisk score below 60 would be denied the loan, and everyone with a TransRisk score above 60 would be approved a loan.\n",
    "<br/><br/>\n",
    "How should a predictor go about deciding who should get a loan and who should not? It makes sense to say all of the people who <i>deserve</i> a loan should receive one. In the case of the TransRisk score, the group of people who <i>deserve</i> a loan would be the non-defaulters. \n",
    "<br/><br/>\n",
    "Following this logic, in theory the probability of a non-defaulter getting a loan ($\\hat Y$ = 1) at any threshold TransRisk score should be the same amongst all four groups. Finish the function below to plot the distribution of non-defaulters from one group getting ($\\hat Y$ = 1) based on a threshold value of TransRisk scores. Then, get the probabilities for all four demographic groups and plot them on top of eachother."
   ]
  },
  {
   "cell_type": "code",
   "execution_count": 3,
   "metadata": {
    "collapsed": true
   },
   "outputs": [],
   "source": [
    "def getGraphData(dataset, graphType):\n",
    "    dataset = dataset.set_index(\"TransRisk Score\")\n",
    "    x = []\n",
    "    y = []\n",
    "    for index, row in dataset.iterrows():\n",
    "        curr_race_non_default = dataset.loc[index:][\"Good\"].sum()\n",
    "        total_race_non_default = dataset[\"Good\"].sum()\n",
    "        yVal = curr_race_non_default / total_race_non_default\n",
    "        x.append(index)\n",
    "        y.append(yVal)\n",
    "    plt.plot(x, y, graphType)"
   ]
  },
  {
   "cell_type": "code",
   "execution_count": 4,
   "metadata": {},
   "outputs": [],
   "source": [
    "white_non_default = totalData[[\"TransRisk Score\", \"Demographic\", \"Good\"]][totalData[\"Demographic\"] == \"white\"]\n",
    "asian_non_default = totalData[[\"TransRisk Score\", \"Demographic\", \"Good\"]][totalData[\"Demographic\"] == \"asian\"]\n",
    "black_non_default = totalData[[\"TransRisk Score\", \"Demographic\", \"Good\"]][totalData[\"Demographic\"] == \"black\"]\n",
    "hispanic_non_default = totalData[[\"TransRisk Score\", \"Demographic\", \"Good\"]][totalData[\"Demographic\"] == \"hispanic\"]"
   ]
  },
  {
   "cell_type": "markdown",
   "metadata": {
    "collapsed": true
   },
   "source": [
    "** Plot Graph Below **"
   ]
  },
  {
   "cell_type": "code",
   "execution_count": 5,
   "metadata": {},
   "outputs": [
    {
     "data": {
      "text/plain": [
       "<matplotlib.legend.Legend at 0x10dcc4d68>"
      ]
     },
     "execution_count": 5,
     "metadata": {},
     "output_type": "execute_result"
    },
    {
     "data": {
      "image/png": "[encoded data removed]",
      "text/plain": [
       "<matplotlib.figure.Figure at 0x10b6cf668>"
      ]
     },
     "metadata": {},
     "output_type": "display_data"
    }
   ],
   "source": [
    "getGraphData(asian_non_default, 'b-')\n",
    "getGraphData(white_non_default, 'g-')\n",
    "getGraphData(black_non_default, 'c-')\n",
    "getGraphData(hispanic_non_default, 'm-')\n",
    "plt.title(\"Probability of Non-Defaulters Getting $\\hat Y$ = 1 (Beneficial Outcome)\" )\n",
    "\n",
    "blue_line = mlines.Line2D([], [], color='blue', marker='.',\n",
    "                          markersize=15, label='Asian')\n",
    "green_line = mlines.Line2D([], [], color='green', marker='.',\n",
    "                          markersize=15, label='White')\n",
    "cyan_line = mlines.Line2D([], [], color='cyan', marker='.',\n",
    "                          markersize=15, label='Black')\n",
    "purple_line = mlines.Line2D([], [], color='purple', marker='.',\n",
    "                          markersize=15, label='Hispanic')\n",
    "\n",
    "plt.legend(handles=[blue_line, green_line, cyan_line, purple_line])"
   ]
  },
  {
   "cell_type": "markdown",
   "metadata": {},
   "source": [
    "<hr/>"
   ]
  },
  {
   "cell_type": "markdown",
   "metadata": {},
   "source": [
    "## Part 3:  Calculating Performance\n",
    "Now that we've seen the likelihood of non-defaulting individuals from each of the four demographic groups to be approved a loan based on threshold value, let's check the performance of this model. Take a look at the original data again. This part will be easier if you can separate the data into four different dataframes, one for each demographic. <i>Note: it is also helpful if you set the index to be the TransRisk score.</i>"
   ]
  },
  {
   "cell_type": "code",
   "execution_count": 6,
   "metadata": {
    "collapsed": true
   },
   "outputs": [],
   "source": [
    "whites = totalData[[\"TransRisk Score\", \"Demographic\", \"Good\", \"Bad\"]][totalData[\"Demographic\"] == \"white\"]\n",
    "asians = totalData[[\"TransRisk Score\", \"Demographic\", \"Good\", \"Bad\"]][totalData[\"Demographic\"] == \"asian\"]\n",
    "blacks = totalData[[\"TransRisk Score\", \"Demographic\", \"Good\", \"Bad\"]][totalData[\"Demographic\"] == \"black\"]\n",
    "hispanics = totalData[[\"TransRisk Score\", \"Demographic\", \"Good\", \"Bad\"]][totalData[\"Demographic\"] == \"hispanic\"]"
   ]
  },
  {
   "cell_type": "code",
   "execution_count": 7,
   "metadata": {
    "collapsed": true
   },
   "outputs": [],
   "source": [
    "whites.set_index(\"TransRisk Score\", inplace=True)\n",
    "asians.set_index(\"TransRisk Score\", inplace=True)\n",
    "blacks.set_index(\"TransRisk Score\", inplace=True)\n",
    "hispanics.set_index(\"TransRisk Score\", inplace=True)"
   ]
  },
  {
   "cell_type": "markdown",
   "metadata": {},
   "source": [
    "** Complete : Calculate the following problem for both the White and Black demographic groups with a threshold TransRisk score of 60**\n",
    "\n",
    "For all of the individuals that <i>deserve</i> a loan, how many will receive one?"
   ]
  },
  {
   "cell_type": "code",
   "execution_count": 8,
   "metadata": {},
   "outputs": [
    {
     "data": {
      "text/plain": [
       "(0.5459294988274613, 0.5890912601727054)"
      ]
     },
     "execution_count": 8,
     "metadata": {},
     "output_type": "execute_result"
    }
   ],
   "source": [
    "totalGood = whites[\"Good\"].sum()\n",
    "tp = whites[\"Good\"].loc[60:].sum()\n",
    "white_sensitivity = tp / totalGood\n",
    "totalGood = blacks[\"Good\"].sum()\n",
    "tp = blacks[\"Good\"].loc[60:].sum()\n",
    "black_sensitivity = tp / totalGood\n",
    "white_sensitivity, black_sensitivity"
   ]
  },
  {
   "cell_type": "markdown",
   "metadata": {},
   "source": [
    "<hr/>"
   ]
  },
  {
   "cell_type": "markdown",
   "metadata": {},
   "source": [
    "### Analysis: \n",
    "\n",
    "What you just calculated is the <b>sensitivity</b> of the White and Black demographic groups for a single threshold value (60). If you recall from the beginning of this tutorial, for the Equalized Opportunity fairness model the main requirement for achieving fairness is to ensure that the true positive rates (also known as the sensitivity) are the same for all groups. As we saw in our plot from Part 2, Equalized Opportunity was definitely not being satisfied. So, how might we go about finding an easy solution to this problem? The answer lies in utilizing this performance metric. To satisfy the requirement, we need to find a point where all demographic groups have the same sensitivity and the same defaulting rate. <br/><br/>\n",
    "It makes sense that sensitivity must be the same for all demographic groups (since that is what we are trying to accomplish with the <b>Equalized Opportunity Model</b>). But why do we need to have the same defaulting rate? This is because there is going to be a separate sensitivity value for each threshold we choose. It would be easy to choose a threshold score that gives us a sensitivity of 1 (the ideal sensitivity), but then what if choosing that score creates an unfair percentage of defaulters who are allowed loans for one demographic over another? That is why it is important to make sure that the percentage of defaulters is about the same for each demographic group as well, to ensure fairness.<br/><br/>\n",
    "*** How do you choose which percent default is the best? *** <br/><br/>\n",
    "This question depends on the company that is giving out the loans. Many banks will stick to an 18% loss function. Meaning that for all of the loans they give out, there's an 18% chance that the people granted a loan will default. Based on this example, you will try to find four different threshold scores (one for each demographic) that provide the same sensitivity for all, and the same 18% probability of defaulting for all.\n"
   ]
  },
  {
   "cell_type": "markdown",
   "metadata": {},
   "source": [
    "<hr/>"
   ]
  },
  {
   "cell_type": "markdown",
   "metadata": {},
   "source": [
    "### Step 1: Visualize the Sensitivity \n",
    "<i>Create a plot representing the sensitivity and TransRisk scores to visualize the sensitivity versus the threshold score for all demographic groups</i>"
   ]
  },
  {
   "cell_type": "code",
   "execution_count": 9,
   "metadata": {
    "collapsed": true
   },
   "outputs": [],
   "source": [
    "import numpy as np"
   ]
  },
  {
   "cell_type": "code",
   "execution_count": 10,
   "metadata": {
    "collapsed": true
   },
   "outputs": [],
   "source": [
    "def getSensitivityDF(demographic, data):\n",
    "    scores = []\n",
    "    percent_default = []\n",
    "    totalGood = data[\"Good\"].sum()    \n",
    "    sensitivity = []\n",
    "    for index, row in data.iterrows():\n",
    "        currTP = data[\"Good\"].loc[index:].sum()\n",
    "        sensitivity.append(currTP / totalGood)\n",
    "        scores.append(index)\n",
    "        percent_default.append(1 - (currTP / totalGood))\n",
    "    df = pd.DataFrame({ 'Score' : scores,\n",
    "    'Demographic' : np.full(len(scores), demographic),\n",
    "    'Sensitivity' : sensitivity,\n",
    "    'Percent_Default': percent_default})\n",
    "    return df"
   ]
  },
  {
   "cell_type": "code",
   "execution_count": 11,
   "metadata": {
    "collapsed": true
   },
   "outputs": [],
   "source": [
    "white_sensitivity = getSensitivityDF(\"white\", whites)\n",
    "asian_sensitivity = getSensitivityDF(\"asian\", asians)\n",
    "black_sensitivity = getSensitivityDF(\"black\", blacks)\n",
    "hispanic_sensitivity = getSensitivityDF(\"hispanic\", hispanics)"
   ]
  },
  {
   "cell_type": "code",
   "execution_count": 12,
   "metadata": {
    "collapsed": true
   },
   "outputs": [],
   "source": [
    "sensitivities = pd.concat([white_sensitivity, \n",
    "          asian_sensitivity, \n",
    "          black_sensitivity, \n",
    "          hispanic_sensitivity], axis=0)"
   ]
  },
  {
   "cell_type": "code",
   "execution_count": 13,
   "metadata": {},
   "outputs": [
    {
     "data": {
      "text/plain": [
       "[<matplotlib.lines.Line2D at 0x10eca1a58>]"
      ]
     },
     "execution_count": 13,
     "metadata": {},
     "output_type": "execute_result"
    },
    {
     "data": {
      "image/png": "[encoded data removed]",
      "text/plain": [
       "<matplotlib.figure.Figure at 0x10b617c88>"
      ]
     },
     "metadata": {},
     "output_type": "display_data"
    }
   ],
   "source": [
    "plt.plot(white_sensitivity[\"Score\"], white_sensitivity[\"Sensitivity\"],  'b-')\n",
    "plt.plot(asian_sensitivity[\"Score\"], asian_sensitivity[\"Sensitivity\"],  'g-')\n",
    "plt.plot(black_sensitivity[\"Score\"], black_sensitivity[\"Sensitivity\"],  'c-')\n",
    "plt.plot(hispanic_sensitivity[\"Score\"], hispanic_sensitivity[\"Sensitivity\"],  'm-')"
   ]
  },
  {
   "cell_type": "markdown",
   "metadata": {},
   "source": [
    "<hr/>"
   ]
  },
  {
   "cell_type": "markdown",
   "metadata": {},
   "source": [
    "###  Step 2: Utilize 18% Loss \n",
    "<i>Now that you have all of your sensitivity for each demographic, find the percent default for every calculation of sensitivity. </i> <br/><br/>\n",
    "*** Important Notes: ***\n",
    "- The sensitivity should be cumulative (because a threshold score means everyone at a score and above will recieve the loan)\n",
    "- The percent_default should also be cumulative\n",
    "- Is there an easy way to calculate percent default based off the calculations you've already made?"
   ]
  },
  {
   "cell_type": "code",
   "execution_count": 14,
   "metadata": {
    "collapsed": true
   },
   "outputs": [],
   "source": [
    "## Solution notes:\n",
    "## The cumulative percent default is just 1 - sensitivity\n",
    "## Which means a percent default of 18% is a sensitivity value of ~ 82%\n",
    "## So, find the sensitivity of ~ 82% for each demographic, and the score at that sensitivity\n",
    "## is the score you should choose!\n",
    "## Below, we calculate what the scores look like closest to 18% default for each demographic for visual clarity."
   ]
  },
  {
   "cell_type": "code",
   "execution_count": 15,
   "metadata": {},
   "outputs": [
    {
     "data": {
      "text/html": [
       "<div>\n",
       "<style>\n",
       "    .dataframe thead tr:only-child th {\n",
       "        text-align: right;\n",
       "    }\n",
       "\n",
       "    .dataframe thead th {\n",
       "        text-align: left;\n",
       "    }\n",
       "\n",
       "    .dataframe tbody tr th {\n",
       "        vertical-align: top;\n",
       "    }\n",
       "</style>\n",
       "<table border=\"1\" class=\"dataframe\">\n",
       "  <thead>\n",
       "    <tr style=\"text-align: right;\">\n",
       "      <th></th>\n",
       "      <th>Demographic</th>\n",
       "      <th>Percent_Default</th>\n",
       "      <th>Score</th>\n",
       "      <th>Sensitivity</th>\n",
       "    </tr>\n",
       "  </thead>\n",
       "  <tbody>\n",
       "    <tr>\n",
       "      <th>2</th>\n",
       "      <td>white</td>\n",
       "      <td>0.203127</td>\n",
       "      <td>50</td>\n",
       "      <td>0.796873</td>\n",
       "    </tr>\n",
       "  </tbody>\n",
       "</table>\n",
       "</div>"
      ],
      "text/plain": [
       "  Demographic  Percent_Default  Score  Sensitivity\n",
       "2       white         0.203127     50     0.796873"
      ]
     },
     "execution_count": 15,
     "metadata": {},
     "output_type": "execute_result"
    }
   ],
   "source": [
    "min_white = min(white_sensitivity[\"Percent_Default\"], key=lambda x:abs(x-0.18))\n",
    "white_sensitivity[white_sensitivity[\"Percent_Default\"] == min_white]"
   ]
  },
  {
   "cell_type": "code",
   "execution_count": 16,
   "metadata": {},
   "outputs": [
    {
     "data": {
      "text/html": [
       "<div>\n",
       "<style>\n",
       "    .dataframe thead tr:only-child th {\n",
       "        text-align: right;\n",
       "    }\n",
       "\n",
       "    .dataframe thead th {\n",
       "        text-align: left;\n",
       "    }\n",
       "\n",
       "    .dataframe tbody tr th {\n",
       "        vertical-align: top;\n",
       "    }\n",
       "</style>\n",
       "<table border=\"1\" class=\"dataframe\">\n",
       "  <thead>\n",
       "    <tr style=\"text-align: right;\">\n",
       "      <th></th>\n",
       "      <th>Demographic</th>\n",
       "      <th>Percent_Default</th>\n",
       "      <th>Score</th>\n",
       "      <th>Sensitivity</th>\n",
       "    </tr>\n",
       "  </thead>\n",
       "  <tbody>\n",
       "    <tr>\n",
       "      <th>2</th>\n",
       "      <td>asian</td>\n",
       "      <td>0.216229</td>\n",
       "      <td>50</td>\n",
       "      <td>0.783771</td>\n",
       "    </tr>\n",
       "  </tbody>\n",
       "</table>\n",
       "</div>"
      ],
      "text/plain": [
       "  Demographic  Percent_Default  Score  Sensitivity\n",
       "2       asian         0.216229     50     0.783771"
      ]
     },
     "execution_count": 16,
     "metadata": {},
     "output_type": "execute_result"
    }
   ],
   "source": [
    "min_asian = min(asian_sensitivity[\"Percent_Default\"], key=lambda x:abs(x-0.18))\n",
    "asian_sensitivity[asian_sensitivity[\"Percent_Default\"] == min_asian]"
   ]
  },
  {
   "cell_type": "code",
   "execution_count": 17,
   "metadata": {},
   "outputs": [
    {
     "data": {
      "text/html": [
       "<div>\n",
       "<style>\n",
       "    .dataframe thead tr:only-child th {\n",
       "        text-align: right;\n",
       "    }\n",
       "\n",
       "    .dataframe thead th {\n",
       "        text-align: left;\n",
       "    }\n",
       "\n",
       "    .dataframe tbody tr th {\n",
       "        vertical-align: top;\n",
       "    }\n",
       "</style>\n",
       "<table border=\"1\" class=\"dataframe\">\n",
       "  <thead>\n",
       "    <tr style=\"text-align: right;\">\n",
       "      <th></th>\n",
       "      <th>Demographic</th>\n",
       "      <th>Percent_Default</th>\n",
       "      <th>Score</th>\n",
       "      <th>Sensitivity</th>\n",
       "    </tr>\n",
       "  </thead>\n",
       "  <tbody>\n",
       "    <tr>\n",
       "      <th>2</th>\n",
       "      <td>black</td>\n",
       "      <td>0.156174</td>\n",
       "      <td>50</td>\n",
       "      <td>0.843826</td>\n",
       "    </tr>\n",
       "  </tbody>\n",
       "</table>\n",
       "</div>"
      ],
      "text/plain": [
       "  Demographic  Percent_Default  Score  Sensitivity\n",
       "2       black         0.156174     50     0.843826"
      ]
     },
     "execution_count": 17,
     "metadata": {},
     "output_type": "execute_result"
    }
   ],
   "source": [
    "min_black = min(black_sensitivity[\"Percent_Default\"], key=lambda x:abs(x-0.18))\n",
    "black_sensitivity[black_sensitivity[\"Percent_Default\"] == min_black]"
   ]
  },
  {
   "cell_type": "code",
   "execution_count": 18,
   "metadata": {},
   "outputs": [
    {
     "data": {
      "text/html": [
       "<div>\n",
       "<style>\n",
       "    .dataframe thead tr:only-child th {\n",
       "        text-align: right;\n",
       "    }\n",
       "\n",
       "    .dataframe thead th {\n",
       "        text-align: left;\n",
       "    }\n",
       "\n",
       "    .dataframe tbody tr th {\n",
       "        vertical-align: top;\n",
       "    }\n",
       "</style>\n",
       "<table border=\"1\" class=\"dataframe\">\n",
       "  <thead>\n",
       "    <tr style=\"text-align: right;\">\n",
       "      <th></th>\n",
       "      <th>Demographic</th>\n",
       "      <th>Percent_Default</th>\n",
       "      <th>Score</th>\n",
       "      <th>Sensitivity</th>\n",
       "    </tr>\n",
       "  </thead>\n",
       "  <tbody>\n",
       "    <tr>\n",
       "      <th>2</th>\n",
       "      <td>hispanic</td>\n",
       "      <td>0.188441</td>\n",
       "      <td>50</td>\n",
       "      <td>0.811559</td>\n",
       "    </tr>\n",
       "  </tbody>\n",
       "</table>\n",
       "</div>"
      ],
      "text/plain": [
       "  Demographic  Percent_Default  Score  Sensitivity\n",
       "2    hispanic         0.188441     50     0.811559"
      ]
     },
     "execution_count": 18,
     "metadata": {},
     "output_type": "execute_result"
    }
   ],
   "source": [
    "min_hispanic = min(hispanic_sensitivity[\"Percent_Default\"], key=lambda x:abs(x-0.18))\n",
    "hispanic_sensitivity[hispanic_sensitivity[\"Percent_Default\"] == min_hispanic]"
   ]
  },
  {
   "cell_type": "markdown",
   "metadata": {},
   "source": [
    "<hr/>"
   ]
  },
  {
   "cell_type": "markdown",
   "metadata": {},
   "source": [
    "###  Step 3: Find the final 'fair' scores for each demographic\n",
    "<i>Now that we have found scores for each demographic that have the same percent default of 18% and the same sensitivity, write them below. These are the four threshold values that you would need to use to determine loan approval with this dataset in order to satisfy the <b>Equal Opportunity Model.</b></i> <br/><br/>\n",
    "\n",
    "*** Write Scores Here: ***"
   ]
  },
  {
   "cell_type": "code",
   "execution_count": 19,
   "metadata": {},
   "outputs": [
    {
     "data": {
      "text/plain": [
       "(2    50\n",
       " Name: Score, dtype: int64, 2    50\n",
       " Name: Score, dtype: int64, 2    50\n",
       " Name: Score, dtype: int64, 2    50\n",
       " Name: Score, dtype: int64)"
      ]
     },
     "execution_count": 19,
     "metadata": {},
     "output_type": "execute_result"
    }
   ],
   "source": [
    "white_final = white_sensitivity[white_sensitivity[\"Percent_Default\"] == min_white].Score\n",
    "asian_final = asian_sensitivity[asian_sensitivity[\"Percent_Default\"] == min_asian].Score\n",
    "black_final = black_sensitivity[black_sensitivity[\"Percent_Default\"] == min_black].Score\n",
    "hispanic_final = hispanic_sensitivity[hispanic_sensitivity[\"Percent_Default\"] == min_hispanic].Score\n",
    "\n",
    "white_final, asian_final, black_final, hispanic_final"
   ]
  },
  {
   "cell_type": "markdown",
   "metadata": {},
   "source": [
    "<hr/>\n",
    "## Conclusion"
   ]
  },
  {
   "cell_type": "markdown",
   "metadata": {},
   "source": [
    "Congratulations! You have successfully taken a discriminatory set of data and utilized a machine learning fairness model to make it into a fair predictor. As our research showed, it was very obvious that the data involved in creating the supervised learning predictors for loan approval from TransRisk scores was inherently discriminatory.<br/><br/> What are some other possible solutions for optimizing performance of these models to ensure non-discriminatory decision making? \n",
    "<br/><br/>\n",
    "TransRisk data and non-discriminatory analysis courtesy of https://arxiv.org/pdf/1610.02413.pdf"
   ]
  },
  {
   "cell_type": "code",
   "execution_count": null,
   "metadata": {
    "collapsed": true
   },
   "outputs": [],
   "source": []
  }
 ],
 "metadata": {
  "kernelspec": {
   "display_name": "Python 3",
   "language": "python",
   "name": "python3"
  },
  "language_info": {
   "codemirror_mode": {
    "name": "ipython",
    "version": 3
   },
   "file_extension": ".py",
   "mimetype": "text/x-python",
   "name": "python",
   "nbconvert_exporter": "python",
   "pygments_lexer": "ipython3",
   "version": "3.6.1"
  }
 },
 "nbformat": 4,
 "nbformat_minor": 2
}
