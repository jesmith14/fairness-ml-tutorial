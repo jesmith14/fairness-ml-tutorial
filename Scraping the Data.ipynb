{
 "cells": [
  {
   "cell_type": "markdown",
   "metadata": {},
   "source": [
    "## Notes\n",
    "\n",
    "• All of the following calculations are conditional on race/ethnicity. That is, the calcu-\n",
    "lation described below is carried out separately for each race.\n",
    "\n",
    "• The figures/tables containing the data can be found here:\n",
    "https://www.federalreserve.gov/boarddocs/rptcongress/creditscore/figures.htm"
   ]
  },
  {
   "cell_type": "markdown",
   "metadata": {},
   "source": [
    "## Calculations"
   ]
  },
  {
   "cell_type": "code",
   "execution_count": 21,
   "metadata": {
    "collapsed": true
   },
   "outputs": [],
   "source": [
    "import pandas as pd\n",
    "import numpy as np\n",
    "import sys\n",
    "totalData = pd.read_csv(\"Figure7A.csv\")\n",
    "CumulativeData = pd.read_csv(\"Figure3A.csv\")"
   ]
  },
  {
   "cell_type": "code",
   "execution_count": 22,
   "metadata": {
    "collapsed": true
   },
   "outputs": [],
   "source": [
    "%matplotlib inline"
   ]
  },
  {
   "cell_type": "markdown",
   "metadata": {},
   "source": [
    "### Step 1) Calculating π"
   ]
  },
  {
   "cell_type": "code",
   "execution_count": 2,
   "metadata": {
    "collapsed": true
   },
   "outputs": [],
   "source": [
    "# Get the dataframe that holds the cumulative percentage, by demographic group\n",
    "def getPD(data, col, raceName):\n",
    "    pd = data[\"Score\"].to_frame(name=\"Score\")\n",
    "    race = np.full(len(data), raceName)\n",
    "    pd[\"Demographic\"] = race\n",
    "    pd[\"Percentage\"] = data[col]\n",
    "    return pd\n",
    "\n",
    "whites = getPD(CumulativeData, \"White\", \"white\")\n",
    "blacks = getPD(CumulativeData, \"Black\", \"black\")\n",
    "asians = getPD(CumulativeData, \"Asian\", \"asian\")\n",
    "hispanics = getPD(CumulativeData, \"Hispanic\", \"hispanic\")\n",
    "pds = [whites, blacks, asians, hispanics]\n",
    "cumulative = pd.concat(pds)"
   ]
  },
  {
   "cell_type": "code",
   "execution_count": 32,
   "metadata": {},
   "outputs": [],
   "source": [
    "good = totalData.set_index(\"Score\")[\"Asian (Good)\"]\n",
    "bad = totalData.set_index(\"Score\")[\"Asian (Bad)\"]\n",
    "\n",
    "total = asians.set_index(\"Score\").Percentage"
   ]
  },
  {
   "cell_type": "code",
   "execution_count": 34,
   "metadata": {},
   "outputs": [
    {
     "data": {
      "text/plain": [
       "0.7858001718623332"
      ]
     },
     "execution_count": 34,
     "metadata": {},
     "output_type": "execute_result"
    }
   ],
   "source": [
    "((total - bad) / (good - bad))"
   ]
  },
  {
   "cell_type": "code",
   "execution_count": 3,
   "metadata": {},
   "outputs": [
    {
     "data": {
      "text/plain": [
       "0.82316240982647693"
      ]
     },
     "execution_count": 3,
     "metadata": {},
     "output_type": "execute_result"
    }
   ],
   "source": [
    "# Example of finding pi with whites at s = 40.0\n",
    "total = cumulative[cumulative[\"Demographic\"] == \"white\"].loc[40].Percentage.copy()\n",
    "good = totalData[totalData[\"Demographic\"] == \"white\"].loc[40].Good.copy()\n",
    "bad = totalData[totalData[\"Demographic\"] == \"white\"].loc[40].Bad.copy()\n",
    "pi = (total - bad) / (good - bad)\n",
    "pi"
   ]
  },
  {
   "cell_type": "code",
   "execution_count": 4,
   "metadata": {},
   "outputs": [
    {
     "data": {
      "text/plain": [
       "0.8887006606810095"
      ]
     },
     "execution_count": 4,
     "metadata": {},
     "output_type": "execute_result"
    }
   ],
   "source": [
    "#sanity check for pi with whites\n",
    "total = cumulative[cumulative[\"Demographic\"] == \"white\"].loc[80].Percentage.copy()\n",
    "good = totalData[totalData[\"Demographic\"] == \"white\"].loc[80].Good.copy()\n",
    "bad = totalData[totalData[\"Demographic\"] == \"white\"].loc[80].Bad.copy()\n",
    "(total - bad) / (good - bad)"
   ]
  },
  {
   "cell_type": "code",
   "execution_count": 5,
   "metadata": {},
   "outputs": [
    {
     "data": {
      "text/plain": [
       "0.38817159516867977"
      ]
     },
     "execution_count": 5,
     "metadata": {},
     "output_type": "execute_result"
    }
   ],
   "source": [
    "#sanity check for pi with blacks\n",
    "total = cumulative[cumulative[\"Demographic\"] == \"black\"].loc[10].Percentage.copy()\n",
    "good = totalData[totalData[\"Demographic\"] == \"black\"].loc[208].Good.copy()\n",
    "bad = totalData[totalData[\"Demographic\"] == \"black\"].loc[208].Bad.copy()\n",
    "(total - bad) / (good - bad)"
   ]
  },
  {
   "cell_type": "code",
   "execution_count": 6,
   "metadata": {},
   "outputs": [
    {
     "data": {
      "text/plain": [
       "0.29741863075196429"
      ]
     },
     "execution_count": 6,
     "metadata": {},
     "output_type": "execute_result"
    }
   ],
   "source": [
    "#sanity check for pi with another value from blacks\n",
    "total = cumulative[cumulative[\"Demographic\"] == \"black\"].loc[102].Percentage.copy()\n",
    "good = totalData[totalData[\"Demographic\"] == \"black\"].loc[300].Good.copy()\n",
    "bad = totalData[totalData[\"Demographic\"] == \"black\"].loc[300].Bad.copy()\n",
    "(total - bad) / (good - bad)"
   ]
  },
  {
   "cell_type": "markdown",
   "metadata": {},
   "source": [
    "### Step 2) Convert Cumulative Probabilities into Equalities"
   ]
  },
  {
   "cell_type": "code",
   "execution_count": 7,
   "metadata": {
    "collapsed": true
   },
   "outputs": [],
   "source": [
    "whitesEq = totalData[totalData[\"Demographic\"] == \"white\"].copy()\n",
    "blacksEq = totalData[totalData[\"Demographic\"] == \"black\"].copy()\n",
    "asiansEq = totalData[totalData[\"Demographic\"] == \"asian\"].copy()\n",
    "hispanicsEq = totalData[totalData[\"Demographic\"] == \"hispanic\"].copy()"
   ]
  },
  {
   "cell_type": "code",
   "execution_count": 8,
   "metadata": {
    "collapsed": true
   },
   "outputs": [],
   "source": [
    "whiteTotal = cumulative[cumulative[\"Demographic\"] == \"white\"].copy()\n",
    "blackTotal = cumulative[cumulative[\"Demographic\"] == \"black\"].copy()\n",
    "asianTotal = cumulative[cumulative[\"Demographic\"] == \"asian\"].copy()\n",
    "hispanicTotal = cumulative[cumulative[\"Demographic\"] == \"hispanic\"].copy()"
   ]
  },
  {
   "cell_type": "code",
   "execution_count": 9,
   "metadata": {
    "collapsed": true
   },
   "outputs": [],
   "source": [
    "whitesEq[\"Good\"] = whitesEq[\"Good\"].diff().fillna(value=0).copy()\n",
    "whitesEq[\"Bad\"] = whitesEq[\"Bad\"].diff().fillna(value=0).copy()\n",
    "whitesEq[\"Both\"] = whiteTotal[\"Percentage\"].diff().fillna(value=0).copy()"
   ]
  },
  {
   "cell_type": "code",
   "execution_count": 10,
   "metadata": {},
   "outputs": [
    {
     "data": {
      "text/html": [
       "<div>\n",
       "<style>\n",
       "    .dataframe thead tr:only-child th {\n",
       "        text-align: right;\n",
       "    }\n",
       "\n",
       "    .dataframe thead th {\n",
       "        text-align: left;\n",
       "    }\n",
       "\n",
       "    .dataframe tbody tr th {\n",
       "        vertical-align: top;\n",
       "    }\n",
       "</style>\n",
       "<table border=\"1\" class=\"dataframe\">\n",
       "  <thead>\n",
       "    <tr style=\"text-align: right;\">\n",
       "      <th></th>\n",
       "      <th>TransRisk Score</th>\n",
       "      <th>Demographic</th>\n",
       "      <th>Good</th>\n",
       "      <th>Bad</th>\n",
       "      <th>Both</th>\n",
       "    </tr>\n",
       "  </thead>\n",
       "  <tbody>\n",
       "    <tr>\n",
       "      <th>0</th>\n",
       "      <td>0.0</td>\n",
       "      <td>white</td>\n",
       "      <td>0.00</td>\n",
       "      <td>0.00</td>\n",
       "      <td>0.00</td>\n",
       "    </tr>\n",
       "    <tr>\n",
       "      <th>1</th>\n",
       "      <td>0.5</td>\n",
       "      <td>white</td>\n",
       "      <td>0.03</td>\n",
       "      <td>1.68</td>\n",
       "      <td>0.25</td>\n",
       "    </tr>\n",
       "    <tr>\n",
       "      <th>2</th>\n",
       "      <td>1.0</td>\n",
       "      <td>white</td>\n",
       "      <td>0.19</td>\n",
       "      <td>5.41</td>\n",
       "      <td>0.90</td>\n",
       "    </tr>\n",
       "    <tr>\n",
       "      <th>3</th>\n",
       "      <td>1.5</td>\n",
       "      <td>white</td>\n",
       "      <td>0.04</td>\n",
       "      <td>1.59</td>\n",
       "      <td>0.27</td>\n",
       "    </tr>\n",
       "    <tr>\n",
       "      <th>4</th>\n",
       "      <td>2.0</td>\n",
       "      <td>white</td>\n",
       "      <td>0.09</td>\n",
       "      <td>1.73</td>\n",
       "      <td>0.37</td>\n",
       "    </tr>\n",
       "  </tbody>\n",
       "</table>\n",
       "</div>"
      ],
      "text/plain": [
       "   TransRisk Score Demographic  Good   Bad  Both\n",
       "0              0.0       white  0.00  0.00  0.00\n",
       "1              0.5       white  0.03  1.68  0.25\n",
       "2              1.0       white  0.19  5.41  0.90\n",
       "3              1.5       white  0.04  1.59  0.27\n",
       "4              2.0       white  0.09  1.73  0.37"
      ]
     },
     "execution_count": 10,
     "metadata": {},
     "output_type": "execute_result"
    }
   ],
   "source": [
    "whitesEq.head()"
   ]
  },
  {
   "cell_type": "code",
   "execution_count": 11,
   "metadata": {
    "collapsed": true
   },
   "outputs": [],
   "source": [
    "blacksEq[\"Good\"] = blacksEq[\"Good\"].diff().fillna(value=0).copy()\n",
    "blacksEq[\"Bad\"] = blacksEq[\"Bad\"].diff().fillna(value=0).copy()\n",
    "blacksEq[\"Both\"] = blackTotal[\"Percentage\"].diff().fillna(value=0).copy()"
   ]
  },
  {
   "cell_type": "code",
   "execution_count": 12,
   "metadata": {
    "collapsed": true
   },
   "outputs": [],
   "source": [
    "## This is what I'd like the blacksEq[\"Both\"] to be, but it isn't setting it correctly\n",
    "#blackTotal[\"Percentage\"].diff().fillna(value=0).copy()"
   ]
  },
  {
   "cell_type": "code",
   "execution_count": 13,
   "metadata": {},
   "outputs": [
    {
     "data": {
      "text/html": [
       "<div>\n",
       "<style>\n",
       "    .dataframe thead tr:only-child th {\n",
       "        text-align: right;\n",
       "    }\n",
       "\n",
       "    .dataframe thead th {\n",
       "        text-align: left;\n",
       "    }\n",
       "\n",
       "    .dataframe tbody tr th {\n",
       "        vertical-align: top;\n",
       "    }\n",
       "</style>\n",
       "<table border=\"1\" class=\"dataframe\">\n",
       "  <thead>\n",
       "    <tr style=\"text-align: right;\">\n",
       "      <th></th>\n",
       "      <th>TransRisk Score</th>\n",
       "      <th>Demographic</th>\n",
       "      <th>Good</th>\n",
       "      <th>Bad</th>\n",
       "      <th>Both</th>\n",
       "    </tr>\n",
       "  </thead>\n",
       "  <tbody>\n",
       "    <tr>\n",
       "      <th>198</th>\n",
       "      <td>0.0</td>\n",
       "      <td>black</td>\n",
       "      <td>0.00</td>\n",
       "      <td>0.00</td>\n",
       "      <td>NaN</td>\n",
       "    </tr>\n",
       "    <tr>\n",
       "      <th>199</th>\n",
       "      <td>0.5</td>\n",
       "      <td>black</td>\n",
       "      <td>0.08</td>\n",
       "      <td>2.06</td>\n",
       "      <td>NaN</td>\n",
       "    </tr>\n",
       "    <tr>\n",
       "      <th>200</th>\n",
       "      <td>1.0</td>\n",
       "      <td>black</td>\n",
       "      <td>0.64</td>\n",
       "      <td>6.58</td>\n",
       "      <td>NaN</td>\n",
       "    </tr>\n",
       "    <tr>\n",
       "      <th>201</th>\n",
       "      <td>1.5</td>\n",
       "      <td>black</td>\n",
       "      <td>0.13</td>\n",
       "      <td>2.00</td>\n",
       "      <td>NaN</td>\n",
       "    </tr>\n",
       "    <tr>\n",
       "      <th>202</th>\n",
       "      <td>2.0</td>\n",
       "      <td>black</td>\n",
       "      <td>0.19</td>\n",
       "      <td>2.50</td>\n",
       "      <td>NaN</td>\n",
       "    </tr>\n",
       "  </tbody>\n",
       "</table>\n",
       "</div>"
      ],
      "text/plain": [
       "     TransRisk Score Demographic  Good   Bad  Both\n",
       "198              0.0       black  0.00  0.00   NaN\n",
       "199              0.5       black  0.08  2.06   NaN\n",
       "200              1.0       black  0.64  6.58   NaN\n",
       "201              1.5       black  0.13  2.00   NaN\n",
       "202              2.0       black  0.19  2.50   NaN"
      ]
     },
     "execution_count": 13,
     "metadata": {},
     "output_type": "execute_result"
    }
   ],
   "source": [
    "blacksEq.head()"
   ]
  },
  {
   "cell_type": "code",
   "execution_count": 14,
   "metadata": {
    "collapsed": true
   },
   "outputs": [],
   "source": [
    "asiansEq[\"Good\"] = asiansEq[\"Good\"].diff().fillna(value=0).copy()\n",
    "asiansEq[\"Bad\"] = asiansEq[\"Bad\"].diff().fillna(value=0).copy()\n",
    "asiansEq[\"Both\"] = asianTotal[\"Percentage\"].diff().fillna(value=0).copy()"
   ]
  },
  {
   "cell_type": "code",
   "execution_count": 15,
   "metadata": {
    "collapsed": true
   },
   "outputs": [],
   "source": [
    "hispanicsEq[\"Good\"] = hispanicsEq[\"Good\"].diff().fillna(value=0).copy()\n",
    "hispanicsEq[\"Bad\"] = hispanicsEq[\"Bad\"].diff().fillna(value=0).copy()\n",
    "hispanicsEq[\"Both\"] = hispanicTotal[\"Percentage\"].diff().fillna(value=0).copy()"
   ]
  },
  {
   "cell_type": "markdown",
   "metadata": {},
   "source": [
    "### Step 3) Calculate the probability using Bayes' Rule"
   ]
  },
  {
   "cell_type": "code",
   "execution_count": 16,
   "metadata": {},
   "outputs": [
    {
     "data": {
      "text/plain": [
       "(0.35000000000000053, 0.14999999999999991, 1.1000000000000014)"
      ]
     },
     "execution_count": 16,
     "metadata": {},
     "output_type": "execute_result"
    }
   ],
   "source": [
    "# Calculating an example of whites just for the transrisk score being 10\n",
    "total = whitesEq.loc[20].Both\n",
    "good = whitesEq.loc[20].Good\n",
    "bad = whitesEq.loc[20].Bad\n",
    "total, good, bad"
   ]
  },
  {
   "cell_type": "code",
   "execution_count": 17,
   "metadata": {},
   "outputs": [
    {
     "data": {
      "text/plain": [
       "0.38828939301042265"
      ]
     },
     "execution_count": 17,
     "metadata": {},
     "output_type": "execute_result"
    }
   ],
   "source": [
    "finalProbability = (pi * good) / ((pi * good) + ((1 - pi)*(bad)))\n",
    "finalProbability"
   ]
  },
  {
   "cell_type": "markdown",
   "metadata": {
    "collapsed": true
   },
   "source": [
    "### Final Step) Calculate Probabilities for all scores / demographics"
   ]
  },
  {
   "cell_type": "code",
   "execution_count": 18,
   "metadata": {
    "collapsed": true
   },
   "outputs": [],
   "source": [
    "def getProbability(data, pi):\n",
    "    probabilities = []\n",
    "    for index, row in data.iterrows():\n",
    "        total = data.loc[index].Both\n",
    "        good = data.loc[index].Good\n",
    "        bad = data.loc[index].Bad\n",
    "        probability = (pi * good) / ((pi * good) + ((1 - pi)*(bad)))\n",
    "        probabilities.append(probability)\n",
    "        series = pd.Series(probabilities).fillna(value=0)\n",
    "    return series"
   ]
  },
  {
   "cell_type": "code",
   "execution_count": 19,
   "metadata": {},
   "outputs": [
    {
     "name": "stderr",
     "output_type": "stream",
     "text": [
      "/Applications/anaconda/lib/python3.6/site-packages/ipykernel_launcher.py:7: RuntimeWarning: invalid value encountered in double_scalars\n",
      "  import sys\n"
     ]
    }
   ],
   "source": [
    "whitesEq[\"Final Probability of Good\"] = getProbability(whitesEq, pi)\n",
    "blacksEq[\"Final Probability of Good\"] = getProbability(blacksEq, pi)\n",
    "asiansEq[\"Final Probability of Good\"] = getProbability(asiansEq, pi)\n",
    "hispanicsEq[\"Final Probability of Good\"] = getProbability(hispanicsEq, pi)"
   ]
  },
  {
   "cell_type": "code",
   "execution_count": 20,
   "metadata": {},
   "outputs": [
    {
     "data": {
      "text/html": [
       "<div>\n",
       "<style>\n",
       "    .dataframe thead tr:only-child th {\n",
       "        text-align: right;\n",
       "    }\n",
       "\n",
       "    .dataframe thead th {\n",
       "        text-align: left;\n",
       "    }\n",
       "\n",
       "    .dataframe tbody tr th {\n",
       "        vertical-align: top;\n",
       "    }\n",
       "</style>\n",
       "<table border=\"1\" class=\"dataframe\">\n",
       "  <thead>\n",
       "    <tr style=\"text-align: right;\">\n",
       "      <th></th>\n",
       "      <th>TransRisk Score</th>\n",
       "      <th>Demographic</th>\n",
       "      <th>Good</th>\n",
       "      <th>Bad</th>\n",
       "      <th>Both</th>\n",
       "      <th>Final Probability of Good</th>\n",
       "    </tr>\n",
       "  </thead>\n",
       "  <tbody>\n",
       "    <tr>\n",
       "      <th>0</th>\n",
       "      <td>0.0</td>\n",
       "      <td>white</td>\n",
       "      <td>0.00</td>\n",
       "      <td>0.00</td>\n",
       "      <td>0.00</td>\n",
       "      <td>0.000000</td>\n",
       "    </tr>\n",
       "    <tr>\n",
       "      <th>1</th>\n",
       "      <td>0.5</td>\n",
       "      <td>white</td>\n",
       "      <td>0.03</td>\n",
       "      <td>1.68</td>\n",
       "      <td>0.25</td>\n",
       "      <td>0.076744</td>\n",
       "    </tr>\n",
       "    <tr>\n",
       "      <th>2</th>\n",
       "      <td>1.0</td>\n",
       "      <td>white</td>\n",
       "      <td>0.19</td>\n",
       "      <td>5.41</td>\n",
       "      <td>0.90</td>\n",
       "      <td>0.140510</td>\n",
       "    </tr>\n",
       "    <tr>\n",
       "      <th>3</th>\n",
       "      <td>1.5</td>\n",
       "      <td>white</td>\n",
       "      <td>0.04</td>\n",
       "      <td>1.59</td>\n",
       "      <td>0.27</td>\n",
       "      <td>0.104829</td>\n",
       "    </tr>\n",
       "    <tr>\n",
       "      <th>4</th>\n",
       "      <td>2.0</td>\n",
       "      <td>white</td>\n",
       "      <td>0.09</td>\n",
       "      <td>1.73</td>\n",
       "      <td>0.37</td>\n",
       "      <td>0.194953</td>\n",
       "    </tr>\n",
       "  </tbody>\n",
       "</table>\n",
       "</div>"
      ],
      "text/plain": [
       "   TransRisk Score Demographic  Good   Bad  Both  Final Probability of Good\n",
       "0              0.0       white  0.00  0.00  0.00                   0.000000\n",
       "1              0.5       white  0.03  1.68  0.25                   0.076744\n",
       "2              1.0       white  0.19  5.41  0.90                   0.140510\n",
       "3              1.5       white  0.04  1.59  0.27                   0.104829\n",
       "4              2.0       white  0.09  1.73  0.37                   0.194953"
      ]
     },
     "execution_count": 20,
     "metadata": {},
     "output_type": "execute_result"
    }
   ],
   "source": [
    "whitesEq.head()"
   ]
  },
  {
   "cell_type": "markdown",
   "metadata": {},
   "source": [
    "*** Encountering a problem where the rest of the demographics aren't correctly calculating the \"Both\" field - unsure how to solve ***"
   ]
  },
  {
   "cell_type": "code",
   "execution_count": 21,
   "metadata": {},
   "outputs": [
    {
     "data": {
      "text/html": [
       "<div>\n",
       "<style>\n",
       "    .dataframe thead tr:only-child th {\n",
       "        text-align: right;\n",
       "    }\n",
       "\n",
       "    .dataframe thead th {\n",
       "        text-align: left;\n",
       "    }\n",
       "\n",
       "    .dataframe tbody tr th {\n",
       "        vertical-align: top;\n",
       "    }\n",
       "</style>\n",
       "<table border=\"1\" class=\"dataframe\">\n",
       "  <thead>\n",
       "    <tr style=\"text-align: right;\">\n",
       "      <th></th>\n",
       "      <th>TransRisk Score</th>\n",
       "      <th>Demographic</th>\n",
       "      <th>Good</th>\n",
       "      <th>Bad</th>\n",
       "      <th>Both</th>\n",
       "      <th>Final Probability of Good</th>\n",
       "    </tr>\n",
       "  </thead>\n",
       "  <tbody>\n",
       "    <tr>\n",
       "      <th>198</th>\n",
       "      <td>0.0</td>\n",
       "      <td>black</td>\n",
       "      <td>0.00</td>\n",
       "      <td>0.00</td>\n",
       "      <td>NaN</td>\n",
       "      <td>NaN</td>\n",
       "    </tr>\n",
       "    <tr>\n",
       "      <th>199</th>\n",
       "      <td>0.5</td>\n",
       "      <td>black</td>\n",
       "      <td>0.08</td>\n",
       "      <td>2.06</td>\n",
       "      <td>NaN</td>\n",
       "      <td>NaN</td>\n",
       "    </tr>\n",
       "    <tr>\n",
       "      <th>200</th>\n",
       "      <td>1.0</td>\n",
       "      <td>black</td>\n",
       "      <td>0.64</td>\n",
       "      <td>6.58</td>\n",
       "      <td>NaN</td>\n",
       "      <td>NaN</td>\n",
       "    </tr>\n",
       "    <tr>\n",
       "      <th>201</th>\n",
       "      <td>1.5</td>\n",
       "      <td>black</td>\n",
       "      <td>0.13</td>\n",
       "      <td>2.00</td>\n",
       "      <td>NaN</td>\n",
       "      <td>NaN</td>\n",
       "    </tr>\n",
       "    <tr>\n",
       "      <th>202</th>\n",
       "      <td>2.0</td>\n",
       "      <td>black</td>\n",
       "      <td>0.19</td>\n",
       "      <td>2.50</td>\n",
       "      <td>NaN</td>\n",
       "      <td>NaN</td>\n",
       "    </tr>\n",
       "  </tbody>\n",
       "</table>\n",
       "</div>"
      ],
      "text/plain": [
       "     TransRisk Score Demographic  Good   Bad  Both  Final Probability of Good\n",
       "198              0.0       black  0.00  0.00   NaN                        NaN\n",
       "199              0.5       black  0.08  2.06   NaN                        NaN\n",
       "200              1.0       black  0.64  6.58   NaN                        NaN\n",
       "201              1.5       black  0.13  2.00   NaN                        NaN\n",
       "202              2.0       black  0.19  2.50   NaN                        NaN"
      ]
     },
     "execution_count": 21,
     "metadata": {},
     "output_type": "execute_result"
    }
   ],
   "source": [
    "blacksEq.head()"
   ]
  },
  {
   "cell_type": "code",
   "execution_count": null,
   "metadata": {
    "collapsed": true
   },
   "outputs": [],
   "source": []
  }
 ],
 "metadata": {
  "kernelspec": {
   "display_name": "Python [default]",
   "language": "python",
   "name": "python3"
  },
  "language_info": {
   "codemirror_mode": {
    "name": "ipython",
    "version": 3
   },
   "file_extension": ".py",
   "mimetype": "text/x-python",
   "name": "python",
   "nbconvert_exporter": "python",
   "pygments_lexer": "ipython3",
   "version": "3.5.2"
  }
 },
 "nbformat": 4,
 "nbformat_minor": 2
}
