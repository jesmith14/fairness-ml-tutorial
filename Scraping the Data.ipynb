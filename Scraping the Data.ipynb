{
 "cells": [
  {
   "cell_type": "markdown",
   "metadata": {},
   "source": [
    "## Notes\n",
    "\n",
    "• All of the following calculations are conditional on race/ethnicity. That is, the calculation described below is carried out separately for each race.\n",
    "\n",
    "• The figures/tables containing the data can be found here:\n",
    "https://www.federalreserve.gov/boarddocs/rptcongress/creditscore/figures.htm.\n",
    "\n",
    "• We will be analyzing\n",
    "- \"Figure_7.A._TransRisk_Score_Cumulative_Percentage_of_Goods_and_Bads,_by_Demographic_Group(Random-Account_Performance)_-_Race_or_ethnicity_(SSA_data)\"\n",
    "- \"Figure 3.A. TransRisk Score: Cumulative Percentage, by Demographic Group (SSA data)\" "
   ]
  },
  {
   "cell_type": "markdown",
   "metadata": {},
   "source": [
    "## Calculations"
   ]
  },
  {
   "cell_type": "code",
   "execution_count": 1,
   "metadata": {
    "collapsed": true
   },
   "outputs": [],
   "source": [
    "import pandas as pd\n",
    "import numpy as np\n",
    "import sys\n",
    "import matplotlib.pyplot as plt\n",
    "totalData = pd.read_csv(\"Figure7A.csv\")\n",
    "CumulativeData = pd.read_csv(\"Figure3A.csv\")"
   ]
  },
  {
   "cell_type": "code",
   "execution_count": 2,
   "metadata": {
    "collapsed": true
   },
   "outputs": [],
   "source": [
    "%matplotlib inline"
   ]
  },
  {
   "cell_type": "markdown",
   "metadata": {},
   "source": [
    "### Step 1) Calculating π\n",
    "Notes: Will be calculating pi for inequality data (cumulative probabilities) and the non-cumulative data, then finding the best value for pi by comparing the means and the pi value at a score of 50 (half way point)"
   ]
  },
  {
   "cell_type": "markdown",
   "metadata": {},
   "source": [
    "*** If I calculate pi with the inequality data: ***"
   ]
  },
  {
   "cell_type": "code",
   "execution_count": 3,
   "metadata": {
    "collapsed": true
   },
   "outputs": [],
   "source": [
    "# Get the dataframe that holds the cumulative percentage, by demographic group\n",
    "def getPD(data, col, raceName):\n",
    "    pd = data[\"Score\"].to_frame(name=\"Score\")\n",
    "    race = np.full(len(data), raceName)\n",
    "    pd[\"Demographic\"] = race\n",
    "    pd[\"Percentage\"] = data[col]\n",
    "    return pd\n",
    "\n",
    "whites = getPD(CumulativeData, \"White\", \"white\")\n",
    "blacks = getPD(CumulativeData, \"Black\", \"black\")\n",
    "asians = getPD(CumulativeData, \"Asian\", \"asian\")\n",
    "hispanics = getPD(CumulativeData, \"Hispanic\", \"hispanic\")\n",
    "pds = [whites, blacks, asians, hispanics]\n",
    "cumulative = pd.concat(pds)"
   ]
  },
  {
   "cell_type": "code",
   "execution_count": 4,
   "metadata": {
    "collapsed": true
   },
   "outputs": [],
   "source": [
    "def getPis(dataset, raceSet, goodName, badName):\n",
    "    good = dataset.set_index(\"Score\")[goodName]\n",
    "    bad = dataset.set_index(\"Score\")[badName]\n",
    "    total = raceSet.set_index(\"Score\").Percentage\n",
    "    return ((total - bad) / (good - bad)).fillna(value=0)"
   ]
  },
  {
   "cell_type": "code",
   "execution_count": 5,
   "metadata": {
    "collapsed": true
   },
   "outputs": [],
   "source": [
    "asianPi = getPis(totalData, asians, \"Asian (Good)\", \"Asian (Bad)\")\n",
    "whitePi = getPis(totalData, whites, \"White (Good)\", \"White (Bad)\")\n",
    "blackPi = getPis(totalData, blacks, \"Black (Good)\", \"Black (Bad)\")\n",
    "hispanicPi = getPis(totalData, hispanics, \"Hispanic (Good)\", \"Hispanic (Bad)\")"
   ]
  },
  {
   "cell_type": "code",
   "execution_count": 6,
   "metadata": {},
   "outputs": [
    {
     "data": {
      "text/plain": [
       "[<matplotlib.lines.Line2D at 0x11b91ecc0>]"
      ]
     },
     "execution_count": 6,
     "metadata": {},
     "output_type": "execute_result"
    },
    {
     "data": {
      "image/png": "[encoded data removed]",
      "text/plain": [
       "<matplotlib.figure.Figure at 0x10fb632b0>"
      ]
     },
     "metadata": {},
     "output_type": "display_data"
    }
   ],
   "source": [
    "#pi with inequality values\n",
    "plt.plot(asianPi)\n",
    "plt.plot(whitePi)\n",
    "plt.plot(hispanicPi)\n",
    "plt.plot(blackPi)"
   ]
  },
  {
   "cell_type": "code",
   "execution_count": 7,
   "metadata": {},
   "outputs": [
    {
     "data": {
      "text/plain": [
       "(0.7778627963889763,\n",
       " 0.7331253694683577,\n",
       " 0.5407805362887502,\n",
       " 0.32228162064873733)"
      ]
     },
     "execution_count": 7,
     "metadata": {},
     "output_type": "execute_result"
    }
   ],
   "source": [
    "#pi for each demographic if I choose the mean value with inequalites\n",
    "asianPi.mean(), whitePi.mean(), hispanicPi.mean(), blackPi.mean()"
   ]
  },
  {
   "cell_type": "code",
   "execution_count": 8,
   "metadata": {},
   "outputs": [
    {
     "data": {
      "text/plain": [
       "(0.78271983640081788,\n",
       " 0.72788697788697787,\n",
       " 0.53443983402489637,\n",
       " 0.31168177240684786)"
      ]
     },
     "execution_count": 8,
     "metadata": {},
     "output_type": "execute_result"
    }
   ],
   "source": [
    "#pi for each demographic if I choose the value at score 50 with inequalities\n",
    "asianPi[50], whitePi[50], hispanicPi[50], blackPi[50]"
   ]
  },
  {
   "cell_type": "markdown",
   "metadata": {},
   "source": [
    "*** If I calculate pi with the non-cumulative data ***"
   ]
  },
  {
   "cell_type": "code",
   "execution_count": 9,
   "metadata": {
    "collapsed": true
   },
   "outputs": [],
   "source": [
    "def getPisNonCumulative(dataset, raceSet, goodName, badName):\n",
    "    good = dataset.set_index(\"Score\")[goodName].diff().fillna(value=0)\n",
    "    bad = dataset.set_index(\"Score\")[badName].diff().fillna(value=0)\n",
    "    total = raceSet.set_index(\"Score\")[\"Percentage\"].diff().fillna(value=0)\n",
    "    return ((total - bad) / (good - bad)).fillna(value=0)"
   ]
  },
  {
   "cell_type": "code",
   "execution_count": 10,
   "metadata": {
    "collapsed": true
   },
   "outputs": [],
   "source": [
    "whitePiTwo = getPisNonCumulative(totalData, whites, \"White (Good)\", \"White (Bad)\")\n",
    "blackPiTwo = getPisNonCumulative(totalData, blacks, \"Black (Good)\", \"Black (Bad)\")\n",
    "asianPiTwo = getPisNonCumulative(totalData, asians, \"Asian (Good)\", \"Asian (Bad)\")\n",
    "hispanicPiTwo = getPisNonCumulative(totalData, hispanics, \"Hispanic (Good)\", \"Hispanic (Bad)\")"
   ]
  },
  {
   "cell_type": "code",
   "execution_count": 11,
   "metadata": {},
   "outputs": [
    {
     "data": {
      "text/plain": [
       "Score\n",
       "30.0    5.945946e-01\n",
       "30.5    6.451613e-01\n",
       "31.0    5.882353e-01\n",
       "31.5    5.238095e-01\n",
       "32.0    5.000000e-01\n",
       "32.5    6.000000e-01\n",
       "33.0    5.294118e-01\n",
       "33.5    2.368476e-13\n",
       "34.0    5.555556e-01\n",
       "34.5   -1.184238e-13\n",
       "35.0    5.000000e-01\n",
       "35.5    5.000000e-01\n",
       "36.0    1.500000e+00\n",
       "36.5    1.000000e+00\n",
       "37.0    1.058824e+00\n",
       "37.5    2.000000e+00\n",
       "38.0    1.166667e+00\n",
       "38.5    1.000000e+00\n",
       "39.0   -4.000000e+00\n",
       "39.5   -1.608428e+12\n",
       "40.0    1.100000e+00\n",
       "dtype: float64"
      ]
     },
     "execution_count": 11,
     "metadata": {},
     "output_type": "execute_result"
    }
   ],
   "source": [
    "whitePiTwo[30:40]"
   ]
  },
  {
   "cell_type": "code",
   "execution_count": 12,
   "metadata": {},
   "outputs": [
    {
     "data": {
      "text/plain": [
       "[<matplotlib.lines.Line2D at 0x11b9bbe48>]"
      ]
     },
     "execution_count": 12,
     "metadata": {},
     "output_type": "execute_result"
    },
    {
     "data": {
      "image/png": "[encoded data removed]",
      "text/plain": [
       "<matplotlib.figure.Figure at 0x11b951128>"
      ]
     },
     "metadata": {},
     "output_type": "display_data"
    }
   ],
   "source": [
    "#pi with equality values (all of the plots are a little bit weird for this one because there are negative diff values\n",
    "#and rounding error for the whitePiTwo)\n",
    "# plt.plot(blackPiTwo)\n",
    "# plt.plot(asianPiTwo)\n",
    "plt.plot(whitePiTwo)\n",
    "# plt.plot(hispanicPiTwo)"
   ]
  },
  {
   "cell_type": "code",
   "execution_count": 13,
   "metadata": {},
   "outputs": [
    {
     "data": {
      "text/plain": [
       "(-8123375950.528774,\n",
       " 0.32642509048604285,\n",
       " 0.7913702820010068,\n",
       " 0.5063311172908808)"
      ]
     },
     "execution_count": 13,
     "metadata": {},
     "output_type": "execute_result"
    }
   ],
   "source": [
    "#value of pi for non cumulative data with mean values\n",
    "whitePiTwo.mean(), blackPiTwo.mean(), asianPiTwo.mean(), hispanicPiTwo.mean()"
   ]
  },
  {
   "cell_type": "code",
   "execution_count": 14,
   "metadata": {},
   "outputs": [
    {
     "data": {
      "text/plain": [
       "(0.77551020408163152,\n",
       " 0.29896907216495305,\n",
       " 0.80645161290323375,\n",
       " 0.54545454545453709)"
      ]
     },
     "execution_count": 14,
     "metadata": {},
     "output_type": "execute_result"
    }
   ],
   "source": [
    "#value of pi for non cumulative data with selecting score of 50\n",
    "whitePiTwo[50], blackPiTwo[50], asianPiTwo[50], hispanicPiTwo[50]"
   ]
  },
  {
   "cell_type": "code",
   "execution_count": 15,
   "metadata": {},
   "outputs": [
    {
     "data": {
      "text/plain": [
       "(0.77551020408163152,\n",
       " 0.72788697788697787,\n",
       " 0.29896907216495305,\n",
       " 0.31168177240684786,\n",
       " 0.80645161290323375,\n",
       " 0.78271983640081788,\n",
       " 0.54545454545453709,\n",
       " 0.53443983402489637)"
      ]
     },
     "execution_count": 15,
     "metadata": {},
     "output_type": "execute_result"
    }
   ],
   "source": [
    "# comparing pi values to find the best ones with a score of 50:\n",
    "whitePiTwo[50], whitePi[50], blackPiTwo[50], blackPi[50], asianPiTwo[50], asianPi[50], hispanicPiTwo[50], hispanicPi[50]"
   ]
  },
  {
   "cell_type": "code",
   "execution_count": 16,
   "metadata": {},
   "outputs": [
    {
     "data": {
      "text/plain": [
       "(-8123375950.528774,\n",
       " 0.7331253694683577,\n",
       " 0.32642509048604285,\n",
       " 0.32228162064873733,\n",
       " 0.7913702820010068,\n",
       " 0.7778627963889763,\n",
       " 0.5063311172908808,\n",
       " 0.5407805362887502)"
      ]
     },
     "execution_count": 16,
     "metadata": {},
     "output_type": "execute_result"
    }
   ],
   "source": [
    "# comparing pi values to find the best ones using the mean value\n",
    "whitePiTwo.mean(), whitePi.mean(), blackPiTwo.mean(), blackPi.mean(), asianPiTwo.mean(), asianPi.mean(), hispanicPiTwo.mean(), hispanicPi.mean()"
   ]
  },
  {
   "cell_type": "markdown",
   "metadata": {},
   "source": [
    "*** Interpretations.... ***\n",
    "Since the mean values are not as closely linked, and there is the descrepancy in the white values, I'm going to use the transrisk score of 50 value for pi. It seems that pi is greater using the non-cumulative data rather than the cumulative data, (except for the black demographic). I'm going to use the non-cumulative data for now and see if that yeilds good results."
   ]
  },
  {
   "cell_type": "markdown",
   "metadata": {},
   "source": [
    "### Step 3) Calculate the probability using Bayes' Rule"
   ]
  },
  {
   "cell_type": "code",
   "execution_count": 17,
   "metadata": {
    "collapsed": true
   },
   "outputs": [],
   "source": [
    "piWhite = whitePiTwo[50]\n",
    "piBlack = blackPiTwo[50]\n",
    "piAsian = asianPiTwo[50]\n",
    "piHispanic = hispanicPiTwo[50]"
   ]
  },
  {
   "cell_type": "markdown",
   "metadata": {},
   "source": [
    "## Here is where the pi values come from for the tutorial (ProbGoodGivenRace)\n",
    "\n",
    "Here pis = P(good | race)"
   ]
  },
  {
   "cell_type": "code",
   "execution_count": 18,
   "metadata": {
    "collapsed": true
   },
   "outputs": [],
   "source": [
    "# pis = [piWhite, piBlack, piHispanic, piAsian]"
   ]
  },
  {
   "cell_type": "code",
   "execution_count": 19,
   "metadata": {
    "collapsed": true
   },
   "outputs": [],
   "source": [
    "pis = [0.759185,0.315164,0.550595,0.80066]"
   ]
  },
  {
   "cell_type": "code",
   "execution_count": 20,
   "metadata": {
    "collapsed": true
   },
   "outputs": [],
   "source": [
    "piProb = pd.DataFrame(data=[pis], columns=['white', 'black', 'hispanic', 'asian'])"
   ]
  },
  {
   "cell_type": "code",
   "execution_count": 21,
   "metadata": {
    "collapsed": true
   },
   "outputs": [],
   "source": [
    "piProb.set_index(\"white\").to_csv(\"ProbGoodGivenRace.csv\")"
   ]
  },
  {
   "cell_type": "code",
   "execution_count": 22,
   "metadata": {
    "collapsed": true
   },
   "outputs": [],
   "source": [
    "def getProbability(dataset, raceSet, goodName, badName, pi):\n",
    "    good = dataset.set_index(\"Score\")[goodName].diff().fillna(value=0)\n",
    "    bad = dataset.set_index(\"Score\")[badName].diff().fillna(value=0)\n",
    "    total = raceSet.set_index(\"Score\")[\"Percentage\"].diff().fillna(value=0)\n",
    "    finalProbability = (pi * good) / ((pi * good) + ((1 - pi)*(bad)))\n",
    "    return finalProbability"
   ]
  },
  {
   "cell_type": "code",
   "execution_count": 23,
   "metadata": {
    "collapsed": true
   },
   "outputs": [],
   "source": [
    "whiteProb = getProbability(totalData, whites, \"White (Good)\", \"White (Bad)\", piWhite).fillna(value=0)\n",
    "blackProb = getProbability(totalData, blacks, \"Black (Good)\", \"Black (Bad)\", piBlack).fillna(value=0)\n",
    "asianProb = getProbability(totalData, blacks, \"Asian (Good)\", \"Asian (Bad)\", piAsian).fillna(value=0)\n",
    "hispanicProb = getProbability(totalData, hispanics, \"Hispanic (Good)\", \"Hispanic (Bad)\", piHispanic).fillna(value=0)"
   ]
  },
  {
   "cell_type": "code",
   "execution_count": 24,
   "metadata": {},
   "outputs": [
    {
     "data": {
      "text/plain": [
       "[<matplotlib.lines.Line2D at 0x11bb0ebe0>]"
      ]
     },
     "execution_count": 24,
     "metadata": {},
     "output_type": "execute_result"
    },
    {
     "data": {
      "image/png": "[encoded data removed]",
      "text/plain": [
       "<matplotlib.figure.Figure at 0x11ba72940>"
      ]
     },
     "metadata": {},
     "output_type": "display_data"
    }
   ],
   "source": [
    "plt.plot(whiteProb)\n",
    "plt.plot(blackProb)\n",
    "plt.plot(asianProb)\n",
    "plt.plot(hispanicProb)"
   ]
  },
  {
   "cell_type": "code",
   "execution_count": 25,
   "metadata": {
    "collapsed": true
   },
   "outputs": [],
   "source": [
    "newData = pd.DataFrame(index=totalData.set_index(\"Score\").index)\n",
    "newData.index.names = [\"TransRisk Score\"]\n",
    "newData[\"white\"] = whiteProb\n",
    "newData[\"black\"] = blackProb\n",
    "newData[\"hispanic\"] = hispanicProb\n",
    "newData[\"asian\"] = asianProb\n",
    "# newData.to_csv(\"ProbOfBeingGood.csv\")"
   ]
  },
  {
   "cell_type": "markdown",
   "metadata": {},
   "source": [
    "# Here is where you got the NonCumulativeProbabilities.csv - this is the same data. Calculations are from the email on April 8th"
   ]
  },
  {
   "cell_type": "code",
   "execution_count": 26,
   "metadata": {
    "collapsed": true
   },
   "outputs": [],
   "source": [
    "newData['white (bad)'] = (1 - newData['white'])\n",
    "newData['black (bad)'] = (1 - newData['black'])\n",
    "newData['hispanic (bad)'] = (1 - newData['hispanic'])\n",
    "newData['asian (bad)'] = (1 - newData['asian'])"
   ]
  },
  {
   "cell_type": "code",
   "execution_count": 27,
   "metadata": {},
   "outputs": [
    {
     "data": {
      "text/html": [
       "<div>\n",
       "<style>\n",
       "    .dataframe thead tr:only-child th {\n",
       "        text-align: right;\n",
       "    }\n",
       "\n",
       "    .dataframe thead th {\n",
       "        text-align: left;\n",
       "    }\n",
       "\n",
       "    .dataframe tbody tr th {\n",
       "        vertical-align: top;\n",
       "    }\n",
       "</style>\n",
       "<table border=\"1\" class=\"dataframe\">\n",
       "  <thead>\n",
       "    <tr style=\"text-align: right;\">\n",
       "      <th></th>\n",
       "      <th>white</th>\n",
       "      <th>white (bad)</th>\n",
       "      <th>black</th>\n",
       "      <th>black (bad)</th>\n",
       "      <th>hispanic</th>\n",
       "      <th>hispanic (bad)</th>\n",
       "      <th>asian</th>\n",
       "      <th>asian (bad)</th>\n",
       "    </tr>\n",
       "    <tr>\n",
       "      <th>TransRisk Score</th>\n",
       "      <th></th>\n",
       "      <th></th>\n",
       "      <th></th>\n",
       "      <th></th>\n",
       "      <th></th>\n",
       "      <th></th>\n",
       "      <th></th>\n",
       "      <th></th>\n",
       "    </tr>\n",
       "  </thead>\n",
       "  <tbody>\n",
       "    <tr>\n",
       "      <th>0.0</th>\n",
       "      <td>0.000000</td>\n",
       "      <td>1.000000</td>\n",
       "      <td>0.000000</td>\n",
       "      <td>1.000000</td>\n",
       "      <td>0.000000</td>\n",
       "      <td>1.000000</td>\n",
       "      <td>0.000000</td>\n",
       "      <td>1.000000</td>\n",
       "    </tr>\n",
       "    <tr>\n",
       "      <th>0.5</th>\n",
       "      <td>0.000000</td>\n",
       "      <td>1.000000</td>\n",
       "      <td>0.004516</td>\n",
       "      <td>0.995484</td>\n",
       "      <td>0.020619</td>\n",
       "      <td>0.979381</td>\n",
       "      <td>0.000000</td>\n",
       "      <td>1.000000</td>\n",
       "    </tr>\n",
       "    <tr>\n",
       "      <th>1.0</th>\n",
       "      <td>0.025629</td>\n",
       "      <td>0.974371</td>\n",
       "      <td>0.021857</td>\n",
       "      <td>0.978143</td>\n",
       "      <td>0.011168</td>\n",
       "      <td>0.988832</td>\n",
       "      <td>0.060680</td>\n",
       "      <td>0.939320</td>\n",
       "    </tr>\n",
       "    <tr>\n",
       "      <th>1.5</th>\n",
       "      <td>0.027318</td>\n",
       "      <td>0.972682</td>\n",
       "      <td>0.018501</td>\n",
       "      <td>0.981499</td>\n",
       "      <td>0.000000</td>\n",
       "      <td>1.000000</td>\n",
       "      <td>0.000000</td>\n",
       "      <td>1.000000</td>\n",
       "    </tr>\n",
       "    <tr>\n",
       "      <th>2.0</th>\n",
       "      <td>0.042152</td>\n",
       "      <td>0.957848</td>\n",
       "      <td>0.020513</td>\n",
       "      <td>0.979487</td>\n",
       "      <td>0.025424</td>\n",
       "      <td>0.974576</td>\n",
       "      <td>0.104603</td>\n",
       "      <td>0.895397</td>\n",
       "    </tr>\n",
       "    <tr>\n",
       "      <th>2.5</th>\n",
       "      <td>0.053597</td>\n",
       "      <td>0.946403</td>\n",
       "      <td>0.020335</td>\n",
       "      <td>0.979665</td>\n",
       "      <td>0.050992</td>\n",
       "      <td>0.949008</td>\n",
       "      <td>0.000000</td>\n",
       "      <td>1.000000</td>\n",
       "    </tr>\n",
       "    <tr>\n",
       "      <th>3.0</th>\n",
       "      <td>0.051724</td>\n",
       "      <td>0.948276</td>\n",
       "      <td>0.035758</td>\n",
       "      <td>0.964242</td>\n",
       "      <td>0.028892</td>\n",
       "      <td>0.971108</td>\n",
       "      <td>0.023518</td>\n",
       "      <td>0.976482</td>\n",
       "    </tr>\n",
       "    <tr>\n",
       "      <th>3.5</th>\n",
       "      <td>0.059098</td>\n",
       "      <td>0.940902</td>\n",
       "      <td>0.023144</td>\n",
       "      <td>0.976856</td>\n",
       "      <td>0.106548</td>\n",
       "      <td>0.893452</td>\n",
       "      <td>0.023127</td>\n",
       "      <td>0.976873</td>\n",
       "    </tr>\n",
       "    <tr>\n",
       "      <th>4.0</th>\n",
       "      <td>0.055910</td>\n",
       "      <td>0.944090</td>\n",
       "      <td>0.012711</td>\n",
       "      <td>0.987289</td>\n",
       "      <td>0.030612</td>\n",
       "      <td>0.969388</td>\n",
       "      <td>0.087719</td>\n",
       "      <td>0.912281</td>\n",
       "    </tr>\n",
       "    <tr>\n",
       "      <th>4.5</th>\n",
       "      <td>0.054441</td>\n",
       "      <td>0.945559</td>\n",
       "      <td>0.019016</td>\n",
       "      <td>0.980984</td>\n",
       "      <td>0.080000</td>\n",
       "      <td>0.920000</td>\n",
       "      <td>0.072886</td>\n",
       "      <td>0.927114</td>\n",
       "    </tr>\n",
       "    <tr>\n",
       "      <th>5.0</th>\n",
       "      <td>0.085696</td>\n",
       "      <td>0.914304</td>\n",
       "      <td>0.031845</td>\n",
       "      <td>0.968155</td>\n",
       "      <td>0.035317</td>\n",
       "      <td>0.964683</td>\n",
       "      <td>0.046904</td>\n",
       "      <td>0.953096</td>\n",
       "    </tr>\n",
       "    <tr>\n",
       "      <th>5.5</th>\n",
       "      <td>0.092645</td>\n",
       "      <td>0.907355</td>\n",
       "      <td>0.045526</td>\n",
       "      <td>0.954474</td>\n",
       "      <td>0.064171</td>\n",
       "      <td>0.935829</td>\n",
       "      <td>0.078370</td>\n",
       "      <td>0.921630</td>\n",
       "    </tr>\n",
       "    <tr>\n",
       "      <th>6.0</th>\n",
       "      <td>0.086824</td>\n",
       "      <td>0.913176</td>\n",
       "      <td>0.034905</td>\n",
       "      <td>0.965095</td>\n",
       "      <td>0.068323</td>\n",
       "      <td>0.931677</td>\n",
       "      <td>0.174216</td>\n",
       "      <td>0.825784</td>\n",
       "    </tr>\n",
       "    <tr>\n",
       "      <th>6.5</th>\n",
       "      <td>0.059608</td>\n",
       "      <td>0.940392</td>\n",
       "      <td>0.031404</td>\n",
       "      <td>0.968596</td>\n",
       "      <td>0.051724</td>\n",
       "      <td>0.948276</td>\n",
       "      <td>0.254582</td>\n",
       "      <td>0.745418</td>\n",
       "    </tr>\n",
       "    <tr>\n",
       "      <th>7.0</th>\n",
       "      <td>0.118288</td>\n",
       "      <td>0.881712</td>\n",
       "      <td>0.043205</td>\n",
       "      <td>0.956795</td>\n",
       "      <td>0.074650</td>\n",
       "      <td>0.925350</td>\n",
       "      <td>0.135428</td>\n",
       "      <td>0.864572</td>\n",
       "    </tr>\n",
       "    <tr>\n",
       "      <th>7.5</th>\n",
       "      <td>0.072038</td>\n",
       "      <td>0.927962</td>\n",
       "      <td>0.079255</td>\n",
       "      <td>0.920745</td>\n",
       "      <td>0.071146</td>\n",
       "      <td>0.928854</td>\n",
       "      <td>0.079365</td>\n",
       "      <td>0.920635</td>\n",
       "    </tr>\n",
       "    <tr>\n",
       "      <th>8.0</th>\n",
       "      <td>0.123262</td>\n",
       "      <td>0.876738</td>\n",
       "      <td>0.039945</td>\n",
       "      <td>0.960055</td>\n",
       "      <td>0.101124</td>\n",
       "      <td>0.898876</td>\n",
       "      <td>0.162973</td>\n",
       "      <td>0.837027</td>\n",
       "    </tr>\n",
       "    <tr>\n",
       "      <th>8.5</th>\n",
       "      <td>0.080423</td>\n",
       "      <td>0.919577</td>\n",
       "      <td>0.037323</td>\n",
       "      <td>0.962677</td>\n",
       "      <td>0.218415</td>\n",
       "      <td>0.781585</td>\n",
       "      <td>0.000000</td>\n",
       "      <td>1.000000</td>\n",
       "    </tr>\n",
       "    <tr>\n",
       "      <th>9.0</th>\n",
       "      <td>0.107269</td>\n",
       "      <td>0.892731</td>\n",
       "      <td>0.041433</td>\n",
       "      <td>0.958567</td>\n",
       "      <td>0.113208</td>\n",
       "      <td>0.886792</td>\n",
       "      <td>0.193199</td>\n",
       "      <td>0.806801</td>\n",
       "    </tr>\n",
       "    <tr>\n",
       "      <th>9.5</th>\n",
       "      <td>0.137060</td>\n",
       "      <td>0.862940</td>\n",
       "      <td>0.052387</td>\n",
       "      <td>0.947613</td>\n",
       "      <td>0.056162</td>\n",
       "      <td>0.943838</td>\n",
       "      <td>0.390625</td>\n",
       "      <td>0.609375</td>\n",
       "    </tr>\n",
       "    <tr>\n",
       "      <th>10.0</th>\n",
       "      <td>0.170077</td>\n",
       "      <td>0.829923</td>\n",
       "      <td>0.078591</td>\n",
       "      <td>0.921409</td>\n",
       "      <td>0.064417</td>\n",
       "      <td>0.935583</td>\n",
       "      <td>0.082237</td>\n",
       "      <td>0.917763</td>\n",
       "    </tr>\n",
       "    <tr>\n",
       "      <th>10.5</th>\n",
       "      <td>0.168889</td>\n",
       "      <td>0.831111</td>\n",
       "      <td>0.081450</td>\n",
       "      <td>0.918550</td>\n",
       "      <td>0.123134</td>\n",
       "      <td>0.876866</td>\n",
       "      <td>0.075529</td>\n",
       "      <td>0.924471</td>\n",
       "    </tr>\n",
       "    <tr>\n",
       "      <th>11.0</th>\n",
       "      <td>0.149103</td>\n",
       "      <td>0.850897</td>\n",
       "      <td>0.072186</td>\n",
       "      <td>0.927814</td>\n",
       "      <td>0.125000</td>\n",
       "      <td>0.875000</td>\n",
       "      <td>0.134305</td>\n",
       "      <td>0.865695</td>\n",
       "    </tr>\n",
       "    <tr>\n",
       "      <th>11.5</th>\n",
       "      <td>0.123137</td>\n",
       "      <td>0.876863</td>\n",
       "      <td>0.054491</td>\n",
       "      <td>0.945509</td>\n",
       "      <td>0.085174</td>\n",
       "      <td>0.914826</td>\n",
       "      <td>0.104603</td>\n",
       "      <td>0.895397</td>\n",
       "    </tr>\n",
       "    <tr>\n",
       "      <th>12.0</th>\n",
       "      <td>0.129604</td>\n",
       "      <td>0.870396</td>\n",
       "      <td>0.075626</td>\n",
       "      <td>0.924374</td>\n",
       "      <td>0.091255</td>\n",
       "      <td>0.908745</td>\n",
       "      <td>0.088339</td>\n",
       "      <td>0.911661</td>\n",
       "    </tr>\n",
       "    <tr>\n",
       "      <th>12.5</th>\n",
       "      <td>0.183464</td>\n",
       "      <td>0.816536</td>\n",
       "      <td>0.114768</td>\n",
       "      <td>0.885232</td>\n",
       "      <td>0.139535</td>\n",
       "      <td>0.860465</td>\n",
       "      <td>0.187970</td>\n",
       "      <td>0.812030</td>\n",
       "    </tr>\n",
       "    <tr>\n",
       "      <th>13.0</th>\n",
       "      <td>0.177570</td>\n",
       "      <td>0.822430</td>\n",
       "      <td>0.089958</td>\n",
       "      <td>0.910042</td>\n",
       "      <td>0.194670</td>\n",
       "      <td>0.805330</td>\n",
       "      <td>0.268293</td>\n",
       "      <td>0.731707</td>\n",
       "    </tr>\n",
       "    <tr>\n",
       "      <th>13.5</th>\n",
       "      <td>0.153846</td>\n",
       "      <td>0.846154</td>\n",
       "      <td>0.113165</td>\n",
       "      <td>0.886835</td>\n",
       "      <td>0.090909</td>\n",
       "      <td>0.909091</td>\n",
       "      <td>0.125628</td>\n",
       "      <td>0.874372</td>\n",
       "    </tr>\n",
       "    <tr>\n",
       "      <th>14.0</th>\n",
       "      <td>0.151596</td>\n",
       "      <td>0.848404</td>\n",
       "      <td>0.123434</td>\n",
       "      <td>0.876566</td>\n",
       "      <td>0.104803</td>\n",
       "      <td>0.895197</td>\n",
       "      <td>0.069252</td>\n",
       "      <td>0.930748</td>\n",
       "    </tr>\n",
       "    <tr>\n",
       "      <th>14.5</th>\n",
       "      <td>0.147287</td>\n",
       "      <td>0.852713</td>\n",
       "      <td>0.139241</td>\n",
       "      <td>0.860759</td>\n",
       "      <td>0.112903</td>\n",
       "      <td>0.887097</td>\n",
       "      <td>0.232558</td>\n",
       "      <td>0.767442</td>\n",
       "    </tr>\n",
       "    <tr>\n",
       "      <th>...</th>\n",
       "      <td>...</td>\n",
       "      <td>...</td>\n",
       "      <td>...</td>\n",
       "      <td>...</td>\n",
       "      <td>...</td>\n",
       "      <td>...</td>\n",
       "      <td>...</td>\n",
       "      <td>...</td>\n",
       "    </tr>\n",
       "    <tr>\n",
       "      <th>85.0</th>\n",
       "      <td>0.982759</td>\n",
       "      <td>0.017241</td>\n",
       "      <td>1.000000</td>\n",
       "      <td>0.000000</td>\n",
       "      <td>1.000000</td>\n",
       "      <td>0.000000</td>\n",
       "      <td>0.990676</td>\n",
       "      <td>0.009324</td>\n",
       "    </tr>\n",
       "    <tr>\n",
       "      <th>85.5</th>\n",
       "      <td>0.987204</td>\n",
       "      <td>0.012796</td>\n",
       "      <td>0.963558</td>\n",
       "      <td>0.036442</td>\n",
       "      <td>0.989154</td>\n",
       "      <td>0.010846</td>\n",
       "      <td>0.997453</td>\n",
       "      <td>0.002547</td>\n",
       "    </tr>\n",
       "    <tr>\n",
       "      <th>86.0</th>\n",
       "      <td>0.992725</td>\n",
       "      <td>0.007275</td>\n",
       "      <td>0.931727</td>\n",
       "      <td>0.068273</td>\n",
       "      <td>1.000000</td>\n",
       "      <td>0.000000</td>\n",
       "      <td>0.966184</td>\n",
       "      <td>0.033816</td>\n",
       "    </tr>\n",
       "    <tr>\n",
       "      <th>86.5</th>\n",
       "      <td>0.987703</td>\n",
       "      <td>0.012297</td>\n",
       "      <td>1.000000</td>\n",
       "      <td>0.000000</td>\n",
       "      <td>0.937965</td>\n",
       "      <td>0.062035</td>\n",
       "      <td>1.000000</td>\n",
       "      <td>0.000000</td>\n",
       "    </tr>\n",
       "    <tr>\n",
       "      <th>87.0</th>\n",
       "      <td>0.979742</td>\n",
       "      <td>0.020258</td>\n",
       "      <td>0.925193</td>\n",
       "      <td>0.074807</td>\n",
       "      <td>1.000000</td>\n",
       "      <td>0.000000</td>\n",
       "      <td>0.994318</td>\n",
       "      <td>0.005682</td>\n",
       "    </tr>\n",
       "    <tr>\n",
       "      <th>87.5</th>\n",
       "      <td>0.992306</td>\n",
       "      <td>0.007694</td>\n",
       "      <td>0.864811</td>\n",
       "      <td>0.135189</td>\n",
       "      <td>1.000000</td>\n",
       "      <td>0.000000</td>\n",
       "      <td>1.000000</td>\n",
       "      <td>0.000000</td>\n",
       "    </tr>\n",
       "    <tr>\n",
       "      <th>88.0</th>\n",
       "      <td>0.984729</td>\n",
       "      <td>0.015271</td>\n",
       "      <td>1.000000</td>\n",
       "      <td>0.000000</td>\n",
       "      <td>0.943820</td>\n",
       "      <td>0.056180</td>\n",
       "      <td>1.000000</td>\n",
       "      <td>0.000000</td>\n",
       "    </tr>\n",
       "    <tr>\n",
       "      <th>88.5</th>\n",
       "      <td>0.979563</td>\n",
       "      <td>0.020437</td>\n",
       "      <td>0.887510</td>\n",
       "      <td>0.112490</td>\n",
       "      <td>0.935065</td>\n",
       "      <td>0.064935</td>\n",
       "      <td>0.977654</td>\n",
       "      <td>0.022346</td>\n",
       "    </tr>\n",
       "    <tr>\n",
       "      <th>89.0</th>\n",
       "      <td>0.986187</td>\n",
       "      <td>0.013813</td>\n",
       "      <td>0.890145</td>\n",
       "      <td>0.109855</td>\n",
       "      <td>1.000000</td>\n",
       "      <td>0.000000</td>\n",
       "      <td>0.995807</td>\n",
       "      <td>0.004193</td>\n",
       "    </tr>\n",
       "    <tr>\n",
       "      <th>89.5</th>\n",
       "      <td>0.988989</td>\n",
       "      <td>0.011011</td>\n",
       "      <td>0.897358</td>\n",
       "      <td>0.102642</td>\n",
       "      <td>0.957265</td>\n",
       "      <td>0.042735</td>\n",
       "      <td>0.964392</td>\n",
       "      <td>0.035608</td>\n",
       "    </tr>\n",
       "    <tr>\n",
       "      <th>90.0</th>\n",
       "      <td>0.987390</td>\n",
       "      <td>0.012610</td>\n",
       "      <td>0.895062</td>\n",
       "      <td>0.104938</td>\n",
       "      <td>1.000000</td>\n",
       "      <td>0.000000</td>\n",
       "      <td>0.995025</td>\n",
       "      <td>0.004975</td>\n",
       "    </tr>\n",
       "    <tr>\n",
       "      <th>90.5</th>\n",
       "      <td>0.978541</td>\n",
       "      <td>0.021459</td>\n",
       "      <td>0.824289</td>\n",
       "      <td>0.175711</td>\n",
       "      <td>0.955752</td>\n",
       "      <td>0.044248</td>\n",
       "      <td>0.995575</td>\n",
       "      <td>0.004425</td>\n",
       "    </tr>\n",
       "    <tr>\n",
       "      <th>91.0</th>\n",
       "      <td>0.972534</td>\n",
       "      <td>0.027466</td>\n",
       "      <td>1.000000</td>\n",
       "      <td>0.000000</td>\n",
       "      <td>1.000000</td>\n",
       "      <td>0.000000</td>\n",
       "      <td>1.000000</td>\n",
       "      <td>0.000000</td>\n",
       "    </tr>\n",
       "    <tr>\n",
       "      <th>91.5</th>\n",
       "      <td>0.982759</td>\n",
       "      <td>0.017241</td>\n",
       "      <td>1.000000</td>\n",
       "      <td>0.000000</td>\n",
       "      <td>1.000000</td>\n",
       "      <td>0.000000</td>\n",
       "      <td>1.000000</td>\n",
       "      <td>0.000000</td>\n",
       "    </tr>\n",
       "    <tr>\n",
       "      <th>92.0</th>\n",
       "      <td>0.985298</td>\n",
       "      <td>0.014702</td>\n",
       "      <td>0.944625</td>\n",
       "      <td>0.055375</td>\n",
       "      <td>0.982578</td>\n",
       "      <td>0.017422</td>\n",
       "      <td>0.992887</td>\n",
       "      <td>0.007113</td>\n",
       "    </tr>\n",
       "    <tr>\n",
       "      <th>93.0</th>\n",
       "      <td>0.987571</td>\n",
       "      <td>0.012429</td>\n",
       "      <td>1.000000</td>\n",
       "      <td>0.000000</td>\n",
       "      <td>1.000000</td>\n",
       "      <td>0.000000</td>\n",
       "      <td>0.970320</td>\n",
       "      <td>0.029680</td>\n",
       "    </tr>\n",
       "    <tr>\n",
       "      <th>93.5</th>\n",
       "      <td>0.987676</td>\n",
       "      <td>0.012324</td>\n",
       "      <td>1.000000</td>\n",
       "      <td>0.000000</td>\n",
       "      <td>0.972527</td>\n",
       "      <td>0.027473</td>\n",
       "      <td>0.986079</td>\n",
       "      <td>0.013921</td>\n",
       "    </tr>\n",
       "    <tr>\n",
       "      <th>94.0</th>\n",
       "      <td>0.987832</td>\n",
       "      <td>0.012168</td>\n",
       "      <td>0.943286</td>\n",
       "      <td>0.056714</td>\n",
       "      <td>0.955752</td>\n",
       "      <td>0.044248</td>\n",
       "      <td>0.965801</td>\n",
       "      <td>0.034199</td>\n",
       "    </tr>\n",
       "    <tr>\n",
       "      <th>94.5</th>\n",
       "      <td>0.984696</td>\n",
       "      <td>0.015304</td>\n",
       "      <td>0.901663</td>\n",
       "      <td>0.098337</td>\n",
       "      <td>0.975000</td>\n",
       "      <td>0.025000</td>\n",
       "      <td>0.980785</td>\n",
       "      <td>0.019215</td>\n",
       "    </tr>\n",
       "    <tr>\n",
       "      <th>95.0</th>\n",
       "      <td>0.992874</td>\n",
       "      <td>0.007126</td>\n",
       "      <td>1.000000</td>\n",
       "      <td>0.000000</td>\n",
       "      <td>0.968354</td>\n",
       "      <td>0.031646</td>\n",
       "      <td>0.977654</td>\n",
       "      <td>0.022346</td>\n",
       "    </tr>\n",
       "    <tr>\n",
       "      <th>95.5</th>\n",
       "      <td>0.981858</td>\n",
       "      <td>0.018142</td>\n",
       "      <td>1.000000</td>\n",
       "      <td>0.000000</td>\n",
       "      <td>1.000000</td>\n",
       "      <td>0.000000</td>\n",
       "      <td>1.000000</td>\n",
       "      <td>0.000000</td>\n",
       "    </tr>\n",
       "    <tr>\n",
       "      <th>96.0</th>\n",
       "      <td>0.992932</td>\n",
       "      <td>0.007068</td>\n",
       "      <td>0.945903</td>\n",
       "      <td>0.054097</td>\n",
       "      <td>1.000000</td>\n",
       "      <td>0.000000</td>\n",
       "      <td>0.993058</td>\n",
       "      <td>0.006942</td>\n",
       "    </tr>\n",
       "    <tr>\n",
       "      <th>96.5</th>\n",
       "      <td>0.992023</td>\n",
       "      <td>0.007977</td>\n",
       "      <td>1.000000</td>\n",
       "      <td>0.000000</td>\n",
       "      <td>1.000000</td>\n",
       "      <td>0.000000</td>\n",
       "      <td>1.000000</td>\n",
       "      <td>0.000000</td>\n",
       "    </tr>\n",
       "    <tr>\n",
       "      <th>97.0</th>\n",
       "      <td>0.984511</td>\n",
       "      <td>0.015489</td>\n",
       "      <td>1.000000</td>\n",
       "      <td>0.000000</td>\n",
       "      <td>0.959016</td>\n",
       "      <td>0.040984</td>\n",
       "      <td>0.980392</td>\n",
       "      <td>0.019608</td>\n",
       "    </tr>\n",
       "    <tr>\n",
       "      <th>97.5</th>\n",
       "      <td>0.983793</td>\n",
       "      <td>0.016207</td>\n",
       "      <td>1.000000</td>\n",
       "      <td>0.000000</td>\n",
       "      <td>1.000000</td>\n",
       "      <td>0.000000</td>\n",
       "      <td>0.995175</td>\n",
       "      <td>0.004825</td>\n",
       "    </tr>\n",
       "    <tr>\n",
       "      <th>98.0</th>\n",
       "      <td>0.994947</td>\n",
       "      <td>0.005053</td>\n",
       "      <td>0.937211</td>\n",
       "      <td>0.062789</td>\n",
       "      <td>0.979592</td>\n",
       "      <td>0.020408</td>\n",
       "      <td>1.000000</td>\n",
       "      <td>0.000000</td>\n",
       "    </tr>\n",
       "    <tr>\n",
       "      <th>98.5</th>\n",
       "      <td>0.987703</td>\n",
       "      <td>0.012297</td>\n",
       "      <td>1.000000</td>\n",
       "      <td>0.000000</td>\n",
       "      <td>1.000000</td>\n",
       "      <td>0.000000</td>\n",
       "      <td>0.997311</td>\n",
       "      <td>0.002689</td>\n",
       "    </tr>\n",
       "    <tr>\n",
       "      <th>99.0</th>\n",
       "      <td>0.992989</td>\n",
       "      <td>0.007011</td>\n",
       "      <td>1.000000</td>\n",
       "      <td>0.000000</td>\n",
       "      <td>1.000000</td>\n",
       "      <td>0.000000</td>\n",
       "      <td>1.000000</td>\n",
       "      <td>0.000000</td>\n",
       "    </tr>\n",
       "    <tr>\n",
       "      <th>99.5</th>\n",
       "      <td>1.000000</td>\n",
       "      <td>0.000000</td>\n",
       "      <td>1.000000</td>\n",
       "      <td>0.000000</td>\n",
       "      <td>1.000000</td>\n",
       "      <td>0.000000</td>\n",
       "      <td>1.000000</td>\n",
       "      <td>0.000000</td>\n",
       "    </tr>\n",
       "    <tr>\n",
       "      <th>100.0</th>\n",
       "      <td>1.000000</td>\n",
       "      <td>0.000000</td>\n",
       "      <td>0.000000</td>\n",
       "      <td>1.000000</td>\n",
       "      <td>0.000000</td>\n",
       "      <td>1.000000</td>\n",
       "      <td>1.000000</td>\n",
       "      <td>0.000000</td>\n",
       "    </tr>\n",
       "  </tbody>\n",
       "</table>\n",
       "<p>198 rows × 8 columns</p>\n",
       "</div>"
      ],
      "text/plain": [
       "                    white  white (bad)     black  black (bad)  hispanic  \\\n",
       "TransRisk Score                                                           \n",
       "0.0              0.000000     1.000000  0.000000     1.000000  0.000000   \n",
       "0.5              0.000000     1.000000  0.004516     0.995484  0.020619   \n",
       "1.0              0.025629     0.974371  0.021857     0.978143  0.011168   \n",
       "1.5              0.027318     0.972682  0.018501     0.981499  0.000000   \n",
       "2.0              0.042152     0.957848  0.020513     0.979487  0.025424   \n",
       "2.5              0.053597     0.946403  0.020335     0.979665  0.050992   \n",
       "3.0              0.051724     0.948276  0.035758     0.964242  0.028892   \n",
       "3.5              0.059098     0.940902  0.023144     0.976856  0.106548   \n",
       "4.0              0.055910     0.944090  0.012711     0.987289  0.030612   \n",
       "4.5              0.054441     0.945559  0.019016     0.980984  0.080000   \n",
       "5.0              0.085696     0.914304  0.031845     0.968155  0.035317   \n",
       "5.5              0.092645     0.907355  0.045526     0.954474  0.064171   \n",
       "6.0              0.086824     0.913176  0.034905     0.965095  0.068323   \n",
       "6.5              0.059608     0.940392  0.031404     0.968596  0.051724   \n",
       "7.0              0.118288     0.881712  0.043205     0.956795  0.074650   \n",
       "7.5              0.072038     0.927962  0.079255     0.920745  0.071146   \n",
       "8.0              0.123262     0.876738  0.039945     0.960055  0.101124   \n",
       "8.5              0.080423     0.919577  0.037323     0.962677  0.218415   \n",
       "9.0              0.107269     0.892731  0.041433     0.958567  0.113208   \n",
       "9.5              0.137060     0.862940  0.052387     0.947613  0.056162   \n",
       "10.0             0.170077     0.829923  0.078591     0.921409  0.064417   \n",
       "10.5             0.168889     0.831111  0.081450     0.918550  0.123134   \n",
       "11.0             0.149103     0.850897  0.072186     0.927814  0.125000   \n",
       "11.5             0.123137     0.876863  0.054491     0.945509  0.085174   \n",
       "12.0             0.129604     0.870396  0.075626     0.924374  0.091255   \n",
       "12.5             0.183464     0.816536  0.114768     0.885232  0.139535   \n",
       "13.0             0.177570     0.822430  0.089958     0.910042  0.194670   \n",
       "13.5             0.153846     0.846154  0.113165     0.886835  0.090909   \n",
       "14.0             0.151596     0.848404  0.123434     0.876566  0.104803   \n",
       "14.5             0.147287     0.852713  0.139241     0.860759  0.112903   \n",
       "...                   ...          ...       ...          ...       ...   \n",
       "85.0             0.982759     0.017241  1.000000     0.000000  1.000000   \n",
       "85.5             0.987204     0.012796  0.963558     0.036442  0.989154   \n",
       "86.0             0.992725     0.007275  0.931727     0.068273  1.000000   \n",
       "86.5             0.987703     0.012297  1.000000     0.000000  0.937965   \n",
       "87.0             0.979742     0.020258  0.925193     0.074807  1.000000   \n",
       "87.5             0.992306     0.007694  0.864811     0.135189  1.000000   \n",
       "88.0             0.984729     0.015271  1.000000     0.000000  0.943820   \n",
       "88.5             0.979563     0.020437  0.887510     0.112490  0.935065   \n",
       "89.0             0.986187     0.013813  0.890145     0.109855  1.000000   \n",
       "89.5             0.988989     0.011011  0.897358     0.102642  0.957265   \n",
       "90.0             0.987390     0.012610  0.895062     0.104938  1.000000   \n",
       "90.5             0.978541     0.021459  0.824289     0.175711  0.955752   \n",
       "91.0             0.972534     0.027466  1.000000     0.000000  1.000000   \n",
       "91.5             0.982759     0.017241  1.000000     0.000000  1.000000   \n",
       "92.0             0.985298     0.014702  0.944625     0.055375  0.982578   \n",
       "93.0             0.987571     0.012429  1.000000     0.000000  1.000000   \n",
       "93.5             0.987676     0.012324  1.000000     0.000000  0.972527   \n",
       "94.0             0.987832     0.012168  0.943286     0.056714  0.955752   \n",
       "94.5             0.984696     0.015304  0.901663     0.098337  0.975000   \n",
       "95.0             0.992874     0.007126  1.000000     0.000000  0.968354   \n",
       "95.5             0.981858     0.018142  1.000000     0.000000  1.000000   \n",
       "96.0             0.992932     0.007068  0.945903     0.054097  1.000000   \n",
       "96.5             0.992023     0.007977  1.000000     0.000000  1.000000   \n",
       "97.0             0.984511     0.015489  1.000000     0.000000  0.959016   \n",
       "97.5             0.983793     0.016207  1.000000     0.000000  1.000000   \n",
       "98.0             0.994947     0.005053  0.937211     0.062789  0.979592   \n",
       "98.5             0.987703     0.012297  1.000000     0.000000  1.000000   \n",
       "99.0             0.992989     0.007011  1.000000     0.000000  1.000000   \n",
       "99.5             1.000000     0.000000  1.000000     0.000000  1.000000   \n",
       "100.0            1.000000     0.000000  0.000000     1.000000  0.000000   \n",
       "\n",
       "                 hispanic (bad)     asian  asian (bad)  \n",
       "TransRisk Score                                         \n",
       "0.0                    1.000000  0.000000     1.000000  \n",
       "0.5                    0.979381  0.000000     1.000000  \n",
       "1.0                    0.988832  0.060680     0.939320  \n",
       "1.5                    1.000000  0.000000     1.000000  \n",
       "2.0                    0.974576  0.104603     0.895397  \n",
       "2.5                    0.949008  0.000000     1.000000  \n",
       "3.0                    0.971108  0.023518     0.976482  \n",
       "3.5                    0.893452  0.023127     0.976873  \n",
       "4.0                    0.969388  0.087719     0.912281  \n",
       "4.5                    0.920000  0.072886     0.927114  \n",
       "5.0                    0.964683  0.046904     0.953096  \n",
       "5.5                    0.935829  0.078370     0.921630  \n",
       "6.0                    0.931677  0.174216     0.825784  \n",
       "6.5                    0.948276  0.254582     0.745418  \n",
       "7.0                    0.925350  0.135428     0.864572  \n",
       "7.5                    0.928854  0.079365     0.920635  \n",
       "8.0                    0.898876  0.162973     0.837027  \n",
       "8.5                    0.781585  0.000000     1.000000  \n",
       "9.0                    0.886792  0.193199     0.806801  \n",
       "9.5                    0.943838  0.390625     0.609375  \n",
       "10.0                   0.935583  0.082237     0.917763  \n",
       "10.5                   0.876866  0.075529     0.924471  \n",
       "11.0                   0.875000  0.134305     0.865695  \n",
       "11.5                   0.914826  0.104603     0.895397  \n",
       "12.0                   0.908745  0.088339     0.911661  \n",
       "12.5                   0.860465  0.187970     0.812030  \n",
       "13.0                   0.805330  0.268293     0.731707  \n",
       "13.5                   0.909091  0.125628     0.874372  \n",
       "14.0                   0.895197  0.069252     0.930748  \n",
       "14.5                   0.887097  0.232558     0.767442  \n",
       "...                         ...       ...          ...  \n",
       "85.0                   0.000000  0.990676     0.009324  \n",
       "85.5                   0.010846  0.997453     0.002547  \n",
       "86.0                   0.000000  0.966184     0.033816  \n",
       "86.5                   0.062035  1.000000     0.000000  \n",
       "87.0                   0.000000  0.994318     0.005682  \n",
       "87.5                   0.000000  1.000000     0.000000  \n",
       "88.0                   0.056180  1.000000     0.000000  \n",
       "88.5                   0.064935  0.977654     0.022346  \n",
       "89.0                   0.000000  0.995807     0.004193  \n",
       "89.5                   0.042735  0.964392     0.035608  \n",
       "90.0                   0.000000  0.995025     0.004975  \n",
       "90.5                   0.044248  0.995575     0.004425  \n",
       "91.0                   0.000000  1.000000     0.000000  \n",
       "91.5                   0.000000  1.000000     0.000000  \n",
       "92.0                   0.017422  0.992887     0.007113  \n",
       "93.0                   0.000000  0.970320     0.029680  \n",
       "93.5                   0.027473  0.986079     0.013921  \n",
       "94.0                   0.044248  0.965801     0.034199  \n",
       "94.5                   0.025000  0.980785     0.019215  \n",
       "95.0                   0.031646  0.977654     0.022346  \n",
       "95.5                   0.000000  1.000000     0.000000  \n",
       "96.0                   0.000000  0.993058     0.006942  \n",
       "96.5                   0.000000  1.000000     0.000000  \n",
       "97.0                   0.040984  0.980392     0.019608  \n",
       "97.5                   0.000000  0.995175     0.004825  \n",
       "98.0                   0.020408  1.000000     0.000000  \n",
       "98.5                   0.000000  0.997311     0.002689  \n",
       "99.0                   0.000000  1.000000     0.000000  \n",
       "99.5                   0.000000  1.000000     0.000000  \n",
       "100.0                  1.000000  1.000000     0.000000  \n",
       "\n",
       "[198 rows x 8 columns]"
      ]
     },
     "execution_count": 27,
     "metadata": {},
     "output_type": "execute_result"
    }
   ],
   "source": [
    "newData[['white', 'white (bad)', 'black', 'black (bad)', 'hispanic', 'hispanic (bad)', 'asian', 'asian (bad)']]"
   ]
  },
  {
   "cell_type": "markdown",
   "metadata": {
    "collapsed": true
   },
   "source": [
    "## Percentage of Goods and Bads (totals to 1.0 for each score)"
   ]
  },
  {
   "cell_type": "code",
   "execution_count": 28,
   "metadata": {
    "collapsed": true
   },
   "outputs": [],
   "source": [
    "import pandas as pd\n",
    "import numpy as np\n",
    "%matplotlib inline"
   ]
  },
  {
   "cell_type": "code",
   "execution_count": 29,
   "metadata": {
    "collapsed": true
   },
   "outputs": [],
   "source": [
    "def getPD(goodName, badName, data, raceName):\n",
    "    pd = data['Score'].to_frame(name=\"Score\")\n",
    "    race = np.full(len(data), raceName)\n",
    "    pd[\"Demographic\"] = race\n",
    "    pd[\"Good\"] = data[goodName].copy()\n",
    "    pd[\"Bad\"] = data[badName].copy()\n",
    "    return pd"
   ]
  },
  {
   "cell_type": "code",
   "execution_count": 30,
   "metadata": {
    "collapsed": true
   },
   "outputs": [],
   "source": [
    "#section not needed for final tutorial but here for reference currently\n",
    "data = pd.read_csv(\"NonCumulativeProbabilities.csv\")\n",
    "whites = getPD('White (Good)', 'White (Bad)', data, \"white\")\n",
    "blacks = getPD('Black (Good)', 'Black (Bad)', data, \"black\")\n",
    "asians = getPD('Asian (Good)', 'Asian (Bad)', data, \"asian\")\n",
    "hispanics = getPD('Hispanic (Good)', 'Hispanic (Bad)', data, \"hispanic\")"
   ]
  },
  {
   "cell_type": "code",
   "execution_count": 31,
   "metadata": {},
   "outputs": [
    {
     "data": {
      "text/html": [
       "<div>\n",
       "<style>\n",
       "    .dataframe thead tr:only-child th {\n",
       "        text-align: right;\n",
       "    }\n",
       "\n",
       "    .dataframe thead th {\n",
       "        text-align: left;\n",
       "    }\n",
       "\n",
       "    .dataframe tbody tr th {\n",
       "        vertical-align: top;\n",
       "    }\n",
       "</style>\n",
       "<table border=\"1\" class=\"dataframe\">\n",
       "  <thead>\n",
       "    <tr style=\"text-align: right;\">\n",
       "      <th></th>\n",
       "      <th>Demographic</th>\n",
       "      <th>Good</th>\n",
       "      <th>Bad</th>\n",
       "    </tr>\n",
       "    <tr>\n",
       "      <th>TransRisk Score</th>\n",
       "      <th></th>\n",
       "      <th></th>\n",
       "      <th></th>\n",
       "    </tr>\n",
       "  </thead>\n",
       "  <tbody>\n",
       "    <tr>\n",
       "      <th>0.0</th>\n",
       "      <td>white</td>\n",
       "      <td>0.000000</td>\n",
       "      <td>1.000000</td>\n",
       "    </tr>\n",
       "    <tr>\n",
       "      <th>0.5</th>\n",
       "      <td>white</td>\n",
       "      <td>0.000000</td>\n",
       "      <td>1.000000</td>\n",
       "    </tr>\n",
       "    <tr>\n",
       "      <th>1.0</th>\n",
       "      <td>white</td>\n",
       "      <td>0.025629</td>\n",
       "      <td>0.974371</td>\n",
       "    </tr>\n",
       "    <tr>\n",
       "      <th>1.5</th>\n",
       "      <td>white</td>\n",
       "      <td>0.027318</td>\n",
       "      <td>0.972682</td>\n",
       "    </tr>\n",
       "    <tr>\n",
       "      <th>2.0</th>\n",
       "      <td>white</td>\n",
       "      <td>0.042152</td>\n",
       "      <td>0.957848</td>\n",
       "    </tr>\n",
       "  </tbody>\n",
       "</table>\n",
       "</div>"
      ],
      "text/plain": [
       "                Demographic      Good       Bad\n",
       "TransRisk Score                                \n",
       "0.0                   white  0.000000  1.000000\n",
       "0.5                   white  0.000000  1.000000\n",
       "1.0                   white  0.025629  0.974371\n",
       "1.5                   white  0.027318  0.972682\n",
       "2.0                   white  0.042152  0.957848"
      ]
     },
     "execution_count": 31,
     "metadata": {},
     "output_type": "execute_result"
    }
   ],
   "source": [
    "frames = [whites, blacks, asians, hispanics]\n",
    "totalData = pd.concat(frames)\n",
    "totalData.rename(columns={'Score' : 'TransRisk Score'}, inplace=True)\n",
    "totalData.set_index(\"TransRisk Score\", inplace=True)\n",
    "totalData.head()"
   ]
  },
  {
   "cell_type": "code",
   "execution_count": 32,
   "metadata": {
    "collapsed": true
   },
   "outputs": [],
   "source": [
    "#used to be TransRiskScores.csv\n",
    "totalData.to_csv(\"PercentageOfGoodsAndBads.csv\")"
   ]
  },
  {
   "cell_type": "markdown",
   "metadata": {},
   "source": [
    "# Creating Dataframes for Tutorial"
   ]
  },
  {
   "cell_type": "markdown",
   "metadata": {},
   "source": [
    "## Probability of Getting a Loan\n",
    "(this is what I will have them graph initially to see the unfairness)<br/>\n",
    "**Final Result: P(score >= x | race)**\n",
    "- probability of getting a loan\n",
    "\n",
    "**ProbOfBeingScore: P(score = x | race)**\n",
    "- probability of being a certain transrisk score"
   ]
  },
  {
   "cell_type": "code",
   "execution_count": 33,
   "metadata": {},
   "outputs": [
    {
     "data": {
      "text/plain": [
       "<matplotlib.axes._subplots.AxesSubplot at 0x11ba7a470>"
      ]
     },
     "execution_count": 33,
     "metadata": {},
     "output_type": "execute_result"
    },
    {
     "data": {
      "image/png": "[encoded data removed]",
      "text/plain": [
       "<matplotlib.figure.Figure at 0x11bb8d438>"
      ]
     },
     "metadata": {},
     "output_type": "display_data"
    }
   ],
   "source": [
    "ProbOfBeingScore = (\n",
    "    pd.read_csv(\"figure3A.csv\")\n",
    "    .set_index([\"Score\"]).diff().fillna(0) / 100\n",
    ")\n",
    "# ProbOfBeingScore.columns.name = \"Demographic\"\n",
    "ProbOfBeingScore.columns = ProbOfBeingScore.columns.str.lower()\n",
    "ProbOfBeingScore.index.name = \"TransRisk Score\"\n",
    "ProbOfBeingScore.to_csv(\"ProbOfBeingScore.csv\")\n",
    "ProbOfGettingLoan = ProbOfBeingScore.iloc[::-1].cumsum()[::-1]\n",
    "ProbOfGettingLoan.plot.line()\n",
    "# ProbOfGettingLoan.to_csv(\"ProbOfGettingLoan.csv\")"
   ]
  },
  {
   "cell_type": "code",
   "execution_count": 34,
   "metadata": {},
   "outputs": [
    {
     "data": {
      "text/html": [
       "<div>\n",
       "<style>\n",
       "    .dataframe thead tr:only-child th {\n",
       "        text-align: right;\n",
       "    }\n",
       "\n",
       "    .dataframe thead th {\n",
       "        text-align: left;\n",
       "    }\n",
       "\n",
       "    .dataframe tbody tr th {\n",
       "        vertical-align: top;\n",
       "    }\n",
       "</style>\n",
       "<table border=\"1\" class=\"dataframe\">\n",
       "  <thead>\n",
       "    <tr style=\"text-align: right;\">\n",
       "      <th></th>\n",
       "      <th>white</th>\n",
       "      <th>black</th>\n",
       "      <th>hispanic</th>\n",
       "      <th>asian</th>\n",
       "    </tr>\n",
       "    <tr>\n",
       "      <th>TransRisk Score</th>\n",
       "      <th></th>\n",
       "      <th></th>\n",
       "      <th></th>\n",
       "      <th></th>\n",
       "    </tr>\n",
       "  </thead>\n",
       "  <tbody>\n",
       "    <tr>\n",
       "      <th>0.0</th>\n",
       "      <td>0.0000</td>\n",
       "      <td>0.0000</td>\n",
       "      <td>0.0000</td>\n",
       "      <td>0.0000</td>\n",
       "    </tr>\n",
       "    <tr>\n",
       "      <th>0.5</th>\n",
       "      <td>0.0025</td>\n",
       "      <td>0.0112</td>\n",
       "      <td>0.0046</td>\n",
       "      <td>0.0013</td>\n",
       "    </tr>\n",
       "    <tr>\n",
       "      <th>1.0</th>\n",
       "      <td>0.0090</td>\n",
       "      <td>0.0414</td>\n",
       "      <td>0.0175</td>\n",
       "      <td>0.0075</td>\n",
       "    </tr>\n",
       "    <tr>\n",
       "      <th>1.5</th>\n",
       "      <td>0.0027</td>\n",
       "      <td>0.0114</td>\n",
       "      <td>0.0052</td>\n",
       "      <td>0.0019</td>\n",
       "    </tr>\n",
       "    <tr>\n",
       "      <th>2.0</th>\n",
       "      <td>0.0037</td>\n",
       "      <td>0.0142</td>\n",
       "      <td>0.0075</td>\n",
       "      <td>0.0025</td>\n",
       "    </tr>\n",
       "    <tr>\n",
       "      <th>2.5</th>\n",
       "      <td>0.0029</td>\n",
       "      <td>0.0138</td>\n",
       "      <td>0.0055</td>\n",
       "      <td>0.0019</td>\n",
       "    </tr>\n",
       "    <tr>\n",
       "      <th>3.0</th>\n",
       "      <td>0.0046</td>\n",
       "      <td>0.0193</td>\n",
       "      <td>0.0098</td>\n",
       "      <td>0.0032</td>\n",
       "    </tr>\n",
       "    <tr>\n",
       "      <th>3.5</th>\n",
       "      <td>0.0041</td>\n",
       "      <td>0.0162</td>\n",
       "      <td>0.0075</td>\n",
       "      <td>0.0037</td>\n",
       "    </tr>\n",
       "    <tr>\n",
       "      <th>4.0</th>\n",
       "      <td>0.0043</td>\n",
       "      <td>0.0176</td>\n",
       "      <td>0.0083</td>\n",
       "      <td>0.0028</td>\n",
       "    </tr>\n",
       "    <tr>\n",
       "      <th>4.5</th>\n",
       "      <td>0.0015</td>\n",
       "      <td>0.0058</td>\n",
       "      <td>0.0032</td>\n",
       "      <td>0.0010</td>\n",
       "    </tr>\n",
       "    <tr>\n",
       "      <th>5.0</th>\n",
       "      <td>0.0065</td>\n",
       "      <td>0.0256</td>\n",
       "      <td>0.0130</td>\n",
       "      <td>0.0052</td>\n",
       "    </tr>\n",
       "    <tr>\n",
       "      <th>5.5</th>\n",
       "      <td>0.0053</td>\n",
       "      <td>0.0209</td>\n",
       "      <td>0.0109</td>\n",
       "      <td>0.0039</td>\n",
       "    </tr>\n",
       "    <tr>\n",
       "      <th>6.0</th>\n",
       "      <td>0.0056</td>\n",
       "      <td>0.0191</td>\n",
       "      <td>0.0087</td>\n",
       "      <td>0.0041</td>\n",
       "    </tr>\n",
       "    <tr>\n",
       "      <th>6.5</th>\n",
       "      <td>0.0028</td>\n",
       "      <td>0.0121</td>\n",
       "      <td>0.0062</td>\n",
       "      <td>0.0018</td>\n",
       "    </tr>\n",
       "    <tr>\n",
       "      <th>7.0</th>\n",
       "      <td>0.0055</td>\n",
       "      <td>0.0176</td>\n",
       "      <td>0.0114</td>\n",
       "      <td>0.0032</td>\n",
       "    </tr>\n",
       "    <tr>\n",
       "      <th>7.5</th>\n",
       "      <td>0.0023</td>\n",
       "      <td>0.0082</td>\n",
       "      <td>0.0044</td>\n",
       "      <td>0.0032</td>\n",
       "    </tr>\n",
       "    <tr>\n",
       "      <th>8.0</th>\n",
       "      <td>0.0047</td>\n",
       "      <td>0.0144</td>\n",
       "      <td>0.0080</td>\n",
       "      <td>0.0030</td>\n",
       "    </tr>\n",
       "    <tr>\n",
       "      <th>8.5</th>\n",
       "      <td>0.0021</td>\n",
       "      <td>0.0060</td>\n",
       "      <td>0.0042</td>\n",
       "      <td>0.0012</td>\n",
       "    </tr>\n",
       "    <tr>\n",
       "      <th>9.0</th>\n",
       "      <td>0.0032</td>\n",
       "      <td>0.0104</td>\n",
       "      <td>0.0049</td>\n",
       "      <td>0.0024</td>\n",
       "    </tr>\n",
       "    <tr>\n",
       "      <th>9.5</th>\n",
       "      <td>0.0026</td>\n",
       "      <td>0.0079</td>\n",
       "      <td>0.0056</td>\n",
       "      <td>0.0015</td>\n",
       "    </tr>\n",
       "    <tr>\n",
       "      <th>10.0</th>\n",
       "      <td>0.0035</td>\n",
       "      <td>0.0107</td>\n",
       "      <td>0.0055</td>\n",
       "      <td>0.0021</td>\n",
       "    </tr>\n",
       "    <tr>\n",
       "      <th>10.5</th>\n",
       "      <td>0.0025</td>\n",
       "      <td>0.0071</td>\n",
       "      <td>0.0049</td>\n",
       "      <td>0.0010</td>\n",
       "    </tr>\n",
       "    <tr>\n",
       "      <th>11.0</th>\n",
       "      <td>0.0042</td>\n",
       "      <td>0.0113</td>\n",
       "      <td>0.0069</td>\n",
       "      <td>0.0041</td>\n",
       "    </tr>\n",
       "    <tr>\n",
       "      <th>11.5</th>\n",
       "      <td>0.0032</td>\n",
       "      <td>0.0104</td>\n",
       "      <td>0.0054</td>\n",
       "      <td>0.0021</td>\n",
       "    </tr>\n",
       "    <tr>\n",
       "      <th>12.0</th>\n",
       "      <td>0.0062</td>\n",
       "      <td>0.0178</td>\n",
       "      <td>0.0111</td>\n",
       "      <td>0.0049</td>\n",
       "    </tr>\n",
       "    <tr>\n",
       "      <th>12.5</th>\n",
       "      <td>0.0036</td>\n",
       "      <td>0.0096</td>\n",
       "      <td>0.0055</td>\n",
       "      <td>0.0034</td>\n",
       "    </tr>\n",
       "    <tr>\n",
       "      <th>13.0</th>\n",
       "      <td>0.0048</td>\n",
       "      <td>0.0113</td>\n",
       "      <td>0.0078</td>\n",
       "      <td>0.0032</td>\n",
       "    </tr>\n",
       "    <tr>\n",
       "      <th>13.5</th>\n",
       "      <td>0.0036</td>\n",
       "      <td>0.0101</td>\n",
       "      <td>0.0059</td>\n",
       "      <td>0.0036</td>\n",
       "    </tr>\n",
       "    <tr>\n",
       "      <th>14.0</th>\n",
       "      <td>0.0065</td>\n",
       "      <td>0.0158</td>\n",
       "      <td>0.0115</td>\n",
       "      <td>0.0043</td>\n",
       "    </tr>\n",
       "    <tr>\n",
       "      <th>14.5</th>\n",
       "      <td>0.0034</td>\n",
       "      <td>0.0096</td>\n",
       "      <td>0.0066</td>\n",
       "      <td>0.0028</td>\n",
       "    </tr>\n",
       "    <tr>\n",
       "      <th>...</th>\n",
       "      <td>...</td>\n",
       "      <td>...</td>\n",
       "      <td>...</td>\n",
       "      <td>...</td>\n",
       "    </tr>\n",
       "    <tr>\n",
       "      <th>85.0</th>\n",
       "      <td>0.0048</td>\n",
       "      <td>0.0011</td>\n",
       "      <td>0.0017</td>\n",
       "      <td>0.0037</td>\n",
       "    </tr>\n",
       "    <tr>\n",
       "      <th>85.5</th>\n",
       "      <td>0.0097</td>\n",
       "      <td>0.0021</td>\n",
       "      <td>0.0042</td>\n",
       "      <td>0.0073</td>\n",
       "    </tr>\n",
       "    <tr>\n",
       "      <th>86.0</th>\n",
       "      <td>0.0056</td>\n",
       "      <td>0.0009</td>\n",
       "      <td>0.0017</td>\n",
       "      <td>0.0037</td>\n",
       "    </tr>\n",
       "    <tr>\n",
       "      <th>86.5</th>\n",
       "      <td>0.0068</td>\n",
       "      <td>0.0013</td>\n",
       "      <td>0.0034</td>\n",
       "      <td>0.0064</td>\n",
       "    </tr>\n",
       "    <tr>\n",
       "      <th>87.0</th>\n",
       "      <td>0.0041</td>\n",
       "      <td>0.0009</td>\n",
       "      <td>0.0012</td>\n",
       "      <td>0.0030</td>\n",
       "    </tr>\n",
       "    <tr>\n",
       "      <th>87.5</th>\n",
       "      <td>0.0081</td>\n",
       "      <td>0.0016</td>\n",
       "      <td>0.0029</td>\n",
       "      <td>0.0065</td>\n",
       "    </tr>\n",
       "    <tr>\n",
       "      <th>88.0</th>\n",
       "      <td>0.0040</td>\n",
       "      <td>0.0004</td>\n",
       "      <td>0.0016</td>\n",
       "      <td>0.0035</td>\n",
       "    </tr>\n",
       "    <tr>\n",
       "      <th>88.5</th>\n",
       "      <td>0.0081</td>\n",
       "      <td>0.0012</td>\n",
       "      <td>0.0027</td>\n",
       "      <td>0.0065</td>\n",
       "    </tr>\n",
       "    <tr>\n",
       "      <th>89.0</th>\n",
       "      <td>0.0044</td>\n",
       "      <td>0.0006</td>\n",
       "      <td>0.0012</td>\n",
       "      <td>0.0043</td>\n",
       "    </tr>\n",
       "    <tr>\n",
       "      <th>89.5</th>\n",
       "      <td>0.0093</td>\n",
       "      <td>0.0013</td>\n",
       "      <td>0.0030</td>\n",
       "      <td>0.0072</td>\n",
       "    </tr>\n",
       "    <tr>\n",
       "      <th>90.0</th>\n",
       "      <td>0.0049</td>\n",
       "      <td>0.0007</td>\n",
       "      <td>0.0017</td>\n",
       "      <td>0.0036</td>\n",
       "    </tr>\n",
       "    <tr>\n",
       "      <th>90.5</th>\n",
       "      <td>0.0047</td>\n",
       "      <td>0.0004</td>\n",
       "      <td>0.0019</td>\n",
       "      <td>0.0041</td>\n",
       "    </tr>\n",
       "    <tr>\n",
       "      <th>91.0</th>\n",
       "      <td>0.0030</td>\n",
       "      <td>0.0003</td>\n",
       "      <td>0.0008</td>\n",
       "      <td>0.0029</td>\n",
       "    </tr>\n",
       "    <tr>\n",
       "      <th>91.5</th>\n",
       "      <td>0.0047</td>\n",
       "      <td>0.0006</td>\n",
       "      <td>0.0014</td>\n",
       "      <td>0.0039</td>\n",
       "    </tr>\n",
       "    <tr>\n",
       "      <th>92.0</th>\n",
       "      <td>0.0070</td>\n",
       "      <td>0.0013</td>\n",
       "      <td>0.0025</td>\n",
       "      <td>0.0049</td>\n",
       "    </tr>\n",
       "    <tr>\n",
       "      <th>93.0</th>\n",
       "      <td>0.0099</td>\n",
       "      <td>0.0016</td>\n",
       "      <td>0.0032</td>\n",
       "      <td>0.0080</td>\n",
       "    </tr>\n",
       "    <tr>\n",
       "      <th>93.5</th>\n",
       "      <td>0.0085</td>\n",
       "      <td>0.0012</td>\n",
       "      <td>0.0032</td>\n",
       "      <td>0.0063</td>\n",
       "    </tr>\n",
       "    <tr>\n",
       "      <th>94.0</th>\n",
       "      <td>0.0070</td>\n",
       "      <td>0.0012</td>\n",
       "      <td>0.0022</td>\n",
       "      <td>0.0050</td>\n",
       "    </tr>\n",
       "    <tr>\n",
       "      <th>94.5</th>\n",
       "      <td>0.0116</td>\n",
       "      <td>0.0015</td>\n",
       "      <td>0.0036</td>\n",
       "      <td>0.0084</td>\n",
       "    </tr>\n",
       "    <tr>\n",
       "      <th>95.0</th>\n",
       "      <td>0.0089</td>\n",
       "      <td>0.0009</td>\n",
       "      <td>0.0028</td>\n",
       "      <td>0.0067</td>\n",
       "    </tr>\n",
       "    <tr>\n",
       "      <th>95.5</th>\n",
       "      <td>0.0035</td>\n",
       "      <td>0.0004</td>\n",
       "      <td>0.0013</td>\n",
       "      <td>0.0026</td>\n",
       "    </tr>\n",
       "    <tr>\n",
       "      <th>96.0</th>\n",
       "      <td>0.0093</td>\n",
       "      <td>0.0013</td>\n",
       "      <td>0.0030</td>\n",
       "      <td>0.0082</td>\n",
       "    </tr>\n",
       "    <tr>\n",
       "      <th>96.5</th>\n",
       "      <td>0.0026</td>\n",
       "      <td>0.0004</td>\n",
       "      <td>0.0007</td>\n",
       "      <td>0.0022</td>\n",
       "    </tr>\n",
       "    <tr>\n",
       "      <th>97.0</th>\n",
       "      <td>0.0066</td>\n",
       "      <td>0.0009</td>\n",
       "      <td>0.0021</td>\n",
       "      <td>0.0062</td>\n",
       "    </tr>\n",
       "    <tr>\n",
       "      <th>97.5</th>\n",
       "      <td>0.0092</td>\n",
       "      <td>0.0014</td>\n",
       "      <td>0.0032</td>\n",
       "      <td>0.0081</td>\n",
       "    </tr>\n",
       "    <tr>\n",
       "      <th>98.0</th>\n",
       "      <td>0.0125</td>\n",
       "      <td>0.0024</td>\n",
       "      <td>0.0042</td>\n",
       "      <td>0.0101</td>\n",
       "    </tr>\n",
       "    <tr>\n",
       "      <th>98.5</th>\n",
       "      <td>0.0068</td>\n",
       "      <td>0.0006</td>\n",
       "      <td>0.0022</td>\n",
       "      <td>0.0067</td>\n",
       "    </tr>\n",
       "    <tr>\n",
       "      <th>99.0</th>\n",
       "      <td>0.0029</td>\n",
       "      <td>0.0004</td>\n",
       "      <td>0.0010</td>\n",
       "      <td>0.0028</td>\n",
       "    </tr>\n",
       "    <tr>\n",
       "      <th>99.5</th>\n",
       "      <td>0.0007</td>\n",
       "      <td>0.0001</td>\n",
       "      <td>0.0002</td>\n",
       "      <td>0.0005</td>\n",
       "    </tr>\n",
       "    <tr>\n",
       "      <th>100.0</th>\n",
       "      <td>0.0002</td>\n",
       "      <td>0.0000</td>\n",
       "      <td>0.0000</td>\n",
       "      <td>0.0006</td>\n",
       "    </tr>\n",
       "  </tbody>\n",
       "</table>\n",
       "<p>198 rows × 4 columns</p>\n",
       "</div>"
      ],
      "text/plain": [
       "                  white   black  hispanic   asian\n",
       "TransRisk Score                                  \n",
       "0.0              0.0000  0.0000    0.0000  0.0000\n",
       "0.5              0.0025  0.0112    0.0046  0.0013\n",
       "1.0              0.0090  0.0414    0.0175  0.0075\n",
       "1.5              0.0027  0.0114    0.0052  0.0019\n",
       "2.0              0.0037  0.0142    0.0075  0.0025\n",
       "2.5              0.0029  0.0138    0.0055  0.0019\n",
       "3.0              0.0046  0.0193    0.0098  0.0032\n",
       "3.5              0.0041  0.0162    0.0075  0.0037\n",
       "4.0              0.0043  0.0176    0.0083  0.0028\n",
       "4.5              0.0015  0.0058    0.0032  0.0010\n",
       "5.0              0.0065  0.0256    0.0130  0.0052\n",
       "5.5              0.0053  0.0209    0.0109  0.0039\n",
       "6.0              0.0056  0.0191    0.0087  0.0041\n",
       "6.5              0.0028  0.0121    0.0062  0.0018\n",
       "7.0              0.0055  0.0176    0.0114  0.0032\n",
       "7.5              0.0023  0.0082    0.0044  0.0032\n",
       "8.0              0.0047  0.0144    0.0080  0.0030\n",
       "8.5              0.0021  0.0060    0.0042  0.0012\n",
       "9.0              0.0032  0.0104    0.0049  0.0024\n",
       "9.5              0.0026  0.0079    0.0056  0.0015\n",
       "10.0             0.0035  0.0107    0.0055  0.0021\n",
       "10.5             0.0025  0.0071    0.0049  0.0010\n",
       "11.0             0.0042  0.0113    0.0069  0.0041\n",
       "11.5             0.0032  0.0104    0.0054  0.0021\n",
       "12.0             0.0062  0.0178    0.0111  0.0049\n",
       "12.5             0.0036  0.0096    0.0055  0.0034\n",
       "13.0             0.0048  0.0113    0.0078  0.0032\n",
       "13.5             0.0036  0.0101    0.0059  0.0036\n",
       "14.0             0.0065  0.0158    0.0115  0.0043\n",
       "14.5             0.0034  0.0096    0.0066  0.0028\n",
       "...                 ...     ...       ...     ...\n",
       "85.0             0.0048  0.0011    0.0017  0.0037\n",
       "85.5             0.0097  0.0021    0.0042  0.0073\n",
       "86.0             0.0056  0.0009    0.0017  0.0037\n",
       "86.5             0.0068  0.0013    0.0034  0.0064\n",
       "87.0             0.0041  0.0009    0.0012  0.0030\n",
       "87.5             0.0081  0.0016    0.0029  0.0065\n",
       "88.0             0.0040  0.0004    0.0016  0.0035\n",
       "88.5             0.0081  0.0012    0.0027  0.0065\n",
       "89.0             0.0044  0.0006    0.0012  0.0043\n",
       "89.5             0.0093  0.0013    0.0030  0.0072\n",
       "90.0             0.0049  0.0007    0.0017  0.0036\n",
       "90.5             0.0047  0.0004    0.0019  0.0041\n",
       "91.0             0.0030  0.0003    0.0008  0.0029\n",
       "91.5             0.0047  0.0006    0.0014  0.0039\n",
       "92.0             0.0070  0.0013    0.0025  0.0049\n",
       "93.0             0.0099  0.0016    0.0032  0.0080\n",
       "93.5             0.0085  0.0012    0.0032  0.0063\n",
       "94.0             0.0070  0.0012    0.0022  0.0050\n",
       "94.5             0.0116  0.0015    0.0036  0.0084\n",
       "95.0             0.0089  0.0009    0.0028  0.0067\n",
       "95.5             0.0035  0.0004    0.0013  0.0026\n",
       "96.0             0.0093  0.0013    0.0030  0.0082\n",
       "96.5             0.0026  0.0004    0.0007  0.0022\n",
       "97.0             0.0066  0.0009    0.0021  0.0062\n",
       "97.5             0.0092  0.0014    0.0032  0.0081\n",
       "98.0             0.0125  0.0024    0.0042  0.0101\n",
       "98.5             0.0068  0.0006    0.0022  0.0067\n",
       "99.0             0.0029  0.0004    0.0010  0.0028\n",
       "99.5             0.0007  0.0001    0.0002  0.0005\n",
       "100.0            0.0002  0.0000    0.0000  0.0006\n",
       "\n",
       "[198 rows x 4 columns]"
      ]
     },
     "execution_count": 34,
     "metadata": {},
     "output_type": "execute_result"
    }
   ],
   "source": [
    "ProbOfBeingScore"
   ]
  },
  {
   "cell_type": "code",
   "execution_count": 35,
   "metadata": {
    "collapsed": true
   },
   "outputs": [],
   "source": [
    "ProbOfGettingLoan.to_csv('ProbScoreGreaterThanXGivenRace.csv')"
   ]
  },
  {
   "cell_type": "markdown",
   "metadata": {},
   "source": [
    "## Calculating ProbLoanReceiverIsGood (What we used to think was Sensitivity) \n",
    "(This actually isn't what we want anymore)<br/>\n",
    "** Final Result (What we used to think was Sensitivity): P(good | score >= x, race) **\n",
    "- probability of being good if given a loan\n",
    "\n",
    "** ProbOfBeingGoodAtScore : P(good | score = x, race) **\n",
    "- probability of being good at a specific score\n",
    "\n",
    "** ProbOfGettingLoan : P(score >= x | race) **\n",
    "- probability of getting a loan\n",
    "\n",
    "** ProbGoodAndLoan : P(good and score >= x | race) **\n",
    "- probability of being good and getting a loan\n",
    "\n",
    "**ProbOfBeingScore : P(score = x | race)**\n",
    "- probability of being a certain transrisk score\n",
    "\n",
    "** ProbGoodAndScore : P(good and score = x | race) **\n",
    "- probability that you are good at a certain transrisk score"
   ]
  },
  {
   "cell_type": "code",
   "execution_count": 36,
   "metadata": {
    "collapsed": true
   },
   "outputs": [],
   "source": [
    "ProbOfBeingGoodAtScore = (\n",
    "    pd.read_csv(\"PercentageOfGoodsAndBads.csv\")\n",
    "    .set_index([\"TransRisk Score\", \"Demographic\"])\n",
    "    .unstack()[\"Good\"]\n",
    ")\n",
    "# ProbOfBeingGoodAtScore = (\n",
    "#     totalData\n",
    "#     .set_index(\"Score\")\n",
    "#     .unstack()[\"Good\"]\n",
    "# )\n",
    "ProbGoodAndScore = (ProbOfBeingScore * ProbOfBeingGoodAtScore)\n",
    "ProbGoodAndLoan = ProbGoodAndScore.iloc[::-1].cumsum()[::-1]"
   ]
  },
  {
   "cell_type": "code",
   "execution_count": 37,
   "metadata": {
    "collapsed": true
   },
   "outputs": [],
   "source": [
    "# ProbGoodAndLoan.to_csv(\"ProbGoodAndLoan.csv\")"
   ]
  },
  {
   "cell_type": "code",
   "execution_count": 38,
   "metadata": {},
   "outputs": [
    {
     "data": {
      "text/plain": [
       "<matplotlib.axes._subplots.AxesSubplot at 0x11c19add8>"
      ]
     },
     "execution_count": 38,
     "metadata": {},
     "output_type": "execute_result"
    },
    {
     "data": {
      "image/png": "[encoded data removed]",
      "text/plain": [
       "<matplotlib.figure.Figure at 0x11c1367b8>"
      ]
     },
     "metadata": {},
     "output_type": "display_data"
    }
   ],
   "source": [
    "Sensitivity = ProbGoodAndLoan / ProbOfGettingLoan\n",
    "Sensitivity.plot.line()"
   ]
  },
  {
   "cell_type": "code",
   "execution_count": 39,
   "metadata": {
    "collapsed": true
   },
   "outputs": [],
   "source": [
    "Sensitivity.to_csv(\"ProbLoanReceiverIsGood.csv\")"
   ]
  },
  {
   "cell_type": "code",
   "execution_count": null,
   "metadata": {
    "collapsed": true
   },
   "outputs": [],
   "source": []
  },
  {
   "cell_type": "markdown",
   "metadata": {
    "collapsed": true
   },
   "source": [
    "# Checking the validity of the tutorial by cross-checking the actual Sensitivity at 0.82 and the corresponding thresholds"
   ]
  },
  {
   "cell_type": "code",
   "execution_count": 40,
   "metadata": {},
   "outputs": [
    {
     "data": {
      "text/html": [
       "<div>\n",
       "<style>\n",
       "    .dataframe thead tr:only-child th {\n",
       "        text-align: right;\n",
       "    }\n",
       "\n",
       "    .dataframe thead th {\n",
       "        text-align: left;\n",
       "    }\n",
       "\n",
       "    .dataframe tbody tr th {\n",
       "        vertical-align: top;\n",
       "    }\n",
       "</style>\n",
       "<table border=\"1\" class=\"dataframe\">\n",
       "  <thead>\n",
       "    <tr style=\"text-align: right;\">\n",
       "      <th></th>\n",
       "      <th>Score</th>\n",
       "      <th>White (Good)</th>\n",
       "      <th>White (Bad)</th>\n",
       "      <th>Black (Good)</th>\n",
       "      <th>Black (Bad)</th>\n",
       "      <th>Hispanic (Good)</th>\n",
       "      <th>Hispanic (Bad)</th>\n",
       "      <th>Asian (Good)</th>\n",
       "      <th>Asian (Bad)</th>\n",
       "    </tr>\n",
       "  </thead>\n",
       "  <tbody>\n",
       "    <tr>\n",
       "      <th>0</th>\n",
       "      <td>0.0</td>\n",
       "      <td>0.00</td>\n",
       "      <td>0.04</td>\n",
       "      <td>0.00</td>\n",
       "      <td>0.12</td>\n",
       "      <td>0.00</td>\n",
       "      <td>0.03</td>\n",
       "      <td>0.00</td>\n",
       "      <td>0.00</td>\n",
       "    </tr>\n",
       "    <tr>\n",
       "      <th>1</th>\n",
       "      <td>0.5</td>\n",
       "      <td>0.00</td>\n",
       "      <td>1.21</td>\n",
       "      <td>0.02</td>\n",
       "      <td>2.00</td>\n",
       "      <td>0.02</td>\n",
       "      <td>1.17</td>\n",
       "      <td>0.00</td>\n",
       "      <td>0.75</td>\n",
       "    </tr>\n",
       "    <tr>\n",
       "      <th>2</th>\n",
       "      <td>1.0</td>\n",
       "      <td>0.03</td>\n",
       "      <td>5.15</td>\n",
       "      <td>0.37</td>\n",
       "      <td>8.68</td>\n",
       "      <td>0.06</td>\n",
       "      <td>5.42</td>\n",
       "      <td>0.06</td>\n",
       "      <td>4.62</td>\n",
       "    </tr>\n",
       "    <tr>\n",
       "      <th>3</th>\n",
       "      <td>1.5</td>\n",
       "      <td>0.04</td>\n",
       "      <td>6.38</td>\n",
       "      <td>0.45</td>\n",
       "      <td>10.49</td>\n",
       "      <td>0.06</td>\n",
       "      <td>6.75</td>\n",
       "      <td>0.06</td>\n",
       "      <td>5.58</td>\n",
       "    </tr>\n",
       "    <tr>\n",
       "      <th>4</th>\n",
       "      <td>2.0</td>\n",
       "      <td>0.06</td>\n",
       "      <td>7.95</td>\n",
       "      <td>0.56</td>\n",
       "      <td>12.73</td>\n",
       "      <td>0.10</td>\n",
       "      <td>8.59</td>\n",
       "      <td>0.09</td>\n",
       "      <td>6.65</td>\n",
       "    </tr>\n",
       "  </tbody>\n",
       "</table>\n",
       "</div>"
      ],
      "text/plain": [
       "   Score  White (Good)  White (Bad)  Black (Good)  Black (Bad)  \\\n",
       "0    0.0          0.00         0.04          0.00         0.12   \n",
       "1    0.5          0.00         1.21          0.02         2.00   \n",
       "2    1.0          0.03         5.15          0.37         8.68   \n",
       "3    1.5          0.04         6.38          0.45        10.49   \n",
       "4    2.0          0.06         7.95          0.56        12.73   \n",
       "\n",
       "   Hispanic (Good)  Hispanic (Bad)  Asian (Good)  Asian (Bad)  \n",
       "0             0.00            0.03          0.00         0.00  \n",
       "1             0.02            1.17          0.00         0.75  \n",
       "2             0.06            5.42          0.06         4.62  \n",
       "3             0.06            6.75          0.06         5.58  \n",
       "4             0.10            8.59          0.09         6.65  "
      ]
     },
     "execution_count": 40,
     "metadata": {},
     "output_type": "execute_result"
    }
   ],
   "source": [
    "pd.read_csv(\"Figure7A.csv\").head()"
   ]
  },
  {
   "cell_type": "code",
   "execution_count": 41,
   "metadata": {
    "collapsed": true
   },
   "outputs": [],
   "source": [
    "data = pd.read_csv(\"Figure7A.csv\")[[\"Score\", \"White (Good)\", \"Black (Good)\", \"Hispanic (Good)\", \"Asian (Good)\"]]\n",
    "data.set_index(\"Score\", inplace=True)"
   ]
  },
  {
   "cell_type": "code",
   "execution_count": 42,
   "metadata": {},
   "outputs": [
    {
     "data": {
      "text/plain": [
       "<matplotlib.axes._subplots.AxesSubplot at 0x11c32b898>"
      ]
     },
     "execution_count": 42,
     "metadata": {},
     "output_type": "execute_result"
    },
    {
     "data": {
      "image/png": "[encoded data removed]",
      "text/plain": [
       "<matplotlib.figure.Figure at 0x11c1363c8>"
      ]
     },
     "metadata": {},
     "output_type": "display_data"
    }
   ],
   "source": [
    "final = (100 - data)\n",
    "final.to_csv(\"FinalSolution.csv\")\n",
    "final.plot.line()"
   ]
  },
  {
   "cell_type": "code",
   "execution_count": 43,
   "metadata": {},
   "outputs": [
    {
     "data": {
      "text/html": [
       "<div>\n",
       "<style>\n",
       "    .dataframe thead tr:only-child th {\n",
       "        text-align: right;\n",
       "    }\n",
       "\n",
       "    .dataframe thead th {\n",
       "        text-align: left;\n",
       "    }\n",
       "\n",
       "    .dataframe tbody tr th {\n",
       "        vertical-align: top;\n",
       "    }\n",
       "</style>\n",
       "<table border=\"1\" class=\"dataframe\">\n",
       "  <thead>\n",
       "    <tr style=\"text-align: right;\">\n",
       "      <th></th>\n",
       "      <th>White (Good)</th>\n",
       "      <th>Black (Good)</th>\n",
       "      <th>Hispanic (Good)</th>\n",
       "      <th>Asian (Good)</th>\n",
       "    </tr>\n",
       "    <tr>\n",
       "      <th>Score</th>\n",
       "      <th></th>\n",
       "      <th></th>\n",
       "      <th></th>\n",
       "      <th></th>\n",
       "    </tr>\n",
       "  </thead>\n",
       "  <tbody>\n",
       "    <tr>\n",
       "      <th>42.0</th>\n",
       "      <td>81.81</td>\n",
       "      <td>54.89</td>\n",
       "      <td>65.51</td>\n",
       "      <td>81.19</td>\n",
       "    </tr>\n",
       "  </tbody>\n",
       "</table>\n",
       "</div>"
      ],
      "text/plain": [
       "       White (Good)  Black (Good)  Hispanic (Good)  Asian (Good)\n",
       "Score                                                           \n",
       "42.0          81.81         54.89            65.51         81.19"
      ]
     },
     "execution_count": 43,
     "metadata": {},
     "output_type": "execute_result"
    }
   ],
   "source": [
    "closestSensitivity = min(final[\"White (Good)\"], key=lambda x:abs(x-82))\n",
    "final[final[\"White (Good)\"] == closestSensitivity]"
   ]
  },
  {
   "cell_type": "code",
   "execution_count": 44,
   "metadata": {},
   "outputs": [
    {
     "data": {
      "text/html": [
       "<div>\n",
       "<style>\n",
       "    .dataframe thead tr:only-child th {\n",
       "        text-align: right;\n",
       "    }\n",
       "\n",
       "    .dataframe thead th {\n",
       "        text-align: left;\n",
       "    }\n",
       "\n",
       "    .dataframe tbody tr th {\n",
       "        vertical-align: top;\n",
       "    }\n",
       "</style>\n",
       "<table border=\"1\" class=\"dataframe\">\n",
       "  <thead>\n",
       "    <tr style=\"text-align: right;\">\n",
       "      <th></th>\n",
       "      <th>White (Good)</th>\n",
       "      <th>Black (Good)</th>\n",
       "      <th>Hispanic (Good)</th>\n",
       "      <th>Asian (Good)</th>\n",
       "    </tr>\n",
       "    <tr>\n",
       "      <th>Score</th>\n",
       "      <th></th>\n",
       "      <th></th>\n",
       "      <th></th>\n",
       "      <th></th>\n",
       "    </tr>\n",
       "  </thead>\n",
       "  <tbody>\n",
       "    <tr>\n",
       "      <th>41.5</th>\n",
       "      <td>82.47</td>\n",
       "      <td>56.03</td>\n",
       "      <td>66.59</td>\n",
       "      <td>81.93</td>\n",
       "    </tr>\n",
       "  </tbody>\n",
       "</table>\n",
       "</div>"
      ],
      "text/plain": [
       "       White (Good)  Black (Good)  Hispanic (Good)  Asian (Good)\n",
       "Score                                                           \n",
       "41.5          82.47         56.03            66.59         81.93"
      ]
     },
     "execution_count": 44,
     "metadata": {},
     "output_type": "execute_result"
    }
   ],
   "source": [
    "closestSensitivity = min(final[\"Asian (Good)\"], key=lambda x:abs(x-82))\n",
    "final[final[\"Asian (Good)\"] == closestSensitivity]"
   ]
  },
  {
   "cell_type": "code",
   "execution_count": 45,
   "metadata": {},
   "outputs": [
    {
     "data": {
      "text/html": [
       "<div>\n",
       "<style>\n",
       "    .dataframe thead tr:only-child th {\n",
       "        text-align: right;\n",
       "    }\n",
       "\n",
       "    .dataframe thead th {\n",
       "        text-align: left;\n",
       "    }\n",
       "\n",
       "    .dataframe tbody tr th {\n",
       "        vertical-align: top;\n",
       "    }\n",
       "</style>\n",
       "<table border=\"1\" class=\"dataframe\">\n",
       "  <thead>\n",
       "    <tr style=\"text-align: right;\">\n",
       "      <th></th>\n",
       "      <th>White (Good)</th>\n",
       "      <th>Black (Good)</th>\n",
       "      <th>Hispanic (Good)</th>\n",
       "      <th>Asian (Good)</th>\n",
       "    </tr>\n",
       "    <tr>\n",
       "      <th>Score</th>\n",
       "      <th></th>\n",
       "      <th></th>\n",
       "      <th></th>\n",
       "      <th></th>\n",
       "    </tr>\n",
       "  </thead>\n",
       "  <tbody>\n",
       "    <tr>\n",
       "      <th>31.0</th>\n",
       "      <td>91.81</td>\n",
       "      <td>73.24</td>\n",
       "      <td>82.02</td>\n",
       "      <td>92.13</td>\n",
       "    </tr>\n",
       "  </tbody>\n",
       "</table>\n",
       "</div>"
      ],
      "text/plain": [
       "       White (Good)  Black (Good)  Hispanic (Good)  Asian (Good)\n",
       "Score                                                           \n",
       "31.0          91.81         73.24            82.02         92.13"
      ]
     },
     "execution_count": 45,
     "metadata": {},
     "output_type": "execute_result"
    }
   ],
   "source": [
    "closestSensitivity = min(final[\"Hispanic (Good)\"], key=lambda x:abs(x-82))\n",
    "final[final[\"Hispanic (Good)\"] == closestSensitivity]"
   ]
  },
  {
   "cell_type": "code",
   "execution_count": 46,
   "metadata": {},
   "outputs": [
    {
     "data": {
      "text/html": [
       "<div>\n",
       "<style>\n",
       "    .dataframe thead tr:only-child th {\n",
       "        text-align: right;\n",
       "    }\n",
       "\n",
       "    .dataframe thead th {\n",
       "        text-align: left;\n",
       "    }\n",
       "\n",
       "    .dataframe tbody tr th {\n",
       "        vertical-align: top;\n",
       "    }\n",
       "</style>\n",
       "<table border=\"1\" class=\"dataframe\">\n",
       "  <thead>\n",
       "    <tr style=\"text-align: right;\">\n",
       "      <th></th>\n",
       "      <th>White (Good)</th>\n",
       "      <th>Black (Good)</th>\n",
       "      <th>Hispanic (Good)</th>\n",
       "      <th>Asian (Good)</th>\n",
       "    </tr>\n",
       "    <tr>\n",
       "      <th>Score</th>\n",
       "      <th></th>\n",
       "      <th></th>\n",
       "      <th></th>\n",
       "      <th></th>\n",
       "    </tr>\n",
       "  </thead>\n",
       "  <tbody>\n",
       "    <tr>\n",
       "      <th>26.0</th>\n",
       "      <td>95.1</td>\n",
       "      <td>81.65</td>\n",
       "      <td>89.01</td>\n",
       "      <td>95.64</td>\n",
       "    </tr>\n",
       "  </tbody>\n",
       "</table>\n",
       "</div>"
      ],
      "text/plain": [
       "       White (Good)  Black (Good)  Hispanic (Good)  Asian (Good)\n",
       "Score                                                           \n",
       "26.0           95.1         81.65            89.01         95.64"
      ]
     },
     "execution_count": 46,
     "metadata": {},
     "output_type": "execute_result"
    }
   ],
   "source": [
    "closestSensitivity = min(final[\"Black (Good)\"], key=lambda x:abs(x-82))\n",
    "final[final[\"Black (Good)\"] == closestSensitivity]"
   ]
  },
  {
   "cell_type": "code",
   "execution_count": null,
   "metadata": {
    "collapsed": true
   },
   "outputs": [],
   "source": []
  },
  {
   "cell_type": "code",
   "execution_count": null,
   "metadata": {
    "collapsed": true
   },
   "outputs": [],
   "source": []
  },
  {
   "cell_type": "code",
   "execution_count": null,
   "metadata": {
    "collapsed": true
   },
   "outputs": [],
   "source": []
  },
  {
   "cell_type": "markdown",
   "metadata": {},
   "source": [
    "## @TODO: Creating the shortened data for the article"
   ]
  },
  {
   "cell_type": "code",
   "execution_count": 47,
   "metadata": {
    "collapsed": true
   },
   "outputs": [],
   "source": [
    "def getShortened(demographic, data):\n",
    "    short_g = []\n",
    "    short_g.append(data.set_index(\"Score\")[0:19.5].Good.mean())\n",
    "    short_g.append(data.set_index(\"Score\")[20:39.5].Good.mean())\n",
    "    short_g.append(data.set_index(\"Score\")[40:59.5].Good.mean())\n",
    "    short_g.append(data.set_index(\"Score\")[60:79.5].Good.mean())\n",
    "    short_g.append(data.set_index(\"Score\")[80:100].Good.mean())\n",
    "\n",
    "    short_b = []\n",
    "    short_b.append(data.set_index(\"Score\")[0:19.5].Bad.mean())\n",
    "    short_b.append(data.set_index(\"Score\")[20:39.5].Bad.mean())\n",
    "    short_b.append(data.set_index(\"Score\")[40:59.5].Bad.mean())\n",
    "    short_b.append(data.set_index(\"Score\")[60:79.5].Bad.mean())\n",
    "    short_b.append(data.set_index(\"Score\")[80:100].Bad.mean())\n",
    "\n",
    "    return pd.DataFrame({ 'TransRisk Score' : [10, 30, 50, 70, 90],\n",
    "        'Demographic' : np.full(5, demographic),\n",
    "        'Good' : short_g,\n",
    "        'Bad' : short_b},\n",
    "            columns=[\"TransRisk Score\", \"Demographic\", \"Good\", \"Bad\"]\n",
    "                        )"
   ]
  },
  {
   "cell_type": "code",
   "execution_count": 48,
   "metadata": {},
   "outputs": [
    {
     "data": {
      "text/html": [
       "<div>\n",
       "<style>\n",
       "    .dataframe thead tr:only-child th {\n",
       "        text-align: right;\n",
       "    }\n",
       "\n",
       "    .dataframe thead th {\n",
       "        text-align: left;\n",
       "    }\n",
       "\n",
       "    .dataframe tbody tr th {\n",
       "        vertical-align: top;\n",
       "    }\n",
       "</style>\n",
       "<table border=\"1\" class=\"dataframe\">\n",
       "  <thead>\n",
       "    <tr style=\"text-align: right;\">\n",
       "      <th></th>\n",
       "      <th>Demographic</th>\n",
       "      <th>Good</th>\n",
       "      <th>Bad</th>\n",
       "    </tr>\n",
       "    <tr>\n",
       "      <th>TransRisk Score</th>\n",
       "      <th></th>\n",
       "      <th></th>\n",
       "      <th></th>\n",
       "    </tr>\n",
       "  </thead>\n",
       "  <tbody>\n",
       "    <tr>\n",
       "      <th>10</th>\n",
       "      <td>white</td>\n",
       "      <td>0.140804</td>\n",
       "      <td>0.859196</td>\n",
       "    </tr>\n",
       "    <tr>\n",
       "      <th>30</th>\n",
       "      <td>white</td>\n",
       "      <td>0.587287</td>\n",
       "      <td>0.412713</td>\n",
       "    </tr>\n",
       "    <tr>\n",
       "      <th>50</th>\n",
       "      <td>white</td>\n",
       "      <td>0.899488</td>\n",
       "      <td>0.100512</td>\n",
       "    </tr>\n",
       "    <tr>\n",
       "      <th>70</th>\n",
       "      <td>white</td>\n",
       "      <td>0.970315</td>\n",
       "      <td>0.029685</td>\n",
       "    </tr>\n",
       "    <tr>\n",
       "      <th>90</th>\n",
       "      <td>white</td>\n",
       "      <td>0.986525</td>\n",
       "      <td>0.013475</td>\n",
       "    </tr>\n",
       "  </tbody>\n",
       "</table>\n",
       "</div>"
      ],
      "text/plain": [
       "                Demographic      Good       Bad\n",
       "TransRisk Score                                \n",
       "10                    white  0.140804  0.859196\n",
       "30                    white  0.587287  0.412713\n",
       "50                    white  0.899488  0.100512\n",
       "70                    white  0.970315  0.029685\n",
       "90                    white  0.986525  0.013475"
      ]
     },
     "execution_count": 48,
     "metadata": {},
     "output_type": "execute_result"
    }
   ],
   "source": [
    "short_w = getShortened(\"white\", whites)\n",
    "short_b = getShortened(\"black\", blacks)\n",
    "short_a = getShortened(\"asian\", asians)\n",
    "short_h = getShortened(\"hispanic\", hispanics)\n",
    "shortened_data = pd.concat([short_w, short_b, short_a, short_h]).set_index(\"TransRisk Score\")\n",
    "shortened_data.head()"
   ]
  },
  {
   "cell_type": "code",
   "execution_count": 49,
   "metadata": {
    "collapsed": true
   },
   "outputs": [],
   "source": [
    "# shortened_data.to_csv(\"ShortenedData.csv\")"
   ]
  },
  {
   "cell_type": "code",
   "execution_count": null,
   "metadata": {
    "collapsed": true
   },
   "outputs": [],
   "source": []
  },
  {
   "cell_type": "markdown",
   "metadata": {},
   "source": [
    "# Calculations for Loss Function with Demographic Percentage"
   ]
  },
  {
   "cell_type": "code",
   "execution_count": 50,
   "metadata": {
    "collapsed": true
   },
   "outputs": [],
   "source": [
    "sizes = [133165, 18274, 14702, 7906]\n",
    "total = sum(sizes)\n",
    "DemographicSize = pd.DataFrame(\n",
    "    { \n",
    "    'Demographic' : ['white', 'black', 'hispanic', 'asian'],\n",
    "    'Sample Size' : sizes,\n",
    "    'Percentage' : [sizes[0]/total, sizes[1]/total, sizes[2]/total, sizes[3]/total]\n",
    "    },\n",
    "    columns=[\"Demographic\", \"Sample Size\", \"Percentage\"]\n",
    ")\n",
    "DemographicSize.set_index(\"Demographic\").to_csv(\"ProbOfBeingRace.csv\")"
   ]
  },
  {
   "cell_type": "markdown",
   "metadata": {},
   "source": [
    "### Playing around with making the tables for this visual"
   ]
  },
  {
   "cell_type": "markdown",
   "metadata": {
    "collapsed": true
   },
   "source": [
    "![Probabilities](ethicalmldiagram.png)"
   ]
  },
  {
   "cell_type": "code",
   "execution_count": 51,
   "metadata": {
    "collapsed": true
   },
   "outputs": [],
   "source": [
    "ProbRace = DemographicSize.set_index(\"Demographic\")\n",
    "ProbRace.to_csv('ProbRace.csv')"
   ]
  },
  {
   "cell_type": "code",
   "execution_count": 52,
   "metadata": {
    "collapsed": true
   },
   "outputs": [],
   "source": [
    "ProbGoodGivenRace = pd.read_csv(\"ProbGoodGivenRace.csv\")"
   ]
  },
  {
   "cell_type": "code",
   "execution_count": 53,
   "metadata": {
    "collapsed": true
   },
   "outputs": [],
   "source": [
    "ProbScoreEqualsXGivenRace = ProbOfBeingScore\n",
    "ProbScoreEqualsXGivenRace.to_csv('ProbScoreEqualsXGivenRace-old.csv')"
   ]
  },
  {
   "cell_type": "code",
   "execution_count": null,
   "metadata": {
    "collapsed": true
   },
   "outputs": [],
   "source": []
  },
  {
   "cell_type": "code",
   "execution_count": 54,
   "metadata": {
    "collapsed": true
   },
   "outputs": [],
   "source": [
    "ProbRaceAndScoreEqualsX = pd.DataFrame({\n",
    "    'white': ProbRace.Percentage['white'] * ProbScoreEqualsXGivenRace['white'],\n",
    "    'asian': ProbRace.Percentage['asian'] * ProbScoreEqualsXGivenRace['asian'],\n",
    "    'black': ProbRace.Percentage['black'] * ProbScoreEqualsXGivenRace['black'],\n",
    "    'hispanic': ProbRace.Percentage['hispanic'] * ProbScoreEqualsXGivenRace['hispanic'],\n",
    "})\n",
    "ProbRaceAndScoreEqualsX.to_csv('ProbRaceAndScoreEqualsX.csv')"
   ]
  },
  {
   "cell_type": "code",
   "execution_count": 55,
   "metadata": {},
   "outputs": [
    {
     "data": {
      "text/html": [
       "<div>\n",
       "<style>\n",
       "    .dataframe thead tr:only-child th {\n",
       "        text-align: right;\n",
       "    }\n",
       "\n",
       "    .dataframe thead th {\n",
       "        text-align: left;\n",
       "    }\n",
       "\n",
       "    .dataframe tbody tr th {\n",
       "        vertical-align: top;\n",
       "    }\n",
       "</style>\n",
       "<table border=\"1\" class=\"dataframe\">\n",
       "  <thead>\n",
       "    <tr style=\"text-align: right;\">\n",
       "      <th></th>\n",
       "      <th>asian</th>\n",
       "      <th>black</th>\n",
       "      <th>hispanic</th>\n",
       "      <th>white</th>\n",
       "    </tr>\n",
       "    <tr>\n",
       "      <th>TransRisk Score</th>\n",
       "      <th></th>\n",
       "      <th></th>\n",
       "      <th></th>\n",
       "      <th></th>\n",
       "    </tr>\n",
       "  </thead>\n",
       "  <tbody>\n",
       "    <tr>\n",
       "      <th>0.0</th>\n",
       "      <td>0.000000</td>\n",
       "      <td>0.000000</td>\n",
       "      <td>0.000000</td>\n",
       "      <td>0.000000</td>\n",
       "    </tr>\n",
       "    <tr>\n",
       "      <th>0.5</th>\n",
       "      <td>0.000059</td>\n",
       "      <td>0.001176</td>\n",
       "      <td>0.000389</td>\n",
       "      <td>0.001913</td>\n",
       "    </tr>\n",
       "    <tr>\n",
       "      <th>1.0</th>\n",
       "      <td>0.000341</td>\n",
       "      <td>0.004347</td>\n",
       "      <td>0.001478</td>\n",
       "      <td>0.006886</td>\n",
       "    </tr>\n",
       "    <tr>\n",
       "      <th>1.5</th>\n",
       "      <td>0.000086</td>\n",
       "      <td>0.001197</td>\n",
       "      <td>0.000439</td>\n",
       "      <td>0.002066</td>\n",
       "    </tr>\n",
       "    <tr>\n",
       "      <th>2.0</th>\n",
       "      <td>0.000114</td>\n",
       "      <td>0.001491</td>\n",
       "      <td>0.000634</td>\n",
       "      <td>0.002831</td>\n",
       "    </tr>\n",
       "  </tbody>\n",
       "</table>\n",
       "</div>"
      ],
      "text/plain": [
       "                    asian     black  hispanic     white\n",
       "TransRisk Score                                        \n",
       "0.0              0.000000  0.000000  0.000000  0.000000\n",
       "0.5              0.000059  0.001176  0.000389  0.001913\n",
       "1.0              0.000341  0.004347  0.001478  0.006886\n",
       "1.5              0.000086  0.001197  0.000439  0.002066\n",
       "2.0              0.000114  0.001491  0.000634  0.002831"
      ]
     },
     "execution_count": 55,
     "metadata": {},
     "output_type": "execute_result"
    }
   ],
   "source": [
    "ProbRaceAndScoreEqualsX.head()"
   ]
  },
  {
   "cell_type": "code",
   "execution_count": 56,
   "metadata": {
    "collapsed": true
   },
   "outputs": [],
   "source": [
    "ProbOfBeingGoodAtScore.to_csv('ProbGoodGivenRaceAndScoreEqualsX.csv')"
   ]
  },
  {
   "cell_type": "code",
   "execution_count": 57,
   "metadata": {
    "collapsed": true
   },
   "outputs": [],
   "source": [
    "ProbScoreEqualsXAndGoodAndRace = ProbRaceAndScoreEqualsX * ProbOfBeingGoodAtScore"
   ]
  },
  {
   "cell_type": "code",
   "execution_count": 58,
   "metadata": {
    "collapsed": true
   },
   "outputs": [],
   "source": [
    "ProbScoreEqualsXAndGoodAndRace.to_csv('P(score=xandgoodandrace).csv')"
   ]
  },
  {
   "cell_type": "code",
   "execution_count": 59,
   "metadata": {
    "collapsed": true
   },
   "outputs": [],
   "source": [
    "ProbGoodAndRace = pd.DataFrame({\n",
    "    'white': ProbRace.Percentage['white'] * ProbGoodGivenRace['white'],\n",
    "    'asian': ProbRace.Percentage['asian'] * ProbGoodGivenRace['asian'],\n",
    "    'black': ProbRace.Percentage['black'] * ProbGoodGivenRace['black'],\n",
    "    'hispanic': ProbRace.Percentage['hispanic'] * ProbGoodGivenRace['hispanic'],\n",
    "})"
   ]
  },
  {
   "cell_type": "code",
   "execution_count": 60,
   "metadata": {},
   "outputs": [
    {
     "data": {
      "text/html": [
       "<div>\n",
       "<style>\n",
       "    .dataframe thead tr:only-child th {\n",
       "        text-align: right;\n",
       "    }\n",
       "\n",
       "    .dataframe thead th {\n",
       "        text-align: left;\n",
       "    }\n",
       "\n",
       "    .dataframe tbody tr th {\n",
       "        vertical-align: top;\n",
       "    }\n",
       "</style>\n",
       "<table border=\"1\" class=\"dataframe\">\n",
       "  <thead>\n",
       "    <tr style=\"text-align: right;\">\n",
       "      <th></th>\n",
       "      <th>asian</th>\n",
       "      <th>black</th>\n",
       "      <th>hispanic</th>\n",
       "      <th>white</th>\n",
       "    </tr>\n",
       "  </thead>\n",
       "  <tbody>\n",
       "    <tr>\n",
       "      <th>0</th>\n",
       "      <td>0.03637</td>\n",
       "      <td>0.033091</td>\n",
       "      <td>0.04651</td>\n",
       "      <td>0.58086</td>\n",
       "    </tr>\n",
       "  </tbody>\n",
       "</table>\n",
       "</div>"
      ],
      "text/plain": [
       "     asian     black  hispanic    white\n",
       "0  0.03637  0.033091   0.04651  0.58086"
      ]
     },
     "execution_count": 60,
     "metadata": {},
     "output_type": "execute_result"
    }
   ],
   "source": [
    "ProbGoodAndRace"
   ]
  },
  {
   "cell_type": "code",
   "execution_count": 61,
   "metadata": {},
   "outputs": [
    {
     "data": {
      "text/plain": [
       "0.58085959841307233"
      ]
     },
     "execution_count": 61,
     "metadata": {},
     "output_type": "execute_result"
    }
   ],
   "source": [
    "ProbGoodAndRace['white'].values[0]"
   ]
  },
  {
   "cell_type": "code",
   "execution_count": 62,
   "metadata": {},
   "outputs": [
    {
     "data": {
      "text/html": [
       "<div>\n",
       "<style>\n",
       "    .dataframe thead tr:only-child th {\n",
       "        text-align: right;\n",
       "    }\n",
       "\n",
       "    .dataframe thead th {\n",
       "        text-align: left;\n",
       "    }\n",
       "\n",
       "    .dataframe tbody tr th {\n",
       "        vertical-align: top;\n",
       "    }\n",
       "</style>\n",
       "<table border=\"1\" class=\"dataframe\">\n",
       "  <thead>\n",
       "    <tr style=\"text-align: right;\">\n",
       "      <th></th>\n",
       "      <th>asian</th>\n",
       "      <th>black</th>\n",
       "      <th>hispanic</th>\n",
       "      <th>white</th>\n",
       "    </tr>\n",
       "    <tr>\n",
       "      <th>TransRisk Score</th>\n",
       "      <th></th>\n",
       "      <th></th>\n",
       "      <th></th>\n",
       "      <th></th>\n",
       "    </tr>\n",
       "  </thead>\n",
       "  <tbody>\n",
       "    <tr>\n",
       "      <th>0.0</th>\n",
       "      <td>0.000000</td>\n",
       "      <td>0.000000</td>\n",
       "      <td>0.000000</td>\n",
       "      <td>0.000000</td>\n",
       "    </tr>\n",
       "    <tr>\n",
       "      <th>0.5</th>\n",
       "      <td>0.000000</td>\n",
       "      <td>0.000161</td>\n",
       "      <td>0.000172</td>\n",
       "      <td>0.000000</td>\n",
       "    </tr>\n",
       "    <tr>\n",
       "      <th>1.0</th>\n",
       "      <td>0.000568</td>\n",
       "      <td>0.002871</td>\n",
       "      <td>0.000355</td>\n",
       "      <td>0.000304</td>\n",
       "    </tr>\n",
       "    <tr>\n",
       "      <th>1.5</th>\n",
       "      <td>0.000000</td>\n",
       "      <td>0.000669</td>\n",
       "      <td>0.000000</td>\n",
       "      <td>0.000097</td>\n",
       "    </tr>\n",
       "    <tr>\n",
       "      <th>2.0</th>\n",
       "      <td>0.000327</td>\n",
       "      <td>0.000924</td>\n",
       "      <td>0.000346</td>\n",
       "      <td>0.000205</td>\n",
       "    </tr>\n",
       "  </tbody>\n",
       "</table>\n",
       "</div>"
      ],
      "text/plain": [
       "                    asian     black  hispanic     white\n",
       "TransRisk Score                                        \n",
       "0.0              0.000000  0.000000  0.000000  0.000000\n",
       "0.5              0.000000  0.000161  0.000172  0.000000\n",
       "1.0              0.000568  0.002871  0.000355  0.000304\n",
       "1.5              0.000000  0.000669  0.000000  0.000097\n",
       "2.0              0.000327  0.000924  0.000346  0.000205"
      ]
     },
     "execution_count": 62,
     "metadata": {},
     "output_type": "execute_result"
    }
   ],
   "source": [
    "ProbScoreEqualsXGivenGoodAndRace = pd.DataFrame({\n",
    "    'white': ProbScoreEqualsXAndGoodAndRace['white'] / ProbGoodAndRace['white'].values[0],\n",
    "    'asian': ProbScoreEqualsXAndGoodAndRace['asian'] / ProbGoodAndRace['asian'].values[0],\n",
    "    'black': ProbScoreEqualsXAndGoodAndRace['black'] / ProbGoodAndRace['black'].values[0],\n",
    "    'hispanic': ProbScoreEqualsXAndGoodAndRace ['hispanic'] / ProbGoodAndRace['hispanic'].values[0],\n",
    "})\n",
    "\n",
    "\n",
    "ProbScoreEqualsXGivenGoodAndRace.head()"
   ]
  },
  {
   "cell_type": "code",
   "execution_count": 63,
   "metadata": {
    "collapsed": true
   },
   "outputs": [],
   "source": [
    "ProbScoreEqualsXGivenGoodAndRace.to_csv('ProbScoreEqualsXGivenGoodAndRace.csv')"
   ]
  },
  {
   "cell_type": "code",
   "execution_count": 64,
   "metadata": {
    "collapsed": true
   },
   "outputs": [],
   "source": [
    "(ProbScoreEqualsXGivenGoodAndRace.cumsum()).to_csv('ProbScoreGreaterThanXGivenGoodAndRace.csv')"
   ]
  },
  {
   "cell_type": "code",
   "execution_count": null,
   "metadata": {
    "collapsed": true
   },
   "outputs": [],
   "source": []
  },
  {
   "cell_type": "code",
   "execution_count": null,
   "metadata": {
    "collapsed": true
   },
   "outputs": [],
   "source": []
  },
  {
   "cell_type": "markdown",
   "metadata": {},
   "source": [
    "# Calculating Actual Precision"
   ]
  },
  {
   "cell_type": "code",
   "execution_count": 65,
   "metadata": {
    "collapsed": true
   },
   "outputs": [],
   "source": [
    "ProbScoreGivenRace = ProbOfGettingLoan\n",
    "ProbRaceAndScore = pd.DataFrame({\n",
    "    'white': ProbRace.Percentage['white'] * ProbScoreGivenRace['white'],\n",
    "    'asian': ProbRace.Percentage['asian'] * ProbScoreGivenRace['asian'],\n",
    "    'black': ProbRace.Percentage['black'] * ProbScoreGivenRace['black'],\n",
    "    'hispanic': ProbRace.Percentage['hispanic'] * ProbScoreGivenRace['hispanic'],\n",
    "})\n",
    "ProbGoodGivenRaceAndScore = pd.read_csv(\"ProbLoanReceiverIsGood.csv\")\n",
    "ProbGoodGivenRaceAndScore.set_index('TransRisk Score').to_csv('ProbGoodGivenRaceAndScoreGreaterX.csv')\n",
    "ProbRaceAndScoreAndGood = (ProbGoodGivenRaceAndScore.set_index('TransRisk Score') * ProbRaceAndScore).fillna(value=0)"
   ]
  },
  {
   "cell_type": "code",
   "execution_count": 66,
   "metadata": {},
   "outputs": [
    {
     "data": {
      "text/html": [
       "<div>\n",
       "<style>\n",
       "    .dataframe thead tr:only-child th {\n",
       "        text-align: right;\n",
       "    }\n",
       "\n",
       "    .dataframe thead th {\n",
       "        text-align: left;\n",
       "    }\n",
       "\n",
       "    .dataframe tbody tr th {\n",
       "        vertical-align: top;\n",
       "    }\n",
       "</style>\n",
       "<table border=\"1\" class=\"dataframe\">\n",
       "  <thead>\n",
       "    <tr style=\"text-align: right;\">\n",
       "      <th></th>\n",
       "      <th>P(score&gt;=x)</th>\n",
       "    </tr>\n",
       "    <tr>\n",
       "      <th>TransRisk Score</th>\n",
       "      <th></th>\n",
       "    </tr>\n",
       "  </thead>\n",
       "  <tbody>\n",
       "    <tr>\n",
       "      <th>0.0</th>\n",
       "      <td>0.999842</td>\n",
       "    </tr>\n",
       "    <tr>\n",
       "      <th>0.5</th>\n",
       "      <td>0.999842</td>\n",
       "    </tr>\n",
       "    <tr>\n",
       "      <th>1.0</th>\n",
       "      <td>0.996305</td>\n",
       "    </tr>\n",
       "    <tr>\n",
       "      <th>1.5</th>\n",
       "      <td>0.983254</td>\n",
       "    </tr>\n",
       "    <tr>\n",
       "      <th>2.0</th>\n",
       "      <td>0.979465</td>\n",
       "    </tr>\n",
       "  </tbody>\n",
       "</table>\n",
       "</div>"
      ],
      "text/plain": [
       "                 P(score>=x)\n",
       "TransRisk Score             \n",
       "0.0                 0.999842\n",
       "0.5                 0.999842\n",
       "1.0                 0.996305\n",
       "1.5                 0.983254\n",
       "2.0                 0.979465"
      ]
     },
     "execution_count": 66,
     "metadata": {},
     "output_type": "execute_result"
    }
   ],
   "source": [
    "ProbScoreGreaterX = pd.DataFrame(ProbRaceAndScore.sum(axis=1))\n",
    "ProbScoreGreaterX.columns=['P(score>=x)']\n",
    "ProbScoreGreaterX.head()"
   ]
  },
  {
   "cell_type": "code",
   "execution_count": 67,
   "metadata": {},
   "outputs": [
    {
     "data": {
      "text/html": [
       "<div>\n",
       "<style>\n",
       "    .dataframe thead tr:only-child th {\n",
       "        text-align: right;\n",
       "    }\n",
       "\n",
       "    .dataframe thead th {\n",
       "        text-align: left;\n",
       "    }\n",
       "\n",
       "    .dataframe tbody tr th {\n",
       "        vertical-align: top;\n",
       "    }\n",
       "</style>\n",
       "<table border=\"1\" class=\"dataframe\">\n",
       "  <thead>\n",
       "    <tr style=\"text-align: right;\">\n",
       "      <th></th>\n",
       "      <th>P(score&gt;=x &amp; good)</th>\n",
       "    </tr>\n",
       "    <tr>\n",
       "      <th>TransRisk Score</th>\n",
       "      <th></th>\n",
       "    </tr>\n",
       "  </thead>\n",
       "  <tbody>\n",
       "    <tr>\n",
       "      <th>0.0</th>\n",
       "      <td>0.696829</td>\n",
       "    </tr>\n",
       "    <tr>\n",
       "      <th>0.5</th>\n",
       "      <td>0.696829</td>\n",
       "    </tr>\n",
       "    <tr>\n",
       "      <th>1.0</th>\n",
       "      <td>0.696816</td>\n",
       "    </tr>\n",
       "    <tr>\n",
       "      <th>1.5</th>\n",
       "      <td>0.696507</td>\n",
       "    </tr>\n",
       "    <tr>\n",
       "      <th>2.0</th>\n",
       "      <td>0.696429</td>\n",
       "    </tr>\n",
       "  </tbody>\n",
       "</table>\n",
       "</div>"
      ],
      "text/plain": [
       "                 P(score>=x & good)\n",
       "TransRisk Score                    \n",
       "0.0                        0.696829\n",
       "0.5                        0.696829\n",
       "1.0                        0.696816\n",
       "1.5                        0.696507\n",
       "2.0                        0.696429"
      ]
     },
     "execution_count": 67,
     "metadata": {},
     "output_type": "execute_result"
    }
   ],
   "source": [
    "ProbScoreGreaterXAndGood = pd.DataFrame(ProbRaceAndScoreAndGood.sum(axis=1))\n",
    "ProbScoreGreaterXAndGood.columns=['P(score>=x & good)']\n",
    "ProbScoreGreaterXAndGood.head()"
   ]
  },
  {
   "cell_type": "code",
   "execution_count": 68,
   "metadata": {},
   "outputs": [
    {
     "data": {
      "text/html": [
       "<div>\n",
       "<style>\n",
       "    .dataframe thead tr:only-child th {\n",
       "        text-align: right;\n",
       "    }\n",
       "\n",
       "    .dataframe thead th {\n",
       "        text-align: left;\n",
       "    }\n",
       "\n",
       "    .dataframe tbody tr th {\n",
       "        vertical-align: top;\n",
       "    }\n",
       "</style>\n",
       "<table border=\"1\" class=\"dataframe\">\n",
       "  <thead>\n",
       "    <tr style=\"text-align: right;\">\n",
       "      <th></th>\n",
       "      <th>Precision</th>\n",
       "    </tr>\n",
       "    <tr>\n",
       "      <th>TransRisk Score</th>\n",
       "      <th></th>\n",
       "    </tr>\n",
       "  </thead>\n",
       "  <tbody>\n",
       "    <tr>\n",
       "      <th>0.0</th>\n",
       "      <td>0.69694</td>\n",
       "    </tr>\n",
       "    <tr>\n",
       "      <th>0.5</th>\n",
       "      <td>0.69694</td>\n",
       "    </tr>\n",
       "    <tr>\n",
       "      <th>1.0</th>\n",
       "      <td>0.69940</td>\n",
       "    </tr>\n",
       "    <tr>\n",
       "      <th>1.5</th>\n",
       "      <td>0.70837</td>\n",
       "    </tr>\n",
       "    <tr>\n",
       "      <th>2.0</th>\n",
       "      <td>0.71103</td>\n",
       "    </tr>\n",
       "  </tbody>\n",
       "</table>\n",
       "</div>"
      ],
      "text/plain": [
       "                 Precision\n",
       "TransRisk Score           \n",
       "0.0                0.69694\n",
       "0.5                0.69694\n",
       "1.0                0.69940\n",
       "1.5                0.70837\n",
       "2.0                0.71103"
      ]
     },
     "execution_count": 68,
     "metadata": {},
     "output_type": "execute_result"
    }
   ],
   "source": [
    "Precision = pd.DataFrame(\n",
    "    ProbScoreGreaterXAndGood['P(score>=x & good)'] / \n",
    "    ProbScoreGreaterX['P(score>=x)'])\n",
    "Precision.columns=['Precision']\n",
    "Precision.head()"
   ]
  },
  {
   "cell_type": "code",
   "execution_count": null,
   "metadata": {
    "collapsed": true
   },
   "outputs": [],
   "source": []
  }
 ],
 "metadata": {
  "kernelspec": {
   "display_name": "Python 3",
   "language": "python",
   "name": "python3"
  },
  "language_info": {
   "codemirror_mode": {
    "name": "ipython",
    "version": 3
   },
   "file_extension": ".py",
   "mimetype": "text/x-python",
   "name": "python",
   "nbconvert_exporter": "python",
   "pygments_lexer": "ipython3",
   "version": "3.6.1"
  }
 },
 "nbformat": 4,
 "nbformat_minor": 2
}
