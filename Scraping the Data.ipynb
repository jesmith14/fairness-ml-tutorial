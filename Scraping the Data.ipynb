{
 "cells": [
  {
   "cell_type": "markdown",
   "metadata": {},
   "source": [
    "## Notes\n",
    "\n",
    "• All of the following calculations are conditional on race/ethnicity. That is, the calculation described below is carried out separately for each race.\n",
    "\n",
    "• The figures/tables containing the data can be found here:\n",
    "https://www.federalreserve.gov/boarddocs/rptcongress/creditscore/figures.htm.\n",
    "\n",
    "• We will be analyzing\n",
    "- \"Figure_7.A._TransRisk_Score_Cumulative_Percentage_of_Goods_and_Bads,_by_Demographic_Group(Random-Account_Performance)_-_Race_or_ethnicity_(SSA_data)\"\n",
    "- \"Figure 3.A. TransRisk Score: Cumulative Percentage, by Demographic Group (SSA data)\" "
   ]
  },
  {
   "cell_type": "markdown",
   "metadata": {},
   "source": [
    "## Calculations"
   ]
  },
  {
   "cell_type": "code",
   "execution_count": 1,
   "metadata": {
    "collapsed": true
   },
   "outputs": [],
   "source": [
    "import pandas as pd\n",
    "import numpy as np\n",
    "import sys\n",
    "import matplotlib.pyplot as plt\n",
    "totalData = pd.read_csv(\"Figure7A.csv\")\n",
    "CumulativeData = pd.read_csv(\"Figure3A.csv\")"
   ]
  },
  {
   "cell_type": "code",
   "execution_count": 2,
   "metadata": {
    "collapsed": true
   },
   "outputs": [],
   "source": [
    "%matplotlib inline"
   ]
  },
  {
   "cell_type": "markdown",
   "metadata": {},
   "source": [
    "### Step 1) Calculating π\n",
    "Notes: Will be calculating pi for inequality data (cumulative probabilities) and the non-cumulative data, then finding the best value for pi by comparing the means and the pi value at a score of 50 (half way point)"
   ]
  },
  {
   "cell_type": "markdown",
   "metadata": {},
   "source": [
    "*** If I calculate pi with the inequality data: ***"
   ]
  },
  {
   "cell_type": "code",
   "execution_count": 3,
   "metadata": {
    "collapsed": true
   },
   "outputs": [],
   "source": [
    "# Get the dataframe that holds the cumulative percentage, by demographic group\n",
    "def getPD(data, col, raceName):\n",
    "    pd = data[\"Score\"].to_frame(name=\"Score\")\n",
    "    race = np.full(len(data), raceName)\n",
    "    pd[\"Demographic\"] = race\n",
    "    pd[\"Percentage\"] = data[col]\n",
    "    return pd\n",
    "\n",
    "whites = getPD(CumulativeData, \"White\", \"white\")\n",
    "blacks = getPD(CumulativeData, \"Black\", \"black\")\n",
    "asians = getPD(CumulativeData, \"Asian\", \"asian\")\n",
    "hispanics = getPD(CumulativeData, \"Hispanic\", \"hispanic\")\n",
    "pds = [whites, blacks, asians, hispanics]\n",
    "cumulative = pd.concat(pds)"
   ]
  },
  {
   "cell_type": "code",
   "execution_count": 4,
   "metadata": {
    "collapsed": true
   },
   "outputs": [],
   "source": [
    "def getPis(dataset, raceSet, goodName, badName):\n",
    "    good = dataset.set_index(\"Score\")[goodName]\n",
    "    bad = dataset.set_index(\"Score\")[badName]\n",
    "    total = raceSet.set_index(\"Score\").Percentage\n",
    "    return ((total - bad) / (good - bad)).fillna(value=0)"
   ]
  },
  {
   "cell_type": "code",
   "execution_count": 5,
   "metadata": {
    "collapsed": true
   },
   "outputs": [],
   "source": [
    "asianPi = getPis(totalData, asians, \"Asian (Good)\", \"Asian (Bad)\")\n",
    "whitePi = getPis(totalData, whites, \"White (Good)\", \"White (Bad)\")\n",
    "blackPi = getPis(totalData, blacks, \"Black (Good)\", \"Black (Bad)\")\n",
    "hispanicPi = getPis(totalData, hispanics, \"Hispanic (Good)\", \"Hispanic (Bad)\")"
   ]
  },
  {
   "cell_type": "code",
   "execution_count": 6,
   "metadata": {},
   "outputs": [
    {
     "data": {
      "text/plain": [
       "[<matplotlib.lines.Line2D at 0x117ca4c18>]"
      ]
     },
     "execution_count": 6,
     "metadata": {},
     "output_type": "execute_result"
    },
    {
     "data": {
      "image/png": "[encoded data removed]",
      "text/plain": [
       "<matplotlib.figure.Figure at 0x1156bbe80>"
      ]
     },
     "metadata": {},
     "output_type": "display_data"
    }
   ],
   "source": [
    "#pi with inequality values\n",
    "plt.plot(asianPi)\n",
    "plt.plot(whitePi)\n",
    "plt.plot(hispanicPi)\n",
    "plt.plot(blackPi)"
   ]
  },
  {
   "cell_type": "code",
   "execution_count": 7,
   "metadata": {},
   "outputs": [
    {
     "data": {
      "text/plain": [
       "(0.7778627963889763,\n",
       " 0.7331253694683577,\n",
       " 0.5407805362887502,\n",
       " 0.32228162064873733)"
      ]
     },
     "execution_count": 7,
     "metadata": {},
     "output_type": "execute_result"
    }
   ],
   "source": [
    "#pi for each demographic if I choose the mean value with inequalites\n",
    "asianPi.mean(), whitePi.mean(), hispanicPi.mean(), blackPi.mean()"
   ]
  },
  {
   "cell_type": "code",
   "execution_count": 8,
   "metadata": {},
   "outputs": [
    {
     "data": {
      "text/plain": [
       "(0.78271983640081788,\n",
       " 0.72788697788697787,\n",
       " 0.53443983402489637,\n",
       " 0.31168177240684786)"
      ]
     },
     "execution_count": 8,
     "metadata": {},
     "output_type": "execute_result"
    }
   ],
   "source": [
    "#pi for each demographic if I choose the value at score 50 with inequalities\n",
    "asianPi[50], whitePi[50], hispanicPi[50], blackPi[50]"
   ]
  },
  {
   "cell_type": "markdown",
   "metadata": {},
   "source": [
    "*** If I calculate pi with the non-cumulative data ***"
   ]
  },
  {
   "cell_type": "code",
   "execution_count": 9,
   "metadata": {
    "collapsed": true
   },
   "outputs": [],
   "source": [
    "def getPisNonCumulative(dataset, raceSet, goodName, badName):\n",
    "    good = dataset.set_index(\"Score\")[goodName].diff().fillna(value=0)\n",
    "    bad = dataset.set_index(\"Score\")[badName].diff().fillna(value=0)\n",
    "    total = raceSet.set_index(\"Score\")[\"Percentage\"].diff().fillna(value=0)\n",
    "    return ((total - bad) / (good - bad)).fillna(value=0)"
   ]
  },
  {
   "cell_type": "code",
   "execution_count": 10,
   "metadata": {
    "collapsed": true
   },
   "outputs": [],
   "source": [
    "whitePiTwo = getPisNonCumulative(totalData, whites, \"White (Good)\", \"White (Bad)\")\n",
    "blackPiTwo = getPisNonCumulative(totalData, blacks, \"Black (Good)\", \"Black (Bad)\")\n",
    "asianPiTwo = getPisNonCumulative(totalData, asians, \"Asian (Good)\", \"Asian (Bad)\")\n",
    "hispanicPiTwo = getPisNonCumulative(totalData, hispanics, \"Hispanic (Good)\", \"Hispanic (Bad)\")"
   ]
  },
  {
   "cell_type": "code",
   "execution_count": 11,
   "metadata": {},
   "outputs": [
    {
     "data": {
      "text/plain": [
       "Score\n",
       "30.0    5.945946e-01\n",
       "30.5    6.451613e-01\n",
       "31.0    5.882353e-01\n",
       "31.5    5.238095e-01\n",
       "32.0    5.000000e-01\n",
       "32.5    6.000000e-01\n",
       "33.0    5.294118e-01\n",
       "33.5    2.368476e-13\n",
       "34.0    5.555556e-01\n",
       "34.5   -1.184238e-13\n",
       "35.0    5.000000e-01\n",
       "35.5    5.000000e-01\n",
       "36.0    1.500000e+00\n",
       "36.5    1.000000e+00\n",
       "37.0    1.058824e+00\n",
       "37.5    2.000000e+00\n",
       "38.0    1.166667e+00\n",
       "38.5    1.000000e+00\n",
       "39.0   -4.000000e+00\n",
       "39.5   -1.608428e+12\n",
       "40.0    1.100000e+00\n",
       "dtype: float64"
      ]
     },
     "execution_count": 11,
     "metadata": {},
     "output_type": "execute_result"
    }
   ],
   "source": [
    "whitePiTwo[30:40]"
   ]
  },
  {
   "cell_type": "code",
   "execution_count": 12,
   "metadata": {},
   "outputs": [
    {
     "data": {
      "text/plain": [
       "[<matplotlib.lines.Line2D at 0x117d01da0>]"
      ]
     },
     "execution_count": 12,
     "metadata": {},
     "output_type": "execute_result"
    },
    {
     "data": {
      "image/png": "[encoded data removed]",
      "text/plain": [
       "<matplotlib.figure.Figure at 0x117cbb5c0>"
      ]
     },
     "metadata": {},
     "output_type": "display_data"
    }
   ],
   "source": [
    "#pi with equality values (all of the plots are a little bit weird for this one because there are negative diff values\n",
    "#and rounding error for the whitePiTwo)\n",
    "# plt.plot(blackPiTwo)\n",
    "# plt.plot(asianPiTwo)\n",
    "plt.plot(whitePiTwo)\n",
    "# plt.plot(hispanicPiTwo)"
   ]
  },
  {
   "cell_type": "code",
   "execution_count": 13,
   "metadata": {},
   "outputs": [
    {
     "data": {
      "text/plain": [
       "(-8123375950.528774,\n",
       " 0.32642509048604285,\n",
       " 0.7913702820010068,\n",
       " 0.5063311172908808)"
      ]
     },
     "execution_count": 13,
     "metadata": {},
     "output_type": "execute_result"
    }
   ],
   "source": [
    "#value of pi for non cumulative data with mean values\n",
    "whitePiTwo.mean(), blackPiTwo.mean(), asianPiTwo.mean(), hispanicPiTwo.mean()"
   ]
  },
  {
   "cell_type": "code",
   "execution_count": 14,
   "metadata": {},
   "outputs": [
    {
     "data": {
      "text/plain": [
       "(0.77551020408163152,\n",
       " 0.29896907216495305,\n",
       " 0.80645161290323375,\n",
       " 0.54545454545453709)"
      ]
     },
     "execution_count": 14,
     "metadata": {},
     "output_type": "execute_result"
    }
   ],
   "source": [
    "#value of pi for non cumulative data with selecting score of 50\n",
    "whitePiTwo[50], blackPiTwo[50], asianPiTwo[50], hispanicPiTwo[50]"
   ]
  },
  {
   "cell_type": "code",
   "execution_count": 15,
   "metadata": {},
   "outputs": [
    {
     "data": {
      "text/plain": [
       "(0.77551020408163152,\n",
       " 0.72788697788697787,\n",
       " 0.29896907216495305,\n",
       " 0.31168177240684786,\n",
       " 0.80645161290323375,\n",
       " 0.78271983640081788,\n",
       " 0.54545454545453709,\n",
       " 0.53443983402489637)"
      ]
     },
     "execution_count": 15,
     "metadata": {},
     "output_type": "execute_result"
    }
   ],
   "source": [
    "# comparing pi values to find the best ones with a score of 50:\n",
    "whitePiTwo[50], whitePi[50], blackPiTwo[50], blackPi[50], asianPiTwo[50], asianPi[50], hispanicPiTwo[50], hispanicPi[50]"
   ]
  },
  {
   "cell_type": "code",
   "execution_count": 16,
   "metadata": {},
   "outputs": [
    {
     "data": {
      "text/plain": [
       "(-8123375950.528774,\n",
       " 0.7331253694683577,\n",
       " 0.32642509048604285,\n",
       " 0.32228162064873733,\n",
       " 0.7913702820010068,\n",
       " 0.7778627963889763,\n",
       " 0.5063311172908808,\n",
       " 0.5407805362887502)"
      ]
     },
     "execution_count": 16,
     "metadata": {},
     "output_type": "execute_result"
    }
   ],
   "source": [
    "# comparing pi values to find the best ones using the mean value\n",
    "whitePiTwo.mean(), whitePi.mean(), blackPiTwo.mean(), blackPi.mean(), asianPiTwo.mean(), asianPi.mean(), hispanicPiTwo.mean(), hispanicPi.mean()"
   ]
  },
  {
   "cell_type": "markdown",
   "metadata": {},
   "source": [
    "*** Interpretations.... ***\n",
    "Since the mean values are not as closely linked, and there is the descrepancy in the white values, I'm going to use the transrisk score of 50 value for pi. It seems that pi is greater using the non-cumulative data rather than the cumulative data, (except for the black demographic). I'm going to use the non-cumulative data for now and see if that yeilds good results."
   ]
  },
  {
   "cell_type": "markdown",
   "metadata": {},
   "source": [
    "### Step 3) Calculate the probability using Bayes' Rule"
   ]
  },
  {
   "cell_type": "code",
   "execution_count": 17,
   "metadata": {
    "collapsed": true
   },
   "outputs": [],
   "source": [
    "piWhite = whitePiTwo[50]\n",
    "piBlack = blackPiTwo[50]\n",
    "piAsian = asianPiTwo[50]\n",
    "piHispanic = hispanicPiTwo[50]"
   ]
  },
  {
   "cell_type": "markdown",
   "metadata": {},
   "source": [
    "## Here is where the pi values come from for the tutorial (ProbGoodGivenRace)\n",
    "\n",
    "Here pis = P(good | race)"
   ]
  },
  {
   "cell_type": "code",
   "execution_count": 18,
   "metadata": {
    "collapsed": true
   },
   "outputs": [],
   "source": [
    "# pis = [piWhite, piBlack, piHispanic, piAsian]"
   ]
  },
  {
   "cell_type": "code",
   "execution_count": 19,
   "metadata": {
    "collapsed": true
   },
   "outputs": [],
   "source": [
    "pis = [0.759185,0.315164,0.550595,0.80066]"
   ]
  },
  {
   "cell_type": "code",
   "execution_count": 20,
   "metadata": {
    "collapsed": true
   },
   "outputs": [],
   "source": [
    "piProb = pd.DataFrame(data=[pis], columns=['white', 'black', 'hispanic', 'asian'])"
   ]
  },
  {
   "cell_type": "code",
   "execution_count": 21,
   "metadata": {
    "collapsed": true
   },
   "outputs": [],
   "source": [
    "piProb.set_index(\"white\").to_csv(\"ProbGoodGivenRace.csv\")"
   ]
  },
  {
   "cell_type": "code",
   "execution_count": 22,
   "metadata": {
    "collapsed": true
   },
   "outputs": [],
   "source": [
    "def getProbability(dataset, raceSet, goodName, badName, pi):\n",
    "    good = dataset.set_index(\"Score\")[goodName].diff().fillna(value=0)\n",
    "    bad = dataset.set_index(\"Score\")[badName].diff().fillna(value=0)\n",
    "    total = raceSet.set_index(\"Score\")[\"Percentage\"].diff().fillna(value=0)\n",
    "    finalProbability = (pi * good) / ((pi * good) + ((1 - pi)*(bad)))\n",
    "    return finalProbability"
   ]
  },
  {
   "cell_type": "code",
   "execution_count": 23,
   "metadata": {
    "collapsed": true
   },
   "outputs": [],
   "source": [
    "whiteProb = getProbability(totalData, whites, \"White (Good)\", \"White (Bad)\", piWhite).fillna(value=0)\n",
    "blackProb = getProbability(totalData, blacks, \"Black (Good)\", \"Black (Bad)\", piBlack).fillna(value=0)\n",
    "asianProb = getProbability(totalData, blacks, \"Asian (Good)\", \"Asian (Bad)\", piAsian).fillna(value=0)\n",
    "hispanicProb = getProbability(totalData, hispanics, \"Hispanic (Good)\", \"Hispanic (Bad)\", piHispanic).fillna(value=0)"
   ]
  },
  {
   "cell_type": "code",
   "execution_count": 24,
   "metadata": {},
   "outputs": [
    {
     "data": {
      "text/plain": [
       "[<matplotlib.lines.Line2D at 0x117e94a90>]"
      ]
     },
     "execution_count": 24,
     "metadata": {},
     "output_type": "execute_result"
    },
    {
     "data": {
      "image/png": "[encoded data removed]",
      "text/plain": [
       "<matplotlib.figure.Figure at 0x117df56a0>"
      ]
     },
     "metadata": {},
     "output_type": "display_data"
    }
   ],
   "source": [
    "plt.plot(whiteProb)\n",
    "plt.plot(blackProb)\n",
    "plt.plot(asianProb)\n",
    "plt.plot(hispanicProb)"
   ]
  },
  {
   "cell_type": "code",
   "execution_count": 25,
   "metadata": {
    "collapsed": true
   },
   "outputs": [],
   "source": [
    "newData = pd.DataFrame(index=totalData.set_index(\"Score\").index)\n",
    "newData.index.names = [\"TransRisk Score\"]\n",
    "newData[\"white\"] = whiteProb\n",
    "newData[\"black\"] = blackProb\n",
    "newData[\"hispanic\"] = hispanicProb\n",
    "newData[\"asian\"] = asianProb\n",
    "# newData.to_csv(\"ProbOfBeingGood.csv\")"
   ]
  },
  {
   "cell_type": "markdown",
   "metadata": {
    "collapsed": true
   },
   "source": [
    "## Percentage of Goods and Bads (totals to 1.0 for each score)"
   ]
  },
  {
   "cell_type": "code",
   "execution_count": 26,
   "metadata": {
    "collapsed": true
   },
   "outputs": [],
   "source": [
    "import pandas as pd\n",
    "import numpy as np\n",
    "%matplotlib inline"
   ]
  },
  {
   "cell_type": "code",
   "execution_count": 27,
   "metadata": {
    "collapsed": true
   },
   "outputs": [],
   "source": [
    "def getPD(goodName, badName, data, raceName):\n",
    "    pd = data['Score'].to_frame(name=\"Score\")\n",
    "    race = np.full(len(data), raceName)\n",
    "    pd[\"Demographic\"] = race\n",
    "    pd[\"Good\"] = data[goodName].copy()\n",
    "    pd[\"Bad\"] = data[badName].copy()\n",
    "    return pd"
   ]
  },
  {
   "cell_type": "code",
   "execution_count": 28,
   "metadata": {
    "collapsed": true
   },
   "outputs": [],
   "source": [
    "#section not needed for final tutorial but here for reference currently\n",
    "data = pd.read_csv(\"NonCumulativeProbabilities.csv\")\n",
    "whites = getPD('White (Good)', 'White (Bad)', data, \"white\")\n",
    "blacks = getPD('Black (Good)', 'Black (Bad)', data, \"black\")\n",
    "asians = getPD('Asian (Good)', 'Asian (Bad)', data, \"asian\")\n",
    "hispanics = getPD('Hispanic (Good)', 'Hispanic (Bad)', data, \"hispanic\")"
   ]
  },
  {
   "cell_type": "code",
   "execution_count": 29,
   "metadata": {},
   "outputs": [
    {
     "data": {
      "text/html": [
       "<div>\n",
       "<style>\n",
       "    .dataframe thead tr:only-child th {\n",
       "        text-align: right;\n",
       "    }\n",
       "\n",
       "    .dataframe thead th {\n",
       "        text-align: left;\n",
       "    }\n",
       "\n",
       "    .dataframe tbody tr th {\n",
       "        vertical-align: top;\n",
       "    }\n",
       "</style>\n",
       "<table border=\"1\" class=\"dataframe\">\n",
       "  <thead>\n",
       "    <tr style=\"text-align: right;\">\n",
       "      <th></th>\n",
       "      <th>Demographic</th>\n",
       "      <th>Good</th>\n",
       "      <th>Bad</th>\n",
       "    </tr>\n",
       "    <tr>\n",
       "      <th>TransRisk Score</th>\n",
       "      <th></th>\n",
       "      <th></th>\n",
       "      <th></th>\n",
       "    </tr>\n",
       "  </thead>\n",
       "  <tbody>\n",
       "    <tr>\n",
       "      <th>0.0</th>\n",
       "      <td>white</td>\n",
       "      <td>0.000000</td>\n",
       "      <td>1.000000</td>\n",
       "    </tr>\n",
       "    <tr>\n",
       "      <th>0.5</th>\n",
       "      <td>white</td>\n",
       "      <td>0.000000</td>\n",
       "      <td>1.000000</td>\n",
       "    </tr>\n",
       "    <tr>\n",
       "      <th>1.0</th>\n",
       "      <td>white</td>\n",
       "      <td>0.025629</td>\n",
       "      <td>0.974371</td>\n",
       "    </tr>\n",
       "    <tr>\n",
       "      <th>1.5</th>\n",
       "      <td>white</td>\n",
       "      <td>0.027318</td>\n",
       "      <td>0.972682</td>\n",
       "    </tr>\n",
       "    <tr>\n",
       "      <th>2.0</th>\n",
       "      <td>white</td>\n",
       "      <td>0.042152</td>\n",
       "      <td>0.957848</td>\n",
       "    </tr>\n",
       "  </tbody>\n",
       "</table>\n",
       "</div>"
      ],
      "text/plain": [
       "                Demographic      Good       Bad\n",
       "TransRisk Score                                \n",
       "0.0                   white  0.000000  1.000000\n",
       "0.5                   white  0.000000  1.000000\n",
       "1.0                   white  0.025629  0.974371\n",
       "1.5                   white  0.027318  0.972682\n",
       "2.0                   white  0.042152  0.957848"
      ]
     },
     "execution_count": 29,
     "metadata": {},
     "output_type": "execute_result"
    }
   ],
   "source": [
    "frames = [whites, blacks, asians, hispanics]\n",
    "totalData = pd.concat(frames)\n",
    "totalData.rename(columns={'Score' : 'TransRisk Score'}, inplace=True)\n",
    "totalData.set_index(\"TransRisk Score\", inplace=True)\n",
    "totalData.head()"
   ]
  },
  {
   "cell_type": "code",
   "execution_count": 30,
   "metadata": {
    "collapsed": true
   },
   "outputs": [],
   "source": [
    "#used to be TransRiskScores.csv\n",
    "totalData.to_csv(\"PercentageOfGoodsAndBads.csv\")"
   ]
  },
  {
   "cell_type": "markdown",
   "metadata": {},
   "source": [
    "# Creating Dataframes for Tutorial"
   ]
  },
  {
   "cell_type": "markdown",
   "metadata": {},
   "source": [
    "## Probability of Getting a Loan\n",
    "(this is what I will have them graph initially to see the unfairness)<br/>\n",
    "**Final Result: P(score >= x | race)**\n",
    "- probability of getting a loan\n",
    "\n",
    "**ProbOfBeingScore: P(score = x | race)**\n",
    "- probability of being a certain transrisk score"
   ]
  },
  {
   "cell_type": "code",
   "execution_count": 31,
   "metadata": {},
   "outputs": [
    {
     "data": {
      "text/plain": [
       "<matplotlib.axes._subplots.AxesSubplot at 0x117f0a240>"
      ]
     },
     "execution_count": 31,
     "metadata": {},
     "output_type": "execute_result"
    },
    {
     "data": {
      "image/png": "[encoded data removed]",
      "text/plain": [
       "<matplotlib.figure.Figure at 0x117e03c50>"
      ]
     },
     "metadata": {},
     "output_type": "display_data"
    }
   ],
   "source": [
    "ProbOfBeingScore = (\n",
    "    pd.read_csv(\"figure3A.csv\")\n",
    "    .set_index([\"Score\"]).diff().fillna(0) / 100\n",
    ")\n",
    "ProbOfBeingScore.columns.name = \"Demographic\"\n",
    "ProbOfBeingScore.columns = ProbOfBeingScore.columns.str.lower()\n",
    "ProbOfBeingScore.index.name = \"TransRisk Score\"\n",
    "ProbOfBeingScore.to_csv(\"ProbOfBeingScore.csv\")\n",
    "ProbOfGettingLoan = ProbOfBeingScore.iloc[::-1].cumsum()[::-1]\n",
    "ProbOfGettingLoan.plot.line()\n",
    "# ProbOfGettingLoan.to_csv(\"ProbOfGettingLoan.csv\")"
   ]
  },
  {
   "cell_type": "markdown",
   "metadata": {},
   "source": [
    "## Calculating ProbLoanReceiverIsGood (What we used to think was Sensitivity) \n",
    "(This actually isn't what we want anymore)<br/>\n",
    "** Final Result (What we used to think was Sensitivity): P(good | score >= x, race) **\n",
    "- probability of being good if given a loan\n",
    "\n",
    "** ProbOfBeingGoodAtScore : P(good | score = x, race) **\n",
    "- probability of being good at a specific score\n",
    "\n",
    "** ProbOfGettingLoan : P(score >= x | race) **\n",
    "- probability of getting a loan\n",
    "\n",
    "** ProbGoodAndLoan : P(good and score >= x | race) **\n",
    "- probability of being good and getting a loan\n",
    "\n",
    "**ProbOfBeingScore : P(score = x | race)**\n",
    "- probability of being a certain transrisk score\n",
    "\n",
    "** ProbGoodAndScore : P(good and score = x | race) **\n",
    "- probability that you are good at a certain transrisk score"
   ]
  },
  {
   "cell_type": "code",
   "execution_count": 32,
   "metadata": {
    "collapsed": true
   },
   "outputs": [],
   "source": [
    "ProbOfBeingGoodAtScore = (\n",
    "    pd.read_csv(\"PercentageOfGoodsAndBads.csv\")\n",
    "    .set_index([\"TransRisk Score\", \"Demographic\"])\n",
    "    .unstack()[\"Good\"]\n",
    ")\n",
    "# ProbOfBeingGoodAtScore = (\n",
    "#     totalData\n",
    "#     .set_index(\"Score\")\n",
    "#     .unstack()[\"Good\"]\n",
    "# )\n",
    "ProbGoodAndScore = (ProbOfBeingScore * ProbOfBeingGoodAtScore)\n",
    "ProbGoodAndLoan = ProbGoodAndScore.iloc[::-1].cumsum()[::-1]"
   ]
  },
  {
   "cell_type": "code",
   "execution_count": 33,
   "metadata": {
    "collapsed": true
   },
   "outputs": [],
   "source": [
    "# ProbGoodAndLoan.to_csv(\"ProbGoodAndLoan.csv\")"
   ]
  },
  {
   "cell_type": "code",
   "execution_count": 34,
   "metadata": {},
   "outputs": [
    {
     "data": {
      "text/plain": [
       "<matplotlib.axes._subplots.AxesSubplot at 0x1185e7048>"
      ]
     },
     "execution_count": 34,
     "metadata": {},
     "output_type": "execute_result"
    },
    {
     "data": {
      "image/png": "[encoded data removed]",
      "text/plain": [
       "<matplotlib.figure.Figure at 0x1184f3e80>"
      ]
     },
     "metadata": {},
     "output_type": "display_data"
    }
   ],
   "source": [
    "Sensitivity = ProbGoodAndLoan / ProbOfGettingLoan\n",
    "Sensitivity.plot.line()"
   ]
  },
  {
   "cell_type": "code",
   "execution_count": 35,
   "metadata": {
    "collapsed": true
   },
   "outputs": [],
   "source": [
    "Sensitivity.to_csv(\"ProbLoanReceiverIsGood.csv\")"
   ]
  },
  {
   "cell_type": "code",
   "execution_count": null,
   "metadata": {
    "collapsed": true
   },
   "outputs": [],
   "source": []
  },
  {
   "cell_type": "markdown",
   "metadata": {
    "collapsed": true
   },
   "source": [
    "# Checking the validity of the tutorial by cross-checking the actual Sensitivity at 0.82 and the corresponding thresholds"
   ]
  },
  {
   "cell_type": "code",
   "execution_count": 36,
   "metadata": {},
   "outputs": [
    {
     "data": {
      "text/html": [
       "<div>\n",
       "<style>\n",
       "    .dataframe thead tr:only-child th {\n",
       "        text-align: right;\n",
       "    }\n",
       "\n",
       "    .dataframe thead th {\n",
       "        text-align: left;\n",
       "    }\n",
       "\n",
       "    .dataframe tbody tr th {\n",
       "        vertical-align: top;\n",
       "    }\n",
       "</style>\n",
       "<table border=\"1\" class=\"dataframe\">\n",
       "  <thead>\n",
       "    <tr style=\"text-align: right;\">\n",
       "      <th></th>\n",
       "      <th>Score</th>\n",
       "      <th>White (Good)</th>\n",
       "      <th>White (Bad)</th>\n",
       "      <th>Black (Good)</th>\n",
       "      <th>Black (Bad)</th>\n",
       "      <th>Hispanic (Good)</th>\n",
       "      <th>Hispanic (Bad)</th>\n",
       "      <th>Asian (Good)</th>\n",
       "      <th>Asian (Bad)</th>\n",
       "    </tr>\n",
       "  </thead>\n",
       "  <tbody>\n",
       "    <tr>\n",
       "      <th>0</th>\n",
       "      <td>0.0</td>\n",
       "      <td>0.00</td>\n",
       "      <td>0.04</td>\n",
       "      <td>0.00</td>\n",
       "      <td>0.12</td>\n",
       "      <td>0.00</td>\n",
       "      <td>0.03</td>\n",
       "      <td>0.00</td>\n",
       "      <td>0.00</td>\n",
       "    </tr>\n",
       "    <tr>\n",
       "      <th>1</th>\n",
       "      <td>0.5</td>\n",
       "      <td>0.00</td>\n",
       "      <td>1.21</td>\n",
       "      <td>0.02</td>\n",
       "      <td>2.00</td>\n",
       "      <td>0.02</td>\n",
       "      <td>1.17</td>\n",
       "      <td>0.00</td>\n",
       "      <td>0.75</td>\n",
       "    </tr>\n",
       "    <tr>\n",
       "      <th>2</th>\n",
       "      <td>1.0</td>\n",
       "      <td>0.03</td>\n",
       "      <td>5.15</td>\n",
       "      <td>0.37</td>\n",
       "      <td>8.68</td>\n",
       "      <td>0.06</td>\n",
       "      <td>5.42</td>\n",
       "      <td>0.06</td>\n",
       "      <td>4.62</td>\n",
       "    </tr>\n",
       "    <tr>\n",
       "      <th>3</th>\n",
       "      <td>1.5</td>\n",
       "      <td>0.04</td>\n",
       "      <td>6.38</td>\n",
       "      <td>0.45</td>\n",
       "      <td>10.49</td>\n",
       "      <td>0.06</td>\n",
       "      <td>6.75</td>\n",
       "      <td>0.06</td>\n",
       "      <td>5.58</td>\n",
       "    </tr>\n",
       "    <tr>\n",
       "      <th>4</th>\n",
       "      <td>2.0</td>\n",
       "      <td>0.06</td>\n",
       "      <td>7.95</td>\n",
       "      <td>0.56</td>\n",
       "      <td>12.73</td>\n",
       "      <td>0.10</td>\n",
       "      <td>8.59</td>\n",
       "      <td>0.09</td>\n",
       "      <td>6.65</td>\n",
       "    </tr>\n",
       "  </tbody>\n",
       "</table>\n",
       "</div>"
      ],
      "text/plain": [
       "   Score  White (Good)  White (Bad)  Black (Good)  Black (Bad)  \\\n",
       "0    0.0          0.00         0.04          0.00         0.12   \n",
       "1    0.5          0.00         1.21          0.02         2.00   \n",
       "2    1.0          0.03         5.15          0.37         8.68   \n",
       "3    1.5          0.04         6.38          0.45        10.49   \n",
       "4    2.0          0.06         7.95          0.56        12.73   \n",
       "\n",
       "   Hispanic (Good)  Hispanic (Bad)  Asian (Good)  Asian (Bad)  \n",
       "0             0.00            0.03          0.00         0.00  \n",
       "1             0.02            1.17          0.00         0.75  \n",
       "2             0.06            5.42          0.06         4.62  \n",
       "3             0.06            6.75          0.06         5.58  \n",
       "4             0.10            8.59          0.09         6.65  "
      ]
     },
     "execution_count": 36,
     "metadata": {},
     "output_type": "execute_result"
    }
   ],
   "source": [
    "pd.read_csv(\"Figure7A.csv\").head()"
   ]
  },
  {
   "cell_type": "code",
   "execution_count": 37,
   "metadata": {
    "collapsed": true
   },
   "outputs": [],
   "source": [
    "data = pd.read_csv(\"Figure7A.csv\")[[\"Score\", \"White (Good)\", \"Black (Good)\", \"Hispanic (Good)\", \"Asian (Good)\"]]\n",
    "data.set_index(\"Score\", inplace=True)"
   ]
  },
  {
   "cell_type": "code",
   "execution_count": 38,
   "metadata": {},
   "outputs": [
    {
     "data": {
      "text/plain": [
       "<matplotlib.axes._subplots.AxesSubplot at 0x118756400>"
      ]
     },
     "execution_count": 38,
     "metadata": {},
     "output_type": "execute_result"
    },
    {
     "data": {
      "image/png": "[encoded data removed]",
      "text/plain": [
       "<matplotlib.figure.Figure at 0x118756f60>"
      ]
     },
     "metadata": {},
     "output_type": "display_data"
    }
   ],
   "source": [
    "final = (100 - data)\n",
    "final.to_csv(\"FinalSolution.csv\")\n",
    "final.plot.line()"
   ]
  },
  {
   "cell_type": "code",
   "execution_count": 39,
   "metadata": {},
   "outputs": [
    {
     "data": {
      "text/html": [
       "<div>\n",
       "<style>\n",
       "    .dataframe thead tr:only-child th {\n",
       "        text-align: right;\n",
       "    }\n",
       "\n",
       "    .dataframe thead th {\n",
       "        text-align: left;\n",
       "    }\n",
       "\n",
       "    .dataframe tbody tr th {\n",
       "        vertical-align: top;\n",
       "    }\n",
       "</style>\n",
       "<table border=\"1\" class=\"dataframe\">\n",
       "  <thead>\n",
       "    <tr style=\"text-align: right;\">\n",
       "      <th></th>\n",
       "      <th>White (Good)</th>\n",
       "      <th>Black (Good)</th>\n",
       "      <th>Hispanic (Good)</th>\n",
       "      <th>Asian (Good)</th>\n",
       "    </tr>\n",
       "    <tr>\n",
       "      <th>Score</th>\n",
       "      <th></th>\n",
       "      <th></th>\n",
       "      <th></th>\n",
       "      <th></th>\n",
       "    </tr>\n",
       "  </thead>\n",
       "  <tbody>\n",
       "    <tr>\n",
       "      <th>42.0</th>\n",
       "      <td>81.81</td>\n",
       "      <td>54.89</td>\n",
       "      <td>65.51</td>\n",
       "      <td>81.19</td>\n",
       "    </tr>\n",
       "  </tbody>\n",
       "</table>\n",
       "</div>"
      ],
      "text/plain": [
       "       White (Good)  Black (Good)  Hispanic (Good)  Asian (Good)\n",
       "Score                                                           \n",
       "42.0          81.81         54.89            65.51         81.19"
      ]
     },
     "execution_count": 39,
     "metadata": {},
     "output_type": "execute_result"
    }
   ],
   "source": [
    "closestSensitivity = min(final[\"White (Good)\"], key=lambda x:abs(x-82))\n",
    "final[final[\"White (Good)\"] == closestSensitivity]"
   ]
  },
  {
   "cell_type": "code",
   "execution_count": 40,
   "metadata": {},
   "outputs": [
    {
     "data": {
      "text/html": [
       "<div>\n",
       "<style>\n",
       "    .dataframe thead tr:only-child th {\n",
       "        text-align: right;\n",
       "    }\n",
       "\n",
       "    .dataframe thead th {\n",
       "        text-align: left;\n",
       "    }\n",
       "\n",
       "    .dataframe tbody tr th {\n",
       "        vertical-align: top;\n",
       "    }\n",
       "</style>\n",
       "<table border=\"1\" class=\"dataframe\">\n",
       "  <thead>\n",
       "    <tr style=\"text-align: right;\">\n",
       "      <th></th>\n",
       "      <th>White (Good)</th>\n",
       "      <th>Black (Good)</th>\n",
       "      <th>Hispanic (Good)</th>\n",
       "      <th>Asian (Good)</th>\n",
       "    </tr>\n",
       "    <tr>\n",
       "      <th>Score</th>\n",
       "      <th></th>\n",
       "      <th></th>\n",
       "      <th></th>\n",
       "      <th></th>\n",
       "    </tr>\n",
       "  </thead>\n",
       "  <tbody>\n",
       "    <tr>\n",
       "      <th>41.5</th>\n",
       "      <td>82.47</td>\n",
       "      <td>56.03</td>\n",
       "      <td>66.59</td>\n",
       "      <td>81.93</td>\n",
       "    </tr>\n",
       "  </tbody>\n",
       "</table>\n",
       "</div>"
      ],
      "text/plain": [
       "       White (Good)  Black (Good)  Hispanic (Good)  Asian (Good)\n",
       "Score                                                           \n",
       "41.5          82.47         56.03            66.59         81.93"
      ]
     },
     "execution_count": 40,
     "metadata": {},
     "output_type": "execute_result"
    }
   ],
   "source": [
    "closestSensitivity = min(final[\"Asian (Good)\"], key=lambda x:abs(x-82))\n",
    "final[final[\"Asian (Good)\"] == closestSensitivity]"
   ]
  },
  {
   "cell_type": "code",
   "execution_count": 41,
   "metadata": {},
   "outputs": [
    {
     "data": {
      "text/html": [
       "<div>\n",
       "<style>\n",
       "    .dataframe thead tr:only-child th {\n",
       "        text-align: right;\n",
       "    }\n",
       "\n",
       "    .dataframe thead th {\n",
       "        text-align: left;\n",
       "    }\n",
       "\n",
       "    .dataframe tbody tr th {\n",
       "        vertical-align: top;\n",
       "    }\n",
       "</style>\n",
       "<table border=\"1\" class=\"dataframe\">\n",
       "  <thead>\n",
       "    <tr style=\"text-align: right;\">\n",
       "      <th></th>\n",
       "      <th>White (Good)</th>\n",
       "      <th>Black (Good)</th>\n",
       "      <th>Hispanic (Good)</th>\n",
       "      <th>Asian (Good)</th>\n",
       "    </tr>\n",
       "    <tr>\n",
       "      <th>Score</th>\n",
       "      <th></th>\n",
       "      <th></th>\n",
       "      <th></th>\n",
       "      <th></th>\n",
       "    </tr>\n",
       "  </thead>\n",
       "  <tbody>\n",
       "    <tr>\n",
       "      <th>31.0</th>\n",
       "      <td>91.81</td>\n",
       "      <td>73.24</td>\n",
       "      <td>82.02</td>\n",
       "      <td>92.13</td>\n",
       "    </tr>\n",
       "  </tbody>\n",
       "</table>\n",
       "</div>"
      ],
      "text/plain": [
       "       White (Good)  Black (Good)  Hispanic (Good)  Asian (Good)\n",
       "Score                                                           \n",
       "31.0          91.81         73.24            82.02         92.13"
      ]
     },
     "execution_count": 41,
     "metadata": {},
     "output_type": "execute_result"
    }
   ],
   "source": [
    "closestSensitivity = min(final[\"Hispanic (Good)\"], key=lambda x:abs(x-82))\n",
    "final[final[\"Hispanic (Good)\"] == closestSensitivity]"
   ]
  },
  {
   "cell_type": "code",
   "execution_count": 42,
   "metadata": {},
   "outputs": [
    {
     "data": {
      "text/html": [
       "<div>\n",
       "<style>\n",
       "    .dataframe thead tr:only-child th {\n",
       "        text-align: right;\n",
       "    }\n",
       "\n",
       "    .dataframe thead th {\n",
       "        text-align: left;\n",
       "    }\n",
       "\n",
       "    .dataframe tbody tr th {\n",
       "        vertical-align: top;\n",
       "    }\n",
       "</style>\n",
       "<table border=\"1\" class=\"dataframe\">\n",
       "  <thead>\n",
       "    <tr style=\"text-align: right;\">\n",
       "      <th></th>\n",
       "      <th>White (Good)</th>\n",
       "      <th>Black (Good)</th>\n",
       "      <th>Hispanic (Good)</th>\n",
       "      <th>Asian (Good)</th>\n",
       "    </tr>\n",
       "    <tr>\n",
       "      <th>Score</th>\n",
       "      <th></th>\n",
       "      <th></th>\n",
       "      <th></th>\n",
       "      <th></th>\n",
       "    </tr>\n",
       "  </thead>\n",
       "  <tbody>\n",
       "    <tr>\n",
       "      <th>26.0</th>\n",
       "      <td>95.1</td>\n",
       "      <td>81.65</td>\n",
       "      <td>89.01</td>\n",
       "      <td>95.64</td>\n",
       "    </tr>\n",
       "  </tbody>\n",
       "</table>\n",
       "</div>"
      ],
      "text/plain": [
       "       White (Good)  Black (Good)  Hispanic (Good)  Asian (Good)\n",
       "Score                                                           \n",
       "26.0           95.1         81.65            89.01         95.64"
      ]
     },
     "execution_count": 42,
     "metadata": {},
     "output_type": "execute_result"
    }
   ],
   "source": [
    "closestSensitivity = min(final[\"Black (Good)\"], key=lambda x:abs(x-82))\n",
    "final[final[\"Black (Good)\"] == closestSensitivity]"
   ]
  },
  {
   "cell_type": "code",
   "execution_count": null,
   "metadata": {
    "collapsed": true
   },
   "outputs": [],
   "source": []
  },
  {
   "cell_type": "code",
   "execution_count": null,
   "metadata": {
    "collapsed": true
   },
   "outputs": [],
   "source": []
  },
  {
   "cell_type": "code",
   "execution_count": null,
   "metadata": {
    "collapsed": true
   },
   "outputs": [],
   "source": []
  },
  {
   "cell_type": "markdown",
   "metadata": {},
   "source": [
    "## @TODO: Creating the shortened data for the article"
   ]
  },
  {
   "cell_type": "code",
   "execution_count": 43,
   "metadata": {
    "collapsed": true
   },
   "outputs": [],
   "source": [
    "def getShortened(demographic, data):\n",
    "    short_g = []\n",
    "    short_g.append(data.set_index(\"Score\")[0:19.5].Good.mean())\n",
    "    short_g.append(data.set_index(\"Score\")[20:39.5].Good.mean())\n",
    "    short_g.append(data.set_index(\"Score\")[40:59.5].Good.mean())\n",
    "    short_g.append(data.set_index(\"Score\")[60:79.5].Good.mean())\n",
    "    short_g.append(data.set_index(\"Score\")[80:100].Good.mean())\n",
    "\n",
    "    short_b = []\n",
    "    short_b.append(data.set_index(\"Score\")[0:19.5].Bad.mean())\n",
    "    short_b.append(data.set_index(\"Score\")[20:39.5].Bad.mean())\n",
    "    short_b.append(data.set_index(\"Score\")[40:59.5].Bad.mean())\n",
    "    short_b.append(data.set_index(\"Score\")[60:79.5].Bad.mean())\n",
    "    short_b.append(data.set_index(\"Score\")[80:100].Bad.mean())\n",
    "\n",
    "    return pd.DataFrame({ 'TransRisk Score' : [10, 30, 50, 70, 90],\n",
    "        'Demographic' : np.full(5, demographic),\n",
    "        'Good' : short_g,\n",
    "        'Bad' : short_b},\n",
    "            columns=[\"TransRisk Score\", \"Demographic\", \"Good\", \"Bad\"]\n",
    "                        )"
   ]
  },
  {
   "cell_type": "code",
   "execution_count": 44,
   "metadata": {},
   "outputs": [
    {
     "data": {
      "text/html": [
       "<div>\n",
       "<style>\n",
       "    .dataframe thead tr:only-child th {\n",
       "        text-align: right;\n",
       "    }\n",
       "\n",
       "    .dataframe thead th {\n",
       "        text-align: left;\n",
       "    }\n",
       "\n",
       "    .dataframe tbody tr th {\n",
       "        vertical-align: top;\n",
       "    }\n",
       "</style>\n",
       "<table border=\"1\" class=\"dataframe\">\n",
       "  <thead>\n",
       "    <tr style=\"text-align: right;\">\n",
       "      <th></th>\n",
       "      <th>Demographic</th>\n",
       "      <th>Good</th>\n",
       "      <th>Bad</th>\n",
       "    </tr>\n",
       "    <tr>\n",
       "      <th>TransRisk Score</th>\n",
       "      <th></th>\n",
       "      <th></th>\n",
       "      <th></th>\n",
       "    </tr>\n",
       "  </thead>\n",
       "  <tbody>\n",
       "    <tr>\n",
       "      <th>10</th>\n",
       "      <td>white</td>\n",
       "      <td>0.140804</td>\n",
       "      <td>0.859196</td>\n",
       "    </tr>\n",
       "    <tr>\n",
       "      <th>30</th>\n",
       "      <td>white</td>\n",
       "      <td>0.587287</td>\n",
       "      <td>0.412713</td>\n",
       "    </tr>\n",
       "    <tr>\n",
       "      <th>50</th>\n",
       "      <td>white</td>\n",
       "      <td>0.899488</td>\n",
       "      <td>0.100512</td>\n",
       "    </tr>\n",
       "    <tr>\n",
       "      <th>70</th>\n",
       "      <td>white</td>\n",
       "      <td>0.970315</td>\n",
       "      <td>0.029685</td>\n",
       "    </tr>\n",
       "    <tr>\n",
       "      <th>90</th>\n",
       "      <td>white</td>\n",
       "      <td>0.986525</td>\n",
       "      <td>0.013475</td>\n",
       "    </tr>\n",
       "  </tbody>\n",
       "</table>\n",
       "</div>"
      ],
      "text/plain": [
       "                Demographic      Good       Bad\n",
       "TransRisk Score                                \n",
       "10                    white  0.140804  0.859196\n",
       "30                    white  0.587287  0.412713\n",
       "50                    white  0.899488  0.100512\n",
       "70                    white  0.970315  0.029685\n",
       "90                    white  0.986525  0.013475"
      ]
     },
     "execution_count": 44,
     "metadata": {},
     "output_type": "execute_result"
    }
   ],
   "source": [
    "short_w = getShortened(\"white\", whites)\n",
    "short_b = getShortened(\"black\", blacks)\n",
    "short_a = getShortened(\"asian\", asians)\n",
    "short_h = getShortened(\"hispanic\", hispanics)\n",
    "shortened_data = pd.concat([short_w, short_b, short_a, short_h]).set_index(\"TransRisk Score\")\n",
    "shortened_data.head()"
   ]
  },
  {
   "cell_type": "code",
   "execution_count": 45,
   "metadata": {
    "collapsed": true
   },
   "outputs": [],
   "source": [
    "# shortened_data.to_csv(\"ShortenedData.csv\")"
   ]
  }
 ],
 "metadata": {
  "kernelspec": {
   "display_name": "Python 3",
   "language": "python",
   "name": "python3"
  },
  "language_info": {
   "codemirror_mode": {
    "name": "ipython",
    "version": 3
   },
   "file_extension": ".py",
   "mimetype": "text/x-python",
   "name": "python",
   "nbconvert_exporter": "python",
   "pygments_lexer": "ipython3",
   "version": "3.6.1"
  }
 },
 "nbformat": 4,
 "nbformat_minor": 2
}
