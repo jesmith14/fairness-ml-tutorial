{
 "cells": [
  {
   "cell_type": "code",
   "execution_count": 1,
   "metadata": {
    "collapsed": true
   },
   "outputs": [],
   "source": [
    "import pandas as pd"
   ]
  },
  {
   "cell_type": "code",
   "execution_count": 2,
   "metadata": {
    "collapsed": true
   },
   "outputs": [],
   "source": [
    "ProbNonDefaultGivenScoreGreaterXAndRace = pd.read_csv(\"ProbNonDefaultGivenScoreGreaterXAndRace.csv\")\n",
    "ProbLoanReceiverIsGood = pd.read_csv(\"ProbLoanReceiverIsGood.csv\")"
   ]
  },
  {
   "cell_type": "markdown",
   "metadata": {},
   "source": [
    "# ProbOfBeingScore = ProbScoreEqualsXGivenRace"
   ]
  },
  {
   "cell_type": "code",
   "execution_count": 5,
   "metadata": {},
   "outputs": [],
   "source": [
    "ProbOfBeingScore = (\n",
    "    pd.read_csv(\"figure3A.csv\")\n",
    "    .set_index([\"Score\"]).diff().fillna(0) / 100\n",
    ")\n",
    "# ProbOfBeingScore.columns.name = \"Demographic\"\n",
    "ProbOfBeingScore.columns = ProbOfBeingScore.columns.str.lower()\n",
    "ProbOfBeingScore.index.name = \"TransRisk Score\""
   ]
  },
  {
   "cell_type": "code",
   "execution_count": 10,
   "metadata": {},
   "outputs": [],
   "source": [
    "ProbScoreEqualsXGivenRace = pd.read_csv(\"ProbScoreEqualsXGivenRace.csv\").set_index(\"Score\")"
   ]
  },
  {
   "cell_type": "code",
   "execution_count": 15,
   "metadata": {},
   "outputs": [
    {
     "name": "stdout",
     "output_type": "stream",
     "text": [
      "White 5.692061405548898e-17\n",
      "Black 4.7488055154865094e-17\n",
      "Hispanic 5.800481622797449e-17\n",
      "Asian 5.117434254131581e-17\n"
     ]
    }
   ],
   "source": [
    "for race in [\"White\", \"Black\", \"Hispanic\", \"Asian\"]:\n",
    "    print(race, (ProbOfBeingScore[race.lower()] - ProbScoreEqualsXGivenRace[race]).abs().sum())"
   ]
  },
  {
   "cell_type": "markdown",
   "metadata": {},
   "source": [
    "# ProbOfBeingGoodAtScore = ProbNonDefaultAndScoreEqualsXGivenRace"
   ]
  },
  {
   "cell_type": "code",
   "execution_count": 21,
   "metadata": {},
   "outputs": [],
   "source": [
    "ProbOfBeingGoodAtScore = (\n",
    "    pd.read_csv(\"PercentageOfGoodsAndBads.csv\")\n",
    "    .set_index([\"TransRisk Score\", \"Demographic\"])\n",
    "    .unstack()[\"Good\"]\n",
    ")"
   ]
  },
  {
   "cell_type": "code",
   "execution_count": 20,
   "metadata": {},
   "outputs": [],
   "source": [
    "pis = [0.759185,0.315164,0.550595,0.80066]\n",
    "CumulativePercentageByDefaulters = pd.read_csv(\"Figure7A-fixed.csv\")\n",
    "\n",
    "sizes = [133165, 18274, 14702, 7906]\n",
    "total = sum(sizes)\n",
    "ProbOfBeingRace = pd.DataFrame(\n",
    "    { \n",
    "    'Demographic' : ['white', 'black', 'hispanic', 'asian'],\n",
    "    'P(race)' : [sizes[0]/total, sizes[1]/total, sizes[2]/total, sizes[3]/total]\n",
    "    },\n",
    "    columns=[\"Demographic\", \"P(race)\"]\n",
    ")\n",
    "ProbOfBeingRace.set_index('Demographic', inplace=True)\n",
    "ProbRaceAndScoreEqualsX = pd.DataFrame({\n",
    "    'white': ProbOfBeingRace.loc['white']['P(race)'] * ProbScoreEqualsXGivenRace['White'],\n",
    "    'asian': ProbOfBeingRace.loc['asian']['P(race)'] * ProbScoreEqualsXGivenRace['Asian'],\n",
    "    'black': ProbOfBeingRace.loc['black']['P(race)'] * ProbScoreEqualsXGivenRace['Black'],\n",
    "    'hispanic': ProbOfBeingRace.loc['hispanic']['P(race)'] * ProbScoreEqualsXGivenRace['Hispanic'],\n",
    "})\n",
    "\n",
    "def getProbDefOrNotGivenScoreEqualsX(dataset, names, pis):\n",
    "    probabilities = pd.DataFrame(index=dataset.index)\n",
    "    for i in range(len(names)):\n",
    "        nonDefault = dataset[names[i] + ' (NonDefault)'].diff().fillna(value=0)\n",
    "        default = dataset[names[i] + ' (Default)'].diff().fillna(value=0)\n",
    "        finalProbability = (\n",
    "            (pis[i] * nonDefault) / ((pis[i] * nonDefault) + ((1 - pis[i])*(default))))\n",
    "        probabilities['P(NonDefault|Score=x, ' + names[i] + ')'] = finalProbability.fillna(value=0)\n",
    "        probabilities['P(Default|Score=x, ' + names[i] + ')'] = (1 - finalProbability.fillna(value=0))\n",
    "    probabilities['Score'] = dataset.index\n",
    "    return probabilities.set_index('Score')\n",
    "\n",
    "ProbDefOrNotGivenScoreEqualsXAndRace = getProbDefOrNotGivenScoreEqualsX(\n",
    "    CumulativePercentageByDefaulters.set_index('Score'),\n",
    "    [\"White\", \"Black\", \"Hispanic\", \"Asian\"],\n",
    "    pis)\n",
    "\n",
    "ProbNonDefaultGivenScoreEqualsXAndRace = (\n",
    "    ProbDefOrNotGivenScoreEqualsXAndRace[['P(NonDefault|Score=x, White)', \n",
    "                                 'P(NonDefault|Score=x, Black)',\n",
    "                                'P(NonDefault|Score=x, Hispanic)',\n",
    "                                'P(NonDefault|Score=x, Asian)']])\n",
    "\n",
    "ProbScoreEqualsXAndGoodAndRace = pd.DataFrame(index=ProbRaceAndScoreEqualsX.index)\n",
    "ProbScoreEqualsXAndGoodAndRace['P(Score=x and NonDefault and White)'] = (\n",
    "    ProbRaceAndScoreEqualsX['white'] * ProbNonDefaultGivenScoreEqualsXAndRace['P(NonDefault|Score=x, White)'])\n",
    "ProbScoreEqualsXAndGoodAndRace['P(Score=x and NonDefault and Black)'] = (\n",
    "    ProbRaceAndScoreEqualsX['black'] * ProbNonDefaultGivenScoreEqualsXAndRace['P(NonDefault|Score=x, Black)'])\n",
    "ProbScoreEqualsXAndGoodAndRace['P(Score=x and NonDefault and Hispanic)'] = (\n",
    "    ProbRaceAndScoreEqualsX['hispanic'] * ProbNonDefaultGivenScoreEqualsXAndRace['P(NonDefault|Score=x, Hispanic)'])\n",
    "ProbScoreEqualsXAndGoodAndRace['P(Score=x and NonDefault and Asian)'] = (\n",
    "    ProbRaceAndScoreEqualsX['asian'] * ProbNonDefaultGivenScoreEqualsXAndRace['P(NonDefault|Score=x, Asian)'])\n",
    "\n",
    "ProbNonDefaultGivenScoreEqualsXAndRace.columns= ['Asian', 'Black', 'Hispanic', 'White']"
   ]
  },
  {
   "cell_type": "code",
   "execution_count": 26,
   "metadata": {},
   "outputs": [
    {
     "name": "stdout",
     "output_type": "stream",
     "text": [
      "White 8.502342054140064\n",
      "Black 1.6674386454431702\n",
      "Hispanic 0.4350214440731871\n",
      "Asian 8.92581709234939\n"
     ]
    }
   ],
   "source": [
    "for race in [\"White\", \"Black\", \"Hispanic\", \"Asian\"]:\n",
    "    print(race, (ProbOfBeingGoodAtScore[race.lower()] - ProbNonDefaultGivenScoreEqualsXAndRace[race]).abs().sum())"
   ]
  },
  {
   "cell_type": "code",
   "execution_count": null,
   "metadata": {
    "collapsed": true
   },
   "outputs": [],
   "source": []
  }
 ],
 "metadata": {
  "kernelspec": {
   "display_name": "Python [conda root]",
   "language": "python",
   "name": "conda-root-py"
  },
  "language_info": {
   "codemirror_mode": {
    "name": "ipython",
    "version": 3
   },
   "file_extension": ".py",
   "mimetype": "text/x-python",
   "name": "python",
   "nbconvert_exporter": "python",
   "pygments_lexer": "ipython3",
   "version": "3.5.2"
  }
 },
 "nbformat": 4,
 "nbformat_minor": 2
}
