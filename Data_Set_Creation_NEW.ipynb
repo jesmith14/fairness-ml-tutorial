{
 "cells": [
  {
   "cell_type": "markdown",
   "metadata": {},
   "source": [
    "## Data Given For Tutorial - Created into CSVs in this notebook:\n",
    "\n",
    "$$ \\text{P(Score} = x \\text{| race) (calculated)} $$\n",
    "\n",
    "$$ \\text{P(NonDefault | Race) (Pi Values)} $$\n",
    "\n",
    "$$ \\text{P(NonDefault | Score} \\geq x \\text{, race) (calculated)} $$\n",
    "\n",
    "$$ \\text{P(race) (Figure 9)} $$\n",
    "\n",
    "**For Reference, all data is from here:**\n",
    "### Figure 3A:\n",
    "https://www.federalreserve.gov/boarddocs/rptcongress/creditscore/figtables3.htm#d3A\n",
    "    \n",
    "### Figure 7A:\n",
    "https://www.federalreserve.gov/boarddocs/rptcongress/creditscore/figtables7.htm#d7A\n",
    "\n",
    "### Figure 6A:\n",
    "https://www.federalreserve.gov/boarddocs/rptcongress/creditscore/figtables6.htm#d6A\n",
    "\n",
    "### Figure 9A:\n",
    "https://www.federalreserve.gov/boarddocs/rptcongress/creditscore/datamodel_tables.htm"
   ]
  },
  {
   "cell_type": "code",
   "execution_count": 1,
   "metadata": {
    "collapsed": true
   },
   "outputs": [],
   "source": [
    "import pandas as pd\n",
    "import numpy as np\n",
    "%matplotlib inline"
   ]
  },
  {
   "cell_type": "markdown",
   "metadata": {},
   "source": [
    "** For Naming Scheme Reference: **\n",
    "- LEq: <=\n",
    "- GEq: >=\n",
    "- S: Score\n",
    "- D: Default\n",
    "- ND: NonDefault\n",
    "- R: Race\n",
    "- Eq: ="
   ]
  },
  {
   "cell_type": "code",
   "execution_count": 2,
   "metadata": {
    "collapsed": true
   },
   "outputs": [],
   "source": [
    "ProbNDGivenSEqXAndR = 1 - (pd.read_csv(\"Figure6A.csv\").set_index(\"Score\") / 100)\n",
    "ProbSEqXGivenDAndNDAndR = pd.read_csv(\"Figure7A-fixed.csv\").set_index(\"Score\").diff().fillna(value=0) / 100\n",
    "ProbSEqXGivenR = pd.read_csv(\"Figure3A.csv\").set_index(\"Score\").diff().fillna(value=0) / 100"
   ]
  },
  {
   "cell_type": "markdown",
   "metadata": {},
   "source": [
    "***"
   ]
  },
  {
   "cell_type": "markdown",
   "metadata": {},
   "source": [
    "## Calculating P(NonDefault | Race) - Pi Values"
   ]
  },
  {
   "cell_type": "markdown",
   "metadata": {},
   "source": [
    "### Step 1: Caclulate :\n",
    "$$ \\text{P(Score} = x \\text{| Default, race), and}$$\n",
    "$$ \\text{P(Score} = x \\text{| NonDefault, race)}$$"
   ]
  },
  {
   "cell_type": "code",
   "execution_count": 3,
   "metadata": {},
   "outputs": [
    {
     "data": {
      "text/html": [
       "<div>\n",
       "<style>\n",
       "    .dataframe thead tr:only-child th {\n",
       "        text-align: right;\n",
       "    }\n",
       "\n",
       "    .dataframe thead th {\n",
       "        text-align: left;\n",
       "    }\n",
       "\n",
       "    .dataframe tbody tr th {\n",
       "        vertical-align: top;\n",
       "    }\n",
       "</style>\n",
       "<table border=\"1\" class=\"dataframe\">\n",
       "  <thead>\n",
       "    <tr style=\"text-align: right;\">\n",
       "      <th></th>\n",
       "      <th>White (NonDefault)</th>\n",
       "      <th>Black (NonDefault)</th>\n",
       "      <th>Hispanic (NonDefault)</th>\n",
       "      <th>Asian (NonDefault)</th>\n",
       "    </tr>\n",
       "    <tr>\n",
       "      <th>Score</th>\n",
       "      <th></th>\n",
       "      <th></th>\n",
       "      <th></th>\n",
       "      <th></th>\n",
       "    </tr>\n",
       "  </thead>\n",
       "  <tbody>\n",
       "    <tr>\n",
       "      <th>0.0</th>\n",
       "      <td>0.0000</td>\n",
       "      <td>0.0000</td>\n",
       "      <td>0.0000</td>\n",
       "      <td>0.0000</td>\n",
       "    </tr>\n",
       "    <tr>\n",
       "      <th>0.5</th>\n",
       "      <td>0.0000</td>\n",
       "      <td>0.0002</td>\n",
       "      <td>0.0002</td>\n",
       "      <td>0.0000</td>\n",
       "    </tr>\n",
       "    <tr>\n",
       "      <th>1.0</th>\n",
       "      <td>0.0003</td>\n",
       "      <td>0.0035</td>\n",
       "      <td>0.0004</td>\n",
       "      <td>0.0006</td>\n",
       "    </tr>\n",
       "    <tr>\n",
       "      <th>1.5</th>\n",
       "      <td>0.0001</td>\n",
       "      <td>0.0008</td>\n",
       "      <td>0.0000</td>\n",
       "      <td>0.0000</td>\n",
       "    </tr>\n",
       "    <tr>\n",
       "      <th>2.0</th>\n",
       "      <td>0.0002</td>\n",
       "      <td>0.0011</td>\n",
       "      <td>0.0004</td>\n",
       "      <td>0.0003</td>\n",
       "    </tr>\n",
       "  </tbody>\n",
       "</table>\n",
       "</div>"
      ],
      "text/plain": [
       "       White (NonDefault)  Black (NonDefault)  Hispanic (NonDefault)  \\\n",
       "Score                                                                  \n",
       "0.0                0.0000              0.0000                 0.0000   \n",
       "0.5                0.0000              0.0002                 0.0002   \n",
       "1.0                0.0003              0.0035                 0.0004   \n",
       "1.5                0.0001              0.0008                 0.0000   \n",
       "2.0                0.0002              0.0011                 0.0004   \n",
       "\n",
       "       Asian (NonDefault)  \n",
       "Score                      \n",
       "0.0                0.0000  \n",
       "0.5                0.0000  \n",
       "1.0                0.0006  \n",
       "1.5                0.0000  \n",
       "2.0                0.0003  "
      ]
     },
     "execution_count": 3,
     "metadata": {},
     "output_type": "execute_result"
    }
   ],
   "source": [
    "ProbSEqXGivenDAndR = ProbSEqXGivenDAndNDAndR[['White (Default)', \n",
    "                                              'Black (Default)',\n",
    "                                             'Hispanic (Default)',\n",
    "                                             'Asian (Default)']]\n",
    "ProbSEqXGivenNDAndR = ProbSEqXGivenDAndNDAndR[['White (NonDefault)', \n",
    "                                              'Black (NonDefault)',\n",
    "                                             'Hispanic (NonDefault)',\n",
    "                                             'Asian (NonDefault)']]\n",
    "ProbSEqXGivenNDAndR.head()"
   ]
  },
  {
   "cell_type": "code",
   "execution_count": 4,
   "metadata": {},
   "outputs": [
    {
     "data": {
      "text/html": [
       "<div>\n",
       "<style>\n",
       "    .dataframe thead tr:only-child th {\n",
       "        text-align: right;\n",
       "    }\n",
       "\n",
       "    .dataframe thead th {\n",
       "        text-align: left;\n",
       "    }\n",
       "\n",
       "    .dataframe tbody tr th {\n",
       "        vertical-align: top;\n",
       "    }\n",
       "</style>\n",
       "<table border=\"1\" class=\"dataframe\">\n",
       "  <thead>\n",
       "    <tr style=\"text-align: right;\">\n",
       "      <th></th>\n",
       "      <th>White (Default)</th>\n",
       "      <th>Black (Default)</th>\n",
       "      <th>Hispanic (Default)</th>\n",
       "      <th>Asian (Default)</th>\n",
       "    </tr>\n",
       "    <tr>\n",
       "      <th>Score</th>\n",
       "      <th></th>\n",
       "      <th></th>\n",
       "      <th></th>\n",
       "      <th></th>\n",
       "    </tr>\n",
       "  </thead>\n",
       "  <tbody>\n",
       "    <tr>\n",
       "      <th>0.0</th>\n",
       "      <td>0.0000</td>\n",
       "      <td>0.0000</td>\n",
       "      <td>0.0000</td>\n",
       "      <td>0.0000</td>\n",
       "    </tr>\n",
       "    <tr>\n",
       "      <th>0.5</th>\n",
       "      <td>0.0117</td>\n",
       "      <td>0.0188</td>\n",
       "      <td>0.0114</td>\n",
       "      <td>0.0075</td>\n",
       "    </tr>\n",
       "    <tr>\n",
       "      <th>1.0</th>\n",
       "      <td>0.0394</td>\n",
       "      <td>0.0668</td>\n",
       "      <td>0.0425</td>\n",
       "      <td>0.0387</td>\n",
       "    </tr>\n",
       "    <tr>\n",
       "      <th>1.5</th>\n",
       "      <td>0.0123</td>\n",
       "      <td>0.0181</td>\n",
       "      <td>0.0133</td>\n",
       "      <td>0.0096</td>\n",
       "    </tr>\n",
       "    <tr>\n",
       "      <th>2.0</th>\n",
       "      <td>0.0157</td>\n",
       "      <td>0.0224</td>\n",
       "      <td>0.0184</td>\n",
       "      <td>0.0107</td>\n",
       "    </tr>\n",
       "  </tbody>\n",
       "</table>\n",
       "</div>"
      ],
      "text/plain": [
       "       White (Default)  Black (Default)  Hispanic (Default)  Asian (Default)\n",
       "Score                                                                       \n",
       "0.0             0.0000           0.0000              0.0000           0.0000\n",
       "0.5             0.0117           0.0188              0.0114           0.0075\n",
       "1.0             0.0394           0.0668              0.0425           0.0387\n",
       "1.5             0.0123           0.0181              0.0133           0.0096\n",
       "2.0             0.0157           0.0224              0.0184           0.0107"
      ]
     },
     "execution_count": 4,
     "metadata": {},
     "output_type": "execute_result"
    }
   ],
   "source": [
    "ProbSEqXGivenDAndR.head()"
   ]
  },
  {
   "cell_type": "code",
   "execution_count": 5,
   "metadata": {},
   "outputs": [
    {
     "data": {
      "text/html": [
       "<div>\n",
       "<style>\n",
       "    .dataframe thead tr:only-child th {\n",
       "        text-align: right;\n",
       "    }\n",
       "\n",
       "    .dataframe thead th {\n",
       "        text-align: left;\n",
       "    }\n",
       "\n",
       "    .dataframe tbody tr th {\n",
       "        vertical-align: top;\n",
       "    }\n",
       "</style>\n",
       "<table border=\"1\" class=\"dataframe\">\n",
       "  <thead>\n",
       "    <tr style=\"text-align: right;\">\n",
       "      <th></th>\n",
       "      <th>White</th>\n",
       "      <th>Black</th>\n",
       "      <th>Hispanic</th>\n",
       "      <th>Asian</th>\n",
       "    </tr>\n",
       "    <tr>\n",
       "      <th>Score</th>\n",
       "      <th></th>\n",
       "      <th></th>\n",
       "      <th></th>\n",
       "      <th></th>\n",
       "    </tr>\n",
       "  </thead>\n",
       "  <tbody>\n",
       "    <tr>\n",
       "      <th>0.0</th>\n",
       "      <td>0.0146</td>\n",
       "      <td>0.0033</td>\n",
       "      <td>0.0095</td>\n",
       "      <td>0.0523</td>\n",
       "    </tr>\n",
       "    <tr>\n",
       "      <th>0.5</th>\n",
       "      <td>0.0205</td>\n",
       "      <td>0.0077</td>\n",
       "      <td>0.0151</td>\n",
       "      <td>0.0552</td>\n",
       "    </tr>\n",
       "    <tr>\n",
       "      <th>1.0</th>\n",
       "      <td>0.0264</td>\n",
       "      <td>0.0120</td>\n",
       "      <td>0.0207</td>\n",
       "      <td>0.0581</td>\n",
       "    </tr>\n",
       "    <tr>\n",
       "      <th>1.5</th>\n",
       "      <td>0.0323</td>\n",
       "      <td>0.0164</td>\n",
       "      <td>0.0262</td>\n",
       "      <td>0.0610</td>\n",
       "    </tr>\n",
       "    <tr>\n",
       "      <th>2.0</th>\n",
       "      <td>0.0382</td>\n",
       "      <td>0.0207</td>\n",
       "      <td>0.0318</td>\n",
       "      <td>0.0639</td>\n",
       "    </tr>\n",
       "  </tbody>\n",
       "</table>\n",
       "</div>"
      ],
      "text/plain": [
       "        White   Black  Hispanic   Asian\n",
       "Score                                  \n",
       "0.0    0.0146  0.0033    0.0095  0.0523\n",
       "0.5    0.0205  0.0077    0.0151  0.0552\n",
       "1.0    0.0264  0.0120    0.0207  0.0581\n",
       "1.5    0.0323  0.0164    0.0262  0.0610\n",
       "2.0    0.0382  0.0207    0.0318  0.0639"
      ]
     },
     "execution_count": 5,
     "metadata": {},
     "output_type": "execute_result"
    }
   ],
   "source": [
    "ProbNDGivenSEqXAndR.head()"
   ]
  },
  {
   "cell_type": "code",
   "execution_count": 6,
   "metadata": {
    "collapsed": true
   },
   "outputs": [],
   "source": [
    "ProbSEqXGivenNDAndR.columns = ['White', 'Black', 'Hispanic', 'Asian']\n",
    "ProbSEqXGivenDAndR.columns = ['White', 'Black', 'Hispanic', 'Asian']"
   ]
  },
  {
   "cell_type": "code",
   "execution_count": 7,
   "metadata": {
    "collapsed": true
   },
   "outputs": [],
   "source": [
    "def getPi(raceName):\n",
    "    return (-ProbNDGivenSEqXAndR[[raceName]] * \n",
    "            ProbSEqXGivenDAndR[[raceName]])/((ProbSEqXGivenNDAndR[[raceName]] \n",
    "                * ProbNDGivenSEqXAndR[[raceName]]) \n",
    "                - (ProbNDGivenSEqXAndR[[raceName]] \n",
    "                * ProbSEqXGivenDAndR[[raceName]]) \n",
    "                - ProbSEqXGivenNDAndR[[raceName]])"
   ]
  },
  {
   "cell_type": "code",
   "execution_count": 8,
   "metadata": {},
   "outputs": [],
   "source": [
    "WhitePis = getPi('White')\n",
    "BlackPis = getPi('Black')\n",
    "AsianPis = getPi('Asian')\n",
    "HispanicPis = getPi('Hispanic')"
   ]
  },
  {
   "cell_type": "code",
   "execution_count": 9,
   "metadata": {},
   "outputs": [
    {
     "data": {
      "text/plain": [
       "<matplotlib.axes._subplots.AxesSubplot at 0x10e1b6b70>"
      ]
     },
     "execution_count": 9,
     "metadata": {},
     "output_type": "execute_result"
    },
    {
     "data": {
      "image/png": "[encoded data removed]",
      "text/plain": [
       "<matplotlib.figure.Figure at 0x10e187c18>"
      ]
     },
     "metadata": {},
     "output_type": "display_data"
    }
   ],
   "source": [
    "WhitePis[np.abs(WhitePis.White-WhitePis.White.mean()) <= (0.2*WhitePis.White.std())][1:].plot()"
   ]
  },
  {
   "cell_type": "code",
   "execution_count": 10,
   "metadata": {
    "collapsed": true
   },
   "outputs": [],
   "source": [
    "def getMedianAndMiddle(dataSet, Name, delta):\n",
    "    pis = dataSet[np.abs(dataSet[[Name]]-dataSet[[Name]].mean()) <= (0.2*dataSet[[Name]].std())]\n",
    "    length = len(pis)\n",
    "    middle = pis.iloc[(int)(length/2.0) + delta]\n",
    "    median = pis.median()\n",
    "    return (middle,median)"
   ]
  },
  {
   "cell_type": "code",
   "execution_count": 11,
   "metadata": {},
   "outputs": [
    {
     "data": {
      "text/plain": [
       "(White    0.779215\n",
       " Name: 50.0, dtype: float64, White    0.76675\n",
       " dtype: float64)"
      ]
     },
     "execution_count": 11,
     "metadata": {},
     "output_type": "execute_result"
    }
   ],
   "source": [
    "getMedianAndMiddle(WhitePis, 'White', 1)"
   ]
  },
  {
   "cell_type": "code",
   "execution_count": 12,
   "metadata": {},
   "outputs": [
    {
     "data": {
      "text/plain": [
       "(Black    0.296411\n",
       " Name: 49.5, dtype: float64, Black    0.31438\n",
       " dtype: float64)"
      ]
     },
     "execution_count": 12,
     "metadata": {},
     "output_type": "execute_result"
    }
   ],
   "source": [
    "getMedianAndMiddle(BlackPis, 'Black', 0)"
   ]
  },
  {
   "cell_type": "code",
   "execution_count": 13,
   "metadata": {},
   "outputs": [
    {
     "data": {
      "text/plain": [
       "(Asian    0.72709\n",
       " Name: 50.0, dtype: float64, Asian    0.732254\n",
       " dtype: float64)"
      ]
     },
     "execution_count": 13,
     "metadata": {},
     "output_type": "execute_result"
    }
   ],
   "source": [
    "getMedianAndMiddle(AsianPis, 'Asian', 1)"
   ]
  },
  {
   "cell_type": "code",
   "execution_count": 14,
   "metadata": {},
   "outputs": [
    {
     "data": {
      "text/plain": [
       "0.51859076433118856"
      ]
     },
     "execution_count": 14,
     "metadata": {},
     "output_type": "execute_result"
    }
   ],
   "source": [
    "getMedianAndMiddle(HispanicPis, 'Hispanic', 1)[1].values[0]"
   ]
  },
  {
   "cell_type": "code",
   "execution_count": 15,
   "metadata": {},
   "outputs": [],
   "source": [
    "piValues = [getMedianAndMiddle(WhitePis, 'White', 1)[1].values[0],\n",
    "        getMedianAndMiddle(BlackPis, 'Black', 0)[1].values[0],\n",
    "        getMedianAndMiddle(AsianPis, 'Asian', 1)[1].values[0],\n",
    "        getMedianAndMiddle(HispanicPis, 'Hispanic', 1)[1].values[0]]\n",
    "pis = pd.DataFrame(\n",
    "    data=[piValues],\n",
    "    columns=['white', 'black', 'asian', 'hispanic']\n",
    ")"
   ]
  },
  {
   "cell_type": "code",
   "execution_count": 16,
   "metadata": {},
   "outputs": [
    {
     "data": {
      "text/html": [
       "<div>\n",
       "<style>\n",
       "    .dataframe thead tr:only-child th {\n",
       "        text-align: right;\n",
       "    }\n",
       "\n",
       "    .dataframe thead th {\n",
       "        text-align: left;\n",
       "    }\n",
       "\n",
       "    .dataframe tbody tr th {\n",
       "        vertical-align: top;\n",
       "    }\n",
       "</style>\n",
       "<table border=\"1\" class=\"dataframe\">\n",
       "  <thead>\n",
       "    <tr style=\"text-align: right;\">\n",
       "      <th></th>\n",
       "      <th>white</th>\n",
       "      <th>black</th>\n",
       "      <th>asian</th>\n",
       "      <th>hispanic</th>\n",
       "    </tr>\n",
       "  </thead>\n",
       "  <tbody>\n",
       "    <tr>\n",
       "      <th>0</th>\n",
       "      <td>0.76675</td>\n",
       "      <td>0.31438</td>\n",
       "      <td>0.732254</td>\n",
       "      <td>0.518591</td>\n",
       "    </tr>\n",
       "  </tbody>\n",
       "</table>\n",
       "</div>"
      ],
      "text/plain": [
       "     white    black     asian  hispanic\n",
       "0  0.76675  0.31438  0.732254  0.518591"
      ]
     },
     "execution_count": 16,
     "metadata": {},
     "output_type": "execute_result"
    }
   ],
   "source": [
    "pis"
   ]
  },
  {
   "cell_type": "markdown",
   "metadata": {},
   "source": [
    "***"
   ]
  },
  {
   "cell_type": "markdown",
   "metadata": {},
   "source": [
    "# Sensitivity: P(S>=x | NonDefault, race)"
   ]
  },
  {
   "cell_type": "markdown",
   "metadata": {},
   "source": [
    "** They calculate this in the tutorial manually, but checking here to cross reference **"
   ]
  },
  {
   "cell_type": "code",
   "execution_count": 17,
   "metadata": {},
   "outputs": [
    {
     "data": {
      "text/plain": [
       "<matplotlib.axes._subplots.AxesSubplot at 0x10e187ef0>"
      ]
     },
     "execution_count": 17,
     "metadata": {},
     "output_type": "execute_result"
    },
    {
     "data": {
      "image/png": "[encoded data removed]",
      "text/plain": [
       "<matplotlib.figure.Figure at 0x11075a2e8>"
      ]
     },
     "metadata": {},
     "output_type": "display_data"
    }
   ],
   "source": [
    "ProbSEqXGivenNDAndR.iloc[::-1].cumsum()[::-1].plot()"
   ]
  },
  {
   "cell_type": "code",
   "execution_count": 18,
   "metadata": {},
   "outputs": [
    {
     "data": {
      "text/html": [
       "<div>\n",
       "<style>\n",
       "    .dataframe thead tr:only-child th {\n",
       "        text-align: right;\n",
       "    }\n",
       "\n",
       "    .dataframe thead th {\n",
       "        text-align: left;\n",
       "    }\n",
       "\n",
       "    .dataframe tbody tr th {\n",
       "        vertical-align: top;\n",
       "    }\n",
       "</style>\n",
       "<table border=\"1\" class=\"dataframe\">\n",
       "  <thead>\n",
       "    <tr style=\"text-align: right;\">\n",
       "      <th></th>\n",
       "      <th>White</th>\n",
       "      <th>Black</th>\n",
       "      <th>Hispanic</th>\n",
       "      <th>Asian</th>\n",
       "    </tr>\n",
       "    <tr>\n",
       "      <th>Score</th>\n",
       "      <th></th>\n",
       "      <th></th>\n",
       "      <th></th>\n",
       "      <th></th>\n",
       "    </tr>\n",
       "  </thead>\n",
       "  <tbody>\n",
       "    <tr>\n",
       "      <th>0.0</th>\n",
       "      <td>1.0000</td>\n",
       "      <td>1.0000</td>\n",
       "      <td>1.0000</td>\n",
       "      <td>1.0000</td>\n",
       "    </tr>\n",
       "    <tr>\n",
       "      <th>0.5</th>\n",
       "      <td>1.0000</td>\n",
       "      <td>1.0000</td>\n",
       "      <td>1.0000</td>\n",
       "      <td>1.0000</td>\n",
       "    </tr>\n",
       "    <tr>\n",
       "      <th>1.0</th>\n",
       "      <td>1.0000</td>\n",
       "      <td>0.9998</td>\n",
       "      <td>0.9998</td>\n",
       "      <td>1.0000</td>\n",
       "    </tr>\n",
       "    <tr>\n",
       "      <th>1.5</th>\n",
       "      <td>0.9997</td>\n",
       "      <td>0.9963</td>\n",
       "      <td>0.9994</td>\n",
       "      <td>0.9994</td>\n",
       "    </tr>\n",
       "    <tr>\n",
       "      <th>2.0</th>\n",
       "      <td>0.9996</td>\n",
       "      <td>0.9955</td>\n",
       "      <td>0.9994</td>\n",
       "      <td>0.9994</td>\n",
       "    </tr>\n",
       "  </tbody>\n",
       "</table>\n",
       "</div>"
      ],
      "text/plain": [
       "        White   Black  Hispanic   Asian\n",
       "Score                                  \n",
       "0.0    1.0000  1.0000    1.0000  1.0000\n",
       "0.5    1.0000  1.0000    1.0000  1.0000\n",
       "1.0    1.0000  0.9998    0.9998  1.0000\n",
       "1.5    0.9997  0.9963    0.9994  0.9994\n",
       "2.0    0.9996  0.9955    0.9994  0.9994"
      ]
     },
     "execution_count": 18,
     "metadata": {},
     "output_type": "execute_result"
    }
   ],
   "source": [
    "ProbSEqXGivenNDAndR.iloc[::-1].cumsum()[::-1].head()"
   ]
  },
  {
   "cell_type": "markdown",
   "metadata": {},
   "source": [
    "***"
   ]
  },
  {
   "cell_type": "markdown",
   "metadata": {},
   "source": [
    "# Precision: P(NonDefault | Score >= x)\n",
    "### Here: P(NonDefault | Score >= x, race)"
   ]
  },
  {
   "cell_type": "code",
   "execution_count": 19,
   "metadata": {},
   "outputs": [],
   "source": [
    "ProbNDGivenSGEqXAndR = (((ProbSEqXGivenR * ProbNDGivenSEqXAndR).iloc[::-1].cumsum()[::-1]) / (ProbSEqXGivenR.iloc[::-1].cumsum()[::-1])).fillna(value=0)"
   ]
  },
  {
   "cell_type": "code",
   "execution_count": 20,
   "metadata": {},
   "outputs": [
    {
     "data": {
      "text/html": [
       "<div>\n",
       "<style>\n",
       "    .dataframe thead tr:only-child th {\n",
       "        text-align: right;\n",
       "    }\n",
       "\n",
       "    .dataframe thead th {\n",
       "        text-align: left;\n",
       "    }\n",
       "\n",
       "    .dataframe tbody tr th {\n",
       "        vertical-align: top;\n",
       "    }\n",
       "</style>\n",
       "<table border=\"1\" class=\"dataframe\">\n",
       "  <thead>\n",
       "    <tr style=\"text-align: right;\">\n",
       "      <th></th>\n",
       "      <th>White</th>\n",
       "      <th>Black</th>\n",
       "      <th>Hispanic</th>\n",
       "      <th>Asian</th>\n",
       "    </tr>\n",
       "    <tr>\n",
       "      <th>Score</th>\n",
       "      <th></th>\n",
       "      <th></th>\n",
       "      <th></th>\n",
       "      <th></th>\n",
       "    </tr>\n",
       "  </thead>\n",
       "  <tbody>\n",
       "    <tr>\n",
       "      <th>0.0</th>\n",
       "      <td>0.758748</td>\n",
       "      <td>0.336784</td>\n",
       "      <td>0.568169</td>\n",
       "      <td>0.806850</td>\n",
       "    </tr>\n",
       "    <tr>\n",
       "      <th>0.5</th>\n",
       "      <td>0.758748</td>\n",
       "      <td>0.336784</td>\n",
       "      <td>0.568169</td>\n",
       "      <td>0.806850</td>\n",
       "    </tr>\n",
       "    <tr>\n",
       "      <th>1.0</th>\n",
       "      <td>0.760599</td>\n",
       "      <td>0.340514</td>\n",
       "      <td>0.570725</td>\n",
       "      <td>0.807828</td>\n",
       "    </tr>\n",
       "    <tr>\n",
       "      <th>1.5</th>\n",
       "      <td>0.767284</td>\n",
       "      <td>0.354880</td>\n",
       "      <td>0.580569</td>\n",
       "      <td>0.813501</td>\n",
       "    </tr>\n",
       "    <tr>\n",
       "      <th>2.0</th>\n",
       "      <td>0.769297</td>\n",
       "      <td>0.359006</td>\n",
       "      <td>0.583533</td>\n",
       "      <td>0.814946</td>\n",
       "    </tr>\n",
       "  </tbody>\n",
       "</table>\n",
       "</div>"
      ],
      "text/plain": [
       "          White     Black  Hispanic     Asian\n",
       "Score                                        \n",
       "0.0    0.758748  0.336784  0.568169  0.806850\n",
       "0.5    0.758748  0.336784  0.568169  0.806850\n",
       "1.0    0.760599  0.340514  0.570725  0.807828\n",
       "1.5    0.767284  0.354880  0.580569  0.813501\n",
       "2.0    0.769297  0.359006  0.583533  0.814946"
      ]
     },
     "execution_count": 20,
     "metadata": {},
     "output_type": "execute_result"
    }
   ],
   "source": [
    "ProbNDGivenSGEqXAndR.head()"
   ]
  },
  {
   "cell_type": "markdown",
   "metadata": {
    "collapsed": true
   },
   "source": [
    "***"
   ]
  },
  {
   "cell_type": "markdown",
   "metadata": {},
   "source": [
    "## Creating P(race)"
   ]
  },
  {
   "cell_type": "code",
   "execution_count": 21,
   "metadata": {},
   "outputs": [],
   "source": [
    "sizes = [133165, 18274, 14702, 7906]\n",
    "total = sum(sizes)\n",
    "ProbOfBeingRace = pd.DataFrame(\n",
    "    { \n",
    "    'Demographic' : ['white', 'black', 'hispanic', 'asian'],\n",
    "    'P(race)' : [sizes[0]/total, sizes[1]/total, sizes[2]/total, sizes[3]/total]\n",
    "    },\n",
    "    columns=[\"Demographic\", \"P(race)\"]\n",
    ")"
   ]
  },
  {
   "cell_type": "markdown",
   "metadata": {},
   "source": [
    "***"
   ]
  },
  {
   "cell_type": "markdown",
   "metadata": {},
   "source": [
    "## Checking Final Answers for Tutorial w/ new values"
   ]
  },
  {
   "cell_type": "code",
   "execution_count": 22,
   "metadata": {},
   "outputs": [
    {
     "data": {
      "text/html": [
       "<div>\n",
       "<style>\n",
       "    .dataframe thead tr:only-child th {\n",
       "        text-align: right;\n",
       "    }\n",
       "\n",
       "    .dataframe thead th {\n",
       "        text-align: left;\n",
       "    }\n",
       "\n",
       "    .dataframe tbody tr th {\n",
       "        vertical-align: top;\n",
       "    }\n",
       "</style>\n",
       "<table border=\"1\" class=\"dataframe\">\n",
       "  <thead>\n",
       "    <tr style=\"text-align: right;\">\n",
       "      <th></th>\n",
       "      <th>t_White</th>\n",
       "      <th>t_Black</th>\n",
       "      <th>t_Asian</th>\n",
       "      <th>t_Hispanic</th>\n",
       "      <th>W_prec</th>\n",
       "      <th>B_prec</th>\n",
       "      <th>A_prec</th>\n",
       "      <th>H_prec</th>\n",
       "      <th>total_prec</th>\n",
       "    </tr>\n",
       "    <tr>\n",
       "      <th>sensitivity</th>\n",
       "      <th></th>\n",
       "      <th></th>\n",
       "      <th></th>\n",
       "      <th></th>\n",
       "      <th></th>\n",
       "      <th></th>\n",
       "      <th></th>\n",
       "      <th></th>\n",
       "      <th></th>\n",
       "    </tr>\n",
       "  </thead>\n",
       "  <tbody>\n",
       "    <tr>\n",
       "      <th>0.98</th>\n",
       "      <td>19.0</td>\n",
       "      <td>7.5</td>\n",
       "      <td>20.5</td>\n",
       "      <td>13.0</td>\n",
       "      <td>0.664467</td>\n",
       "      <td>0.045717</td>\n",
       "      <td>0.040648</td>\n",
       "      <td>0.057455</td>\n",
       "      <td>0.808286</td>\n",
       "    </tr>\n",
       "  </tbody>\n",
       "</table>\n",
       "</div>"
      ],
      "text/plain": [
       "             t_White  t_Black  t_Asian  t_Hispanic    W_prec    B_prec  \\\n",
       "sensitivity                                                              \n",
       "0.98            19.0      7.5     20.5        13.0  0.664467  0.045717   \n",
       "\n",
       "               A_prec    H_prec  total_prec  \n",
       "sensitivity                                  \n",
       "0.98         0.040648  0.057455    0.808286  "
      ]
     },
     "execution_count": 22,
     "metadata": {},
     "output_type": "execute_result"
    }
   ],
   "source": [
    "sensitivities = ProbSEqXGivenNDAndR.iloc[::-1].cumsum()[::-1].round(2)\n",
    "totalDF = pd.DataFrame({\n",
    "    'sensitivity': np.arange(0.0, 1.01, 0.01).tolist()\n",
    "})\n",
    "# function to format the threshold scores to match the sensitivity value at the index\n",
    "def getScoreArray(race, data):\n",
    "    scores = [None] * 101\n",
    "    for index, row in data.iterrows():\n",
    "        sens = data.loc[index][race]\n",
    "        if(len(totalDF[totalDF['sensitivity'] == sens].index.values) >= 1):\n",
    "            i = totalDF[totalDF['sensitivity'] == sens].index.values[0]\n",
    "            scores[i] = index\n",
    "    return scores\n",
    "\n",
    "demographics = ['White', 'Black', 'Asian', 'Hispanic']\n",
    "for demographic in demographics:\n",
    "    totalDF['t_' + demographic]  = getScoreArray(demographic, sensitivities[[demographic]])\n",
    "    \n",
    "totalDF.set_index('sensitivity')\n",
    "def getPrecisionOrder(t_race, dataPrecision):\n",
    "    prec = []\n",
    "    for i in range(len(totalDF)):\n",
    "        if(totalDF[t_race][i] != None):\n",
    "            currPrec = dataPrecision[totalDF[t_race][i]]\n",
    "            if(isinstance(currPrec, np.ndarray)):\n",
    "                currPrec = 0\n",
    "        prec.append(currPrec)\n",
    "    return prec\n",
    "\n",
    "precision = ProbNDGivenSGEqXAndR\n",
    "for demographic in demographics:\n",
    "    tmp = precision[demographic] * ProbOfBeingRace.set_index('Demographic').loc[demographic.lower()]['P(race)']\n",
    "    totalDF[demographic[0] + '_prec'] = getPrecisionOrder('t_' + demographic, tmp)\n",
    "    \n",
    "totalDF.set_index('sensitivity', inplace=True)\n",
    "totalDF['total_prec'] = totalDF[['W_prec', 'B_prec', 'A_prec', 'H_prec']].sum(axis=1)\n",
    "closestPrecision = min(totalDF[\"total_prec\"], key=lambda x:abs(x-0.82))\n",
    "totalDF[totalDF['total_prec'] == closestPrecision]"
   ]
  },
  {
   "cell_type": "markdown",
   "metadata": {},
   "source": [
    "***"
   ]
  },
  {
   "cell_type": "markdown",
   "metadata": {},
   "source": [
    "### Creating the CSVs for the Tutorial"
   ]
  },
  {
   "cell_type": "code",
   "execution_count": 23,
   "metadata": {},
   "outputs": [],
   "source": [
    "ProbSEqXGivenR.to_csv('NEW_ProbSEqXGivenR.csv')"
   ]
  },
  {
   "cell_type": "code",
   "execution_count": 24,
   "metadata": {},
   "outputs": [],
   "source": [
    "pis.set_index('white').to_csv('NEW_pis.csv')"
   ]
  },
  {
   "cell_type": "code",
   "execution_count": 25,
   "metadata": {},
   "outputs": [],
   "source": [
    "ProbNDGivenSGEqXAndR.to_csv('NEW_ProbNDGivenSGEqXAndR.csv')"
   ]
  },
  {
   "cell_type": "code",
   "execution_count": 26,
   "metadata": {
    "collapsed": true
   },
   "outputs": [],
   "source": [
    "ProbOfBeingRace.set_index('Demographic').to_csv('NEW_ProbR.csv')"
   ]
  },
  {
   "cell_type": "code",
   "execution_count": null,
   "metadata": {
    "collapsed": true
   },
   "outputs": [],
   "source": []
  }
 ],
 "metadata": {
  "kernelspec": {
   "display_name": "Python 3",
   "language": "python",
   "name": "python3"
  },
  "language_info": {
   "codemirror_mode": {
    "name": "ipython",
    "version": 3
   },
   "file_extension": ".py",
   "mimetype": "text/x-python",
   "name": "python",
   "nbconvert_exporter": "python",
   "pygments_lexer": "ipython3",
   "version": "3.6.1"
  }
 },
 "nbformat": 4,
 "nbformat_minor": 2
}
