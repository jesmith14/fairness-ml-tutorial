{
 "cells": [
  {
   "cell_type": "markdown",
   "metadata": {},
   "source": [
    "# An Introduction to Ethical Supervised Learning"
   ]
  },
  {
   "cell_type": "markdown",
   "metadata": {},
   "source": [
    "<hr/>"
   ]
  },
  {
   "cell_type": "markdown",
   "metadata": {},
   "source": [
    "# Overview\n",
    "In this tutorial, you will learn:\n",
    "<ol>\n",
    "<li> How to identify a discriminatory machine learning predictor</li>\n",
    "<li> An introduction to fairness models in supervised learning</li>\n",
    "<li> How to fix a basic discriminatory predictor with a fairness model through:\n",
    "    <ul>\n",
    "    <li> Understanding perfmorance metrics</li>\n",
    "    <li> Minimizing loss</li>\n",
    "    <li> Utilizing sensitivity / recall</li>\n",
    "    </ul>\n",
    "</li>\n",
    "</ol>"
   ]
  },
  {
   "cell_type": "markdown",
   "metadata": {},
   "source": [
    "<hr/>"
   ]
  },
  {
   "cell_type": "markdown",
   "metadata": {},
   "source": [
    "# Part 1 : How to Identify a Discriminatory Predictor"
   ]
  },
  {
   "cell_type": "markdown",
   "metadata": {},
   "source": [
    "## I. Introduction to TransRisk Scores"
   ]
  },
  {
   "cell_type": "markdown",
   "metadata": {},
   "source": [
    "For this tutorial, we will be working with <b>TransRisk Scores</b> for four demographics. TransRisk scores aim to estimate how worthy a consumer is for credit. The scores range from 0 to 100, and are created using a variety of data points (such as history of paying back loans, how many credit card accounts you've had, employment rate, etc.) In theory, the closer a person's TransRisk score is to 100, the more likely they are to pay back a loan (similar to a FICO credit score). Banks and loan agencies typically use this kind of score combined with a <b>threshold value</b> to decide if someone should be granted a loan.<br/><br/>\n",
    "For example, a bank that grants loans might set their threshold TransRisk score at 60. Then everyone with a TransRisk score of 60 or above recieves a loan, and everyone with a score below 60 automatically gets denied.<br/><br/>\n",
    "The first data set you will work with shows the probability of an individual having a TransRisk score for different demographic groups. This can also be written as : \n",
    "<h3 align='center'> P(score = x | race)</h3>"
   ]
  },
  {
   "cell_type": "code",
   "execution_count": 1,
   "metadata": {
    "collapsed": true
   },
   "outputs": [],
   "source": [
    "import pandas as pd\n",
    "%matplotlib inline"
   ]
  },
  {
   "cell_type": "code",
   "execution_count": 2,
   "metadata": {},
   "outputs": [
    {
     "data": {
      "text/html": [
       "<div>\n",
       "<style>\n",
       "    .dataframe thead tr:only-child th {\n",
       "        text-align: right;\n",
       "    }\n",
       "\n",
       "    .dataframe thead th {\n",
       "        text-align: left;\n",
       "    }\n",
       "\n",
       "    .dataframe tbody tr th {\n",
       "        vertical-align: top;\n",
       "    }\n",
       "</style>\n",
       "<table border=\"1\" class=\"dataframe\">\n",
       "  <thead>\n",
       "    <tr style=\"text-align: right;\">\n",
       "      <th></th>\n",
       "      <th>white</th>\n",
       "      <th>black</th>\n",
       "      <th>hispanic</th>\n",
       "      <th>asian</th>\n",
       "    </tr>\n",
       "    <tr>\n",
       "      <th>TransRisk Score</th>\n",
       "      <th></th>\n",
       "      <th></th>\n",
       "      <th></th>\n",
       "      <th></th>\n",
       "    </tr>\n",
       "  </thead>\n",
       "  <tbody>\n",
       "    <tr>\n",
       "      <th>0.0</th>\n",
       "      <td>0.0000</td>\n",
       "      <td>0.0000</td>\n",
       "      <td>0.0000</td>\n",
       "      <td>0.0000</td>\n",
       "    </tr>\n",
       "    <tr>\n",
       "      <th>0.5</th>\n",
       "      <td>0.0025</td>\n",
       "      <td>0.0112</td>\n",
       "      <td>0.0046</td>\n",
       "      <td>0.0013</td>\n",
       "    </tr>\n",
       "    <tr>\n",
       "      <th>1.0</th>\n",
       "      <td>0.0090</td>\n",
       "      <td>0.0414</td>\n",
       "      <td>0.0175</td>\n",
       "      <td>0.0075</td>\n",
       "    </tr>\n",
       "    <tr>\n",
       "      <th>1.5</th>\n",
       "      <td>0.0027</td>\n",
       "      <td>0.0114</td>\n",
       "      <td>0.0052</td>\n",
       "      <td>0.0019</td>\n",
       "    </tr>\n",
       "    <tr>\n",
       "      <th>2.0</th>\n",
       "      <td>0.0037</td>\n",
       "      <td>0.0142</td>\n",
       "      <td>0.0075</td>\n",
       "      <td>0.0025</td>\n",
       "    </tr>\n",
       "  </tbody>\n",
       "</table>\n",
       "</div>"
      ],
      "text/plain": [
       "                  white   black  hispanic   asian\n",
       "TransRisk Score                                  \n",
       "0.0              0.0000  0.0000    0.0000  0.0000\n",
       "0.5              0.0025  0.0112    0.0046  0.0013\n",
       "1.0              0.0090  0.0414    0.0175  0.0075\n",
       "1.5              0.0027  0.0114    0.0052  0.0019\n",
       "2.0              0.0037  0.0142    0.0075  0.0025"
      ]
     },
     "execution_count": 2,
     "metadata": {},
     "output_type": "execute_result"
    }
   ],
   "source": [
    "ProbOfBeingScore = pd.read_csv(\"ProbOfBeingScore.csv\").set_index(\"TransRisk Score\")\n",
    "ProbOfBeingScore.head()"
   ]
  },
  {
   "cell_type": "markdown",
   "metadata": {},
   "source": [
    "## II. Using Visualizations as a Guide"
   ]
  },
  {
   "cell_type": "markdown",
   "metadata": {},
   "source": [
    "*** For a threshold score x, someone is given a loan if they have a TransRisk score >= x. Using this data set, create and plot a dataframe that shows the probability of an individual receiving a loan: ***\n",
    "<h3 align='center'> P(score >= x | race)</h3>"
   ]
  },
  {
   "cell_type": "code",
   "execution_count": 3,
   "metadata": {},
   "outputs": [
    {
     "data": {
      "text/plain": [
       "<matplotlib.axes._subplots.AxesSubplot at 0x11150fa90>"
      ]
     },
     "execution_count": 3,
     "metadata": {},
     "output_type": "execute_result"
    },
    {
     "data": {
      "image/png": "[encoded data removed]",
      "text/plain": [
       "<matplotlib.figure.Figure at 0x11150f470>"
      ]
     },
     "metadata": {},
     "output_type": "display_data"
    }
   ],
   "source": [
    "ProbOfGettingLoan = ProbOfBeingScore.iloc[::-1].cumsum()[::-1]\n",
    "ProbOfGettingLoan.plot.line()"
   ]
  },
  {
   "cell_type": "markdown",
   "metadata": {},
   "source": [
    "## III. Interpretation"
   ]
  },
  {
   "cell_type": "markdown",
   "metadata": {},
   "source": [
    "Using our previous example of a threshold score x = 60, take a look at your visualization. With a score of 60, what is the probability for an individual of each race to receive a loan?"
   ]
  },
  {
   "cell_type": "code",
   "execution_count": 4,
   "metadata": {},
   "outputs": [
    {
     "data": {
      "text/plain": [
       "white       0.4535\n",
       "black       0.1015\n",
       "hispanic    0.2176\n",
       "asian       0.4455\n",
       "Name: 60.0, dtype: float64"
      ]
     },
     "execution_count": 4,
     "metadata": {},
     "output_type": "execute_result"
    }
   ],
   "source": [
    "# Show Probabilities Here\n",
    "ProbOfGettingLoan.loc[60]"
   ]
  },
  {
   "cell_type": "markdown",
   "metadata": {},
   "source": [
    "It is pretty clear that discrimination is occuring here. If a bank chooses a threshold score of 60, the white demographic would be more than 4x as likely to get a loan than the black demographic. This could happen for a variety of reasons, including (but not limited to):\n",
    "- The data that was used to create a TransRisk score (such as amount of bank accounts opened) might unintentionally discriminate against certain demographic groups.\n",
    "- Machine learning predictors are inherently less accurate for minority populations, since smaller population sizes lead to lower predictor performance."
   ]
  },
  {
   "cell_type": "markdown",
   "metadata": {},
   "source": [
    "<hr/>"
   ]
  },
  {
   "cell_type": "markdown",
   "metadata": {},
   "source": [
    "# Part 2 : Introduction to Fairness Models"
   ]
  },
  {
   "cell_type": "markdown",
   "metadata": {},
   "source": [
    "## I. What is a fairness model?"
   ]
  },
  {
   "cell_type": "markdown",
   "metadata": {},
   "source": [
    "Fairness models seek to solve the problem that you identified in Part 1. Specifically, they allow data scientists to algorithmically and statistically measure how <i>fair</i> a predictor is by providing requirements to ensure <i>fairness</i>."
   ]
  },
  {
   "cell_type": "markdown",
   "metadata": {},
   "source": [
    "## II. Equal Opportunity Model"
   ]
  },
  {
   "cell_type": "markdown",
   "metadata": {},
   "source": [
    "This model will work well for the TransRisk dataset, because it provides simple requirements for a binary predictor. This model takes into account three factors:\n",
    "<ol>\n",
    "<li>Groups that are defined by a protected attribute (this will be the four demographic groups in our example) | Denoted as 'A'</li>\n",
    "<li>The advantaged outcome group (we will discuss this in Part 3) | Denoted as 'Y = 1'</li>\n",
    "<li>The binary predictor (getting granted a loan) | Denoted as '$\\hat Y$ = 1' for a loan approval and '$\\hat Y$ = 0' for loan denial</li>\n",
    "</ol>"
   ]
  },
  {
   "cell_type": "markdown",
   "metadata": {},
   "source": [
    "A Predictor is said to satisfy fairness under Equal Opportunity iff the probability of getting a positive prediction is the same for all advantaged outcome members in a protected group. <br/><br/>\n",
    "<div align='center'>\n",
    "*** P($\\hat Y$ = 1 | A = a, Y = 1) is equal for ALL protected groups a. ***</div>\n"
   ]
  },
  {
   "cell_type": "markdown",
   "metadata": {},
   "source": [
    "<hr/>"
   ]
  },
  {
   "cell_type": "markdown",
   "metadata": {},
   "source": [
    "# Part 3 : Fixing a Discriminatory Predictor Through the Equal Opportunity Model"
   ]
  },
  {
   "cell_type": "markdown",
   "metadata": {},
   "source": [
    "## I. Understanding Performance Metrics"
   ]
  },
  {
   "cell_type": "markdown",
   "metadata": {},
   "source": [
    "Here we will introduce two more data sets on these TransRisk scores. \n",
    "<ol>\n",
    "<li><b>ProbGoodGivenRace </b>: P(good | race)\n",
    "    <ul>\n",
    "    <li> Represents the probability that an individual of a race is 'good' (non-defaulting)</li>\n",
    "    <li> <i>Note that the 'good' non-defaulters represent the advantaged outcome group defined in Part 2, for all 'good' individuals of a race,'Y = 1'</i></li>\n",
    "    </ul>\n",
    "</li><br/>\n",
    "<li><b>ProbLoanReceiverIsGood </b> : P(good | score >= x, race)\n",
    "    <ul>\n",
    "    <li> Represents the probability that an individual who has been granted a loan is actually 'good'</li>\n",
    "    <li><i>Remember that with a threshold score x, everyone with a score >= x is granted a loan.</i></li>\n",
    "    </ul>\n",
    "</li>\n",
    "</ol>\n",
    "\n",
    "Read them in and make sure you understand what the data represents before moving onto the next section."
   ]
  },
  {
   "cell_type": "code",
   "execution_count": 5,
   "metadata": {
    "collapsed": true
   },
   "outputs": [],
   "source": [
    "ProbGoodGivenRace = pd.read_csv(\"ProbGoodGivenRace.csv\")\n",
    "ProbLoanReceiverIsGood = (\n",
    "    pd.read_csv(\"ProbLoanReceiverIsGood.csv\")\n",
    "    .set_index(\"TransRisk Score\"))"
   ]
  },
  {
   "cell_type": "markdown",
   "metadata": {},
   "source": [
    "<hr/>"
   ]
  },
  {
   "cell_type": "markdown",
   "metadata": {},
   "source": [
    "<div align='center'>\n",
    "\n",
    "<h3> The General Multiplication Rule:</h3><br/>\n",
    "<b>Definition : </b> For any two events, we can say that\n",
    "<h4 > P(A and B) = P(A) * P(B | A)</h4><br/>\n",
    "<i>\"The probability that both A and B occur = the probability that A occurs multiplied by the probability that B occurs, given that A has occured.\"</i></div>"
   ]
  },
  {
   "cell_type": "markdown",
   "metadata": {},
   "source": [
    "<hr/>"
   ]
  },
  {
   "cell_type": "markdown",
   "metadata": {},
   "source": [
    "To work with the conditions introduced by the Equal Opporunity Model, we need to find<br/>\n",
    "<div align='center'>P($\\hat Y$ = 1 | A = a, Y = 1)</div><br/>\n",
    "For our case study, this would be the Probability that someone has received a loan, given their race and the fact that they are good. Also stated:<br/>\n",
    "<div align='center'>P(score >= x | race, good)</div><br/>\n",
    "Using your knowledge of the multiplication rule with all three data sets you have been given on TransRisk scores, create a DataFrame that shows this probability for each TransRisk score and demographic."
   ]
  },
  {
   "cell_type": "code",
   "execution_count": 6,
   "metadata": {},
   "outputs": [],
   "source": [
    "white_s = (ProbOfGettingLoan[[\"white\"]] * ProbLoanReceiverIsGood[[\"white\"]]) / ProbGoodGivenRace[\"white\"][0]\n",
    "black_s = (ProbOfGettingLoan[[\"black\"]] * ProbLoanReceiverIsGood[[\"black\"]]) / ProbGoodGivenRace[\"black\"][0]\n",
    "asian_s = (ProbOfGettingLoan[[\"asian\"]] * ProbLoanReceiverIsGood[[\"asian\"]]) / ProbGoodGivenRace[\"asian\"][0]\n",
    "hispanic_s = (ProbOfGettingLoan[[\"hispanic\"]] * ProbLoanReceiverIsGood[[\"hispanic\"]]) / ProbGoodGivenRace[\"hispanic\"][0]"
   ]
  },
  {
   "cell_type": "code",
   "execution_count": 7,
   "metadata": {},
   "outputs": [
    {
     "data": {
      "text/html": [
       "<div>\n",
       "<style>\n",
       "    .dataframe thead tr:only-child th {\n",
       "        text-align: right;\n",
       "    }\n",
       "\n",
       "    .dataframe thead th {\n",
       "        text-align: left;\n",
       "    }\n",
       "\n",
       "    .dataframe tbody tr th {\n",
       "        vertical-align: top;\n",
       "    }\n",
       "</style>\n",
       "<table border=\"1\" class=\"dataframe\">\n",
       "  <thead>\n",
       "    <tr style=\"text-align: right;\">\n",
       "      <th></th>\n",
       "      <th>white</th>\n",
       "      <th>black</th>\n",
       "      <th>asian</th>\n",
       "      <th>hispanic</th>\n",
       "    </tr>\n",
       "    <tr>\n",
       "      <th>TransRisk Score</th>\n",
       "      <th></th>\n",
       "      <th></th>\n",
       "      <th></th>\n",
       "      <th></th>\n",
       "    </tr>\n",
       "  </thead>\n",
       "  <tbody>\n",
       "    <tr>\n",
       "      <th>0.0</th>\n",
       "      <td>0.978949</td>\n",
       "      <td>1.054168</td>\n",
       "      <td>0.992818</td>\n",
       "      <td>1.009424</td>\n",
       "    </tr>\n",
       "    <tr>\n",
       "      <th>0.5</th>\n",
       "      <td>0.978949</td>\n",
       "      <td>1.054168</td>\n",
       "      <td>0.992818</td>\n",
       "      <td>1.009424</td>\n",
       "    </tr>\n",
       "    <tr>\n",
       "      <th>1.0</th>\n",
       "      <td>0.978949</td>\n",
       "      <td>1.053998</td>\n",
       "      <td>0.992818</td>\n",
       "      <td>1.009250</td>\n",
       "    </tr>\n",
       "    <tr>\n",
       "      <th>1.5</th>\n",
       "      <td>0.978652</td>\n",
       "      <td>1.050972</td>\n",
       "      <td>0.992254</td>\n",
       "      <td>1.008892</td>\n",
       "    </tr>\n",
       "    <tr>\n",
       "      <th>2.0</th>\n",
       "      <td>0.978557</td>\n",
       "      <td>1.050266</td>\n",
       "      <td>0.992254</td>\n",
       "      <td>1.008892</td>\n",
       "    </tr>\n",
       "  </tbody>\n",
       "</table>\n",
       "</div>"
      ],
      "text/plain": [
       "                    white     black     asian  hispanic\n",
       "TransRisk Score                                        \n",
       "0.0              0.978949  1.054168  0.992818  1.009424\n",
       "0.5              0.978949  1.054168  0.992818  1.009424\n",
       "1.0              0.978949  1.053998  0.992818  1.009250\n",
       "1.5              0.978652  1.050972  0.992254  1.008892\n",
       "2.0              0.978557  1.050266  0.992254  1.008892"
      ]
     },
     "execution_count": 7,
     "metadata": {},
     "output_type": "execute_result"
    }
   ],
   "source": [
    "s = [white_s, black_s, asian_s, hispanic_s]\n",
    "sensitivities = pd.concat(s, axis= 1)\n",
    "sensitivities.head()"
   ]
  },
  {
   "cell_type": "markdown",
   "metadata": {},
   "source": [
    "## II. Minimizing Loss"
   ]
  },
  {
   "cell_type": "code",
   "execution_count": 8,
   "metadata": {
    "collapsed": true
   },
   "outputs": [],
   "source": [
    "## Section here about why the desired loss is 0.18, which equates to a sensitivity of 0.82"
   ]
  },
  {
   "cell_type": "markdown",
   "metadata": {},
   "source": [
    "## III. Utilizing Sensitivity"
   ]
  },
  {
   "cell_type": "markdown",
   "metadata": {},
   "source": [
    "We finally have all of the peices to fix the discriminatory predictor using the Equal Opportunity Model. As you just learned in Section II, our desired loss of 0.18 directly leads to a sensitivity of 0.82. Looking back at the requirements for Equal Opportunity, we can see it requires that P($\\hat Y$ = 1 | A = a, Y = 1) is equal for ALL protected groups a. This can also be stated that the <b>true positive rate</b> is equal for ALL protected groups a. Or even further, that the <b><i>Sensitivity</i></b> is equal for ALL protected groups a.<br/><br/>\n",
    "We know that the desired sensitivity for minimal loss is 0.82, so now you simply need to find the scores for each demographic where the Sensitivity = 0.82. These scores represent the threshold that needs to be set for that particular demographic in order to satisfy 'fairness'. Start by plotting out the sensitivity dataframe you created in Section I to visualize what you are doing. From there, record the final four threshold values needed to satisfy the Equal Opportunity Model."
   ]
  },
  {
   "cell_type": "code",
   "execution_count": 9,
   "metadata": {},
   "outputs": [
    {
     "data": {
      "text/plain": [
       "<matplotlib.axes._subplots.AxesSubplot at 0x111462dd8>"
      ]
     },
     "execution_count": 9,
     "metadata": {},
     "output_type": "execute_result"
    },
    {
     "data": {
      "image/png": "[encoded data removed]",
      "text/plain": [
       "<matplotlib.figure.Figure at 0x111462f60>"
      ]
     },
     "metadata": {},
     "output_type": "display_data"
    }
   ],
   "source": [
    "### Plot your sensitivites here:\n",
    "\n",
    "sensitivities.plot.line()"
   ]
  },
  {
   "cell_type": "code",
   "execution_count": 10,
   "metadata": {},
   "outputs": [
    {
     "data": {
      "text/plain": [
       "<matplotlib.axes._subplots.AxesSubplot at 0x113cdf7b8>"
      ]
     },
     "execution_count": 10,
     "metadata": {},
     "output_type": "execute_result"
    },
    {
     "data": {
      "image/png": "[encoded data removed]",
      "text/plain": [
       "<matplotlib.figure.Figure at 0x113cb3c18>"
      ]
     },
     "metadata": {},
     "output_type": "display_data"
    }
   ],
   "source": [
    "## For reference for the meeting on Wed, here is the actual solution with correct sensitivity\n",
    "## I'm assuming the discrepencies lie in rounding error?\n",
    "FinalSolution = pd.read_csv(\"FinalSolution.csv\").set_index(\"Score\")\n",
    "FinalSolution.plot.line()"
   ]
  },
  {
   "cell_type": "code",
   "execution_count": 11,
   "metadata": {
    "collapsed": true
   },
   "outputs": [],
   "source": [
    "## Calculate your final answers here:"
   ]
  },
  {
   "cell_type": "code",
   "execution_count": 12,
   "metadata": {},
   "outputs": [
    {
     "data": {
      "text/html": [
       "<div>\n",
       "<style>\n",
       "    .dataframe thead tr:only-child th {\n",
       "        text-align: right;\n",
       "    }\n",
       "\n",
       "    .dataframe thead th {\n",
       "        text-align: left;\n",
       "    }\n",
       "\n",
       "    .dataframe tbody tr th {\n",
       "        vertical-align: top;\n",
       "    }\n",
       "</style>\n",
       "<table border=\"1\" class=\"dataframe\">\n",
       "  <thead>\n",
       "    <tr style=\"text-align: right;\">\n",
       "      <th></th>\n",
       "      <th>white</th>\n",
       "    </tr>\n",
       "    <tr>\n",
       "      <th>TransRisk Score</th>\n",
       "      <th></th>\n",
       "    </tr>\n",
       "  </thead>\n",
       "  <tbody>\n",
       "    <tr>\n",
       "      <th>38.5</th>\n",
       "      <td>0.817924</td>\n",
       "    </tr>\n",
       "  </tbody>\n",
       "</table>\n",
       "</div>"
      ],
      "text/plain": [
       "                    white\n",
       "TransRisk Score          \n",
       "38.5             0.817924"
      ]
     },
     "execution_count": 12,
     "metadata": {},
     "output_type": "execute_result"
    }
   ],
   "source": [
    "closestSensitivity = min(sensitivities[\"white\"], key=lambda x:abs(x-0.82))\n",
    "sensitivities[sensitivities[\"white\"] == closestSensitivity][['white']]"
   ]
  },
  {
   "cell_type": "code",
   "execution_count": 13,
   "metadata": {},
   "outputs": [
    {
     "data": {
      "text/html": [
       "<div>\n",
       "<style>\n",
       "    .dataframe thead tr:only-child th {\n",
       "        text-align: right;\n",
       "    }\n",
       "\n",
       "    .dataframe thead th {\n",
       "        text-align: left;\n",
       "    }\n",
       "\n",
       "    .dataframe tbody tr th {\n",
       "        vertical-align: top;\n",
       "    }\n",
       "</style>\n",
       "<table border=\"1\" class=\"dataframe\">\n",
       "  <thead>\n",
       "    <tr style=\"text-align: right;\">\n",
       "      <th></th>\n",
       "      <th>black</th>\n",
       "    </tr>\n",
       "    <tr>\n",
       "      <th>TransRisk Score</th>\n",
       "      <th></th>\n",
       "    </tr>\n",
       "  </thead>\n",
       "  <tbody>\n",
       "    <tr>\n",
       "      <th>29.5</th>\n",
       "      <td>0.815857</td>\n",
       "    </tr>\n",
       "  </tbody>\n",
       "</table>\n",
       "</div>"
      ],
      "text/plain": [
       "                    black\n",
       "TransRisk Score          \n",
       "29.5             0.815857"
      ]
     },
     "execution_count": 13,
     "metadata": {},
     "output_type": "execute_result"
    }
   ],
   "source": [
    "closestSensitivity = min(sensitivities[\"black\"], key=lambda x:abs(x-0.82))\n",
    "sensitivities[sensitivities[\"black\"] == closestSensitivity][['black']]"
   ]
  },
  {
   "cell_type": "code",
   "execution_count": 14,
   "metadata": {},
   "outputs": [
    {
     "data": {
      "text/html": [
       "<div>\n",
       "<style>\n",
       "    .dataframe thead tr:only-child th {\n",
       "        text-align: right;\n",
       "    }\n",
       "\n",
       "    .dataframe thead th {\n",
       "        text-align: left;\n",
       "    }\n",
       "\n",
       "    .dataframe tbody tr th {\n",
       "        vertical-align: top;\n",
       "    }\n",
       "</style>\n",
       "<table border=\"1\" class=\"dataframe\">\n",
       "  <thead>\n",
       "    <tr style=\"text-align: right;\">\n",
       "      <th></th>\n",
       "      <th>hispanic</th>\n",
       "    </tr>\n",
       "    <tr>\n",
       "      <th>TransRisk Score</th>\n",
       "      <th></th>\n",
       "    </tr>\n",
       "  </thead>\n",
       "  <tbody>\n",
       "    <tr>\n",
       "      <th>32.0</th>\n",
       "      <td>0.818817</td>\n",
       "    </tr>\n",
       "  </tbody>\n",
       "</table>\n",
       "</div>"
      ],
      "text/plain": [
       "                 hispanic\n",
       "TransRisk Score          \n",
       "32.0             0.818817"
      ]
     },
     "execution_count": 14,
     "metadata": {},
     "output_type": "execute_result"
    }
   ],
   "source": [
    "closestSensitivity = min(sensitivities[\"hispanic\"], key=lambda x:abs(x-0.82))\n",
    "sensitivities[sensitivities[\"hispanic\"] == closestSensitivity][['hispanic']]"
   ]
  },
  {
   "cell_type": "code",
   "execution_count": 15,
   "metadata": {},
   "outputs": [
    {
     "data": {
      "text/html": [
       "<div>\n",
       "<style>\n",
       "    .dataframe thead tr:only-child th {\n",
       "        text-align: right;\n",
       "    }\n",
       "\n",
       "    .dataframe thead th {\n",
       "        text-align: left;\n",
       "    }\n",
       "\n",
       "    .dataframe tbody tr th {\n",
       "        vertical-align: top;\n",
       "    }\n",
       "</style>\n",
       "<table border=\"1\" class=\"dataframe\">\n",
       "  <thead>\n",
       "    <tr style=\"text-align: right;\">\n",
       "      <th></th>\n",
       "      <th>asian</th>\n",
       "    </tr>\n",
       "    <tr>\n",
       "      <th>TransRisk Score</th>\n",
       "      <th></th>\n",
       "    </tr>\n",
       "  </thead>\n",
       "  <tbody>\n",
       "    <tr>\n",
       "      <th>40.5</th>\n",
       "      <td>0.818411</td>\n",
       "    </tr>\n",
       "  </tbody>\n",
       "</table>\n",
       "</div>"
      ],
      "text/plain": [
       "                    asian\n",
       "TransRisk Score          \n",
       "40.5             0.818411"
      ]
     },
     "execution_count": 15,
     "metadata": {},
     "output_type": "execute_result"
    }
   ],
   "source": [
    "closestSensitivity = min(sensitivities[\"asian\"], key=lambda x:abs(x-0.82))\n",
    "sensitivities[sensitivities[\"asian\"] == closestSensitivity][['asian']]"
   ]
  },
  {
   "cell_type": "markdown",
   "metadata": {},
   "source": [
    "<hr/>"
   ]
  },
  {
   "cell_type": "markdown",
   "metadata": {},
   "source": [
    "# Results & Conclusions"
   ]
  },
  {
   "cell_type": "markdown",
   "metadata": {
    "collapsed": true
   },
   "source": [
    "<i><h4>Congratulations!</h4></i><br/> You have successfully taken a discriminatory predictor and utilized a machine learning fairness model to make it into a 'fair' predictor. \n",
    "<ul>\n",
    "<li> Through visualizing the probability of a beneficial outcome, it was quite clear that the data involved in creating the supervised learning predictors for loan approval from TransRisk scores was inherently discriminatory.</li>\n",
    "<li> The Equal Opportunity Model provided a clear requirement to ensure fairness. As we learned later, this meant that the sensitivity (the true positive rate) of the predictor had to be the same for all races.</li>\n",
    "<li> Using loss minimization, you were able to find the single sensitivity that provided the least amount of loss.</li>\n",
    "<li> Finally, you discovered four new threshold values to be used; one for each demographic.</li>\n",
    "</ul>\n",
    "<br/><br/>\n",
    "\n",
    "<div align='center'><i>What other commonly found predictors do you think might be inherently discriminatory?</i></div>\n",
    "<br/><br/>"
   ]
  },
  {
   "cell_type": "markdown",
   "metadata": {},
   "source": [
    "TransRisk data and non-discriminatory analysis courtesy of https://arxiv.org/pdf/1610.02413.pdf"
   ]
  }
 ],
 "metadata": {
  "kernelspec": {
   "display_name": "Python 3",
   "language": "python",
   "name": "python3"
  },
  "language_info": {
   "codemirror_mode": {
    "name": "ipython",
    "version": 3
   },
   "file_extension": ".py",
   "mimetype": "text/x-python",
   "name": "python",
   "nbconvert_exporter": "python",
   "pygments_lexer": "ipython3",
   "version": "3.6.1"
  }
 },
 "nbformat": 4,
 "nbformat_minor": 2
}
