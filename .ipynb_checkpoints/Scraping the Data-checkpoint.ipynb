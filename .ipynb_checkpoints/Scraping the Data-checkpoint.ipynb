{
 "cells": [
  {
   "cell_type": "markdown",
   "metadata": {},
   "source": [
    "## Notes\n",
    "\n",
    "• All of the following calculations are conditional on race/ethnicity. That is, the calculation described below is carried out separately for each race.\n",
    "\n",
    "• The figures/tables containing the data can be found here:\n",
    "https://www.federalreserve.gov/boarddocs/rptcongress/creditscore/figures.htm.\n",
    "\n",
    "• We will be analyzing\n",
    "- \"Figure_7.A._TransRisk_Score_Cumulative_Percentage_of_Goods_and_Bads,_by_Demographic_Group(Random-Account_Performance)_-_Race_or_ethnicity_(SSA_data)\"\n",
    "- \"Figure 3.A. TransRisk Score: Cumulative Percentage, by Demographic Group (SSA data)\" "
   ]
  },
  {
   "cell_type": "markdown",
   "metadata": {},
   "source": [
    "## Calculations"
   ]
  },
  {
   "cell_type": "code",
   "execution_count": 1,
   "metadata": {
    "collapsed": true
   },
   "outputs": [],
   "source": [
    "import pandas as pd\n",
    "import numpy as np\n",
    "import sys\n",
    "import matplotlib.pyplot as plt\n",
    "totalData = pd.read_csv(\"Figure7A.csv\")\n",
    "CumulativeData = pd.read_csv(\"Figure3A.csv\")"
   ]
  },
  {
   "cell_type": "code",
   "execution_count": 2,
   "metadata": {
    "collapsed": true
   },
   "outputs": [],
   "source": [
    "%matplotlib inline"
   ]
  },
  {
   "cell_type": "markdown",
   "metadata": {},
   "source": [
    "### Step 1) Calculating π\n",
    "Notes: Will be calculating pi for inequality data (cumulative probabilities) and the non-cumulative data, then finding the best value for pi by comparing the means and the pi value at a score of 50 (half way point)"
   ]
  },
  {
   "cell_type": "markdown",
   "metadata": {},
   "source": [
    "*** If I calculate pi with the inequality data: ***"
   ]
  },
  {
   "cell_type": "code",
   "execution_count": 3,
   "metadata": {
    "collapsed": true
   },
   "outputs": [],
   "source": [
    "# Get the dataframe that holds the cumulative percentage, by demographic group\n",
    "def getPD(data, col, raceName):\n",
    "    pd = data[\"Score\"].to_frame(name=\"Score\")\n",
    "    race = np.full(len(data), raceName)\n",
    "    pd[\"Demographic\"] = race\n",
    "    pd[\"Percentage\"] = data[col]\n",
    "    return pd\n",
    "\n",
    "whites = getPD(CumulativeData, \"White\", \"white\")\n",
    "blacks = getPD(CumulativeData, \"Black\", \"black\")\n",
    "asians = getPD(CumulativeData, \"Asian\", \"asian\")\n",
    "hispanics = getPD(CumulativeData, \"Hispanic\", \"hispanic\")\n",
    "pds = [whites, blacks, asians, hispanics]\n",
    "cumulative = pd.concat(pds)"
   ]
  },
  {
   "cell_type": "code",
   "execution_count": 4,
   "metadata": {
    "collapsed": true
   },
   "outputs": [],
   "source": [
    "def getPis(dataset, raceSet, goodName, badName):\n",
    "    good = dataset.set_index(\"Score\")[goodName]\n",
    "    bad = dataset.set_index(\"Score\")[badName]\n",
    "    total = raceSet.set_index(\"Score\").Percentage\n",
    "    return ((total - bad) / (good - bad)).fillna(value=0)"
   ]
  },
  {
   "cell_type": "code",
   "execution_count": 5,
   "metadata": {
    "collapsed": true
   },
   "outputs": [],
   "source": [
    "asianPi = getPis(totalData, asians, \"Asian (Good)\", \"Asian (Bad)\")\n",
    "whitePi = getPis(totalData, whites, \"White (Good)\", \"White (Bad)\")\n",
    "blackPi = getPis(totalData, blacks, \"Black (Good)\", \"Black (Bad)\")\n",
    "hispanicPi = getPis(totalData, hispanics, \"Hispanic (Good)\", \"Hispanic (Bad)\")"
   ]
  },
  {
   "cell_type": "code",
   "execution_count": 6,
   "metadata": {},
   "outputs": [
    {
     "data": {
      "text/plain": [
       "[<matplotlib.lines.Line2D at 0x1120028d0>]"
      ]
     },
     "execution_count": 6,
     "metadata": {},
     "output_type": "execute_result"
    },
    {
     "data": {
      "image/png": "[encoded data removed]",
      "text/plain": [
       "<matplotlib.figure.Figure at 0x10fa09f98>"
      ]
     },
     "metadata": {},
     "output_type": "display_data"
    }
   ],
   "source": [
    "#pi with inequality values\n",
    "plt.plot(asianPi)\n",
    "plt.plot(whitePi)\n",
    "plt.plot(hispanicPi)\n",
    "plt.plot(blackPi)"
   ]
  },
  {
   "cell_type": "code",
   "execution_count": 7,
   "metadata": {},
   "outputs": [
    {
     "data": {
      "text/plain": [
       "(0.7778627963889763,\n",
       " 0.7331253694683577,\n",
       " 0.5407805362887502,\n",
       " 0.32228162064873733)"
      ]
     },
     "execution_count": 7,
     "metadata": {},
     "output_type": "execute_result"
    }
   ],
   "source": [
    "#pi for each demographic if I choose the mean value with inequalites\n",
    "asianPi.mean(), whitePi.mean(), hispanicPi.mean(), blackPi.mean()"
   ]
  },
  {
   "cell_type": "code",
   "execution_count": 8,
   "metadata": {},
   "outputs": [
    {
     "data": {
      "text/plain": [
       "(0.78271983640081788,\n",
       " 0.72788697788697787,\n",
       " 0.53443983402489637,\n",
       " 0.31168177240684786)"
      ]
     },
     "execution_count": 8,
     "metadata": {},
     "output_type": "execute_result"
    }
   ],
   "source": [
    "#pi for each demographic if I choose the value at score 50 with inequalities\n",
    "asianPi[50], whitePi[50], hispanicPi[50], blackPi[50]"
   ]
  },
  {
   "cell_type": "markdown",
   "metadata": {},
   "source": [
    "*** If I calculate pi with the non-cumulative data ***"
   ]
  },
  {
   "cell_type": "code",
   "execution_count": 9,
   "metadata": {
    "collapsed": true
   },
   "outputs": [],
   "source": [
    "def getPisNonCumulative(dataset, raceSet, goodName, badName):\n",
    "    good = dataset.set_index(\"Score\")[goodName].diff().fillna(value=0)\n",
    "    bad = dataset.set_index(\"Score\")[badName].diff().fillna(value=0)\n",
    "    total = raceSet.set_index(\"Score\")[\"Percentage\"].diff().fillna(value=0)\n",
    "    return ((total - bad) / (good - bad)).fillna(value=0)"
   ]
  },
  {
   "cell_type": "code",
   "execution_count": 10,
   "metadata": {
    "collapsed": true
   },
   "outputs": [],
   "source": [
    "whitePiTwo = getPisNonCumulative(totalData, whites, \"White (Good)\", \"White (Bad)\")\n",
    "blackPiTwo = getPisNonCumulative(totalData, blacks, \"Black (Good)\", \"Black (Bad)\")\n",
    "asianPiTwo = getPisNonCumulative(totalData, asians, \"Asian (Good)\", \"Asian (Bad)\")\n",
    "hispanicPiTwo = getPisNonCumulative(totalData, hispanics, \"Hispanic (Good)\", \"Hispanic (Bad)\")"
   ]
  },
  {
   "cell_type": "code",
   "execution_count": 11,
   "metadata": {},
   "outputs": [
    {
     "data": {
      "text/plain": [
       "Score\n",
       "30.0    5.945946e-01\n",
       "30.5    6.451613e-01\n",
       "31.0    5.882353e-01\n",
       "31.5    5.238095e-01\n",
       "32.0    5.000000e-01\n",
       "32.5    6.000000e-01\n",
       "33.0    5.294118e-01\n",
       "33.5    2.368476e-13\n",
       "34.0    5.555556e-01\n",
       "34.5   -1.184238e-13\n",
       "35.0    5.000000e-01\n",
       "35.5    5.000000e-01\n",
       "36.0    1.500000e+00\n",
       "36.5    1.000000e+00\n",
       "37.0    1.058824e+00\n",
       "37.5    2.000000e+00\n",
       "38.0    1.166667e+00\n",
       "38.5    1.000000e+00\n",
       "39.0   -4.000000e+00\n",
       "39.5   -1.608428e+12\n",
       "40.0    1.100000e+00\n",
       "dtype: float64"
      ]
     },
     "execution_count": 11,
     "metadata": {},
     "output_type": "execute_result"
    }
   ],
   "source": [
    "whitePiTwo[30:40]"
   ]
  },
  {
   "cell_type": "code",
   "execution_count": 12,
   "metadata": {},
   "outputs": [
    {
     "data": {
      "text/plain": [
       "[<matplotlib.lines.Line2D at 0x112059358>]"
      ]
     },
     "execution_count": 12,
     "metadata": {},
     "output_type": "execute_result"
    },
    {
     "data": {
      "image/png": "[encoded data removed]",
      "text/plain": [
       "<matplotlib.figure.Figure at 0x10fa62ba8>"
      ]
     },
     "metadata": {},
     "output_type": "display_data"
    }
   ],
   "source": [
    "#pi with equality values (all of the plots are a little bit weird for this one because there are negative diff values\n",
    "#and rounding error for the whitePiTwo)\n",
    "# plt.plot(blackPiTwo)\n",
    "# plt.plot(asianPiTwo)\n",
    "plt.plot(whitePiTwo)\n",
    "# plt.plot(hispanicPiTwo)"
   ]
  },
  {
   "cell_type": "code",
   "execution_count": 13,
   "metadata": {},
   "outputs": [
    {
     "data": {
      "text/plain": [
       "(-8123375950.528774,\n",
       " 0.32642509048604285,\n",
       " 0.7913702820010068,\n",
       " 0.5063311172908808)"
      ]
     },
     "execution_count": 13,
     "metadata": {},
     "output_type": "execute_result"
    }
   ],
   "source": [
    "#value of pi for non cumulative data with mean values\n",
    "whitePiTwo.mean(), blackPiTwo.mean(), asianPiTwo.mean(), hispanicPiTwo.mean()"
   ]
  },
  {
   "cell_type": "code",
   "execution_count": 14,
   "metadata": {},
   "outputs": [
    {
     "data": {
      "text/plain": [
       "(0.77551020408163152,\n",
       " 0.29896907216495305,\n",
       " 0.80645161290323375,\n",
       " 0.54545454545453709)"
      ]
     },
     "execution_count": 14,
     "metadata": {},
     "output_type": "execute_result"
    }
   ],
   "source": [
    "#value of pi for non cumulative data with selecting score of 50\n",
    "whitePiTwo[50], blackPiTwo[50], asianPiTwo[50], hispanicPiTwo[50]"
   ]
  },
  {
   "cell_type": "code",
   "execution_count": 15,
   "metadata": {},
   "outputs": [
    {
     "data": {
      "text/plain": [
       "(0.77551020408163152,\n",
       " 0.72788697788697787,\n",
       " 0.29896907216495305,\n",
       " 0.31168177240684786,\n",
       " 0.80645161290323375,\n",
       " 0.78271983640081788,\n",
       " 0.54545454545453709,\n",
       " 0.53443983402489637)"
      ]
     },
     "execution_count": 15,
     "metadata": {},
     "output_type": "execute_result"
    }
   ],
   "source": [
    "# comparing pi values to find the best ones with a score of 50:\n",
    "whitePiTwo[50], whitePi[50], blackPiTwo[50], blackPi[50], asianPiTwo[50], asianPi[50], hispanicPiTwo[50], hispanicPi[50]"
   ]
  },
  {
   "cell_type": "code",
   "execution_count": 16,
   "metadata": {},
   "outputs": [
    {
     "data": {
      "text/plain": [
       "(-8123375950.528774,\n",
       " 0.7331253694683577,\n",
       " 0.32642509048604285,\n",
       " 0.32228162064873733,\n",
       " 0.7913702820010068,\n",
       " 0.7778627963889763,\n",
       " 0.5063311172908808,\n",
       " 0.5407805362887502)"
      ]
     },
     "execution_count": 16,
     "metadata": {},
     "output_type": "execute_result"
    }
   ],
   "source": [
    "# comparing pi values to find the best ones using the mean value\n",
    "whitePiTwo.mean(), whitePi.mean(), blackPiTwo.mean(), blackPi.mean(), asianPiTwo.mean(), asianPi.mean(), hispanicPiTwo.mean(), hispanicPi.mean()"
   ]
  },
  {
   "cell_type": "markdown",
   "metadata": {},
   "source": [
    "*** Interpretations.... ***\n",
    "Since the mean values are not as closely linked, and there is the descrepancy in the white values, I'm going to use the transrisk score of 50 value for pi. It seems that pi is greater using the non-cumulative data rather than the cumulative data, (except for the black demographic). I'm going to use the non-cumulative data for now and see if that yeilds good results."
   ]
  },
  {
   "cell_type": "markdown",
   "metadata": {},
   "source": [
    "### Step 3) Calculate the probability using Bayes' Rule"
   ]
  },
  {
   "cell_type": "code",
   "execution_count": 17,
   "metadata": {
    "collapsed": true
   },
   "outputs": [],
   "source": [
    "piWhite = whitePiTwo[50]\n",
    "piBlack = blackPiTwo[50]\n",
    "piAsian = asianPiTwo[50]\n",
    "piHispanic = hispanicPiTwo[50]"
   ]
  },
  {
   "cell_type": "code",
   "execution_count": 18,
   "metadata": {
    "collapsed": true
   },
   "outputs": [],
   "source": [
    "def getProbability(dataset, raceSet, goodName, badName, pi):\n",
    "    good = dataset.set_index(\"Score\")[goodName].diff().fillna(value=0)\n",
    "    bad = dataset.set_index(\"Score\")[badName].diff().fillna(value=0)\n",
    "    total = raceSet.set_index(\"Score\")[\"Percentage\"].diff().fillna(value=0)\n",
    "    finalProbability = (pi * good) / ((pi * good) + ((1 - pi)*(bad)))\n",
    "    return finalProbability"
   ]
  },
  {
   "cell_type": "code",
   "execution_count": 19,
   "metadata": {
    "collapsed": true
   },
   "outputs": [],
   "source": [
    "whiteProb = getProbability(totalData, whites, \"White (Good)\", \"White (Bad)\", piWhite).fillna(value=0)\n",
    "blackProb = getProbability(totalData, blacks, \"Black (Good)\", \"Black (Bad)\", piBlack).fillna(value=0)\n",
    "asianProb = getProbability(totalData, blacks, \"Asian (Good)\", \"Asian (Bad)\", piAsian).fillna(value=0)\n",
    "hispanicProb = getProbability(totalData, hispanics, \"Hispanic (Good)\", \"Hispanic (Bad)\", piHispanic).fillna(value=0)"
   ]
  },
  {
   "cell_type": "code",
   "execution_count": 20,
   "metadata": {},
   "outputs": [
    {
     "data": {
      "text/plain": [
       "[<matplotlib.lines.Line2D at 0x1121aeb00>]"
      ]
     },
     "execution_count": 20,
     "metadata": {},
     "output_type": "execute_result"
    },
    {
     "data": {
      "image/png": "[encoded data removed]",
      "text/plain": [
       "<matplotlib.figure.Figure at 0x112060208>"
      ]
     },
     "metadata": {},
     "output_type": "display_data"
    }
   ],
   "source": [
    "plt.plot(whiteProb)\n",
    "plt.plot(blackProb)\n",
    "plt.plot(asianProb)\n",
    "plt.plot(hispanicProb)"
   ]
  },
  {
   "cell_type": "code",
   "execution_count": 21,
   "metadata": {
    "collapsed": true
   },
   "outputs": [],
   "source": [
    "newData = totalData.set_index(\"Score\")\n",
    "newData[\"White (Good)\"] = whiteProb\n",
    "newData[\"White (Bad)\"] = 1 - whiteProb\n",
    "newData[\"Black (Good)\"] = blackProb\n",
    "newData[\"Black (Bad)\"] = 1 - blackProb\n",
    "newData[\"Hispanic (Good)\"] = hispanicProb\n",
    "newData[\"Hispanic (Bad)\"] = 1 - hispanicProb\n",
    "newData[\"Asian (Good)\"] = asianProb\n",
    "newData[\"Asian (Bad)\"] = 1 - asianProb\n",
    "newData.to_csv(\"NonCumulativeProbabilities.csv\")"
   ]
  },
  {
   "cell_type": "markdown",
   "metadata": {},
   "source": [
    "# Creating Dataframes for Tutorial"
   ]
  },
  {
   "cell_type": "markdown",
   "metadata": {
    "collapsed": true
   },
   "source": [
    "## Percentage of Goods and Bads (totals to 1.0 for each score)"
   ]
  },
  {
   "cell_type": "code",
   "execution_count": 18,
   "metadata": {},
   "outputs": [],
   "source": [
    "import pandas as pd\n",
    "import numpy as np\n",
    "%matplotlib inline"
   ]
  },
  {
   "cell_type": "code",
   "execution_count": 19,
   "metadata": {
    "collapsed": true
   },
   "outputs": [],
   "source": [
    "def getPD(goodName, badName, data, raceName):\n",
    "    pd = data['Score'].to_frame(name=\"Score\")\n",
    "    race = np.full(len(data), raceName)\n",
    "    pd[\"Demographic\"] = race\n",
    "    pd[\"Good\"] = data[goodName].copy()\n",
    "    pd[\"Bad\"] = data[badName].copy()\n",
    "    return pd"
   ]
  },
  {
   "cell_type": "code",
   "execution_count": 20,
   "metadata": {},
   "outputs": [],
   "source": [
    "#cell added today on April 15\n",
    "data = pd.read_csv(\"NonCumulativeProbabilities.csv\")\n",
    "whites = getPD('White (Good)', 'White (Bad)', data, \"white\")\n",
    "blacks = getPD('Black (Good)', 'Black (Bad)', data, \"black\")\n",
    "asians = getPD('Asian (Good)', 'Asian (Bad)', data, \"asian\")\n",
    "hispanics = getPD('Hispanic (Good)', 'Hispanic (Bad)', data, \"hispanic\")"
   ]
  },
  {
   "cell_type": "code",
   "execution_count": 21,
   "metadata": {},
   "outputs": [
    {
     "data": {
      "text/html": [
       "<div>\n",
       "<style>\n",
       "    .dataframe thead tr:only-child th {\n",
       "        text-align: right;\n",
       "    }\n",
       "\n",
       "    .dataframe thead th {\n",
       "        text-align: left;\n",
       "    }\n",
       "\n",
       "    .dataframe tbody tr th {\n",
       "        vertical-align: top;\n",
       "    }\n",
       "</style>\n",
       "<table border=\"1\" class=\"dataframe\">\n",
       "  <thead>\n",
       "    <tr style=\"text-align: right;\">\n",
       "      <th></th>\n",
       "      <th>Demographic</th>\n",
       "      <th>Good</th>\n",
       "      <th>Bad</th>\n",
       "    </tr>\n",
       "    <tr>\n",
       "      <th>TransRisk Score</th>\n",
       "      <th></th>\n",
       "      <th></th>\n",
       "      <th></th>\n",
       "    </tr>\n",
       "  </thead>\n",
       "  <tbody>\n",
       "    <tr>\n",
       "      <th>0.0</th>\n",
       "      <td>white</td>\n",
       "      <td>0.000000</td>\n",
       "      <td>1.000000</td>\n",
       "    </tr>\n",
       "    <tr>\n",
       "      <th>0.5</th>\n",
       "      <td>white</td>\n",
       "      <td>0.000000</td>\n",
       "      <td>1.000000</td>\n",
       "    </tr>\n",
       "    <tr>\n",
       "      <th>1.0</th>\n",
       "      <td>white</td>\n",
       "      <td>0.025629</td>\n",
       "      <td>0.974371</td>\n",
       "    </tr>\n",
       "    <tr>\n",
       "      <th>1.5</th>\n",
       "      <td>white</td>\n",
       "      <td>0.027318</td>\n",
       "      <td>0.972682</td>\n",
       "    </tr>\n",
       "    <tr>\n",
       "      <th>2.0</th>\n",
       "      <td>white</td>\n",
       "      <td>0.042152</td>\n",
       "      <td>0.957848</td>\n",
       "    </tr>\n",
       "  </tbody>\n",
       "</table>\n",
       "</div>"
      ],
      "text/plain": [
       "                Demographic      Good       Bad\n",
       "TransRisk Score                                \n",
       "0.0                   white  0.000000  1.000000\n",
       "0.5                   white  0.000000  1.000000\n",
       "1.0                   white  0.025629  0.974371\n",
       "1.5                   white  0.027318  0.972682\n",
       "2.0                   white  0.042152  0.957848"
      ]
     },
     "execution_count": 21,
     "metadata": {},
     "output_type": "execute_result"
    }
   ],
   "source": [
    "frames = [whites, blacks, asians, hispanics]\n",
    "totalData = pd.concat(frames)\n",
    "totalData.rename(columns={'Score' : 'TransRisk Score'}, inplace=True)\n",
    "totalData.set_index(\"TransRisk Score\", inplace=True)\n",
    "totalData.head()"
   ]
  },
  {
   "cell_type": "code",
   "execution_count": 22,
   "metadata": {
    "collapsed": true
   },
   "outputs": [],
   "source": [
    "#used to be TransRiskScores.csv\n",
    "totalData.to_csv(\"PercentageOfGoodsAndBads.csv\")"
   ]
  },
  {
   "cell_type": "markdown",
   "metadata": {},
   "source": [
    "## Probability of Getting a Loan\n",
    "(this is what I will have them graph initially to see the unfairness)<br/>\n",
    "**Final Result: P(score >= x | race)**\n",
    "- probability of getting a loan\n",
    "\n",
    "**ProbOfBeingScore: P(score = x | race)**\n",
    "- probability of being a certain transrisk score"
   ]
  },
  {
   "cell_type": "code",
   "execution_count": 112,
   "metadata": {},
   "outputs": [
    {
     "data": {
      "image/png": "[encoded data removed]",
      "text/plain": [
       "<matplotlib.figure.Figure at 0x11200ce48>"
      ]
     },
     "metadata": {},
     "output_type": "display_data"
    }
   ],
   "source": [
    "ProbOfBeingScore = (\n",
    "    pd.read_csv(\"figure3A.csv\")\n",
    "    .set_index([\"Score\"]).diff().fillna(0) / 100\n",
    ")\n",
    "ProbOfBeingScore.columns.name = \"Demographic\"\n",
    "ProbOfBeingScore.columns = ProbOfBeingScore.columns.str.lower()\n",
    "ProbOfBeingScore.index.name = \"TransRisk Score\"\n",
    "ProbOfBeingScore.to_csv(\"ProbOfBeingScore.csv\")\n",
    "ProbOfGettingLoan = ProbOfBeingScore.iloc[::-1].cumsum()[::-1]\n",
    "ProbOfGettingLoan.plot.line()\n",
    "ProbOfGettingLoan.to_csv(\"ProbOfGettingLoan.csv\")"
   ]
  },
  {
   "cell_type": "code",
   "execution_count": 114,
   "metadata": {},
   "outputs": [
    {
     "data": {
      "text/html": [
       "<div>\n",
       "<style>\n",
       "    .dataframe thead tr:only-child th {\n",
       "        text-align: right;\n",
       "    }\n",
       "\n",
       "    .dataframe thead th {\n",
       "        text-align: left;\n",
       "    }\n",
       "\n",
       "    .dataframe tbody tr th {\n",
       "        vertical-align: top;\n",
       "    }\n",
       "</style>\n",
       "<table border=\"1\" class=\"dataframe\">\n",
       "  <thead>\n",
       "    <tr style=\"text-align: right;\">\n",
       "      <th>Demographic</th>\n",
       "      <th>white</th>\n",
       "      <th>black</th>\n",
       "      <th>hispanic</th>\n",
       "      <th>asian</th>\n",
       "    </tr>\n",
       "    <tr>\n",
       "      <th>TransRisk Score</th>\n",
       "      <th></th>\n",
       "      <th></th>\n",
       "      <th></th>\n",
       "      <th></th>\n",
       "    </tr>\n",
       "  </thead>\n",
       "  <tbody>\n",
       "    <tr>\n",
       "      <th>0.0</th>\n",
       "      <td>0.0000</td>\n",
       "      <td>0.0000</td>\n",
       "      <td>0.0000</td>\n",
       "      <td>0.0000</td>\n",
       "    </tr>\n",
       "    <tr>\n",
       "      <th>0.5</th>\n",
       "      <td>0.0025</td>\n",
       "      <td>0.0112</td>\n",
       "      <td>0.0046</td>\n",
       "      <td>0.0013</td>\n",
       "    </tr>\n",
       "    <tr>\n",
       "      <th>1.0</th>\n",
       "      <td>0.0090</td>\n",
       "      <td>0.0414</td>\n",
       "      <td>0.0175</td>\n",
       "      <td>0.0075</td>\n",
       "    </tr>\n",
       "    <tr>\n",
       "      <th>1.5</th>\n",
       "      <td>0.0027</td>\n",
       "      <td>0.0114</td>\n",
       "      <td>0.0052</td>\n",
       "      <td>0.0019</td>\n",
       "    </tr>\n",
       "    <tr>\n",
       "      <th>2.0</th>\n",
       "      <td>0.0037</td>\n",
       "      <td>0.0142</td>\n",
       "      <td>0.0075</td>\n",
       "      <td>0.0025</td>\n",
       "    </tr>\n",
       "  </tbody>\n",
       "</table>\n",
       "</div>"
      ],
      "text/plain": [
       "Demographic       white   black  hispanic   asian\n",
       "TransRisk Score                                  \n",
       "0.0              0.0000  0.0000    0.0000  0.0000\n",
       "0.5              0.0025  0.0112    0.0046  0.0013\n",
       "1.0              0.0090  0.0414    0.0175  0.0075\n",
       "1.5              0.0027  0.0114    0.0052  0.0019\n",
       "2.0              0.0037  0.0142    0.0075  0.0025"
      ]
     },
     "execution_count": 114,
     "metadata": {},
     "output_type": "execute_result"
    }
   ],
   "source": [
    "# Quick Question!!! These should be the same, but converting to\n",
    "# csv messes up the index... is there a way around this?\n",
    "ProbOfBeingScore.head()"
   ]
  },
  {
   "cell_type": "code",
   "execution_count": 116,
   "metadata": {},
   "outputs": [
    {
     "data": {
      "text/html": [
       "<div>\n",
       "<style>\n",
       "    .dataframe thead tr:only-child th {\n",
       "        text-align: right;\n",
       "    }\n",
       "\n",
       "    .dataframe thead th {\n",
       "        text-align: left;\n",
       "    }\n",
       "\n",
       "    .dataframe tbody tr th {\n",
       "        vertical-align: top;\n",
       "    }\n",
       "</style>\n",
       "<table border=\"1\" class=\"dataframe\">\n",
       "  <thead>\n",
       "    <tr style=\"text-align: right;\">\n",
       "      <th></th>\n",
       "      <th>TransRisk Score</th>\n",
       "      <th>white</th>\n",
       "      <th>black</th>\n",
       "      <th>hispanic</th>\n",
       "      <th>asian</th>\n",
       "    </tr>\n",
       "  </thead>\n",
       "  <tbody>\n",
       "    <tr>\n",
       "      <th>0</th>\n",
       "      <td>0.0</td>\n",
       "      <td>0.0000</td>\n",
       "      <td>0.0000</td>\n",
       "      <td>0.0000</td>\n",
       "      <td>0.0000</td>\n",
       "    </tr>\n",
       "    <tr>\n",
       "      <th>1</th>\n",
       "      <td>0.5</td>\n",
       "      <td>0.0025</td>\n",
       "      <td>0.0112</td>\n",
       "      <td>0.0046</td>\n",
       "      <td>0.0013</td>\n",
       "    </tr>\n",
       "    <tr>\n",
       "      <th>2</th>\n",
       "      <td>1.0</td>\n",
       "      <td>0.0090</td>\n",
       "      <td>0.0414</td>\n",
       "      <td>0.0175</td>\n",
       "      <td>0.0075</td>\n",
       "    </tr>\n",
       "    <tr>\n",
       "      <th>3</th>\n",
       "      <td>1.5</td>\n",
       "      <td>0.0027</td>\n",
       "      <td>0.0114</td>\n",
       "      <td>0.0052</td>\n",
       "      <td>0.0019</td>\n",
       "    </tr>\n",
       "    <tr>\n",
       "      <th>4</th>\n",
       "      <td>2.0</td>\n",
       "      <td>0.0037</td>\n",
       "      <td>0.0142</td>\n",
       "      <td>0.0075</td>\n",
       "      <td>0.0025</td>\n",
       "    </tr>\n",
       "  </tbody>\n",
       "</table>\n",
       "</div>"
      ],
      "text/plain": [
       "   TransRisk Score   white   black  hispanic   asian\n",
       "0              0.0  0.0000  0.0000    0.0000  0.0000\n",
       "1              0.5  0.0025  0.0112    0.0046  0.0013\n",
       "2              1.0  0.0090  0.0414    0.0175  0.0075\n",
       "3              1.5  0.0027  0.0114    0.0052  0.0019\n",
       "4              2.0  0.0037  0.0142    0.0075  0.0025"
      ]
     },
     "execution_count": 116,
     "metadata": {},
     "output_type": "execute_result"
    }
   ],
   "source": [
    "pd.read_csv(\"ProbOfBeingScore.csv\").head()"
   ]
  },
  {
   "cell_type": "markdown",
   "metadata": {},
   "source": [
    "## Sensitivity (TP Rate)\n",
    "(This actually isn't what we want anymore)<br/>\n",
    "** Final Result (Sensitivity): P(good | score >= x, race) **\n",
    "- probability of being good if given a loan\n",
    "\n",
    "** ProbOfBeingGood : P(good | score = x, race) **\n",
    "- probability of being good at a specific score\n",
    "\n",
    "** ProbOfGettingLoan : P(score >= x | race) **\n",
    "- probability of getting a loan\n",
    "\n",
    "** ProbGoodAndLoan : P(good and score >= x | race) **\n",
    "- probability of being good and getting a loan\n",
    "\n",
    "**ProbOfBeingScore : P(score = x | race)**\n",
    "- probability of being a certain transrisk score\n",
    "\n",
    "** ProbGoodAndScore : P(good and score = x | race) **\n",
    "- probability that you are good at a certain transrisk score"
   ]
  },
  {
   "cell_type": "code",
   "execution_count": 38,
   "metadata": {},
   "outputs": [],
   "source": [
    "ProbOfBeingGood = (\n",
    "    pd.read_csv(\"PercentageOfGoodsAndBads.csv\")\n",
    "    .set_index([\"TransRisk Score\", \"Demographic\"])\n",
    "    .unstack()[\"Good\"]\n",
    ")\n",
    "ProbGoodAndScore = (ProbOfBeingScore * ProbOfBeingGood)\n",
    "ProbGoodAndLoan = ProbGoodAndScore.iloc[::-1].cumsum()[::-1]"
   ]
  },
  {
   "cell_type": "code",
   "execution_count": 39,
   "metadata": {},
   "outputs": [
    {
     "data": {
      "text/plain": [
       "<matplotlib.axes._subplots.AxesSubplot at 0x1114dc940>"
      ]
     },
     "execution_count": 39,
     "metadata": {},
     "output_type": "execute_result"
    },
    {
     "data": {
      "image/png": "[encoded data removed]",
      "text/plain": [
       "<matplotlib.figure.Figure at 0x111146ba8>"
      ]
     },
     "metadata": {},
     "output_type": "display_data"
    }
   ],
   "source": [
    "Sensitivity = ProbGoodAndLoan / ProbOfGettingLoan\n",
    "Sensitivity.plot.line()"
   ]
  },
  {
   "cell_type": "markdown",
   "metadata": {},
   "source": [
    "## Fraction of Non-Defaulters that recieve a loan"
   ]
  },
  {
   "cell_type": "markdown",
   "metadata": {},
   "source": [
    "** Am I creating the FracOfTotalReceiveLoan wrong? Or am I doing the FracOfGoodReceiveLoan wrong? Because these will only be equal at the ends, which doesn't provide any source to discover which thresholds are best **"
   ]
  },
  {
   "cell_type": "code",
   "execution_count": 105,
   "metadata": {},
   "outputs": [
    {
     "data": {
      "text/plain": [
       "<matplotlib.axes._subplots.AxesSubplot at 0x111ee0400>"
      ]
     },
     "execution_count": 105,
     "metadata": {},
     "output_type": "execute_result"
    },
    {
     "data": {
      "image/png": "[encoded data removed]",
      "text/plain": [
       "<matplotlib.figure.Figure at 0x111fe4ba8>"
      ]
     },
     "metadata": {},
     "output_type": "display_data"
    }
   ],
   "source": [
    "# This represents the percentage of a demographic at score = x\n",
    "perc = (\n",
    "    (pd.read_csv(\"figure3A.csv\")\n",
    "    .set_index(\"Score\").diff().fillna(0)))\n",
    "# this represents the fraction of the total that receive a loan \n",
    "# at score = x\n",
    "FracOfTotalReceiveLoan = (100 - perc.cumsum()) / 100\n",
    "FracOfTotalReceiveLoan.columns.name = \"Demographic\"\n",
    "FracOfTotalReceiveLoan.columns = ProbOfBeingScore.columns.str.lower()\n",
    "FracOfTotalReceiveLoan.index.name = \"TransRisk Score\"\n",
    "# represents fraction of good that receive a loan at the thresholded score\n",
    "FracOfGoodReceiveLoan = (FracOfTotalReceiveLoan * ProbOfBeingGood)\n",
    "FracOfGoodReceiveLoan.plot.line()\n"
   ]
  },
  {
   "cell_type": "code",
   "execution_count": 110,
   "metadata": {},
   "outputs": [
    {
     "data": {
      "text/plain": [
       "0.17824658441167829"
      ]
     },
     "execution_count": 110,
     "metadata": {},
     "output_type": "execute_result"
    }
   ],
   "source": [
    "# technically, there is never a time when more than  17.8% of black people\n",
    "# who are good get a loan according to this\n",
    "FracOfGoodReceiveLoan[\"black\"].max()"
   ]
  },
  {
   "cell_type": "code",
   "execution_count": null,
   "metadata": {
    "collapsed": true
   },
   "outputs": [],
   "source": []
  },
  {
   "cell_type": "code",
   "execution_count": null,
   "metadata": {
    "collapsed": true
   },
   "outputs": [],
   "source": []
  },
  {
   "cell_type": "code",
   "execution_count": null,
   "metadata": {
    "collapsed": true
   },
   "outputs": [],
   "source": []
  },
  {
   "cell_type": "markdown",
   "metadata": {},
   "source": [
    "## @TODO: Creating the shortened data for the article"
   ]
  },
  {
   "cell_type": "code",
   "execution_count": 12,
   "metadata": {
    "collapsed": true
   },
   "outputs": [],
   "source": [
    "def getShortened(demographic, data):\n",
    "    short_g = []\n",
    "    short_g.append(data.set_index(\"Score\")[0:19.5].Good.mean())\n",
    "    short_g.append(data.set_index(\"Score\")[20:39.5].Good.mean())\n",
    "    short_g.append(data.set_index(\"Score\")[40:59.5].Good.mean())\n",
    "    short_g.append(data.set_index(\"Score\")[60:79.5].Good.mean())\n",
    "    short_g.append(data.set_index(\"Score\")[80:100].Good.mean())\n",
    "\n",
    "    short_b = []\n",
    "    short_b.append(data.set_index(\"Score\")[0:19.5].Bad.mean())\n",
    "    short_b.append(data.set_index(\"Score\")[20:39.5].Bad.mean())\n",
    "    short_b.append(data.set_index(\"Score\")[40:59.5].Bad.mean())\n",
    "    short_b.append(data.set_index(\"Score\")[60:79.5].Bad.mean())\n",
    "    short_b.append(data.set_index(\"Score\")[80:100].Bad.mean())\n",
    "\n",
    "    return pd.DataFrame({ 'TransRisk Score' : [10, 30, 50, 70, 90],\n",
    "        'Demographic' : np.full(5, demographic),\n",
    "        'Good' : short_g,\n",
    "        'Bad' : short_b},\n",
    "            columns=[\"TransRisk Score\", \"Demographic\", \"Good\", \"Bad\"]\n",
    "                        )"
   ]
  },
  {
   "cell_type": "code",
   "execution_count": 13,
   "metadata": {},
   "outputs": [
    {
     "data": {
      "text/html": [
       "<div>\n",
       "<style>\n",
       "    .dataframe thead tr:only-child th {\n",
       "        text-align: right;\n",
       "    }\n",
       "\n",
       "    .dataframe thead th {\n",
       "        text-align: left;\n",
       "    }\n",
       "\n",
       "    .dataframe tbody tr th {\n",
       "        vertical-align: top;\n",
       "    }\n",
       "</style>\n",
       "<table border=\"1\" class=\"dataframe\">\n",
       "  <thead>\n",
       "    <tr style=\"text-align: right;\">\n",
       "      <th></th>\n",
       "      <th>Demographic</th>\n",
       "      <th>Good</th>\n",
       "      <th>Bad</th>\n",
       "    </tr>\n",
       "    <tr>\n",
       "      <th>TransRisk Score</th>\n",
       "      <th></th>\n",
       "      <th></th>\n",
       "      <th></th>\n",
       "    </tr>\n",
       "  </thead>\n",
       "  <tbody>\n",
       "    <tr>\n",
       "      <th>10</th>\n",
       "      <td>white</td>\n",
       "      <td>0.140804</td>\n",
       "      <td>0.859196</td>\n",
       "    </tr>\n",
       "    <tr>\n",
       "      <th>30</th>\n",
       "      <td>white</td>\n",
       "      <td>0.587287</td>\n",
       "      <td>0.412713</td>\n",
       "    </tr>\n",
       "    <tr>\n",
       "      <th>50</th>\n",
       "      <td>white</td>\n",
       "      <td>0.899488</td>\n",
       "      <td>0.100512</td>\n",
       "    </tr>\n",
       "    <tr>\n",
       "      <th>70</th>\n",
       "      <td>white</td>\n",
       "      <td>0.970315</td>\n",
       "      <td>0.029685</td>\n",
       "    </tr>\n",
       "    <tr>\n",
       "      <th>90</th>\n",
       "      <td>white</td>\n",
       "      <td>0.986525</td>\n",
       "      <td>0.013475</td>\n",
       "    </tr>\n",
       "  </tbody>\n",
       "</table>\n",
       "</div>"
      ],
      "text/plain": [
       "                Demographic      Good       Bad\n",
       "TransRisk Score                                \n",
       "10                    white  0.140804  0.859196\n",
       "30                    white  0.587287  0.412713\n",
       "50                    white  0.899488  0.100512\n",
       "70                    white  0.970315  0.029685\n",
       "90                    white  0.986525  0.013475"
      ]
     },
     "execution_count": 13,
     "metadata": {},
     "output_type": "execute_result"
    }
   ],
   "source": [
    "short_w = getShortened(\"white\", whites)\n",
    "short_b = getShortened(\"black\", blacks)\n",
    "short_a = getShortened(\"asian\", asians)\n",
    "short_h = getShortened(\"hispanic\", hispanics)\n",
    "shortened_data = pd.concat([short_w, short_b, short_a, short_h]).set_index(\"TransRisk Score\")\n",
    "shortened_data.head()"
   ]
  },
  {
   "cell_type": "code",
   "execution_count": 14,
   "metadata": {
    "collapsed": true
   },
   "outputs": [],
   "source": [
    "shortened_data.to_csv(\"ShortenedData.csv\")"
   ]
  },
  {
   "cell_type": "code",
   "execution_count": null,
   "metadata": {
    "collapsed": true
   },
   "outputs": [],
   "source": []
  }
 ],
 "metadata": {
  "kernelspec": {
   "display_name": "Python 3",
   "language": "python",
   "name": "python3"
  },
  "language_info": {
   "codemirror_mode": {
    "name": "ipython",
    "version": 3
   },
   "file_extension": ".py",
   "mimetype": "text/x-python",
   "name": "python",
   "nbconvert_exporter": "python",
   "pygments_lexer": "ipython3",
   "version": "3.6.1"
  }
 },
 "nbformat": 4,
 "nbformat_minor": 2
}
