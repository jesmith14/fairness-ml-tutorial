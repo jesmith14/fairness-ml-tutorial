{
 "cells": [
  {
   "cell_type": "markdown",
   "metadata": {},
   "source": [
    "## Notes\n",
    "\n",
    "• All of the following calculations are conditional on race/ethnicity. That is, the calculation described below is carried out separately for each race.\n",
    "\n",
    "• The figures/tables containing the data can be found here:\n",
    "https://www.federalreserve.gov/boarddocs/rptcongress/creditscore/figures.htm.\n",
    "\n",
    "• We will be analyzing\n",
    "- \"Figure_7.A._TransRisk_Score_Cumulative_Percentage_of_Goods_and_Bads,_by_Demographic_Group(Random-Account_Performance)_-_Race_or_ethnicity_(SSA_data)\"\n",
    "- \"Figure 3.A. TransRisk Score: Cumulative Percentage, by Demographic Group (SSA data)\" "
   ]
  },
  {
   "cell_type": "markdown",
   "metadata": {},
   "source": [
    "## Calculations"
   ]
  },
  {
   "cell_type": "code",
   "execution_count": 1,
   "metadata": {
    "collapsed": true
   },
   "outputs": [],
   "source": [
    "import pandas as pd\n",
    "import numpy as np\n",
    "import sys\n",
    "import matplotlib.pyplot as plt\n",
    "totalData = pd.read_csv(\"Figure7A.csv\")\n",
    "CumulativeData = pd.read_csv(\"Figure3A.csv\")"
   ]
  },
  {
   "cell_type": "code",
   "execution_count": 2,
   "metadata": {
    "collapsed": true
   },
   "outputs": [],
   "source": [
    "%matplotlib inline"
   ]
  },
  {
   "cell_type": "markdown",
   "metadata": {},
   "source": [
    "### Step 1) Calculating π\n",
    "Notes: Will be calculating pi for inequality data (cumulative probabilities) and the non-cumulative data, then finding the best value for pi by comparing the means and the pi value at a score of 50 (half way point)"
   ]
  },
  {
   "cell_type": "markdown",
   "metadata": {},
   "source": [
    "*** If I calculate pi with the inequality data: ***"
   ]
  },
  {
   "cell_type": "code",
   "execution_count": 3,
   "metadata": {
    "collapsed": true
   },
   "outputs": [],
   "source": [
    "# Get the dataframe that holds the cumulative percentage, by demographic group\n",
    "def getPD(data, col, raceName):\n",
    "    pd = data[\"Score\"].to_frame(name=\"Score\")\n",
    "    race = np.full(len(data), raceName)\n",
    "    pd[\"Demographic\"] = race\n",
    "    pd[\"Percentage\"] = data[col]\n",
    "    return pd\n",
    "\n",
    "whites = getPD(CumulativeData, \"White\", \"white\")\n",
    "blacks = getPD(CumulativeData, \"Black\", \"black\")\n",
    "asians = getPD(CumulativeData, \"Asian\", \"asian\")\n",
    "hispanics = getPD(CumulativeData, \"Hispanic\", \"hispanic\")\n",
    "pds = [whites, blacks, asians, hispanics]\n",
    "cumulative = pd.concat(pds)"
   ]
  },
  {
   "cell_type": "code",
   "execution_count": 4,
   "metadata": {
    "collapsed": true
   },
   "outputs": [],
   "source": [
    "def getPis(dataset, raceSet, goodName, badName):\n",
    "    good = dataset.set_index(\"Score\")[goodName]\n",
    "    bad = dataset.set_index(\"Score\")[badName]\n",
    "    total = raceSet.set_index(\"Score\").Percentage\n",
    "    return ((total - bad) / (good - bad)).fillna(value=0)"
   ]
  },
  {
   "cell_type": "code",
   "execution_count": 5,
   "metadata": {},
   "outputs": [],
   "source": [
    "asianPi = getPis(totalData, asians, \"Asian (Good)\", \"Asian (Bad)\")\n",
    "whitePi = getPis(totalData, whites, \"White (Good)\", \"White (Bad)\")\n",
    "blackPi = getPis(totalData, blacks, \"Black (Good)\", \"Black (Bad)\")\n",
    "hispanicPi = getPis(totalData, hispanics, \"Hispanic (Good)\", \"Hispanic (Bad)\")"
   ]
  },
  {
   "cell_type": "code",
   "execution_count": 6,
   "metadata": {},
   "outputs": [
    {
     "data": {
      "text/plain": [
       "[<matplotlib.lines.Line2D at 0x1120028d0>]"
      ]
     },
     "execution_count": 6,
     "metadata": {},
     "output_type": "execute_result"
    },
    {
     "data": {
      "image/png": "[encoded data removed]",
      "text/plain": [
       "<matplotlib.figure.Figure at 0x10fa09f98>"
      ]
     },
     "metadata": {},
     "output_type": "display_data"
    }
   ],
   "source": [
    "#pi with inequality values\n",
    "plt.plot(asianPi)\n",
    "plt.plot(whitePi)\n",
    "plt.plot(hispanicPi)\n",
    "plt.plot(blackPi)"
   ]
  },
  {
   "cell_type": "code",
   "execution_count": 7,
   "metadata": {},
   "outputs": [
    {
     "data": {
      "text/plain": [
       "(0.7778627963889763,\n",
       " 0.7331253694683577,\n",
       " 0.5407805362887502,\n",
       " 0.32228162064873733)"
      ]
     },
     "execution_count": 7,
     "metadata": {},
     "output_type": "execute_result"
    }
   ],
   "source": [
    "#pi for each demographic if I choose the mean value with inequalites\n",
    "asianPi.mean(), whitePi.mean(), hispanicPi.mean(), blackPi.mean()"
   ]
  },
  {
   "cell_type": "code",
   "execution_count": 8,
   "metadata": {},
   "outputs": [
    {
     "data": {
      "text/plain": [
       "(0.78271983640081788,\n",
       " 0.72788697788697787,\n",
       " 0.53443983402489637,\n",
       " 0.31168177240684786)"
      ]
     },
     "execution_count": 8,
     "metadata": {},
     "output_type": "execute_result"
    }
   ],
   "source": [
    "#pi for each demographic if I choose the value at score 50 with inequalities\n",
    "asianPi[50], whitePi[50], hispanicPi[50], blackPi[50]"
   ]
  },
  {
   "cell_type": "markdown",
   "metadata": {},
   "source": [
    "*** If I calculate pi with the non-cumulative data ***"
   ]
  },
  {
   "cell_type": "code",
   "execution_count": 9,
   "metadata": {},
   "outputs": [],
   "source": [
    "def getPisNonCumulative(dataset, raceSet, goodName, badName):\n",
    "    good = dataset.set_index(\"Score\")[goodName].diff().fillna(value=0)\n",
    "    bad = dataset.set_index(\"Score\")[badName].diff().fillna(value=0)\n",
    "    total = raceSet.set_index(\"Score\")[\"Percentage\"].diff().fillna(value=0)\n",
    "    return ((total - bad) / (good - bad)).fillna(value=0)"
   ]
  },
  {
   "cell_type": "code",
   "execution_count": 10,
   "metadata": {},
   "outputs": [],
   "source": [
    "whitePiTwo = getPisNonCumulative(totalData, whites, \"White (Good)\", \"White (Bad)\")\n",
    "blackPiTwo = getPisNonCumulative(totalData, blacks, \"Black (Good)\", \"Black (Bad)\")\n",
    "asianPiTwo = getPisNonCumulative(totalData, asians, \"Asian (Good)\", \"Asian (Bad)\")\n",
    "hispanicPiTwo = getPisNonCumulative(totalData, hispanics, \"Hispanic (Good)\", \"Hispanic (Bad)\")"
   ]
  },
  {
   "cell_type": "code",
   "execution_count": 11,
   "metadata": {},
   "outputs": [
    {
     "data": {
      "text/plain": [
       "Score\n",
       "30.0    5.945946e-01\n",
       "30.5    6.451613e-01\n",
       "31.0    5.882353e-01\n",
       "31.5    5.238095e-01\n",
       "32.0    5.000000e-01\n",
       "32.5    6.000000e-01\n",
       "33.0    5.294118e-01\n",
       "33.5    2.368476e-13\n",
       "34.0    5.555556e-01\n",
       "34.5   -1.184238e-13\n",
       "35.0    5.000000e-01\n",
       "35.5    5.000000e-01\n",
       "36.0    1.500000e+00\n",
       "36.5    1.000000e+00\n",
       "37.0    1.058824e+00\n",
       "37.5    2.000000e+00\n",
       "38.0    1.166667e+00\n",
       "38.5    1.000000e+00\n",
       "39.0   -4.000000e+00\n",
       "39.5   -1.608428e+12\n",
       "40.0    1.100000e+00\n",
       "dtype: float64"
      ]
     },
     "execution_count": 11,
     "metadata": {},
     "output_type": "execute_result"
    }
   ],
   "source": [
    "whitePiTwo[30:40]"
   ]
  },
  {
   "cell_type": "code",
   "execution_count": 12,
   "metadata": {},
   "outputs": [
    {
     "data": {
      "text/plain": [
       "[<matplotlib.lines.Line2D at 0x112059358>]"
      ]
     },
     "execution_count": 12,
     "metadata": {},
     "output_type": "execute_result"
    },
    {
     "data": {
      "image/png": "[encoded data removed]",
      "text/plain": [
       "<matplotlib.figure.Figure at 0x10fa62ba8>"
      ]
     },
     "metadata": {},
     "output_type": "display_data"
    }
   ],
   "source": [
    "#pi with equality values (all of the plots are a little bit weird for this one because there are negative diff values\n",
    "#and rounding error for the whitePiTwo)\n",
    "# plt.plot(blackPiTwo)\n",
    "# plt.plot(asianPiTwo)\n",
    "plt.plot(whitePiTwo)\n",
    "# plt.plot(hispanicPiTwo)"
   ]
  },
  {
   "cell_type": "code",
   "execution_count": 13,
   "metadata": {},
   "outputs": [
    {
     "data": {
      "text/plain": [
       "(-8123375950.528774,\n",
       " 0.32642509048604285,\n",
       " 0.7913702820010068,\n",
       " 0.5063311172908808)"
      ]
     },
     "execution_count": 13,
     "metadata": {},
     "output_type": "execute_result"
    }
   ],
   "source": [
    "#value of pi for non cumulative data with mean values\n",
    "whitePiTwo.mean(), blackPiTwo.mean(), asianPiTwo.mean(), hispanicPiTwo.mean()"
   ]
  },
  {
   "cell_type": "code",
   "execution_count": 14,
   "metadata": {},
   "outputs": [
    {
     "data": {
      "text/plain": [
       "(0.77551020408163152,\n",
       " 0.29896907216495305,\n",
       " 0.80645161290323375,\n",
       " 0.54545454545453709)"
      ]
     },
     "execution_count": 14,
     "metadata": {},
     "output_type": "execute_result"
    }
   ],
   "source": [
    "#value of pi for non cumulative data with selecting score of 50\n",
    "whitePiTwo[50], blackPiTwo[50], asianPiTwo[50], hispanicPiTwo[50]"
   ]
  },
  {
   "cell_type": "code",
   "execution_count": 15,
   "metadata": {},
   "outputs": [
    {
     "data": {
      "text/plain": [
       "(0.77551020408163152,\n",
       " 0.72788697788697787,\n",
       " 0.29896907216495305,\n",
       " 0.31168177240684786,\n",
       " 0.80645161290323375,\n",
       " 0.78271983640081788,\n",
       " 0.54545454545453709,\n",
       " 0.53443983402489637)"
      ]
     },
     "execution_count": 15,
     "metadata": {},
     "output_type": "execute_result"
    }
   ],
   "source": [
    "# comparing pi values to find the best ones with a score of 50:\n",
    "whitePiTwo[50], whitePi[50], blackPiTwo[50], blackPi[50], asianPiTwo[50], asianPi[50], hispanicPiTwo[50], hispanicPi[50]"
   ]
  },
  {
   "cell_type": "code",
   "execution_count": 16,
   "metadata": {},
   "outputs": [
    {
     "data": {
      "text/plain": [
       "(-8123375950.528774,\n",
       " 0.7331253694683577,\n",
       " 0.32642509048604285,\n",
       " 0.32228162064873733,\n",
       " 0.7913702820010068,\n",
       " 0.7778627963889763,\n",
       " 0.5063311172908808,\n",
       " 0.5407805362887502)"
      ]
     },
     "execution_count": 16,
     "metadata": {},
     "output_type": "execute_result"
    }
   ],
   "source": [
    "# comparing pi values to find the best ones using the mean value\n",
    "whitePiTwo.mean(), whitePi.mean(), blackPiTwo.mean(), blackPi.mean(), asianPiTwo.mean(), asianPi.mean(), hispanicPiTwo.mean(), hispanicPi.mean()"
   ]
  },
  {
   "cell_type": "markdown",
   "metadata": {},
   "source": [
    "*** Interpretations.... ***\n",
    "Since the mean values are not as closely linked, and there is the descrepancy in the white values, I'm going to use the transrisk score of 50 value for pi. It seems that pi is greater using the non-cumulative data rather than the cumulative data, (except for the black demographic). I'm going to use the non-cumulative data for now and see if that yeilds good results."
   ]
  },
  {
   "cell_type": "markdown",
   "metadata": {},
   "source": [
    "### Step 3) Calculate the probability using Bayes' Rule"
   ]
  },
  {
   "cell_type": "code",
   "execution_count": 17,
   "metadata": {
    "collapsed": true
   },
   "outputs": [],
   "source": [
    "piWhite = whitePiTwo[50]\n",
    "piBlack = blackPiTwo[50]\n",
    "piAsian = asianPiTwo[50]\n",
    "piHispanic = hispanicPiTwo[50]"
   ]
  },
  {
   "cell_type": "code",
   "execution_count": 18,
   "metadata": {},
   "outputs": [],
   "source": [
    "def getProbability(dataset, raceSet, goodName, badName, pi):\n",
    "    good = dataset.set_index(\"Score\")[goodName].diff().fillna(value=0)\n",
    "    bad = dataset.set_index(\"Score\")[badName].diff().fillna(value=0)\n",
    "    total = raceSet.set_index(\"Score\")[\"Percentage\"].diff().fillna(value=0)\n",
    "    finalProbability = (pi * good) / ((pi * good) + ((1 - pi)*(bad)))\n",
    "    return finalProbability"
   ]
  },
  {
   "cell_type": "code",
   "execution_count": 19,
   "metadata": {},
   "outputs": [],
   "source": [
    "whiteProb = getProbability(totalData, whites, \"White (Good)\", \"White (Bad)\", piWhite).fillna(value=0)\n",
    "blackProb = getProbability(totalData, blacks, \"Black (Good)\", \"Black (Bad)\", piBlack).fillna(value=0)\n",
    "asianProb = getProbability(totalData, blacks, \"Asian (Good)\", \"Asian (Bad)\", piAsian).fillna(value=0)\n",
    "hispanicProb = getProbability(totalData, hispanics, \"Hispanic (Good)\", \"Hispanic (Bad)\", piHispanic).fillna(value=0)"
   ]
  },
  {
   "cell_type": "code",
   "execution_count": 20,
   "metadata": {},
   "outputs": [
    {
     "data": {
      "text/plain": [
       "[<matplotlib.lines.Line2D at 0x1121aeb00>]"
      ]
     },
     "execution_count": 20,
     "metadata": {},
     "output_type": "execute_result"
    },
    {
     "data": {
      "image/png": "[encoded data removed]",
      "text/plain": [
       "<matplotlib.figure.Figure at 0x112060208>"
      ]
     },
     "metadata": {},
     "output_type": "display_data"
    }
   ],
   "source": [
    "plt.plot(whiteProb)\n",
    "plt.plot(blackProb)\n",
    "plt.plot(asianProb)\n",
    "plt.plot(hispanicProb)"
   ]
  },
  {
   "cell_type": "code",
   "execution_count": 21,
   "metadata": {},
   "outputs": [],
   "source": [
    "newData = totalData.set_index(\"Score\")\n",
    "newData[\"White (Good)\"] = whiteProb\n",
    "newData[\"White (Bad)\"] = 1 - whiteProb\n",
    "newData[\"Black (Good)\"] = blackProb\n",
    "newData[\"Black (Bad)\"] = 1 - blackProb\n",
    "newData[\"Hispanic (Good)\"] = hispanicProb\n",
    "newData[\"Hispanic (Bad)\"] = 1 - hispanicProb\n",
    "newData[\"Asian (Good)\"] = asianProb\n",
    "newData[\"Asian (Bad)\"] = 1 - asianProb\n",
    "newData.to_csv(\"NonCumulativeProbabilities.csv\")"
   ]
  },
  {
   "cell_type": "code",
   "execution_count": null,
   "metadata": {
    "collapsed": true
   },
   "outputs": [],
   "source": []
  }
 ],
 "metadata": {
  "kernelspec": {
   "display_name": "Python 3",
   "language": "python",
   "name": "python3"
  },
  "language_info": {
   "codemirror_mode": {
    "name": "ipython",
    "version": 3
   },
   "file_extension": ".py",
   "mimetype": "text/x-python",
   "name": "python",
   "nbconvert_exporter": "python",
   "pygments_lexer": "ipython3",
   "version": "3.6.1"
  }
 },
 "nbformat": 4,
 "nbformat_minor": 2
}
