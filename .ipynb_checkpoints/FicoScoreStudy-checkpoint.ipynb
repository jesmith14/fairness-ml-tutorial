{
 "cells": [
  {
   "cell_type": "markdown",
   "metadata": {},
   "source": [
    "# This workbook is for the concatenation of the scraped data to be used for the tutorial and solution\n",
    "### Explanation / Motivation:\n",
    "- Study on non-discriminatory supervised learning models\n",
    "- This data set is a case study on FICO scores and how they determine a 'threshold' cutoff score to either deny or approve a loan application\n",
    "- Using data from the Federal Reserve, we can see the distribution of scores (FICO score percentile) against four main demographic groups: Asian, Hispanic, Black, and White\n",
    "- With this data, we can plot the probability of defaulting and/or non-defaulting people from a specified demographpic group getting approved a loan ($\\hat Y$ = 1).\n",
    "- Theoretically, the probability of defaulting and/or non-defaulting people getting ($\\hat Y$ = 1) should be equal amongst all demographic groups, but as you can see from this study, that is not the case.\n",
    "- I dive into what this means in terms of precision/recall, the cost of these discrepencies, why this is happening, as well as methodologies for improvement.\n",
    "- Data and non-descriminitaory model analysis courtesy of https://arxiv.org/pdf/1610.02413.pdf"
   ]
  },
  {
   "cell_type": "code",
   "execution_count": 1,
   "metadata": {
    "collapsed": true
   },
   "outputs": [],
   "source": [
    "from bs4 import BeautifulSoup\n",
    "import fileinput\n",
    "import sys\n",
    "import re\n",
    "import csv\n",
    "import requests\n",
    "import os\n",
    "import pandas as pd\n",
    "import matplotlib.pyplot as plt\n",
    "%matplotlib inline\n",
    "import matplotlib.lines as mlines\n"
   ]
  },
  {
   "cell_type": "markdown",
   "metadata": {},
   "source": [
    "## Scraping Data from Federal Reserve:\n",
    "#### Explanations / Guidelines:\n",
    "- All files are saved in current directory\n",
    "- We will be analyzing \"Figure_7.A._TransRisk_Score_Cumulative_Percentage_of_Goods_and_Bads,_by_Demographic_Group(Random-Account_Performance)_-_Race_or_ethnicity_(SSA_data).csv\" and saving that file as 'random-account-ficoscores.csv' for easier reference\n",
    "- To analyze the Cumulative Percentage of Goods and Bads for any of the other protected groups (sex, age, marital status, or income ratio) simply plug in this csv when assigning the 'data' variable\n",
    "- Options for account types: any-account, new-account, existing-account, random-account\n",
    "- In this study, \"good\" means non-defaulting for loans (will pay it off). \"Bad\" means defaulting for loans (will not pay it off)."
   ]
  },
  {
   "cell_type": "markdown",
   "metadata": {},
   "source": [
    "## HERE IS WHERE I CALCULATE THE CONDENSED VERSION OF THE DATA!"
   ]
  },
  {
   "cell_type": "code",
   "execution_count": 13,
   "metadata": {
    "collapsed": true
   },
   "outputs": [],
   "source": [
    "import numpy as np"
   ]
  },
  {
   "cell_type": "code",
   "execution_count": 14,
   "metadata": {
    "collapsed": true
   },
   "outputs": [],
   "source": [
    "def getPD(goodName, badName, data, raceName):\n",
    "    pd = data['Score'].to_frame(name=\"Score\")\n",
    "    race = np.full(len(data[badName]), raceName)\n",
    "    pd[\"Demographic\"] = race\n",
    "    pd[\"Good\"] = data[goodName].copy()\n",
    "    pd[\"Bad\"] = data[badName].copy()\n",
    "    return pd"
   ]
  },
  {
   "cell_type": "code",
   "execution_count": 15,
   "metadata": {},
   "outputs": [],
   "source": [
    "#cell updated on April 15 to reflect the correct probability data\n",
    "data = pd.read_csv(\"NonCumulativeProbabilities.csv\")\n",
    "whites = getPD('White (Good)', 'White (Bad)', data, \"white\")\n",
    "blacks = getPD('Black (Good)', 'Black (Bad)', data, \"black\")\n",
    "asians = getPD('Asian (Good)', 'Asian (Bad)', data, \"asian\")\n",
    "hispanics = getPD('Hispanic (Good)', 'Hispanic (Bad)', data, \"hispanic\")"
   ]
  },
  {
   "cell_type": "code",
   "execution_count": 16,
   "metadata": {
    "collapsed": true
   },
   "outputs": [],
   "source": [
    "def getSeries(data, goodOrBad):\n",
    "    one = data[data[\"Score\"] <= 20.0][goodOrBad].iloc[0]\n",
    "    two = data[data[\"Score\"] > 20.0][data[\"Score\"] <= 40.0][goodOrBad].sum() + one\n",
    "    three = data[data[\"Score\"] > 40.0][data[\"Score\"] <= 60.0][goodOrBad].sum() + one + two\n",
    "    four = data[data[\"Score\"] > 60.0][data[\"Score\"] <= 80.0][goodOrBad].sum() + one + two + three\n",
    "    five = data[data[\"Score\"] > 80.0][data[\"Score\"] <= 100.0][goodOrBad].sum() + one + two + three + four\n",
    "    return pd.Series([one, two, three, four, five])"
   ]
  },
  {
   "cell_type": "code",
   "execution_count": 17,
   "metadata": {},
   "outputs": [
    {
     "name": "stderr",
     "output_type": "stream",
     "text": [
      "/Applications/anaconda/lib/python3.6/site-packages/ipykernel_launcher.py:3: UserWarning: Boolean Series key will be reindexed to match DataFrame index.\n",
      "  This is separate from the ipykernel package so we can avoid doing imports until\n",
      "/Applications/anaconda/lib/python3.6/site-packages/ipykernel_launcher.py:4: UserWarning: Boolean Series key will be reindexed to match DataFrame index.\n",
      "  after removing the cwd from sys.path.\n",
      "/Applications/anaconda/lib/python3.6/site-packages/ipykernel_launcher.py:5: UserWarning: Boolean Series key will be reindexed to match DataFrame index.\n",
      "  \"\"\"\n",
      "/Applications/anaconda/lib/python3.6/site-packages/ipykernel_launcher.py:6: UserWarning: Boolean Series key will be reindexed to match DataFrame index.\n",
      "  \n"
     ]
    }
   ],
   "source": [
    "scores = pd.Series([20, 40, 60, 80, 100])\n",
    "whitef = pd.DataFrame({ 'Score' : scores,\n",
    "    'Demographic' : np.full(len(scores), \"white\"),\n",
    "    'Good' : getSeries(whites, \"Good\"),\n",
    "    'Bad' : getSeries(whites, \"Bad\") })\n",
    "asianf = pd.DataFrame({ 'Score' : scores,\n",
    "    'Demographic' : np.full(len(scores), \"asian\"),\n",
    "    'Good' : getSeries(asians, \"Good\"),\n",
    "    'Bad' : getSeries(asians, \"Bad\") })\n",
    "blackf = pd.DataFrame({ 'Score' : scores,\n",
    "    'Demographic' : np.full(len(scores), \"black\"),\n",
    "    'Good' : getSeries(blacks, \"Good\"),\n",
    "    'Bad' : getSeries(blacks, \"Bad\") })\n",
    "hispanicf = pd.DataFrame({ 'Score' : scores,\n",
    "    'Demographic' : np.full(len(scores), \"hispanic\"),\n",
    "    'Good' : getSeries(hispanics, \"Good\"),\n",
    "    'Bad' : getSeries(hispanics, \"Bad\") })"
   ]
  },
  {
   "cell_type": "code",
   "execution_count": 18,
   "metadata": {
    "collapsed": true
   },
   "outputs": [],
   "source": [
    "frames = [whitef, blackf, asianf, hispanicf]\n",
    "shortenedData = pd.concat(frames)\n",
    "shortenedData.rename(columns={'Score' : 'TransRisk Score'}, inplace=True)\n",
    "shortenedData = shortenedData[[\"TransRisk Score\", \"Demographic\", \"Good\", \"Bad\"]]\n",
    "shortenedData.set_index(\"TransRisk Score\", inplace=True)\n",
    "shortenedData.to_csv(\"ShortenedData.csv\")"
   ]
  },
  {
   "cell_type": "code",
   "execution_count": 19,
   "metadata": {},
   "outputs": [
    {
     "data": {
      "text/html": [
       "<div>\n",
       "<style>\n",
       "    .dataframe thead tr:only-child th {\n",
       "        text-align: right;\n",
       "    }\n",
       "\n",
       "    .dataframe thead th {\n",
       "        text-align: left;\n",
       "    }\n",
       "\n",
       "    .dataframe tbody tr th {\n",
       "        vertical-align: top;\n",
       "    }\n",
       "</style>\n",
       "<table border=\"1\" class=\"dataframe\">\n",
       "  <thead>\n",
       "    <tr style=\"text-align: right;\">\n",
       "      <th></th>\n",
       "      <th>Demographic</th>\n",
       "      <th>Good</th>\n",
       "      <th>Bad</th>\n",
       "    </tr>\n",
       "    <tr>\n",
       "      <th>TransRisk Score</th>\n",
       "      <th></th>\n",
       "      <th></th>\n",
       "      <th></th>\n",
       "    </tr>\n",
       "  </thead>\n",
       "  <tbody>\n",
       "    <tr>\n",
       "      <th>20</th>\n",
       "      <td>white</td>\n",
       "      <td>0.000000</td>\n",
       "      <td>1.000000</td>\n",
       "    </tr>\n",
       "    <tr>\n",
       "      <th>40</th>\n",
       "      <td>white</td>\n",
       "      <td>24.120496</td>\n",
       "      <td>16.879504</td>\n",
       "    </tr>\n",
       "    <tr>\n",
       "      <th>60</th>\n",
       "      <td>white</td>\n",
       "      <td>60.245004</td>\n",
       "      <td>21.754996</td>\n",
       "    </tr>\n",
       "    <tr>\n",
       "      <th>80</th>\n",
       "      <td>white</td>\n",
       "      <td>121.266575</td>\n",
       "      <td>40.733425</td>\n",
       "    </tr>\n",
       "    <tr>\n",
       "      <th>100</th>\n",
       "      <td>white</td>\n",
       "      <td>244.108495</td>\n",
       "      <td>80.891505</td>\n",
       "    </tr>\n",
       "    <tr>\n",
       "      <th>20</th>\n",
       "      <td>black</td>\n",
       "      <td>0.000000</td>\n",
       "      <td>1.000000</td>\n",
       "    </tr>\n",
       "    <tr>\n",
       "      <th>40</th>\n",
       "      <td>black</td>\n",
       "      <td>17.139582</td>\n",
       "      <td>23.860418</td>\n",
       "    </tr>\n",
       "    <tr>\n",
       "      <th>60</th>\n",
       "      <td>black</td>\n",
       "      <td>49.018407</td>\n",
       "      <td>32.981593</td>\n",
       "    </tr>\n",
       "    <tr>\n",
       "      <th>80</th>\n",
       "      <td>black</td>\n",
       "      <td>100.597892</td>\n",
       "      <td>61.402108</td>\n",
       "    </tr>\n",
       "    <tr>\n",
       "      <th>100</th>\n",
       "      <td>black</td>\n",
       "      <td>203.193748</td>\n",
       "      <td>121.806252</td>\n",
       "    </tr>\n",
       "    <tr>\n",
       "      <th>20</th>\n",
       "      <td>asian</td>\n",
       "      <td>0.000000</td>\n",
       "      <td>1.000000</td>\n",
       "    </tr>\n",
       "    <tr>\n",
       "      <th>40</th>\n",
       "      <td>asian</td>\n",
       "      <td>25.398507</td>\n",
       "      <td>15.601493</td>\n",
       "    </tr>\n",
       "    <tr>\n",
       "      <th>60</th>\n",
       "      <td>asian</td>\n",
       "      <td>61.627399</td>\n",
       "      <td>20.372601</td>\n",
       "    </tr>\n",
       "    <tr>\n",
       "      <th>80</th>\n",
       "      <td>asian</td>\n",
       "      <td>123.479161</td>\n",
       "      <td>38.520839</td>\n",
       "    </tr>\n",
       "    <tr>\n",
       "      <th>100</th>\n",
       "      <td>asian</td>\n",
       "      <td>249.107280</td>\n",
       "      <td>75.892720</td>\n",
       "    </tr>\n",
       "    <tr>\n",
       "      <th>20</th>\n",
       "      <td>hispanic</td>\n",
       "      <td>0.000000</td>\n",
       "      <td>1.000000</td>\n",
       "    </tr>\n",
       "    <tr>\n",
       "      <th>40</th>\n",
       "      <td>hispanic</td>\n",
       "      <td>21.339265</td>\n",
       "      <td>19.660735</td>\n",
       "    </tr>\n",
       "    <tr>\n",
       "      <th>60</th>\n",
       "      <td>hispanic</td>\n",
       "      <td>54.903262</td>\n",
       "      <td>27.096738</td>\n",
       "    </tr>\n",
       "    <tr>\n",
       "      <th>80</th>\n",
       "      <td>hispanic</td>\n",
       "      <td>111.584038</td>\n",
       "      <td>50.415962</td>\n",
       "    </tr>\n",
       "    <tr>\n",
       "      <th>100</th>\n",
       "      <td>hispanic</td>\n",
       "      <td>225.144162</td>\n",
       "      <td>99.855838</td>\n",
       "    </tr>\n",
       "  </tbody>\n",
       "</table>\n",
       "</div>"
      ],
      "text/plain": [
       "                Demographic        Good         Bad\n",
       "TransRisk Score                                    \n",
       "20                    white    0.000000    1.000000\n",
       "40                    white   24.120496   16.879504\n",
       "60                    white   60.245004   21.754996\n",
       "80                    white  121.266575   40.733425\n",
       "100                   white  244.108495   80.891505\n",
       "20                    black    0.000000    1.000000\n",
       "40                    black   17.139582   23.860418\n",
       "60                    black   49.018407   32.981593\n",
       "80                    black  100.597892   61.402108\n",
       "100                   black  203.193748  121.806252\n",
       "20                    asian    0.000000    1.000000\n",
       "40                    asian   25.398507   15.601493\n",
       "60                    asian   61.627399   20.372601\n",
       "80                    asian  123.479161   38.520839\n",
       "100                   asian  249.107280   75.892720\n",
       "20                 hispanic    0.000000    1.000000\n",
       "40                 hispanic   21.339265   19.660735\n",
       "60                 hispanic   54.903262   27.096738\n",
       "80                 hispanic  111.584038   50.415962\n",
       "100                hispanic  225.144162   99.855838"
      ]
     },
     "execution_count": 19,
     "metadata": {},
     "output_type": "execute_result"
    }
   ],
   "source": [
    "shortenedData"
   ]
  },
  {
   "cell_type": "markdown",
   "metadata": {},
   "source": [
    "*** END OF CONDENSED DATA CALCULATION ***"
   ]
  },
  {
   "cell_type": "markdown",
   "metadata": {},
   "source": [
    "## Total Data Calculation"
   ]
  },
  {
   "cell_type": "code",
   "execution_count": 9,
   "metadata": {
    "collapsed": true
   },
   "outputs": [],
   "source": [
    "def getPD(goodName, badName, data, raceName):\n",
    "    pd = data['Score'].to_frame(name=\"Score\")\n",
    "    race = np.full(len(data), raceName)\n",
    "    pd[\"Demographic\"] = race\n",
    "    pd[\"Good\"] = data[goodName].copy()\n",
    "    pd[\"Bad\"] = data[badName].copy()\n",
    "    return pd"
   ]
  },
  {
   "cell_type": "code",
   "execution_count": 10,
   "metadata": {
    "collapsed": true
   },
   "outputs": [],
   "source": [
    "#cell added today on April 15\n",
    "data = pd.read_csv(\"NonCumulativeProbabilities.csv\")\n",
    "whites = getPD('White (Good)', 'White (Bad)', data, \"white\")\n",
    "blacks = getPD('Black (Good)', 'Black (Bad)', data, \"black\")\n",
    "asians = getPD('Asian (Good)', 'Asian (Bad)', data, \"asian\")\n",
    "hispanics = getPD('Hispanic (Good)', 'Hispanic (Bad)', data, \"hispanic\")"
   ]
  },
  {
   "cell_type": "code",
   "execution_count": 11,
   "metadata": {},
   "outputs": [
    {
     "data": {
      "text/html": [
       "<div>\n",
       "<style>\n",
       "    .dataframe thead tr:only-child th {\n",
       "        text-align: right;\n",
       "    }\n",
       "\n",
       "    .dataframe thead th {\n",
       "        text-align: left;\n",
       "    }\n",
       "\n",
       "    .dataframe tbody tr th {\n",
       "        vertical-align: top;\n",
       "    }\n",
       "</style>\n",
       "<table border=\"1\" class=\"dataframe\">\n",
       "  <thead>\n",
       "    <tr style=\"text-align: right;\">\n",
       "      <th></th>\n",
       "      <th>Demographic</th>\n",
       "      <th>Good</th>\n",
       "      <th>Bad</th>\n",
       "    </tr>\n",
       "    <tr>\n",
       "      <th>TransRisk Score</th>\n",
       "      <th></th>\n",
       "      <th></th>\n",
       "      <th></th>\n",
       "    </tr>\n",
       "  </thead>\n",
       "  <tbody>\n",
       "    <tr>\n",
       "      <th>0.0</th>\n",
       "      <td>white</td>\n",
       "      <td>0.000000</td>\n",
       "      <td>1.000000</td>\n",
       "    </tr>\n",
       "    <tr>\n",
       "      <th>0.5</th>\n",
       "      <td>white</td>\n",
       "      <td>0.000000</td>\n",
       "      <td>1.000000</td>\n",
       "    </tr>\n",
       "    <tr>\n",
       "      <th>1.0</th>\n",
       "      <td>white</td>\n",
       "      <td>0.025629</td>\n",
       "      <td>0.974371</td>\n",
       "    </tr>\n",
       "    <tr>\n",
       "      <th>1.5</th>\n",
       "      <td>white</td>\n",
       "      <td>0.027318</td>\n",
       "      <td>0.972682</td>\n",
       "    </tr>\n",
       "    <tr>\n",
       "      <th>2.0</th>\n",
       "      <td>white</td>\n",
       "      <td>0.042152</td>\n",
       "      <td>0.957848</td>\n",
       "    </tr>\n",
       "  </tbody>\n",
       "</table>\n",
       "</div>"
      ],
      "text/plain": [
       "                Demographic      Good       Bad\n",
       "TransRisk Score                                \n",
       "0.0                   white  0.000000  1.000000\n",
       "0.5                   white  0.000000  1.000000\n",
       "1.0                   white  0.025629  0.974371\n",
       "1.5                   white  0.027318  0.972682\n",
       "2.0                   white  0.042152  0.957848"
      ]
     },
     "execution_count": 11,
     "metadata": {},
     "output_type": "execute_result"
    }
   ],
   "source": [
    "frames = [whites, blacks, asians, hispanics]\n",
    "totalData = pd.concat(frames)\n",
    "totalData.rename(columns={'Score' : 'TransRisk Score'}, inplace=True)\n",
    "totalData.set_index(\"TransRisk Score\", inplace=True)\n",
    "totalData.head()"
   ]
  },
  {
   "cell_type": "code",
   "execution_count": 12,
   "metadata": {
    "collapsed": true
   },
   "outputs": [],
   "source": [
    "totalData.to_csv(\"TransRiskScores.csv\")"
   ]
  },
  {
   "cell_type": "code",
   "execution_count": null,
   "metadata": {
    "collapsed": true
   },
   "outputs": [],
   "source": []
  }
 ],
 "metadata": {
  "kernelspec": {
   "display_name": "Python 3",
   "language": "python",
   "name": "python3"
  },
  "language_info": {
   "codemirror_mode": {
    "name": "ipython",
    "version": 3
   },
   "file_extension": ".py",
   "mimetype": "text/x-python",
   "name": "python",
   "nbconvert_exporter": "python",
   "pygments_lexer": "ipython3",
   "version": "3.6.1"
  }
 },
 "nbformat": 4,
 "nbformat_minor": 2
}
