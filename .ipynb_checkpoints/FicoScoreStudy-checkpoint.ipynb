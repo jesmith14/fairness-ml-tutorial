{
 "cells": [
  {
   "cell_type": "markdown",
   "metadata": {},
   "source": [
    "# Explanation / Motivation:\n",
    "- Study on non-discriminatory supervised learning models\n",
    "- This data set is a case study on FICO scores and how they determine a 'threshold' cutoff score to either deny or approve a loan application\n",
    "- Using data from the Federal Reserve, we can see the distribution of scores (FICO score percentile) against four main demographic groups: Asian, Hispanic, Black, and White\n",
    "- With this data, we can plot the probability of defaulting and/or non-defaulting people from a specified demographpic group getting approved a loan ($\\hat Y$ = 1).\n",
    "- Theoretically, the probability of defaulting and/or non-defaulting people getting ($\\hat Y$ = 1) should be equal amongst all demographic groups, but as you can see from this study, that is not the case.\n",
    "- I dive into what this means in terms of precision/recall, the cost of these discrepencies, why this is happening, as well as methodologies for improvement.\n",
    "- Data and non-descriminitaory model analysis courtesy of https://arxiv.org/pdf/1610.02413.pdf"
   ]
  },
  {
   "cell_type": "code",
   "execution_count": 4,
   "metadata": {
    "collapsed": true
   },
   "outputs": [],
   "source": [
    "from bs4 import BeautifulSoup\n",
    "import fileinput\n",
    "import sys\n",
    "import re\n",
    "import csv\n",
    "import requests\n",
    "import os\n",
    "import pandas as pd\n",
    "import matplotlib.pyplot as plt\n",
    "%matplotlib inline\n",
    "import matplotlib.lines as mlines\n"
   ]
  },
  {
   "cell_type": "markdown",
   "metadata": {},
   "source": [
    "## Scraping Data from Federal Reserve:\n",
    "#### Explanations / Guidelines:\n",
    "- All files are saved in current directory\n",
    "- We will be analyzing \"Figure_7.D._TransRisk_Score_Cumulative_Percentage_of_Goods_and_Bads,_by_Demographic_Group(Random-Account_Performance)_-_Race_or_ethnicity_(SSA_data).csv\" and saving that file as 'random-account-ficoscores.csv' for easier reference\n",
    "- To analyze the Cumulative Percentage of Goods and Bads for any of the other protected groups (sex, age, marital status, or income ratio) simply plug in this csv when assigning the 'data' variable\n",
    "- Options for account types: any-account, new-account, existing-account, random-account\n",
    "- In this study, \"good\" means non-defaulting for loans (will pay it off). \"Bad\" means defaulting for loans (will not pay it off)."
   ]
  },
  {
   "cell_type": "code",
   "execution_count": 2,
   "metadata": {
    "collapsed": true
   },
   "outputs": [],
   "source": [
    "\n",
    "url = \"www.federalreserve.gov/boarddocs/rptcongress/creditscore/overviewfigtables.htm\"\n",
    "r  = requests.get(\"https://\" +url)\n",
    "data = r.text\n",
    "soup = BeautifulSoup(data, 'lxml')\n",
    "\n",
    "\n",
    "def cell_text(cell):\n",
    "    return \" \".join(cell.stripped_strings)\n",
    "\n",
    "for table in soup.find_all('table'):\n",
    "    title = table.find('span', { 'class' : 'tablehead' }).getText()\n",
    "    subhead = table.find('span', { 'class' : 'tablesubheadsmall' }).getText()\n",
    "    fname = (title + ' - '+subhead).replace(' ', '_') + '.csv'\n",
    "    fname = fname.replace(':', '-')\n",
    "    with open(fname, 'w') as outfile:\n",
    "        output = csv.writer(outfile)\n",
    "\n",
    "        for row in table.find_all('tr'):\n",
    "            col = map(cell_text, row.find_all(re.compile('t[dh]')))\n",
    "            output.writerow(col)\n",
    "            "
   ]
  },
  {
   "cell_type": "code",
   "execution_count": 3,
   "metadata": {},
   "outputs": [
    {
     "ename": "FileNotFoundError",
     "evalue": "[Errno 2] No such file or directory: 'Figure_7.D._TransRisk_Score-_Cumulative_Percentage_of_Goods_and_Bads,_by_Demographic_Group(Random-Account_Performance)_-_Race_or_ethnicity_(SSA_data).csv' -> 'random-account-ficoscores.csv'",
     "output_type": "error",
     "traceback": [
      "\u001b[0;31m---------------------------------------------------------------------------\u001b[0m",
      "\u001b[0;31mFileNotFoundError\u001b[0m                         Traceback (most recent call last)",
      "\u001b[0;32m<ipython-input-3-0f20834f6509>\u001b[0m in \u001b[0;36m<module>\u001b[0;34m()\u001b[0m\n\u001b[0;32m----> 1\u001b[0;31m \u001b[0mos\u001b[0m\u001b[0;34m.\u001b[0m\u001b[0mrename\u001b[0m\u001b[0;34m(\u001b[0m\u001b[0;34m'Figure_7.D._TransRisk_Score-_Cumulative_Percentage_of_Goods_and_Bads,_by_Demographic_Group(Random-Account_Performance)_-_Race_or_ethnicity_(SSA_data).csv'\u001b[0m\u001b[0;34m,\u001b[0m \u001b[0;34m'random-account-ficoscores.csv'\u001b[0m\u001b[0;34m)\u001b[0m\u001b[0;34m\u001b[0m\u001b[0m\n\u001b[0m",
      "\u001b[0;31mFileNotFoundError\u001b[0m: [Errno 2] No such file or directory: 'Figure_7.D._TransRisk_Score-_Cumulative_Percentage_of_Goods_and_Bads,_by_Demographic_Group(Random-Account_Performance)_-_Race_or_ethnicity_(SSA_data).csv' -> 'random-account-ficoscores.csv'"
     ]
    }
   ],
   "source": [
    "os.rename('Figure_7.D._TransRisk_Score-_Cumulative_Percentage_of_Goods_and_Bads,_by_Demographic_Group(Random-Account_Performance)_-_Race_or_ethnicity_(SSA_data).csv', 'random-account-ficoscores.csv')"
   ]
  },
  {
   "cell_type": "code",
   "execution_count": 5,
   "metadata": {
    "collapsed": true
   },
   "outputs": [],
   "source": [
    "data = pd.read_csv(\"ficoscores.csv\")\n",
    "#Necessary to rename this column for clarity of the data it represents\n",
    "#because of formatting issues when parsing data from the html\n",
    "data.rename(columns={'Black (Bad).1':'Hispanic (Good)'}, inplace=True)"
   ]
  },
  {
   "cell_type": "code",
   "execution_count": 6,
   "metadata": {
    "collapsed": true
   },
   "outputs": [],
   "source": [
    "white_non_default = data[[\"Score\", \"Non- Hispanic white (Good)\"]]\n",
    "white_default = data[[\"Score\",\"Non- Hispanic white (Bad)\"]]\n",
    "black_non_default = data[[\"Score\",\"Black (Good)\"]]\n",
    "black_default = data[[\"Score\",\"Black (Bad)\"]]\n",
    "hispanic_non_default = data[[\"Score\",\"Hispanic (Good)\"]]\n",
    "hispanic_default = data[[\"Score\",\"Hispanic (Bad)\"]]\n",
    "asian_non_default = data[[\"Score\",\"Asian (Good)\"]]\n",
    "asian_default = data[[\"Score\",\"Asian (Bad)\"]]"
   ]
  },
  {
   "cell_type": "code",
   "execution_count": 7,
   "metadata": {
    "collapsed": true
   },
   "outputs": [],
   "source": [
    "def getGraph(dataset, metricName, graphType):\n",
    "    i= 0\n",
    "    x = []\n",
    "    y = []\n",
    "    while(i < 100.5):\n",
    "        if(i == 72.5 or i == 77.5 or i == 92.5):\n",
    "            i = (i + 0.5)\n",
    "        curr_race_non_default = dataset[dataset[\"Score\"] >= i][metricName].sum()\n",
    "        total_race_non_default = dataset[metricName].sum()\n",
    "        yVal = curr_race_non_default / total_race_non_default\n",
    "        x.append(i)\n",
    "        y.append(yVal)\n",
    "        i = (i + 0.5)\n",
    "    plt.plot(x, y, graphType, label=metricName)"
   ]
  },
  {
   "cell_type": "markdown",
   "metadata": {},
   "source": [
    "## Visualizing This Data:\n",
    "#### Now we have data for how many people are defaulters and non-defaulters for each score, theoretically the probability of a non-defaulter getting approved a loan ($\\hat Y$ = 1) should be the same amongst all four groups. You can see from the graph that this is not the case: a person from the black demographic group is much less likely to be approved than a white or asian non-defaulting person."
   ]
  },
  {
   "cell_type": "code",
   "execution_count": 8,
   "metadata": {},
   "outputs": [
    {
     "data": {
      "text/plain": [
       "<matplotlib.legend.Legend at 0x1174e4c50>"
      ]
     },
     "execution_count": 8,
     "metadata": {},
     "output_type": "execute_result"
    },
    {
     "data": {
      "image/png": "[encoded data removed]",
      "text/plain": [
       "<matplotlib.figure.Figure at 0x11736d5f8>"
      ]
     },
     "metadata": {},
     "output_type": "display_data"
    }
   ],
   "source": [
    "getGraph(asian_non_default, \"Asian (Good)\", 'b-')\n",
    "getGraph(white_non_default, \"Non- Hispanic white (Good)\", 'g-')\n",
    "getGraph(black_non_default, \"Black (Good)\", 'c-')\n",
    "getGraph(hispanic_non_default, \"Hispanic (Good)\", 'm-')\n",
    "plt.title(\"Probability of Non-Defaulters Getting $\\hat Y$ = 1 (Beneficial Outcome)\" )\n",
    "\n",
    "\n",
    "blue_line = mlines.Line2D([], [], color='blue', marker='.',\n",
    "                          markersize=15, label='Asian')\n",
    "green_line = mlines.Line2D([], [], color='green', marker='.',\n",
    "                          markersize=15, label='White')\n",
    "cyan_line = mlines.Line2D([], [], color='cyan', marker='.',\n",
    "                          markersize=15, label='Black')\n",
    "purple_line = mlines.Line2D([], [], color='purple', marker='.',\n",
    "                          markersize=15, label='Hispanic')\n",
    "\n",
    "plt.legend(handles=[blue_line, green_line, cyan_line, purple_line])\n",
    "\n",
    "#todo: compare the defaulters getting beneficial outcome too\n",
    "#facetgrid and seaborn - make variable 'default' or 'non-default' or 'race' for 1 panel for each race\n",
    "# recall - x\n",
    "# precision - y"
   ]
  },
  {
   "cell_type": "code",
   "execution_count": 8,
   "metadata": {
    "collapsed": true
   },
   "outputs": [],
   "source": [
    "asian_non_default.to_csv(\"asian-non-default.csv\")\n",
    "asian_default.to_csv(\"asian-default.csv\")\n",
    "white_non_default.to_csv(\"white-non-default.csv\")\n",
    "white_default.to_csv(\"white-default.csv\")\n",
    "black_non_default.to_csv(\"black-non-default.csv\")\n",
    "black_default.to_csv(\"black-default.csv\")\n",
    "hispanic_non_default.to_csv(\"hispanic-non-default.csv\")\n",
    "hispanic_default.to_csv(\"hispanic-default.csv\")"
   ]
  },
  {
   "cell_type": "code",
   "execution_count": 10,
   "metadata": {
    "collapsed": true
   },
   "outputs": [],
   "source": [
    "import pickle\n",
    "pickle.dump(asian_non_default.to_csv, open(\"asian-non-default.pkl\", \"wb\"))\n",
    "pickle.dump(asian_default, open(\"asian-default.pkl\", \"wb\"))\n",
    "pickle.dump(white_non_default, open(\"white-non-default.pkl\", \"wb\"))\n",
    "pickle.dump(white_default, open(\"white-default.pkl\", \"wb\"))\n",
    "pickle.dump(black_non_default, open(\"black-non-default.pkl\", \"wb\"))\n",
    "pickle.dump(black_default, open(\"black-default.pkl\", \"wb\"))\n",
    "pickle.dump(hispanic_non_default, open(\"hispanic-non-default.pkl\", \"wb\"))\n",
    "pickle.dump(hispanic_default, open(\"hispanic-default.pkl\", \"wb\"))\n"
   ]
  },
  {
   "cell_type": "markdown",
   "metadata": {},
   "source": [
    "## Precision / Recall Analysis\n",
    "\n",
    "##### Recall: Of all non-defaulters, how many did we correctly identify as non-defaulters (Gave beneficial outcome?)\n",
    "- true positives / (total false negatives and true positives)\n",
    "- correctly predicted non-defaulters / all non-defaulters\n",
    "\n",
    "##### Precision: Of the non-defaulters we predicted (given a beneficial outcome?), how many were actually non-defaulting\n",
    "- true positives / true positives + false positives\n",
    "- correctly identified non-defaulters / all predicted non-defaulters\n",
    "\n"
   ]
  },
  {
   "cell_type": "markdown",
   "metadata": {},
   "source": [
    "##### Notes:\n",
    "- true: non-defaulting (they are a good candidate for a loan)\n",
    "- good precision: good precision would mean out of the people that we predict are going to pay it, a high percentage actually are\n",
    "- poor precision: out of the people that we predict are going to pay it, a low percentage actually will\n",
    "\n",
    "*** This is why banks are looking for good precision for lower risk / cost on their part, but the non-discriminatory models attempt to put the burden of this cost on the data scientist to make more accurate models and away from the minority/protected group\n",
    "\n",
    "- recall: of the people who would pay it back, how many did we correctly identify\n",
    "- F-1 scores, can weight precision or recall depending on what is important"
   ]
  },
  {
   "cell_type": "markdown",
   "metadata": {},
   "source": [
    "## Cost Analysis / Problem Space\n",
    "- Cost that accompanies low precision\n",
    "- What kinds of companies might risk placing cost on discriminated-against groups (even by accident)\n",
    "- What data sets and attributes are most commonly 'protected' and what kinds of models need to be re-trained to fit ethical platforms\n",
    "- How non-discriminatory supervised learning models can come into play on already-trained data"
   ]
  },
  {
   "cell_type": "markdown",
   "metadata": {},
   "source": [
    "## Possible Solutions\n",
    "(Non-Discriminatory Supervised Learning Models)\n",
    "- Explanation of non-discriminatory supervised learning models\n",
    "- Max Profit Classifier, Race Blind Classifier, Demographic Parity Classifier, Equal Opportunity Classifier, Equal Odds Classifier\n",
    "- Pros/Cons of using each one\n",
    "- Examples of when one might be better over another\n",
    "- Recommendations for this dataset"
   ]
  },
  {
   "cell_type": "code",
   "execution_count": null,
   "metadata": {
    "collapsed": true
   },
   "outputs": [],
   "source": []
  }
 ],
 "metadata": {
  "kernelspec": {
   "display_name": "Python 3",
   "language": "python",
   "name": "python3"
  },
  "language_info": {
   "codemirror_mode": {
    "name": "ipython",
    "version": 3
   },
   "file_extension": ".py",
   "mimetype": "text/x-python",
   "name": "python",
   "nbconvert_exporter": "python",
   "pygments_lexer": "ipython3",
   "version": "3.6.1"
  }
 },
 "nbformat": 4,
 "nbformat_minor": 2
}
