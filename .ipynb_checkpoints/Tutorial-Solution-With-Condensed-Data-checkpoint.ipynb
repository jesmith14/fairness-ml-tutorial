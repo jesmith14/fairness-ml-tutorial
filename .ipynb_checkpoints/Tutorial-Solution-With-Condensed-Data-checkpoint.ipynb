{
 "cells": [
  {
   "cell_type": "markdown",
   "metadata": {},
   "source": [
    "# An Introduction to Ethical Supervised Learning - Solution Manual"
   ]
  },
  {
   "cell_type": "markdown",
   "metadata": {},
   "source": [
    "<hr/>"
   ]
  },
  {
   "cell_type": "markdown",
   "metadata": {},
   "source": [
    "## Overview:\n",
    "- Measuring performance of supervised learning predictors that are:\n",
    "    - classification problems\n",
    "    - binary predictors\n",
    "- Introduction to non-discriminatory supervised learning predictors\n",
    "- Charting performance of a TransRisk score case study to determine if it passes as non-discriminatory"
   ]
  },
  {
   "cell_type": "markdown",
   "metadata": {},
   "source": [
    "<hr/>"
   ]
  },
  {
   "cell_type": "markdown",
   "metadata": {},
   "source": [
    "## Part 1: Measuring Performance on Binary Classifiers\n",
    "While are many ways to calculate the performance of a binary predictor, two methods are particularly useful for fairness models:\n",
    "<ul>\n",
    "<li><i>Sensitivity</i>:\n",
    "<br/> - True Positive Rate\n",
    "<br/> - Among all of the actual 1's, what percentage did we predict were 1?\n",
    "</li>\n",
    "<li><i>Specificity</i>:\n",
    "<br/> - True Negative Rate\n",
    "<br/> - Among all of the actual 0's, what percentage did we predict were 0?\n",
    "</li>\n",
    "</ul>"
   ]
  },
  {
   "cell_type": "markdown",
   "metadata": {},
   "source": [
    "<hr/>"
   ]
  },
  {
   "cell_type": "markdown",
   "metadata": {},
   "source": [
    "## Part 2: A Brief Introduction to Non-Discriminatory Machine Learning Predictors\n",
    "For companies that use classification based predictors, sometimes the predicted outcome of individuals within a group will fully influence the decision that is made for that individual. This needs to be treated particularly carefully when the decision being made is an <i>Important Benefit</i> - ie) health care, loan approval, or college admission. What if the data that is being used to train the model is inherently discriminatory? What if factors that created the data we use was inherently discriminatory and we didn't even know? Then the outcome predicted would also be discriminatory.<br/><br/>\n",
    "This is what non-discriminatory predictors seek to solve. For example, <b>The Equal Opportunity Model</b> requires that the true positive rate for all groups in a dataset to be the same in order to achieve fairness. What does this mean in terms of performance for binary classifiers? (Write in terms of 1's an 0's below)"
   ]
  },
  {
   "cell_type": "markdown",
   "metadata": {},
   "source": [
    "<hr/>"
   ]
  },
  {
   "cell_type": "markdown",
   "metadata": {},
   "source": [
    "## Part 2: A Brief Introduction to Non-Discriminatory Machine Learning Predictors\n",
    "For companies that use classification based predictors, sometimes the predicted outcome of individuals within a group will fully influence the decision that is made for that individual. This needs to be treated particularly carefully when the decision being made is a <i>Social Benefit</i> - ie) health care, loan approval, or college admission. What if the data that is being used to train the model is inherently discriminatory? What if factors that created the data we use was inherently discriminatory and we didn't even know? Then the outcome predicted would also be discriminatory.<br/><br/>\n",
    "This is what non-discriminatory predictors seek to solve. While there are many models to use, we will be focusing on <b>The Equal Opportunity Model</b>. This means, for each group - the true positive rate is the same. What does this mean in terms of performance for binary classifiers? (Write in terms of 1's an 0's below)"
   ]
  },
  {
   "cell_type": "markdown",
   "metadata": {},
   "source": [
    "** Write Answer Here: **"
   ]
  },
  {
   "cell_type": "markdown",
   "metadata": {},
   "source": [
    "<hr/>"
   ]
  },
  {
   "cell_type": "markdown",
   "metadata": {},
   "source": [
    "## Part 3: Introducing the TransRisk Dataset\n",
    "For this part of the tutorial, we will be working with a dataset that represents the distribution of TransRisk scores for non-defaulters (people who have previously paid off their loans on time) against four main demographic groups: Asian, Hispanic, Black, and White. Go ahead and import this data to take a look. What collected information to create TransRisk scores could be inherently discriminatory?"
   ]
  },
  {
   "cell_type": "code",
   "execution_count": 1,
   "metadata": {
    "collapsed": true
   },
   "outputs": [],
   "source": [
    "import pickle\n",
    "import pandas as pd\n",
    "import matplotlib.pyplot as plt\n",
    "import matplotlib.lines as mlines\n",
    "%matplotlib inline"
   ]
  },
  {
   "cell_type": "code",
   "execution_count": 2,
   "metadata": {},
   "outputs": [
    {
     "data": {
      "text/html": [
       "<div>\n",
       "<style>\n",
       "    .dataframe thead tr:only-child th {\n",
       "        text-align: right;\n",
       "    }\n",
       "\n",
       "    .dataframe thead th {\n",
       "        text-align: left;\n",
       "    }\n",
       "\n",
       "    .dataframe tbody tr th {\n",
       "        vertical-align: top;\n",
       "    }\n",
       "</style>\n",
       "<table border=\"1\" class=\"dataframe\">\n",
       "  <thead>\n",
       "    <tr style=\"text-align: right;\">\n",
       "      <th></th>\n",
       "      <th>TransRisk Score</th>\n",
       "      <th>Demographic</th>\n",
       "      <th>Good</th>\n",
       "      <th>Bad</th>\n",
       "    </tr>\n",
       "  </thead>\n",
       "  <tbody>\n",
       "    <tr>\n",
       "      <th>0</th>\n",
       "      <td>20</td>\n",
       "      <td>white</td>\n",
       "      <td>2.937317</td>\n",
       "      <td>33.903415</td>\n",
       "    </tr>\n",
       "    <tr>\n",
       "      <th>1</th>\n",
       "      <td>40</td>\n",
       "      <td>white</td>\n",
       "      <td>16.767500</td>\n",
       "      <td>75.331500</td>\n",
       "    </tr>\n",
       "    <tr>\n",
       "      <th>2</th>\n",
       "      <td>60</td>\n",
       "      <td>white</td>\n",
       "      <td>42.716500</td>\n",
       "      <td>93.436250</td>\n",
       "    </tr>\n",
       "    <tr>\n",
       "      <th>3</th>\n",
       "      <td>80</td>\n",
       "      <td>white</td>\n",
       "      <td>68.186316</td>\n",
       "      <td>98.261842</td>\n",
       "    </tr>\n",
       "    <tr>\n",
       "      <th>4</th>\n",
       "      <td>100</td>\n",
       "      <td>white</td>\n",
       "      <td>91.210769</td>\n",
       "      <td>99.636667</td>\n",
       "    </tr>\n",
       "  </tbody>\n",
       "</table>\n",
       "</div>"
      ],
      "text/plain": [
       "   TransRisk Score Demographic       Good        Bad\n",
       "0               20       white   2.937317  33.903415\n",
       "1               40       white  16.767500  75.331500\n",
       "2               60       white  42.716500  93.436250\n",
       "3               80       white  68.186316  98.261842\n",
       "4              100       white  91.210769  99.636667"
      ]
     },
     "execution_count": 2,
     "metadata": {},
     "output_type": "execute_result"
    }
   ],
   "source": [
    "totalData = pd.read_csv(\"ShortenedData.csv\")\n",
    "totalData.head()"
   ]
  },
  {
   "cell_type": "markdown",
   "metadata": {},
   "source": [
    "For loan approval, usually a bank will set a <b>threshold TransRisk score</b> that determines who is approved and who is denied. For example, if the threshold was 60: everyone with a TransRisk score below 60 would be denied the loan, and everyone with a TransRisk score above 60 would be approved a loan.\n",
    "<br/><br/>\n",
    "How should a predictor go about deciding who should get a loan and who should not? It makes sense to say all of the people who <i>deserve</i> a loan should receive one. In the case of the TransRisk score, the group of people who <i>deserve</i> a loan would be the non-defaulters. \n",
    "<br/><br/>\n",
    "Following this logic, in theory the probability of a non-defaulter getting a loan ($\\hat Y$ = 1) at any threshold TransRisk score should be the same amongst all four groups. Finish the function below to plot the distribution of non-defaulters from one group getting ($\\hat Y$ = 1) based on a threshold value of TransRisk scores. Then, get the probabilities for all four demographic groups and plot them on top of eachother."
   ]
  },
  {
   "cell_type": "code",
   "execution_count": 3,
   "metadata": {
    "collapsed": true
   },
   "outputs": [],
   "source": [
    "def getGraphData(dataset, graphType):\n",
    "    i= 0\n",
    "    x = []\n",
    "    y = []\n",
    "    while(i < 100.5):\n",
    "        # our dataset doesn't include these scores so this line is necessary\n",
    "        if(i == 72.5 or i == 77.5 or i == 92.5):\n",
    "            i = (i + 0.5)\n",
    "        # create and append the x and y values to the x and y arrays to be returned for the plot here:\n",
    "        curr_race_non_default = dataset[dataset[\"TransRisk Score\"] >= i][\"Good\"].sum()\n",
    "        total_race_non_default = dataset[\"Good\"].sum()\n",
    "        yVal = curr_race_non_default / total_race_non_default\n",
    "        x.append(i)\n",
    "        y.append(yVal)\n",
    "        i = (i + 0.5)\n",
    "    plt.plot(x, y, graphType)"
   ]
  },
  {
   "cell_type": "code",
   "execution_count": 4,
   "metadata": {
    "collapsed": true
   },
   "outputs": [],
   "source": [
    "white_non_default = totalData[[\"TransRisk Score\", \"Demographic\", \"Good\"]][totalData[\"Demographic\"] == \"white\"]\n",
    "asian_non_default = totalData[[\"TransRisk Score\", \"Demographic\", \"Good\"]][totalData[\"Demographic\"] == \"asian\"]\n",
    "black_non_default = totalData[[\"TransRisk Score\", \"Demographic\", \"Good\"]][totalData[\"Demographic\"] == \"black\"]\n",
    "hispanic_non_default = totalData[[\"TransRisk Score\", \"Demographic\", \"Good\"]][totalData[\"Demographic\"] == \"hispanic\"]"
   ]
  },
  {
   "cell_type": "markdown",
   "metadata": {
    "collapsed": true
   },
   "source": [
    "** Plot Graph Below **"
   ]
  },
  {
   "cell_type": "code",
   "execution_count": 5,
   "metadata": {},
   "outputs": [
    {
     "data": {
      "text/plain": [
       "<matplotlib.legend.Legend at 0x10c465f60>"
      ]
     },
     "execution_count": 5,
     "metadata": {},
     "output_type": "execute_result"
    },
    {
     "data": {
      "image/png": "[encoded data removed]",
      "text/plain": [
       "<matplotlib.figure.Figure at 0x102c1e7b8>"
      ]
     },
     "metadata": {},
     "output_type": "display_data"
    }
   ],
   "source": [
    "getGraphData(asian_non_default, 'b-')\n",
    "getGraphData(white_non_default, 'g-')\n",
    "getGraphData(black_non_default, 'c-')\n",
    "getGraphData(hispanic_non_default, 'm-')\n",
    "plt.title(\"Probability of Non-Defaulters Getting $\\hat Y$ = 1 (Beneficial Outcome)\" )\n",
    "\n",
    "blue_line = mlines.Line2D([], [], color='blue', marker='.',\n",
    "                          markersize=15, label='Asian')\n",
    "green_line = mlines.Line2D([], [], color='green', marker='.',\n",
    "                          markersize=15, label='White')\n",
    "cyan_line = mlines.Line2D([], [], color='cyan', marker='.',\n",
    "                          markersize=15, label='Black')\n",
    "purple_line = mlines.Line2D([], [], color='purple', marker='.',\n",
    "                          markersize=15, label='Hispanic')\n",
    "\n",
    "plt.legend(handles=[blue_line, green_line, cyan_line, purple_line])"
   ]
  },
  {
   "cell_type": "markdown",
   "metadata": {},
   "source": [
    "<hr/>"
   ]
  },
  {
   "cell_type": "markdown",
   "metadata": {},
   "source": [
    "##  Calculating Performance\n",
    "Now that we've seen the likelihood of non-defaulting individuals from each of the four demographic groups to be approved a loan based on threshold value, let's check the performance of this model. Take a look at the original data again."
   ]
  },
  {
   "cell_type": "code",
   "execution_count": 6,
   "metadata": {
    "collapsed": true
   },
   "outputs": [],
   "source": [
    "whites = totalData[[\"TransRisk Score\", \"Demographic\", \"Good\", \"Bad\"]][totalData[\"Demographic\"] == \"white\"]\n",
    "asians = totalData[[\"TransRisk Score\", \"Demographic\", \"Good\", \"Bad\"]][totalData[\"Demographic\"] == \"asian\"]\n",
    "blacks = totalData[[\"TransRisk Score\", \"Demographic\", \"Good\", \"Bad\"]][totalData[\"Demographic\"] == \"black\"]\n",
    "hispanics = totalData[[\"TransRisk Score\", \"Demographic\", \"Good\", \"Bad\"]][totalData[\"Demographic\"] == \"hispanic\"]"
   ]
  },
  {
   "cell_type": "code",
   "execution_count": 7,
   "metadata": {
    "collapsed": true
   },
   "outputs": [],
   "source": [
    "whites.set_index(\"TransRisk Score\", inplace=True)\n",
    "asians.set_index(\"TransRisk Score\", inplace=True)\n",
    "blacks.set_index(\"TransRisk Score\", inplace=True)\n",
    "hispanics.set_index(\"TransRisk Score\", inplace=True)"
   ]
  },
  {
   "cell_type": "markdown",
   "metadata": {},
   "source": [
    "** Complete : Calculate the following problem for both the White and Black demographic groups with a threshold TransRisk score of 60**\n",
    "\n",
    "For all of the individuals that <i>deserve</i> a loan, how many will receive one?"
   ]
  },
  {
   "cell_type": "code",
   "execution_count": 8,
   "metadata": {},
   "outputs": [
    {
     "data": {
      "text/plain": [
       "(0.9111668964918768, 0.8627077847437454)"
      ]
     },
     "execution_count": 8,
     "metadata": {},
     "output_type": "execute_result"
    }
   ],
   "source": [
    "totalGood = whites[\"Good\"].sum()\n",
    "tp = whites[\"Good\"].loc[60:].sum()\n",
    "white_sensitivity = tp / totalGood\n",
    "totalGood = blacks[\"Good\"].sum()\n",
    "tp = blacks[\"Good\"].loc[60:].sum()\n",
    "black_sensitivity = tp / totalGood\n",
    "white_sensitivity, black_sensitivity"
   ]
  },
  {
   "cell_type": "markdown",
   "metadata": {},
   "source": [
    "<hr/>"
   ]
  },
  {
   "cell_type": "markdown",
   "metadata": {},
   "source": [
    "### Analysis: \n",
    "\n",
    "What you just calculated is the <b>sensitivity</b> of the White and Black demographic groups for a single threshold value (60). If you recall from the beginning of this tutorial, for the Equalized Opportunity fairness model the main requirement for achieving fairness is to ensure that recall/sensitivity is the same for all groups. As we saw in our plot from Part 3, Equalized Opportunity was definitely not being satisfied. So, how might we go about finding an easy solution to this problem? The answer lies in utilizing this performance metric. To satisfy the requirement, we simply need to find the intersection point where all groups have the same sensitivity."
   ]
  },
  {
   "cell_type": "markdown",
   "metadata": {},
   "source": [
    "<b> Create a plot representing the sensitivity and TransRisk scores in order to see the intersection point where all demographic groups have the same sensitivity</b>"
   ]
  },
  {
   "cell_type": "code",
   "execution_count": 9,
   "metadata": {
    "collapsed": true
   },
   "outputs": [],
   "source": [
    "import numpy as np"
   ]
  },
  {
   "cell_type": "code",
   "execution_count": 10,
   "metadata": {
    "collapsed": true
   },
   "outputs": [],
   "source": [
    "def getSensitivityDF(demographic, data):\n",
    "    scores = []\n",
    "    percent_default = []\n",
    "    totalGood = data[\"Good\"].sum()    \n",
    "    sensitivitySeries = []\n",
    "    for index, row in data.iterrows():\n",
    "        currTP = data[\"Good\"].loc[index:].sum()\n",
    "        sensitivitySeries.append(currTP / totalGood)\n",
    "        scores.append(index)\n",
    "        percent_default.append((data.loc[index][\"Bad\"].sum()) / ((data.loc[index][\"Good\"].sum()) + (data.loc[index][\"Bad\"].sum())) * 100)\n",
    "    sensitivitySeries = pd.Series(sensitivitySeries)\n",
    "    scoresSeries = pd.Series(scores)\n",
    "    percent_default = pd.Series(percent_default)\n",
    "    df = pd.DataFrame({ 'Score' : scoresSeries,\n",
    "    'Demographic' : np.full(len(scoresSeries), demographic),\n",
    "    'Sensitivity' : sensitivitySeries,\n",
    "    'Percent_Default': percent_default})\n",
    "    return df"
   ]
  },
  {
   "cell_type": "code",
   "execution_count": 11,
   "metadata": {
    "collapsed": true
   },
   "outputs": [],
   "source": [
    "white_sensitivity = getSensitivityDF(\"white\", whites)\n",
    "asian_sensitivity = getSensitivityDF(\"asian\", asians)\n",
    "black_sensitivity = getSensitivityDF(\"black\", blacks)\n",
    "hispanic_sensitivity = getSensitivityDF(\"hispanic\", hispanics)"
   ]
  },
  {
   "cell_type": "code",
   "execution_count": 18,
   "metadata": {
    "collapsed": true
   },
   "outputs": [],
   "source": [
    "sensitivity = pd.concat([white_sensitivity, \n",
    "          asian_sensitivity, \n",
    "          black_sensitivity, \n",
    "          hispanic_sensitivity], axis=0)"
   ]
  },
  {
   "cell_type": "code",
   "execution_count": 20,
   "metadata": {},
   "outputs": [
    {
     "data": {
      "text/html": [
       "<div>\n",
       "<style>\n",
       "    .dataframe thead tr:only-child th {\n",
       "        text-align: right;\n",
       "    }\n",
       "\n",
       "    .dataframe thead th {\n",
       "        text-align: left;\n",
       "    }\n",
       "\n",
       "    .dataframe tbody tr th {\n",
       "        vertical-align: top;\n",
       "    }\n",
       "</style>\n",
       "<table border=\"1\" class=\"dataframe\">\n",
       "  <thead>\n",
       "    <tr style=\"text-align: right;\">\n",
       "      <th></th>\n",
       "      <th>Demographic</th>\n",
       "      <th>Percent_Default</th>\n",
       "      <th>Score</th>\n",
       "      <th>Sensitivity</th>\n",
       "    </tr>\n",
       "  </thead>\n",
       "  <tbody>\n",
       "    <tr>\n",
       "      <th>0</th>\n",
       "      <td>white</td>\n",
       "      <td>92.026985</td>\n",
       "      <td>20</td>\n",
       "      <td>1.000000</td>\n",
       "    </tr>\n",
       "    <tr>\n",
       "      <th>1</th>\n",
       "      <td>white</td>\n",
       "      <td>81.794048</td>\n",
       "      <td>40</td>\n",
       "      <td>0.986758</td>\n",
       "    </tr>\n",
       "    <tr>\n",
       "      <th>2</th>\n",
       "      <td>white</td>\n",
       "      <td>68.626047</td>\n",
       "      <td>60</td>\n",
       "      <td>0.911167</td>\n",
       "    </tr>\n",
       "    <tr>\n",
       "      <th>3</th>\n",
       "      <td>white</td>\n",
       "      <td>59.034503</td>\n",
       "      <td>80</td>\n",
       "      <td>0.718593</td>\n",
       "    </tr>\n",
       "    <tr>\n",
       "      <th>4</th>\n",
       "      <td>white</td>\n",
       "      <td>52.207496</td>\n",
       "      <td>100</td>\n",
       "      <td>0.411196</td>\n",
       "    </tr>\n",
       "    <tr>\n",
       "      <th>0</th>\n",
       "      <td>asian</td>\n",
       "      <td>93.070208</td>\n",
       "      <td>20</td>\n",
       "      <td>1.000000</td>\n",
       "    </tr>\n",
       "    <tr>\n",
       "      <th>1</th>\n",
       "      <td>asian</td>\n",
       "      <td>82.266645</td>\n",
       "      <td>40</td>\n",
       "      <td>0.989079</td>\n",
       "    </tr>\n",
       "    <tr>\n",
       "      <th>2</th>\n",
       "      <td>asian</td>\n",
       "      <td>68.533590</td>\n",
       "      <td>60</td>\n",
       "      <td>0.918696</td>\n",
       "    </tr>\n",
       "    <tr>\n",
       "      <th>3</th>\n",
       "      <td>asian</td>\n",
       "      <td>58.495419</td>\n",
       "      <td>80</td>\n",
       "      <td>0.725331</td>\n",
       "    </tr>\n",
       "    <tr>\n",
       "      <th>4</th>\n",
       "      <td>asian</td>\n",
       "      <td>52.108806</td>\n",
       "      <td>100</td>\n",
       "      <td>0.411493</td>\n",
       "    </tr>\n",
       "    <tr>\n",
       "      <th>0</th>\n",
       "      <td>black</td>\n",
       "      <td>85.196882</td>\n",
       "      <td>20</td>\n",
       "      <td>1.000000</td>\n",
       "    </tr>\n",
       "    <tr>\n",
       "      <th>1</th>\n",
       "      <td>black</td>\n",
       "      <td>73.148928</td>\n",
       "      <td>40</td>\n",
       "      <td>0.973989</td>\n",
       "    </tr>\n",
       "    <tr>\n",
       "      <th>2</th>\n",
       "      <td>black</td>\n",
       "      <td>61.681730</td>\n",
       "      <td>60</td>\n",
       "      <td>0.862708</td>\n",
       "    </tr>\n",
       "    <tr>\n",
       "      <th>3</th>\n",
       "      <td>black</td>\n",
       "      <td>55.139499</td>\n",
       "      <td>80</td>\n",
       "      <td>0.643893</td>\n",
       "    </tr>\n",
       "    <tr>\n",
       "      <th>4</th>\n",
       "      <td>black</td>\n",
       "      <td>51.217099</td>\n",
       "      <td>100</td>\n",
       "      <td>0.348325</td>\n",
       "    </tr>\n",
       "    <tr>\n",
       "      <th>0</th>\n",
       "      <td>hispanic</td>\n",
       "      <td>88.789336</td>\n",
       "      <td>20</td>\n",
       "      <td>1.000000</td>\n",
       "    </tr>\n",
       "    <tr>\n",
       "      <th>1</th>\n",
       "      <td>hispanic</td>\n",
       "      <td>76.016873</td>\n",
       "      <td>40</td>\n",
       "      <td>0.982171</td>\n",
       "    </tr>\n",
       "    <tr>\n",
       "      <th>2</th>\n",
       "      <td>hispanic</td>\n",
       "      <td>63.004587</td>\n",
       "      <td>60</td>\n",
       "      <td>0.886748</td>\n",
       "    </tr>\n",
       "    <tr>\n",
       "      <th>3</th>\n",
       "      <td>hispanic</td>\n",
       "      <td>55.674182</td>\n",
       "      <td>80</td>\n",
       "      <td>0.671519</td>\n",
       "    </tr>\n",
       "    <tr>\n",
       "      <th>4</th>\n",
       "      <td>hispanic</td>\n",
       "      <td>51.348533</td>\n",
       "      <td>100</td>\n",
       "      <td>0.366405</td>\n",
       "    </tr>\n",
       "  </tbody>\n",
       "</table>\n",
       "</div>"
      ],
      "text/plain": [
       "  Demographic  Percent_Default  Score  Sensitivity\n",
       "0       white        92.026985     20     1.000000\n",
       "1       white        81.794048     40     0.986758\n",
       "2       white        68.626047     60     0.911167\n",
       "3       white        59.034503     80     0.718593\n",
       "4       white        52.207496    100     0.411196\n",
       "0       asian        93.070208     20     1.000000\n",
       "1       asian        82.266645     40     0.989079\n",
       "2       asian        68.533590     60     0.918696\n",
       "3       asian        58.495419     80     0.725331\n",
       "4       asian        52.108806    100     0.411493\n",
       "0       black        85.196882     20     1.000000\n",
       "1       black        73.148928     40     0.973989\n",
       "2       black        61.681730     60     0.862708\n",
       "3       black        55.139499     80     0.643893\n",
       "4       black        51.217099    100     0.348325\n",
       "0    hispanic        88.789336     20     1.000000\n",
       "1    hispanic        76.016873     40     0.982171\n",
       "2    hispanic        63.004587     60     0.886748\n",
       "3    hispanic        55.674182     80     0.671519\n",
       "4    hispanic        51.348533    100     0.366405"
      ]
     },
     "execution_count": 20,
     "metadata": {},
     "output_type": "execute_result"
    }
   ],
   "source": [
    "sensitivity"
   ]
  },
  {
   "cell_type": "code",
   "execution_count": 21,
   "metadata": {},
   "outputs": [
    {
     "data": {
      "text/plain": [
       "0    False\n",
       "1    False\n",
       "2    False\n",
       "3    False\n",
       "4    False\n",
       "0    False\n",
       "1    False\n",
       "2    False\n",
       "3    False\n",
       "4    False\n",
       "0    False\n",
       "1    False\n",
       "2    False\n",
       "3    False\n",
       "4    False\n",
       "0    False\n",
       "1    False\n",
       "2    False\n",
       "3    False\n",
       "4    False\n",
       "Name: Percent_Default, dtype: bool"
      ]
     },
     "execution_count": 21,
     "metadata": {},
     "output_type": "execute_result"
    }
   ],
   "source": [
    "sensitivity[\"Percent_Default\"] < 20"
   ]
  },
  {
   "cell_type": "code",
   "execution_count": 14,
   "metadata": {
    "collapsed": true
   },
   "outputs": [],
   "source": [
    "## Here is where I'm confused for two reasons:\n",
    "## First, it doesn't seem like there is a point where all of the sensitivities are the same that isn't close\n",
    "## to 0 or 1.0 for the TransRisk score\n",
    "## And second, it doesn't seem like there is a percent_default anywhere below 50% even though theoretically\n",
    "## we are supposed to choose the sensitivity at 18% defaulting (unless I am calculating % default wrong)"
   ]
  },
  {
   "cell_type": "code",
   "execution_count": 15,
   "metadata": {},
   "outputs": [
    {
     "data": {
      "text/plain": [
       "[<matplotlib.lines.Line2D at 0x10ea832b0>]"
      ]
     },
     "execution_count": 15,
     "metadata": {},
     "output_type": "execute_result"
    },
    {
     "data": {
      "image/png": "[encoded data removed]",
      "text/plain": [
       "<matplotlib.figure.Figure at 0x10f4fc860>"
      ]
     },
     "metadata": {},
     "output_type": "display_data"
    }
   ],
   "source": [
    "plt.plot(white_sensitivity[\"Sensitivity\"], white_sensitivity[\"Score\"], 'b-')\n",
    "plt.plot(asian_sensitivity[\"Sensitivity\"], asian_sensitivity[\"Score\"], 'g-')\n",
    "plt.plot(black_sensitivity[\"Sensitivity\"], black_sensitivity[\"Score\"], 'c-')\n",
    "plt.plot(hispanic_sensitivity[\"Sensitivity\"], hispanic_sensitivity[\"Score\"], 'm-')"
   ]
  },
  {
   "cell_type": "markdown",
   "metadata": {},
   "source": [
    "*** OLD STUFF FROM PREVIOUS VERSIONS OF THE TUTORIAL ***"
   ]
  },
  {
   "cell_type": "markdown",
   "metadata": {},
   "source": [
    "## Next Steps:\n",
    "\n",
    "Now that you have calculated the precision and recall of a single threshold, let's calculate it for every TransRisk score threshold. Create a pandas dataframe that includes all four groups (defaulting and non-defaulting) and TransRisk scores. With each score acting as the <i>threshold</i> value, for each group - determine the F1 score for that threshold. Are there any significant discrepancies you notice between groups?"
   ]
  },
  {
   "cell_type": "code",
   "execution_count": 16,
   "metadata": {
    "collapsed": true
   },
   "outputs": [],
   "source": [
    "def getPrecisionSeries(goodName, badName, dataArray):\n",
    "    tp = dataArray[goodName]\n",
    "    fp = dataArray[badName]\n",
    "    precision = tp / (tp + fp)\n",
    "    return precision"
   ]
  },
  {
   "cell_type": "code",
   "execution_count": 17,
   "metadata": {
    "collapsed": true
   },
   "outputs": [],
   "source": [
    "def getRecallSeries(goodName, badName, dataArray):\n",
    "    totalGood = totalData[goodName].sum()\n",
    "    tp = dataArray[goodName]\n",
    "    recall = tp / totalGood\n",
    "    return recall"
   ]
  },
  {
   "cell_type": "code",
   "execution_count": 18,
   "metadata": {
    "collapsed": true
   },
   "outputs": [],
   "source": [
    "def getF1Series(goodName, badName, dataArray):\n",
    "    precision = getPrecisionSeries(goodName, badName, dataArray)\n",
    "    recall = getRecallSeries(goodName, badName, dataArray)\n",
    "    denom = ((1/precision) + (1/recall)) / 2\n",
    "    f1 = 1/denom\n",
    "    return f1"
   ]
  },
  {
   "cell_type": "code",
   "execution_count": 19,
   "metadata": {},
   "outputs": [
    {
     "ename": "KeyError",
     "evalue": "'Score'",
     "output_type": "error",
     "traceback": [
      "\u001b[0;31m---------------------------------------------------------------------------\u001b[0m",
      "\u001b[0;31mKeyError\u001b[0m                                  Traceback (most recent call last)",
      "\u001b[0;32m/Applications/anaconda/lib/python3.6/site-packages/pandas/core/indexes/base.py\u001b[0m in \u001b[0;36mget_loc\u001b[0;34m(self, key, method, tolerance)\u001b[0m\n\u001b[1;32m   2392\u001b[0m             \u001b[0;32mtry\u001b[0m\u001b[0;34m:\u001b[0m\u001b[0;34m\u001b[0m\u001b[0m\n\u001b[0;32m-> 2393\u001b[0;31m                 \u001b[0;32mreturn\u001b[0m \u001b[0mself\u001b[0m\u001b[0;34m.\u001b[0m\u001b[0m_engine\u001b[0m\u001b[0;34m.\u001b[0m\u001b[0mget_loc\u001b[0m\u001b[0;34m(\u001b[0m\u001b[0mkey\u001b[0m\u001b[0;34m)\u001b[0m\u001b[0;34m\u001b[0m\u001b[0m\n\u001b[0m\u001b[1;32m   2394\u001b[0m             \u001b[0;32mexcept\u001b[0m \u001b[0mKeyError\u001b[0m\u001b[0;34m:\u001b[0m\u001b[0;34m\u001b[0m\u001b[0m\n",
      "\u001b[0;32mpandas/_libs/index.pyx\u001b[0m in \u001b[0;36mpandas._libs.index.IndexEngine.get_loc (pandas/_libs/index.c:5239)\u001b[0;34m()\u001b[0m\n",
      "\u001b[0;32mpandas/_libs/index.pyx\u001b[0m in \u001b[0;36mpandas._libs.index.IndexEngine.get_loc (pandas/_libs/index.c:5085)\u001b[0;34m()\u001b[0m\n",
      "\u001b[0;32mpandas/_libs/hashtable_class_helper.pxi\u001b[0m in \u001b[0;36mpandas._libs.hashtable.PyObjectHashTable.get_item (pandas/_libs/hashtable.c:20405)\u001b[0;34m()\u001b[0m\n",
      "\u001b[0;32mpandas/_libs/hashtable_class_helper.pxi\u001b[0m in \u001b[0;36mpandas._libs.hashtable.PyObjectHashTable.get_item (pandas/_libs/hashtable.c:20359)\u001b[0;34m()\u001b[0m\n",
      "\u001b[0;31mKeyError\u001b[0m: 'Score'",
      "\nDuring handling of the above exception, another exception occurred:\n",
      "\u001b[0;31mKeyError\u001b[0m                                  Traceback (most recent call last)",
      "\u001b[0;32m<ipython-input-19-e85c5d09fe7e>\u001b[0m in \u001b[0;36m<module>\u001b[0;34m()\u001b[0m\n\u001b[0;32m----> 1\u001b[0;31m \u001b[0mF1Scores\u001b[0m \u001b[0;34m=\u001b[0m \u001b[0mtotalData\u001b[0m\u001b[0;34m[\u001b[0m\u001b[0;34m\"Score\"\u001b[0m\u001b[0;34m]\u001b[0m\u001b[0;34m.\u001b[0m\u001b[0mto_frame\u001b[0m\u001b[0;34m(\u001b[0m\u001b[0mname\u001b[0m\u001b[0;34m=\u001b[0m\u001b[0;34m\"TransRisk Score\"\u001b[0m\u001b[0;34m)\u001b[0m\u001b[0;34m\u001b[0m\u001b[0m\n\u001b[0m\u001b[1;32m      2\u001b[0m \u001b[0mwhite_series\u001b[0m \u001b[0;34m=\u001b[0m \u001b[0mgetF1Series\u001b[0m\u001b[0;34m(\u001b[0m\u001b[0;34m\"Non- Hispanic white (Good)\"\u001b[0m\u001b[0;34m,\u001b[0m \u001b[0;34m\"Non- Hispanic white (Bad)\"\u001b[0m\u001b[0;34m,\u001b[0m \u001b[0mtotalData\u001b[0m\u001b[0;34m)\u001b[0m\u001b[0;34m\u001b[0m\u001b[0m\n\u001b[1;32m      3\u001b[0m \u001b[0masian_series\u001b[0m \u001b[0;34m=\u001b[0m \u001b[0mgetF1Series\u001b[0m\u001b[0;34m(\u001b[0m\u001b[0;34m\"Asian (Good)\"\u001b[0m\u001b[0;34m,\u001b[0m \u001b[0;34m\"Asian (Bad)\"\u001b[0m\u001b[0;34m,\u001b[0m \u001b[0mtotalData\u001b[0m\u001b[0;34m)\u001b[0m\u001b[0;34m\u001b[0m\u001b[0m\n\u001b[1;32m      4\u001b[0m \u001b[0mblack_series\u001b[0m \u001b[0;34m=\u001b[0m \u001b[0mgetF1Series\u001b[0m\u001b[0;34m(\u001b[0m\u001b[0;34m\"Black (Good)\"\u001b[0m\u001b[0;34m,\u001b[0m \u001b[0;34m\"Black (Bad)\"\u001b[0m\u001b[0;34m,\u001b[0m \u001b[0mtotalData\u001b[0m\u001b[0;34m)\u001b[0m\u001b[0;34m\u001b[0m\u001b[0m\n\u001b[1;32m      5\u001b[0m \u001b[0mhispanic_series\u001b[0m \u001b[0;34m=\u001b[0m \u001b[0mgetF1Series\u001b[0m\u001b[0;34m(\u001b[0m\u001b[0;34m\"Hispanic (Good)\"\u001b[0m\u001b[0;34m,\u001b[0m \u001b[0;34m\"Hispanic (Bad)\"\u001b[0m\u001b[0;34m,\u001b[0m \u001b[0mtotalData\u001b[0m\u001b[0;34m)\u001b[0m\u001b[0;34m\u001b[0m\u001b[0m\n",
      "\u001b[0;32m/Applications/anaconda/lib/python3.6/site-packages/pandas/core/frame.py\u001b[0m in \u001b[0;36m__getitem__\u001b[0;34m(self, key)\u001b[0m\n\u001b[1;32m   2060\u001b[0m             \u001b[0;32mreturn\u001b[0m \u001b[0mself\u001b[0m\u001b[0;34m.\u001b[0m\u001b[0m_getitem_multilevel\u001b[0m\u001b[0;34m(\u001b[0m\u001b[0mkey\u001b[0m\u001b[0;34m)\u001b[0m\u001b[0;34m\u001b[0m\u001b[0m\n\u001b[1;32m   2061\u001b[0m         \u001b[0;32melse\u001b[0m\u001b[0;34m:\u001b[0m\u001b[0;34m\u001b[0m\u001b[0m\n\u001b[0;32m-> 2062\u001b[0;31m             \u001b[0;32mreturn\u001b[0m \u001b[0mself\u001b[0m\u001b[0;34m.\u001b[0m\u001b[0m_getitem_column\u001b[0m\u001b[0;34m(\u001b[0m\u001b[0mkey\u001b[0m\u001b[0;34m)\u001b[0m\u001b[0;34m\u001b[0m\u001b[0m\n\u001b[0m\u001b[1;32m   2063\u001b[0m \u001b[0;34m\u001b[0m\u001b[0m\n\u001b[1;32m   2064\u001b[0m     \u001b[0;32mdef\u001b[0m \u001b[0m_getitem_column\u001b[0m\u001b[0;34m(\u001b[0m\u001b[0mself\u001b[0m\u001b[0;34m,\u001b[0m \u001b[0mkey\u001b[0m\u001b[0;34m)\u001b[0m\u001b[0;34m:\u001b[0m\u001b[0;34m\u001b[0m\u001b[0m\n",
      "\u001b[0;32m/Applications/anaconda/lib/python3.6/site-packages/pandas/core/frame.py\u001b[0m in \u001b[0;36m_getitem_column\u001b[0;34m(self, key)\u001b[0m\n\u001b[1;32m   2067\u001b[0m         \u001b[0;31m# get column\u001b[0m\u001b[0;34m\u001b[0m\u001b[0;34m\u001b[0m\u001b[0m\n\u001b[1;32m   2068\u001b[0m         \u001b[0;32mif\u001b[0m \u001b[0mself\u001b[0m\u001b[0;34m.\u001b[0m\u001b[0mcolumns\u001b[0m\u001b[0;34m.\u001b[0m\u001b[0mis_unique\u001b[0m\u001b[0;34m:\u001b[0m\u001b[0;34m\u001b[0m\u001b[0m\n\u001b[0;32m-> 2069\u001b[0;31m             \u001b[0;32mreturn\u001b[0m \u001b[0mself\u001b[0m\u001b[0;34m.\u001b[0m\u001b[0m_get_item_cache\u001b[0m\u001b[0;34m(\u001b[0m\u001b[0mkey\u001b[0m\u001b[0;34m)\u001b[0m\u001b[0;34m\u001b[0m\u001b[0m\n\u001b[0m\u001b[1;32m   2070\u001b[0m \u001b[0;34m\u001b[0m\u001b[0m\n\u001b[1;32m   2071\u001b[0m         \u001b[0;31m# duplicate columns & possible reduce dimensionality\u001b[0m\u001b[0;34m\u001b[0m\u001b[0;34m\u001b[0m\u001b[0m\n",
      "\u001b[0;32m/Applications/anaconda/lib/python3.6/site-packages/pandas/core/generic.py\u001b[0m in \u001b[0;36m_get_item_cache\u001b[0;34m(self, item)\u001b[0m\n\u001b[1;32m   1532\u001b[0m         \u001b[0mres\u001b[0m \u001b[0;34m=\u001b[0m \u001b[0mcache\u001b[0m\u001b[0;34m.\u001b[0m\u001b[0mget\u001b[0m\u001b[0;34m(\u001b[0m\u001b[0mitem\u001b[0m\u001b[0;34m)\u001b[0m\u001b[0;34m\u001b[0m\u001b[0m\n\u001b[1;32m   1533\u001b[0m         \u001b[0;32mif\u001b[0m \u001b[0mres\u001b[0m \u001b[0;32mis\u001b[0m \u001b[0;32mNone\u001b[0m\u001b[0;34m:\u001b[0m\u001b[0;34m\u001b[0m\u001b[0m\n\u001b[0;32m-> 1534\u001b[0;31m             \u001b[0mvalues\u001b[0m \u001b[0;34m=\u001b[0m \u001b[0mself\u001b[0m\u001b[0;34m.\u001b[0m\u001b[0m_data\u001b[0m\u001b[0;34m.\u001b[0m\u001b[0mget\u001b[0m\u001b[0;34m(\u001b[0m\u001b[0mitem\u001b[0m\u001b[0;34m)\u001b[0m\u001b[0;34m\u001b[0m\u001b[0m\n\u001b[0m\u001b[1;32m   1535\u001b[0m             \u001b[0mres\u001b[0m \u001b[0;34m=\u001b[0m \u001b[0mself\u001b[0m\u001b[0;34m.\u001b[0m\u001b[0m_box_item_values\u001b[0m\u001b[0;34m(\u001b[0m\u001b[0mitem\u001b[0m\u001b[0;34m,\u001b[0m \u001b[0mvalues\u001b[0m\u001b[0;34m)\u001b[0m\u001b[0;34m\u001b[0m\u001b[0m\n\u001b[1;32m   1536\u001b[0m             \u001b[0mcache\u001b[0m\u001b[0;34m[\u001b[0m\u001b[0mitem\u001b[0m\u001b[0;34m]\u001b[0m \u001b[0;34m=\u001b[0m \u001b[0mres\u001b[0m\u001b[0;34m\u001b[0m\u001b[0m\n",
      "\u001b[0;32m/Applications/anaconda/lib/python3.6/site-packages/pandas/core/internals.py\u001b[0m in \u001b[0;36mget\u001b[0;34m(self, item, fastpath)\u001b[0m\n\u001b[1;32m   3588\u001b[0m \u001b[0;34m\u001b[0m\u001b[0m\n\u001b[1;32m   3589\u001b[0m             \u001b[0;32mif\u001b[0m \u001b[0;32mnot\u001b[0m \u001b[0misnull\u001b[0m\u001b[0;34m(\u001b[0m\u001b[0mitem\u001b[0m\u001b[0;34m)\u001b[0m\u001b[0;34m:\u001b[0m\u001b[0;34m\u001b[0m\u001b[0m\n\u001b[0;32m-> 3590\u001b[0;31m                 \u001b[0mloc\u001b[0m \u001b[0;34m=\u001b[0m \u001b[0mself\u001b[0m\u001b[0;34m.\u001b[0m\u001b[0mitems\u001b[0m\u001b[0;34m.\u001b[0m\u001b[0mget_loc\u001b[0m\u001b[0;34m(\u001b[0m\u001b[0mitem\u001b[0m\u001b[0;34m)\u001b[0m\u001b[0;34m\u001b[0m\u001b[0m\n\u001b[0m\u001b[1;32m   3591\u001b[0m             \u001b[0;32melse\u001b[0m\u001b[0;34m:\u001b[0m\u001b[0;34m\u001b[0m\u001b[0m\n\u001b[1;32m   3592\u001b[0m                 \u001b[0mindexer\u001b[0m \u001b[0;34m=\u001b[0m \u001b[0mnp\u001b[0m\u001b[0;34m.\u001b[0m\u001b[0marange\u001b[0m\u001b[0;34m(\u001b[0m\u001b[0mlen\u001b[0m\u001b[0;34m(\u001b[0m\u001b[0mself\u001b[0m\u001b[0;34m.\u001b[0m\u001b[0mitems\u001b[0m\u001b[0;34m)\u001b[0m\u001b[0;34m)\u001b[0m\u001b[0;34m[\u001b[0m\u001b[0misnull\u001b[0m\u001b[0;34m(\u001b[0m\u001b[0mself\u001b[0m\u001b[0;34m.\u001b[0m\u001b[0mitems\u001b[0m\u001b[0;34m)\u001b[0m\u001b[0;34m]\u001b[0m\u001b[0;34m\u001b[0m\u001b[0m\n",
      "\u001b[0;32m/Applications/anaconda/lib/python3.6/site-packages/pandas/core/indexes/base.py\u001b[0m in \u001b[0;36mget_loc\u001b[0;34m(self, key, method, tolerance)\u001b[0m\n\u001b[1;32m   2393\u001b[0m                 \u001b[0;32mreturn\u001b[0m \u001b[0mself\u001b[0m\u001b[0;34m.\u001b[0m\u001b[0m_engine\u001b[0m\u001b[0;34m.\u001b[0m\u001b[0mget_loc\u001b[0m\u001b[0;34m(\u001b[0m\u001b[0mkey\u001b[0m\u001b[0;34m)\u001b[0m\u001b[0;34m\u001b[0m\u001b[0m\n\u001b[1;32m   2394\u001b[0m             \u001b[0;32mexcept\u001b[0m \u001b[0mKeyError\u001b[0m\u001b[0;34m:\u001b[0m\u001b[0;34m\u001b[0m\u001b[0m\n\u001b[0;32m-> 2395\u001b[0;31m                 \u001b[0;32mreturn\u001b[0m \u001b[0mself\u001b[0m\u001b[0;34m.\u001b[0m\u001b[0m_engine\u001b[0m\u001b[0;34m.\u001b[0m\u001b[0mget_loc\u001b[0m\u001b[0;34m(\u001b[0m\u001b[0mself\u001b[0m\u001b[0;34m.\u001b[0m\u001b[0m_maybe_cast_indexer\u001b[0m\u001b[0;34m(\u001b[0m\u001b[0mkey\u001b[0m\u001b[0;34m)\u001b[0m\u001b[0;34m)\u001b[0m\u001b[0;34m\u001b[0m\u001b[0m\n\u001b[0m\u001b[1;32m   2396\u001b[0m \u001b[0;34m\u001b[0m\u001b[0m\n\u001b[1;32m   2397\u001b[0m         \u001b[0mindexer\u001b[0m \u001b[0;34m=\u001b[0m \u001b[0mself\u001b[0m\u001b[0;34m.\u001b[0m\u001b[0mget_indexer\u001b[0m\u001b[0;34m(\u001b[0m\u001b[0;34m[\u001b[0m\u001b[0mkey\u001b[0m\u001b[0;34m]\u001b[0m\u001b[0;34m,\u001b[0m \u001b[0mmethod\u001b[0m\u001b[0;34m=\u001b[0m\u001b[0mmethod\u001b[0m\u001b[0;34m,\u001b[0m \u001b[0mtolerance\u001b[0m\u001b[0;34m=\u001b[0m\u001b[0mtolerance\u001b[0m\u001b[0;34m)\u001b[0m\u001b[0;34m\u001b[0m\u001b[0m\n",
      "\u001b[0;32mpandas/_libs/index.pyx\u001b[0m in \u001b[0;36mpandas._libs.index.IndexEngine.get_loc (pandas/_libs/index.c:5239)\u001b[0;34m()\u001b[0m\n",
      "\u001b[0;32mpandas/_libs/index.pyx\u001b[0m in \u001b[0;36mpandas._libs.index.IndexEngine.get_loc (pandas/_libs/index.c:5085)\u001b[0;34m()\u001b[0m\n",
      "\u001b[0;32mpandas/_libs/hashtable_class_helper.pxi\u001b[0m in \u001b[0;36mpandas._libs.hashtable.PyObjectHashTable.get_item (pandas/_libs/hashtable.c:20405)\u001b[0;34m()\u001b[0m\n",
      "\u001b[0;32mpandas/_libs/hashtable_class_helper.pxi\u001b[0m in \u001b[0;36mpandas._libs.hashtable.PyObjectHashTable.get_item (pandas/_libs/hashtable.c:20359)\u001b[0;34m()\u001b[0m\n",
      "\u001b[0;31mKeyError\u001b[0m: 'Score'"
     ]
    }
   ],
   "source": [
    "F1Scores = totalData[\"Score\"].to_frame(name=\"TransRisk Score\")\n",
    "white_series = getF1Series(\"Non- Hispanic white (Good)\", \"Non- Hispanic white (Bad)\", totalData)\n",
    "asian_series = getF1Series(\"Asian (Good)\", \"Asian (Bad)\", totalData)\n",
    "black_series = getF1Series(\"Black (Good)\", \"Black (Bad)\", totalData)\n",
    "hispanic_series = getF1Series(\"Hispanic (Good)\", \"Hispanic (Bad)\", totalData)\n",
    "F1Scores['White F1'] = white_series\n",
    "F1Scores['Asian F1'] = asian_series\n",
    "F1Scores['Black F1'] = black_series\n",
    "F1Scores['Hispanic F1'] = hispanic_series\n",
    "F1Scores.head()"
   ]
  },
  {
   "cell_type": "code",
   "execution_count": null,
   "metadata": {
    "collapsed": true
   },
   "outputs": [],
   "source": [
    "test_df = F1Scores.copy()\n",
    "test_df = test_df.set_index(\"TransRisk Score\")\n",
    "cols = test_df.columns[:]\n",
    "cols = [col.replace(\" F1\", \"\") for col in cols]\n",
    "test_df.columns = cols\n",
    "test_df = pd.DataFrame(test_df.stack(), columns = [\"F1\"])\n",
    "\n",
    "test_df = test_df.reset_index()\n",
    "test_df.columns = [\"TransRisk Score\", \"Demographic\", \"F1\"]\n",
    "test_df = test_df.set_index([\"TransRisk Score\", \"Demographic\"])\n",
    "test_df.loc[4.5, \"White\"]"
   ]
  },
  {
   "cell_type": "code",
   "execution_count": null,
   "metadata": {
    "collapsed": true
   },
   "outputs": [],
   "source": []
  },
  {
   "cell_type": "code",
   "execution_count": null,
   "metadata": {
    "collapsed": true
   },
   "outputs": [],
   "source": [
    "## Still trying to fix this to get the F1 Score Panda Array looking good\n",
    "F1Scores.set_index(score) and melt df if choose to do this, so that demographic F1s become column"
   ]
  },
  {
   "cell_type": "markdown",
   "metadata": {},
   "source": [
    "<hr/>\n",
    "## Conclusion"
   ]
  },
  {
   "cell_type": "markdown",
   "metadata": {},
   "source": [
    "As our research shows, it is very obvious that the data involved in creating the supervised learning predictors for loan approval from TransRisk scores is inherently discriminatory. What are some other possible solutions for optimizing performance of these models to ensure non-discriminatory decision making? \n",
    "<br/><br/>\n",
    "TransRisk data and non-discriminatory analysis courtesy of https://arxiv.org/pdf/1610.02413.pdf"
   ]
  },
  {
   "cell_type": "code",
   "execution_count": null,
   "metadata": {
    "collapsed": true
   },
   "outputs": [],
   "source": []
  }
 ],
 "metadata": {
  "kernelspec": {
   "display_name": "Python 3",
   "language": "python",
   "name": "python3"
  },
  "language_info": {
   "codemirror_mode": {
    "name": "ipython",
    "version": 3
   },
   "file_extension": ".py",
   "mimetype": "text/x-python",
   "name": "python",
   "nbconvert_exporter": "python",
   "pygments_lexer": "ipython3",
   "version": "3.6.1"
  }
 },
 "nbformat": 4,
 "nbformat_minor": 2
}
