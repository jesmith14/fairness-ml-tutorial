{
 "cells": [
  {
   "cell_type": "markdown",
   "metadata": {},
   "source": [
    "# Created in this Notebook:\n",
    "\n",
    "** P(NonDefault | race) **\n",
    "- ProbNonDefaultGivenRace\n",
    "\n",
    "** P(NonDefault | Score=x, race) **\n",
    "- ProbNonDefaultGivenScoreEqualsXAndRace\n",
    "\n",
    "** P(Default | Score=x, race) **\n",
    "- ProbDefOrNotGivenScoreEqualsXAndRace\n",
    "\n",
    "** P(race) **\n",
    "- ProbOfBeingRace\n",
    "\n",
    "** P(Score=x | race) **\n",
    "- ProbScoreEqualsXGivenRace\n",
    "\n",
    "** P(score=x & good & race) **\n",
    "- ProbScoreEqualsXAndGoodAndRace\n",
    "\n",
    "** P(NonDefault & race) **\n",
    "- ProbNonDefaultAndRace\n",
    "\n",
    "** P(Score=x | NonDefault, race) **\n",
    "- ProbScoreEqualsXGivenNonDefaultAndRace\n",
    "\n",
    "** P(Score>=x | NonDefault, race) **\n",
    "- ProbScoreGreaterThanXGivenNonDefaultAndRace\n",
    "- to obtain this, I calculated:\n",
    "    - <b>P(score=x & NonDefault & race)</b>\n",
    "    - <b>P(race & score=x) </b>\n",
    "    - <b>P(NonDefault and race)</b>\n",
    "\n",
    "** P(NonDefault | Score=>x, race) **\n",
    "- ProbNonDefaultGivenScoreGreaterXAndRace\n",
    "- This is supposed to yield the same results that ProbLoanReceiverIsGood.csv did\n",
    "- Small rounding errors are causing this dataset to create different final results - unsure the cause"
   ]
  },
  {
   "cell_type": "code",
   "execution_count": 2,
   "metadata": {
    "collapsed": true
   },
   "outputs": [],
   "source": [
    "import pandas as pd\n",
    "import numpy as np\n",
    "%matplotlib inline"
   ]
  },
  {
   "cell_type": "markdown",
   "metadata": {},
   "source": [
    "### Figure 3A:\n",
    "https://www.federalreserve.gov/boarddocs/rptcongress/creditscore/figtables3.htm#d3A\n",
    "    \n",
    "### Figure 7A:\n",
    "https://www.federalreserve.gov/boarddocs/rptcongress/creditscore/figtables7.htm#d7A\n",
    "\n",
    "### Figure 6A:\n",
    "https://www.federalreserve.gov/boarddocs/rptcongress/creditscore/figtables6.htm#d6A"
   ]
  },
  {
   "cell_type": "code",
   "execution_count": 75,
   "metadata": {},
   "outputs": [],
   "source": [
    "# Figure 7A-fixed is the same as Figure 7A I just changed the column names from good/bad to default/nondefault\n",
    "CumulativePercentageByDefaulters = pd.read_csv(\"Figure7A-fixed.csv\")\n",
    "CumulativePercentageByDemographic = pd.read_csv(\"Figure3A.csv\")\n",
    "ProbDefaultGivenScoreEqualsX = pd.read_csv(\"Figure6A.csv\")"
   ]
  },
  {
   "cell_type": "code",
   "execution_count": 76,
   "metadata": {},
   "outputs": [],
   "source": [
    "ProbDefaultGivenScoreEqualsX.set_index(\"Score\", inplace=True)"
   ]
  },
  {
   "cell_type": "code",
   "execution_count": 77,
   "metadata": {},
   "outputs": [],
   "source": [
    "NewProbNonDefaultGivenScoreEqualsX = 1 - (ProbDefaultGivenScoreEqualsX / 100)"
   ]
  },
  {
   "cell_type": "code",
   "execution_count": 78,
   "metadata": {},
   "outputs": [
    {
     "data": {
      "text/html": [
       "<div>\n",
       "<style>\n",
       "    .dataframe thead tr:only-child th {\n",
       "        text-align: right;\n",
       "    }\n",
       "\n",
       "    .dataframe thead th {\n",
       "        text-align: left;\n",
       "    }\n",
       "\n",
       "    .dataframe tbody tr th {\n",
       "        vertical-align: top;\n",
       "    }\n",
       "</style>\n",
       "<table border=\"1\" class=\"dataframe\">\n",
       "  <thead>\n",
       "    <tr style=\"text-align: right;\">\n",
       "      <th></th>\n",
       "      <th>P(NonDefault|Score=x, White)</th>\n",
       "      <th>P(Default|Score=x, White)</th>\n",
       "      <th>P(NonDefault|Score=x, Black)</th>\n",
       "      <th>P(Default|Score=x, Black)</th>\n",
       "      <th>P(NonDefault|Score=x, Hispanic)</th>\n",
       "      <th>P(Default|Score=x, Hispanic)</th>\n",
       "      <th>P(NonDefault|Score=x, Asian)</th>\n",
       "      <th>P(Default|Score=x, Asian)</th>\n",
       "    </tr>\n",
       "    <tr>\n",
       "      <th>Score</th>\n",
       "      <th></th>\n",
       "      <th></th>\n",
       "      <th></th>\n",
       "      <th></th>\n",
       "      <th></th>\n",
       "      <th></th>\n",
       "      <th></th>\n",
       "      <th></th>\n",
       "    </tr>\n",
       "  </thead>\n",
       "  <tbody>\n",
       "    <tr>\n",
       "      <th>0.0</th>\n",
       "      <td>0.000000</td>\n",
       "      <td>1.000000</td>\n",
       "      <td>0.000000</td>\n",
       "      <td>1.000000</td>\n",
       "      <td>0.000000</td>\n",
       "      <td>1.000000</td>\n",
       "      <td>0.000000</td>\n",
       "      <td>1.000000</td>\n",
       "    </tr>\n",
       "    <tr>\n",
       "      <th>0.5</th>\n",
       "      <td>0.000000</td>\n",
       "      <td>1.000000</td>\n",
       "      <td>0.005191</td>\n",
       "      <td>0.994809</td>\n",
       "      <td>0.021042</td>\n",
       "      <td>0.978958</td>\n",
       "      <td>0.000000</td>\n",
       "      <td>1.000000</td>\n",
       "    </tr>\n",
       "    <tr>\n",
       "      <th>1.0</th>\n",
       "      <td>0.022332</td>\n",
       "      <td>0.977668</td>\n",
       "      <td>0.025054</td>\n",
       "      <td>0.974946</td>\n",
       "      <td>0.011400</td>\n",
       "      <td>0.988600</td>\n",
       "      <td>0.058622</td>\n",
       "      <td>0.941378</td>\n",
       "    </tr>\n",
       "    <tr>\n",
       "      <th>1.5</th>\n",
       "      <td>0.023809</td>\n",
       "      <td>0.976191</td>\n",
       "      <td>0.021218</td>\n",
       "      <td>0.978782</td>\n",
       "      <td>0.000000</td>\n",
       "      <td>1.000000</td>\n",
       "      <td>0.000000</td>\n",
       "      <td>1.000000</td>\n",
       "    </tr>\n",
       "    <tr>\n",
       "      <th>2.0</th>\n",
       "      <td>0.036810</td>\n",
       "      <td>0.963190</td>\n",
       "      <td>0.023518</td>\n",
       "      <td>0.976482</td>\n",
       "      <td>0.025943</td>\n",
       "      <td>0.974057</td>\n",
       "      <td>0.101215</td>\n",
       "      <td>0.898785</td>\n",
       "    </tr>\n",
       "  </tbody>\n",
       "</table>\n",
       "</div>"
      ],
      "text/plain": [
       "       P(NonDefault|Score=x, White)  P(Default|Score=x, White)  \\\n",
       "Score                                                            \n",
       "0.0                        0.000000                   1.000000   \n",
       "0.5                        0.000000                   1.000000   \n",
       "1.0                        0.022332                   0.977668   \n",
       "1.5                        0.023809                   0.976191   \n",
       "2.0                        0.036810                   0.963190   \n",
       "\n",
       "       P(NonDefault|Score=x, Black)  P(Default|Score=x, Black)  \\\n",
       "Score                                                            \n",
       "0.0                        0.000000                   1.000000   \n",
       "0.5                        0.005191                   0.994809   \n",
       "1.0                        0.025054                   0.974946   \n",
       "1.5                        0.021218                   0.978782   \n",
       "2.0                        0.023518                   0.976482   \n",
       "\n",
       "       P(NonDefault|Score=x, Hispanic)  P(Default|Score=x, Hispanic)  \\\n",
       "Score                                                                  \n",
       "0.0                           0.000000                      1.000000   \n",
       "0.5                           0.021042                      0.978958   \n",
       "1.0                           0.011400                      0.988600   \n",
       "1.5                           0.000000                      1.000000   \n",
       "2.0                           0.025943                      0.974057   \n",
       "\n",
       "       P(NonDefault|Score=x, Asian)  P(Default|Score=x, Asian)  \n",
       "Score                                                           \n",
       "0.0                        0.000000                   1.000000  \n",
       "0.5                        0.000000                   1.000000  \n",
       "1.0                        0.058622                   0.941378  \n",
       "1.5                        0.000000                   1.000000  \n",
       "2.0                        0.101215                   0.898785  "
      ]
     },
     "execution_count": 78,
     "metadata": {},
     "output_type": "execute_result"
    }
   ],
   "source": [
    "ProbDefOrNotGivenScoreEqualsXAndRace.head()"
   ]
  },
  {
   "cell_type": "code",
   "execution_count": 81,
   "metadata": {},
   "outputs": [
    {
     "data": {
      "text/html": [
       "<div>\n",
       "<style>\n",
       "    .dataframe thead tr:only-child th {\n",
       "        text-align: right;\n",
       "    }\n",
       "\n",
       "    .dataframe thead th {\n",
       "        text-align: left;\n",
       "    }\n",
       "\n",
       "    .dataframe tbody tr th {\n",
       "        vertical-align: top;\n",
       "    }\n",
       "</style>\n",
       "<table border=\"1\" class=\"dataframe\">\n",
       "  <thead>\n",
       "    <tr style=\"text-align: right;\">\n",
       "      <th></th>\n",
       "      <th>Score</th>\n",
       "      <th>White (NonDefault)</th>\n",
       "      <th>White (Default)</th>\n",
       "      <th>Black (NonDefault)</th>\n",
       "      <th>Black (Default)</th>\n",
       "      <th>Hispanic (NonDefault)</th>\n",
       "      <th>Hispanic (Default)</th>\n",
       "      <th>Asian (NonDefault)</th>\n",
       "      <th>Asian (Default)</th>\n",
       "    </tr>\n",
       "  </thead>\n",
       "  <tbody>\n",
       "    <tr>\n",
       "      <th>0</th>\n",
       "      <td>0.0</td>\n",
       "      <td>0.00</td>\n",
       "      <td>0.04</td>\n",
       "      <td>0.00</td>\n",
       "      <td>0.12</td>\n",
       "      <td>0.00</td>\n",
       "      <td>0.03</td>\n",
       "      <td>0.00</td>\n",
       "      <td>0.00</td>\n",
       "    </tr>\n",
       "    <tr>\n",
       "      <th>1</th>\n",
       "      <td>0.5</td>\n",
       "      <td>0.00</td>\n",
       "      <td>1.21</td>\n",
       "      <td>0.02</td>\n",
       "      <td>2.00</td>\n",
       "      <td>0.02</td>\n",
       "      <td>1.17</td>\n",
       "      <td>0.00</td>\n",
       "      <td>0.75</td>\n",
       "    </tr>\n",
       "    <tr>\n",
       "      <th>2</th>\n",
       "      <td>1.0</td>\n",
       "      <td>0.03</td>\n",
       "      <td>5.15</td>\n",
       "      <td>0.37</td>\n",
       "      <td>8.68</td>\n",
       "      <td>0.06</td>\n",
       "      <td>5.42</td>\n",
       "      <td>0.06</td>\n",
       "      <td>4.62</td>\n",
       "    </tr>\n",
       "    <tr>\n",
       "      <th>3</th>\n",
       "      <td>1.5</td>\n",
       "      <td>0.04</td>\n",
       "      <td>6.38</td>\n",
       "      <td>0.45</td>\n",
       "      <td>10.49</td>\n",
       "      <td>0.06</td>\n",
       "      <td>6.75</td>\n",
       "      <td>0.06</td>\n",
       "      <td>5.58</td>\n",
       "    </tr>\n",
       "    <tr>\n",
       "      <th>4</th>\n",
       "      <td>2.0</td>\n",
       "      <td>0.06</td>\n",
       "      <td>7.95</td>\n",
       "      <td>0.56</td>\n",
       "      <td>12.73</td>\n",
       "      <td>0.10</td>\n",
       "      <td>8.59</td>\n",
       "      <td>0.09</td>\n",
       "      <td>6.65</td>\n",
       "    </tr>\n",
       "  </tbody>\n",
       "</table>\n",
       "</div>"
      ],
      "text/plain": [
       "   Score  White (NonDefault)  White (Default)  Black (NonDefault)  \\\n",
       "0    0.0                0.00             0.04                0.00   \n",
       "1    0.5                0.00             1.21                0.02   \n",
       "2    1.0                0.03             5.15                0.37   \n",
       "3    1.5                0.04             6.38                0.45   \n",
       "4    2.0                0.06             7.95                0.56   \n",
       "\n",
       "   Black (Default)  Hispanic (NonDefault)  Hispanic (Default)  \\\n",
       "0             0.12                   0.00                0.03   \n",
       "1             2.00                   0.02                1.17   \n",
       "2             8.68                   0.06                5.42   \n",
       "3            10.49                   0.06                6.75   \n",
       "4            12.73                   0.10                8.59   \n",
       "\n",
       "   Asian (NonDefault)  Asian (Default)  \n",
       "0                0.00             0.00  \n",
       "1                0.00             0.75  \n",
       "2                0.06             4.62  \n",
       "3                0.06             5.58  \n",
       "4                0.09             6.65  "
      ]
     },
     "execution_count": 81,
     "metadata": {},
     "output_type": "execute_result"
    }
   ],
   "source": [
    "CumulativePercentageByDefaulters.head()"
   ]
  },
  {
   "cell_type": "code",
   "execution_count": 88,
   "metadata": {},
   "outputs": [
    {
     "data": {
      "text/html": [
       "<div>\n",
       "<style>\n",
       "    .dataframe thead tr:only-child th {\n",
       "        text-align: right;\n",
       "    }\n",
       "\n",
       "    .dataframe thead th {\n",
       "        text-align: left;\n",
       "    }\n",
       "\n",
       "    .dataframe tbody tr th {\n",
       "        vertical-align: top;\n",
       "    }\n",
       "</style>\n",
       "<table border=\"1\" class=\"dataframe\">\n",
       "  <thead>\n",
       "    <tr style=\"text-align: right;\">\n",
       "      <th></th>\n",
       "      <th>Score</th>\n",
       "      <th>White (NonDefault)</th>\n",
       "      <th>White (Default)</th>\n",
       "      <th>Black (NonDefault)</th>\n",
       "      <th>Black (Default)</th>\n",
       "      <th>Hispanic (NonDefault)</th>\n",
       "      <th>Hispanic (Default)</th>\n",
       "      <th>Asian (NonDefault)</th>\n",
       "      <th>Asian (Default)</th>\n",
       "    </tr>\n",
       "  </thead>\n",
       "  <tbody>\n",
       "    <tr>\n",
       "      <th>0</th>\n",
       "      <td>0.0</td>\n",
       "      <td>0.00</td>\n",
       "      <td>0.04</td>\n",
       "      <td>0.00</td>\n",
       "      <td>0.12</td>\n",
       "      <td>0.00</td>\n",
       "      <td>0.03</td>\n",
       "      <td>0.00</td>\n",
       "      <td>0.00</td>\n",
       "    </tr>\n",
       "    <tr>\n",
       "      <th>1</th>\n",
       "      <td>0.5</td>\n",
       "      <td>0.00</td>\n",
       "      <td>1.21</td>\n",
       "      <td>0.02</td>\n",
       "      <td>2.00</td>\n",
       "      <td>0.02</td>\n",
       "      <td>1.17</td>\n",
       "      <td>0.00</td>\n",
       "      <td>0.75</td>\n",
       "    </tr>\n",
       "    <tr>\n",
       "      <th>2</th>\n",
       "      <td>1.0</td>\n",
       "      <td>0.03</td>\n",
       "      <td>5.15</td>\n",
       "      <td>0.37</td>\n",
       "      <td>8.68</td>\n",
       "      <td>0.06</td>\n",
       "      <td>5.42</td>\n",
       "      <td>0.06</td>\n",
       "      <td>4.62</td>\n",
       "    </tr>\n",
       "    <tr>\n",
       "      <th>3</th>\n",
       "      <td>1.5</td>\n",
       "      <td>0.04</td>\n",
       "      <td>6.38</td>\n",
       "      <td>0.45</td>\n",
       "      <td>10.49</td>\n",
       "      <td>0.06</td>\n",
       "      <td>6.75</td>\n",
       "      <td>0.06</td>\n",
       "      <td>5.58</td>\n",
       "    </tr>\n",
       "    <tr>\n",
       "      <th>4</th>\n",
       "      <td>2.0</td>\n",
       "      <td>0.06</td>\n",
       "      <td>7.95</td>\n",
       "      <td>0.56</td>\n",
       "      <td>12.73</td>\n",
       "      <td>0.10</td>\n",
       "      <td>8.59</td>\n",
       "      <td>0.09</td>\n",
       "      <td>6.65</td>\n",
       "    </tr>\n",
       "  </tbody>\n",
       "</table>\n",
       "</div>"
      ],
      "text/plain": [
       "   Score  White (NonDefault)  White (Default)  Black (NonDefault)  \\\n",
       "0    0.0                0.00             0.04                0.00   \n",
       "1    0.5                0.00             1.21                0.02   \n",
       "2    1.0                0.03             5.15                0.37   \n",
       "3    1.5                0.04             6.38                0.45   \n",
       "4    2.0                0.06             7.95                0.56   \n",
       "\n",
       "   Black (Default)  Hispanic (NonDefault)  Hispanic (Default)  \\\n",
       "0             0.12                   0.00                0.03   \n",
       "1             2.00                   0.02                1.17   \n",
       "2             8.68                   0.06                5.42   \n",
       "3            10.49                   0.06                6.75   \n",
       "4            12.73                   0.10                8.59   \n",
       "\n",
       "   Asian (NonDefault)  Asian (Default)  \n",
       "0                0.00             0.00  \n",
       "1                0.00             0.75  \n",
       "2                0.06             4.62  \n",
       "3                0.06             5.58  \n",
       "4                0.09             6.65  "
      ]
     },
     "execution_count": 88,
     "metadata": {},
     "output_type": "execute_result"
    }
   ],
   "source": [
    "CumulativePercentageByDefaulters.head()"
   ]
  },
  {
   "cell_type": "code",
   "execution_count": 97,
   "metadata": {},
   "outputs": [
    {
     "data": {
      "text/html": [
       "<div>\n",
       "<style>\n",
       "    .dataframe thead tr:only-child th {\n",
       "        text-align: right;\n",
       "    }\n",
       "\n",
       "    .dataframe thead th {\n",
       "        text-align: left;\n",
       "    }\n",
       "\n",
       "    .dataframe tbody tr th {\n",
       "        vertical-align: top;\n",
       "    }\n",
       "</style>\n",
       "<table border=\"1\" class=\"dataframe\">\n",
       "  <thead>\n",
       "    <tr style=\"text-align: right;\">\n",
       "      <th></th>\n",
       "      <th>White</th>\n",
       "      <th>Black</th>\n",
       "      <th>Hispanic</th>\n",
       "      <th>Asian</th>\n",
       "    </tr>\n",
       "    <tr>\n",
       "      <th>Score</th>\n",
       "      <th></th>\n",
       "      <th></th>\n",
       "      <th></th>\n",
       "      <th></th>\n",
       "    </tr>\n",
       "  </thead>\n",
       "  <tbody>\n",
       "    <tr>\n",
       "      <th>0.0</th>\n",
       "      <td>0.00</td>\n",
       "      <td>0.00</td>\n",
       "      <td>0.00</td>\n",
       "      <td>0.00</td>\n",
       "    </tr>\n",
       "    <tr>\n",
       "      <th>0.5</th>\n",
       "      <td>0.00</td>\n",
       "      <td>0.02</td>\n",
       "      <td>0.02</td>\n",
       "      <td>0.00</td>\n",
       "    </tr>\n",
       "    <tr>\n",
       "      <th>1.0</th>\n",
       "      <td>0.03</td>\n",
       "      <td>0.35</td>\n",
       "      <td>0.04</td>\n",
       "      <td>0.06</td>\n",
       "    </tr>\n",
       "    <tr>\n",
       "      <th>1.5</th>\n",
       "      <td>0.01</td>\n",
       "      <td>0.08</td>\n",
       "      <td>0.00</td>\n",
       "      <td>0.00</td>\n",
       "    </tr>\n",
       "    <tr>\n",
       "      <th>2.0</th>\n",
       "      <td>0.02</td>\n",
       "      <td>0.11</td>\n",
       "      <td>0.04</td>\n",
       "      <td>0.03</td>\n",
       "    </tr>\n",
       "  </tbody>\n",
       "</table>\n",
       "</div>"
      ],
      "text/plain": [
       "       White  Black  Hispanic  Asian\n",
       "Score                               \n",
       "0.0     0.00   0.00      0.00   0.00\n",
       "0.5     0.00   0.02      0.02   0.00\n",
       "1.0     0.03   0.35      0.04   0.06\n",
       "1.5     0.01   0.08      0.00   0.00\n",
       "2.0     0.02   0.11      0.04   0.03"
      ]
     },
     "execution_count": 97,
     "metadata": {},
     "output_type": "execute_result"
    }
   ],
   "source": [
    "FigureSevenAD = CumulativePercentageByDefaulters.set_index(\"Score\")[['White (Default)', 'Black (Default)', 'Hispanic (Default)', 'Asian (Default)']].diff().fillna(value=0)\n",
    "FigureSevenAD.columns = ['White', 'Black', 'Hispanic', 'Asian']\n",
    "FigureSevenAND = CumulativePercentageByDefaulters.set_index(\"Score\")[['White (NonDefault)', 'Black (NonDefault)', 'Hispanic (NonDefault)', 'Asian (NonDefault)']].diff().fillna(value=0)\n",
    "FigureSevenAND.columns = ['White', 'Black', 'Hispanic', 'Asian']\n",
    "FigureSevenAND.head()"
   ]
  },
  {
   "cell_type": "code",
   "execution_count": 99,
   "metadata": {},
   "outputs": [],
   "source": [
    "FigureSixA = NewProbNonDefaultGivenScoreEqualsX\n",
    "pis = (-FigureSixA[['White']] * FigureSevenAD[['White']]) / ((FigureSixA[['White']] * FigureSevenAND[['White']]) - FigureSevenAND[['White']] - (FigureSixA[['White']] * FigureSevenAD[['White']]))"
   ]
  },
  {
   "cell_type": "code",
   "execution_count": 100,
   "metadata": {},
   "outputs": [
    {
     "data": {
      "text/plain": [
       "<matplotlib.axes._subplots.AxesSubplot at 0x119150320>"
      ]
     },
     "execution_count": 100,
     "metadata": {},
     "output_type": "execute_result"
    },
    {
     "data": {
      "image/png": "[encoded data removed]",
      "text/plain": [
       "<matplotlib.figure.Figure at 0x119150780>"
      ]
     },
     "metadata": {},
     "output_type": "display_data"
    }
   ],
   "source": [
    "pis.plot()"
   ]
  },
  {
   "cell_type": "code",
   "execution_count": 108,
   "metadata": {},
   "outputs": [
    {
     "data": {
      "text/html": [
       "<div>\n",
       "<style>\n",
       "    .dataframe thead tr:only-child th {\n",
       "        text-align: right;\n",
       "    }\n",
       "\n",
       "    .dataframe thead th {\n",
       "        text-align: left;\n",
       "    }\n",
       "\n",
       "    .dataframe tbody tr th {\n",
       "        vertical-align: top;\n",
       "    }\n",
       "</style>\n",
       "<table border=\"1\" class=\"dataframe\">\n",
       "  <thead>\n",
       "    <tr style=\"text-align: right;\">\n",
       "      <th></th>\n",
       "      <th>White</th>\n",
       "    </tr>\n",
       "    <tr>\n",
       "      <th>Score</th>\n",
       "      <th></th>\n",
       "    </tr>\n",
       "  </thead>\n",
       "  <tbody>\n",
       "    <tr>\n",
       "      <th>0.0</th>\n",
       "      <td>NaN</td>\n",
       "    </tr>\n",
       "    <tr>\n",
       "      <th>0.5</th>\n",
       "      <td>1.000000</td>\n",
       "    </tr>\n",
       "    <tr>\n",
       "      <th>1.0</th>\n",
       "      <td>0.780760</td>\n",
       "    </tr>\n",
       "    <tr>\n",
       "      <th>1.5</th>\n",
       "      <td>0.804133</td>\n",
       "    </tr>\n",
       "    <tr>\n",
       "      <th>2.0</th>\n",
       "      <td>0.757152</td>\n",
       "    </tr>\n",
       "  </tbody>\n",
       "</table>\n",
       "</div>"
      ],
      "text/plain": [
       "          White\n",
       "Score          \n",
       "0.0         NaN\n",
       "0.5    1.000000\n",
       "1.0    0.780760\n",
       "1.5    0.804133\n",
       "2.0    0.757152"
      ]
     },
     "execution_count": 108,
     "metadata": {},
     "output_type": "execute_result"
    }
   ],
   "source": [
    "pis.head()"
   ]
  },
  {
   "cell_type": "code",
   "execution_count": 115,
   "metadata": {},
   "outputs": [
    {
     "data": {
      "text/html": [
       "<div>\n",
       "<style>\n",
       "    .dataframe thead tr:only-child th {\n",
       "        text-align: right;\n",
       "    }\n",
       "\n",
       "    .dataframe thead th {\n",
       "        text-align: left;\n",
       "    }\n",
       "\n",
       "    .dataframe tbody tr th {\n",
       "        vertical-align: top;\n",
       "    }\n",
       "</style>\n",
       "<table border=\"1\" class=\"dataframe\">\n",
       "  <thead>\n",
       "    <tr style=\"text-align: right;\">\n",
       "      <th></th>\n",
       "      <th>White</th>\n",
       "    </tr>\n",
       "    <tr>\n",
       "      <th>Score</th>\n",
       "      <th></th>\n",
       "    </tr>\n",
       "  </thead>\n",
       "  <tbody>\n",
       "    <tr>\n",
       "      <th>0.0</th>\n",
       "      <td>0.000000</td>\n",
       "    </tr>\n",
       "    <tr>\n",
       "      <th>0.5</th>\n",
       "      <td>0.786325</td>\n",
       "    </tr>\n",
       "    <tr>\n",
       "      <th>1.0</th>\n",
       "      <td>0.777494</td>\n",
       "    </tr>\n",
       "    <tr>\n",
       "      <th>1.5</th>\n",
       "      <td>0.786885</td>\n",
       "    </tr>\n",
       "    <tr>\n",
       "      <th>2.0</th>\n",
       "      <td>0.774194</td>\n",
       "    </tr>\n",
       "  </tbody>\n",
       "</table>\n",
       "</div>"
      ],
      "text/plain": [
       "          White\n",
       "Score          \n",
       "0.0    0.000000\n",
       "0.5    0.786325\n",
       "1.0    0.777494\n",
       "1.5    0.786885\n",
       "2.0    0.774194"
      ]
     },
     "execution_count": 115,
     "metadata": {},
     "output_type": "execute_result"
    }
   ],
   "source": [
    "tmp = whitePi.to_frame()\n",
    "tmp.columns = ['White']\n",
    "tmp.head()"
   ]
  },
  {
   "cell_type": "code",
   "execution_count": 120,
   "metadata": {},
   "outputs": [
    {
     "data": {
      "text/plain": [
       "(White    0.703125\n",
       " Name: 25.0, dtype: float64, White    0.743002\n",
       " Name: 25.0, dtype: float64)"
      ]
     },
     "execution_count": 120,
     "metadata": {},
     "output_type": "execute_result"
    }
   ],
   "source": [
    "tmp.iloc[50], pis.iloc[50]"
   ]
  },
  {
   "cell_type": "code",
   "execution_count": 123,
   "metadata": {},
   "outputs": [
    {
     "data": {
      "text/plain": [
       "(White    0.733333\n",
       " dtype: float64, White    0.773327\n",
       " dtype: float64)"
      ]
     },
     "execution_count": 123,
     "metadata": {},
     "output_type": "execute_result"
    }
   ],
   "source": [
    "tmp.median(), pis.median()"
   ]
  },
  {
   "cell_type": "code",
   "execution_count": 117,
   "metadata": {},
   "outputs": [
    {
     "name": "stdout",
     "output_type": "stream",
     "text": [
      "White 1608428438370.046\n"
     ]
    }
   ],
   "source": [
    "# for race in [\"White\", \"Black\", \"Hispanic\", \"Asian\"]:\n",
    "print(race, (tmp['White'] - pis['White']).abs().sum())"
   ]
  },
  {
   "cell_type": "code",
   "execution_count": 95,
   "metadata": {},
   "outputs": [],
   "source": [
    "ProbNonDefaultGivenScoreEqualsXAndRace.columns = ['White', 'Black', 'Hispanic', 'Asian']"
   ]
  },
  {
   "cell_type": "code",
   "execution_count": 96,
   "metadata": {},
   "outputs": [
    {
     "data": {
      "text/html": [
       "<div>\n",
       "<style>\n",
       "    .dataframe thead tr:only-child th {\n",
       "        text-align: right;\n",
       "    }\n",
       "\n",
       "    .dataframe thead th {\n",
       "        text-align: left;\n",
       "    }\n",
       "\n",
       "    .dataframe tbody tr th {\n",
       "        vertical-align: top;\n",
       "    }\n",
       "</style>\n",
       "<table border=\"1\" class=\"dataframe\">\n",
       "  <thead>\n",
       "    <tr style=\"text-align: right;\">\n",
       "      <th></th>\n",
       "      <th>White</th>\n",
       "    </tr>\n",
       "    <tr>\n",
       "      <th>Score</th>\n",
       "      <th></th>\n",
       "    </tr>\n",
       "  </thead>\n",
       "  <tbody>\n",
       "    <tr>\n",
       "      <th>0.0</th>\n",
       "      <td>NaN</td>\n",
       "    </tr>\n",
       "    <tr>\n",
       "      <th>0.5</th>\n",
       "      <td>NaN</td>\n",
       "    </tr>\n",
       "    <tr>\n",
       "      <th>1.0</th>\n",
       "      <td>0.796802</td>\n",
       "    </tr>\n",
       "    <tr>\n",
       "      <th>1.5</th>\n",
       "      <td>0.795510</td>\n",
       "    </tr>\n",
       "    <tr>\n",
       "      <th>2.0</th>\n",
       "      <td>0.835083</td>\n",
       "    </tr>\n",
       "    <tr>\n",
       "      <th>2.5</th>\n",
       "      <td>0.849336</td>\n",
       "    </tr>\n",
       "    <tr>\n",
       "      <th>3.0</th>\n",
       "      <td>0.826598</td>\n",
       "    </tr>\n",
       "    <tr>\n",
       "      <th>3.5</th>\n",
       "      <td>0.832097</td>\n",
       "    </tr>\n",
       "    <tr>\n",
       "      <th>4.0</th>\n",
       "      <td>0.814038</td>\n",
       "    </tr>\n",
       "    <tr>\n",
       "      <th>4.5</th>\n",
       "      <td>0.807176</td>\n",
       "    </tr>\n",
       "    <tr>\n",
       "      <th>5.0</th>\n",
       "      <td>0.851775</td>\n",
       "    </tr>\n",
       "    <tr>\n",
       "      <th>5.5</th>\n",
       "      <td>0.849150</td>\n",
       "    </tr>\n",
       "    <tr>\n",
       "      <th>6.0</th>\n",
       "      <td>0.829881</td>\n",
       "    </tr>\n",
       "    <tr>\n",
       "      <th>6.5</th>\n",
       "      <td>0.764108</td>\n",
       "    </tr>\n",
       "    <tr>\n",
       "      <th>7.0</th>\n",
       "      <td>0.861102</td>\n",
       "    </tr>\n",
       "    <tr>\n",
       "      <th>7.5</th>\n",
       "      <td>0.780864</td>\n",
       "    </tr>\n",
       "    <tr>\n",
       "      <th>8.0</th>\n",
       "      <td>0.857586</td>\n",
       "    </tr>\n",
       "    <tr>\n",
       "      <th>8.5</th>\n",
       "      <td>0.788144</td>\n",
       "    </tr>\n",
       "    <tr>\n",
       "      <th>9.0</th>\n",
       "      <td>0.832636</td>\n",
       "    </tr>\n",
       "    <tr>\n",
       "      <th>9.5</th>\n",
       "      <td>0.864120</td>\n",
       "    </tr>\n",
       "    <tr>\n",
       "      <th>10.0</th>\n",
       "      <td>0.885138</td>\n",
       "    </tr>\n",
       "    <tr>\n",
       "      <th>10.5</th>\n",
       "      <td>0.880151</td>\n",
       "    </tr>\n",
       "    <tr>\n",
       "      <th>11.0</th>\n",
       "      <td>0.858322</td>\n",
       "    </tr>\n",
       "    <tr>\n",
       "      <th>11.5</th>\n",
       "      <td>0.826148</td>\n",
       "    </tr>\n",
       "    <tr>\n",
       "      <th>12.0</th>\n",
       "      <td>0.828617</td>\n",
       "    </tr>\n",
       "    <tr>\n",
       "      <th>12.5</th>\n",
       "      <td>0.874646</td>\n",
       "    </tr>\n",
       "    <tr>\n",
       "      <th>13.0</th>\n",
       "      <td>0.864698</td>\n",
       "    </tr>\n",
       "    <tr>\n",
       "      <th>13.5</th>\n",
       "      <td>0.839959</td>\n",
       "    </tr>\n",
       "    <tr>\n",
       "      <th>14.0</th>\n",
       "      <td>0.832465</td>\n",
       "    </tr>\n",
       "    <tr>\n",
       "      <th>14.5</th>\n",
       "      <td>0.825407</td>\n",
       "    </tr>\n",
       "    <tr>\n",
       "      <th>...</th>\n",
       "      <td>...</td>\n",
       "    </tr>\n",
       "    <tr>\n",
       "      <th>85.0</th>\n",
       "      <td>0.984962</td>\n",
       "    </tr>\n",
       "    <tr>\n",
       "      <th>85.5</th>\n",
       "      <td>0.988655</td>\n",
       "    </tr>\n",
       "    <tr>\n",
       "      <th>86.0</th>\n",
       "      <td>0.993488</td>\n",
       "    </tr>\n",
       "    <tr>\n",
       "      <th>86.5</th>\n",
       "      <td>0.988860</td>\n",
       "    </tr>\n",
       "    <tr>\n",
       "      <th>87.0</th>\n",
       "      <td>0.981513</td>\n",
       "    </tr>\n",
       "    <tr>\n",
       "      <th>87.5</th>\n",
       "      <td>0.992889</td>\n",
       "    </tr>\n",
       "    <tr>\n",
       "      <th>88.0</th>\n",
       "      <td>0.985784</td>\n",
       "    </tr>\n",
       "    <tr>\n",
       "      <th>88.5</th>\n",
       "      <td>0.980724</td>\n",
       "    </tr>\n",
       "    <tr>\n",
       "      <th>89.0</th>\n",
       "      <td>0.986882</td>\n",
       "    </tr>\n",
       "    <tr>\n",
       "      <th>89.5</th>\n",
       "      <td>0.989386</td>\n",
       "    </tr>\n",
       "    <tr>\n",
       "      <th>90.0</th>\n",
       "      <td>0.987749</td>\n",
       "    </tr>\n",
       "    <tr>\n",
       "      <th>90.5</th>\n",
       "      <td>0.978996</td>\n",
       "    </tr>\n",
       "    <tr>\n",
       "      <th>91.0</th>\n",
       "      <td>0.972997</td>\n",
       "    </tr>\n",
       "    <tr>\n",
       "      <th>91.5</th>\n",
       "      <td>0.982929</td>\n",
       "    </tr>\n",
       "    <tr>\n",
       "      <th>92.0</th>\n",
       "      <td>0.985288</td>\n",
       "    </tr>\n",
       "    <tr>\n",
       "      <th>93.0</th>\n",
       "      <td>0.987374</td>\n",
       "    </tr>\n",
       "    <tr>\n",
       "      <th>93.5</th>\n",
       "      <td>0.987324</td>\n",
       "    </tr>\n",
       "    <tr>\n",
       "      <th>94.0</th>\n",
       "      <td>0.987359</td>\n",
       "    </tr>\n",
       "    <tr>\n",
       "      <th>94.5</th>\n",
       "      <td>0.983856</td>\n",
       "    </tr>\n",
       "    <tr>\n",
       "      <th>95.0</th>\n",
       "      <td>0.992383</td>\n",
       "    </tr>\n",
       "    <tr>\n",
       "      <th>95.5</th>\n",
       "      <td>0.980532</td>\n",
       "    </tr>\n",
       "    <tr>\n",
       "      <th>96.0</th>\n",
       "      <td>0.992313</td>\n",
       "    </tr>\n",
       "    <tr>\n",
       "      <th>96.5</th>\n",
       "      <td>0.991293</td>\n",
       "    </tr>\n",
       "    <tr>\n",
       "      <th>97.0</th>\n",
       "      <td>0.982953</td>\n",
       "    </tr>\n",
       "    <tr>\n",
       "      <th>97.5</th>\n",
       "      <td>0.981950</td>\n",
       "    </tr>\n",
       "    <tr>\n",
       "      <th>98.0</th>\n",
       "      <td>0.994268</td>\n",
       "    </tr>\n",
       "    <tr>\n",
       "      <th>98.5</th>\n",
       "      <td>0.985940</td>\n",
       "    </tr>\n",
       "    <tr>\n",
       "      <th>99.0</th>\n",
       "      <td>0.991946</td>\n",
       "    </tr>\n",
       "    <tr>\n",
       "      <th>99.5</th>\n",
       "      <td>1.000000</td>\n",
       "    </tr>\n",
       "    <tr>\n",
       "      <th>100.0</th>\n",
       "      <td>1.000000</td>\n",
       "    </tr>\n",
       "  </tbody>\n",
       "</table>\n",
       "<p>198 rows × 1 columns</p>\n",
       "</div>"
      ],
      "text/plain": [
       "          White\n",
       "Score          \n",
       "0.0         NaN\n",
       "0.5         NaN\n",
       "1.0    0.796802\n",
       "1.5    0.795510\n",
       "2.0    0.835083\n",
       "2.5    0.849336\n",
       "3.0    0.826598\n",
       "3.5    0.832097\n",
       "4.0    0.814038\n",
       "4.5    0.807176\n",
       "5.0    0.851775\n",
       "5.5    0.849150\n",
       "6.0    0.829881\n",
       "6.5    0.764108\n",
       "7.0    0.861102\n",
       "7.5    0.780864\n",
       "8.0    0.857586\n",
       "8.5    0.788144\n",
       "9.0    0.832636\n",
       "9.5    0.864120\n",
       "10.0   0.885138\n",
       "10.5   0.880151\n",
       "11.0   0.858322\n",
       "11.5   0.826148\n",
       "12.0   0.828617\n",
       "12.5   0.874646\n",
       "13.0   0.864698\n",
       "13.5   0.839959\n",
       "14.0   0.832465\n",
       "14.5   0.825407\n",
       "...         ...\n",
       "85.0   0.984962\n",
       "85.5   0.988655\n",
       "86.0   0.993488\n",
       "86.5   0.988860\n",
       "87.0   0.981513\n",
       "87.5   0.992889\n",
       "88.0   0.985784\n",
       "88.5   0.980724\n",
       "89.0   0.986882\n",
       "89.5   0.989386\n",
       "90.0   0.987749\n",
       "90.5   0.978996\n",
       "91.0   0.972997\n",
       "91.5   0.982929\n",
       "92.0   0.985288\n",
       "93.0   0.987374\n",
       "93.5   0.987324\n",
       "94.0   0.987359\n",
       "94.5   0.983856\n",
       "95.0   0.992383\n",
       "95.5   0.980532\n",
       "96.0   0.992313\n",
       "96.5   0.991293\n",
       "97.0   0.982953\n",
       "97.5   0.981950\n",
       "98.0   0.994268\n",
       "98.5   0.985940\n",
       "99.0   0.991946\n",
       "99.5   1.000000\n",
       "100.0  1.000000\n",
       "\n",
       "[198 rows x 1 columns]"
      ]
     },
     "execution_count": 96,
     "metadata": {},
     "output_type": "execute_result"
    }
   ],
   "source": [
    "FigureSixA = ProbNonDefaultGivenScoreEqualsXAndRace\n",
    "(-FigureSixA[['White']] * FigureSevenAD[['White']]) / ((FigureSixA[['White']] * FigureSevenAND[['White']]) - FigureSevenAND[['White']] - (FigureSixA[['White']] * FigureSevenAD[['White']]))"
   ]
  },
  {
   "cell_type": "markdown",
   "metadata": {},
   "source": [
    "<hr/>"
   ]
  },
  {
   "cell_type": "markdown",
   "metadata": {},
   "source": [
    "# Calculating P(NonDefault | race) - pi values\n",
    "- Named ProbNonDefaultGivenRace.csv"
   ]
  },
  {
   "cell_type": "code",
   "execution_count": 17,
   "metadata": {
    "collapsed": true
   },
   "outputs": [],
   "source": [
    "def getPisNonCumulative(dataset, raceSet, goodName, badName):\n",
    "    good = dataset.set_index(\"Score\")[goodName].diff().fillna(value=0)\n",
    "    bad = dataset.set_index(\"Score\")[badName].diff().fillna(value=0)\n",
    "    total = raceSet.set_index(\"Score\")[\"Percentage\"].diff().fillna(value=0)\n",
    "    return ((total - bad) / (good - bad)).fillna(value=0)"
   ]
  },
  {
   "cell_type": "code",
   "execution_count": 18,
   "metadata": {
    "collapsed": true
   },
   "outputs": [],
   "source": [
    "# Get the dataframe that holds the cumulative percentage, by demographic group\n",
    "# This function is just for reorganizing the given data\n",
    "def getPD(data, col, raceName):\n",
    "    pd = data[\"Score\"].to_frame(name=\"Score\")\n",
    "    race = np.full(len(data), raceName)\n",
    "    pd[\"Demographic\"] = race\n",
    "    pd[\"Percentage\"] = data[col]\n",
    "    return pd\n",
    "\n",
    "whites = getPD(CumulativePercentageByDemographic, \"White\", \"white\")\n",
    "blacks = getPD(CumulativePercentageByDemographic, \"Black\", \"black\")\n",
    "asians = getPD(CumulativePercentageByDemographic, \"Asian\", \"asian\")\n",
    "hispanics = getPD(CumulativePercentageByDemographic, \"Hispanic\", \"hispanic\")"
   ]
  },
  {
   "cell_type": "code",
   "execution_count": 19,
   "metadata": {
    "collapsed": true
   },
   "outputs": [],
   "source": [
    "whitePi = getPisNonCumulative(CumulativePercentageByDefaulters, whites, \"White (NonDefault)\", \"White (Default)\")\n",
    "blackPi = getPisNonCumulative(CumulativePercentageByDefaulters, blacks, \"Black (NonDefault)\", \"Black (Default)\")\n",
    "asianPi = getPisNonCumulative(CumulativePercentageByDefaulters, asians, \"Asian (NonDefault)\", \"Asian (Default)\")\n",
    "hispanicPi = getPisNonCumulative(CumulativePercentageByDefaulters, hispanics, \"Hispanic (NonDefault)\", \"Hispanic (Default)\")"
   ]
  },
  {
   "cell_type": "code",
   "execution_count": 20,
   "metadata": {},
   "outputs": [
    {
     "data": {
      "text/plain": [
       "(0.77551020408163152,\n",
       " 0.29896907216495305,\n",
       " 0.80645161290323375,\n",
       " 0.54545454545453709)"
      ]
     },
     "execution_count": 20,
     "metadata": {},
     "output_type": "execute_result"
    }
   ],
   "source": [
    "whitePi[50], blackPi[50], asianPi[50], hispanicPi[50]"
   ]
  },
  {
   "cell_type": "code",
   "execution_count": 21,
   "metadata": {
    "collapsed": true
   },
   "outputs": [],
   "source": [
    "# hardcoded pi values to account for rounding error\n",
    "# Right now, if I use the hard coded rounded values I get the closest to the correct solution\n",
    "\n",
    "# old rounded pi values\n",
    "# pis = [0.759185,0.315164,0.550595,0.80066]\n",
    "\n",
    "#new rounded pi values\n",
    "pis = [0.749999,0.329064,0.550595,0.80066]\n",
    "\n",
    "# These are the real values\n",
    "# pis = [whitePi[50], blackPi[50], hispanicPi[50], asianPi[50]]\n",
    "ProbNonDefaultGivenRace = pd.DataFrame(data=[pis], columns=['white', 'black', 'hispanic', 'asian'])\n",
    "ProbNonDefaultGivenRace.set_index(\"white\").to_csv(\"ProbNonDefaultGivenRace.csv\")"
   ]
  },
  {
   "cell_type": "markdown",
   "metadata": {},
   "source": [
    "<hr/>"
   ]
  },
  {
   "cell_type": "markdown",
   "metadata": {},
   "source": [
    "# Calculating P(NonDefault | Score=x, race) and P(Default | Score=x, race)"
   ]
  },
  {
   "cell_type": "markdown",
   "metadata": {},
   "source": [
    "<h2 align='center'>$\\frac{pi * P(Score=x | NonDefault)}{pi * P(Score=x|NonDefault) + (1-pi) * P(Score=x | Default)}$</h2>\n",
    "- from our discussion / email about Bayes' Rule on April 10th\n",
    "- CumulativePercentageByDefaulters (from Figure 7A) gives us P(Score>=x | NonDefault) and P(Score>=x | Default).\n",
    "- https://www.federalreserve.gov/boarddocs/rptcongress/creditscore/figtables7.htm#d7A\n",
    "- Using diff(), we can obtain P(Score=x|NonDefault) and P(Score=x|Default).\n",
    "- Together, with the pi values calculated above. We have the necessary requirements to calculate P(NonDefault | Score=x)"
   ]
  },
  {
   "cell_type": "code",
   "execution_count": null,
   "metadata": {
    "collapsed": true
   },
   "outputs": [],
   "source": [
    "def getPiFromProbNonDefaultGivenScoreEqualsX(dataset, names):\n",
    "    "
   ]
  },
  {
   "cell_type": "code",
   "execution_count": 27,
   "metadata": {
    "collapsed": true
   },
   "outputs": [],
   "source": [
    "def getProbDefOrNotGivenScoreEqualsX(dataset, names, pis):\n",
    "    probabilities = pd.DataFrame(index=dataset.index)\n",
    "    for i in range(len(names)):\n",
    "        nonDefault = dataset[names[i] + ' (NonDefault)'].diff().fillna(value=0)\n",
    "        default = dataset[names[i] + ' (Default)'].diff().fillna(value=0)\n",
    "        finalProbability = (\n",
    "            (pis[i] * nonDefault) / ((pis[i] * nonDefault) + ((1 - pis[i])*(default))))\n",
    "        probabilities['P(NonDefault|Score=x, ' + names[i] + ')'] = finalProbability.fillna(value=0)\n",
    "        probabilities['P(Default|Score=x, ' + names[i] + ')'] = (1 - finalProbability.fillna(value=0))\n",
    "    probabilities['Score'] = dataset.index\n",
    "    return probabilities.set_index('Score')"
   ]
  },
  {
   "cell_type": "code",
   "execution_count": 28,
   "metadata": {
    "collapsed": true
   },
   "outputs": [],
   "source": [
    "ProbDefOrNotGivenScoreEqualsXAndRace = getProbDefOrNotGivenScoreEqualsX(\n",
    "    CumulativePercentageByDefaulters.set_index('Score'),\n",
    "    [\"White\", \"Black\", \"Hispanic\", \"Asian\"],\n",
    "    pis)"
   ]
  },
  {
   "cell_type": "code",
   "execution_count": 29,
   "metadata": {},
   "outputs": [
    {
     "data": {
      "text/html": [
       "<div>\n",
       "<style>\n",
       "    .dataframe thead tr:only-child th {\n",
       "        text-align: right;\n",
       "    }\n",
       "\n",
       "    .dataframe thead th {\n",
       "        text-align: left;\n",
       "    }\n",
       "\n",
       "    .dataframe tbody tr th {\n",
       "        vertical-align: top;\n",
       "    }\n",
       "</style>\n",
       "<table border=\"1\" class=\"dataframe\">\n",
       "  <thead>\n",
       "    <tr style=\"text-align: right;\">\n",
       "      <th></th>\n",
       "      <th>P(NonDefault|Score=x, White)</th>\n",
       "      <th>P(Default|Score=x, White)</th>\n",
       "      <th>P(NonDefault|Score=x, Black)</th>\n",
       "      <th>P(Default|Score=x, Black)</th>\n",
       "      <th>P(NonDefault|Score=x, Hispanic)</th>\n",
       "      <th>P(Default|Score=x, Hispanic)</th>\n",
       "      <th>P(NonDefault|Score=x, Asian)</th>\n",
       "      <th>P(Default|Score=x, Asian)</th>\n",
       "    </tr>\n",
       "    <tr>\n",
       "      <th>Score</th>\n",
       "      <th></th>\n",
       "      <th></th>\n",
       "      <th></th>\n",
       "      <th></th>\n",
       "      <th></th>\n",
       "      <th></th>\n",
       "      <th></th>\n",
       "      <th></th>\n",
       "    </tr>\n",
       "  </thead>\n",
       "  <tbody>\n",
       "    <tr>\n",
       "      <th>0.0</th>\n",
       "      <td>0.000000</td>\n",
       "      <td>1.000000</td>\n",
       "      <td>0.000000</td>\n",
       "      <td>1.000000</td>\n",
       "      <td>0.000000</td>\n",
       "      <td>1.000000</td>\n",
       "      <td>0.000000</td>\n",
       "      <td>1.000000</td>\n",
       "    </tr>\n",
       "    <tr>\n",
       "      <th>0.5</th>\n",
       "      <td>0.000000</td>\n",
       "      <td>1.000000</td>\n",
       "      <td>0.005191</td>\n",
       "      <td>0.994809</td>\n",
       "      <td>0.021042</td>\n",
       "      <td>0.978958</td>\n",
       "      <td>0.000000</td>\n",
       "      <td>1.000000</td>\n",
       "    </tr>\n",
       "    <tr>\n",
       "      <th>1.0</th>\n",
       "      <td>0.022332</td>\n",
       "      <td>0.977668</td>\n",
       "      <td>0.025054</td>\n",
       "      <td>0.974946</td>\n",
       "      <td>0.011400</td>\n",
       "      <td>0.988600</td>\n",
       "      <td>0.058622</td>\n",
       "      <td>0.941378</td>\n",
       "    </tr>\n",
       "    <tr>\n",
       "      <th>1.5</th>\n",
       "      <td>0.023809</td>\n",
       "      <td>0.976191</td>\n",
       "      <td>0.021218</td>\n",
       "      <td>0.978782</td>\n",
       "      <td>0.000000</td>\n",
       "      <td>1.000000</td>\n",
       "      <td>0.000000</td>\n",
       "      <td>1.000000</td>\n",
       "    </tr>\n",
       "    <tr>\n",
       "      <th>2.0</th>\n",
       "      <td>0.036810</td>\n",
       "      <td>0.963190</td>\n",
       "      <td>0.023518</td>\n",
       "      <td>0.976482</td>\n",
       "      <td>0.025943</td>\n",
       "      <td>0.974057</td>\n",
       "      <td>0.101215</td>\n",
       "      <td>0.898785</td>\n",
       "    </tr>\n",
       "  </tbody>\n",
       "</table>\n",
       "</div>"
      ],
      "text/plain": [
       "       P(NonDefault|Score=x, White)  P(Default|Score=x, White)  \\\n",
       "Score                                                            \n",
       "0.0                        0.000000                   1.000000   \n",
       "0.5                        0.000000                   1.000000   \n",
       "1.0                        0.022332                   0.977668   \n",
       "1.5                        0.023809                   0.976191   \n",
       "2.0                        0.036810                   0.963190   \n",
       "\n",
       "       P(NonDefault|Score=x, Black)  P(Default|Score=x, Black)  \\\n",
       "Score                                                            \n",
       "0.0                        0.000000                   1.000000   \n",
       "0.5                        0.005191                   0.994809   \n",
       "1.0                        0.025054                   0.974946   \n",
       "1.5                        0.021218                   0.978782   \n",
       "2.0                        0.023518                   0.976482   \n",
       "\n",
       "       P(NonDefault|Score=x, Hispanic)  P(Default|Score=x, Hispanic)  \\\n",
       "Score                                                                  \n",
       "0.0                           0.000000                      1.000000   \n",
       "0.5                           0.021042                      0.978958   \n",
       "1.0                           0.011400                      0.988600   \n",
       "1.5                           0.000000                      1.000000   \n",
       "2.0                           0.025943                      0.974057   \n",
       "\n",
       "       P(NonDefault|Score=x, Asian)  P(Default|Score=x, Asian)  \n",
       "Score                                                           \n",
       "0.0                        0.000000                   1.000000  \n",
       "0.5                        0.000000                   1.000000  \n",
       "1.0                        0.058622                   0.941378  \n",
       "1.5                        0.000000                   1.000000  \n",
       "2.0                        0.101215                   0.898785  "
      ]
     },
     "execution_count": 29,
     "metadata": {},
     "output_type": "execute_result"
    }
   ],
   "source": [
    "ProbDefOrNotGivenScoreEqualsXAndRace.head()"
   ]
  },
  {
   "cell_type": "markdown",
   "metadata": {},
   "source": [
    "<hr/>"
   ]
  },
  {
   "cell_type": "markdown",
   "metadata": {},
   "source": [
    "# Creating P(race)\n",
    "- taken from Table 9. \n",
    "- https://www.federalreserve.gov/boarddocs/rptcongress/creditscore/datamodel_tables.htm"
   ]
  },
  {
   "cell_type": "code",
   "execution_count": 30,
   "metadata": {
    "collapsed": true
   },
   "outputs": [],
   "source": [
    "sizes = [133165, 18274, 14702, 7906]\n",
    "total = sum(sizes)\n",
    "ProbOfBeingRace = pd.DataFrame(\n",
    "    { \n",
    "    'Demographic' : ['white', 'black', 'hispanic', 'asian'],\n",
    "    'P(race)' : [sizes[0]/total, sizes[1]/total, sizes[2]/total, sizes[3]/total]\n",
    "    },\n",
    "    columns=[\"Demographic\", \"P(race)\"]\n",
    ")\n",
    "\n",
    "ProbOfBeingRace.set_index('Demographic').to_csv('ProbOfBeingRace.csv')"
   ]
  },
  {
   "cell_type": "markdown",
   "metadata": {},
   "source": [
    "<hr/>"
   ]
  },
  {
   "cell_type": "markdown",
   "metadata": {},
   "source": [
    "# Creating P(Score=x | race)\n",
    "- taken from Table 3A. \n",
    "- https://www.federalreserve.gov/boarddocs/rptcongress/creditscore/figtables3.htm#d3A\n",
    "- using the diff values"
   ]
  },
  {
   "cell_type": "code",
   "execution_count": 31,
   "metadata": {
    "collapsed": true
   },
   "outputs": [],
   "source": [
    "# used to be ProbOfBeingScore\n",
    "# I'll give them this in a csv\n",
    "ProbScoreEqualsXGivenRace = (\n",
    "    pd.read_csv(\"figure3A.csv\")\n",
    "    .set_index([\"Score\"]).diff().fillna(0) / 100\n",
    ")\n",
    "\n",
    "ProbScoreEqualsXGivenRace.to_csv('ProbScoreEqualsXGivenRace.csv')"
   ]
  },
  {
   "cell_type": "code",
   "execution_count": 32,
   "metadata": {},
   "outputs": [
    {
     "data": {
      "text/html": [
       "<div>\n",
       "<style>\n",
       "    .dataframe thead tr:only-child th {\n",
       "        text-align: right;\n",
       "    }\n",
       "\n",
       "    .dataframe thead th {\n",
       "        text-align: left;\n",
       "    }\n",
       "\n",
       "    .dataframe tbody tr th {\n",
       "        vertical-align: top;\n",
       "    }\n",
       "</style>\n",
       "<table border=\"1\" class=\"dataframe\">\n",
       "  <thead>\n",
       "    <tr style=\"text-align: right;\">\n",
       "      <th></th>\n",
       "      <th>White</th>\n",
       "      <th>Black</th>\n",
       "      <th>Hispanic</th>\n",
       "      <th>Asian</th>\n",
       "    </tr>\n",
       "    <tr>\n",
       "      <th>Score</th>\n",
       "      <th></th>\n",
       "      <th></th>\n",
       "      <th></th>\n",
       "      <th></th>\n",
       "    </tr>\n",
       "  </thead>\n",
       "  <tbody>\n",
       "    <tr>\n",
       "      <th>0.0</th>\n",
       "      <td>0.0000</td>\n",
       "      <td>0.0000</td>\n",
       "      <td>0.0000</td>\n",
       "      <td>0.0000</td>\n",
       "    </tr>\n",
       "    <tr>\n",
       "      <th>0.5</th>\n",
       "      <td>0.0025</td>\n",
       "      <td>0.0112</td>\n",
       "      <td>0.0046</td>\n",
       "      <td>0.0013</td>\n",
       "    </tr>\n",
       "    <tr>\n",
       "      <th>1.0</th>\n",
       "      <td>0.0090</td>\n",
       "      <td>0.0414</td>\n",
       "      <td>0.0175</td>\n",
       "      <td>0.0075</td>\n",
       "    </tr>\n",
       "    <tr>\n",
       "      <th>1.5</th>\n",
       "      <td>0.0027</td>\n",
       "      <td>0.0114</td>\n",
       "      <td>0.0052</td>\n",
       "      <td>0.0019</td>\n",
       "    </tr>\n",
       "    <tr>\n",
       "      <th>2.0</th>\n",
       "      <td>0.0037</td>\n",
       "      <td>0.0142</td>\n",
       "      <td>0.0075</td>\n",
       "      <td>0.0025</td>\n",
       "    </tr>\n",
       "  </tbody>\n",
       "</table>\n",
       "</div>"
      ],
      "text/plain": [
       "        White   Black  Hispanic   Asian\n",
       "Score                                  \n",
       "0.0    0.0000  0.0000    0.0000  0.0000\n",
       "0.5    0.0025  0.0112    0.0046  0.0013\n",
       "1.0    0.0090  0.0414    0.0175  0.0075\n",
       "1.5    0.0027  0.0114    0.0052  0.0019\n",
       "2.0    0.0037  0.0142    0.0075  0.0025"
      ]
     },
     "execution_count": 32,
     "metadata": {},
     "output_type": "execute_result"
    }
   ],
   "source": [
    "ProbScoreEqualsXGivenRace.head()"
   ]
  },
  {
   "cell_type": "code",
   "execution_count": 33,
   "metadata": {},
   "outputs": [
    {
     "name": "stdout",
     "output_type": "stream",
     "text": [
      "White 5.692061405548898e-17\n",
      "Black 4.7488055154865094e-17\n",
      "Hispanic 5.800481622797449e-17\n",
      "Asian 5.117434254131581e-17\n"
     ]
    }
   ],
   "source": [
    "# Cross checking to ensure it matches the old dataset from the calculations done in the winter\n",
    "ProbFromOther = pd.read_csv('ProbScoreEqualsXGivenRace-old.csv').set_index(\"TransRisk Score\")\n",
    "ProbFromOther.index.names = [\"Score\"]\n",
    "\n",
    "for race in [\"White\", \"Black\", \"Hispanic\", \"Asian\"]:\n",
    "    print(race, (ProbFromOther[race.lower()] - ProbScoreEqualsXGivenRace[race]).abs().sum())"
   ]
  },
  {
   "cell_type": "markdown",
   "metadata": {},
   "source": [
    "<hr/>"
   ]
  },
  {
   "cell_type": "markdown",
   "metadata": {},
   "source": [
    "# Calculating P(score=x | NonDefault, race)"
   ]
  },
  {
   "cell_type": "markdown",
   "metadata": {},
   "source": [
    "### P(score=x | NonDefault, race) = P(score=x & NonDefault & race) / P(NonDefault and race)\n",
    "<hr/>\n",
    "### Step 1:\n",
    "### P(score=x & NonDefault & race ) = P(race & score=x) * P(NonDefault | race, score=x)\n",
    "###  P(score=x & NonDefault & race ) = P(race) * P(score=x | race) * P(NonDefault | race, score=x)\n",
    "<hr/>\n",
    "### Step 2:\n",
    "### P(NonDefault and race) = P(race) * P(NonDefault | race)\n",
    "<hr/>\n",
    "### Step 3:\n",
    "### Step 1 / Step2\n",
    "### P(score=x | NonDefault, race) = P(score=x & NonDefault & race) / P(NonDefault and race)\n",
    "<hr/>"
   ]
  },
  {
   "cell_type": "markdown",
   "metadata": {},
   "source": [
    "## Step 1: Calculate P(Score=x & NonDefault & race)"
   ]
  },
  {
   "cell_type": "code",
   "execution_count": 34,
   "metadata": {
    "collapsed": true
   },
   "outputs": [],
   "source": [
    "ProbOfBeingRace.set_index('Demographic', inplace=True)"
   ]
  },
  {
   "cell_type": "code",
   "execution_count": 35,
   "metadata": {},
   "outputs": [
    {
     "data": {
      "text/html": [
       "<div>\n",
       "<style>\n",
       "    .dataframe thead tr:only-child th {\n",
       "        text-align: right;\n",
       "    }\n",
       "\n",
       "    .dataframe thead th {\n",
       "        text-align: left;\n",
       "    }\n",
       "\n",
       "    .dataframe tbody tr th {\n",
       "        vertical-align: top;\n",
       "    }\n",
       "</style>\n",
       "<table border=\"1\" class=\"dataframe\">\n",
       "  <thead>\n",
       "    <tr style=\"text-align: right;\">\n",
       "      <th></th>\n",
       "      <th>White</th>\n",
       "      <th>Black</th>\n",
       "      <th>Hispanic</th>\n",
       "      <th>Asian</th>\n",
       "    </tr>\n",
       "    <tr>\n",
       "      <th>Score</th>\n",
       "      <th></th>\n",
       "      <th></th>\n",
       "      <th></th>\n",
       "      <th></th>\n",
       "    </tr>\n",
       "  </thead>\n",
       "  <tbody>\n",
       "    <tr>\n",
       "      <th>0.0</th>\n",
       "      <td>0.0000</td>\n",
       "      <td>0.0000</td>\n",
       "      <td>0.0000</td>\n",
       "      <td>0.0000</td>\n",
       "    </tr>\n",
       "    <tr>\n",
       "      <th>0.5</th>\n",
       "      <td>0.0025</td>\n",
       "      <td>0.0112</td>\n",
       "      <td>0.0046</td>\n",
       "      <td>0.0013</td>\n",
       "    </tr>\n",
       "    <tr>\n",
       "      <th>1.0</th>\n",
       "      <td>0.0090</td>\n",
       "      <td>0.0414</td>\n",
       "      <td>0.0175</td>\n",
       "      <td>0.0075</td>\n",
       "    </tr>\n",
       "    <tr>\n",
       "      <th>1.5</th>\n",
       "      <td>0.0027</td>\n",
       "      <td>0.0114</td>\n",
       "      <td>0.0052</td>\n",
       "      <td>0.0019</td>\n",
       "    </tr>\n",
       "    <tr>\n",
       "      <th>2.0</th>\n",
       "      <td>0.0037</td>\n",
       "      <td>0.0142</td>\n",
       "      <td>0.0075</td>\n",
       "      <td>0.0025</td>\n",
       "    </tr>\n",
       "  </tbody>\n",
       "</table>\n",
       "</div>"
      ],
      "text/plain": [
       "        White   Black  Hispanic   Asian\n",
       "Score                                  \n",
       "0.0    0.0000  0.0000    0.0000  0.0000\n",
       "0.5    0.0025  0.0112    0.0046  0.0013\n",
       "1.0    0.0090  0.0414    0.0175  0.0075\n",
       "1.5    0.0027  0.0114    0.0052  0.0019\n",
       "2.0    0.0037  0.0142    0.0075  0.0025"
      ]
     },
     "execution_count": 35,
     "metadata": {},
     "output_type": "execute_result"
    }
   ],
   "source": [
    "ProbScoreEqualsXGivenRace.head()"
   ]
  },
  {
   "cell_type": "code",
   "execution_count": 36,
   "metadata": {
    "collapsed": true
   },
   "outputs": [],
   "source": [
    "ProbRaceAndScoreEqualsX = pd.DataFrame({\n",
    "    'white': ProbOfBeingRace.loc['white']['P(race)'] * ProbScoreEqualsXGivenRace['White'],\n",
    "    'asian': ProbOfBeingRace.loc['asian']['P(race)'] * ProbScoreEqualsXGivenRace['Asian'],\n",
    "    'black': ProbOfBeingRace.loc['black']['P(race)'] * ProbScoreEqualsXGivenRace['Black'],\n",
    "    'hispanic': ProbOfBeingRace.loc['hispanic']['P(race)'] * ProbScoreEqualsXGivenRace['Hispanic'],\n",
    "})"
   ]
  },
  {
   "cell_type": "code",
   "execution_count": 37,
   "metadata": {},
   "outputs": [
    {
     "name": "stdout",
     "output_type": "stream",
     "text": [
      "white 3.5344990823027445e-17\n",
      "black 5.89534931288993e-18\n",
      "hispanic 4.929731753020028e-18\n",
      "asian 2.778268066994105e-18\n"
     ]
    }
   ],
   "source": [
    "# Cross checking to ensure it matches the old dataset from the calculations done in the winter\n",
    "ProbFromOther = pd.read_csv('ProbRaceAndScoreEqualsX.csv').set_index(\"TransRisk Score\")\n",
    "ProbFromOther.index.names = [\"Score\"]\n",
    "for race in [\"white\", \"black\", \"hispanic\", \"asian\"]:\n",
    "    print(race, (ProbFromOther[race.lower()] - ProbRaceAndScoreEqualsX[race]).abs().sum())"
   ]
  },
  {
   "cell_type": "code",
   "execution_count": 38,
   "metadata": {
    "collapsed": true
   },
   "outputs": [],
   "source": [
    "ProbNonDefaultGivenScoreEqualsXAndRace = (\n",
    "    ProbDefOrNotGivenScoreEqualsXAndRace[['P(NonDefault|Score=x, White)', \n",
    "                                 'P(NonDefault|Score=x, Black)',\n",
    "                                'P(NonDefault|Score=x, Hispanic)',\n",
    "                                'P(NonDefault|Score=x, Asian)']])"
   ]
  },
  {
   "cell_type": "code",
   "execution_count": 39,
   "metadata": {},
   "outputs": [
    {
     "data": {
      "text/html": [
       "<div>\n",
       "<style>\n",
       "    .dataframe thead tr:only-child th {\n",
       "        text-align: right;\n",
       "    }\n",
       "\n",
       "    .dataframe thead th {\n",
       "        text-align: left;\n",
       "    }\n",
       "\n",
       "    .dataframe tbody tr th {\n",
       "        vertical-align: top;\n",
       "    }\n",
       "</style>\n",
       "<table border=\"1\" class=\"dataframe\">\n",
       "  <thead>\n",
       "    <tr style=\"text-align: right;\">\n",
       "      <th></th>\n",
       "      <th>P(NonDefault|Score=x, White)</th>\n",
       "      <th>P(NonDefault|Score=x, Black)</th>\n",
       "      <th>P(NonDefault|Score=x, Hispanic)</th>\n",
       "      <th>P(NonDefault|Score=x, Asian)</th>\n",
       "    </tr>\n",
       "    <tr>\n",
       "      <th>Score</th>\n",
       "      <th></th>\n",
       "      <th></th>\n",
       "      <th></th>\n",
       "      <th></th>\n",
       "    </tr>\n",
       "  </thead>\n",
       "  <tbody>\n",
       "    <tr>\n",
       "      <th>0.0</th>\n",
       "      <td>0.000000</td>\n",
       "      <td>0.000000</td>\n",
       "      <td>0.000000</td>\n",
       "      <td>0.000000</td>\n",
       "    </tr>\n",
       "    <tr>\n",
       "      <th>0.5</th>\n",
       "      <td>0.000000</td>\n",
       "      <td>0.005191</td>\n",
       "      <td>0.021042</td>\n",
       "      <td>0.000000</td>\n",
       "    </tr>\n",
       "    <tr>\n",
       "      <th>1.0</th>\n",
       "      <td>0.022332</td>\n",
       "      <td>0.025054</td>\n",
       "      <td>0.011400</td>\n",
       "      <td>0.058622</td>\n",
       "    </tr>\n",
       "    <tr>\n",
       "      <th>1.5</th>\n",
       "      <td>0.023809</td>\n",
       "      <td>0.021218</td>\n",
       "      <td>0.000000</td>\n",
       "      <td>0.000000</td>\n",
       "    </tr>\n",
       "    <tr>\n",
       "      <th>2.0</th>\n",
       "      <td>0.036810</td>\n",
       "      <td>0.023518</td>\n",
       "      <td>0.025943</td>\n",
       "      <td>0.101215</td>\n",
       "    </tr>\n",
       "  </tbody>\n",
       "</table>\n",
       "</div>"
      ],
      "text/plain": [
       "       P(NonDefault|Score=x, White)  P(NonDefault|Score=x, Black)  \\\n",
       "Score                                                               \n",
       "0.0                        0.000000                      0.000000   \n",
       "0.5                        0.000000                      0.005191   \n",
       "1.0                        0.022332                      0.025054   \n",
       "1.5                        0.023809                      0.021218   \n",
       "2.0                        0.036810                      0.023518   \n",
       "\n",
       "       P(NonDefault|Score=x, Hispanic)  P(NonDefault|Score=x, Asian)  \n",
       "Score                                                                 \n",
       "0.0                           0.000000                      0.000000  \n",
       "0.5                           0.021042                      0.000000  \n",
       "1.0                           0.011400                      0.058622  \n",
       "1.5                           0.000000                      0.000000  \n",
       "2.0                           0.025943                      0.101215  "
      ]
     },
     "execution_count": 39,
     "metadata": {},
     "output_type": "execute_result"
    }
   ],
   "source": [
    "ProbNonDefaultGivenScoreEqualsXAndRace.head()"
   ]
  },
  {
   "cell_type": "code",
   "execution_count": 40,
   "metadata": {},
   "outputs": [
    {
     "data": {
      "text/html": [
       "<div>\n",
       "<style>\n",
       "    .dataframe thead tr:only-child th {\n",
       "        text-align: right;\n",
       "    }\n",
       "\n",
       "    .dataframe thead th {\n",
       "        text-align: left;\n",
       "    }\n",
       "\n",
       "    .dataframe tbody tr th {\n",
       "        vertical-align: top;\n",
       "    }\n",
       "</style>\n",
       "<table border=\"1\" class=\"dataframe\">\n",
       "  <thead>\n",
       "    <tr style=\"text-align: right;\">\n",
       "      <th></th>\n",
       "      <th>P(Score=x and NonDefault and White)</th>\n",
       "      <th>P(Score=x and NonDefault and Black)</th>\n",
       "      <th>P(Score=x and NonDefault and Hispanic)</th>\n",
       "      <th>P(Score=x and NonDefault and Asian)</th>\n",
       "    </tr>\n",
       "    <tr>\n",
       "      <th>Score</th>\n",
       "      <th></th>\n",
       "      <th></th>\n",
       "      <th></th>\n",
       "      <th></th>\n",
       "    </tr>\n",
       "  </thead>\n",
       "  <tbody>\n",
       "    <tr>\n",
       "      <th>0.0</th>\n",
       "      <td>0.000000</td>\n",
       "      <td>0.000000</td>\n",
       "      <td>0.000000</td>\n",
       "      <td>0.000000</td>\n",
       "    </tr>\n",
       "    <tr>\n",
       "      <th>0.5</th>\n",
       "      <td>0.000000</td>\n",
       "      <td>0.000006</td>\n",
       "      <td>0.000008</td>\n",
       "      <td>0.000000</td>\n",
       "    </tr>\n",
       "    <tr>\n",
       "      <th>1.0</th>\n",
       "      <td>0.000154</td>\n",
       "      <td>0.000109</td>\n",
       "      <td>0.000017</td>\n",
       "      <td>0.000020</td>\n",
       "    </tr>\n",
       "    <tr>\n",
       "      <th>1.5</th>\n",
       "      <td>0.000049</td>\n",
       "      <td>0.000025</td>\n",
       "      <td>0.000000</td>\n",
       "      <td>0.000000</td>\n",
       "    </tr>\n",
       "    <tr>\n",
       "      <th>2.0</th>\n",
       "      <td>0.000104</td>\n",
       "      <td>0.000035</td>\n",
       "      <td>0.000016</td>\n",
       "      <td>0.000011</td>\n",
       "    </tr>\n",
       "  </tbody>\n",
       "</table>\n",
       "</div>"
      ],
      "text/plain": [
       "       P(Score=x and NonDefault and White)  \\\n",
       "Score                                        \n",
       "0.0                               0.000000   \n",
       "0.5                               0.000000   \n",
       "1.0                               0.000154   \n",
       "1.5                               0.000049   \n",
       "2.0                               0.000104   \n",
       "\n",
       "       P(Score=x and NonDefault and Black)  \\\n",
       "Score                                        \n",
       "0.0                               0.000000   \n",
       "0.5                               0.000006   \n",
       "1.0                               0.000109   \n",
       "1.5                               0.000025   \n",
       "2.0                               0.000035   \n",
       "\n",
       "       P(Score=x and NonDefault and Hispanic)  \\\n",
       "Score                                           \n",
       "0.0                                  0.000000   \n",
       "0.5                                  0.000008   \n",
       "1.0                                  0.000017   \n",
       "1.5                                  0.000000   \n",
       "2.0                                  0.000016   \n",
       "\n",
       "       P(Score=x and NonDefault and Asian)  \n",
       "Score                                       \n",
       "0.0                               0.000000  \n",
       "0.5                               0.000000  \n",
       "1.0                               0.000020  \n",
       "1.5                               0.000000  \n",
       "2.0                               0.000011  "
      ]
     },
     "execution_count": 40,
     "metadata": {},
     "output_type": "execute_result"
    }
   ],
   "source": [
    "ProbScoreEqualsXAndGoodAndRace = pd.DataFrame(index=ProbRaceAndScoreEqualsX.index)\n",
    "ProbScoreEqualsXAndGoodAndRace['P(Score=x and NonDefault and White)'] = (\n",
    "    ProbRaceAndScoreEqualsX['white'] * ProbNonDefaultGivenScoreEqualsXAndRace['P(NonDefault|Score=x, White)'])\n",
    "ProbScoreEqualsXAndGoodAndRace['P(Score=x and NonDefault and Black)'] = (\n",
    "    ProbRaceAndScoreEqualsX['black'] * ProbNonDefaultGivenScoreEqualsXAndRace['P(NonDefault|Score=x, Black)'])\n",
    "ProbScoreEqualsXAndGoodAndRace['P(Score=x and NonDefault and Hispanic)'] = (\n",
    "    ProbRaceAndScoreEqualsX['hispanic'] * ProbNonDefaultGivenScoreEqualsXAndRace['P(NonDefault|Score=x, Hispanic)'])\n",
    "ProbScoreEqualsXAndGoodAndRace['P(Score=x and NonDefault and Asian)'] = (\n",
    "    ProbRaceAndScoreEqualsX['asian'] * ProbNonDefaultGivenScoreEqualsXAndRace['P(NonDefault|Score=x, Asian)'])\n",
    "# i'll give them this in a csv I think\n",
    "ProbScoreEqualsXAndGoodAndRace.head()"
   ]
  },
  {
   "cell_type": "code",
   "execution_count": 41,
   "metadata": {
    "collapsed": true
   },
   "outputs": [],
   "source": [
    "# this column renaming is here just here for comparisons with the old data frames right now\n",
    "ProbScoreEqualsXAndGoodAndRace.columns=['white', 'black', 'hispanic', 'asian']\n",
    "ProbNonDefaultGivenScoreEqualsXAndRace.columns=['white', 'black', 'hispanic', 'asian']"
   ]
  },
  {
   "cell_type": "code",
   "execution_count": 42,
   "metadata": {},
   "outputs": [
    {
     "name": "stdout",
     "output_type": "stream",
     "text": [
      "white 2.5885872268751196\n",
      "black 3.045147395643465\n",
      "hispanic 0.435021444073187\n",
      "asian 0.6736285216007927\n"
     ]
    }
   ],
   "source": [
    "# Cross checking to ensure it matches the old dataset from the calculations done in the winter\n",
    "# This one is going to differ because the old datasets used the rounded pi values for half of the \n",
    "# calculations and the real pi values for the rest of them. Here is where the differences begin.\n",
    "ProbFromOther = pd.read_csv(\"ProbGoodGivenRaceAndScoreEqualsX.csv\").set_index(\"TransRisk Score\")\n",
    "ProbFromOther.index.names = [\"Score\"]\n",
    "for race in [\"white\", \"black\", \"hispanic\", \"asian\"]:\n",
    "    print(race, (ProbFromOther[race] - ProbNonDefaultGivenScoreEqualsXAndRace[race]).abs().sum())"
   ]
  },
  {
   "cell_type": "code",
   "execution_count": 51,
   "metadata": {},
   "outputs": [
    {
     "data": {
      "text/html": [
       "<div>\n",
       "<style>\n",
       "    .dataframe thead tr:only-child th {\n",
       "        text-align: right;\n",
       "    }\n",
       "\n",
       "    .dataframe thead th {\n",
       "        text-align: left;\n",
       "    }\n",
       "\n",
       "    .dataframe tbody tr th {\n",
       "        vertical-align: top;\n",
       "    }\n",
       "</style>\n",
       "<table border=\"1\" class=\"dataframe\">\n",
       "  <thead>\n",
       "    <tr style=\"text-align: right;\">\n",
       "      <th></th>\n",
       "      <th>White</th>\n",
       "      <th>Black</th>\n",
       "      <th>Hispanic</th>\n",
       "      <th>Asian</th>\n",
       "    </tr>\n",
       "    <tr>\n",
       "      <th>TransRisk Score</th>\n",
       "      <th></th>\n",
       "      <th></th>\n",
       "      <th></th>\n",
       "      <th></th>\n",
       "    </tr>\n",
       "  </thead>\n",
       "  <tbody>\n",
       "    <tr>\n",
       "      <th>0.0</th>\n",
       "      <td>0.0146</td>\n",
       "      <td>0.0033</td>\n",
       "      <td>0.0095</td>\n",
       "      <td>0.0523</td>\n",
       "    </tr>\n",
       "    <tr>\n",
       "      <th>0.5</th>\n",
       "      <td>0.0205</td>\n",
       "      <td>0.0077</td>\n",
       "      <td>0.0151</td>\n",
       "      <td>0.0552</td>\n",
       "    </tr>\n",
       "    <tr>\n",
       "      <th>1.0</th>\n",
       "      <td>0.0264</td>\n",
       "      <td>0.0120</td>\n",
       "      <td>0.0207</td>\n",
       "      <td>0.0581</td>\n",
       "    </tr>\n",
       "    <tr>\n",
       "      <th>1.5</th>\n",
       "      <td>0.0323</td>\n",
       "      <td>0.0164</td>\n",
       "      <td>0.0262</td>\n",
       "      <td>0.0610</td>\n",
       "    </tr>\n",
       "    <tr>\n",
       "      <th>2.0</th>\n",
       "      <td>0.0382</td>\n",
       "      <td>0.0207</td>\n",
       "      <td>0.0318</td>\n",
       "      <td>0.0639</td>\n",
       "    </tr>\n",
       "  </tbody>\n",
       "</table>\n",
       "</div>"
      ],
      "text/plain": [
       "                  White   Black  Hispanic   Asian\n",
       "TransRisk Score                                  \n",
       "0.0              0.0146  0.0033    0.0095  0.0523\n",
       "0.5              0.0205  0.0077    0.0151  0.0552\n",
       "1.0              0.0264  0.0120    0.0207  0.0581\n",
       "1.5              0.0323  0.0164    0.0262  0.0610\n",
       "2.0              0.0382  0.0207    0.0318  0.0639"
      ]
     },
     "execution_count": 51,
     "metadata": {},
     "output_type": "execute_result"
    }
   ],
   "source": [
    "NewProbNonDefaultGivenScoreEqualsX.index.names=['TransRisk Score']\n",
    "NewProbNonDefaultGivenScoreEqualsX.head()"
   ]
  },
  {
   "cell_type": "code",
   "execution_count": 53,
   "metadata": {},
   "outputs": [
    {
     "data": {
      "text/html": [
       "<div>\n",
       "<style>\n",
       "    .dataframe thead tr:only-child th {\n",
       "        text-align: right;\n",
       "    }\n",
       "\n",
       "    .dataframe thead th {\n",
       "        text-align: left;\n",
       "    }\n",
       "\n",
       "    .dataframe tbody tr th {\n",
       "        vertical-align: top;\n",
       "    }\n",
       "</style>\n",
       "<table border=\"1\" class=\"dataframe\">\n",
       "  <thead>\n",
       "    <tr style=\"text-align: right;\">\n",
       "      <th></th>\n",
       "      <th>white</th>\n",
       "      <th>black</th>\n",
       "      <th>hispanic</th>\n",
       "      <th>asian</th>\n",
       "    </tr>\n",
       "    <tr>\n",
       "      <th>Score</th>\n",
       "      <th></th>\n",
       "      <th></th>\n",
       "      <th></th>\n",
       "      <th></th>\n",
       "    </tr>\n",
       "  </thead>\n",
       "  <tbody>\n",
       "    <tr>\n",
       "      <th>0.0</th>\n",
       "      <td>0.000000</td>\n",
       "      <td>0.000000</td>\n",
       "      <td>0.000000</td>\n",
       "      <td>0.000000</td>\n",
       "    </tr>\n",
       "    <tr>\n",
       "      <th>0.5</th>\n",
       "      <td>0.000000</td>\n",
       "      <td>0.005191</td>\n",
       "      <td>0.021042</td>\n",
       "      <td>0.000000</td>\n",
       "    </tr>\n",
       "    <tr>\n",
       "      <th>1.0</th>\n",
       "      <td>0.022332</td>\n",
       "      <td>0.025054</td>\n",
       "      <td>0.011400</td>\n",
       "      <td>0.058622</td>\n",
       "    </tr>\n",
       "    <tr>\n",
       "      <th>1.5</th>\n",
       "      <td>0.023809</td>\n",
       "      <td>0.021218</td>\n",
       "      <td>0.000000</td>\n",
       "      <td>0.000000</td>\n",
       "    </tr>\n",
       "    <tr>\n",
       "      <th>2.0</th>\n",
       "      <td>0.036810</td>\n",
       "      <td>0.023518</td>\n",
       "      <td>0.025943</td>\n",
       "      <td>0.101215</td>\n",
       "    </tr>\n",
       "  </tbody>\n",
       "</table>\n",
       "</div>"
      ],
      "text/plain": [
       "          white     black  hispanic     asian\n",
       "Score                                        \n",
       "0.0    0.000000  0.000000  0.000000  0.000000\n",
       "0.5    0.000000  0.005191  0.021042  0.000000\n",
       "1.0    0.022332  0.025054  0.011400  0.058622\n",
       "1.5    0.023809  0.021218  0.000000  0.000000\n",
       "2.0    0.036810  0.023518  0.025943  0.101215"
      ]
     },
     "execution_count": 53,
     "metadata": {},
     "output_type": "execute_result"
    }
   ],
   "source": [
    "ProbNonDefaultGivenScoreEqualsXAndRace.head()"
   ]
  },
  {
   "cell_type": "code",
   "execution_count": 52,
   "metadata": {},
   "outputs": [
    {
     "name": "stdout",
     "output_type": "stream",
     "text": [
      "White 3.546580908701498\n",
      "Black 8.201638298982568\n",
      "Hispanic 7.862243504136284\n",
      "Asian 8.170012434028312\n"
     ]
    }
   ],
   "source": [
    "for race in [\"White\", \"Black\", \"Hispanic\", \"Asian\"]:\n",
    "    print(race, (NewProbNonDefaultGivenScoreEqualsX[race] - ProbNonDefaultGivenScoreEqualsXAndRace[race.lower()]).abs().sum())"
   ]
  },
  {
   "cell_type": "code",
   "execution_count": 54,
   "metadata": {},
   "outputs": [
    {
     "name": "stdout",
     "output_type": "stream",
     "text": [
      "white 0.00922165005168145\n",
      "black 0.001619084154532487\n",
      "hispanic 0.0002221191745514134\n",
      "asian 0.0001410411201749315\n"
     ]
    }
   ],
   "source": [
    "# Cross checking to ensure it matches the old dataset from the calculations done in the winter\n",
    "# This one is going to differ because the old datasets used the rounded pi values for half of the \n",
    "# calculations and the real pi values for the rest of them.\n",
    "ProbFromOther = pd.read_csv('P(score=xandgoodandrace).csv').set_index(\"TransRisk Score\")\n",
    "ProbFromOther.index.names = [\"Score\"]\n",
    "\n",
    "for race in [\"white\", \"black\", \"hispanic\", \"asian\"]:\n",
    "    print(race, (ProbFromOther[race] - ProbScoreEqualsXAndGoodAndRace[race]).abs().sum())"
   ]
  },
  {
   "cell_type": "code",
   "execution_count": 55,
   "metadata": {
    "collapsed": true
   },
   "outputs": [],
   "source": [
    "# Renaming columns again now that comparison with old datasets is done\n",
    "ProbScoreEqualsXAndGoodAndRace.columns=['P(Score=x and NonDefault and White)',\n",
    "                                        'P(Score=x and NonDefault and Black)',\n",
    "                                        'P(Score=x and NonDefault and Hispanic)',\n",
    "                                        'P(Score=x and NonDefault and Asian)']"
   ]
  },
  {
   "cell_type": "markdown",
   "metadata": {},
   "source": [
    "## Step 2: Calculate P(NonDefault and race)"
   ]
  },
  {
   "cell_type": "code",
   "execution_count": 56,
   "metadata": {},
   "outputs": [
    {
     "data": {
      "text/html": [
       "<div>\n",
       "<style>\n",
       "    .dataframe thead tr:only-child th {\n",
       "        text-align: right;\n",
       "    }\n",
       "\n",
       "    .dataframe thead th {\n",
       "        text-align: left;\n",
       "    }\n",
       "\n",
       "    .dataframe tbody tr th {\n",
       "        vertical-align: top;\n",
       "    }\n",
       "</style>\n",
       "<table border=\"1\" class=\"dataframe\">\n",
       "  <thead>\n",
       "    <tr style=\"text-align: right;\">\n",
       "      <th></th>\n",
       "      <th>white</th>\n",
       "      <th>black</th>\n",
       "      <th>hispanic</th>\n",
       "      <th>asian</th>\n",
       "    </tr>\n",
       "  </thead>\n",
       "  <tbody>\n",
       "    <tr>\n",
       "      <th>0</th>\n",
       "      <td>0.759185</td>\n",
       "      <td>0.315164</td>\n",
       "      <td>0.550595</td>\n",
       "      <td>0.80066</td>\n",
       "    </tr>\n",
       "  </tbody>\n",
       "</table>\n",
       "</div>"
      ],
      "text/plain": [
       "      white     black  hispanic    asian\n",
       "0  0.759185  0.315164  0.550595  0.80066"
      ]
     },
     "execution_count": 56,
     "metadata": {},
     "output_type": "execute_result"
    }
   ],
   "source": [
    "#Error checking:\n",
    "\n",
    "# At this point, the old tutorial switched to using the rounded values (even though everything\n",
    "# prior was done with the REAL values)\n",
    "# If I switch to using the ROUNDED (hard coded) values here, I match the old datasets, BUT I get the wrong solution...\n",
    "# In conclusion:\n",
    "# What yields the closest solution currently is choosing the ROUNDED (hard coded) values for all of the\n",
    "# calculations, though it does make the Asian threshold higher than the White threshold in the final answer\n",
    "# From here on out, the datasets from the old and new are going to differ because of this.\n",
    "\n",
    "pd.read_csv(\"ProbGoodGivenRace.csv\").head()"
   ]
  },
  {
   "cell_type": "code",
   "execution_count": 57,
   "metadata": {},
   "outputs": [
    {
     "data": {
      "text/html": [
       "<div>\n",
       "<style>\n",
       "    .dataframe thead tr:only-child th {\n",
       "        text-align: right;\n",
       "    }\n",
       "\n",
       "    .dataframe thead th {\n",
       "        text-align: left;\n",
       "    }\n",
       "\n",
       "    .dataframe tbody tr th {\n",
       "        vertical-align: top;\n",
       "    }\n",
       "</style>\n",
       "<table border=\"1\" class=\"dataframe\">\n",
       "  <thead>\n",
       "    <tr style=\"text-align: right;\">\n",
       "      <th></th>\n",
       "      <th>white</th>\n",
       "      <th>black</th>\n",
       "      <th>hispanic</th>\n",
       "      <th>asian</th>\n",
       "    </tr>\n",
       "  </thead>\n",
       "  <tbody>\n",
       "    <tr>\n",
       "      <th>0</th>\n",
       "      <td>0.749999</td>\n",
       "      <td>0.329064</td>\n",
       "      <td>0.550595</td>\n",
       "      <td>0.80066</td>\n",
       "    </tr>\n",
       "  </tbody>\n",
       "</table>\n",
       "</div>"
      ],
      "text/plain": [
       "      white     black  hispanic    asian\n",
       "0  0.749999  0.329064  0.550595  0.80066"
      ]
     },
     "execution_count": 57,
     "metadata": {},
     "output_type": "execute_result"
    }
   ],
   "source": [
    "ProbNonDefaultGivenRace.head()"
   ]
  },
  {
   "cell_type": "markdown",
   "metadata": {},
   "source": [
    "## Uncomment the line of code below if you'd like to see the old and new datasets being the same after switching to the rounded pi values half way through:"
   ]
  },
  {
   "cell_type": "code",
   "execution_count": 58,
   "metadata": {
    "collapsed": true
   },
   "outputs": [],
   "source": [
    "# ProbNonDefaultGivenRace = pd.read_csv(\"ProbGoodGivenRace.csv\")"
   ]
  },
  {
   "cell_type": "markdown",
   "metadata": {},
   "source": [
    "# ------------------------------"
   ]
  },
  {
   "cell_type": "code",
   "execution_count": 59,
   "metadata": {
    "collapsed": true
   },
   "outputs": [],
   "source": [
    "ProbNonDefaultAndRace = pd.DataFrame({\n",
    "    'white': ProbOfBeingRace.loc['white']['P(race)'] * ProbNonDefaultGivenRace['white'],\n",
    "    'asian': ProbOfBeingRace.loc['asian']['P(race)'] * ProbNonDefaultGivenRace['asian'],\n",
    "    'black': ProbOfBeingRace.loc['black']['P(race)'] * ProbNonDefaultGivenRace['black'],\n",
    "    'hispanic': ProbOfBeingRace.loc['hispanic']['P(race)'] * ProbNonDefaultGivenRace['hispanic'],\n",
    "})"
   ]
  },
  {
   "cell_type": "code",
   "execution_count": 60,
   "metadata": {},
   "outputs": [
    {
     "data": {
      "text/html": [
       "<div>\n",
       "<style>\n",
       "    .dataframe thead tr:only-child th {\n",
       "        text-align: right;\n",
       "    }\n",
       "\n",
       "    .dataframe thead th {\n",
       "        text-align: left;\n",
       "    }\n",
       "\n",
       "    .dataframe tbody tr th {\n",
       "        vertical-align: top;\n",
       "    }\n",
       "</style>\n",
       "<table border=\"1\" class=\"dataframe\">\n",
       "  <thead>\n",
       "    <tr style=\"text-align: right;\">\n",
       "      <th></th>\n",
       "      <th>asian</th>\n",
       "      <th>black</th>\n",
       "      <th>hispanic</th>\n",
       "      <th>white</th>\n",
       "    </tr>\n",
       "  </thead>\n",
       "  <tbody>\n",
       "    <tr>\n",
       "      <th>0</th>\n",
       "      <td>0.03637</td>\n",
       "      <td>0.03455</td>\n",
       "      <td>0.04651</td>\n",
       "      <td>0.573831</td>\n",
       "    </tr>\n",
       "  </tbody>\n",
       "</table>\n",
       "</div>"
      ],
      "text/plain": [
       "     asian    black  hispanic     white\n",
       "0  0.03637  0.03455   0.04651  0.573831"
      ]
     },
     "execution_count": 60,
     "metadata": {},
     "output_type": "execute_result"
    }
   ],
   "source": [
    "# I'll give them this csv I think\n",
    "ProbNonDefaultAndRace"
   ]
  },
  {
   "cell_type": "markdown",
   "metadata": {},
   "source": [
    "## Step 3: Calculate P(Score=x | NonDefault, race)"
   ]
  },
  {
   "cell_type": "code",
   "execution_count": 61,
   "metadata": {},
   "outputs": [
    {
     "data": {
      "text/html": [
       "<div>\n",
       "<style>\n",
       "    .dataframe thead tr:only-child th {\n",
       "        text-align: right;\n",
       "    }\n",
       "\n",
       "    .dataframe thead th {\n",
       "        text-align: left;\n",
       "    }\n",
       "\n",
       "    .dataframe tbody tr th {\n",
       "        vertical-align: top;\n",
       "    }\n",
       "</style>\n",
       "<table border=\"1\" class=\"dataframe\">\n",
       "  <thead>\n",
       "    <tr style=\"text-align: right;\">\n",
       "      <th></th>\n",
       "      <th>asian</th>\n",
       "      <th>black</th>\n",
       "      <th>hispanic</th>\n",
       "      <th>white</th>\n",
       "    </tr>\n",
       "    <tr>\n",
       "      <th>Score</th>\n",
       "      <th></th>\n",
       "      <th></th>\n",
       "      <th></th>\n",
       "      <th></th>\n",
       "    </tr>\n",
       "  </thead>\n",
       "  <tbody>\n",
       "    <tr>\n",
       "      <th>0.0</th>\n",
       "      <td>0.000000</td>\n",
       "      <td>0.000000</td>\n",
       "      <td>0.000000</td>\n",
       "      <td>0.000000</td>\n",
       "    </tr>\n",
       "    <tr>\n",
       "      <th>0.5</th>\n",
       "      <td>0.000000</td>\n",
       "      <td>0.000177</td>\n",
       "      <td>0.000176</td>\n",
       "      <td>0.000000</td>\n",
       "    </tr>\n",
       "    <tr>\n",
       "      <th>1.0</th>\n",
       "      <td>0.000549</td>\n",
       "      <td>0.003152</td>\n",
       "      <td>0.000362</td>\n",
       "      <td>0.000268</td>\n",
       "    </tr>\n",
       "    <tr>\n",
       "      <th>1.5</th>\n",
       "      <td>0.000000</td>\n",
       "      <td>0.000735</td>\n",
       "      <td>0.000000</td>\n",
       "      <td>0.000086</td>\n",
       "    </tr>\n",
       "    <tr>\n",
       "      <th>2.0</th>\n",
       "      <td>0.000316</td>\n",
       "      <td>0.001015</td>\n",
       "      <td>0.000353</td>\n",
       "      <td>0.000182</td>\n",
       "    </tr>\n",
       "  </tbody>\n",
       "</table>\n",
       "</div>"
      ],
      "text/plain": [
       "          asian     black  hispanic     white\n",
       "Score                                        \n",
       "0.0    0.000000  0.000000  0.000000  0.000000\n",
       "0.5    0.000000  0.000177  0.000176  0.000000\n",
       "1.0    0.000549  0.003152  0.000362  0.000268\n",
       "1.5    0.000000  0.000735  0.000000  0.000086\n",
       "2.0    0.000316  0.001015  0.000353  0.000182"
      ]
     },
     "execution_count": 61,
     "metadata": {},
     "output_type": "execute_result"
    }
   ],
   "source": [
    "ProbScoreEqualsXGivenNonDefaultAndRace = pd.DataFrame({\n",
    "    'white': ProbScoreEqualsXAndGoodAndRace['P(Score=x and NonDefault and White)'] / ProbNonDefaultAndRace['white'].values[0],\n",
    "    'asian': ProbScoreEqualsXAndGoodAndRace['P(Score=x and NonDefault and Asian)'] / ProbNonDefaultAndRace['asian'].values[0],\n",
    "    'black': ProbScoreEqualsXAndGoodAndRace['P(Score=x and NonDefault and Black)'] / ProbNonDefaultAndRace['black'].values[0],\n",
    "    'hispanic': ProbScoreEqualsXAndGoodAndRace ['P(Score=x and NonDefault and Hispanic)'] / ProbNonDefaultAndRace['hispanic'].values[0],\n",
    "})\n",
    "\n",
    "\n",
    "ProbScoreEqualsXGivenNonDefaultAndRace.head()"
   ]
  },
  {
   "cell_type": "code",
   "execution_count": 62,
   "metadata": {},
   "outputs": [
    {
     "name": "stdout",
     "output_type": "stream",
     "text": [
      "white 0.015023696144532585\n",
      "black 0.03326833147188532\n",
      "hispanic 0.004775775586353237\n",
      "asian 0.0038779959232669086\n"
     ]
    }
   ],
   "source": [
    "# Cross checking to ensure it matches the old dataset from the calculations done in the winter\n",
    "# This one is going to differ because the old datasets used the rounded pi values for half of the \n",
    "# calculations and the real pi values for the rest of them.\n",
    "ProbFromOther = pd.read_csv('ProbScoreEqualsXGivenGoodAndRace.csv').set_index(\"TransRisk Score\")\n",
    "ProbFromOther.index.names = [\"Score\"]\n",
    "for race in [\"white\", \"black\", \"hispanic\", \"asian\"]:\n",
    "    print(race, (ProbFromOther[race.lower()] - ProbScoreEqualsXGivenNonDefaultAndRace[race]).abs().sum())"
   ]
  },
  {
   "cell_type": "markdown",
   "metadata": {},
   "source": [
    "<hr/>"
   ]
  },
  {
   "cell_type": "markdown",
   "metadata": {},
   "source": [
    "# Calculating P(Score>=x | NonDefault, race)"
   ]
  },
  {
   "cell_type": "code",
   "execution_count": 63,
   "metadata": {},
   "outputs": [
    {
     "data": {
      "text/html": [
       "<div>\n",
       "<style>\n",
       "    .dataframe thead tr:only-child th {\n",
       "        text-align: right;\n",
       "    }\n",
       "\n",
       "    .dataframe thead th {\n",
       "        text-align: left;\n",
       "    }\n",
       "\n",
       "    .dataframe tbody tr th {\n",
       "        vertical-align: top;\n",
       "    }\n",
       "</style>\n",
       "<table border=\"1\" class=\"dataframe\">\n",
       "  <thead>\n",
       "    <tr style=\"text-align: right;\">\n",
       "      <th></th>\n",
       "      <th>asian</th>\n",
       "      <th>black</th>\n",
       "      <th>hispanic</th>\n",
       "      <th>white</th>\n",
       "    </tr>\n",
       "    <tr>\n",
       "      <th>Score</th>\n",
       "      <th></th>\n",
       "      <th></th>\n",
       "      <th></th>\n",
       "      <th></th>\n",
       "    </tr>\n",
       "  </thead>\n",
       "  <tbody>\n",
       "    <tr>\n",
       "      <th>0.0</th>\n",
       "      <td>0.996122</td>\n",
       "      <td>1.004620</td>\n",
       "      <td>1.004775</td>\n",
       "      <td>0.996178</td>\n",
       "    </tr>\n",
       "    <tr>\n",
       "      <th>0.5</th>\n",
       "      <td>0.996122</td>\n",
       "      <td>1.004620</td>\n",
       "      <td>1.004775</td>\n",
       "      <td>0.996178</td>\n",
       "    </tr>\n",
       "    <tr>\n",
       "      <th>1.0</th>\n",
       "      <td>0.996122</td>\n",
       "      <td>1.004443</td>\n",
       "      <td>1.004600</td>\n",
       "      <td>0.996178</td>\n",
       "    </tr>\n",
       "    <tr>\n",
       "      <th>1.5</th>\n",
       "      <td>0.995573</td>\n",
       "      <td>1.001291</td>\n",
       "      <td>1.004237</td>\n",
       "      <td>0.995910</td>\n",
       "    </tr>\n",
       "    <tr>\n",
       "      <th>2.0</th>\n",
       "      <td>0.995573</td>\n",
       "      <td>1.000556</td>\n",
       "      <td>1.004237</td>\n",
       "      <td>0.995824</td>\n",
       "    </tr>\n",
       "  </tbody>\n",
       "</table>\n",
       "</div>"
      ],
      "text/plain": [
       "          asian     black  hispanic     white\n",
       "Score                                        \n",
       "0.0    0.996122  1.004620  1.004775  0.996178\n",
       "0.5    0.996122  1.004620  1.004775  0.996178\n",
       "1.0    0.996122  1.004443  1.004600  0.996178\n",
       "1.5    0.995573  1.001291  1.004237  0.995910\n",
       "2.0    0.995573  1.000556  1.004237  0.995824"
      ]
     },
     "execution_count": 63,
     "metadata": {},
     "output_type": "execute_result"
    }
   ],
   "source": [
    "ProbScoreGreaterThanXGivenNonDefaultAndRace = ProbScoreEqualsXGivenNonDefaultAndRace.iloc[::-1].cumsum()[::-1]\n",
    "ProbScoreGreaterThanXGivenNonDefaultAndRace.head()"
   ]
  },
  {
   "cell_type": "markdown",
   "metadata": {},
   "source": [
    "<hr/>"
   ]
  },
  {
   "cell_type": "markdown",
   "metadata": {},
   "source": [
    "# Calculating P(NonDefault | Score=>x, race)\n",
    "### Should match ProbLoanReceiverIsGood.csv"
   ]
  },
  {
   "cell_type": "markdown",
   "metadata": {},
   "source": [
    "<h2 align='center'>$\\frac{P(NonDefault and Score>=x | race)}{P(Score>=x | race)}$</h2>\n",
    "\n",
    "** P(NonDefault | Score=x, race) **\n",
    "- calculated earlier in this notebook\n",
    "- ProbNonDefaultGivenScoreEqualsXAndRace\n",
    "\n",
    "** P(NonDefault and Score=x | race) = P(NonDefault | Score=x, race) * P(Score=x | race) **\n",
    "- ProbNonDefaultGivenScoreEqualsXAndRace * ProbScoreEqualsXAndRace (calculated above)\n",
    "- we can use cumsum() on the reverse of this to obtain P(NonDefault and Score>=x | race)\n",
    "\n",
    "** P(NonDefault and Score>=x | race) **\n",
    "- ProbNonDefaultAndScoreGreaterXGivenRace\n",
    "- see above for how to calculate this\n",
    "\n",
    "** P(Score>=x | race) **\n",
    "- We already calculated P(Score=x | race), we can use cumsum() on the reverse of ProbScoreEqualsXGivenRace to obtain this"
   ]
  },
  {
   "cell_type": "code",
   "execution_count": 64,
   "metadata": {},
   "outputs": [
    {
     "data": {
      "text/html": [
       "<div>\n",
       "<style>\n",
       "    .dataframe thead tr:only-child th {\n",
       "        text-align: right;\n",
       "    }\n",
       "\n",
       "    .dataframe thead th {\n",
       "        text-align: left;\n",
       "    }\n",
       "\n",
       "    .dataframe tbody tr th {\n",
       "        vertical-align: top;\n",
       "    }\n",
       "</style>\n",
       "<table border=\"1\" class=\"dataframe\">\n",
       "  <thead>\n",
       "    <tr style=\"text-align: right;\">\n",
       "      <th></th>\n",
       "      <th>white</th>\n",
       "      <th>black</th>\n",
       "      <th>hispanic</th>\n",
       "      <th>asian</th>\n",
       "    </tr>\n",
       "    <tr>\n",
       "      <th>Score</th>\n",
       "      <th></th>\n",
       "      <th></th>\n",
       "      <th></th>\n",
       "      <th></th>\n",
       "    </tr>\n",
       "  </thead>\n",
       "  <tbody>\n",
       "    <tr>\n",
       "      <th>0.0</th>\n",
       "      <td>0.000000</td>\n",
       "      <td>0.000000</td>\n",
       "      <td>0.000000</td>\n",
       "      <td>0.000000</td>\n",
       "    </tr>\n",
       "    <tr>\n",
       "      <th>0.5</th>\n",
       "      <td>0.000000</td>\n",
       "      <td>0.005191</td>\n",
       "      <td>0.021042</td>\n",
       "      <td>0.000000</td>\n",
       "    </tr>\n",
       "    <tr>\n",
       "      <th>1.0</th>\n",
       "      <td>0.022332</td>\n",
       "      <td>0.025054</td>\n",
       "      <td>0.011400</td>\n",
       "      <td>0.058622</td>\n",
       "    </tr>\n",
       "    <tr>\n",
       "      <th>1.5</th>\n",
       "      <td>0.023809</td>\n",
       "      <td>0.021218</td>\n",
       "      <td>0.000000</td>\n",
       "      <td>0.000000</td>\n",
       "    </tr>\n",
       "    <tr>\n",
       "      <th>2.0</th>\n",
       "      <td>0.036810</td>\n",
       "      <td>0.023518</td>\n",
       "      <td>0.025943</td>\n",
       "      <td>0.101215</td>\n",
       "    </tr>\n",
       "  </tbody>\n",
       "</table>\n",
       "</div>"
      ],
      "text/plain": [
       "          white     black  hispanic     asian\n",
       "Score                                        \n",
       "0.0    0.000000  0.000000  0.000000  0.000000\n",
       "0.5    0.000000  0.005191  0.021042  0.000000\n",
       "1.0    0.022332  0.025054  0.011400  0.058622\n",
       "1.5    0.023809  0.021218  0.000000  0.000000\n",
       "2.0    0.036810  0.023518  0.025943  0.101215"
      ]
     },
     "execution_count": 64,
     "metadata": {},
     "output_type": "execute_result"
    }
   ],
   "source": [
    "ProbNonDefaultGivenScoreEqualsXAndRace.head()"
   ]
  },
  {
   "cell_type": "markdown",
   "metadata": {},
   "source": [
    "### Step 1:\n",
    "\n",
    "** P(NonDefault and Score=x | race) = P(NonDefault | Score=x, race) * P(Score=x | race) **"
   ]
  },
  {
   "cell_type": "code",
   "execution_count": 65,
   "metadata": {
    "collapsed": true
   },
   "outputs": [],
   "source": [
    "ProbScoreEqualsXGivenRace.columns = [x.lower() for x in ProbScoreEqualsXGivenRace.columns]\n",
    "ProbNonDefaultAndScoreEqualsXGivenRace = (\n",
    "    ProbScoreEqualsXGivenRace[['asian', 'black', 'hispanic', 'white']] * \n",
    "    ProbNonDefaultGivenScoreEqualsXAndRace[['asian', 'black', 'hispanic', 'white']])\n",
    "ProbNonDefaultAndScoreGreaterXGivenRace = (\n",
    "    ProbNonDefaultAndScoreEqualsXGivenRace.iloc[::-1].cumsum()[::-1])"
   ]
  },
  {
   "cell_type": "markdown",
   "metadata": {},
   "source": [
    "### Step 2:\n",
    "\n",
    "Take the cumsum of the reverse of P(Score=x | race) to obtain:\n",
    "** P(Score>=x | race) **"
   ]
  },
  {
   "cell_type": "code",
   "execution_count": 66,
   "metadata": {
    "collapsed": true
   },
   "outputs": [],
   "source": [
    "ProbScoreGreaterXGivenRace = ProbScoreEqualsXGivenRace.iloc[::-1].cumsum()[::-1]"
   ]
  },
  {
   "cell_type": "code",
   "execution_count": 67,
   "metadata": {},
   "outputs": [
    {
     "name": "stdout",
     "output_type": "stream",
     "text": [
      "white 2.5400688496990398e-15\n",
      "black 9.074772183703672e-16\n",
      "hispanic 1.916869440954372e-15\n",
      "asian 4.121919819355391e-15\n"
     ]
    }
   ],
   "source": [
    "# Cross checking to ensure it matches the old dataset from the calculations done in the winter\n",
    "ProbFromOther = pd.read_csv(\"ProbScoreGreaterThanXGivenRace.csv\").set_index(\"TransRisk Score\")\n",
    "ProbFromOther.index.names = ['Score']\n",
    "\n",
    "for race in [\"white\", \"black\", \"hispanic\", \"asian\"]:\n",
    "    print(race, (ProbFromOther[race] - ProbScoreGreaterXGivenRace[race]).abs().sum())"
   ]
  },
  {
   "cell_type": "code",
   "execution_count": 68,
   "metadata": {},
   "outputs": [
    {
     "data": {
      "text/html": [
       "<div>\n",
       "<style>\n",
       "    .dataframe thead tr:only-child th {\n",
       "        text-align: right;\n",
       "    }\n",
       "\n",
       "    .dataframe thead th {\n",
       "        text-align: left;\n",
       "    }\n",
       "\n",
       "    .dataframe tbody tr th {\n",
       "        vertical-align: top;\n",
       "    }\n",
       "</style>\n",
       "<table border=\"1\" class=\"dataframe\">\n",
       "  <thead>\n",
       "    <tr style=\"text-align: right;\">\n",
       "      <th></th>\n",
       "      <th>asian</th>\n",
       "      <th>black</th>\n",
       "      <th>hispanic</th>\n",
       "      <th>white</th>\n",
       "    </tr>\n",
       "    <tr>\n",
       "      <th>Score</th>\n",
       "      <th></th>\n",
       "      <th></th>\n",
       "      <th></th>\n",
       "      <th></th>\n",
       "    </tr>\n",
       "  </thead>\n",
       "  <tbody>\n",
       "    <tr>\n",
       "      <th>0.0</th>\n",
       "      <td>0.797555</td>\n",
       "      <td>0.330584</td>\n",
       "      <td>0.553224</td>\n",
       "      <td>0.747132</td>\n",
       "    </tr>\n",
       "    <tr>\n",
       "      <th>0.5</th>\n",
       "      <td>0.797555</td>\n",
       "      <td>0.330584</td>\n",
       "      <td>0.553224</td>\n",
       "      <td>0.747132</td>\n",
       "    </tr>\n",
       "    <tr>\n",
       "      <th>1.0</th>\n",
       "      <td>0.797555</td>\n",
       "      <td>0.330526</td>\n",
       "      <td>0.553127</td>\n",
       "      <td>0.747132</td>\n",
       "    </tr>\n",
       "    <tr>\n",
       "      <th>1.5</th>\n",
       "      <td>0.797115</td>\n",
       "      <td>0.329489</td>\n",
       "      <td>0.552928</td>\n",
       "      <td>0.746931</td>\n",
       "    </tr>\n",
       "    <tr>\n",
       "      <th>2.0</th>\n",
       "      <td>0.797115</td>\n",
       "      <td>0.329247</td>\n",
       "      <td>0.552928</td>\n",
       "      <td>0.746867</td>\n",
       "    </tr>\n",
       "  </tbody>\n",
       "</table>\n",
       "</div>"
      ],
      "text/plain": [
       "          asian     black  hispanic     white\n",
       "Score                                        \n",
       "0.0    0.797555  0.330584  0.553224  0.747132\n",
       "0.5    0.797555  0.330584  0.553224  0.747132\n",
       "1.0    0.797555  0.330526  0.553127  0.747132\n",
       "1.5    0.797115  0.329489  0.552928  0.746931\n",
       "2.0    0.797115  0.329247  0.552928  0.746867"
      ]
     },
     "execution_count": 68,
     "metadata": {},
     "output_type": "execute_result"
    }
   ],
   "source": [
    "ProbNonDefaultAndScoreGreaterXGivenRace.head()"
   ]
  },
  {
   "cell_type": "code",
   "execution_count": 69,
   "metadata": {},
   "outputs": [
    {
     "data": {
      "text/html": [
       "<div>\n",
       "<style>\n",
       "    .dataframe thead tr:only-child th {\n",
       "        text-align: right;\n",
       "    }\n",
       "\n",
       "    .dataframe thead th {\n",
       "        text-align: left;\n",
       "    }\n",
       "\n",
       "    .dataframe tbody tr th {\n",
       "        vertical-align: top;\n",
       "    }\n",
       "</style>\n",
       "<table border=\"1\" class=\"dataframe\">\n",
       "  <thead>\n",
       "    <tr style=\"text-align: right;\">\n",
       "      <th></th>\n",
       "      <th>white</th>\n",
       "      <th>black</th>\n",
       "      <th>hispanic</th>\n",
       "      <th>asian</th>\n",
       "    </tr>\n",
       "    <tr>\n",
       "      <th>Score</th>\n",
       "      <th></th>\n",
       "      <th></th>\n",
       "      <th></th>\n",
       "      <th></th>\n",
       "    </tr>\n",
       "  </thead>\n",
       "  <tbody>\n",
       "    <tr>\n",
       "      <th>0.0</th>\n",
       "      <td>0.9999</td>\n",
       "      <td>0.9993</td>\n",
       "      <td>0.9999</td>\n",
       "      <td>1.0000</td>\n",
       "    </tr>\n",
       "    <tr>\n",
       "      <th>0.5</th>\n",
       "      <td>0.9999</td>\n",
       "      <td>0.9993</td>\n",
       "      <td>0.9999</td>\n",
       "      <td>1.0000</td>\n",
       "    </tr>\n",
       "    <tr>\n",
       "      <th>1.0</th>\n",
       "      <td>0.9974</td>\n",
       "      <td>0.9881</td>\n",
       "      <td>0.9953</td>\n",
       "      <td>0.9987</td>\n",
       "    </tr>\n",
       "    <tr>\n",
       "      <th>1.5</th>\n",
       "      <td>0.9884</td>\n",
       "      <td>0.9467</td>\n",
       "      <td>0.9778</td>\n",
       "      <td>0.9912</td>\n",
       "    </tr>\n",
       "    <tr>\n",
       "      <th>2.0</th>\n",
       "      <td>0.9857</td>\n",
       "      <td>0.9353</td>\n",
       "      <td>0.9726</td>\n",
       "      <td>0.9893</td>\n",
       "    </tr>\n",
       "  </tbody>\n",
       "</table>\n",
       "</div>"
      ],
      "text/plain": [
       "        white   black  hispanic   asian\n",
       "Score                                  \n",
       "0.0    0.9999  0.9993    0.9999  1.0000\n",
       "0.5    0.9999  0.9993    0.9999  1.0000\n",
       "1.0    0.9974  0.9881    0.9953  0.9987\n",
       "1.5    0.9884  0.9467    0.9778  0.9912\n",
       "2.0    0.9857  0.9353    0.9726  0.9893"
      ]
     },
     "execution_count": 69,
     "metadata": {},
     "output_type": "execute_result"
    }
   ],
   "source": [
    "ProbScoreGreaterXGivenRace.head()"
   ]
  },
  {
   "cell_type": "markdown",
   "metadata": {},
   "source": [
    "### Step 3:\n",
    "\n",
    "** P(NonDefault | Score>=x and Race) = P(NonDefault and Score>=x | Race) / P(Score>=x | race) **"
   ]
  },
  {
   "cell_type": "code",
   "execution_count": 70,
   "metadata": {
    "collapsed": true
   },
   "outputs": [],
   "source": [
    "ProbNonDefaultGivenScoreGreaterXAndRace = (\n",
    "    ProbNonDefaultAndScoreGreaterXGivenRace / ProbScoreGreaterXGivenRace)"
   ]
  },
  {
   "cell_type": "code",
   "execution_count": 71,
   "metadata": {},
   "outputs": [
    {
     "data": {
      "text/html": [
       "<div>\n",
       "<style>\n",
       "    .dataframe thead tr:only-child th {\n",
       "        text-align: right;\n",
       "    }\n",
       "\n",
       "    .dataframe thead th {\n",
       "        text-align: left;\n",
       "    }\n",
       "\n",
       "    .dataframe tbody tr th {\n",
       "        vertical-align: top;\n",
       "    }\n",
       "</style>\n",
       "<table border=\"1\" class=\"dataframe\">\n",
       "  <thead>\n",
       "    <tr style=\"text-align: right;\">\n",
       "      <th></th>\n",
       "      <th>asian</th>\n",
       "      <th>black</th>\n",
       "      <th>hispanic</th>\n",
       "      <th>white</th>\n",
       "    </tr>\n",
       "    <tr>\n",
       "      <th>Score</th>\n",
       "      <th></th>\n",
       "      <th></th>\n",
       "      <th></th>\n",
       "      <th></th>\n",
       "    </tr>\n",
       "  </thead>\n",
       "  <tbody>\n",
       "    <tr>\n",
       "      <th>0.0</th>\n",
       "      <td>0.797555</td>\n",
       "      <td>0.330816</td>\n",
       "      <td>0.553280</td>\n",
       "      <td>0.747207</td>\n",
       "    </tr>\n",
       "    <tr>\n",
       "      <th>0.5</th>\n",
       "      <td>0.797555</td>\n",
       "      <td>0.330816</td>\n",
       "      <td>0.553280</td>\n",
       "      <td>0.747207</td>\n",
       "    </tr>\n",
       "    <tr>\n",
       "      <th>1.0</th>\n",
       "      <td>0.798593</td>\n",
       "      <td>0.334507</td>\n",
       "      <td>0.555739</td>\n",
       "      <td>0.749080</td>\n",
       "    </tr>\n",
       "    <tr>\n",
       "      <th>1.5</th>\n",
       "      <td>0.804192</td>\n",
       "      <td>0.348039</td>\n",
       "      <td>0.565482</td>\n",
       "      <td>0.755697</td>\n",
       "    </tr>\n",
       "    <tr>\n",
       "      <th>2.0</th>\n",
       "      <td>0.805737</td>\n",
       "      <td>0.352023</td>\n",
       "      <td>0.568505</td>\n",
       "      <td>0.757702</td>\n",
       "    </tr>\n",
       "  </tbody>\n",
       "</table>\n",
       "</div>"
      ],
      "text/plain": [
       "          asian     black  hispanic     white\n",
       "Score                                        \n",
       "0.0    0.797555  0.330816  0.553280  0.747207\n",
       "0.5    0.797555  0.330816  0.553280  0.747207\n",
       "1.0    0.798593  0.334507  0.555739  0.749080\n",
       "1.5    0.804192  0.348039  0.565482  0.755697\n",
       "2.0    0.805737  0.352023  0.568505  0.757702"
      ]
     },
     "execution_count": 71,
     "metadata": {},
     "output_type": "execute_result"
    }
   ],
   "source": [
    "ProbNonDefaultGivenScoreGreaterXAndRace.head()"
   ]
  },
  {
   "cell_type": "code",
   "execution_count": 72,
   "metadata": {},
   "outputs": [
    {
     "name": "stdout",
     "output_type": "stream",
     "text": [
      "white 1.1819987812316435\n",
      "black 2.5465616683703924\n",
      "hispanic 0.3104417082944061\n",
      "asian 0.31849800731071864\n"
     ]
    }
   ],
   "source": [
    "# Cross checking to ensure it matches the old dataset from the calculations done in the winter\n",
    "ProbFromOther = pd.read_csv('ProbLoanReceiverIsGood.csv').set_index(\"TransRisk Score\")\n",
    "ProbFromOther.index.names = ['Score']\n",
    "\n",
    "for race in [\"white\", \"black\", \"hispanic\", \"asian\"]:\n",
    "    print(race, (ProbFromOther[race.lower()] - ProbNonDefaultGivenScoreGreaterXAndRace[race]).abs().sum())"
   ]
  },
  {
   "cell_type": "code",
   "execution_count": 43,
   "metadata": {
    "collapsed": true
   },
   "outputs": [],
   "source": [
    "ProbNonDefaultGivenScoreGreaterXAndRace.index.rename('TransRisk Score', inplace=True)"
   ]
  },
  {
   "cell_type": "code",
   "execution_count": 44,
   "metadata": {
    "collapsed": true
   },
   "outputs": [],
   "source": [
    "# THEY ARE GIVEN THIS CSV IN THE TUTORIAL\n",
    "ProbNonDefaultGivenScoreGreaterXAndRace.to_csv('ProbNonDefaultGivenScoreGreaterXAndRace.csv')"
   ]
  },
  {
   "cell_type": "code",
   "execution_count": null,
   "metadata": {
    "collapsed": true
   },
   "outputs": [],
   "source": []
  },
  {
   "cell_type": "code",
   "execution_count": null,
   "metadata": {
    "collapsed": true
   },
   "outputs": [],
   "source": []
  },
  {
   "cell_type": "code",
   "execution_count": null,
   "metadata": {
    "collapsed": true
   },
   "outputs": [],
   "source": []
  }
 ],
 "metadata": {
  "kernelspec": {
   "display_name": "Python 3",
   "language": "python",
   "name": "python3"
  },
  "language_info": {
   "codemirror_mode": {
    "name": "ipython",
    "version": 3
   },
   "file_extension": ".py",
   "mimetype": "text/x-python",
   "name": "python",
   "nbconvert_exporter": "python",
   "pygments_lexer": "ipython3",
   "version": "3.6.1"
  }
 },
 "nbformat": 4,
 "nbformat_minor": 2
}
