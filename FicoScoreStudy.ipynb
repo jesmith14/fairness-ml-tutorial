{
 "cells": [
  {
   "cell_type": "markdown",
   "metadata": {},
   "source": [
    "# Explanation / Motivation:\n",
    "- Study on non-discriminatory supervised learning models\n",
    "- This data set is a case study on FICO scores and how they determine a 'threshold' cutoff score to either deny or approve a loan application\n",
    "- Using data from the Federal Reserve, we can see the distribution of scores (FICO score percentile) against four main demographic groups: Asian, Hispanic, Black, and White\n",
    "- With this data, we can plot the probability of defaulting and/or non-defaulting people from a specified demographpic group getting approved a loan ($\\hat Y$ = 1).\n",
    "- Theoretically, the probability of defaulting and/or non-defaulting people getting ($\\hat Y$ = 1) should be equal amongst all demographic groups, but as you can see from this study, that is not the case.\n",
    "- I dive into what this means in terms of precision/recall, the cost of these discrepencies, why this is happening, as well as methodologies for improvement.\n",
    "- Data and non-descriminitaory model analysis courtesy of https://arxiv.org/pdf/1610.02413.pdf"
   ]
  },
  {
   "cell_type": "code",
   "execution_count": 9,
   "metadata": {
    "collapsed": true
   },
   "outputs": [],
   "source": [
    "from bs4 import BeautifulSoup\n",
    "import fileinput\n",
    "import sys\n",
    "import re\n",
    "import csv\n",
    "import requests\n",
    "import os\n",
    "import pandas as pd\n",
    "import matplotlib.pyplot as plt\n",
    "%matplotlib inline\n",
    "import matplotlib.lines as mlines\n"
   ]
  },
  {
   "cell_type": "markdown",
   "metadata": {},
   "source": [
    "### Scraping Data from Federal Reserve:\n",
    "#### Explanations / Guidelines:\n",
    "- All files are saved in current directory\n",
    "- We will be analyzing \"Figure_7.D._TransRisk_Score_Cumulative_Percentage_of_Goods_and_Bads,_by_Demographic_Group(Random-Account_Performance)_-_Race_or_ethnicity_(SSA_data).csv\" and saving that file as 'random-account-ficoscores.csv' for easier reference\n",
    "- To analyze the Cumulative Percentage of Goods and Bads for any of the other protected groups (sex, age, marital status, or income ratio) simply plug in this csv when assigning the 'data' variable\n",
    "- Options for account types: any-account, new-account, existing-account, random-account\n",
    "- In this study, \"good\" means non-defaulting for loans (will pay it off). \"Bad\" means defaulting for loans (will not pay it off)."
   ]
  },
  {
   "cell_type": "code",
   "execution_count": 10,
   "metadata": {
    "collapsed": true
   },
   "outputs": [],
   "source": [
    "\n",
    "url = \"www.federalreserve.gov/boarddocs/rptcongress/creditscore/overviewfigtables.htm\"\n",
    "r  = requests.get(\"https://\" +url)\n",
    "data = r.text\n",
    "soup = BeautifulSoup(data, 'lxml')\n",
    "\n",
    "\n",
    "def cell_text(cell):\n",
    "    return \" \".join(cell.stripped_strings)\n",
    "\n",
    "for table in soup.find_all('table'):\n",
    "    title = table.find('span', { 'class' : 'tablehead' }).getText()\n",
    "    subhead = table.find('span', { 'class' : 'tablesubheadsmall' }).getText()\n",
    "    fname = (title + ' - '+subhead).replace(' ', '_') + '.csv'\n",
    "    fname = fname.replace(':', '-')\n",
    "    with open(fname, 'w') as outfile:\n",
    "        output = csv.writer(outfile)\n",
    "\n",
    "        for row in table.find_all('tr'):\n",
    "            col = map(cell_text, row.find_all(re.compile('t[dh]')))\n",
    "            output.writerow(col)\n",
    "            "
   ]
  },
  {
   "cell_type": "code",
   "execution_count": 11,
   "metadata": {},
   "outputs": [],
   "source": [
    "# os.rename('Figure_7.D._TransRisk_Score-_Cumulative_Percentage_of_Goods_and_Bads,_by_Demographic_Group(Random-Account_Performance)_-_Race_or_ethnicity_(SSA_data).csv', 'random-account-ficoscores.csv')"
   ]
  },
  {
   "cell_type": "code",
   "execution_count": 12,
   "metadata": {
    "collapsed": true
   },
   "outputs": [],
   "source": [
    "data = pd.read_csv(\"random-account-ficoscores.csv\")\n",
    "#Necessary to rename this column for clarity of the data it represents\n",
    "#because of formatting issues when parsing data from the html\n",
    "data.rename(columns={'Black (Bad).1':'Hispanic (Good)'}, inplace=True)"
   ]
  },
  {
   "cell_type": "code",
   "execution_count": 13,
   "metadata": {
    "collapsed": true
   },
   "outputs": [],
   "source": [
    "white_non_default = data[[\"Score\", \"Non- Hispanic white (Good)\"]]\n",
    "white_default = data[[\"Score\",\"Non- Hispanic white (Bad)\"]]\n",
    "black_non_default = data[[\"Score\",\"Black (Good)\"]]\n",
    "black_default = data[[\"Score\",\"Black (Bad)\"]]\n",
    "hispanic_non_default = data[[\"Score\",\"Hispanic (Good)\"]]\n",
    "hispanic_default = data[[\"Score\",\"Hispanic (Bad)\"]]\n",
    "asian_non_default = data[[\"Score\",\"Asian (Good)\"]]\n",
    "asian_default = data[[\"Score\",\"Asian (Bad)\"]]"
   ]
  },
  {
   "cell_type": "code",
   "execution_count": 7,
   "metadata": {
    "collapsed": true
   },
   "outputs": [],
   "source": [
    "def getGraph(dataset, metricName, graphType):\n",
    "    i= 0\n",
    "    x = []\n",
    "    y = []\n",
    "    while(i < 100.5):\n",
    "        if(i == 72.5 or i == 77.5 or i == 92.5):\n",
    "            i = (i + 0.5)\n",
    "        curr_race_non_default = dataset[dataset[\"Score\"] >= i][metricName].sum()\n",
    "        total_race_non_default = dataset[metricName].sum()\n",
    "        yVal = curr_race_non_default / total_race_non_default\n",
    "        x.append(i)\n",
    "        y.append(yVal)\n",
    "        i = (i + 0.5)\n",
    "    plt.plot(x, y, graphType, label=metricName)"
   ]
  },
  {
   "cell_type": "markdown",
   "metadata": {},
   "source": [
    "## Visualizing This Data:\n",
    "#### Now we have data for how many people are defaulters and non-defaulters for each score, theoretically the probability of a non-defaulter getting approved a loan ($\\hat Y$ = 1) should be the same amongst all four groups. You can see from the graph that this is not the case: a person from the black demographic group is much less likely to be approved than a white or asian non-defaulting person."
   ]
  },
  {
   "cell_type": "code",
   "execution_count": 14,
   "metadata": {},
   "outputs": [
    {
     "data": {
      "text/plain": [
       "<matplotlib.legend.Legend at 0x11a991fd0>"
      ]
     },
     "execution_count": 14,
     "metadata": {},
     "output_type": "execute_result"
    },
    {
     "data": {
      "image/png": "[encoded data removed]",
      "text/plain": [
       "<matplotlib.figure.Figure at 0x11a8d0128>"
      ]
     },
     "metadata": {},
     "output_type": "display_data"
    }
   ],
   "source": [
    "getGraph(asian_non_default, \"Asian (Good)\", 'b-')\n",
    "getGraph(white_non_default, \"Non- Hispanic white (Good)\", 'g-')\n",
    "getGraph(black_non_default, \"Black (Good)\", 'c-')\n",
    "getGraph(hispanic_non_default, \"Hispanic (Good)\", 'm-')\n",
    "plt.title(\"Probability of Non-Defaulters Getting $\\hat Y$ = 1 (Beneficial Outcome)\" )\n",
    "\n",
    "\n",
    "blue_line = mlines.Line2D([], [], color='blue', marker='.',\n",
    "                          markersize=15, label='Asian')\n",
    "green_line = mlines.Line2D([], [], color='green', marker='.',\n",
    "                          markersize=15, label='White')\n",
    "cyan_line = mlines.Line2D([], [], color='cyan', marker='.',\n",
    "                          markersize=15, label='Black')\n",
    "purple_line = mlines.Line2D([], [], color='purple', marker='.',\n",
    "                          markersize=15, label='Hispanic')\n",
    "\n",
    "plt.legend(handles=[blue_line, green_line, cyan_line, purple_line])"
   ]
  },
  {
   "cell_type": "code",
   "execution_count": null,
   "metadata": {
    "collapsed": true
   },
   "outputs": [],
   "source": []
  }
 ],
 "metadata": {
  "kernelspec": {
   "display_name": "Python 3",
   "language": "python",
   "name": "python3"
  },
  "language_info": {
   "codemirror_mode": {
    "name": "ipython",
    "version": 3
   },
   "file_extension": ".py",
   "mimetype": "text/x-python",
   "name": "python",
   "nbconvert_exporter": "python",
   "pygments_lexer": "ipython3",
   "version": "3.6.1"
  }
 },
 "nbformat": 4,
 "nbformat_minor": 2
}
