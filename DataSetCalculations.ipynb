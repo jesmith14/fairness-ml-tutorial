{
 "cells": [
  {
   "cell_type": "markdown",
   "metadata": {},
   "source": [
    "# Created in this Notebook:\n",
    "\n",
    "** P(NonDefault | race) **\n",
    "- ProbNonDefaultGivenRace\n",
    "\n",
    "** P(NonDefault | Score=x, race) **\n",
    "- ProbNonDefaultGivenScoreEqualsXAndRace\n",
    "\n",
    "** P(Default | Score=x, race) **\n",
    "- ProbDefOrNotGivenScoreEqualsXAndRace\n",
    "\n",
    "** P(race) **\n",
    "- ProbOfBeingRace\n",
    "\n",
    "** P(Score=x | race) **\n",
    "- ProbScoreEqualsXGivenRace\n",
    "\n",
    "** P(score=x & good & race) **\n",
    "- ProbScoreEqualsXAndGoodAndRace\n",
    "\n",
    "** P(NonDefault & race) **\n",
    "- ProbNonDefaultAndRace\n",
    "\n",
    "** P(Score=x | NonDefault, race) **\n",
    "- ProbScoreEqualsXGivenNonDefaultAndRace\n",
    "\n",
    "** P(Score>=x | NonDefault, race) **\n",
    "- ProbScoreGreaterThanXGivenNonDefaultAndRace\n",
    "- to obtain this, I calculated:\n",
    "    - <b>P(score=x & NonDefault & race)</b>\n",
    "    - <b>P(race & score=x) </b>\n",
    "    - <b>P(NonDefault and race)</b>\n",
    "\n",
    "** P(NonDefault | Score=>x, race) **\n",
    "- ProbNonDefaultGivenScoreGreaterXAndRace\n",
    "- This is supposed to yield the same results that ProbLoanReceiverIsGood.csv did\n",
    "- Small rounding errors are causing this dataset to create different final results - unsure the cause"
   ]
  },
  {
   "cell_type": "code",
   "execution_count": 1,
   "metadata": {
    "collapsed": true
   },
   "outputs": [],
   "source": [
    "import pandas as pd\n",
    "import numpy as np\n",
    "%matplotlib inline"
   ]
  },
  {
   "cell_type": "code",
   "execution_count": 2,
   "metadata": {
    "collapsed": true
   },
   "outputs": [],
   "source": [
    "CumulativePercentageByDefaulters = pd.read_csv(\"Figure7A-fixed.csv\")\n",
    "CumulativePercentageByDemographic = pd.read_csv(\"Figure3A.csv\")"
   ]
  },
  {
   "cell_type": "markdown",
   "metadata": {},
   "source": [
    "<hr/>"
   ]
  },
  {
   "cell_type": "markdown",
   "metadata": {},
   "source": [
    "# Calculating P(NonDefault | race) - pi values\n",
    "- Named ProbNonDefaultGivenRace.csv"
   ]
  },
  {
   "cell_type": "code",
   "execution_count": 3,
   "metadata": {
    "collapsed": true
   },
   "outputs": [],
   "source": [
    "def getPisNonCumulative(dataset, raceSet, goodName, badName):\n",
    "    good = dataset.set_index(\"Score\")[goodName].diff().fillna(value=0)\n",
    "    bad = dataset.set_index(\"Score\")[badName].diff().fillna(value=0)\n",
    "    total = raceSet.set_index(\"Score\")[\"Percentage\"].diff().fillna(value=0)\n",
    "    return ((total - bad) / (good - bad)).fillna(value=0)"
   ]
  },
  {
   "cell_type": "code",
   "execution_count": 4,
   "metadata": {
    "collapsed": true
   },
   "outputs": [],
   "source": [
    "# Get the dataframe that holds the cumulative percentage, by demographic group\n",
    "# This function is just for reorganizing the given data\n",
    "def getPD(data, col, raceName):\n",
    "    pd = data[\"Score\"].to_frame(name=\"Score\")\n",
    "    race = np.full(len(data), raceName)\n",
    "    pd[\"Demographic\"] = race\n",
    "    pd[\"Percentage\"] = data[col]\n",
    "    return pd\n",
    "\n",
    "whites = getPD(CumulativePercentageByDemographic, \"White\", \"white\")\n",
    "blacks = getPD(CumulativePercentageByDemographic, \"Black\", \"black\")\n",
    "asians = getPD(CumulativePercentageByDemographic, \"Asian\", \"asian\")\n",
    "hispanics = getPD(CumulativePercentageByDemographic, \"Hispanic\", \"hispanic\")"
   ]
  },
  {
   "cell_type": "code",
   "execution_count": 5,
   "metadata": {
    "collapsed": true
   },
   "outputs": [],
   "source": [
    "whitePi = getPisNonCumulative(CumulativePercentageByDefaulters, whites, \"White (NonDefault)\", \"White (Default)\")\n",
    "blackPi = getPisNonCumulative(CumulativePercentageByDefaulters, blacks, \"Black (NonDefault)\", \"Black (Default)\")\n",
    "asianPi = getPisNonCumulative(CumulativePercentageByDefaulters, asians, \"Asian (NonDefault)\", \"Asian (Default)\")\n",
    "hispanicPi = getPisNonCumulative(CumulativePercentageByDefaulters, hispanics, \"Hispanic (NonDefault)\", \"Hispanic (Default)\")"
   ]
  },
  {
   "cell_type": "code",
   "execution_count": 6,
   "metadata": {},
   "outputs": [
    {
     "data": {
      "text/plain": [
       "(0.77551020408163152,\n",
       " 0.29896907216495305,\n",
       " 0.80645161290323375,\n",
       " 0.54545454545453709)"
      ]
     },
     "execution_count": 6,
     "metadata": {},
     "output_type": "execute_result"
    }
   ],
   "source": [
    "whitePi[50], blackPi[50], asianPi[50], hispanicPi[50]"
   ]
  },
  {
   "cell_type": "code",
   "execution_count": 7,
   "metadata": {
    "collapsed": true
   },
   "outputs": [],
   "source": [
    "# hardcoded pi values to account for rounding error\n",
    "pis = [0.759185,0.315164,0.550595,0.80066]\n",
    "# pis = [whitePi[50], blackPi[50], asianPi[50], hispanicPi[50]]\n",
    "ProbNonDefaultGivenRace = pd.DataFrame(data=[pis], columns=['white', 'black', 'hispanic', 'asian'])\n",
    "ProbNonDefaultGivenRace.set_index(\"white\").to_csv(\"ProbNonDefaultGivenRace.csv\")"
   ]
  },
  {
   "cell_type": "markdown",
   "metadata": {},
   "source": [
    "<hr/>"
   ]
  },
  {
   "cell_type": "markdown",
   "metadata": {},
   "source": [
    "# Calculating P(NonDefault | Score=x, race) and P(Default | Score=x, race)"
   ]
  },
  {
   "cell_type": "markdown",
   "metadata": {},
   "source": [
    "<h2 align='center'>$\\frac{pi * P(Score=x | NonDefault)}{pi * P(Score=x|NonDefault) + (1-pi) * P(Score=x | Default)}$</h2>\n",
    "- from our discussion / email about Bayes' Rule on April 10th\n",
    "- CumulativePercentageByDefaulters (from Figure 7A) gives us P(Score>=x | NonDefault) and P(Score>=x | Default).\n",
    "- https://www.federalreserve.gov/boarddocs/rptcongress/creditscore/figtables7.htm#d7A\n",
    "- Using diff(), we can obtain P(Score=x|NonDefault) and P(Score=x|Default).\n",
    "- Together, with the pi values calculated above. We have the necessary requirements to calculate P(NonDefault | Score=x)\n",
    "- used to be named NonCumulativeProbabilities.csv (the one we weren't sure the origination of last week's meeting)"
   ]
  },
  {
   "cell_type": "code",
   "execution_count": 8,
   "metadata": {
    "collapsed": true
   },
   "outputs": [],
   "source": [
    "def getProbDefOrNotGivenScoreEqualsX(dataset, names, pis):\n",
    "    probabilities = pd.DataFrame(index=dataset.index)\n",
    "    for i in range(len(names)):\n",
    "        nonDefault = dataset[names[i] + ' (NonDefault)'].diff().fillna(value=0)\n",
    "        default = dataset[names[i] + ' (Default)'].diff().fillna(value=0)\n",
    "        finalProbability = (\n",
    "            (pis[i] * nonDefault) / ((pis[i] * nonDefault) + ((1 - pis[i])*(default))))\n",
    "        probabilities['P(NonDefault|Score=x, ' + names[i] + ')'] = finalProbability.fillna(value=0)\n",
    "        probabilities['P(Default|Score=x, ' + names[i] + ')'] = (1 - finalProbability.fillna(value=0))\n",
    "    probabilities['Score'] = dataset.index\n",
    "    return probabilities.set_index('Score')"
   ]
  },
  {
   "cell_type": "code",
   "execution_count": 9,
   "metadata": {
    "collapsed": true
   },
   "outputs": [],
   "source": [
    "ProbDefOrNotGivenScoreEqualsXAndRace = getProbDefOrNotGivenScoreEqualsX(\n",
    "    CumulativePercentageByDefaulters.set_index('Score'),\n",
    "    [\"White\", \"Black\", \"Hispanic\", \"Asian\"],\n",
    "    pis)"
   ]
  },
  {
   "cell_type": "code",
   "execution_count": 10,
   "metadata": {},
   "outputs": [
    {
     "data": {
      "text/html": [
       "<div>\n",
       "<style>\n",
       "    .dataframe thead tr:only-child th {\n",
       "        text-align: right;\n",
       "    }\n",
       "\n",
       "    .dataframe thead th {\n",
       "        text-align: left;\n",
       "    }\n",
       "\n",
       "    .dataframe tbody tr th {\n",
       "        vertical-align: top;\n",
       "    }\n",
       "</style>\n",
       "<table border=\"1\" class=\"dataframe\">\n",
       "  <thead>\n",
       "    <tr style=\"text-align: right;\">\n",
       "      <th></th>\n",
       "      <th>P(NonDefault|Score=x, White)</th>\n",
       "      <th>P(Default|Score=x, White)</th>\n",
       "      <th>P(NonDefault|Score=x, Black)</th>\n",
       "      <th>P(Default|Score=x, Black)</th>\n",
       "      <th>P(NonDefault|Score=x, Hispanic)</th>\n",
       "      <th>P(Default|Score=x, Hispanic)</th>\n",
       "      <th>P(NonDefault|Score=x, Asian)</th>\n",
       "      <th>P(Default|Score=x, Asian)</th>\n",
       "    </tr>\n",
       "    <tr>\n",
       "      <th>Score</th>\n",
       "      <th></th>\n",
       "      <th></th>\n",
       "      <th></th>\n",
       "      <th></th>\n",
       "      <th></th>\n",
       "      <th></th>\n",
       "      <th></th>\n",
       "      <th></th>\n",
       "    </tr>\n",
       "  </thead>\n",
       "  <tbody>\n",
       "    <tr>\n",
       "      <th>0.0</th>\n",
       "      <td>0.000000</td>\n",
       "      <td>1.000000</td>\n",
       "      <td>0.000000</td>\n",
       "      <td>1.000000</td>\n",
       "      <td>0.000000</td>\n",
       "      <td>1.000000</td>\n",
       "      <td>0.000000</td>\n",
       "      <td>1.000000</td>\n",
       "    </tr>\n",
       "    <tr>\n",
       "      <th>0.5</th>\n",
       "      <td>0.000000</td>\n",
       "      <td>1.000000</td>\n",
       "      <td>0.004872</td>\n",
       "      <td>0.995128</td>\n",
       "      <td>0.021042</td>\n",
       "      <td>0.978958</td>\n",
       "      <td>0.000000</td>\n",
       "      <td>1.000000</td>\n",
       "    </tr>\n",
       "    <tr>\n",
       "      <th>1.0</th>\n",
       "      <td>0.023442</td>\n",
       "      <td>0.976558</td>\n",
       "      <td>0.023545</td>\n",
       "      <td>0.976455</td>\n",
       "      <td>0.011400</td>\n",
       "      <td>0.988600</td>\n",
       "      <td>0.058622</td>\n",
       "      <td>0.941378</td>\n",
       "    </tr>\n",
       "    <tr>\n",
       "      <th>1.5</th>\n",
       "      <td>0.024990</td>\n",
       "      <td>0.975010</td>\n",
       "      <td>0.019935</td>\n",
       "      <td>0.980065</td>\n",
       "      <td>0.000000</td>\n",
       "      <td>1.000000</td>\n",
       "      <td>0.000000</td>\n",
       "      <td>1.000000</td>\n",
       "    </tr>\n",
       "    <tr>\n",
       "      <th>2.0</th>\n",
       "      <td>0.038610</td>\n",
       "      <td>0.961390</td>\n",
       "      <td>0.022100</td>\n",
       "      <td>0.977900</td>\n",
       "      <td>0.025943</td>\n",
       "      <td>0.974057</td>\n",
       "      <td>0.101215</td>\n",
       "      <td>0.898785</td>\n",
       "    </tr>\n",
       "  </tbody>\n",
       "</table>\n",
       "</div>"
      ],
      "text/plain": [
       "       P(NonDefault|Score=x, White)  P(Default|Score=x, White)  \\\n",
       "Score                                                            \n",
       "0.0                        0.000000                   1.000000   \n",
       "0.5                        0.000000                   1.000000   \n",
       "1.0                        0.023442                   0.976558   \n",
       "1.5                        0.024990                   0.975010   \n",
       "2.0                        0.038610                   0.961390   \n",
       "\n",
       "       P(NonDefault|Score=x, Black)  P(Default|Score=x, Black)  \\\n",
       "Score                                                            \n",
       "0.0                        0.000000                   1.000000   \n",
       "0.5                        0.004872                   0.995128   \n",
       "1.0                        0.023545                   0.976455   \n",
       "1.5                        0.019935                   0.980065   \n",
       "2.0                        0.022100                   0.977900   \n",
       "\n",
       "       P(NonDefault|Score=x, Hispanic)  P(Default|Score=x, Hispanic)  \\\n",
       "Score                                                                  \n",
       "0.0                           0.000000                      1.000000   \n",
       "0.5                           0.021042                      0.978958   \n",
       "1.0                           0.011400                      0.988600   \n",
       "1.5                           0.000000                      1.000000   \n",
       "2.0                           0.025943                      0.974057   \n",
       "\n",
       "       P(NonDefault|Score=x, Asian)  P(Default|Score=x, Asian)  \n",
       "Score                                                           \n",
       "0.0                        0.000000                   1.000000  \n",
       "0.5                        0.000000                   1.000000  \n",
       "1.0                        0.058622                   0.941378  \n",
       "1.5                        0.000000                   1.000000  \n",
       "2.0                        0.101215                   0.898785  "
      ]
     },
     "execution_count": 10,
     "metadata": {},
     "output_type": "execute_result"
    }
   ],
   "source": [
    "ProbDefOrNotGivenScoreEqualsXAndRace.head()"
   ]
  },
  {
   "cell_type": "markdown",
   "metadata": {},
   "source": [
    "<hr/>"
   ]
  },
  {
   "cell_type": "markdown",
   "metadata": {},
   "source": [
    "# Creating P(race)\n",
    "- taken from Table 9. \n",
    "- https://www.federalreserve.gov/boarddocs/rptcongress/creditscore/datamodel_tables.htm"
   ]
  },
  {
   "cell_type": "code",
   "execution_count": 11,
   "metadata": {
    "collapsed": true
   },
   "outputs": [],
   "source": [
    "sizes = [133165, 18274, 14702, 7906]\n",
    "total = sum(sizes)\n",
    "ProbOfBeingRace = pd.DataFrame(\n",
    "    { \n",
    "    'Demographic' : ['white', 'black', 'hispanic', 'asian'],\n",
    "    'P(race)' : [sizes[0]/total, sizes[1]/total, sizes[2]/total, sizes[3]/total]\n",
    "    },\n",
    "    columns=[\"Demographic\", \"P(race)\"]\n",
    ")\n",
    "\n",
    "ProbOfBeingRace.set_index('Demographic').to_csv('ProbOfBeingRace.csv')"
   ]
  },
  {
   "cell_type": "markdown",
   "metadata": {},
   "source": [
    "<hr/>"
   ]
  },
  {
   "cell_type": "markdown",
   "metadata": {},
   "source": [
    "# Creating P(Score=x | race)\n",
    "- taken from Table 3A. \n",
    "- https://www.federalreserve.gov/boarddocs/rptcongress/creditscore/figtables3.htm#d3A\n",
    "- using the diff values"
   ]
  },
  {
   "cell_type": "code",
   "execution_count": 12,
   "metadata": {
    "collapsed": true
   },
   "outputs": [],
   "source": [
    "# used to be ProbOfBeingScore\n",
    "# I'll give them this in a csv\n",
    "ProbScoreEqualsXGivenRace = (\n",
    "    pd.read_csv(\"figure3A.csv\")\n",
    "    .set_index([\"Score\"]).diff().fillna(0) / 100\n",
    ")\n",
    "\n",
    "ProbScoreEqualsXGivenRace.to_csv('ProbScoreEqualsXGivenRace.csv')"
   ]
  },
  {
   "cell_type": "code",
   "execution_count": 13,
   "metadata": {},
   "outputs": [
    {
     "data": {
      "text/html": [
       "<div>\n",
       "<style>\n",
       "    .dataframe thead tr:only-child th {\n",
       "        text-align: right;\n",
       "    }\n",
       "\n",
       "    .dataframe thead th {\n",
       "        text-align: left;\n",
       "    }\n",
       "\n",
       "    .dataframe tbody tr th {\n",
       "        vertical-align: top;\n",
       "    }\n",
       "</style>\n",
       "<table border=\"1\" class=\"dataframe\">\n",
       "  <thead>\n",
       "    <tr style=\"text-align: right;\">\n",
       "      <th></th>\n",
       "      <th>White</th>\n",
       "      <th>Black</th>\n",
       "      <th>Hispanic</th>\n",
       "      <th>Asian</th>\n",
       "    </tr>\n",
       "    <tr>\n",
       "      <th>Score</th>\n",
       "      <th></th>\n",
       "      <th></th>\n",
       "      <th></th>\n",
       "      <th></th>\n",
       "    </tr>\n",
       "  </thead>\n",
       "  <tbody>\n",
       "    <tr>\n",
       "      <th>0.0</th>\n",
       "      <td>0.0000</td>\n",
       "      <td>0.0000</td>\n",
       "      <td>0.0000</td>\n",
       "      <td>0.0000</td>\n",
       "    </tr>\n",
       "    <tr>\n",
       "      <th>0.5</th>\n",
       "      <td>0.0025</td>\n",
       "      <td>0.0112</td>\n",
       "      <td>0.0046</td>\n",
       "      <td>0.0013</td>\n",
       "    </tr>\n",
       "    <tr>\n",
       "      <th>1.0</th>\n",
       "      <td>0.0090</td>\n",
       "      <td>0.0414</td>\n",
       "      <td>0.0175</td>\n",
       "      <td>0.0075</td>\n",
       "    </tr>\n",
       "    <tr>\n",
       "      <th>1.5</th>\n",
       "      <td>0.0027</td>\n",
       "      <td>0.0114</td>\n",
       "      <td>0.0052</td>\n",
       "      <td>0.0019</td>\n",
       "    </tr>\n",
       "    <tr>\n",
       "      <th>2.0</th>\n",
       "      <td>0.0037</td>\n",
       "      <td>0.0142</td>\n",
       "      <td>0.0075</td>\n",
       "      <td>0.0025</td>\n",
       "    </tr>\n",
       "  </tbody>\n",
       "</table>\n",
       "</div>"
      ],
      "text/plain": [
       "        White   Black  Hispanic   Asian\n",
       "Score                                  \n",
       "0.0    0.0000  0.0000    0.0000  0.0000\n",
       "0.5    0.0025  0.0112    0.0046  0.0013\n",
       "1.0    0.0090  0.0414    0.0175  0.0075\n",
       "1.5    0.0027  0.0114    0.0052  0.0019\n",
       "2.0    0.0037  0.0142    0.0075  0.0025"
      ]
     },
     "execution_count": 13,
     "metadata": {},
     "output_type": "execute_result"
    }
   ],
   "source": [
    "ProbScoreEqualsXGivenRace.head()"
   ]
  },
  {
   "cell_type": "markdown",
   "metadata": {},
   "source": [
    "# 'ProbScoreEqualsXGivenRace Differ' - this is where I see their difference before exporting to a csv, they are definitely differing by more than 0.0"
   ]
  },
  {
   "cell_type": "code",
   "execution_count": 14,
   "metadata": {},
   "outputs": [
    {
     "name": "stdout",
     "output_type": "stream",
     "text": [
      "White 0.22900000000000045\n",
      "Black 0.4477999999999998\n",
      "Hispanic 0.3226999999999991\n",
      "Asian 0.28189999999999954\n"
     ]
    }
   ],
   "source": [
    "ProbFromOther = pd.read_csv('ProbScoreEqualsXGivenRace-old.csv')\n",
    "\n",
    "for race in [\"White\", \"Black\", \"Hispanic\", \"Asian\"]:\n",
    "    print(race, (ProbFromOther[race.lower()] - ProbScoreEqualsXGivenRace[race]).abs().sum())"
   ]
  },
  {
   "cell_type": "markdown",
   "metadata": {},
   "source": [
    "<hr/>"
   ]
  },
  {
   "cell_type": "markdown",
   "metadata": {},
   "source": [
    "# Calculating P(score=x | NonDefault, race)"
   ]
  },
  {
   "cell_type": "markdown",
   "metadata": {},
   "source": [
    "### P(score=x | NonDefault, race) = P(score=x & NonDefault & race) / P(NonDefault and race)\n",
    "<hr/>\n",
    "### Step 1:\n",
    "### P(score=x & NonDefault & race ) = P(race & score=x) * P(NonDefault | race, score=x)\n",
    "###  P(score=x & NonDefault & race ) = P(race) * P(score=x | race) * P(NonDefault | race, score=x)\n",
    "<hr/>\n",
    "### Step 2:\n",
    "### P(NonDefault and race) = P(race) * P(NonDefault | race)\n",
    "<hr/>\n",
    "### Step 3:\n",
    "### Step 1 / Step2\n",
    "### P(score=x | NonDefault, race) = P(score=x & NonDefault & race) / P(NonDefault and race)\n",
    "<hr/>"
   ]
  },
  {
   "cell_type": "markdown",
   "metadata": {},
   "source": [
    "## Step 1: Calculate P(Score=x & NonDefault & race)"
   ]
  },
  {
   "cell_type": "code",
   "execution_count": 15,
   "metadata": {
    "collapsed": true
   },
   "outputs": [],
   "source": [
    "ProbOfBeingRace.set_index('Demographic', inplace=True)"
   ]
  },
  {
   "cell_type": "code",
   "execution_count": 16,
   "metadata": {},
   "outputs": [
    {
     "data": {
      "text/html": [
       "<div>\n",
       "<style>\n",
       "    .dataframe thead tr:only-child th {\n",
       "        text-align: right;\n",
       "    }\n",
       "\n",
       "    .dataframe thead th {\n",
       "        text-align: left;\n",
       "    }\n",
       "\n",
       "    .dataframe tbody tr th {\n",
       "        vertical-align: top;\n",
       "    }\n",
       "</style>\n",
       "<table border=\"1\" class=\"dataframe\">\n",
       "  <thead>\n",
       "    <tr style=\"text-align: right;\">\n",
       "      <th></th>\n",
       "      <th>White</th>\n",
       "      <th>Black</th>\n",
       "      <th>Hispanic</th>\n",
       "      <th>Asian</th>\n",
       "    </tr>\n",
       "    <tr>\n",
       "      <th>Score</th>\n",
       "      <th></th>\n",
       "      <th></th>\n",
       "      <th></th>\n",
       "      <th></th>\n",
       "    </tr>\n",
       "  </thead>\n",
       "  <tbody>\n",
       "    <tr>\n",
       "      <th>0.0</th>\n",
       "      <td>0.0000</td>\n",
       "      <td>0.0000</td>\n",
       "      <td>0.0000</td>\n",
       "      <td>0.0000</td>\n",
       "    </tr>\n",
       "    <tr>\n",
       "      <th>0.5</th>\n",
       "      <td>0.0025</td>\n",
       "      <td>0.0112</td>\n",
       "      <td>0.0046</td>\n",
       "      <td>0.0013</td>\n",
       "    </tr>\n",
       "    <tr>\n",
       "      <th>1.0</th>\n",
       "      <td>0.0090</td>\n",
       "      <td>0.0414</td>\n",
       "      <td>0.0175</td>\n",
       "      <td>0.0075</td>\n",
       "    </tr>\n",
       "    <tr>\n",
       "      <th>1.5</th>\n",
       "      <td>0.0027</td>\n",
       "      <td>0.0114</td>\n",
       "      <td>0.0052</td>\n",
       "      <td>0.0019</td>\n",
       "    </tr>\n",
       "    <tr>\n",
       "      <th>2.0</th>\n",
       "      <td>0.0037</td>\n",
       "      <td>0.0142</td>\n",
       "      <td>0.0075</td>\n",
       "      <td>0.0025</td>\n",
       "    </tr>\n",
       "  </tbody>\n",
       "</table>\n",
       "</div>"
      ],
      "text/plain": [
       "        White   Black  Hispanic   Asian\n",
       "Score                                  \n",
       "0.0    0.0000  0.0000    0.0000  0.0000\n",
       "0.5    0.0025  0.0112    0.0046  0.0013\n",
       "1.0    0.0090  0.0414    0.0175  0.0075\n",
       "1.5    0.0027  0.0114    0.0052  0.0019\n",
       "2.0    0.0037  0.0142    0.0075  0.0025"
      ]
     },
     "execution_count": 16,
     "metadata": {},
     "output_type": "execute_result"
    }
   ],
   "source": [
    "ProbScoreEqualsXGivenRace.head()"
   ]
  },
  {
   "cell_type": "code",
   "execution_count": 17,
   "metadata": {
    "collapsed": true
   },
   "outputs": [],
   "source": [
    "ProbRaceAndScoreEqualsX = pd.DataFrame({\n",
    "    'white': ProbOfBeingRace.loc['white']['P(race)'] * ProbScoreEqualsXGivenRace['White'],\n",
    "    'asian': ProbOfBeingRace.loc['asian']['P(race)'] * ProbScoreEqualsXGivenRace['Asian'],\n",
    "    'black': ProbOfBeingRace.loc['black']['P(race)'] * ProbScoreEqualsXGivenRace['Black'],\n",
    "    'hispanic': ProbOfBeingRace.loc['hispanic']['P(race)'] * ProbScoreEqualsXGivenRace['Hispanic'],\n",
    "})"
   ]
  },
  {
   "cell_type": "code",
   "execution_count": 18,
   "metadata": {},
   "outputs": [
    {
     "name": "stdout",
     "output_type": "stream",
     "text": [
      "white 0.17521005820266966\n",
      "black 0.04701659436818787\n",
      "hispanic 0.027258932357351672\n",
      "asian 0.012805169867909215\n"
     ]
    }
   ],
   "source": [
    "ProbFromOther = pd.read_csv('ProbRaceAndScoreEqualsX.csv')\n",
    "for race in [\"white\", \"black\", \"hispanic\", \"asian\"]:\n",
    "    print(race, (ProbFromOther[race.lower()] - ProbRaceAndScoreEqualsX[race]).abs().sum())"
   ]
  },
  {
   "cell_type": "code",
   "execution_count": 19,
   "metadata": {
    "collapsed": true
   },
   "outputs": [],
   "source": [
    "ProbNonDefaultGivenScoreEqualsXAndRace = (\n",
    "    ProbDefOrNotGivenScoreEqualsXAndRace[['P(NonDefault|Score=x, White)', \n",
    "                                 'P(NonDefault|Score=x, Black)',\n",
    "                                'P(NonDefault|Score=x, Hispanic)',\n",
    "                                'P(NonDefault|Score=x, Asian)']])"
   ]
  },
  {
   "cell_type": "code",
   "execution_count": 20,
   "metadata": {},
   "outputs": [
    {
     "data": {
      "text/html": [
       "<div>\n",
       "<style>\n",
       "    .dataframe thead tr:only-child th {\n",
       "        text-align: right;\n",
       "    }\n",
       "\n",
       "    .dataframe thead th {\n",
       "        text-align: left;\n",
       "    }\n",
       "\n",
       "    .dataframe tbody tr th {\n",
       "        vertical-align: top;\n",
       "    }\n",
       "</style>\n",
       "<table border=\"1\" class=\"dataframe\">\n",
       "  <thead>\n",
       "    <tr style=\"text-align: right;\">\n",
       "      <th></th>\n",
       "      <th>P(NonDefault|Score=x, White)</th>\n",
       "      <th>P(NonDefault|Score=x, Black)</th>\n",
       "      <th>P(NonDefault|Score=x, Hispanic)</th>\n",
       "      <th>P(NonDefault|Score=x, Asian)</th>\n",
       "    </tr>\n",
       "    <tr>\n",
       "      <th>Score</th>\n",
       "      <th></th>\n",
       "      <th></th>\n",
       "      <th></th>\n",
       "      <th></th>\n",
       "    </tr>\n",
       "  </thead>\n",
       "  <tbody>\n",
       "    <tr>\n",
       "      <th>0.0</th>\n",
       "      <td>0.000000</td>\n",
       "      <td>0.000000</td>\n",
       "      <td>0.000000</td>\n",
       "      <td>0.000000</td>\n",
       "    </tr>\n",
       "    <tr>\n",
       "      <th>0.5</th>\n",
       "      <td>0.000000</td>\n",
       "      <td>0.004872</td>\n",
       "      <td>0.021042</td>\n",
       "      <td>0.000000</td>\n",
       "    </tr>\n",
       "    <tr>\n",
       "      <th>1.0</th>\n",
       "      <td>0.023442</td>\n",
       "      <td>0.023545</td>\n",
       "      <td>0.011400</td>\n",
       "      <td>0.058622</td>\n",
       "    </tr>\n",
       "    <tr>\n",
       "      <th>1.5</th>\n",
       "      <td>0.024990</td>\n",
       "      <td>0.019935</td>\n",
       "      <td>0.000000</td>\n",
       "      <td>0.000000</td>\n",
       "    </tr>\n",
       "    <tr>\n",
       "      <th>2.0</th>\n",
       "      <td>0.038610</td>\n",
       "      <td>0.022100</td>\n",
       "      <td>0.025943</td>\n",
       "      <td>0.101215</td>\n",
       "    </tr>\n",
       "  </tbody>\n",
       "</table>\n",
       "</div>"
      ],
      "text/plain": [
       "       P(NonDefault|Score=x, White)  P(NonDefault|Score=x, Black)  \\\n",
       "Score                                                               \n",
       "0.0                        0.000000                      0.000000   \n",
       "0.5                        0.000000                      0.004872   \n",
       "1.0                        0.023442                      0.023545   \n",
       "1.5                        0.024990                      0.019935   \n",
       "2.0                        0.038610                      0.022100   \n",
       "\n",
       "       P(NonDefault|Score=x, Hispanic)  P(NonDefault|Score=x, Asian)  \n",
       "Score                                                                 \n",
       "0.0                           0.000000                      0.000000  \n",
       "0.5                           0.021042                      0.000000  \n",
       "1.0                           0.011400                      0.058622  \n",
       "1.5                           0.000000                      0.000000  \n",
       "2.0                           0.025943                      0.101215  "
      ]
     },
     "execution_count": 20,
     "metadata": {},
     "output_type": "execute_result"
    }
   ],
   "source": [
    "ProbNonDefaultGivenScoreEqualsXAndRace.head()"
   ]
  },
  {
   "cell_type": "code",
   "execution_count": 21,
   "metadata": {},
   "outputs": [
    {
     "data": {
      "text/html": [
       "<div>\n",
       "<style>\n",
       "    .dataframe thead tr:only-child th {\n",
       "        text-align: right;\n",
       "    }\n",
       "\n",
       "    .dataframe thead th {\n",
       "        text-align: left;\n",
       "    }\n",
       "\n",
       "    .dataframe tbody tr th {\n",
       "        vertical-align: top;\n",
       "    }\n",
       "</style>\n",
       "<table border=\"1\" class=\"dataframe\">\n",
       "  <thead>\n",
       "    <tr style=\"text-align: right;\">\n",
       "      <th></th>\n",
       "      <th>P(Score=x and NonDefault and White)</th>\n",
       "      <th>P(Score=x and NonDefault and Black)</th>\n",
       "      <th>P(Score=x and NonDefault and Hispanic)</th>\n",
       "      <th>P(Score=x and NonDefault and Asian)</th>\n",
       "    </tr>\n",
       "    <tr>\n",
       "      <th>Score</th>\n",
       "      <th></th>\n",
       "      <th></th>\n",
       "      <th></th>\n",
       "      <th></th>\n",
       "    </tr>\n",
       "  </thead>\n",
       "  <tbody>\n",
       "    <tr>\n",
       "      <th>0.0</th>\n",
       "      <td>0.000000</td>\n",
       "      <td>0.000000</td>\n",
       "      <td>0.000000</td>\n",
       "      <td>0.000000</td>\n",
       "    </tr>\n",
       "    <tr>\n",
       "      <th>0.5</th>\n",
       "      <td>0.000000</td>\n",
       "      <td>0.000006</td>\n",
       "      <td>0.000008</td>\n",
       "      <td>0.000000</td>\n",
       "    </tr>\n",
       "    <tr>\n",
       "      <th>1.0</th>\n",
       "      <td>0.000161</td>\n",
       "      <td>0.000102</td>\n",
       "      <td>0.000017</td>\n",
       "      <td>0.000020</td>\n",
       "    </tr>\n",
       "    <tr>\n",
       "      <th>1.5</th>\n",
       "      <td>0.000052</td>\n",
       "      <td>0.000024</td>\n",
       "      <td>0.000000</td>\n",
       "      <td>0.000000</td>\n",
       "    </tr>\n",
       "    <tr>\n",
       "      <th>2.0</th>\n",
       "      <td>0.000109</td>\n",
       "      <td>0.000033</td>\n",
       "      <td>0.000016</td>\n",
       "      <td>0.000011</td>\n",
       "    </tr>\n",
       "  </tbody>\n",
       "</table>\n",
       "</div>"
      ],
      "text/plain": [
       "       P(Score=x and NonDefault and White)  \\\n",
       "Score                                        \n",
       "0.0                               0.000000   \n",
       "0.5                               0.000000   \n",
       "1.0                               0.000161   \n",
       "1.5                               0.000052   \n",
       "2.0                               0.000109   \n",
       "\n",
       "       P(Score=x and NonDefault and Black)  \\\n",
       "Score                                        \n",
       "0.0                               0.000000   \n",
       "0.5                               0.000006   \n",
       "1.0                               0.000102   \n",
       "1.5                               0.000024   \n",
       "2.0                               0.000033   \n",
       "\n",
       "       P(Score=x and NonDefault and Hispanic)  \\\n",
       "Score                                           \n",
       "0.0                                  0.000000   \n",
       "0.5                                  0.000008   \n",
       "1.0                                  0.000017   \n",
       "1.5                                  0.000000   \n",
       "2.0                                  0.000016   \n",
       "\n",
       "       P(Score=x and NonDefault and Asian)  \n",
       "Score                                       \n",
       "0.0                               0.000000  \n",
       "0.5                               0.000000  \n",
       "1.0                               0.000020  \n",
       "1.5                               0.000000  \n",
       "2.0                               0.000011  "
      ]
     },
     "execution_count": 21,
     "metadata": {},
     "output_type": "execute_result"
    }
   ],
   "source": [
    "ProbScoreEqualsXAndGoodAndRace = pd.DataFrame(index=ProbRaceAndScoreEqualsX.index)\n",
    "ProbScoreEqualsXAndGoodAndRace['P(Score=x and NonDefault and White)'] = (\n",
    "    ProbRaceAndScoreEqualsX['white'] * ProbNonDefaultGivenScoreEqualsXAndRace['P(NonDefault|Score=x, White)'])\n",
    "ProbScoreEqualsXAndGoodAndRace['P(Score=x and NonDefault and Black)'] = (\n",
    "    ProbRaceAndScoreEqualsX['black'] * ProbNonDefaultGivenScoreEqualsXAndRace['P(NonDefault|Score=x, Black)'])\n",
    "ProbScoreEqualsXAndGoodAndRace['P(Score=x and NonDefault and Hispanic)'] = (\n",
    "    ProbRaceAndScoreEqualsX['hispanic'] * ProbNonDefaultGivenScoreEqualsXAndRace['P(NonDefault|Score=x, Hispanic)'])\n",
    "ProbScoreEqualsXAndGoodAndRace['P(Score=x and NonDefault and Asian)'] = (\n",
    "    ProbRaceAndScoreEqualsX['asian'] * ProbNonDefaultGivenScoreEqualsXAndRace['P(NonDefault|Score=x, Asian)'])\n",
    "# i'll give them this in a csv I think\n",
    "ProbScoreEqualsXAndGoodAndRace.head()"
   ]
  },
  {
   "cell_type": "code",
   "execution_count": 22,
   "metadata": {
    "collapsed": true
   },
   "outputs": [],
   "source": [
    "# delete this later it will mess stuff up\n",
    "ProbScoreEqualsXAndGoodAndRace.columns=['white', 'black', 'hispanic', 'asian']"
   ]
  },
  {
   "cell_type": "code",
   "execution_count": 23,
   "metadata": {},
   "outputs": [
    {
     "name": "stdout",
     "output_type": "stream",
     "text": [
      "white 0.18305259216161024\n",
      "black 0.014612668194484476\n",
      "hispanic 0.017668985457229308\n",
      "asian 0.012851035980292675\n"
     ]
    }
   ],
   "source": [
    "ProbFromOther = pd.read_csv('P(score=xandgoodandrace).csv')\n",
    "\n",
    "for race in [\"white\", \"black\", \"hispanic\", \"asian\"]:\n",
    "    print(race, (ProbFromOther[race.lower()] - ProbScoreEqualsXAndGoodAndRace[race]).abs().sum())"
   ]
  },
  {
   "cell_type": "code",
   "execution_count": 24,
   "metadata": {},
   "outputs": [],
   "source": [
    "ProbScoreEqualsXAndGoodAndRace.columns=['P(Score=x and NonDefault and White)', 'P(Score=x and NonDefault and Black)','P(Score=x and NonDefault and Hispanic)' ,'P(Score=x and NonDefault and Asian)']"
   ]
  },
  {
   "cell_type": "markdown",
   "metadata": {},
   "source": [
    "## Step 2: Calculate P(NonDefault and race)"
   ]
  },
  {
   "cell_type": "code",
   "execution_count": 25,
   "metadata": {
    "collapsed": true
   },
   "outputs": [],
   "source": [
    "ProbGoodAndRace = pd.DataFrame({\n",
    "    'white': ProbOfBeingRace.loc['white']['P(race)'] * ProbNonDefaultGivenRace['white'],\n",
    "    'asian': ProbOfBeingRace.loc['asian']['P(race)'] * ProbNonDefaultGivenRace['asian'],\n",
    "    'black': ProbOfBeingRace.loc['black']['P(race)'] * ProbNonDefaultGivenRace['black'],\n",
    "    'hispanic': ProbOfBeingRace.loc['hispanic']['P(race)'] * ProbNonDefaultGivenRace['hispanic'],\n",
    "})"
   ]
  },
  {
   "cell_type": "code",
   "execution_count": 26,
   "metadata": {},
   "outputs": [
    {
     "data": {
      "text/html": [
       "<div>\n",
       "<style>\n",
       "    .dataframe thead tr:only-child th {\n",
       "        text-align: right;\n",
       "    }\n",
       "\n",
       "    .dataframe thead th {\n",
       "        text-align: left;\n",
       "    }\n",
       "\n",
       "    .dataframe tbody tr th {\n",
       "        vertical-align: top;\n",
       "    }\n",
       "</style>\n",
       "<table border=\"1\" class=\"dataframe\">\n",
       "  <thead>\n",
       "    <tr style=\"text-align: right;\">\n",
       "      <th></th>\n",
       "      <th>asian</th>\n",
       "      <th>black</th>\n",
       "      <th>hispanic</th>\n",
       "      <th>white</th>\n",
       "    </tr>\n",
       "  </thead>\n",
       "  <tbody>\n",
       "    <tr>\n",
       "      <th>0</th>\n",
       "      <td>0.03637</td>\n",
       "      <td>0.033091</td>\n",
       "      <td>0.04651</td>\n",
       "      <td>0.58086</td>\n",
       "    </tr>\n",
       "  </tbody>\n",
       "</table>\n",
       "</div>"
      ],
      "text/plain": [
       "     asian     black  hispanic    white\n",
       "0  0.03637  0.033091   0.04651  0.58086"
      ]
     },
     "execution_count": 26,
     "metadata": {},
     "output_type": "execute_result"
    }
   ],
   "source": [
    "# I'll give them this csv I think\n",
    "ProbGoodAndRace"
   ]
  },
  {
   "cell_type": "markdown",
   "metadata": {},
   "source": [
    "## Step 3: Calculate P(Score=x | NonDefault, race)"
   ]
  },
  {
   "cell_type": "code",
   "execution_count": 27,
   "metadata": {},
   "outputs": [
    {
     "data": {
      "text/html": [
       "<div>\n",
       "<style>\n",
       "    .dataframe thead tr:only-child th {\n",
       "        text-align: right;\n",
       "    }\n",
       "\n",
       "    .dataframe thead th {\n",
       "        text-align: left;\n",
       "    }\n",
       "\n",
       "    .dataframe tbody tr th {\n",
       "        vertical-align: top;\n",
       "    }\n",
       "</style>\n",
       "<table border=\"1\" class=\"dataframe\">\n",
       "  <thead>\n",
       "    <tr style=\"text-align: right;\">\n",
       "      <th></th>\n",
       "      <th>asian</th>\n",
       "      <th>black</th>\n",
       "      <th>hispanic</th>\n",
       "      <th>white</th>\n",
       "    </tr>\n",
       "    <tr>\n",
       "      <th>Score</th>\n",
       "      <th></th>\n",
       "      <th></th>\n",
       "      <th></th>\n",
       "      <th></th>\n",
       "    </tr>\n",
       "  </thead>\n",
       "  <tbody>\n",
       "    <tr>\n",
       "      <th>0.0</th>\n",
       "      <td>0.000000</td>\n",
       "      <td>0.000000</td>\n",
       "      <td>0.000000</td>\n",
       "      <td>0.000000</td>\n",
       "    </tr>\n",
       "    <tr>\n",
       "      <th>0.5</th>\n",
       "      <td>0.000000</td>\n",
       "      <td>0.000173</td>\n",
       "      <td>0.000176</td>\n",
       "      <td>0.000000</td>\n",
       "    </tr>\n",
       "    <tr>\n",
       "      <th>1.0</th>\n",
       "      <td>0.000549</td>\n",
       "      <td>0.003093</td>\n",
       "      <td>0.000362</td>\n",
       "      <td>0.000278</td>\n",
       "    </tr>\n",
       "    <tr>\n",
       "      <th>1.5</th>\n",
       "      <td>0.000000</td>\n",
       "      <td>0.000721</td>\n",
       "      <td>0.000000</td>\n",
       "      <td>0.000089</td>\n",
       "    </tr>\n",
       "    <tr>\n",
       "      <th>2.0</th>\n",
       "      <td>0.000316</td>\n",
       "      <td>0.000996</td>\n",
       "      <td>0.000353</td>\n",
       "      <td>0.000188</td>\n",
       "    </tr>\n",
       "  </tbody>\n",
       "</table>\n",
       "</div>"
      ],
      "text/plain": [
       "          asian     black  hispanic     white\n",
       "Score                                        \n",
       "0.0    0.000000  0.000000  0.000000  0.000000\n",
       "0.5    0.000000  0.000173  0.000176  0.000000\n",
       "1.0    0.000549  0.003093  0.000362  0.000278\n",
       "1.5    0.000000  0.000721  0.000000  0.000089\n",
       "2.0    0.000316  0.000996  0.000353  0.000188"
      ]
     },
     "execution_count": 27,
     "metadata": {},
     "output_type": "execute_result"
    }
   ],
   "source": [
    "ProbScoreEqualsXGivenNonDefaultAndRace = pd.DataFrame({\n",
    "    'white': ProbScoreEqualsXAndGoodAndRace['P(Score=x and NonDefault and White)'] / ProbGoodAndRace['white'].values[0],\n",
    "    'asian': ProbScoreEqualsXAndGoodAndRace['P(Score=x and NonDefault and Asian)'] / ProbGoodAndRace['asian'].values[0],\n",
    "    'black': ProbScoreEqualsXAndGoodAndRace['P(Score=x and NonDefault and Black)'] / ProbGoodAndRace['black'].values[0],\n",
    "    'hispanic': ProbScoreEqualsXAndGoodAndRace ['P(Score=x and NonDefault and Hispanic)'] / ProbGoodAndRace['hispanic'].values[0],\n",
    "})\n",
    "\n",
    "\n",
    "ProbScoreEqualsXGivenNonDefaultAndRace.head()"
   ]
  },
  {
   "cell_type": "code",
   "execution_count": 28,
   "metadata": {},
   "outputs": [
    {
     "name": "stdout",
     "output_type": "stream",
     "text": [
      "white 0.3151408578970133\n",
      "black 0.44159672153396745\n",
      "hispanic 0.3799001574388349\n",
      "asian 0.3533456418916701\n"
     ]
    }
   ],
   "source": [
    "ProbFromOther = pd.read_csv('ProbScoreEqualsXGivenGoodAndRace.csv')\n",
    "\n",
    "for race in [\"white\", \"black\", \"hispanic\", \"asian\"]:\n",
    "    print(race, (ProbFromOther[race.lower()] - ProbScoreEqualsXGivenNonDefaultAndRace[race]).abs().sum())"
   ]
  },
  {
   "cell_type": "markdown",
   "metadata": {},
   "source": [
    "<hr/>"
   ]
  },
  {
   "cell_type": "markdown",
   "metadata": {},
   "source": [
    "# Calculating P(Score>=x | NonDefault, race)"
   ]
  },
  {
   "cell_type": "code",
   "execution_count": 29,
   "metadata": {},
   "outputs": [
    {
     "data": {
      "text/html": [
       "<div>\n",
       "<style>\n",
       "    .dataframe thead tr:only-child th {\n",
       "        text-align: right;\n",
       "    }\n",
       "\n",
       "    .dataframe thead th {\n",
       "        text-align: left;\n",
       "    }\n",
       "\n",
       "    .dataframe tbody tr th {\n",
       "        vertical-align: top;\n",
       "    }\n",
       "</style>\n",
       "<table border=\"1\" class=\"dataframe\">\n",
       "  <thead>\n",
       "    <tr style=\"text-align: right;\">\n",
       "      <th></th>\n",
       "      <th>asian</th>\n",
       "      <th>black</th>\n",
       "      <th>hispanic</th>\n",
       "      <th>white</th>\n",
       "    </tr>\n",
       "    <tr>\n",
       "      <th>Score</th>\n",
       "      <th></th>\n",
       "      <th></th>\n",
       "      <th></th>\n",
       "      <th></th>\n",
       "    </tr>\n",
       "  </thead>\n",
       "  <tbody>\n",
       "    <tr>\n",
       "      <th>0.0</th>\n",
       "      <td>0.996122</td>\n",
       "      <td>1.026501</td>\n",
       "      <td>1.004775</td>\n",
       "      <td>0.989761</td>\n",
       "    </tr>\n",
       "    <tr>\n",
       "      <th>0.5</th>\n",
       "      <td>0.996122</td>\n",
       "      <td>1.026501</td>\n",
       "      <td>1.004775</td>\n",
       "      <td>0.989761</td>\n",
       "    </tr>\n",
       "    <tr>\n",
       "      <th>1.0</th>\n",
       "      <td>0.996122</td>\n",
       "      <td>1.026328</td>\n",
       "      <td>1.004600</td>\n",
       "      <td>0.989761</td>\n",
       "    </tr>\n",
       "    <tr>\n",
       "      <th>1.5</th>\n",
       "      <td>0.995573</td>\n",
       "      <td>1.023235</td>\n",
       "      <td>1.004237</td>\n",
       "      <td>0.989483</td>\n",
       "    </tr>\n",
       "    <tr>\n",
       "      <th>2.0</th>\n",
       "      <td>0.995573</td>\n",
       "      <td>1.022514</td>\n",
       "      <td>1.004237</td>\n",
       "      <td>0.989394</td>\n",
       "    </tr>\n",
       "  </tbody>\n",
       "</table>\n",
       "</div>"
      ],
      "text/plain": [
       "          asian     black  hispanic     white\n",
       "Score                                        \n",
       "0.0    0.996122  1.026501  1.004775  0.989761\n",
       "0.5    0.996122  1.026501  1.004775  0.989761\n",
       "1.0    0.996122  1.026328  1.004600  0.989761\n",
       "1.5    0.995573  1.023235  1.004237  0.989483\n",
       "2.0    0.995573  1.022514  1.004237  0.989394"
      ]
     },
     "execution_count": 29,
     "metadata": {},
     "output_type": "execute_result"
    }
   ],
   "source": [
    "ProbScoreGreaterThanXGivenNonDefaultAndRace = ProbScoreEqualsXGivenNonDefaultAndRace.iloc[::-1].cumsum()[::-1]\n",
    "ProbScoreGreaterThanXGivenNonDefaultAndRace.head()"
   ]
  },
  {
   "cell_type": "code",
   "execution_count": null,
   "metadata": {
    "collapsed": true
   },
   "outputs": [],
   "source": []
  },
  {
   "cell_type": "markdown",
   "metadata": {},
   "source": [
    "<hr/>"
   ]
  },
  {
   "cell_type": "markdown",
   "metadata": {},
   "source": [
    "# Calculating P(NonDefault | Score=>x, race)\n",
    "# THIS IS THE ONE THAT SOMETHING IS WRONG WITH UNFORTUNATELY\n",
    "### Should match ProbLoanReceiverIsGood.csv, but does not match"
   ]
  },
  {
   "cell_type": "markdown",
   "metadata": {},
   "source": [
    "<h2 align='center'>$\\frac{P(NonDefault and Score>=x | race)}{P(Score>=x | race)}$</h2>\n",
    "\n",
    "** P(NonDefault | Score=x, race) **\n",
    "- calculated earlier in this notebook\n",
    "- ProbNonDefaultGivenScoreEqualsXAndRace\n",
    "\n",
    "** P(NonDefault and Score=x | race) = P(NonDefault | Score=x, race) * P(Score=x | race) **\n",
    "- ProbNonDefaultGivenScoreEqualsXAndRace * ProbScoreEqualsXAndRace (calculated above)\n",
    "- we can use cumsum() on the reverse of this to obtain P(NonDefault and Score>=x | race)\n",
    "\n",
    "** P(NonDefault and Score>=x | race) **\n",
    "- ProbNonDefaultAndScoreGreaterXGivenRace\n",
    "- see above for how to calculate this\n",
    "\n",
    "** P(Score>=x | race) **\n",
    "- We already calculated P(Score=x | race), we can use cumsum() on the reverse of ProbScoreEqualsXGivenRace to obtain this"
   ]
  },
  {
   "cell_type": "code",
   "execution_count": 30,
   "metadata": {
    "collapsed": true
   },
   "outputs": [],
   "source": [
    "ProbNonDefaultGivenScoreEqualsXAndRace.columns= ['Asian', 'Black', 'Hispanic', 'White']\n",
    "ProbNonDefaultAndScoreEqualsXGivenRace = (\n",
    "    ProbScoreEqualsXGivenRace * ProbNonDefaultGivenScoreEqualsXAndRace)\n",
    "ProbNonDefaultAndScoreGreaterXGivenRace = (\n",
    "    ProbNonDefaultAndScoreEqualsXGivenRace.iloc[::-1].cumsum()[::-1])"
   ]
  },
  {
   "cell_type": "code",
   "execution_count": 31,
   "metadata": {
    "collapsed": true
   },
   "outputs": [],
   "source": [
    "ProbScoreGreaterXGivenRace = ProbScoreEqualsXGivenRace.iloc[::-1].cumsum()[::-1]"
   ]
  },
  {
   "cell_type": "code",
   "execution_count": 32,
   "metadata": {
    "collapsed": true
   },
   "outputs": [],
   "source": [
    "ProbNonDefaultGivenScoreGreaterXAndRace = (\n",
    "    ProbNonDefaultAndScoreGreaterXGivenRace / ProbScoreGreaterXGivenRace)"
   ]
  },
  {
   "cell_type": "code",
   "execution_count": 33,
   "metadata": {
    "collapsed": true
   },
   "outputs": [],
   "source": [
    "ProbNonDefaultGivenScoreGreaterXAndRace.columns = ProbNonDefaultGivenScoreGreaterXAndRace.columns.str.lower()"
   ]
  },
  {
   "cell_type": "code",
   "execution_count": 34,
   "metadata": {},
   "outputs": [
    {
     "data": {
      "text/html": [
       "<div>\n",
       "<style>\n",
       "    .dataframe thead tr:only-child th {\n",
       "        text-align: right;\n",
       "    }\n",
       "\n",
       "    .dataframe thead th {\n",
       "        text-align: left;\n",
       "    }\n",
       "\n",
       "    .dataframe tbody tr th {\n",
       "        vertical-align: top;\n",
       "    }\n",
       "</style>\n",
       "<table border=\"1\" class=\"dataframe\">\n",
       "  <thead>\n",
       "    <tr style=\"text-align: right;\">\n",
       "      <th></th>\n",
       "      <th>asian</th>\n",
       "      <th>black</th>\n",
       "      <th>hispanic</th>\n",
       "      <th>white</th>\n",
       "    </tr>\n",
       "    <tr>\n",
       "      <th>Score</th>\n",
       "      <th></th>\n",
       "      <th></th>\n",
       "      <th></th>\n",
       "      <th></th>\n",
       "    </tr>\n",
       "  </thead>\n",
       "  <tbody>\n",
       "    <tr>\n",
       "      <th>0.0</th>\n",
       "      <td>0.787367</td>\n",
       "      <td>0.323743</td>\n",
       "      <td>0.553280</td>\n",
       "      <td>0.764245</td>\n",
       "    </tr>\n",
       "    <tr>\n",
       "      <th>0.5</th>\n",
       "      <td>0.787367</td>\n",
       "      <td>0.323743</td>\n",
       "      <td>0.553280</td>\n",
       "      <td>0.764245</td>\n",
       "    </tr>\n",
       "    <tr>\n",
       "      <th>1.0</th>\n",
       "      <td>0.788392</td>\n",
       "      <td>0.327357</td>\n",
       "      <td>0.555739</td>\n",
       "      <td>0.766160</td>\n",
       "    </tr>\n",
       "    <tr>\n",
       "      <th>1.5</th>\n",
       "      <td>0.794180</td>\n",
       "      <td>0.340643</td>\n",
       "      <td>0.565482</td>\n",
       "      <td>0.772603</td>\n",
       "    </tr>\n",
       "    <tr>\n",
       "      <th>2.0</th>\n",
       "      <td>0.795657</td>\n",
       "      <td>0.344552</td>\n",
       "      <td>0.568505</td>\n",
       "      <td>0.774719</td>\n",
       "    </tr>\n",
       "  </tbody>\n",
       "</table>\n",
       "</div>"
      ],
      "text/plain": [
       "          asian     black  hispanic     white\n",
       "Score                                        \n",
       "0.0    0.787367  0.323743  0.553280  0.764245\n",
       "0.5    0.787367  0.323743  0.553280  0.764245\n",
       "1.0    0.788392  0.327357  0.555739  0.766160\n",
       "1.5    0.794180  0.340643  0.565482  0.772603\n",
       "2.0    0.795657  0.344552  0.568505  0.774719"
      ]
     },
     "execution_count": 34,
     "metadata": {},
     "output_type": "execute_result"
    }
   ],
   "source": [
    "ProbNonDefaultGivenScoreGreaterXAndRace.head()"
   ]
  },
  {
   "cell_type": "code",
   "execution_count": 35,
   "metadata": {},
   "outputs": [
    {
     "data": {
      "text/html": [
       "<div>\n",
       "<style>\n",
       "    .dataframe thead tr:only-child th {\n",
       "        text-align: right;\n",
       "    }\n",
       "\n",
       "    .dataframe thead th {\n",
       "        text-align: left;\n",
       "    }\n",
       "\n",
       "    .dataframe tbody tr th {\n",
       "        vertical-align: top;\n",
       "    }\n",
       "</style>\n",
       "<table border=\"1\" class=\"dataframe\">\n",
       "  <thead>\n",
       "    <tr style=\"text-align: right;\">\n",
       "      <th></th>\n",
       "      <th>TransRisk Score</th>\n",
       "      <th>asian</th>\n",
       "      <th>black</th>\n",
       "      <th>hispanic</th>\n",
       "      <th>white</th>\n",
       "    </tr>\n",
       "  </thead>\n",
       "  <tbody>\n",
       "    <tr>\n",
       "      <th>0</th>\n",
       "      <td>0.0</td>\n",
       "      <td>0.800660</td>\n",
       "      <td>0.315384</td>\n",
       "      <td>0.550650</td>\n",
       "      <td>0.759261</td>\n",
       "    </tr>\n",
       "    <tr>\n",
       "      <th>1</th>\n",
       "      <td>0.5</td>\n",
       "      <td>0.800660</td>\n",
       "      <td>0.315384</td>\n",
       "      <td>0.550650</td>\n",
       "      <td>0.759261</td>\n",
       "    </tr>\n",
       "    <tr>\n",
       "      <th>2</th>\n",
       "      <td>1.0</td>\n",
       "      <td>0.801702</td>\n",
       "      <td>0.318908</td>\n",
       "      <td>0.553099</td>\n",
       "      <td>0.761164</td>\n",
       "    </tr>\n",
       "    <tr>\n",
       "      <th>3</th>\n",
       "      <td>1.5</td>\n",
       "      <td>0.807309</td>\n",
       "      <td>0.331898</td>\n",
       "      <td>0.562799</td>\n",
       "      <td>0.767862</td>\n",
       "    </tr>\n",
       "    <tr>\n",
       "      <th>4</th>\n",
       "      <td>2.0</td>\n",
       "      <td>0.808860</td>\n",
       "      <td>0.335718</td>\n",
       "      <td>0.565808</td>\n",
       "      <td>0.769890</td>\n",
       "    </tr>\n",
       "  </tbody>\n",
       "</table>\n",
       "</div>"
      ],
      "text/plain": [
       "   TransRisk Score     asian     black  hispanic     white\n",
       "0              0.0  0.800660  0.315384  0.550650  0.759261\n",
       "1              0.5  0.800660  0.315384  0.550650  0.759261\n",
       "2              1.0  0.801702  0.318908  0.553099  0.761164\n",
       "3              1.5  0.807309  0.331898  0.562799  0.767862\n",
       "4              2.0  0.808860  0.335718  0.565808  0.769890"
      ]
     },
     "execution_count": 35,
     "metadata": {},
     "output_type": "execute_result"
    }
   ],
   "source": [
    "# This is the dataset that I was attempting to recreate, though I believe\n",
    "# that rounding is causing the discrepencies\n",
    "pd.read_csv('ProbLoanReceiverIsGood.csv').head()"
   ]
  },
  {
   "cell_type": "code",
   "execution_count": 36,
   "metadata": {
    "collapsed": true
   },
   "outputs": [],
   "source": [
    "# THEY NEED THIS CSV IN THE TUTORIAL\n",
    "ProbNonDefaultGivenScoreGreaterXAndRace.to_csv('ProbNonDefaultGivenScoreGreaterXAndRace.csv')"
   ]
  },
  {
   "cell_type": "code",
   "execution_count": null,
   "metadata": {
    "collapsed": true
   },
   "outputs": [],
   "source": []
  },
  {
   "cell_type": "code",
   "execution_count": null,
   "metadata": {
    "collapsed": true
   },
   "outputs": [],
   "source": []
  }
 ],
 "metadata": {
  "kernelspec": {
   "display_name": "Python 3",
   "language": "python",
   "name": "python3"
  },
  "language_info": {
   "codemirror_mode": {
    "name": "ipython",
    "version": 3
   },
   "file_extension": ".py",
   "mimetype": "text/x-python",
   "name": "python",
   "nbconvert_exporter": "python",
   "pygments_lexer": "ipython3",
   "version": "3.6.1"
  }
 },
 "nbformat": 4,
 "nbformat_minor": 2
}
