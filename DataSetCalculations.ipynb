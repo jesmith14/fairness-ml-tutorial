{
 "cells": [
  {
   "cell_type": "markdown",
   "metadata": {},
   "source": [
    "# Created in this Notebook:\n",
    "\n",
    "** P(NonDefault | race) **\n",
    "- ProbNonDefaultGivenRace\n",
    "\n",
    "** P(NonDefault | Score=x, race) **\n",
    "- ProbNonDefaultGivenScoreEqualsXAndRace\n",
    "\n",
    "** P(Default | Score=x, race) **\n",
    "- ProbDefOrNotGivenScoreEqualsXAndRace\n",
    "\n",
    "** P(race) **\n",
    "- ProbOfBeingRace\n",
    "\n",
    "** P(Score=x | race) **\n",
    "- ProbScoreEqualsXGivenRace\n",
    "\n",
    "** P(score=x & good & race) **\n",
    "- ProbScoreEqualsXAndGoodAndRace\n",
    "\n",
    "** P(NonDefault & race) **\n",
    "- ProbNonDefaultAndRace\n",
    "\n",
    "** P(Score=x | NonDefault, race) **\n",
    "- ProbScoreEqualsXGivenNonDefaultAndRace\n",
    "\n",
    "** P(Score>=x | NonDefault, race) **\n",
    "- ProbScoreGreaterThanXGivenNonDefaultAndRace\n",
    "- to obtain this, I calculated:\n",
    "    - <b>P(score=x & NonDefault & race)</b>\n",
    "    - <b>P(race & score=x) </b>\n",
    "    - <b>P(NonDefault and race)</b>\n",
    "\n",
    "** P(NonDefault | Score=>x, race) **\n",
    "- ProbNonDefaultGivenScoreGreaterXAndRace\n",
    "- This is supposed to yield the same results that ProbLoanReceiverIsGood.csv did\n",
    "- Small rounding errors are causing this dataset to create different final results - unsure the cause"
   ]
  },
  {
   "cell_type": "code",
   "execution_count": 1,
   "metadata": {
    "collapsed": true
   },
   "outputs": [],
   "source": [
    "import pandas as pd\n",
    "import numpy as np\n",
    "%matplotlib inline"
   ]
  },
  {
   "cell_type": "code",
   "execution_count": 2,
   "metadata": {
    "collapsed": true
   },
   "outputs": [],
   "source": [
    "# Figure 7A-fixed is the same as Figure 7A I just changed the column names from good/bad\n",
    "CumulativePercentageByDefaulters = pd.read_csv(\"Figure7A-fixed.csv\")\n",
    "CumulativePercentageByDemographic = pd.read_csv(\"Figure3A.csv\")"
   ]
  },
  {
   "cell_type": "markdown",
   "metadata": {},
   "source": [
    "<hr/>"
   ]
  },
  {
   "cell_type": "markdown",
   "metadata": {},
   "source": [
    "# Calculating P(NonDefault | race) - pi values\n",
    "- Named ProbNonDefaultGivenRace.csv"
   ]
  },
  {
   "cell_type": "code",
   "execution_count": 3,
   "metadata": {
    "collapsed": true
   },
   "outputs": [],
   "source": [
    "def getPisNonCumulative(dataset, raceSet, goodName, badName):\n",
    "    good = dataset.set_index(\"Score\")[goodName].diff().fillna(value=0)\n",
    "    bad = dataset.set_index(\"Score\")[badName].diff().fillna(value=0)\n",
    "    total = raceSet.set_index(\"Score\")[\"Percentage\"].diff().fillna(value=0)\n",
    "    return ((total - bad) / (good - bad)).fillna(value=0)"
   ]
  },
  {
   "cell_type": "code",
   "execution_count": 4,
   "metadata": {
    "collapsed": true
   },
   "outputs": [],
   "source": [
    "# Get the dataframe that holds the cumulative percentage, by demographic group\n",
    "# This function is just for reorganizing the given data\n",
    "def getPD(data, col, raceName):\n",
    "    pd = data[\"Score\"].to_frame(name=\"Score\")\n",
    "    race = np.full(len(data), raceName)\n",
    "    pd[\"Demographic\"] = race\n",
    "    pd[\"Percentage\"] = data[col]\n",
    "    return pd\n",
    "\n",
    "whites = getPD(CumulativePercentageByDemographic, \"White\", \"white\")\n",
    "blacks = getPD(CumulativePercentageByDemographic, \"Black\", \"black\")\n",
    "asians = getPD(CumulativePercentageByDemographic, \"Asian\", \"asian\")\n",
    "hispanics = getPD(CumulativePercentageByDemographic, \"Hispanic\", \"hispanic\")"
   ]
  },
  {
   "cell_type": "code",
   "execution_count": 5,
   "metadata": {
    "collapsed": true
   },
   "outputs": [],
   "source": [
    "whitePi = getPisNonCumulative(CumulativePercentageByDefaulters, whites, \"White (NonDefault)\", \"White (Default)\")\n",
    "blackPi = getPisNonCumulative(CumulativePercentageByDefaulters, blacks, \"Black (NonDefault)\", \"Black (Default)\")\n",
    "asianPi = getPisNonCumulative(CumulativePercentageByDefaulters, asians, \"Asian (NonDefault)\", \"Asian (Default)\")\n",
    "hispanicPi = getPisNonCumulative(CumulativePercentageByDefaulters, hispanics, \"Hispanic (NonDefault)\", \"Hispanic (Default)\")"
   ]
  },
  {
   "cell_type": "code",
   "execution_count": 6,
   "metadata": {},
   "outputs": [
    {
     "data": {
      "text/plain": [
       "(0.77551020408163152,\n",
       " 0.29896907216495305,\n",
       " 0.80645161290323375,\n",
       " 0.54545454545453709)"
      ]
     },
     "execution_count": 6,
     "metadata": {},
     "output_type": "execute_result"
    }
   ],
   "source": [
    "whitePi[50], blackPi[50], asianPi[50], hispanicPi[50]"
   ]
  },
  {
   "cell_type": "code",
   "execution_count": 7,
   "metadata": {
    "collapsed": true
   },
   "outputs": [],
   "source": [
    "# hardcoded pi values to account for rounding error\n",
    "# Right now, if I use the hard coded values I get the closest to the correct solution\n",
    "# Though, the values that make the visualizations more accurate and an even better solution are:\n",
    "# [0.755185,0.330164,0.550595,0.80066]\n",
    "\n",
    "\n",
    "pis = [0.759185,0.315164,0.550595,0.80066]\n",
    "\n",
    "# These are the real values\n",
    "# pis = [whitePi[50], blackPi[50], hispanicPi[50], asianPi[50]]\n",
    "ProbNonDefaultGivenRace = pd.DataFrame(data=[pis], columns=['white', 'black', 'hispanic', 'asian'])\n",
    "ProbNonDefaultGivenRace.set_index(\"white\").to_csv(\"ProbNonDefaultGivenRace.csv\")"
   ]
  },
  {
   "cell_type": "markdown",
   "metadata": {},
   "source": [
    "<hr/>"
   ]
  },
  {
   "cell_type": "markdown",
   "metadata": {},
   "source": [
    "# Calculating P(NonDefault | Score=x, race) and P(Default | Score=x, race)"
   ]
  },
  {
   "cell_type": "markdown",
   "metadata": {},
   "source": [
    "<h2 align='center'>$\\frac{pi * P(Score=x | NonDefault)}{pi * P(Score=x|NonDefault) + (1-pi) * P(Score=x | Default)}$</h2>\n",
    "- from our discussion / email about Bayes' Rule on April 10th\n",
    "- CumulativePercentageByDefaulters (from Figure 7A) gives us P(Score>=x | NonDefault) and P(Score>=x | Default).\n",
    "- https://www.federalreserve.gov/boarddocs/rptcongress/creditscore/figtables7.htm#d7A\n",
    "- Using diff(), we can obtain P(Score=x|NonDefault) and P(Score=x|Default).\n",
    "- Together, with the pi values calculated above. We have the necessary requirements to calculate P(NonDefault | Score=x)\n",
    "- used to be named NonCumulativeProbabilities.csv (the one we weren't sure the origination of last week's meeting)"
   ]
  },
  {
   "cell_type": "code",
   "execution_count": 8,
   "metadata": {
    "collapsed": true
   },
   "outputs": [],
   "source": [
    "def getProbDefOrNotGivenScoreEqualsX(dataset, names, pis):\n",
    "    probabilities = pd.DataFrame(index=dataset.index)\n",
    "    for i in range(len(names)):\n",
    "        nonDefault = dataset[names[i] + ' (NonDefault)'].diff().fillna(value=0)\n",
    "        default = dataset[names[i] + ' (Default)'].diff().fillna(value=0)\n",
    "        finalProbability = (\n",
    "            (pis[i] * nonDefault) / ((pis[i] * nonDefault) + ((1 - pis[i])*(default))))\n",
    "        probabilities['P(NonDefault|Score=x, ' + names[i] + ')'] = finalProbability.fillna(value=0)\n",
    "        probabilities['P(Default|Score=x, ' + names[i] + ')'] = (1 - finalProbability.fillna(value=0))\n",
    "    probabilities['Score'] = dataset.index\n",
    "    return probabilities.set_index('Score')"
   ]
  },
  {
   "cell_type": "code",
   "execution_count": 9,
   "metadata": {
    "collapsed": true
   },
   "outputs": [],
   "source": [
    "ProbDefOrNotGivenScoreEqualsXAndRace = getProbDefOrNotGivenScoreEqualsX(\n",
    "    CumulativePercentageByDefaulters.set_index('Score'),\n",
    "    [\"White\", \"Black\", \"Hispanic\", \"Asian\"],\n",
    "    pis)"
   ]
  },
  {
   "cell_type": "code",
   "execution_count": 10,
   "metadata": {},
   "outputs": [
    {
     "data": {
      "text/html": [
       "<div>\n",
       "<style>\n",
       "    .dataframe thead tr:only-child th {\n",
       "        text-align: right;\n",
       "    }\n",
       "\n",
       "    .dataframe thead th {\n",
       "        text-align: left;\n",
       "    }\n",
       "\n",
       "    .dataframe tbody tr th {\n",
       "        vertical-align: top;\n",
       "    }\n",
       "</style>\n",
       "<table border=\"1\" class=\"dataframe\">\n",
       "  <thead>\n",
       "    <tr style=\"text-align: right;\">\n",
       "      <th></th>\n",
       "      <th>P(NonDefault|Score=x, White)</th>\n",
       "      <th>P(Default|Score=x, White)</th>\n",
       "      <th>P(NonDefault|Score=x, Black)</th>\n",
       "      <th>P(Default|Score=x, Black)</th>\n",
       "      <th>P(NonDefault|Score=x, Hispanic)</th>\n",
       "      <th>P(Default|Score=x, Hispanic)</th>\n",
       "      <th>P(NonDefault|Score=x, Asian)</th>\n",
       "      <th>P(Default|Score=x, Asian)</th>\n",
       "    </tr>\n",
       "    <tr>\n",
       "      <th>Score</th>\n",
       "      <th></th>\n",
       "      <th></th>\n",
       "      <th></th>\n",
       "      <th></th>\n",
       "      <th></th>\n",
       "      <th></th>\n",
       "      <th></th>\n",
       "      <th></th>\n",
       "    </tr>\n",
       "  </thead>\n",
       "  <tbody>\n",
       "    <tr>\n",
       "      <th>0.0</th>\n",
       "      <td>0.000000</td>\n",
       "      <td>1.000000</td>\n",
       "      <td>0.000000</td>\n",
       "      <td>1.000000</td>\n",
       "      <td>0.000000</td>\n",
       "      <td>1.000000</td>\n",
       "      <td>0.000000</td>\n",
       "      <td>1.000000</td>\n",
       "    </tr>\n",
       "    <tr>\n",
       "      <th>0.5</th>\n",
       "      <td>0.000000</td>\n",
       "      <td>1.000000</td>\n",
       "      <td>0.004872</td>\n",
       "      <td>0.995128</td>\n",
       "      <td>0.021042</td>\n",
       "      <td>0.978958</td>\n",
       "      <td>0.000000</td>\n",
       "      <td>1.000000</td>\n",
       "    </tr>\n",
       "    <tr>\n",
       "      <th>1.0</th>\n",
       "      <td>0.023442</td>\n",
       "      <td>0.976558</td>\n",
       "      <td>0.023545</td>\n",
       "      <td>0.976455</td>\n",
       "      <td>0.011400</td>\n",
       "      <td>0.988600</td>\n",
       "      <td>0.058622</td>\n",
       "      <td>0.941378</td>\n",
       "    </tr>\n",
       "    <tr>\n",
       "      <th>1.5</th>\n",
       "      <td>0.024990</td>\n",
       "      <td>0.975010</td>\n",
       "      <td>0.019935</td>\n",
       "      <td>0.980065</td>\n",
       "      <td>0.000000</td>\n",
       "      <td>1.000000</td>\n",
       "      <td>0.000000</td>\n",
       "      <td>1.000000</td>\n",
       "    </tr>\n",
       "    <tr>\n",
       "      <th>2.0</th>\n",
       "      <td>0.038610</td>\n",
       "      <td>0.961390</td>\n",
       "      <td>0.022100</td>\n",
       "      <td>0.977900</td>\n",
       "      <td>0.025943</td>\n",
       "      <td>0.974057</td>\n",
       "      <td>0.101215</td>\n",
       "      <td>0.898785</td>\n",
       "    </tr>\n",
       "  </tbody>\n",
       "</table>\n",
       "</div>"
      ],
      "text/plain": [
       "       P(NonDefault|Score=x, White)  P(Default|Score=x, White)  \\\n",
       "Score                                                            \n",
       "0.0                        0.000000                   1.000000   \n",
       "0.5                        0.000000                   1.000000   \n",
       "1.0                        0.023442                   0.976558   \n",
       "1.5                        0.024990                   0.975010   \n",
       "2.0                        0.038610                   0.961390   \n",
       "\n",
       "       P(NonDefault|Score=x, Black)  P(Default|Score=x, Black)  \\\n",
       "Score                                                            \n",
       "0.0                        0.000000                   1.000000   \n",
       "0.5                        0.004872                   0.995128   \n",
       "1.0                        0.023545                   0.976455   \n",
       "1.5                        0.019935                   0.980065   \n",
       "2.0                        0.022100                   0.977900   \n",
       "\n",
       "       P(NonDefault|Score=x, Hispanic)  P(Default|Score=x, Hispanic)  \\\n",
       "Score                                                                  \n",
       "0.0                           0.000000                      1.000000   \n",
       "0.5                           0.021042                      0.978958   \n",
       "1.0                           0.011400                      0.988600   \n",
       "1.5                           0.000000                      1.000000   \n",
       "2.0                           0.025943                      0.974057   \n",
       "\n",
       "       P(NonDefault|Score=x, Asian)  P(Default|Score=x, Asian)  \n",
       "Score                                                           \n",
       "0.0                        0.000000                   1.000000  \n",
       "0.5                        0.000000                   1.000000  \n",
       "1.0                        0.058622                   0.941378  \n",
       "1.5                        0.000000                   1.000000  \n",
       "2.0                        0.101215                   0.898785  "
      ]
     },
     "execution_count": 10,
     "metadata": {},
     "output_type": "execute_result"
    }
   ],
   "source": [
    "ProbDefOrNotGivenScoreEqualsXAndRace.head()"
   ]
  },
  {
   "cell_type": "markdown",
   "metadata": {},
   "source": [
    "<hr/>"
   ]
  },
  {
   "cell_type": "markdown",
   "metadata": {},
   "source": [
    "# Creating P(race)\n",
    "- taken from Table 9. \n",
    "- https://www.federalreserve.gov/boarddocs/rptcongress/creditscore/datamodel_tables.htm"
   ]
  },
  {
   "cell_type": "code",
   "execution_count": 11,
   "metadata": {
    "collapsed": true
   },
   "outputs": [],
   "source": [
    "sizes = [133165, 18274, 14702, 7906]\n",
    "total = sum(sizes)\n",
    "ProbOfBeingRace = pd.DataFrame(\n",
    "    { \n",
    "    'Demographic' : ['white', 'black', 'hispanic', 'asian'],\n",
    "    'P(race)' : [sizes[0]/total, sizes[1]/total, sizes[2]/total, sizes[3]/total]\n",
    "    },\n",
    "    columns=[\"Demographic\", \"P(race)\"]\n",
    ")\n",
    "\n",
    "ProbOfBeingRace.set_index('Demographic').to_csv('ProbOfBeingRace.csv')"
   ]
  },
  {
   "cell_type": "markdown",
   "metadata": {},
   "source": [
    "<hr/>"
   ]
  },
  {
   "cell_type": "markdown",
   "metadata": {},
   "source": [
    "# Creating P(Score=x | race)\n",
    "- taken from Table 3A. \n",
    "- https://www.federalreserve.gov/boarddocs/rptcongress/creditscore/figtables3.htm#d3A\n",
    "- using the diff values"
   ]
  },
  {
   "cell_type": "code",
   "execution_count": 12,
   "metadata": {
    "collapsed": true
   },
   "outputs": [],
   "source": [
    "# used to be ProbOfBeingScore\n",
    "# I'll give them this in a csv\n",
    "ProbScoreEqualsXGivenRace = (\n",
    "    pd.read_csv(\"figure3A.csv\")\n",
    "    .set_index([\"Score\"]).diff().fillna(0) / 100\n",
    ")\n",
    "\n",
    "ProbScoreEqualsXGivenRace.to_csv('ProbScoreEqualsXGivenRace.csv')"
   ]
  },
  {
   "cell_type": "code",
   "execution_count": 13,
   "metadata": {},
   "outputs": [
    {
     "data": {
      "text/html": [
       "<div>\n",
       "<style>\n",
       "    .dataframe thead tr:only-child th {\n",
       "        text-align: right;\n",
       "    }\n",
       "\n",
       "    .dataframe thead th {\n",
       "        text-align: left;\n",
       "    }\n",
       "\n",
       "    .dataframe tbody tr th {\n",
       "        vertical-align: top;\n",
       "    }\n",
       "</style>\n",
       "<table border=\"1\" class=\"dataframe\">\n",
       "  <thead>\n",
       "    <tr style=\"text-align: right;\">\n",
       "      <th></th>\n",
       "      <th>White</th>\n",
       "      <th>Black</th>\n",
       "      <th>Hispanic</th>\n",
       "      <th>Asian</th>\n",
       "    </tr>\n",
       "    <tr>\n",
       "      <th>Score</th>\n",
       "      <th></th>\n",
       "      <th></th>\n",
       "      <th></th>\n",
       "      <th></th>\n",
       "    </tr>\n",
       "  </thead>\n",
       "  <tbody>\n",
       "    <tr>\n",
       "      <th>0.0</th>\n",
       "      <td>0.0000</td>\n",
       "      <td>0.0000</td>\n",
       "      <td>0.0000</td>\n",
       "      <td>0.0000</td>\n",
       "    </tr>\n",
       "    <tr>\n",
       "      <th>0.5</th>\n",
       "      <td>0.0025</td>\n",
       "      <td>0.0112</td>\n",
       "      <td>0.0046</td>\n",
       "      <td>0.0013</td>\n",
       "    </tr>\n",
       "    <tr>\n",
       "      <th>1.0</th>\n",
       "      <td>0.0090</td>\n",
       "      <td>0.0414</td>\n",
       "      <td>0.0175</td>\n",
       "      <td>0.0075</td>\n",
       "    </tr>\n",
       "    <tr>\n",
       "      <th>1.5</th>\n",
       "      <td>0.0027</td>\n",
       "      <td>0.0114</td>\n",
       "      <td>0.0052</td>\n",
       "      <td>0.0019</td>\n",
       "    </tr>\n",
       "    <tr>\n",
       "      <th>2.0</th>\n",
       "      <td>0.0037</td>\n",
       "      <td>0.0142</td>\n",
       "      <td>0.0075</td>\n",
       "      <td>0.0025</td>\n",
       "    </tr>\n",
       "  </tbody>\n",
       "</table>\n",
       "</div>"
      ],
      "text/plain": [
       "        White   Black  Hispanic   Asian\n",
       "Score                                  \n",
       "0.0    0.0000  0.0000    0.0000  0.0000\n",
       "0.5    0.0025  0.0112    0.0046  0.0013\n",
       "1.0    0.0090  0.0414    0.0175  0.0075\n",
       "1.5    0.0027  0.0114    0.0052  0.0019\n",
       "2.0    0.0037  0.0142    0.0075  0.0025"
      ]
     },
     "execution_count": 13,
     "metadata": {},
     "output_type": "execute_result"
    }
   ],
   "source": [
    "ProbScoreEqualsXGivenRace.head()"
   ]
  },
  {
   "cell_type": "code",
   "execution_count": 14,
   "metadata": {},
   "outputs": [
    {
     "name": "stdout",
     "output_type": "stream",
     "text": [
      "White 5.692061405548898e-17\n",
      "Black 4.7488055154865094e-17\n",
      "Hispanic 5.800481622797449e-17\n",
      "Asian 5.117434254131581e-17\n"
     ]
    }
   ],
   "source": [
    "ProbFromOther = pd.read_csv('ProbScoreEqualsXGivenRace-old.csv').set_index(\"TransRisk Score\")\n",
    "ProbFromOther.index.names = [\"Score\"]\n",
    "\n",
    "for race in [\"White\", \"Black\", \"Hispanic\", \"Asian\"]:\n",
    "    print(race, (ProbFromOther[race.lower()] - ProbScoreEqualsXGivenRace[race]).abs().sum())"
   ]
  },
  {
   "cell_type": "markdown",
   "metadata": {},
   "source": [
    "<hr/>"
   ]
  },
  {
   "cell_type": "markdown",
   "metadata": {},
   "source": [
    "# Calculating P(score=x | NonDefault, race)"
   ]
  },
  {
   "cell_type": "markdown",
   "metadata": {},
   "source": [
    "### P(score=x | NonDefault, race) = P(score=x & NonDefault & race) / P(NonDefault and race)\n",
    "<hr/>\n",
    "### Step 1:\n",
    "### P(score=x & NonDefault & race ) = P(race & score=x) * P(NonDefault | race, score=x)\n",
    "###  P(score=x & NonDefault & race ) = P(race) * P(score=x | race) * P(NonDefault | race, score=x)\n",
    "<hr/>\n",
    "### Step 2:\n",
    "### P(NonDefault and race) = P(race) * P(NonDefault | race)\n",
    "<hr/>\n",
    "### Step 3:\n",
    "### Step 1 / Step2\n",
    "### P(score=x | NonDefault, race) = P(score=x & NonDefault & race) / P(NonDefault and race)\n",
    "<hr/>"
   ]
  },
  {
   "cell_type": "markdown",
   "metadata": {},
   "source": [
    "## Step 1: Calculate P(Score=x & NonDefault & race)"
   ]
  },
  {
   "cell_type": "code",
   "execution_count": 15,
   "metadata": {
    "collapsed": true
   },
   "outputs": [],
   "source": [
    "ProbOfBeingRace.set_index('Demographic', inplace=True)"
   ]
  },
  {
   "cell_type": "code",
   "execution_count": 16,
   "metadata": {},
   "outputs": [
    {
     "data": {
      "text/html": [
       "<div>\n",
       "<style>\n",
       "    .dataframe thead tr:only-child th {\n",
       "        text-align: right;\n",
       "    }\n",
       "\n",
       "    .dataframe thead th {\n",
       "        text-align: left;\n",
       "    }\n",
       "\n",
       "    .dataframe tbody tr th {\n",
       "        vertical-align: top;\n",
       "    }\n",
       "</style>\n",
       "<table border=\"1\" class=\"dataframe\">\n",
       "  <thead>\n",
       "    <tr style=\"text-align: right;\">\n",
       "      <th></th>\n",
       "      <th>White</th>\n",
       "      <th>Black</th>\n",
       "      <th>Hispanic</th>\n",
       "      <th>Asian</th>\n",
       "    </tr>\n",
       "    <tr>\n",
       "      <th>Score</th>\n",
       "      <th></th>\n",
       "      <th></th>\n",
       "      <th></th>\n",
       "      <th></th>\n",
       "    </tr>\n",
       "  </thead>\n",
       "  <tbody>\n",
       "    <tr>\n",
       "      <th>0.0</th>\n",
       "      <td>0.0000</td>\n",
       "      <td>0.0000</td>\n",
       "      <td>0.0000</td>\n",
       "      <td>0.0000</td>\n",
       "    </tr>\n",
       "    <tr>\n",
       "      <th>0.5</th>\n",
       "      <td>0.0025</td>\n",
       "      <td>0.0112</td>\n",
       "      <td>0.0046</td>\n",
       "      <td>0.0013</td>\n",
       "    </tr>\n",
       "    <tr>\n",
       "      <th>1.0</th>\n",
       "      <td>0.0090</td>\n",
       "      <td>0.0414</td>\n",
       "      <td>0.0175</td>\n",
       "      <td>0.0075</td>\n",
       "    </tr>\n",
       "    <tr>\n",
       "      <th>1.5</th>\n",
       "      <td>0.0027</td>\n",
       "      <td>0.0114</td>\n",
       "      <td>0.0052</td>\n",
       "      <td>0.0019</td>\n",
       "    </tr>\n",
       "    <tr>\n",
       "      <th>2.0</th>\n",
       "      <td>0.0037</td>\n",
       "      <td>0.0142</td>\n",
       "      <td>0.0075</td>\n",
       "      <td>0.0025</td>\n",
       "    </tr>\n",
       "  </tbody>\n",
       "</table>\n",
       "</div>"
      ],
      "text/plain": [
       "        White   Black  Hispanic   Asian\n",
       "Score                                  \n",
       "0.0    0.0000  0.0000    0.0000  0.0000\n",
       "0.5    0.0025  0.0112    0.0046  0.0013\n",
       "1.0    0.0090  0.0414    0.0175  0.0075\n",
       "1.5    0.0027  0.0114    0.0052  0.0019\n",
       "2.0    0.0037  0.0142    0.0075  0.0025"
      ]
     },
     "execution_count": 16,
     "metadata": {},
     "output_type": "execute_result"
    }
   ],
   "source": [
    "ProbScoreEqualsXGivenRace.head()"
   ]
  },
  {
   "cell_type": "code",
   "execution_count": 17,
   "metadata": {
    "collapsed": true
   },
   "outputs": [],
   "source": [
    "ProbRaceAndScoreEqualsX = pd.DataFrame({\n",
    "    'white': ProbOfBeingRace.loc['white']['P(race)'] * ProbScoreEqualsXGivenRace['White'],\n",
    "    'asian': ProbOfBeingRace.loc['asian']['P(race)'] * ProbScoreEqualsXGivenRace['Asian'],\n",
    "    'black': ProbOfBeingRace.loc['black']['P(race)'] * ProbScoreEqualsXGivenRace['Black'],\n",
    "    'hispanic': ProbOfBeingRace.loc['hispanic']['P(race)'] * ProbScoreEqualsXGivenRace['Hispanic'],\n",
    "})"
   ]
  },
  {
   "cell_type": "code",
   "execution_count": 18,
   "metadata": {},
   "outputs": [
    {
     "name": "stdout",
     "output_type": "stream",
     "text": [
      "white 3.5344990823027445e-17\n",
      "black 5.89534931288993e-18\n",
      "hispanic 4.929731753020028e-18\n",
      "asian 2.778268066994105e-18\n"
     ]
    }
   ],
   "source": [
    "ProbFromOther = pd.read_csv('ProbRaceAndScoreEqualsX.csv').set_index(\"TransRisk Score\")\n",
    "ProbFromOther.index.names = [\"Score\"]\n",
    "for race in [\"white\", \"black\", \"hispanic\", \"asian\"]:\n",
    "    print(race, (ProbFromOther[race.lower()] - ProbRaceAndScoreEqualsX[race]).abs().sum())"
   ]
  },
  {
   "cell_type": "code",
   "execution_count": 19,
   "metadata": {
    "collapsed": true
   },
   "outputs": [],
   "source": [
    "ProbNonDefaultGivenScoreEqualsXAndRace = (\n",
    "    ProbDefOrNotGivenScoreEqualsXAndRace[['P(NonDefault|Score=x, White)', \n",
    "                                 'P(NonDefault|Score=x, Black)',\n",
    "                                'P(NonDefault|Score=x, Hispanic)',\n",
    "                                'P(NonDefault|Score=x, Asian)']])"
   ]
  },
  {
   "cell_type": "code",
   "execution_count": 20,
   "metadata": {},
   "outputs": [
    {
     "data": {
      "text/html": [
       "<div>\n",
       "<style>\n",
       "    .dataframe thead tr:only-child th {\n",
       "        text-align: right;\n",
       "    }\n",
       "\n",
       "    .dataframe thead th {\n",
       "        text-align: left;\n",
       "    }\n",
       "\n",
       "    .dataframe tbody tr th {\n",
       "        vertical-align: top;\n",
       "    }\n",
       "</style>\n",
       "<table border=\"1\" class=\"dataframe\">\n",
       "  <thead>\n",
       "    <tr style=\"text-align: right;\">\n",
       "      <th></th>\n",
       "      <th>P(NonDefault|Score=x, White)</th>\n",
       "      <th>P(NonDefault|Score=x, Black)</th>\n",
       "      <th>P(NonDefault|Score=x, Hispanic)</th>\n",
       "      <th>P(NonDefault|Score=x, Asian)</th>\n",
       "    </tr>\n",
       "    <tr>\n",
       "      <th>Score</th>\n",
       "      <th></th>\n",
       "      <th></th>\n",
       "      <th></th>\n",
       "      <th></th>\n",
       "    </tr>\n",
       "  </thead>\n",
       "  <tbody>\n",
       "    <tr>\n",
       "      <th>0.0</th>\n",
       "      <td>0.000000</td>\n",
       "      <td>0.000000</td>\n",
       "      <td>0.000000</td>\n",
       "      <td>0.000000</td>\n",
       "    </tr>\n",
       "    <tr>\n",
       "      <th>0.5</th>\n",
       "      <td>0.000000</td>\n",
       "      <td>0.004872</td>\n",
       "      <td>0.021042</td>\n",
       "      <td>0.000000</td>\n",
       "    </tr>\n",
       "    <tr>\n",
       "      <th>1.0</th>\n",
       "      <td>0.023442</td>\n",
       "      <td>0.023545</td>\n",
       "      <td>0.011400</td>\n",
       "      <td>0.058622</td>\n",
       "    </tr>\n",
       "    <tr>\n",
       "      <th>1.5</th>\n",
       "      <td>0.024990</td>\n",
       "      <td>0.019935</td>\n",
       "      <td>0.000000</td>\n",
       "      <td>0.000000</td>\n",
       "    </tr>\n",
       "    <tr>\n",
       "      <th>2.0</th>\n",
       "      <td>0.038610</td>\n",
       "      <td>0.022100</td>\n",
       "      <td>0.025943</td>\n",
       "      <td>0.101215</td>\n",
       "    </tr>\n",
       "  </tbody>\n",
       "</table>\n",
       "</div>"
      ],
      "text/plain": [
       "       P(NonDefault|Score=x, White)  P(NonDefault|Score=x, Black)  \\\n",
       "Score                                                               \n",
       "0.0                        0.000000                      0.000000   \n",
       "0.5                        0.000000                      0.004872   \n",
       "1.0                        0.023442                      0.023545   \n",
       "1.5                        0.024990                      0.019935   \n",
       "2.0                        0.038610                      0.022100   \n",
       "\n",
       "       P(NonDefault|Score=x, Hispanic)  P(NonDefault|Score=x, Asian)  \n",
       "Score                                                                 \n",
       "0.0                           0.000000                      0.000000  \n",
       "0.5                           0.021042                      0.000000  \n",
       "1.0                           0.011400                      0.058622  \n",
       "1.5                           0.000000                      0.000000  \n",
       "2.0                           0.025943                      0.101215  "
      ]
     },
     "execution_count": 20,
     "metadata": {},
     "output_type": "execute_result"
    }
   ],
   "source": [
    "ProbNonDefaultGivenScoreEqualsXAndRace.head()"
   ]
  },
  {
   "cell_type": "code",
   "execution_count": 21,
   "metadata": {},
   "outputs": [
    {
     "data": {
      "text/html": [
       "<div>\n",
       "<style>\n",
       "    .dataframe thead tr:only-child th {\n",
       "        text-align: right;\n",
       "    }\n",
       "\n",
       "    .dataframe thead th {\n",
       "        text-align: left;\n",
       "    }\n",
       "\n",
       "    .dataframe tbody tr th {\n",
       "        vertical-align: top;\n",
       "    }\n",
       "</style>\n",
       "<table border=\"1\" class=\"dataframe\">\n",
       "  <thead>\n",
       "    <tr style=\"text-align: right;\">\n",
       "      <th></th>\n",
       "      <th>P(Score=x and NonDefault and White)</th>\n",
       "      <th>P(Score=x and NonDefault and Black)</th>\n",
       "      <th>P(Score=x and NonDefault and Hispanic)</th>\n",
       "      <th>P(Score=x and NonDefault and Asian)</th>\n",
       "    </tr>\n",
       "    <tr>\n",
       "      <th>Score</th>\n",
       "      <th></th>\n",
       "      <th></th>\n",
       "      <th></th>\n",
       "      <th></th>\n",
       "    </tr>\n",
       "  </thead>\n",
       "  <tbody>\n",
       "    <tr>\n",
       "      <th>0.0</th>\n",
       "      <td>0.000000</td>\n",
       "      <td>0.000000</td>\n",
       "      <td>0.000000</td>\n",
       "      <td>0.000000</td>\n",
       "    </tr>\n",
       "    <tr>\n",
       "      <th>0.5</th>\n",
       "      <td>0.000000</td>\n",
       "      <td>0.000006</td>\n",
       "      <td>0.000008</td>\n",
       "      <td>0.000000</td>\n",
       "    </tr>\n",
       "    <tr>\n",
       "      <th>1.0</th>\n",
       "      <td>0.000161</td>\n",
       "      <td>0.000102</td>\n",
       "      <td>0.000017</td>\n",
       "      <td>0.000020</td>\n",
       "    </tr>\n",
       "    <tr>\n",
       "      <th>1.5</th>\n",
       "      <td>0.000052</td>\n",
       "      <td>0.000024</td>\n",
       "      <td>0.000000</td>\n",
       "      <td>0.000000</td>\n",
       "    </tr>\n",
       "    <tr>\n",
       "      <th>2.0</th>\n",
       "      <td>0.000109</td>\n",
       "      <td>0.000033</td>\n",
       "      <td>0.000016</td>\n",
       "      <td>0.000011</td>\n",
       "    </tr>\n",
       "  </tbody>\n",
       "</table>\n",
       "</div>"
      ],
      "text/plain": [
       "       P(Score=x and NonDefault and White)  \\\n",
       "Score                                        \n",
       "0.0                               0.000000   \n",
       "0.5                               0.000000   \n",
       "1.0                               0.000161   \n",
       "1.5                               0.000052   \n",
       "2.0                               0.000109   \n",
       "\n",
       "       P(Score=x and NonDefault and Black)  \\\n",
       "Score                                        \n",
       "0.0                               0.000000   \n",
       "0.5                               0.000006   \n",
       "1.0                               0.000102   \n",
       "1.5                               0.000024   \n",
       "2.0                               0.000033   \n",
       "\n",
       "       P(Score=x and NonDefault and Hispanic)  \\\n",
       "Score                                           \n",
       "0.0                                  0.000000   \n",
       "0.5                                  0.000008   \n",
       "1.0                                  0.000017   \n",
       "1.5                                  0.000000   \n",
       "2.0                                  0.000016   \n",
       "\n",
       "       P(Score=x and NonDefault and Asian)  \n",
       "Score                                       \n",
       "0.0                               0.000000  \n",
       "0.5                               0.000000  \n",
       "1.0                               0.000020  \n",
       "1.5                               0.000000  \n",
       "2.0                               0.000011  "
      ]
     },
     "execution_count": 21,
     "metadata": {},
     "output_type": "execute_result"
    }
   ],
   "source": [
    "ProbScoreEqualsXAndGoodAndRace = pd.DataFrame(index=ProbRaceAndScoreEqualsX.index)\n",
    "ProbScoreEqualsXAndGoodAndRace['P(Score=x and NonDefault and White)'] = (\n",
    "    ProbRaceAndScoreEqualsX['white'] * ProbNonDefaultGivenScoreEqualsXAndRace['P(NonDefault|Score=x, White)'])\n",
    "ProbScoreEqualsXAndGoodAndRace['P(Score=x and NonDefault and Black)'] = (\n",
    "    ProbRaceAndScoreEqualsX['black'] * ProbNonDefaultGivenScoreEqualsXAndRace['P(NonDefault|Score=x, Black)'])\n",
    "ProbScoreEqualsXAndGoodAndRace['P(Score=x and NonDefault and Hispanic)'] = (\n",
    "    ProbRaceAndScoreEqualsX['hispanic'] * ProbNonDefaultGivenScoreEqualsXAndRace['P(NonDefault|Score=x, Hispanic)'])\n",
    "ProbScoreEqualsXAndGoodAndRace['P(Score=x and NonDefault and Asian)'] = (\n",
    "    ProbRaceAndScoreEqualsX['asian'] * ProbNonDefaultGivenScoreEqualsXAndRace['P(NonDefault|Score=x, Asian)'])\n",
    "# i'll give them this in a csv I think\n",
    "ProbScoreEqualsXAndGoodAndRace.head()"
   ]
  },
  {
   "cell_type": "code",
   "execution_count": 22,
   "metadata": {
    "collapsed": true
   },
   "outputs": [],
   "source": [
    "# this column renaming is here just here for comparisons with the old data frames right now\n",
    "ProbScoreEqualsXAndGoodAndRace.columns=['white', 'black', 'hispanic', 'asian']\n",
    "ProbNonDefaultGivenScoreEqualsXAndRace.columns=['white', 'black', 'hispanic', 'asian']"
   ]
  },
  {
   "cell_type": "code",
   "execution_count": 23,
   "metadata": {},
   "outputs": [
    {
     "name": "stdout",
     "output_type": "stream",
     "text": [
      "white 1.672036828114889\n",
      "black 1.6674386454431698\n",
      "hispanic 0.435021444073187\n",
      "asian 0.6736285216007927\n"
     ]
    }
   ],
   "source": [
    "ProbFromOther = pd.read_csv(\"ProbGoodGivenRaceAndScoreEqualsX.csv\").set_index(\"TransRisk Score\")\n",
    "ProbFromOther.index.names = [\"Score\"]\n",
    "for race in [\"white\", \"black\", \"hispanic\", \"asian\"]:\n",
    "    print(race, (ProbFromOther[race] - ProbNonDefaultGivenScoreEqualsXAndRace[race]).abs().sum())"
   ]
  },
  {
   "cell_type": "code",
   "execution_count": 24,
   "metadata": {},
   "outputs": [
    {
     "name": "stdout",
     "output_type": "stream",
     "text": [
      "white 0.005947692782300728\n",
      "black 0.0008769757422337445\n",
      "hispanic 0.0002221191745514134\n",
      "asian 0.0001410411201749315\n"
     ]
    }
   ],
   "source": [
    "ProbFromOther = pd.read_csv('P(score=xandgoodandrace).csv').set_index(\"TransRisk Score\")\n",
    "ProbFromOther.index.names = [\"Score\"]\n",
    "\n",
    "for race in [\"white\", \"black\", \"hispanic\", \"asian\"]:\n",
    "    print(race, (ProbFromOther[race] - ProbScoreEqualsXAndGoodAndRace[race]).abs().sum())"
   ]
  },
  {
   "cell_type": "code",
   "execution_count": 25,
   "metadata": {
    "collapsed": true
   },
   "outputs": [],
   "source": [
    "# Fixing the columns back:\n",
    "# ProbNonDefaultGivenScoreEqualsXAndRace.columns=['P(NonDefault|Score=x, White)',\n",
    "#                                                 'P(NonDefault|Score=x, Black)',\n",
    "#                                                 'P(NonDefault|Score=x, Hispanic)',\n",
    "#                                                 'P(NonDefault|Score=x, Asian)']\n",
    "ProbScoreEqualsXAndGoodAndRace.columns=['P(Score=x and NonDefault and White)',\n",
    "                                        'P(Score=x and NonDefault and Black)',\n",
    "                                        'P(Score=x and NonDefault and Hispanic)',\n",
    "                                        'P(Score=x and NonDefault and Asian)']"
   ]
  },
  {
   "cell_type": "markdown",
   "metadata": {},
   "source": [
    "## Step 2: Calculate P(NonDefault and race)"
   ]
  },
  {
   "cell_type": "code",
   "execution_count": 26,
   "metadata": {},
   "outputs": [
    {
     "data": {
      "text/html": [
       "<div>\n",
       "<style>\n",
       "    .dataframe thead tr:only-child th {\n",
       "        text-align: right;\n",
       "    }\n",
       "\n",
       "    .dataframe thead th {\n",
       "        text-align: left;\n",
       "    }\n",
       "\n",
       "    .dataframe tbody tr th {\n",
       "        vertical-align: top;\n",
       "    }\n",
       "</style>\n",
       "<table border=\"1\" class=\"dataframe\">\n",
       "  <thead>\n",
       "    <tr style=\"text-align: right;\">\n",
       "      <th></th>\n",
       "      <th>white</th>\n",
       "      <th>black</th>\n",
       "      <th>hispanic</th>\n",
       "      <th>asian</th>\n",
       "    </tr>\n",
       "  </thead>\n",
       "  <tbody>\n",
       "    <tr>\n",
       "      <th>0</th>\n",
       "      <td>0.759185</td>\n",
       "      <td>0.315164</td>\n",
       "      <td>0.550595</td>\n",
       "      <td>0.80066</td>\n",
       "    </tr>\n",
       "  </tbody>\n",
       "</table>\n",
       "</div>"
      ],
      "text/plain": [
       "      white     black  hispanic    asian\n",
       "0  0.759185  0.315164  0.550595  0.80066"
      ]
     },
     "execution_count": 26,
     "metadata": {},
     "output_type": "execute_result"
    }
   ],
   "source": [
    "#Error checking:\n",
    "\n",
    "# At this point, the old tutorial switched to using the rounded values (even though everything\n",
    "# prior was done with the REAL values)\n",
    "# Right now, if I use the REAL values for the entire dataset calculation, I'll get the wrong answer\n",
    "# in the tutorial, and I won't match the old dataset calculations... \n",
    "# BUT if I switch to using the ROUNDED (hard coded) values here, I match the old datasets, BUT I get the wrong solution...\n",
    "# Which honestly doesn't make any sense... looking into this further\n",
    "# What yields the closest solution currently is choosing the ROUNDED (hard coded) values for all of the\n",
    "# calculations, though it does make the Asian threshold higher than the White threshold in the final answer...\n",
    "\n",
    "pd.read_csv(\"ProbGoodGivenRace.csv\").head()"
   ]
  },
  {
   "cell_type": "code",
   "execution_count": 27,
   "metadata": {},
   "outputs": [
    {
     "data": {
      "text/html": [
       "<div>\n",
       "<style>\n",
       "    .dataframe thead tr:only-child th {\n",
       "        text-align: right;\n",
       "    }\n",
       "\n",
       "    .dataframe thead th {\n",
       "        text-align: left;\n",
       "    }\n",
       "\n",
       "    .dataframe tbody tr th {\n",
       "        vertical-align: top;\n",
       "    }\n",
       "</style>\n",
       "<table border=\"1\" class=\"dataframe\">\n",
       "  <thead>\n",
       "    <tr style=\"text-align: right;\">\n",
       "      <th></th>\n",
       "      <th>white</th>\n",
       "      <th>black</th>\n",
       "      <th>hispanic</th>\n",
       "      <th>asian</th>\n",
       "    </tr>\n",
       "  </thead>\n",
       "  <tbody>\n",
       "    <tr>\n",
       "      <th>0</th>\n",
       "      <td>0.759185</td>\n",
       "      <td>0.315164</td>\n",
       "      <td>0.550595</td>\n",
       "      <td>0.80066</td>\n",
       "    </tr>\n",
       "  </tbody>\n",
       "</table>\n",
       "</div>"
      ],
      "text/plain": [
       "      white     black  hispanic    asian\n",
       "0  0.759185  0.315164  0.550595  0.80066"
      ]
     },
     "execution_count": 27,
     "metadata": {},
     "output_type": "execute_result"
    }
   ],
   "source": [
    "ProbNonDefaultGivenRace.head()"
   ]
  },
  {
   "cell_type": "markdown",
   "metadata": {},
   "source": [
    "# Delete this after this experiment!!!!\n",
    "\n",
    "## Currently Seeing What happens when I switch to ROUNDED values here\n"
   ]
  },
  {
   "cell_type": "code",
   "execution_count": 28,
   "metadata": {
    "collapsed": true
   },
   "outputs": [],
   "source": [
    "# ProbNonDefaultGivenRace = pd.read_csv(\"ProbGoodGivenRace.csv\")"
   ]
  },
  {
   "cell_type": "markdown",
   "metadata": {},
   "source": [
    "# ------------------------------"
   ]
  },
  {
   "cell_type": "code",
   "execution_count": 29,
   "metadata": {
    "collapsed": true
   },
   "outputs": [],
   "source": [
    "ProbNonDefaultAndRace = pd.DataFrame({\n",
    "    'white': ProbOfBeingRace.loc['white']['P(race)'] * ProbNonDefaultGivenRace['white'],\n",
    "    'asian': ProbOfBeingRace.loc['asian']['P(race)'] * ProbNonDefaultGivenRace['asian'],\n",
    "    'black': ProbOfBeingRace.loc['black']['P(race)'] * ProbNonDefaultGivenRace['black'],\n",
    "    'hispanic': ProbOfBeingRace.loc['hispanic']['P(race)'] * ProbNonDefaultGivenRace['hispanic'],\n",
    "})"
   ]
  },
  {
   "cell_type": "code",
   "execution_count": 30,
   "metadata": {},
   "outputs": [
    {
     "data": {
      "text/html": [
       "<div>\n",
       "<style>\n",
       "    .dataframe thead tr:only-child th {\n",
       "        text-align: right;\n",
       "    }\n",
       "\n",
       "    .dataframe thead th {\n",
       "        text-align: left;\n",
       "    }\n",
       "\n",
       "    .dataframe tbody tr th {\n",
       "        vertical-align: top;\n",
       "    }\n",
       "</style>\n",
       "<table border=\"1\" class=\"dataframe\">\n",
       "  <thead>\n",
       "    <tr style=\"text-align: right;\">\n",
       "      <th></th>\n",
       "      <th>asian</th>\n",
       "      <th>black</th>\n",
       "      <th>hispanic</th>\n",
       "      <th>white</th>\n",
       "    </tr>\n",
       "  </thead>\n",
       "  <tbody>\n",
       "    <tr>\n",
       "      <th>0</th>\n",
       "      <td>0.03637</td>\n",
       "      <td>0.033091</td>\n",
       "      <td>0.04651</td>\n",
       "      <td>0.58086</td>\n",
       "    </tr>\n",
       "  </tbody>\n",
       "</table>\n",
       "</div>"
      ],
      "text/plain": [
       "     asian     black  hispanic    white\n",
       "0  0.03637  0.033091   0.04651  0.58086"
      ]
     },
     "execution_count": 30,
     "metadata": {},
     "output_type": "execute_result"
    }
   ],
   "source": [
    "# I'll give them this csv I think\n",
    "ProbNonDefaultAndRace"
   ]
  },
  {
   "cell_type": "markdown",
   "metadata": {},
   "source": [
    "## Step 3: Calculate P(Score=x | NonDefault, race)"
   ]
  },
  {
   "cell_type": "code",
   "execution_count": 31,
   "metadata": {},
   "outputs": [
    {
     "data": {
      "text/html": [
       "<div>\n",
       "<style>\n",
       "    .dataframe thead tr:only-child th {\n",
       "        text-align: right;\n",
       "    }\n",
       "\n",
       "    .dataframe thead th {\n",
       "        text-align: left;\n",
       "    }\n",
       "\n",
       "    .dataframe tbody tr th {\n",
       "        vertical-align: top;\n",
       "    }\n",
       "</style>\n",
       "<table border=\"1\" class=\"dataframe\">\n",
       "  <thead>\n",
       "    <tr style=\"text-align: right;\">\n",
       "      <th></th>\n",
       "      <th>asian</th>\n",
       "      <th>black</th>\n",
       "      <th>hispanic</th>\n",
       "      <th>white</th>\n",
       "    </tr>\n",
       "    <tr>\n",
       "      <th>Score</th>\n",
       "      <th></th>\n",
       "      <th></th>\n",
       "      <th></th>\n",
       "      <th></th>\n",
       "    </tr>\n",
       "  </thead>\n",
       "  <tbody>\n",
       "    <tr>\n",
       "      <th>0.0</th>\n",
       "      <td>0.000000</td>\n",
       "      <td>0.000000</td>\n",
       "      <td>0.000000</td>\n",
       "      <td>0.000000</td>\n",
       "    </tr>\n",
       "    <tr>\n",
       "      <th>0.5</th>\n",
       "      <td>0.000000</td>\n",
       "      <td>0.000173</td>\n",
       "      <td>0.000176</td>\n",
       "      <td>0.000000</td>\n",
       "    </tr>\n",
       "    <tr>\n",
       "      <th>1.0</th>\n",
       "      <td>0.000549</td>\n",
       "      <td>0.003093</td>\n",
       "      <td>0.000362</td>\n",
       "      <td>0.000278</td>\n",
       "    </tr>\n",
       "    <tr>\n",
       "      <th>1.5</th>\n",
       "      <td>0.000000</td>\n",
       "      <td>0.000721</td>\n",
       "      <td>0.000000</td>\n",
       "      <td>0.000089</td>\n",
       "    </tr>\n",
       "    <tr>\n",
       "      <th>2.0</th>\n",
       "      <td>0.000316</td>\n",
       "      <td>0.000996</td>\n",
       "      <td>0.000353</td>\n",
       "      <td>0.000188</td>\n",
       "    </tr>\n",
       "  </tbody>\n",
       "</table>\n",
       "</div>"
      ],
      "text/plain": [
       "          asian     black  hispanic     white\n",
       "Score                                        \n",
       "0.0    0.000000  0.000000  0.000000  0.000000\n",
       "0.5    0.000000  0.000173  0.000176  0.000000\n",
       "1.0    0.000549  0.003093  0.000362  0.000278\n",
       "1.5    0.000000  0.000721  0.000000  0.000089\n",
       "2.0    0.000316  0.000996  0.000353  0.000188"
      ]
     },
     "execution_count": 31,
     "metadata": {},
     "output_type": "execute_result"
    }
   ],
   "source": [
    "ProbScoreEqualsXGivenNonDefaultAndRace = pd.DataFrame({\n",
    "    'white': ProbScoreEqualsXAndGoodAndRace['P(Score=x and NonDefault and White)'] / ProbNonDefaultAndRace['white'].values[0],\n",
    "    'asian': ProbScoreEqualsXAndGoodAndRace['P(Score=x and NonDefault and Asian)'] / ProbNonDefaultAndRace['asian'].values[0],\n",
    "    'black': ProbScoreEqualsXAndGoodAndRace['P(Score=x and NonDefault and Black)'] / ProbNonDefaultAndRace['black'].values[0],\n",
    "    'hispanic': ProbScoreEqualsXAndGoodAndRace ['P(Score=x and NonDefault and Hispanic)'] / ProbNonDefaultAndRace['hispanic'].values[0],\n",
    "})\n",
    "\n",
    "\n",
    "ProbScoreEqualsXGivenNonDefaultAndRace.head()"
   ]
  },
  {
   "cell_type": "code",
   "execution_count": 32,
   "metadata": {},
   "outputs": [
    {
     "name": "stdout",
     "output_type": "stream",
     "text": [
      "white 0.010239467159620026\n",
      "black 0.026502320279975546\n",
      "hispanic 0.004775775586353237\n",
      "asian 0.0038779959232669086\n"
     ]
    }
   ],
   "source": [
    "ProbFromOther = pd.read_csv('ProbScoreEqualsXGivenGoodAndRace.csv').set_index(\"TransRisk Score\")\n",
    "ProbFromOther.index.names = [\"Score\"]\n",
    "for race in [\"white\", \"black\", \"hispanic\", \"asian\"]:\n",
    "    print(race, (ProbFromOther[race.lower()] - ProbScoreEqualsXGivenNonDefaultAndRace[race]).abs().sum())"
   ]
  },
  {
   "cell_type": "markdown",
   "metadata": {},
   "source": [
    "<hr/>"
   ]
  },
  {
   "cell_type": "markdown",
   "metadata": {},
   "source": [
    "# Calculating P(Score>=x | NonDefault, race)"
   ]
  },
  {
   "cell_type": "code",
   "execution_count": 33,
   "metadata": {},
   "outputs": [
    {
     "data": {
      "text/html": [
       "<div>\n",
       "<style>\n",
       "    .dataframe thead tr:only-child th {\n",
       "        text-align: right;\n",
       "    }\n",
       "\n",
       "    .dataframe thead th {\n",
       "        text-align: left;\n",
       "    }\n",
       "\n",
       "    .dataframe tbody tr th {\n",
       "        vertical-align: top;\n",
       "    }\n",
       "</style>\n",
       "<table border=\"1\" class=\"dataframe\">\n",
       "  <thead>\n",
       "    <tr style=\"text-align: right;\">\n",
       "      <th></th>\n",
       "      <th>asian</th>\n",
       "      <th>black</th>\n",
       "      <th>hispanic</th>\n",
       "      <th>white</th>\n",
       "    </tr>\n",
       "    <tr>\n",
       "      <th>Score</th>\n",
       "      <th></th>\n",
       "      <th></th>\n",
       "      <th></th>\n",
       "      <th></th>\n",
       "    </tr>\n",
       "  </thead>\n",
       "  <tbody>\n",
       "    <tr>\n",
       "      <th>0.0</th>\n",
       "      <td>0.996122</td>\n",
       "      <td>1.026501</td>\n",
       "      <td>1.004775</td>\n",
       "      <td>0.989761</td>\n",
       "    </tr>\n",
       "    <tr>\n",
       "      <th>0.5</th>\n",
       "      <td>0.996122</td>\n",
       "      <td>1.026501</td>\n",
       "      <td>1.004775</td>\n",
       "      <td>0.989761</td>\n",
       "    </tr>\n",
       "    <tr>\n",
       "      <th>1.0</th>\n",
       "      <td>0.996122</td>\n",
       "      <td>1.026328</td>\n",
       "      <td>1.004600</td>\n",
       "      <td>0.989761</td>\n",
       "    </tr>\n",
       "    <tr>\n",
       "      <th>1.5</th>\n",
       "      <td>0.995573</td>\n",
       "      <td>1.023235</td>\n",
       "      <td>1.004237</td>\n",
       "      <td>0.989483</td>\n",
       "    </tr>\n",
       "    <tr>\n",
       "      <th>2.0</th>\n",
       "      <td>0.995573</td>\n",
       "      <td>1.022514</td>\n",
       "      <td>1.004237</td>\n",
       "      <td>0.989394</td>\n",
       "    </tr>\n",
       "  </tbody>\n",
       "</table>\n",
       "</div>"
      ],
      "text/plain": [
       "          asian     black  hispanic     white\n",
       "Score                                        \n",
       "0.0    0.996122  1.026501  1.004775  0.989761\n",
       "0.5    0.996122  1.026501  1.004775  0.989761\n",
       "1.0    0.996122  1.026328  1.004600  0.989761\n",
       "1.5    0.995573  1.023235  1.004237  0.989483\n",
       "2.0    0.995573  1.022514  1.004237  0.989394"
      ]
     },
     "execution_count": 33,
     "metadata": {},
     "output_type": "execute_result"
    }
   ],
   "source": [
    "ProbScoreGreaterThanXGivenNonDefaultAndRace = ProbScoreEqualsXGivenNonDefaultAndRace.iloc[::-1].cumsum()[::-1]\n",
    "ProbScoreGreaterThanXGivenNonDefaultAndRace.head()"
   ]
  },
  {
   "cell_type": "markdown",
   "metadata": {},
   "source": [
    "<hr/>"
   ]
  },
  {
   "cell_type": "markdown",
   "metadata": {},
   "source": [
    "# Calculating P(NonDefault | Score=>x, race)\n",
    "### Should match ProbLoanReceiverIsGood.csv"
   ]
  },
  {
   "cell_type": "markdown",
   "metadata": {},
   "source": [
    "<h2 align='center'>$\\frac{P(NonDefault and Score>=x | race)}{P(Score>=x | race)}$</h2>\n",
    "\n",
    "** P(NonDefault | Score=x, race) **\n",
    "- calculated earlier in this notebook\n",
    "- ProbNonDefaultGivenScoreEqualsXAndRace\n",
    "\n",
    "** P(NonDefault and Score=x | race) = P(NonDefault | Score=x, race) * P(Score=x | race) **\n",
    "- ProbNonDefaultGivenScoreEqualsXAndRace * ProbScoreEqualsXAndRace (calculated above)\n",
    "- we can use cumsum() on the reverse of this to obtain P(NonDefault and Score>=x | race)\n",
    "\n",
    "** P(NonDefault and Score>=x | race) **\n",
    "- ProbNonDefaultAndScoreGreaterXGivenRace\n",
    "- see above for how to calculate this\n",
    "\n",
    "** P(Score>=x | race) **\n",
    "- We already calculated P(Score=x | race), we can use cumsum() on the reverse of ProbScoreEqualsXGivenRace to obtain this"
   ]
  },
  {
   "cell_type": "code",
   "execution_count": 34,
   "metadata": {},
   "outputs": [
    {
     "data": {
      "text/html": [
       "<div>\n",
       "<style>\n",
       "    .dataframe thead tr:only-child th {\n",
       "        text-align: right;\n",
       "    }\n",
       "\n",
       "    .dataframe thead th {\n",
       "        text-align: left;\n",
       "    }\n",
       "\n",
       "    .dataframe tbody tr th {\n",
       "        vertical-align: top;\n",
       "    }\n",
       "</style>\n",
       "<table border=\"1\" class=\"dataframe\">\n",
       "  <thead>\n",
       "    <tr style=\"text-align: right;\">\n",
       "      <th></th>\n",
       "      <th>white</th>\n",
       "      <th>black</th>\n",
       "      <th>hispanic</th>\n",
       "      <th>asian</th>\n",
       "    </tr>\n",
       "    <tr>\n",
       "      <th>Score</th>\n",
       "      <th></th>\n",
       "      <th></th>\n",
       "      <th></th>\n",
       "      <th></th>\n",
       "    </tr>\n",
       "  </thead>\n",
       "  <tbody>\n",
       "    <tr>\n",
       "      <th>0.0</th>\n",
       "      <td>0.000000</td>\n",
       "      <td>0.000000</td>\n",
       "      <td>0.000000</td>\n",
       "      <td>0.000000</td>\n",
       "    </tr>\n",
       "    <tr>\n",
       "      <th>0.5</th>\n",
       "      <td>0.000000</td>\n",
       "      <td>0.004872</td>\n",
       "      <td>0.021042</td>\n",
       "      <td>0.000000</td>\n",
       "    </tr>\n",
       "    <tr>\n",
       "      <th>1.0</th>\n",
       "      <td>0.023442</td>\n",
       "      <td>0.023545</td>\n",
       "      <td>0.011400</td>\n",
       "      <td>0.058622</td>\n",
       "    </tr>\n",
       "    <tr>\n",
       "      <th>1.5</th>\n",
       "      <td>0.024990</td>\n",
       "      <td>0.019935</td>\n",
       "      <td>0.000000</td>\n",
       "      <td>0.000000</td>\n",
       "    </tr>\n",
       "    <tr>\n",
       "      <th>2.0</th>\n",
       "      <td>0.038610</td>\n",
       "      <td>0.022100</td>\n",
       "      <td>0.025943</td>\n",
       "      <td>0.101215</td>\n",
       "    </tr>\n",
       "  </tbody>\n",
       "</table>\n",
       "</div>"
      ],
      "text/plain": [
       "          white     black  hispanic     asian\n",
       "Score                                        \n",
       "0.0    0.000000  0.000000  0.000000  0.000000\n",
       "0.5    0.000000  0.004872  0.021042  0.000000\n",
       "1.0    0.023442  0.023545  0.011400  0.058622\n",
       "1.5    0.024990  0.019935  0.000000  0.000000\n",
       "2.0    0.038610  0.022100  0.025943  0.101215"
      ]
     },
     "execution_count": 34,
     "metadata": {},
     "output_type": "execute_result"
    }
   ],
   "source": [
    "ProbNonDefaultGivenScoreEqualsXAndRace.head()"
   ]
  },
  {
   "cell_type": "code",
   "execution_count": 35,
   "metadata": {},
   "outputs": [],
   "source": [
    "ProbScoreEqualsXGivenRace.columns = [x.lower() for x in ProbScoreEqualsXGivenRace.columns]\n",
    "ProbNonDefaultAndScoreEqualsXGivenRace = (\n",
    "    ProbScoreEqualsXGivenRace[['asian', 'black', 'hispanic', 'white']] * \n",
    "    ProbNonDefaultGivenScoreEqualsXAndRace[['asian', 'black', 'hispanic', 'white']])\n",
    "ProbNonDefaultAndScoreGreaterXGivenRace = (\n",
    "    ProbNonDefaultAndScoreEqualsXGivenRace.iloc[::-1].cumsum()[::-1])"
   ]
  },
  {
   "cell_type": "code",
   "execution_count": 36,
   "metadata": {
    "collapsed": true
   },
   "outputs": [],
   "source": [
    "ProbScoreGreaterXGivenRace = ProbScoreEqualsXGivenRace.iloc[::-1].cumsum()[::-1]"
   ]
  },
  {
   "cell_type": "code",
   "execution_count": 37,
   "metadata": {},
   "outputs": [
    {
     "name": "stdout",
     "output_type": "stream",
     "text": [
      "white 2.5400688496990398e-15\n",
      "black 9.074772183703672e-16\n",
      "hispanic 1.916869440954372e-15\n",
      "asian 4.121919819355391e-15\n"
     ]
    }
   ],
   "source": [
    "ProbFromOther = pd.read_csv(\"ProbScoreGreaterThanXGivenRace.csv\").set_index(\"TransRisk Score\")\n",
    "ProbFromOther.index.names = ['Score']\n",
    "\n",
    "for race in [\"white\", \"black\", \"hispanic\", \"asian\"]:\n",
    "    print(race, (ProbFromOther[race] - ProbScoreGreaterXGivenRace[race]).abs().sum())"
   ]
  },
  {
   "cell_type": "code",
   "execution_count": 38,
   "metadata": {},
   "outputs": [
    {
     "data": {
      "text/html": [
       "<div>\n",
       "<style>\n",
       "    .dataframe thead tr:only-child th {\n",
       "        text-align: right;\n",
       "    }\n",
       "\n",
       "    .dataframe thead th {\n",
       "        text-align: left;\n",
       "    }\n",
       "\n",
       "    .dataframe tbody tr th {\n",
       "        vertical-align: top;\n",
       "    }\n",
       "</style>\n",
       "<table border=\"1\" class=\"dataframe\">\n",
       "  <thead>\n",
       "    <tr style=\"text-align: right;\">\n",
       "      <th></th>\n",
       "      <th>asian</th>\n",
       "      <th>black</th>\n",
       "      <th>hispanic</th>\n",
       "      <th>white</th>\n",
       "    </tr>\n",
       "    <tr>\n",
       "      <th>Score</th>\n",
       "      <th></th>\n",
       "      <th></th>\n",
       "      <th></th>\n",
       "      <th></th>\n",
       "    </tr>\n",
       "  </thead>\n",
       "  <tbody>\n",
       "    <tr>\n",
       "      <th>0.0</th>\n",
       "      <td>0.797555</td>\n",
       "      <td>0.323516</td>\n",
       "      <td>0.553224</td>\n",
       "      <td>0.751411</td>\n",
       "    </tr>\n",
       "    <tr>\n",
       "      <th>0.5</th>\n",
       "      <td>0.797555</td>\n",
       "      <td>0.323516</td>\n",
       "      <td>0.553224</td>\n",
       "      <td>0.751411</td>\n",
       "    </tr>\n",
       "    <tr>\n",
       "      <th>1.0</th>\n",
       "      <td>0.797555</td>\n",
       "      <td>0.323462</td>\n",
       "      <td>0.553127</td>\n",
       "      <td>0.751411</td>\n",
       "    </tr>\n",
       "    <tr>\n",
       "      <th>1.5</th>\n",
       "      <td>0.797115</td>\n",
       "      <td>0.322487</td>\n",
       "      <td>0.552928</td>\n",
       "      <td>0.751200</td>\n",
       "    </tr>\n",
       "    <tr>\n",
       "      <th>2.0</th>\n",
       "      <td>0.797115</td>\n",
       "      <td>0.322260</td>\n",
       "      <td>0.552928</td>\n",
       "      <td>0.751133</td>\n",
       "    </tr>\n",
       "  </tbody>\n",
       "</table>\n",
       "</div>"
      ],
      "text/plain": [
       "          asian     black  hispanic     white\n",
       "Score                                        \n",
       "0.0    0.797555  0.323516  0.553224  0.751411\n",
       "0.5    0.797555  0.323516  0.553224  0.751411\n",
       "1.0    0.797555  0.323462  0.553127  0.751411\n",
       "1.5    0.797115  0.322487  0.552928  0.751200\n",
       "2.0    0.797115  0.322260  0.552928  0.751133"
      ]
     },
     "execution_count": 38,
     "metadata": {},
     "output_type": "execute_result"
    }
   ],
   "source": [
    "ProbNonDefaultAndScoreGreaterXGivenRace.head()"
   ]
  },
  {
   "cell_type": "code",
   "execution_count": 39,
   "metadata": {},
   "outputs": [
    {
     "data": {
      "text/html": [
       "<div>\n",
       "<style>\n",
       "    .dataframe thead tr:only-child th {\n",
       "        text-align: right;\n",
       "    }\n",
       "\n",
       "    .dataframe thead th {\n",
       "        text-align: left;\n",
       "    }\n",
       "\n",
       "    .dataframe tbody tr th {\n",
       "        vertical-align: top;\n",
       "    }\n",
       "</style>\n",
       "<table border=\"1\" class=\"dataframe\">\n",
       "  <thead>\n",
       "    <tr style=\"text-align: right;\">\n",
       "      <th></th>\n",
       "      <th>white</th>\n",
       "      <th>black</th>\n",
       "      <th>hispanic</th>\n",
       "      <th>asian</th>\n",
       "    </tr>\n",
       "    <tr>\n",
       "      <th>Score</th>\n",
       "      <th></th>\n",
       "      <th></th>\n",
       "      <th></th>\n",
       "      <th></th>\n",
       "    </tr>\n",
       "  </thead>\n",
       "  <tbody>\n",
       "    <tr>\n",
       "      <th>0.0</th>\n",
       "      <td>0.9999</td>\n",
       "      <td>0.9993</td>\n",
       "      <td>0.9999</td>\n",
       "      <td>1.0000</td>\n",
       "    </tr>\n",
       "    <tr>\n",
       "      <th>0.5</th>\n",
       "      <td>0.9999</td>\n",
       "      <td>0.9993</td>\n",
       "      <td>0.9999</td>\n",
       "      <td>1.0000</td>\n",
       "    </tr>\n",
       "    <tr>\n",
       "      <th>1.0</th>\n",
       "      <td>0.9974</td>\n",
       "      <td>0.9881</td>\n",
       "      <td>0.9953</td>\n",
       "      <td>0.9987</td>\n",
       "    </tr>\n",
       "    <tr>\n",
       "      <th>1.5</th>\n",
       "      <td>0.9884</td>\n",
       "      <td>0.9467</td>\n",
       "      <td>0.9778</td>\n",
       "      <td>0.9912</td>\n",
       "    </tr>\n",
       "    <tr>\n",
       "      <th>2.0</th>\n",
       "      <td>0.9857</td>\n",
       "      <td>0.9353</td>\n",
       "      <td>0.9726</td>\n",
       "      <td>0.9893</td>\n",
       "    </tr>\n",
       "  </tbody>\n",
       "</table>\n",
       "</div>"
      ],
      "text/plain": [
       "        white   black  hispanic   asian\n",
       "Score                                  \n",
       "0.0    0.9999  0.9993    0.9999  1.0000\n",
       "0.5    0.9999  0.9993    0.9999  1.0000\n",
       "1.0    0.9974  0.9881    0.9953  0.9987\n",
       "1.5    0.9884  0.9467    0.9778  0.9912\n",
       "2.0    0.9857  0.9353    0.9726  0.9893"
      ]
     },
     "execution_count": 39,
     "metadata": {},
     "output_type": "execute_result"
    }
   ],
   "source": [
    "ProbScoreGreaterXGivenRace.head()"
   ]
  },
  {
   "cell_type": "code",
   "execution_count": 40,
   "metadata": {
    "collapsed": true
   },
   "outputs": [],
   "source": [
    "ProbNonDefaultGivenScoreGreaterXAndRace = (\n",
    "    ProbNonDefaultAndScoreGreaterXGivenRace / ProbScoreGreaterXGivenRace)"
   ]
  },
  {
   "cell_type": "code",
   "execution_count": 41,
   "metadata": {},
   "outputs": [
    {
     "data": {
      "text/html": [
       "<div>\n",
       "<style>\n",
       "    .dataframe thead tr:only-child th {\n",
       "        text-align: right;\n",
       "    }\n",
       "\n",
       "    .dataframe thead th {\n",
       "        text-align: left;\n",
       "    }\n",
       "\n",
       "    .dataframe tbody tr th {\n",
       "        vertical-align: top;\n",
       "    }\n",
       "</style>\n",
       "<table border=\"1\" class=\"dataframe\">\n",
       "  <thead>\n",
       "    <tr style=\"text-align: right;\">\n",
       "      <th></th>\n",
       "      <th>asian</th>\n",
       "      <th>black</th>\n",
       "      <th>hispanic</th>\n",
       "      <th>white</th>\n",
       "    </tr>\n",
       "    <tr>\n",
       "      <th>Score</th>\n",
       "      <th></th>\n",
       "      <th></th>\n",
       "      <th></th>\n",
       "      <th></th>\n",
       "    </tr>\n",
       "  </thead>\n",
       "  <tbody>\n",
       "    <tr>\n",
       "      <th>0.0</th>\n",
       "      <td>0.797555</td>\n",
       "      <td>0.323743</td>\n",
       "      <td>0.553280</td>\n",
       "      <td>0.751487</td>\n",
       "    </tr>\n",
       "    <tr>\n",
       "      <th>0.5</th>\n",
       "      <td>0.797555</td>\n",
       "      <td>0.323743</td>\n",
       "      <td>0.553280</td>\n",
       "      <td>0.751487</td>\n",
       "    </tr>\n",
       "    <tr>\n",
       "      <th>1.0</th>\n",
       "      <td>0.798593</td>\n",
       "      <td>0.327357</td>\n",
       "      <td>0.555739</td>\n",
       "      <td>0.753370</td>\n",
       "    </tr>\n",
       "    <tr>\n",
       "      <th>1.5</th>\n",
       "      <td>0.804192</td>\n",
       "      <td>0.340643</td>\n",
       "      <td>0.565482</td>\n",
       "      <td>0.760017</td>\n",
       "    </tr>\n",
       "    <tr>\n",
       "      <th>2.0</th>\n",
       "      <td>0.805737</td>\n",
       "      <td>0.344552</td>\n",
       "      <td>0.568505</td>\n",
       "      <td>0.762030</td>\n",
       "    </tr>\n",
       "  </tbody>\n",
       "</table>\n",
       "</div>"
      ],
      "text/plain": [
       "          asian     black  hispanic     white\n",
       "Score                                        \n",
       "0.0    0.797555  0.323743  0.553280  0.751487\n",
       "0.5    0.797555  0.323743  0.553280  0.751487\n",
       "1.0    0.798593  0.327357  0.555739  0.753370\n",
       "1.5    0.804192  0.340643  0.565482  0.760017\n",
       "2.0    0.805737  0.344552  0.568505  0.762030"
      ]
     },
     "execution_count": 41,
     "metadata": {},
     "output_type": "execute_result"
    }
   ],
   "source": [
    "ProbNonDefaultGivenScoreGreaterXAndRace.head()"
   ]
  },
  {
   "cell_type": "code",
   "execution_count": 42,
   "metadata": {},
   "outputs": [
    {
     "name": "stdout",
     "output_type": "stream",
     "text": [
      "white 0.7555296018240727\n",
      "black 1.4026080891020873\n",
      "hispanic 0.3104417082944061\n",
      "asian 0.31849800731071864\n"
     ]
    }
   ],
   "source": [
    "ProbFromOther = pd.read_csv('ProbLoanReceiverIsGood.csv').set_index(\"TransRisk Score\")\n",
    "ProbFromOther.index.names = ['Score']\n",
    "\n",
    "for race in [\"white\", \"black\", \"hispanic\", \"asian\"]:\n",
    "    print(race, (ProbFromOther[race.lower()] - ProbNonDefaultGivenScoreGreaterXAndRace[race]).abs().sum())"
   ]
  },
  {
   "cell_type": "code",
   "execution_count": 43,
   "metadata": {
    "collapsed": true
   },
   "outputs": [],
   "source": [
    "# THEY NEED THIS CSV IN THE TUTORIAL\n",
    "ProbNonDefaultGivenScoreGreaterXAndRace.to_csv('ProbNonDefaultGivenScoreGreaterXAndRace.csv')"
   ]
  },
  {
   "cell_type": "code",
   "execution_count": null,
   "metadata": {
    "collapsed": true
   },
   "outputs": [],
   "source": []
  }
 ],
 "metadata": {
  "kernelspec": {
   "display_name": "Python 3",
   "language": "python",
   "name": "python3"
  },
  "language_info": {
   "codemirror_mode": {
    "name": "ipython",
    "version": 3
   },
   "file_extension": ".py",
   "mimetype": "text/x-python",
   "name": "python",
   "nbconvert_exporter": "python",
   "pygments_lexer": "ipython3",
   "version": "3.6.1"
  }
 },
 "nbformat": 4,
 "nbformat_minor": 2
}
