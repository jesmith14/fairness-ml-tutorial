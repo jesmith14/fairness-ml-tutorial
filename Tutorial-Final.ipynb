{
 "cells": [
  {
   "cell_type": "markdown",
   "metadata": {},
   "source": [
    "# An Introduction to Ethical Supervised Learning"
   ]
  },
  {
   "cell_type": "markdown",
   "metadata": {},
   "source": [
    "<hr/>"
   ]
  },
  {
   "cell_type": "markdown",
   "metadata": {},
   "source": [
    "# Overview\n",
    "In this tutorial, you will learn:\n",
    "<ol>\n",
    "<li> How to identify a discriminatory machine learning predictor</li>\n",
    "<li> An introduction to fairness models in supervised learning</li>\n",
    "<li> How to fix a basic discriminatory predictor with a fairness model through:\n",
    "    <ul>\n",
    "    <li> Understanding perfmorance metrics</li>\n",
    "    <li> Minimizing loss</li>\n",
    "    <li> Utilizing sensitivity / recall</li>\n",
    "    </ul>\n",
    "</li>\n",
    "</ol>"
   ]
  },
  {
   "cell_type": "markdown",
   "metadata": {},
   "source": [
    "<hr/>"
   ]
  },
  {
   "cell_type": "markdown",
   "metadata": {},
   "source": [
    "# Part 1 : How to Identify a Discriminatory Predictor"
   ]
  },
  {
   "cell_type": "markdown",
   "metadata": {},
   "source": [
    "## I. Introduction to TransRisk Scores"
   ]
  },
  {
   "cell_type": "markdown",
   "metadata": {},
   "source": [
    "For this tutorial, we will be working with <b>TransRisk Scores</b> for four demographics. TransRisk scores aim to estimate how worthy a consumer is for credit. The scores range from 0 to 100, and are created using a variety of data points (such as history of paying back loans, how many credit card accounts you've had, employment rate, etc.) In theory, the closer a person's TransRisk score is to 100, the more likely they are to pay back a loan (similar to a FICO credit score). Banks and loan agencies typically use this kind of score combined with a <b>threshold value</b> to decide if someone should be granted a loan.<br/><br/>\n",
    "For example, a bank that grants loans might set their threshold TransRisk score at 60. Then everyone with a TransRisk score of 60 or above recieves a loan, and everyone with a score below 60 automatically gets denied.<br/><br/>\n",
    "The first data set you will work with shows the probability of an individual having a TransRisk score for different demographic groups. This can also be written as : \n",
    "<h3 align='center'> P(Score = x | race)</h3>"
   ]
  },
  {
   "cell_type": "code",
   "execution_count": 1,
   "metadata": {
    "collapsed": true
   },
   "outputs": [],
   "source": [
    "import pandas as pd\n",
    "%matplotlib inline\n",
    "import numpy as np"
   ]
  },
  {
   "cell_type": "code",
   "execution_count": 2,
   "metadata": {},
   "outputs": [
    {
     "data": {
      "text/html": [
       "<div>\n",
       "<style>\n",
       "    .dataframe thead tr:only-child th {\n",
       "        text-align: right;\n",
       "    }\n",
       "\n",
       "    .dataframe thead th {\n",
       "        text-align: left;\n",
       "    }\n",
       "\n",
       "    .dataframe tbody tr th {\n",
       "        vertical-align: top;\n",
       "    }\n",
       "</style>\n",
       "<table border=\"1\" class=\"dataframe\">\n",
       "  <thead>\n",
       "    <tr style=\"text-align: right;\">\n",
       "      <th></th>\n",
       "      <th>White</th>\n",
       "      <th>Black</th>\n",
       "      <th>Hispanic</th>\n",
       "      <th>Asian</th>\n",
       "    </tr>\n",
       "    <tr>\n",
       "      <th>Score</th>\n",
       "      <th></th>\n",
       "      <th></th>\n",
       "      <th></th>\n",
       "      <th></th>\n",
       "    </tr>\n",
       "  </thead>\n",
       "  <tbody>\n",
       "    <tr>\n",
       "      <th>0.0</th>\n",
       "      <td>0.0000</td>\n",
       "      <td>0.0000</td>\n",
       "      <td>0.0000</td>\n",
       "      <td>0.0000</td>\n",
       "    </tr>\n",
       "    <tr>\n",
       "      <th>0.5</th>\n",
       "      <td>0.0025</td>\n",
       "      <td>0.0112</td>\n",
       "      <td>0.0046</td>\n",
       "      <td>0.0013</td>\n",
       "    </tr>\n",
       "    <tr>\n",
       "      <th>1.0</th>\n",
       "      <td>0.0090</td>\n",
       "      <td>0.0414</td>\n",
       "      <td>0.0175</td>\n",
       "      <td>0.0075</td>\n",
       "    </tr>\n",
       "    <tr>\n",
       "      <th>1.5</th>\n",
       "      <td>0.0027</td>\n",
       "      <td>0.0114</td>\n",
       "      <td>0.0052</td>\n",
       "      <td>0.0019</td>\n",
       "    </tr>\n",
       "    <tr>\n",
       "      <th>2.0</th>\n",
       "      <td>0.0037</td>\n",
       "      <td>0.0142</td>\n",
       "      <td>0.0075</td>\n",
       "      <td>0.0025</td>\n",
       "    </tr>\n",
       "  </tbody>\n",
       "</table>\n",
       "</div>"
      ],
      "text/plain": [
       "        White   Black  Hispanic   Asian\n",
       "Score                                  \n",
       "0.0    0.0000  0.0000    0.0000  0.0000\n",
       "0.5    0.0025  0.0112    0.0046  0.0013\n",
       "1.0    0.0090  0.0414    0.0175  0.0075\n",
       "1.5    0.0027  0.0114    0.0052  0.0019\n",
       "2.0    0.0037  0.0142    0.0075  0.0025"
      ]
     },
     "execution_count": 2,
     "metadata": {},
     "output_type": "execute_result"
    }
   ],
   "source": [
    "# ProbOfBeingScore = pd.read_csv(\"ProbOfBeingScore.csv\").set_index(\"TransRisk Score\")\n",
    "ProbScoreEqualsXGivenRace = pd.read_csv(\"ProbScoreEqualsXGivenRace.csv\").set_index(\"Score\")\n",
    "ProbScoreEqualsXGivenRace.head()"
   ]
  },
  {
   "cell_type": "markdown",
   "metadata": {},
   "source": [
    "## II. Using Visualizations as a Guide"
   ]
  },
  {
   "cell_type": "markdown",
   "metadata": {},
   "source": [
    "*** For a threshold score x, someone is given a loan if they have a TransRisk score >= x. Using this data set, create and plot a dataframe that shows the probability of an individual receiving a loan: ***\n",
    "<h3 align='center'> P(score >= x | race)</h3>"
   ]
  },
  {
   "cell_type": "code",
   "execution_count": 3,
   "metadata": {},
   "outputs": [
    {
     "data": {
      "text/plain": [
       "<matplotlib.axes._subplots.AxesSubplot at 0x10b78ab70>"
      ]
     },
     "execution_count": 3,
     "metadata": {},
     "output_type": "execute_result"
    },
    {
     "data": {
      "image/png": "[encoded data removed]",
      "text/plain": [
       "<matplotlib.figure.Figure at 0x10b78a550>"
      ]
     },
     "metadata": {},
     "output_type": "display_data"
    }
   ],
   "source": [
    "ProbOfGettingLoan = ProbScoreEqualsXGivenRace.iloc[::-1].cumsum()[::-1]\n",
    "ProbOfGettingLoan.plot.line()"
   ]
  },
  {
   "cell_type": "markdown",
   "metadata": {},
   "source": [
    "## III. Interpretation"
   ]
  },
  {
   "cell_type": "markdown",
   "metadata": {},
   "source": [
    "Using our previous example of a threshold score x = 60, take a look at your visualization. With a score of 60, what is the probability for an individual of each race to receive a loan?"
   ]
  },
  {
   "cell_type": "code",
   "execution_count": 4,
   "metadata": {},
   "outputs": [
    {
     "data": {
      "text/plain": [
       "White       0.4535\n",
       "Black       0.1015\n",
       "Hispanic    0.2176\n",
       "Asian       0.4455\n",
       "Name: 60.0, dtype: float64"
      ]
     },
     "execution_count": 4,
     "metadata": {},
     "output_type": "execute_result"
    }
   ],
   "source": [
    "# Show Probabilities Here\n",
    "ProbOfGettingLoan.loc[60]"
   ]
  },
  {
   "cell_type": "markdown",
   "metadata": {},
   "source": [
    "Keep in mind this isn't an indication if discrimination is occurring or not. If a bank chooses a threshold score of 60, the white demographic would be more than 4x as likely to get a loan than the black demographic. This could happen for a variety of reasons, including (but not limited to):\n",
    "- The data that was used to create a TransRisk score (such as amount of bank accounts opened) might unintentionally discriminate against certain demographic groups.\n",
    "- Machine learning predictors are inherently less accurate for minority populations, since smaller population sizes lead to lower predictor performance.\n",
    "- For a person have a score of 60 or above in the hispanic or black demographic, they likely will need to be in a much higher percentile of their overall population as compared to the white or asian demographic\n",
    "\n",
    "** To determine if a predictor is discriminatory, it must fail the requirements provided by a fairness model. **"
   ]
  },
  {
   "cell_type": "markdown",
   "metadata": {},
   "source": [
    "<hr/>"
   ]
  },
  {
   "cell_type": "markdown",
   "metadata": {},
   "source": [
    "# Part 2 : Introduction to Fairness Models"
   ]
  },
  {
   "cell_type": "markdown",
   "metadata": {},
   "source": [
    "## I. What is a fairness model?"
   ]
  },
  {
   "cell_type": "markdown",
   "metadata": {},
   "source": [
    "Fairness models seek to fix predictors for discrimination. Specifically, they allow data scientists to algorithmically and statistically measure how <i>fair</i> a predictor is by providing requirements to ensure <i>fairness</i>. Using these requirements, we can also determine if a predictor is <i>unfair</i> (or discriminatory)."
   ]
  },
  {
   "cell_type": "markdown",
   "metadata": {},
   "source": [
    "## II. Equal Opportunity Model"
   ]
  },
  {
   "cell_type": "markdown",
   "metadata": {},
   "source": [
    "This model will work well for the TransRisk dataset, because it provides simple requirements for a binary predictor. This model takes into account three factors:\n",
    "<ol>\n",
    "<li>Groups that are defined by a protected attribute (this will be the four demographic groups in our example) | Denoted as 'A'</li>\n",
    "<li>The advantaged outcome group (we will discuss this in Part 3) | Denoted as 'Y = 1'</li>\n",
    "<li>The binary predictor (getting granted a loan) | Denoted as '$\\hat Y$ = 1' for a loan approval and '$\\hat Y$ = 0' for loan denial</li>\n",
    "</ol>"
   ]
  },
  {
   "cell_type": "markdown",
   "metadata": {},
   "source": [
    "A Predictor is said to satisfy fairness under Equal Opportunity iff the probability of getting a positive prediction is the same for all advantaged outcome members in a protected group. <br/><br/>\n",
    "<div align='center'>\n",
    "** P($\\hat Y$ = 1 | A = a, Y = 1) is equal for ALL protected groups a. **</div>\n"
   ]
  },
  {
   "cell_type": "markdown",
   "metadata": {},
   "source": [
    "<hr/>"
   ]
  },
  {
   "cell_type": "markdown",
   "metadata": {},
   "source": [
    "# Part 3 : Fixing a Discriminatory Predictor Through the Equal Opportunity Model"
   ]
  },
  {
   "cell_type": "markdown",
   "metadata": {},
   "source": [
    "## I. Understanding Performance Metrics"
   ]
  },
  {
   "cell_type": "markdown",
   "metadata": {},
   "source": [
    "![Probabilities](ethicalmldiagram.png)"
   ]
  },
  {
   "cell_type": "markdown",
   "metadata": {},
   "source": [
    "Here we will introduce two more data sets on these TransRisk scores. \n",
    "<ol>\n",
    "<li><b>ProbNonDefaultGivenRace </b>: P(NonDefault | race)\n",
    "    <ul>\n",
    "    <li> Represents the probability that an individual of a race is non-defaulting</li>\n",
    "    <li> <i>Note that the non-defaulters represent the advantaged outcome group defined in Part 2, for all non-defaulting individuals of a race,'Y = 1'</i></li>\n",
    "    </ul>\n",
    "</li><br/>\n",
    "<li><b>ProbNonDefaultGivenScoreGreaterXAndRace </b> : P(NonDefault | score >= x, race)\n",
    "    <ul>\n",
    "    <li> Represents the probability that an individual who has been granted a loan is actually a non-defaulter</li>\n",
    "    <li><i>Remember that with a threshold score x, everyone with a score >= x is granted a loan.</i></li>\n",
    "    </ul>\n",
    "</li>\n",
    "</ol>\n",
    "\n",
    "Read them in and make sure you understand what the data represents before moving onto the next section."
   ]
  },
  {
   "cell_type": "code",
   "execution_count": 5,
   "metadata": {},
   "outputs": [],
   "source": [
    "ProbNonDefaultGivenRace = pd.read_csv(\"ProbNonDefaultGivenRace.csv\")\n",
    "# need to use the old dataset until I figure out what the rounding error is coming from\n",
    "# if I use the csv that is commented out, it yeilds a result that puts\n",
    "# the asian threshold lower than the hispanic threshold.\n",
    "ProbLoanReceiverIsNonDefault = (\n",
    "    pd.read_csv(\"ProbLoanReceiverIsGood.csv\")\n",
    "    .set_index(\"TransRisk Score\"))\n",
    "# ProbLoanReceiverIsNonDefault = (\n",
    "#     pd.read_csv(\"ProbNonDefaultGivenScoreGreaterXAndRace.csv\")\n",
    "#     .set_index('Score'))\n",
    "# ProbLoanReceiverIsNonDefault.index.rename('TransRisk Score', inplace=True)"
   ]
  },
  {
   "cell_type": "code",
   "execution_count": 6,
   "metadata": {},
   "outputs": [
    {
     "data": {
      "text/html": [
       "<div>\n",
       "<style>\n",
       "    .dataframe thead tr:only-child th {\n",
       "        text-align: right;\n",
       "    }\n",
       "\n",
       "    .dataframe thead th {\n",
       "        text-align: left;\n",
       "    }\n",
       "\n",
       "    .dataframe tbody tr th {\n",
       "        vertical-align: top;\n",
       "    }\n",
       "</style>\n",
       "<table border=\"1\" class=\"dataframe\">\n",
       "  <thead>\n",
       "    <tr style=\"text-align: right;\">\n",
       "      <th></th>\n",
       "      <th>asian</th>\n",
       "      <th>black</th>\n",
       "      <th>hispanic</th>\n",
       "      <th>white</th>\n",
       "    </tr>\n",
       "    <tr>\n",
       "      <th>TransRisk Score</th>\n",
       "      <th></th>\n",
       "      <th></th>\n",
       "      <th></th>\n",
       "      <th></th>\n",
       "    </tr>\n",
       "  </thead>\n",
       "  <tbody>\n",
       "    <tr>\n",
       "      <th>0.0</th>\n",
       "      <td>0.800660</td>\n",
       "      <td>0.315384</td>\n",
       "      <td>0.550650</td>\n",
       "      <td>0.759261</td>\n",
       "    </tr>\n",
       "    <tr>\n",
       "      <th>0.5</th>\n",
       "      <td>0.800660</td>\n",
       "      <td>0.315384</td>\n",
       "      <td>0.550650</td>\n",
       "      <td>0.759261</td>\n",
       "    </tr>\n",
       "    <tr>\n",
       "      <th>1.0</th>\n",
       "      <td>0.801702</td>\n",
       "      <td>0.318908</td>\n",
       "      <td>0.553099</td>\n",
       "      <td>0.761164</td>\n",
       "    </tr>\n",
       "    <tr>\n",
       "      <th>1.5</th>\n",
       "      <td>0.807309</td>\n",
       "      <td>0.331898</td>\n",
       "      <td>0.562799</td>\n",
       "      <td>0.767862</td>\n",
       "    </tr>\n",
       "    <tr>\n",
       "      <th>2.0</th>\n",
       "      <td>0.808860</td>\n",
       "      <td>0.335718</td>\n",
       "      <td>0.565808</td>\n",
       "      <td>0.769890</td>\n",
       "    </tr>\n",
       "  </tbody>\n",
       "</table>\n",
       "</div>"
      ],
      "text/plain": [
       "                    asian     black  hispanic     white\n",
       "TransRisk Score                                        \n",
       "0.0              0.800660  0.315384  0.550650  0.759261\n",
       "0.5              0.800660  0.315384  0.550650  0.759261\n",
       "1.0              0.801702  0.318908  0.553099  0.761164\n",
       "1.5              0.807309  0.331898  0.562799  0.767862\n",
       "2.0              0.808860  0.335718  0.565808  0.769890"
      ]
     },
     "execution_count": 6,
     "metadata": {},
     "output_type": "execute_result"
    }
   ],
   "source": [
    "ProbLoanReceiverIsNonDefault.head()"
   ]
  },
  {
   "cell_type": "code",
   "execution_count": 7,
   "metadata": {},
   "outputs": [
    {
     "data": {
      "text/html": [
       "<div>\n",
       "<style>\n",
       "    .dataframe thead tr:only-child th {\n",
       "        text-align: right;\n",
       "    }\n",
       "\n",
       "    .dataframe thead th {\n",
       "        text-align: left;\n",
       "    }\n",
       "\n",
       "    .dataframe tbody tr th {\n",
       "        vertical-align: top;\n",
       "    }\n",
       "</style>\n",
       "<table border=\"1\" class=\"dataframe\">\n",
       "  <thead>\n",
       "    <tr style=\"text-align: right;\">\n",
       "      <th></th>\n",
       "      <th>White</th>\n",
       "      <th>Black</th>\n",
       "      <th>Hispanic</th>\n",
       "      <th>Asian</th>\n",
       "    </tr>\n",
       "    <tr>\n",
       "      <th>Score</th>\n",
       "      <th></th>\n",
       "      <th></th>\n",
       "      <th></th>\n",
       "      <th></th>\n",
       "    </tr>\n",
       "  </thead>\n",
       "  <tbody>\n",
       "    <tr>\n",
       "      <th>0.0</th>\n",
       "      <td>0.9999</td>\n",
       "      <td>0.9993</td>\n",
       "      <td>0.9999</td>\n",
       "      <td>1.0000</td>\n",
       "    </tr>\n",
       "    <tr>\n",
       "      <th>0.5</th>\n",
       "      <td>0.9999</td>\n",
       "      <td>0.9993</td>\n",
       "      <td>0.9999</td>\n",
       "      <td>1.0000</td>\n",
       "    </tr>\n",
       "    <tr>\n",
       "      <th>1.0</th>\n",
       "      <td>0.9974</td>\n",
       "      <td>0.9881</td>\n",
       "      <td>0.9953</td>\n",
       "      <td>0.9987</td>\n",
       "    </tr>\n",
       "    <tr>\n",
       "      <th>1.5</th>\n",
       "      <td>0.9884</td>\n",
       "      <td>0.9467</td>\n",
       "      <td>0.9778</td>\n",
       "      <td>0.9912</td>\n",
       "    </tr>\n",
       "    <tr>\n",
       "      <th>2.0</th>\n",
       "      <td>0.9857</td>\n",
       "      <td>0.9353</td>\n",
       "      <td>0.9726</td>\n",
       "      <td>0.9893</td>\n",
       "    </tr>\n",
       "  </tbody>\n",
       "</table>\n",
       "</div>"
      ],
      "text/plain": [
       "        White   Black  Hispanic   Asian\n",
       "Score                                  \n",
       "0.0    0.9999  0.9993    0.9999  1.0000\n",
       "0.5    0.9999  0.9993    0.9999  1.0000\n",
       "1.0    0.9974  0.9881    0.9953  0.9987\n",
       "1.5    0.9884  0.9467    0.9778  0.9912\n",
       "2.0    0.9857  0.9353    0.9726  0.9893"
      ]
     },
     "execution_count": 7,
     "metadata": {},
     "output_type": "execute_result"
    }
   ],
   "source": [
    "ProbOfGettingLoan.head()"
   ]
  },
  {
   "cell_type": "markdown",
   "metadata": {},
   "source": [
    "<hr/>"
   ]
  },
  {
   "cell_type": "markdown",
   "metadata": {},
   "source": [
    "<div align='center'>\n",
    "\n",
    "<h3> The General Multiplication Rule:</h3><br/>\n",
    "<b>Definition : </b> For any two events, we can say that\n",
    "<h4 > P(A and B) = P(A) * P(B | A)</h4><br/>\n",
    "<i>\"The probability that both A and B occur = the probability that A occurs multiplied by the probability that B occurs, given that A has occured.\"</i></div>"
   ]
  },
  {
   "cell_type": "markdown",
   "metadata": {},
   "source": [
    "<hr/>"
   ]
  },
  {
   "cell_type": "markdown",
   "metadata": {},
   "source": [
    "To work with the conditions introduced by the Equal Opporunity Model, we need to find<br/>\n",
    "<div align='center'>P($\\hat Y$ = 1 | A = a, Y = 1)</div><br/>\n",
    "For our case study, this would be the Probability that someone has received a loan, given their race and the fact that they are non-defaulting. Also stated:<br/>\n",
    "<div align='center'>P(score >= x | race, NonDefault)<br/><i>If you look at the visual table of probabilities above, this is shown with the <b>PURPLE</b> boxes</i></div><br/>\n",
    "Using your knowledge of the multiplication rule with all three data sets you have been given on TransRisk scores, create a DataFrame that shows this probability for each TransRisk score and demographic, then plot it to see what this data looks like."
   ]
  },
  {
   "cell_type": "code",
   "execution_count": 8,
   "metadata": {
    "collapsed": true
   },
   "outputs": [],
   "source": [
    "ProbOfGettingLoan.columns = ProbOfGettingLoan.columns.str.lower()\n",
    "ProbLoanReceiverIsNonDefault.columns = ProbLoanReceiverIsNonDefault.columns.str.lower()"
   ]
  },
  {
   "cell_type": "code",
   "execution_count": 9,
   "metadata": {
    "collapsed": true
   },
   "outputs": [],
   "source": [
    "white_s = (ProbOfGettingLoan[[\"white\"]] * ProbLoanReceiverIsNonDefault[[\"white\"]]) / ProbNonDefaultGivenRace[\"white\"][0]\n",
    "black_s = (ProbOfGettingLoan[[\"black\"]] * ProbLoanReceiverIsNonDefault[[\"black\"]]) / ProbNonDefaultGivenRace[\"black\"][0]\n",
    "asian_s = (ProbOfGettingLoan[[\"asian\"]] * ProbLoanReceiverIsNonDefault[[\"asian\"]]) / ProbNonDefaultGivenRace[\"asian\"][0]\n",
    "hispanic_s = (ProbOfGettingLoan[[\"hispanic\"]] * ProbLoanReceiverIsNonDefault[[\"hispanic\"]]) / ProbNonDefaultGivenRace[\"hispanic\"][0]"
   ]
  },
  {
   "cell_type": "code",
   "execution_count": 10,
   "metadata": {},
   "outputs": [
    {
     "data": {
      "text/html": [
       "<div>\n",
       "<style>\n",
       "    .dataframe thead tr:only-child th {\n",
       "        text-align: right;\n",
       "    }\n",
       "\n",
       "    .dataframe thead th {\n",
       "        text-align: left;\n",
       "    }\n",
       "\n",
       "    .dataframe tbody tr th {\n",
       "        vertical-align: top;\n",
       "    }\n",
       "</style>\n",
       "<table border=\"1\" class=\"dataframe\">\n",
       "  <thead>\n",
       "    <tr style=\"text-align: right;\">\n",
       "      <th></th>\n",
       "      <th>white</th>\n",
       "      <th>black</th>\n",
       "      <th>asian</th>\n",
       "      <th>hispanic</th>\n",
       "    </tr>\n",
       "    <tr>\n",
       "      <th>Score</th>\n",
       "      <th></th>\n",
       "      <th></th>\n",
       "      <th></th>\n",
       "      <th></th>\n",
       "    </tr>\n",
       "  </thead>\n",
       "  <tbody>\n",
       "    <tr>\n",
       "      <th>0.0</th>\n",
       "      <td>1.0</td>\n",
       "      <td>1.0</td>\n",
       "      <td>1.0</td>\n",
       "      <td>1.0</td>\n",
       "    </tr>\n",
       "    <tr>\n",
       "      <th>0.5</th>\n",
       "      <td>1.0</td>\n",
       "      <td>1.0</td>\n",
       "      <td>1.0</td>\n",
       "      <td>1.0</td>\n",
       "    </tr>\n",
       "    <tr>\n",
       "      <th>1.0</th>\n",
       "      <td>1.0</td>\n",
       "      <td>1.0</td>\n",
       "      <td>1.0</td>\n",
       "      <td>1.0</td>\n",
       "    </tr>\n",
       "    <tr>\n",
       "      <th>1.5</th>\n",
       "      <td>1.0</td>\n",
       "      <td>1.0</td>\n",
       "      <td>1.0</td>\n",
       "      <td>1.0</td>\n",
       "    </tr>\n",
       "    <tr>\n",
       "      <th>2.0</th>\n",
       "      <td>1.0</td>\n",
       "      <td>1.0</td>\n",
       "      <td>1.0</td>\n",
       "      <td>1.0</td>\n",
       "    </tr>\n",
       "  </tbody>\n",
       "</table>\n",
       "</div>"
      ],
      "text/plain": [
       "       white  black  asian  hispanic\n",
       "Score                               \n",
       "0.0      1.0    1.0    1.0       1.0\n",
       "0.5      1.0    1.0    1.0       1.0\n",
       "1.0      1.0    1.0    1.0       1.0\n",
       "1.5      1.0    1.0    1.0       1.0\n",
       "2.0      1.0    1.0    1.0       1.0"
      ]
     },
     "execution_count": 10,
     "metadata": {},
     "output_type": "execute_result"
    }
   ],
   "source": [
    "# sensitivites rounded to two decimal points so they can be more easily used as indices\n",
    "s = [white_s, black_s, asian_s, hispanic_s]\n",
    "sensitivities = pd.concat(s, axis= 1).round(2)\n",
    "sensitivities.head()"
   ]
  },
  {
   "cell_type": "code",
   "execution_count": 11,
   "metadata": {},
   "outputs": [
    {
     "data": {
      "text/plain": [
       "<matplotlib.axes._subplots.AxesSubplot at 0x10de8f588>"
      ]
     },
     "execution_count": 11,
     "metadata": {},
     "output_type": "execute_result"
    },
    {
     "data": {
      "image/png": "[encoded data removed]",
      "text/plain": [
       "<matplotlib.figure.Figure at 0x10de9c908>"
      ]
     },
     "metadata": {},
     "output_type": "display_data"
    }
   ],
   "source": [
    "sensitivities.plot.line()"
   ]
  },
  {
   "cell_type": "markdown",
   "metadata": {},
   "source": [
    "** Now, restructure this dataframe so the sensitivity values are the index, and each demographic has one TransRisk Score (threshold value) associated with each sensitivity **"
   ]
  },
  {
   "cell_type": "code",
   "execution_count": 12,
   "metadata": {
    "collapsed": true
   },
   "outputs": [],
   "source": [
    "# creating a dataframe with all possible rounded sensitivity values to be the index\n",
    "totalDF = pd.DataFrame({\n",
    "    'sensitivity': np.arange(0.0, 1.01, 0.01).tolist()\n",
    "})"
   ]
  },
  {
   "cell_type": "code",
   "execution_count": 13,
   "metadata": {
    "collapsed": true
   },
   "outputs": [],
   "source": [
    "# function to format the threshold scores to match the sensitivity value at the index\n",
    "def getScoreArray(race, data):\n",
    "    scores = [None] * 101\n",
    "    for index, row in data.iterrows():\n",
    "        sens = data.loc[index][race]\n",
    "        if(len(totalDF[totalDF['sensitivity'] == sens].index.values) >= 1):\n",
    "            i = totalDF[totalDF['sensitivity'] == sens].index.values[0]\n",
    "            scores[i] = index\n",
    "    return scores"
   ]
  },
  {
   "cell_type": "code",
   "execution_count": 14,
   "metadata": {
    "collapsed": true
   },
   "outputs": [],
   "source": [
    "totalDF['t_white'] = getScoreArray('white', sensitivities[['white']])\n",
    "totalDF['t_black'] = getScoreArray('black', sensitivities[['black']])\n",
    "totalDF['t_asian'] = getScoreArray('asian', sensitivities[['asian']])\n",
    "totalDF['t_hispanic'] = getScoreArray('hispanic', sensitivities[['hispanic']])"
   ]
  },
  {
   "cell_type": "code",
   "execution_count": 15,
   "metadata": {},
   "outputs": [
    {
     "data": {
      "text/html": [
       "<div>\n",
       "<style>\n",
       "    .dataframe thead tr:only-child th {\n",
       "        text-align: right;\n",
       "    }\n",
       "\n",
       "    .dataframe thead th {\n",
       "        text-align: left;\n",
       "    }\n",
       "\n",
       "    .dataframe tbody tr th {\n",
       "        vertical-align: top;\n",
       "    }\n",
       "</style>\n",
       "<table border=\"1\" class=\"dataframe\">\n",
       "  <thead>\n",
       "    <tr style=\"text-align: right;\">\n",
       "      <th></th>\n",
       "      <th>t_white</th>\n",
       "      <th>t_black</th>\n",
       "      <th>t_asian</th>\n",
       "      <th>t_hispanic</th>\n",
       "    </tr>\n",
       "    <tr>\n",
       "      <th>sensitivity</th>\n",
       "      <th></th>\n",
       "      <th></th>\n",
       "      <th></th>\n",
       "      <th></th>\n",
       "    </tr>\n",
       "  </thead>\n",
       "  <tbody>\n",
       "    <tr>\n",
       "      <th>0.00</th>\n",
       "      <td>100.0</td>\n",
       "      <td>99.5</td>\n",
       "      <td>100.0</td>\n",
       "      <td>99.5</td>\n",
       "    </tr>\n",
       "    <tr>\n",
       "      <th>0.01</th>\n",
       "      <td>98.5</td>\n",
       "      <td>98.0</td>\n",
       "      <td>98.5</td>\n",
       "      <td>98.5</td>\n",
       "    </tr>\n",
       "    <tr>\n",
       "      <th>0.02</th>\n",
       "      <td>NaN</td>\n",
       "      <td>97.5</td>\n",
       "      <td>NaN</td>\n",
       "      <td>97.5</td>\n",
       "    </tr>\n",
       "    <tr>\n",
       "      <th>0.03</th>\n",
       "      <td>98.0</td>\n",
       "      <td>95.0</td>\n",
       "      <td>98.0</td>\n",
       "      <td>96.0</td>\n",
       "    </tr>\n",
       "    <tr>\n",
       "      <th>0.04</th>\n",
       "      <td>97.5</td>\n",
       "      <td>94.0</td>\n",
       "      <td>97.5</td>\n",
       "      <td>95.0</td>\n",
       "    </tr>\n",
       "  </tbody>\n",
       "</table>\n",
       "</div>"
      ],
      "text/plain": [
       "             t_white  t_black  t_asian  t_hispanic\n",
       "sensitivity                                       \n",
       "0.00           100.0     99.5    100.0        99.5\n",
       "0.01            98.5     98.0     98.5        98.5\n",
       "0.02             NaN     97.5      NaN        97.5\n",
       "0.03            98.0     95.0     98.0        96.0\n",
       "0.04            97.5     94.0     97.5        95.0"
      ]
     },
     "execution_count": 15,
     "metadata": {},
     "output_type": "execute_result"
    }
   ],
   "source": [
    "totalDF.set_index('sensitivity').head()"
   ]
  },
  {
   "cell_type": "markdown",
   "metadata": {},
   "source": [
    "## II. Minimizing Loss"
   ]
  },
  {
   "cell_type": "markdown",
   "metadata": {},
   "source": [
    "For supervised learning predictors, one way to detect errors is to calculate the difference between the actual output and the predictor's output. The function used to compute the error of a predictor is called a <b>Loss Function</b>. For our dataset, we calculate loss in a similar manner to how banks giving loans would. Loss is calculated using False Positives (FP) and False Negatives (FN), which means every loss value can be associated with a precision value. Generally, banks strive for a maximum loss of 0.18, which correlates to a precision of 0.82. So, we want to make the <i><b>Precision = 0.82</b></i>.\n",
    "<h3 align='center'> Precision = P(Y = 1 | $\\hat Y$ = 1) == P(NonDefault | score >= x)</h3><br/>\n",
    "Here we provide another dataset that shows the percentage of each demographic in the total sample size, or rather P(race). Using this information and the multiplication rule, find the precision for every demographic at every sensitivity value. So you should create four new columns in your sensitivity dataframe from before, one for each demographic precision."
   ]
  },
  {
   "cell_type": "code",
   "execution_count": 16,
   "metadata": {},
   "outputs": [
    {
     "data": {
      "text/html": [
       "<div>\n",
       "<style>\n",
       "    .dataframe thead tr:only-child th {\n",
       "        text-align: right;\n",
       "    }\n",
       "\n",
       "    .dataframe thead th {\n",
       "        text-align: left;\n",
       "    }\n",
       "\n",
       "    .dataframe tbody tr th {\n",
       "        vertical-align: top;\n",
       "    }\n",
       "</style>\n",
       "<table border=\"1\" class=\"dataframe\">\n",
       "  <thead>\n",
       "    <tr style=\"text-align: right;\">\n",
       "      <th></th>\n",
       "      <th>P(race)</th>\n",
       "    </tr>\n",
       "    <tr>\n",
       "      <th>Demographic</th>\n",
       "      <th></th>\n",
       "    </tr>\n",
       "  </thead>\n",
       "  <tbody>\n",
       "    <tr>\n",
       "      <th>white</th>\n",
       "      <td>0.765109</td>\n",
       "    </tr>\n",
       "    <tr>\n",
       "      <th>black</th>\n",
       "      <td>0.104995</td>\n",
       "    </tr>\n",
       "    <tr>\n",
       "      <th>hispanic</th>\n",
       "      <td>0.084471</td>\n",
       "    </tr>\n",
       "    <tr>\n",
       "      <th>asian</th>\n",
       "      <td>0.045425</td>\n",
       "    </tr>\n",
       "  </tbody>\n",
       "</table>\n",
       "</div>"
      ],
      "text/plain": [
       "              P(race)\n",
       "Demographic          \n",
       "white        0.765109\n",
       "black        0.104995\n",
       "hispanic     0.084471\n",
       "asian        0.045425"
      ]
     },
     "execution_count": 16,
     "metadata": {},
     "output_type": "execute_result"
    }
   ],
   "source": [
    "# This represents P(race)\n",
    "ProbOfBeingRace = pd.read_csv(\"ProbOfBeingRace.csv\").set_index(\"Demographic\")\n",
    "ProbOfBeingRace"
   ]
  },
  {
   "cell_type": "code",
   "execution_count": 17,
   "metadata": {
    "collapsed": true
   },
   "outputs": [],
   "source": [
    "# function to order the precisions for each race in association with the demographic specific threshold value at\n",
    "# each index. These are then summed for a total precision value to find the final sensitivity\n",
    "def getPrecisionOrder(t_race, dataPrecision):\n",
    "    prec = []\n",
    "    for i in range(len(totalDF)):\n",
    "        if(totalDF[t_race][i] != None):\n",
    "            currPrec = dataPrecision[totalDF[t_race][i]]\n",
    "            if(isinstance(currPrec, np.ndarray)):\n",
    "                currPrec = 0\n",
    "            prec.append(currPrec)\n",
    "    return prec"
   ]
  },
  {
   "cell_type": "code",
   "execution_count": 18,
   "metadata": {},
   "outputs": [
    {
     "data": {
      "text/html": [
       "<div>\n",
       "<style>\n",
       "    .dataframe thead tr:only-child th {\n",
       "        text-align: right;\n",
       "    }\n",
       "\n",
       "    .dataframe thead th {\n",
       "        text-align: left;\n",
       "    }\n",
       "\n",
       "    .dataframe tbody tr th {\n",
       "        vertical-align: top;\n",
       "    }\n",
       "</style>\n",
       "<table border=\"1\" class=\"dataframe\">\n",
       "  <thead>\n",
       "    <tr style=\"text-align: right;\">\n",
       "      <th></th>\n",
       "      <th>t_white</th>\n",
       "      <th>t_black</th>\n",
       "      <th>t_asian</th>\n",
       "      <th>t_hispanic</th>\n",
       "      <th>w_prec</th>\n",
       "      <th>b_prec</th>\n",
       "      <th>a_prec</th>\n",
       "      <th>h_prec</th>\n",
       "    </tr>\n",
       "    <tr>\n",
       "      <th>sensitivity</th>\n",
       "      <th></th>\n",
       "      <th></th>\n",
       "      <th></th>\n",
       "      <th></th>\n",
       "      <th></th>\n",
       "      <th></th>\n",
       "      <th></th>\n",
       "      <th></th>\n",
       "    </tr>\n",
       "  </thead>\n",
       "  <tbody>\n",
       "    <tr>\n",
       "      <th>0.00</th>\n",
       "      <td>100.0</td>\n",
       "      <td>99.5</td>\n",
       "      <td>100.0</td>\n",
       "      <td>99.5</td>\n",
       "      <td>0.765109</td>\n",
       "      <td>0.104995</td>\n",
       "      <td>0.045425</td>\n",
       "      <td>0.084471</td>\n",
       "    </tr>\n",
       "    <tr>\n",
       "      <th>0.01</th>\n",
       "      <td>98.5</td>\n",
       "      <td>98.0</td>\n",
       "      <td>98.5</td>\n",
       "      <td>98.5</td>\n",
       "      <td>0.757606</td>\n",
       "      <td>0.100474</td>\n",
       "      <td>0.045347</td>\n",
       "      <td>0.084471</td>\n",
       "    </tr>\n",
       "    <tr>\n",
       "      <th>0.02</th>\n",
       "      <td>NaN</td>\n",
       "      <td>97.5</td>\n",
       "      <td>NaN</td>\n",
       "      <td>97.5</td>\n",
       "      <td>0.000000</td>\n",
       "      <td>0.101766</td>\n",
       "      <td>0.000000</td>\n",
       "      <td>0.083801</td>\n",
       "    </tr>\n",
       "    <tr>\n",
       "      <th>0.03</th>\n",
       "      <td>98.0</td>\n",
       "      <td>95.0</td>\n",
       "      <td>98.0</td>\n",
       "      <td>96.0</td>\n",
       "      <td>0.759574</td>\n",
       "      <td>0.102358</td>\n",
       "      <td>0.045385</td>\n",
       "      <td>0.083597</td>\n",
       "    </tr>\n",
       "    <tr>\n",
       "      <th>0.04</th>\n",
       "      <td>97.5</td>\n",
       "      <td>94.0</td>\n",
       "      <td>97.5</td>\n",
       "      <td>95.0</td>\n",
       "      <td>0.757619</td>\n",
       "      <td>0.101009</td>\n",
       "      <td>0.045334</td>\n",
       "      <td>0.083409</td>\n",
       "    </tr>\n",
       "  </tbody>\n",
       "</table>\n",
       "</div>"
      ],
      "text/plain": [
       "             t_white  t_black  t_asian  t_hispanic    w_prec    b_prec  \\\n",
       "sensitivity                                                              \n",
       "0.00           100.0     99.5    100.0        99.5  0.765109  0.104995   \n",
       "0.01            98.5     98.0     98.5        98.5  0.757606  0.100474   \n",
       "0.02             NaN     97.5      NaN        97.5  0.000000  0.101766   \n",
       "0.03            98.0     95.0     98.0        96.0  0.759574  0.102358   \n",
       "0.04            97.5     94.0     97.5        95.0  0.757619  0.101009   \n",
       "\n",
       "               a_prec    h_prec  \n",
       "sensitivity                      \n",
       "0.00         0.045425  0.084471  \n",
       "0.01         0.045347  0.084471  \n",
       "0.02         0.000000  0.083801  \n",
       "0.03         0.045385  0.083597  \n",
       "0.04         0.045334  0.083409  "
      ]
     },
     "execution_count": 18,
     "metadata": {},
     "output_type": "execute_result"
    }
   ],
   "source": [
    "# Calculate precision\n",
    "asianPrecision = ProbLoanReceiverIsNonDefault[\"asian\"] * ProbOfBeingRace.loc['asian'][\"P(race)\"]\n",
    "whitePrecision = ProbLoanReceiverIsNonDefault[\"white\"] * ProbOfBeingRace.loc['white'][\"P(race)\"]\n",
    "blackPrecision = ProbLoanReceiverIsNonDefault[\"black\"] * ProbOfBeingRace.loc['black'][\"P(race)\"]\n",
    "hispanicPrecision = ProbLoanReceiverIsNonDefault[\"hispanic\"] * ProbOfBeingRace.loc['hispanic'][\"P(race)\"]\n",
    "totalDF['w_prec'] = getPrecisionOrder('t_white', whitePrecision)\n",
    "totalDF['b_prec'] = getPrecisionOrder('t_black', blackPrecision)\n",
    "totalDF['a_prec'] = getPrecisionOrder('t_asian', asianPrecision)\n",
    "totalDF['h_prec'] = getPrecisionOrder('t_hispanic', hispanicPrecision)\n",
    "totalDF.set_index('sensitivity', inplace=True)\n",
    "totalDF.head()"
   ]
  },
  {
   "cell_type": "markdown",
   "metadata": {},
   "source": [
    "## III. Utilizing Sensitivity"
   ]
  },
  {
   "cell_type": "markdown",
   "metadata": {},
   "source": [
    "We finally have all of the peices to fix the discriminatory predictor using the Equal Opportunity Model. As you just learned in Section II, our desired loss directly leads to a precision of 0.82. Looking back at the requirements for Equal Opportunity, we can see it requires that P($\\hat Y$ = 1 | A = a, Y = 1) is equal for ALL protected groups a. This can also be stated that the <b>true positive rate</b> is equal for ALL protected groups a. Or even further, that the <b><i>Sensitivity</i></b> is equal for ALL protected groups a.<br/><br/>\n",
    "If you look back at your plot of sensitivity values, you can see that choosing one sensitivity value (drawing a horizontal line on your plot) would yeild four threshold values. But where do we draw this line? Which singular sensitivity value do we want?<br/><br/>\n",
    "As we saw in the last section, we choose the sensitivity value that gives us a total precision of 0.82. Now you simply need to find the threshold scores associated with that sensitivity value for each demographic. These scores represent the threshold that needs to be set for that particular demographic in order to satisfy 'fairness'. Finish by recording the final four threshold values needed to satisfy the Equal Opportunity Model."
   ]
  },
  {
   "cell_type": "markdown",
   "metadata": {},
   "source": [
    "** First: Aggregate the four precisions at each sensitivity value for a TOTAL PRECISION column in your dataframe. **"
   ]
  },
  {
   "cell_type": "code",
   "execution_count": 19,
   "metadata": {
    "collapsed": true
   },
   "outputs": [],
   "source": [
    "totalPrecision = (asianPrecision + whitePrecision + blackPrecision + hispanicPrecision).fillna(value=1)"
   ]
  },
  {
   "cell_type": "code",
   "execution_count": 20,
   "metadata": {},
   "outputs": [
    {
     "data": {
      "text/html": [
       "<div>\n",
       "<style>\n",
       "    .dataframe thead tr:only-child th {\n",
       "        text-align: right;\n",
       "    }\n",
       "\n",
       "    .dataframe thead th {\n",
       "        text-align: left;\n",
       "    }\n",
       "\n",
       "    .dataframe tbody tr th {\n",
       "        vertical-align: top;\n",
       "    }\n",
       "</style>\n",
       "<table border=\"1\" class=\"dataframe\">\n",
       "  <thead>\n",
       "    <tr style=\"text-align: right;\">\n",
       "      <th></th>\n",
       "      <th>t_white</th>\n",
       "      <th>t_black</th>\n",
       "      <th>t_asian</th>\n",
       "      <th>t_hispanic</th>\n",
       "      <th>w_prec</th>\n",
       "      <th>b_prec</th>\n",
       "      <th>a_prec</th>\n",
       "      <th>h_prec</th>\n",
       "      <th>total_prec</th>\n",
       "    </tr>\n",
       "    <tr>\n",
       "      <th>sensitivity</th>\n",
       "      <th></th>\n",
       "      <th></th>\n",
       "      <th></th>\n",
       "      <th></th>\n",
       "      <th></th>\n",
       "      <th></th>\n",
       "      <th></th>\n",
       "      <th></th>\n",
       "      <th></th>\n",
       "    </tr>\n",
       "  </thead>\n",
       "  <tbody>\n",
       "    <tr>\n",
       "      <th>0.00</th>\n",
       "      <td>100.0</td>\n",
       "      <td>99.5</td>\n",
       "      <td>100.0</td>\n",
       "      <td>99.5</td>\n",
       "      <td>0.765109</td>\n",
       "      <td>0.104995</td>\n",
       "      <td>0.045425</td>\n",
       "      <td>0.084471</td>\n",
       "      <td>1.000000</td>\n",
       "    </tr>\n",
       "    <tr>\n",
       "      <th>0.01</th>\n",
       "      <td>98.5</td>\n",
       "      <td>98.0</td>\n",
       "      <td>98.5</td>\n",
       "      <td>98.5</td>\n",
       "      <td>0.757606</td>\n",
       "      <td>0.100474</td>\n",
       "      <td>0.045347</td>\n",
       "      <td>0.084471</td>\n",
       "      <td>0.987899</td>\n",
       "    </tr>\n",
       "    <tr>\n",
       "      <th>0.02</th>\n",
       "      <td>NaN</td>\n",
       "      <td>97.5</td>\n",
       "      <td>NaN</td>\n",
       "      <td>97.5</td>\n",
       "      <td>0.000000</td>\n",
       "      <td>0.101766</td>\n",
       "      <td>0.000000</td>\n",
       "      <td>0.083801</td>\n",
       "      <td>0.185567</td>\n",
       "    </tr>\n",
       "    <tr>\n",
       "      <th>0.03</th>\n",
       "      <td>98.0</td>\n",
       "      <td>95.0</td>\n",
       "      <td>98.0</td>\n",
       "      <td>96.0</td>\n",
       "      <td>0.759574</td>\n",
       "      <td>0.102358</td>\n",
       "      <td>0.045385</td>\n",
       "      <td>0.083597</td>\n",
       "      <td>0.990914</td>\n",
       "    </tr>\n",
       "    <tr>\n",
       "      <th>0.04</th>\n",
       "      <td>97.5</td>\n",
       "      <td>94.0</td>\n",
       "      <td>97.5</td>\n",
       "      <td>95.0</td>\n",
       "      <td>0.757619</td>\n",
       "      <td>0.101009</td>\n",
       "      <td>0.045334</td>\n",
       "      <td>0.083409</td>\n",
       "      <td>0.987371</td>\n",
       "    </tr>\n",
       "  </tbody>\n",
       "</table>\n",
       "</div>"
      ],
      "text/plain": [
       "             t_white  t_black  t_asian  t_hispanic    w_prec    b_prec  \\\n",
       "sensitivity                                                              \n",
       "0.00           100.0     99.5    100.0        99.5  0.765109  0.104995   \n",
       "0.01            98.5     98.0     98.5        98.5  0.757606  0.100474   \n",
       "0.02             NaN     97.5      NaN        97.5  0.000000  0.101766   \n",
       "0.03            98.0     95.0     98.0        96.0  0.759574  0.102358   \n",
       "0.04            97.5     94.0     97.5        95.0  0.757619  0.101009   \n",
       "\n",
       "               a_prec    h_prec  total_prec  \n",
       "sensitivity                                  \n",
       "0.00         0.045425  0.084471    1.000000  \n",
       "0.01         0.045347  0.084471    0.987899  \n",
       "0.02         0.000000  0.083801    0.185567  \n",
       "0.03         0.045385  0.083597    0.990914  \n",
       "0.04         0.045334  0.083409    0.987371  "
      ]
     },
     "execution_count": 20,
     "metadata": {},
     "output_type": "execute_result"
    }
   ],
   "source": [
    "totalDF['total_prec'] = totalDF[['w_prec', 'b_prec', 'a_prec', 'h_prec']].sum(axis=1)\n",
    "totalDF.head()"
   ]
  },
  {
   "cell_type": "markdown",
   "metadata": {},
   "source": [
    "*** What four sensitivity values are associated with a precision of 0.82? *** (put answer below)"
   ]
  },
  {
   "cell_type": "code",
   "execution_count": 21,
   "metadata": {},
   "outputs": [
    {
     "data": {
      "text/html": [
       "<div>\n",
       "<style>\n",
       "    .dataframe thead tr:only-child th {\n",
       "        text-align: right;\n",
       "    }\n",
       "\n",
       "    .dataframe thead th {\n",
       "        text-align: left;\n",
       "    }\n",
       "\n",
       "    .dataframe tbody tr th {\n",
       "        vertical-align: top;\n",
       "    }\n",
       "</style>\n",
       "<table border=\"1\" class=\"dataframe\">\n",
       "  <thead>\n",
       "    <tr style=\"text-align: right;\">\n",
       "      <th></th>\n",
       "      <th>t_white</th>\n",
       "      <th>t_black</th>\n",
       "      <th>t_asian</th>\n",
       "      <th>t_hispanic</th>\n",
       "      <th>w_prec</th>\n",
       "      <th>b_prec</th>\n",
       "      <th>a_prec</th>\n",
       "      <th>h_prec</th>\n",
       "      <th>total_prec</th>\n",
       "    </tr>\n",
       "    <tr>\n",
       "      <th>sensitivity</th>\n",
       "      <th></th>\n",
       "      <th></th>\n",
       "      <th></th>\n",
       "      <th></th>\n",
       "      <th></th>\n",
       "      <th></th>\n",
       "      <th></th>\n",
       "      <th></th>\n",
       "      <th></th>\n",
       "    </tr>\n",
       "  </thead>\n",
       "  <tbody>\n",
       "    <tr>\n",
       "      <th>0.97</th>\n",
       "      <td>21.5</td>\n",
       "      <td>11.0</td>\n",
       "      <td>23.0</td>\n",
       "      <td>16.0</td>\n",
       "      <td>0.678919</td>\n",
       "      <td>0.046479</td>\n",
       "      <td>0.040767</td>\n",
       "      <td>0.05854</td>\n",
       "      <td>0.824704</td>\n",
       "    </tr>\n",
       "  </tbody>\n",
       "</table>\n",
       "</div>"
      ],
      "text/plain": [
       "             t_white  t_black  t_asian  t_hispanic    w_prec    b_prec  \\\n",
       "sensitivity                                                              \n",
       "0.97            21.5     11.0     23.0        16.0  0.678919  0.046479   \n",
       "\n",
       "               a_prec   h_prec  total_prec  \n",
       "sensitivity                                 \n",
       "0.97         0.040767  0.05854    0.824704  "
      ]
     },
     "execution_count": 21,
     "metadata": {},
     "output_type": "execute_result"
    }
   ],
   "source": [
    "closestPrecision = min(totalDF[\"total_prec\"], key=lambda x:abs(x-0.82))\n",
    "totalDF[totalDF['total_prec'] == closestPrecision]"
   ]
  },
  {
   "cell_type": "markdown",
   "metadata": {},
   "source": [
    "<hr/>"
   ]
  },
  {
   "cell_type": "markdown",
   "metadata": {},
   "source": [
    "# Results & Conclusions"
   ]
  },
  {
   "cell_type": "markdown",
   "metadata": {
    "collapsed": true
   },
   "source": [
    "<i><h4>Congratulations!</h4></i><br/> You have successfully taken a discriminatory predictor and utilized a machine learning fairness model to make it into a 'fair' predictor. \n",
    "<ul>\n",
    "<li> Through visualizing the probability of a beneficial outcome, you could see that the probabilities for different demographics to receive loans weren't statistically close. This wasn't necessarily a measure of discrimination.</li>\n",
    "<li> The Equal Opportunity Model provided a clear requirement to ensure fairness. As you learned later, this meant that the sensitivity (the true positive rate) of the predictor had to be the same for all races. Since one threshold value resulted in four different sensitivities, you were able to determine that discrimination will occur unless you choose one threshold per demographic.</li>\n",
    "<li> Using loss minimization, you were able to use precision to find the single sensitivity that provided the least amount of loss.</li>\n",
    "<li> Finally, you discovered four new threshold values to be used; one for each demographic. Ensuring fairness and fixing a discriminatory predictor.</li>\n",
    "</ul>\n",
    "<br/><br/>\n",
    "\n",
    "<div align='center'><i>What other commonly found predictors do you think might be inherently discriminatory?</i></div>\n",
    "<br/><br/>"
   ]
  },
  {
   "cell_type": "markdown",
   "metadata": {},
   "source": [
    "TransRisk data and non-discriminatory analysis courtesy of https://arxiv.org/pdf/1610.02413.pdf"
   ]
  }
 ],
 "metadata": {
  "kernelspec": {
   "display_name": "Python 3",
   "language": "python",
   "name": "python3"
  },
  "language_info": {
   "codemirror_mode": {
    "name": "ipython",
    "version": 3
   },
   "file_extension": ".py",
   "mimetype": "text/x-python",
   "name": "python",
   "nbconvert_exporter": "python",
   "pygments_lexer": "ipython3",
   "version": "3.6.1"
  }
 },
 "nbformat": 4,
 "nbformat_minor": 2
}
