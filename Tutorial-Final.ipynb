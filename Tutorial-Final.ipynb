{
 "cells": [
  {
   "cell_type": "markdown",
   "metadata": {},
   "source": [
    "# An Introduction to Ethical Supervised Learning"
   ]
  },
  {
   "cell_type": "markdown",
   "metadata": {},
   "source": [
    "<hr/>"
   ]
  },
  {
   "cell_type": "markdown",
   "metadata": {},
   "source": [
    "# Overview\n",
    "In this tutorial, you will learn:\n",
    "<ol>\n",
    "<li> How to identify a discriminatory machine learning predictor</li>\n",
    "<li> An introduction to fairness models in supervised learning</li>\n",
    "<li> How to fix a basic discriminatory predictor with a fairness model through:\n",
    "    <ul>\n",
    "    <li> Understanding perfmorance metrics</li>\n",
    "    <li> Minimizing loss</li>\n",
    "    <li> Utilizing sensitivity / recall</li>\n",
    "    </ul>\n",
    "</li>\n",
    "</ol>"
   ]
  },
  {
   "cell_type": "markdown",
   "metadata": {},
   "source": [
    "<hr/>"
   ]
  },
  {
   "cell_type": "markdown",
   "metadata": {},
   "source": [
    "# Part 1 : How to Identify a Discriminatory Predictor"
   ]
  },
  {
   "cell_type": "markdown",
   "metadata": {},
   "source": [
    "## I. Introduction to TransRisk Scores"
   ]
  },
  {
   "cell_type": "markdown",
   "metadata": {},
   "source": [
    "For this tutorial, we will be working with <b>TransRisk Scores</b> for four demographics. TransRisk scores aim to estimate how worthy a consumer is for credit. The scores range from 0 to 100, and are created using a variety of data points (such as history of paying back loans, how many credit card accounts you've had, employment rate, etc.) In theory, the closer a person's TransRisk score is to 100, the more likely they are to pay back a loan (similar to a FICO credit score). Banks and loan agencies typically use this kind of score combined with a <b>threshold value</b> to decide if someone should be granted a loan.<br/><br/>\n",
    "For example, a bank that grants loans might set their threshold TransRisk score at 60. Then everyone with a TransRisk score of 60 or above recieves a loan, and everyone with a score below 60 automatically gets denied.<br/><br/>\n",
    "The first data set you will work with shows the probability of an individual having a TransRisk score for different demographic groups. This can also be written as : \n",
    "<h3 align='center'> P(score = x | race)</h3>"
   ]
  },
  {
   "cell_type": "code",
   "execution_count": 2,
   "metadata": {
    "collapsed": true
   },
   "outputs": [],
   "source": [
    "import pandas as pd\n",
    "%matplotlib inline"
   ]
  },
  {
   "cell_type": "code",
   "execution_count": 3,
   "metadata": {},
   "outputs": [
    {
     "data": {
      "text/html": [
       "<div>\n",
       "<style>\n",
       "    .dataframe thead tr:only-child th {\n",
       "        text-align: right;\n",
       "    }\n",
       "\n",
       "    .dataframe thead th {\n",
       "        text-align: left;\n",
       "    }\n",
       "\n",
       "    .dataframe tbody tr th {\n",
       "        vertical-align: top;\n",
       "    }\n",
       "</style>\n",
       "<table border=\"1\" class=\"dataframe\">\n",
       "  <thead>\n",
       "    <tr style=\"text-align: right;\">\n",
       "      <th></th>\n",
       "      <th>white</th>\n",
       "      <th>black</th>\n",
       "      <th>hispanic</th>\n",
       "      <th>asian</th>\n",
       "    </tr>\n",
       "    <tr>\n",
       "      <th>TransRisk Score</th>\n",
       "      <th></th>\n",
       "      <th></th>\n",
       "      <th></th>\n",
       "      <th></th>\n",
       "    </tr>\n",
       "  </thead>\n",
       "  <tbody>\n",
       "    <tr>\n",
       "      <th>0.0</th>\n",
       "      <td>0.0000</td>\n",
       "      <td>0.0000</td>\n",
       "      <td>0.0000</td>\n",
       "      <td>0.0000</td>\n",
       "    </tr>\n",
       "    <tr>\n",
       "      <th>0.5</th>\n",
       "      <td>0.0025</td>\n",
       "      <td>0.0112</td>\n",
       "      <td>0.0046</td>\n",
       "      <td>0.0013</td>\n",
       "    </tr>\n",
       "    <tr>\n",
       "      <th>1.0</th>\n",
       "      <td>0.0090</td>\n",
       "      <td>0.0414</td>\n",
       "      <td>0.0175</td>\n",
       "      <td>0.0075</td>\n",
       "    </tr>\n",
       "    <tr>\n",
       "      <th>1.5</th>\n",
       "      <td>0.0027</td>\n",
       "      <td>0.0114</td>\n",
       "      <td>0.0052</td>\n",
       "      <td>0.0019</td>\n",
       "    </tr>\n",
       "    <tr>\n",
       "      <th>2.0</th>\n",
       "      <td>0.0037</td>\n",
       "      <td>0.0142</td>\n",
       "      <td>0.0075</td>\n",
       "      <td>0.0025</td>\n",
       "    </tr>\n",
       "  </tbody>\n",
       "</table>\n",
       "</div>"
      ],
      "text/plain": [
       "                  white   black  hispanic   asian\n",
       "TransRisk Score                                  \n",
       "0.0              0.0000  0.0000    0.0000  0.0000\n",
       "0.5              0.0025  0.0112    0.0046  0.0013\n",
       "1.0              0.0090  0.0414    0.0175  0.0075\n",
       "1.5              0.0027  0.0114    0.0052  0.0019\n",
       "2.0              0.0037  0.0142    0.0075  0.0025"
      ]
     },
     "execution_count": 3,
     "metadata": {},
     "output_type": "execute_result"
    }
   ],
   "source": [
    "ProbOfBeingScore = pd.read_csv(\"ProbOfBeingScore.csv\").set_index(\"TransRisk Score\")\n",
    "ProbOfBeingScore.head()"
   ]
  },
  {
   "cell_type": "markdown",
   "metadata": {},
   "source": [
    "## II. Using Visualizations as a Guide"
   ]
  },
  {
   "cell_type": "markdown",
   "metadata": {},
   "source": [
    "*** For a threshold score x, someone is given a loan if they have a TransRisk score >= x. Using this data set, create and plot a dataframe that shows the probability of an individual receiving a loan: ***\n",
    "<h3 align='center'> P(score >= x | race)</h3>"
   ]
  },
  {
   "cell_type": "code",
   "execution_count": 4,
   "metadata": {},
   "outputs": [
    {
     "data": {
      "text/plain": [
       "<matplotlib.axes._subplots.AxesSubplot at 0x111420160>"
      ]
     },
     "execution_count": 4,
     "metadata": {},
     "output_type": "execute_result"
    },
    {
     "data": {
      "image/png": "[encoded data removed]",
      "text/plain": [
       "<matplotlib.figure.Figure at 0x107e20b00>"
      ]
     },
     "metadata": {},
     "output_type": "display_data"
    }
   ],
   "source": [
    "ProbOfGettingLoan = ProbOfBeingScore.iloc[::-1].cumsum()[::-1]\n",
    "ProbOfGettingLoan.plot.line()"
   ]
  },
  {
   "cell_type": "markdown",
   "metadata": {},
   "source": [
    "## III. Interpretation"
   ]
  },
  {
   "cell_type": "markdown",
   "metadata": {},
   "source": [
    "Using our previous example of a threshold score x = 60, take a look at your visualization. With a score of 60, what is the probability for an individual of each race to receive a loan?"
   ]
  },
  {
   "cell_type": "code",
   "execution_count": 5,
   "metadata": {},
   "outputs": [
    {
     "data": {
      "text/plain": [
       "white       0.4535\n",
       "black       0.1015\n",
       "hispanic    0.2176\n",
       "asian       0.4455\n",
       "Name: 60.0, dtype: float64"
      ]
     },
     "execution_count": 5,
     "metadata": {},
     "output_type": "execute_result"
    }
   ],
   "source": [
    "# Show Probabilities Here\n",
    "ProbOfGettingLoan.loc[60]"
   ]
  },
  {
   "cell_type": "markdown",
   "metadata": {},
   "source": [
    "It is pretty clear that discrimination is occuring here. If a bank chooses a threshold score of 60, the white demographic would be more than 4x as likely to get a loan than the black demographic. This could happen for a variety of reasons, including (but not limited to):\n",
    "- The data that was used to create a TransRisk score (such as amount of bank accounts opened) might unintentionally discriminate against certain demographic groups.\n",
    "- Machine learning predictors are inherently less accurate for minority populations, since smaller population sizes lead to lower predictor performance."
   ]
  },
  {
   "cell_type": "markdown",
   "metadata": {},
   "source": [
    "<hr/>"
   ]
  },
  {
   "cell_type": "markdown",
   "metadata": {},
   "source": [
    "# Part 2 : Introduction to Fairness Models"
   ]
  },
  {
   "cell_type": "markdown",
   "metadata": {},
   "source": [
    "## I. What is a fairness model?"
   ]
  },
  {
   "cell_type": "markdown",
   "metadata": {},
   "source": [
    "Fairness models seek to solve the problem that you identified in Part 1. Specifically, they allow data scientists to algorithmically and statistically measure how <i>fair</i> a predictor is by providing requirements to ensure <i>fairness</i>."
   ]
  },
  {
   "cell_type": "markdown",
   "metadata": {},
   "source": [
    "## II. Equal Opportunity Model"
   ]
  },
  {
   "cell_type": "markdown",
   "metadata": {},
   "source": [
    "This model will work well for the TransRisk dataset, because it provides simple requirements for a binary predictor. This model takes into account three factors:\n",
    "<ol>\n",
    "<li>Groups that are defined by a protected attribute (this will be the four demographic groups in our example) | Denoted as 'A'</li>\n",
    "<li>The advantaged outcome group (we will discuss this in Part 3) | Denoted as 'Y = 1'</li>\n",
    "<li>The binary predictor (getting granted a loan) | Denoted as '$\\hat Y$ = 1' for a loan approval and '$\\hat Y$ = 0' for loan denial</li>\n",
    "</ol>"
   ]
  },
  {
   "cell_type": "markdown",
   "metadata": {},
   "source": [
    "A Predictor is said to satisfy fairness under Equal Opportunity iff the probability of getting a positive prediction is the same for all advantaged outcome members in a protected group. <br/><br/>\n",
    "<div align='center'>\n",
    "*** P($\\hat Y$ = 1 | A = a, Y = 1) is equal for ALL protected groups a. ***</div>\n"
   ]
  },
  {
   "cell_type": "markdown",
   "metadata": {},
   "source": [
    "<hr/>"
   ]
  },
  {
   "cell_type": "markdown",
   "metadata": {},
   "source": [
    "# Part 3 : Fixing a Discriminatory Predictor Through the Equal Opportunity Model"
   ]
  },
  {
   "cell_type": "markdown",
   "metadata": {},
   "source": [
    "## I. Understanding Performance Metrics"
   ]
  },
  {
   "cell_type": "markdown",
   "metadata": {},
   "source": [
    "Here we will introduce two more data sets on these TransRisk scores. \n",
    "<ol>\n",
    "<li><b>ProbGoodGivenRace </b>: P(good | race)\n",
    "    <ul>\n",
    "    <li> Represents the probability that an individual of a race is 'good' (non-defaulting)</li>\n",
    "    <li> <i>Note that the 'good' non-defaulters represent the advantaged outcome group defined in Part 2, for all 'good' individuals of a race,'Y = 1'</i></li>\n",
    "    </ul>\n",
    "</li><br/>\n",
    "<li><b>ProbLoanReceiverIsGood </b> : P(good | score >= x, race)\n",
    "    <ul>\n",
    "    <li> Represents the probability that an individual who has been granted a loan is actually 'good'</li>\n",
    "    <li><i>Remember that with a threshold score x, everyone with a score >= x is granted a loan.</i></li>\n",
    "    </ul>\n",
    "</li>\n",
    "</ol>\n",
    "\n",
    "Read them in and make sure you understand what the data represents before moving onto the next section."
   ]
  },
  {
   "cell_type": "code",
   "execution_count": 6,
   "metadata": {
    "collapsed": true
   },
   "outputs": [],
   "source": [
    "ProbGoodGivenRace = pd.read_csv(\"ProbGoodGivenRace.csv\")\n",
    "ProbLoanReceiverIsGood = (\n",
    "    pd.read_csv(\"ProbLoanReceiverIsGood.csv\")\n",
    "    .set_index(\"TransRisk Score\"))"
   ]
  },
  {
   "cell_type": "markdown",
   "metadata": {},
   "source": [
    "<hr/>"
   ]
  },
  {
   "cell_type": "markdown",
   "metadata": {},
   "source": [
    "<div align='center'>\n",
    "\n",
    "<h3> The General Multiplication Rule:</h3><br/>\n",
    "<b>Definition : </b> For any two events, we can say that\n",
    "<h4 > P(A and B) = P(A) * P(B | A)</h4><br/>\n",
    "<i>\"The probability that both A and B occur = the probability that A occurs multiplied by the probability that B occurs, given that A has occured.\"</i></div>"
   ]
  },
  {
   "cell_type": "markdown",
   "metadata": {},
   "source": [
    "<hr/>"
   ]
  },
  {
   "cell_type": "markdown",
   "metadata": {},
   "source": [
    "To work with the conditions introduced by the Equal Opporunity Model, we need to find<br/>\n",
    "<div align='center'>P($\\hat Y$ = 1 | A = a, Y = 1)</div><br/>\n",
    "For our case study, this would be the Probability that someone has received a loan, given their race and the fact that they are good. Also stated:<br/>\n",
    "<div align='center'>P(score >= x | race, good)</div><br/>\n",
    "Using your knowledge of the multiplication rule with all three data sets you have been given on TransRisk scores, create a DataFrame that shows this probability for each TransRisk score and demographic."
   ]
  },
  {
   "cell_type": "code",
   "execution_count": 7,
   "metadata": {
    "collapsed": true
   },
   "outputs": [],
   "source": [
    "white_s = (ProbOfGettingLoan[[\"white\"]] * ProbLoanReceiverIsGood[[\"white\"]]) / ProbGoodGivenRace[\"white\"][0]\n",
    "black_s = (ProbOfGettingLoan[[\"black\"]] * ProbLoanReceiverIsGood[[\"black\"]]) / ProbGoodGivenRace[\"black\"][0]\n",
    "asian_s = (ProbOfGettingLoan[[\"asian\"]] * ProbLoanReceiverIsGood[[\"asian\"]]) / ProbGoodGivenRace[\"asian\"][0]\n",
    "hispanic_s = (ProbOfGettingLoan[[\"hispanic\"]] * ProbLoanReceiverIsGood[[\"hispanic\"]]) / ProbGoodGivenRace[\"hispanic\"][0]"
   ]
  },
  {
   "cell_type": "code",
   "execution_count": 8,
   "metadata": {},
   "outputs": [
    {
     "data": {
      "text/html": [
       "<div>\n",
       "<style>\n",
       "    .dataframe thead tr:only-child th {\n",
       "        text-align: right;\n",
       "    }\n",
       "\n",
       "    .dataframe thead th {\n",
       "        text-align: left;\n",
       "    }\n",
       "\n",
       "    .dataframe tbody tr th {\n",
       "        vertical-align: top;\n",
       "    }\n",
       "</style>\n",
       "<table border=\"1\" class=\"dataframe\">\n",
       "  <thead>\n",
       "    <tr style=\"text-align: right;\">\n",
       "      <th></th>\n",
       "      <th>white</th>\n",
       "      <th>black</th>\n",
       "      <th>asian</th>\n",
       "      <th>hispanic</th>\n",
       "    </tr>\n",
       "    <tr>\n",
       "      <th>TransRisk Score</th>\n",
       "      <th></th>\n",
       "      <th></th>\n",
       "      <th></th>\n",
       "      <th></th>\n",
       "    </tr>\n",
       "  </thead>\n",
       "  <tbody>\n",
       "    <tr>\n",
       "      <th>0.0</th>\n",
       "      <td>1.000000</td>\n",
       "      <td>0.999998</td>\n",
       "      <td>1.000000</td>\n",
       "      <td>1.000000</td>\n",
       "    </tr>\n",
       "    <tr>\n",
       "      <th>0.5</th>\n",
       "      <td>1.000000</td>\n",
       "      <td>0.999998</td>\n",
       "      <td>1.000000</td>\n",
       "      <td>1.000000</td>\n",
       "    </tr>\n",
       "    <tr>\n",
       "      <th>1.0</th>\n",
       "      <td>1.000000</td>\n",
       "      <td>0.999838</td>\n",
       "      <td>1.000000</td>\n",
       "      <td>0.999827</td>\n",
       "    </tr>\n",
       "    <tr>\n",
       "      <th>1.5</th>\n",
       "      <td>0.999696</td>\n",
       "      <td>0.996967</td>\n",
       "      <td>0.999431</td>\n",
       "      <td>0.999472</td>\n",
       "    </tr>\n",
       "    <tr>\n",
       "      <th>2.0</th>\n",
       "      <td>0.999599</td>\n",
       "      <td>0.996298</td>\n",
       "      <td>0.999431</td>\n",
       "      <td>0.999472</td>\n",
       "    </tr>\n",
       "  </tbody>\n",
       "</table>\n",
       "</div>"
      ],
      "text/plain": [
       "                    white     black     asian  hispanic\n",
       "TransRisk Score                                        \n",
       "0.0              1.000000  0.999998  1.000000  1.000000\n",
       "0.5              1.000000  0.999998  1.000000  1.000000\n",
       "1.0              1.000000  0.999838  1.000000  0.999827\n",
       "1.5              0.999696  0.996967  0.999431  0.999472\n",
       "2.0              0.999599  0.996298  0.999431  0.999472"
      ]
     },
     "execution_count": 8,
     "metadata": {},
     "output_type": "execute_result"
    }
   ],
   "source": [
    "s = [white_s, black_s, asian_s, hispanic_s]\n",
    "sensitivities = pd.concat(s, axis= 1)\n",
    "sensitivities.head()"
   ]
  },
  {
   "cell_type": "markdown",
   "metadata": {},
   "source": [
    "## II. Minimizing Loss"
   ]
  },
  {
   "cell_type": "markdown",
   "metadata": {},
   "source": [
    "For supervised learning predictors, one way to detect errors is to calculate the difference between the actual output and the predictor's output. The function used to compute the error of a predictor is called a <b>Loss Function</b>. For our dataset, we calculate loss in a similar manner to how banks giving loans would. Specifically we want to make the <i><b>Precision = 0.82</b></i>.\n",
    "<h3 align='center'> Precision = P(Y = 1 | $\\hat Y$ = 1) == P(good | score >= x)</h3><br/>\n",
    "Here we provide another dataset that shows the percentage of each demographic in the total sample size, or rather P(race). Using this information and the multiplication rule, find the precision at every TransRisk threshold x. Then, plot the sensitivity (y axis) against the precision (x axis) to see what is happening to the sensitivities at precision=0.82."
   ]
  },
  {
   "cell_type": "code",
   "execution_count": 9,
   "metadata": {},
   "outputs": [
    {
     "data": {
      "text/html": [
       "<div>\n",
       "<style>\n",
       "    .dataframe thead tr:only-child th {\n",
       "        text-align: right;\n",
       "    }\n",
       "\n",
       "    .dataframe thead th {\n",
       "        text-align: left;\n",
       "    }\n",
       "\n",
       "    .dataframe tbody tr th {\n",
       "        vertical-align: top;\n",
       "    }\n",
       "</style>\n",
       "<table border=\"1\" class=\"dataframe\">\n",
       "  <thead>\n",
       "    <tr style=\"text-align: right;\">\n",
       "      <th></th>\n",
       "      <th>Sample Size</th>\n",
       "      <th>Percentage</th>\n",
       "    </tr>\n",
       "    <tr>\n",
       "      <th>Demographic</th>\n",
       "      <th></th>\n",
       "      <th></th>\n",
       "    </tr>\n",
       "  </thead>\n",
       "  <tbody>\n",
       "    <tr>\n",
       "      <th>white</th>\n",
       "      <td>133165</td>\n",
       "      <td>0.765109</td>\n",
       "    </tr>\n",
       "    <tr>\n",
       "      <th>black</th>\n",
       "      <td>18274</td>\n",
       "      <td>0.104995</td>\n",
       "    </tr>\n",
       "    <tr>\n",
       "      <th>hispanic</th>\n",
       "      <td>14702</td>\n",
       "      <td>0.084471</td>\n",
       "    </tr>\n",
       "    <tr>\n",
       "      <th>asian</th>\n",
       "      <td>7906</td>\n",
       "      <td>0.045425</td>\n",
       "    </tr>\n",
       "  </tbody>\n",
       "</table>\n",
       "</div>"
      ],
      "text/plain": [
       "             Sample Size  Percentage\n",
       "Demographic                         \n",
       "white             133165    0.765109\n",
       "black              18274    0.104995\n",
       "hispanic           14702    0.084471\n",
       "asian               7906    0.045425"
      ]
     },
     "execution_count": 9,
     "metadata": {},
     "output_type": "execute_result"
    }
   ],
   "source": [
    "# This represents P(race)\n",
    "ProbOfBeingRace = pd.read_csv(\"ProbOfBeingRace.csv\").set_index(\"Demographic\")\n",
    "ProbOfBeingRace"
   ]
  },
  {
   "cell_type": "code",
   "execution_count": 10,
   "metadata": {
    "collapsed": true
   },
   "outputs": [],
   "source": [
    "# Calculate precision\n",
    "asianPrecision = ProbLoanReceiverIsGood[\"asian\"] * ProbOfBeingRace.loc['asian'][\"Percentage\"]\n",
    "whitePrecision = ProbLoanReceiverIsGood[\"white\"] * ProbOfBeingRace.loc['white'][\"Percentage\"]\n",
    "blackPrecision = ProbLoanReceiverIsGood[\"black\"] * ProbOfBeingRace.loc['black'][\"Percentage\"]\n",
    "hispanicPrecision = ProbLoanReceiverIsGood[\"hispanic\"] * ProbOfBeingRace.loc['hispanic'][\"Percentage\"]\n",
    "totalPrecision = (asianPrecision + whitePrecision + blackPrecision + hispanicPrecision).fillna(value=1)"
   ]
  },
  {
   "cell_type": "code",
   "execution_count": 11,
   "metadata": {},
   "outputs": [
    {
     "data": {
      "text/plain": [
       "TransRisk Score\n",
       "0.0      0.696915\n",
       "0.5      0.696915\n",
       "1.0      0.698996\n",
       "1.5      0.706558\n",
       "2.0      0.708835\n",
       "2.5      0.711879\n",
       "3.0      0.714343\n",
       "3.5      0.718252\n",
       "4.0      0.721671\n",
       "4.5      0.725398\n",
       "5.0      0.726698\n",
       "5.5      0.732279\n",
       "6.0      0.736837\n",
       "6.5      0.741503\n",
       "7.0      0.744155\n",
       "7.5      0.748785\n",
       "8.0      0.750891\n",
       "8.5      0.754801\n",
       "9.0      0.756611\n",
       "9.5      0.759379\n",
       "10.0     0.761630\n",
       "10.5     0.764472\n",
       "11.0     0.766503\n",
       "11.5     0.770013\n",
       "12.0     0.772925\n",
       "12.5     0.778489\n",
       "13.0     0.781426\n",
       "13.5     0.785305\n",
       "14.0     0.788526\n",
       "14.5     0.794242\n",
       "           ...   \n",
       "85.0     0.982913\n",
       "85.5     0.982752\n",
       "86.0     0.982558\n",
       "86.5     0.982458\n",
       "87.0     0.982335\n",
       "87.5     0.982525\n",
       "88.0     0.982848\n",
       "88.5     0.982884\n",
       "89.0     0.983893\n",
       "89.5     0.984095\n",
       "90.0     0.984718\n",
       "90.5     0.984949\n",
       "91.0     0.985695\n",
       "91.5     0.985906\n",
       "92.0     0.985889\n",
       "93.0     0.986274\n",
       "93.5     0.985909\n",
       "94.0     0.985741\n",
       "94.5     0.986353\n",
       "95.0     0.988331\n",
       "95.5     0.988020\n",
       "96.0     0.988191\n",
       "96.5     0.988066\n",
       "97.0     0.987685\n",
       "97.5     0.988520\n",
       "98.0     0.988952\n",
       "98.5     0.992419\n",
       "99.0     0.995906\n",
       "99.5     1.000000\n",
       "100.0    1.000000\n",
       "Length: 198, dtype: float64"
      ]
     },
     "execution_count": 11,
     "metadata": {},
     "output_type": "execute_result"
    }
   ],
   "source": [
    "totalPrecision"
   ]
  },
  {
   "cell_type": "code",
   "execution_count": 93,
   "metadata": {},
   "outputs": [
    {
     "data": {
      "text/plain": [
       "<matplotlib.axes._subplots.AxesSubplot at 0x11a3a50b8>"
      ]
     },
     "execution_count": 93,
     "metadata": {},
     "output_type": "execute_result"
    },
    {
     "data": {
      "image/png": "[encoded data removed]",
      "text/plain": [
       "<matplotlib.figure.Figure at 0x11a3b23c8>"
      ]
     },
     "metadata": {},
     "output_type": "display_data"
    }
   ],
   "source": [
    "# plot precision against sensitivity\n",
    "sensitivities.plot.line(x=totalPrecision)"
   ]
  },
  {
   "cell_type": "markdown",
   "metadata": {},
   "source": [
    "*** What four sensitivity values are associated with a precision of 0.82? *** (put answer below)"
   ]
  },
  {
   "cell_type": "code",
   "execution_count": 16,
   "metadata": {},
   "outputs": [
    {
     "data": {
      "text/html": [
       "<div>\n",
       "<style>\n",
       "    .dataframe thead tr:only-child th {\n",
       "        text-align: right;\n",
       "    }\n",
       "\n",
       "    .dataframe thead th {\n",
       "        text-align: left;\n",
       "    }\n",
       "\n",
       "    .dataframe tbody tr th {\n",
       "        vertical-align: top;\n",
       "    }\n",
       "</style>\n",
       "<table border=\"1\" class=\"dataframe\">\n",
       "  <thead>\n",
       "    <tr style=\"text-align: right;\">\n",
       "      <th></th>\n",
       "      <th>white</th>\n",
       "      <th>black</th>\n",
       "      <th>asian</th>\n",
       "      <th>hispanic</th>\n",
       "      <th>Total Precision</th>\n",
       "    </tr>\n",
       "    <tr>\n",
       "      <th>TransRisk Score</th>\n",
       "      <th></th>\n",
       "      <th></th>\n",
       "      <th></th>\n",
       "      <th></th>\n",
       "      <th></th>\n",
       "    </tr>\n",
       "  </thead>\n",
       "  <tbody>\n",
       "    <tr>\n",
       "      <th>18.5</th>\n",
       "      <td>0.975304</td>\n",
       "      <td>0.908524</td>\n",
       "      <td>0.980886</td>\n",
       "      <td>0.952457</td>\n",
       "      <td>0.820645</td>\n",
       "    </tr>\n",
       "  </tbody>\n",
       "</table>\n",
       "</div>"
      ],
      "text/plain": [
       "                    white     black     asian  hispanic  Total Precision\n",
       "TransRisk Score                                                         \n",
       "18.5             0.975304  0.908524  0.980886  0.952457         0.820645"
      ]
     },
     "execution_count": 16,
     "metadata": {},
     "output_type": "execute_result"
    }
   ],
   "source": [
    "sensitivities[\"Total Precision\"] = totalPrecision\n",
    "closestPrecision = min(sensitivities[\"Total Precision\"], key=lambda x:abs(x-0.82))\n",
    "sensitivities[sensitivities[\"Total Precision\"] == closestPrecision]"
   ]
  },
  {
   "cell_type": "markdown",
   "metadata": {},
   "source": [
    "## III. Utilizing Sensitivity"
   ]
  },
  {
   "cell_type": "markdown",
   "metadata": {},
   "source": [
    "We finally have all of the peices to fix the discriminatory predictor using the Equal Opportunity Model. As you just learned in Section II, our desired loss directly leads to a precision of 0.82. Looking back at the requirements for Equal Opportunity, we can see it requires that P($\\hat Y$ = 1 | A = a, Y = 1) is equal for ALL protected groups a. This can also be stated that the <b>true positive rate</b> is equal for ALL protected groups a. Or even further, that the <b><i>Sensitivity</i></b> is equal for ALL protected groups a.<br/><br/>\n",
    "As we saw in the last section, at a precision of 0.82, there are four different sensitivity values. But to satisfy equal opportunity, we must choose one sensitivity for all demographics. We will choose the average value of the four sensitivity values you found in section II. <br/><br/>\n",
    "Using this average sensitivity value, now you simply need to find the scores associated with that value for each demographic. These scores represent the threshold that needs to be set for that particular demographic in order to satisfy 'fairness'. Start by plotting out the sensitivity (y axis) vs TransRisk scores (x axis) to visualize what you are doing. From there, record the final four threshold values needed to satisfy the Equal Opportunity Model."
   ]
  },
  {
   "cell_type": "code",
   "execution_count": 18,
   "metadata": {},
   "outputs": [],
   "source": [
    "sensGoal = (sensitivities[sensitivities[\"Total Precision\"] == closestPrecision]\n",
    "            [['white', 'black', 'asian', 'hispanic']].values.mean())"
   ]
  },
  {
   "cell_type": "code",
   "execution_count": 19,
   "metadata": {},
   "outputs": [
    {
     "data": {
      "text/plain": [
       "<matplotlib.axes._subplots.AxesSubplot at 0x113b6a710>"
      ]
     },
     "execution_count": 19,
     "metadata": {},
     "output_type": "execute_result"
    },
    {
     "data": {
      "image/png": "[encoded data removed]",
      "text/plain": [
       "<matplotlib.figure.Figure at 0x1140ad240>"
      ]
     },
     "metadata": {},
     "output_type": "display_data"
    }
   ],
   "source": [
    "### Plot your sensitivites here:\n",
    "\n",
    "sensitivities[['white', 'black', 'asian', 'hispanic']].plot.line()"
   ]
  },
  {
   "cell_type": "code",
   "execution_count": 10,
   "metadata": {},
   "outputs": [
    {
     "data": {
      "text/plain": [
       "<matplotlib.axes._subplots.AxesSubplot at 0x119350ba8>"
      ]
     },
     "execution_count": 10,
     "metadata": {},
     "output_type": "execute_result"
    },
    {
     "data": {
      "image/png": "[encoded data removed]",
      "text/plain": [
       "<matplotlib.figure.Figure at 0x1192f22e8>"
      ]
     },
     "metadata": {},
     "output_type": "display_data"
    }
   ],
   "source": [
    "## For reference for the meeting on Wed, here is the actual solution with correct sensitivity, I think these are \n",
    "## almost equal\n",
    "FinalSolution = pd.read_csv(\"FinalSolution.csv\").set_index(\"Score\")\n",
    "FinalSolution.plot.line()"
   ]
  },
  {
   "cell_type": "code",
   "execution_count": 11,
   "metadata": {
    "collapsed": true
   },
   "outputs": [],
   "source": [
    "## Calculate your final answers here:"
   ]
  },
  {
   "cell_type": "code",
   "execution_count": 20,
   "metadata": {},
   "outputs": [
    {
     "data": {
      "text/html": [
       "<div>\n",
       "<style>\n",
       "    .dataframe thead tr:only-child th {\n",
       "        text-align: right;\n",
       "    }\n",
       "\n",
       "    .dataframe thead th {\n",
       "        text-align: left;\n",
       "    }\n",
       "\n",
       "    .dataframe tbody tr th {\n",
       "        vertical-align: top;\n",
       "    }\n",
       "</style>\n",
       "<table border=\"1\" class=\"dataframe\">\n",
       "  <thead>\n",
       "    <tr style=\"text-align: right;\">\n",
       "      <th></th>\n",
       "      <th>white</th>\n",
       "    </tr>\n",
       "    <tr>\n",
       "      <th>TransRisk Score</th>\n",
       "      <th></th>\n",
       "    </tr>\n",
       "  </thead>\n",
       "  <tbody>\n",
       "    <tr>\n",
       "      <th>24.5</th>\n",
       "      <td>0.953754</td>\n",
       "    </tr>\n",
       "  </tbody>\n",
       "</table>\n",
       "</div>"
      ],
      "text/plain": [
       "                    white\n",
       "TransRisk Score          \n",
       "24.5             0.953754"
      ]
     },
     "execution_count": 20,
     "metadata": {},
     "output_type": "execute_result"
    }
   ],
   "source": [
    "closestSensitivity = min(sensitivities[\"white\"], key=lambda x:abs(x-sensGoal))\n",
    "sensitivities[sensitivities[\"white\"] == closestSensitivity][['white']]"
   ]
  },
  {
   "cell_type": "code",
   "execution_count": 21,
   "metadata": {},
   "outputs": [
    {
     "data": {
      "text/html": [
       "<div>\n",
       "<style>\n",
       "    .dataframe thead tr:only-child th {\n",
       "        text-align: right;\n",
       "    }\n",
       "\n",
       "    .dataframe thead th {\n",
       "        text-align: left;\n",
       "    }\n",
       "\n",
       "    .dataframe tbody tr th {\n",
       "        vertical-align: top;\n",
       "    }\n",
       "</style>\n",
       "<table border=\"1\" class=\"dataframe\">\n",
       "  <thead>\n",
       "    <tr style=\"text-align: right;\">\n",
       "      <th></th>\n",
       "      <th>black</th>\n",
       "    </tr>\n",
       "    <tr>\n",
       "      <th>TransRisk Score</th>\n",
       "      <th></th>\n",
       "    </tr>\n",
       "  </thead>\n",
       "  <tbody>\n",
       "    <tr>\n",
       "      <th>13.0</th>\n",
       "      <td>0.95477</td>\n",
       "    </tr>\n",
       "  </tbody>\n",
       "</table>\n",
       "</div>"
      ],
      "text/plain": [
       "                   black\n",
       "TransRisk Score         \n",
       "13.0             0.95477"
      ]
     },
     "execution_count": 21,
     "metadata": {},
     "output_type": "execute_result"
    }
   ],
   "source": [
    "closestSensitivity = min(sensitivities[\"black\"], key=lambda x:abs(x-sensGoal))\n",
    "sensitivities[sensitivities[\"black\"] == closestSensitivity][['black']]"
   ]
  },
  {
   "cell_type": "code",
   "execution_count": 22,
   "metadata": {},
   "outputs": [
    {
     "data": {
      "text/html": [
       "<div>\n",
       "<style>\n",
       "    .dataframe thead tr:only-child th {\n",
       "        text-align: right;\n",
       "    }\n",
       "\n",
       "    .dataframe thead th {\n",
       "        text-align: left;\n",
       "    }\n",
       "\n",
       "    .dataframe tbody tr th {\n",
       "        vertical-align: top;\n",
       "    }\n",
       "</style>\n",
       "<table border=\"1\" class=\"dataframe\">\n",
       "  <thead>\n",
       "    <tr style=\"text-align: right;\">\n",
       "      <th></th>\n",
       "      <th>hispanic</th>\n",
       "    </tr>\n",
       "    <tr>\n",
       "      <th>TransRisk Score</th>\n",
       "      <th></th>\n",
       "    </tr>\n",
       "  </thead>\n",
       "  <tbody>\n",
       "    <tr>\n",
       "      <th>18.0</th>\n",
       "      <td>0.955125</td>\n",
       "    </tr>\n",
       "  </tbody>\n",
       "</table>\n",
       "</div>"
      ],
      "text/plain": [
       "                 hispanic\n",
       "TransRisk Score          \n",
       "18.0             0.955125"
      ]
     },
     "execution_count": 22,
     "metadata": {},
     "output_type": "execute_result"
    }
   ],
   "source": [
    "closestSensitivity = min(sensitivities[\"hispanic\"], key=lambda x:abs(x-sensGoal))\n",
    "sensitivities[sensitivities[\"hispanic\"] == closestSensitivity][['hispanic']]"
   ]
  },
  {
   "cell_type": "code",
   "execution_count": 23,
   "metadata": {},
   "outputs": [
    {
     "data": {
      "text/html": [
       "<div>\n",
       "<style>\n",
       "    .dataframe thead tr:only-child th {\n",
       "        text-align: right;\n",
       "    }\n",
       "\n",
       "    .dataframe thead th {\n",
       "        text-align: left;\n",
       "    }\n",
       "\n",
       "    .dataframe tbody tr th {\n",
       "        vertical-align: top;\n",
       "    }\n",
       "</style>\n",
       "<table border=\"1\" class=\"dataframe\">\n",
       "  <thead>\n",
       "    <tr style=\"text-align: right;\">\n",
       "      <th></th>\n",
       "      <th>asian</th>\n",
       "    </tr>\n",
       "    <tr>\n",
       "      <th>TransRisk Score</th>\n",
       "      <th></th>\n",
       "    </tr>\n",
       "  </thead>\n",
       "  <tbody>\n",
       "    <tr>\n",
       "      <th>25.5</th>\n",
       "      <td>0.954692</td>\n",
       "    </tr>\n",
       "  </tbody>\n",
       "</table>\n",
       "</div>"
      ],
      "text/plain": [
       "                    asian\n",
       "TransRisk Score          \n",
       "25.5             0.954692"
      ]
     },
     "execution_count": 23,
     "metadata": {},
     "output_type": "execute_result"
    }
   ],
   "source": [
    "closestSensitivity = min(sensitivities[\"asian\"], key=lambda x:abs(x-sensGoal))\n",
    "sensitivities[sensitivities[\"asian\"] == closestSensitivity][['asian']]"
   ]
  },
  {
   "cell_type": "markdown",
   "metadata": {},
   "source": [
    "<hr/>"
   ]
  },
  {
   "cell_type": "markdown",
   "metadata": {},
   "source": [
    "# Results & Conclusions"
   ]
  },
  {
   "cell_type": "markdown",
   "metadata": {
    "collapsed": true
   },
   "source": [
    "<i><h4>Congratulations!</h4></i><br/> You have successfully taken a discriminatory predictor and utilized a machine learning fairness model to make it into a 'fair' predictor. \n",
    "<ul>\n",
    "<li> Through visualizing the probability of a beneficial outcome, it was quite clear that the data involved in creating the supervised learning predictors for loan approval from TransRisk scores was inherently discriminatory.</li>\n",
    "<li> The Equal Opportunity Model provided a clear requirement to ensure fairness. As we learned later, this meant that the sensitivity (the true positive rate) of the predictor had to be the same for all races.</li>\n",
    "<li> Using loss minimization, you were able to use precision to find the single sensitivity that provided the least amount of loss.</li>\n",
    "<li> Finally, you discovered four new threshold values to be used; one for each demographic.</li>\n",
    "</ul>\n",
    "<br/><br/>\n",
    "\n",
    "<div align='center'><i>What other commonly found predictors do you think might be inherently discriminatory?</i></div>\n",
    "<br/><br/>"
   ]
  },
  {
   "cell_type": "markdown",
   "metadata": {},
   "source": [
    "TransRisk data and non-discriminatory analysis courtesy of https://arxiv.org/pdf/1610.02413.pdf"
   ]
  }
 ],
 "metadata": {
  "kernelspec": {
   "display_name": "Python 3",
   "language": "python",
   "name": "python3"
  },
  "language_info": {
   "codemirror_mode": {
    "name": "ipython",
    "version": 3
   },
   "file_extension": ".py",
   "mimetype": "text/x-python",
   "name": "python",
   "nbconvert_exporter": "python",
   "pygments_lexer": "ipython3",
   "version": "3.6.1"
  }
 },
 "nbformat": 4,
 "nbformat_minor": 2
}
