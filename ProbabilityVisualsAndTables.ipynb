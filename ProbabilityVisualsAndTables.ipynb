{
 "cells": [
  {
   "cell_type": "code",
   "execution_count": 1,
   "metadata": {
    "collapsed": true
   },
   "outputs": [],
   "source": [
    "import pandas as pd"
   ]
  },
  {
   "cell_type": "markdown",
   "metadata": {},
   "source": [
    "![Probabilities](ethicalmldiagram.png)"
   ]
  },
  {
   "cell_type": "markdown",
   "metadata": {},
   "source": [
    "# P(race) (this would be given)"
   ]
  },
  {
   "cell_type": "code",
   "execution_count": 2,
   "metadata": {},
   "outputs": [
    {
     "data": {
      "text/html": [
       "<div>\n",
       "<style>\n",
       "    .dataframe thead tr:only-child th {\n",
       "        text-align: right;\n",
       "    }\n",
       "\n",
       "    .dataframe thead th {\n",
       "        text-align: left;\n",
       "    }\n",
       "\n",
       "    .dataframe tbody tr th {\n",
       "        vertical-align: top;\n",
       "    }\n",
       "</style>\n",
       "<table border=\"1\" class=\"dataframe\">\n",
       "  <thead>\n",
       "    <tr style=\"text-align: right;\">\n",
       "      <th></th>\n",
       "      <th>Demographic</th>\n",
       "      <th>Percentage</th>\n",
       "    </tr>\n",
       "  </thead>\n",
       "  <tbody>\n",
       "    <tr>\n",
       "      <th>0</th>\n",
       "      <td>white</td>\n",
       "      <td>0.765109</td>\n",
       "    </tr>\n",
       "    <tr>\n",
       "      <th>1</th>\n",
       "      <td>black</td>\n",
       "      <td>0.104995</td>\n",
       "    </tr>\n",
       "    <tr>\n",
       "      <th>2</th>\n",
       "      <td>hispanic</td>\n",
       "      <td>0.084471</td>\n",
       "    </tr>\n",
       "    <tr>\n",
       "      <th>3</th>\n",
       "      <td>asian</td>\n",
       "      <td>0.045425</td>\n",
       "    </tr>\n",
       "  </tbody>\n",
       "</table>\n",
       "</div>"
      ],
      "text/plain": [
       "  Demographic  Percentage\n",
       "0       white    0.765109\n",
       "1       black    0.104995\n",
       "2    hispanic    0.084471\n",
       "3       asian    0.045425"
      ]
     },
     "execution_count": 2,
     "metadata": {},
     "output_type": "execute_result"
    }
   ],
   "source": [
    "ProbRace = pd.read_csv('ProbRace.csv')[['Demographic','Percentage']]\n",
    "ProbRace.head()"
   ]
  },
  {
   "cell_type": "code",
   "execution_count": null,
   "metadata": {
    "collapsed": true
   },
   "outputs": [],
   "source": []
  },
  {
   "cell_type": "markdown",
   "metadata": {},
   "source": [
    "# P(good | race)  (this would be given, it is the pi values)"
   ]
  },
  {
   "cell_type": "code",
   "execution_count": 3,
   "metadata": {},
   "outputs": [
    {
     "data": {
      "text/html": [
       "<div>\n",
       "<style>\n",
       "    .dataframe thead tr:only-child th {\n",
       "        text-align: right;\n",
       "    }\n",
       "\n",
       "    .dataframe thead th {\n",
       "        text-align: left;\n",
       "    }\n",
       "\n",
       "    .dataframe tbody tr th {\n",
       "        vertical-align: top;\n",
       "    }\n",
       "</style>\n",
       "<table border=\"1\" class=\"dataframe\">\n",
       "  <thead>\n",
       "    <tr style=\"text-align: right;\">\n",
       "      <th></th>\n",
       "      <th>white</th>\n",
       "      <th>black</th>\n",
       "      <th>hispanic</th>\n",
       "      <th>asian</th>\n",
       "    </tr>\n",
       "  </thead>\n",
       "  <tbody>\n",
       "    <tr>\n",
       "      <th>0</th>\n",
       "      <td>0.759185</td>\n",
       "      <td>0.315164</td>\n",
       "      <td>0.550595</td>\n",
       "      <td>0.80066</td>\n",
       "    </tr>\n",
       "  </tbody>\n",
       "</table>\n",
       "</div>"
      ],
      "text/plain": [
       "      white     black  hispanic    asian\n",
       "0  0.759185  0.315164  0.550595  0.80066"
      ]
     },
     "execution_count": 3,
     "metadata": {},
     "output_type": "execute_result"
    }
   ],
   "source": [
    "ProbGoodGivenRace = pd.read_csv(\"ProbGoodGivenRace.csv\")\n",
    "ProbGoodGivenRace"
   ]
  },
  {
   "cell_type": "code",
   "execution_count": null,
   "metadata": {
    "collapsed": true
   },
   "outputs": [],
   "source": []
  },
  {
   "cell_type": "markdown",
   "metadata": {},
   "source": [
    "# P(score>=x | good, race) (this they would calculate)"
   ]
  },
  {
   "cell_type": "code",
   "execution_count": 4,
   "metadata": {},
   "outputs": [
    {
     "data": {
      "text/html": [
       "<div>\n",
       "<style>\n",
       "    .dataframe thead tr:only-child th {\n",
       "        text-align: right;\n",
       "    }\n",
       "\n",
       "    .dataframe thead th {\n",
       "        text-align: left;\n",
       "    }\n",
       "\n",
       "    .dataframe tbody tr th {\n",
       "        vertical-align: top;\n",
       "    }\n",
       "</style>\n",
       "<table border=\"1\" class=\"dataframe\">\n",
       "  <thead>\n",
       "    <tr style=\"text-align: right;\">\n",
       "      <th></th>\n",
       "      <th>asian</th>\n",
       "      <th>black</th>\n",
       "      <th>hispanic</th>\n",
       "      <th>white</th>\n",
       "    </tr>\n",
       "    <tr>\n",
       "      <th>TransRisk Score</th>\n",
       "      <th></th>\n",
       "      <th></th>\n",
       "      <th></th>\n",
       "      <th></th>\n",
       "    </tr>\n",
       "  </thead>\n",
       "  <tbody>\n",
       "    <tr>\n",
       "      <th>0.0</th>\n",
       "      <td>0.000000</td>\n",
       "      <td>0.000000</td>\n",
       "      <td>0.000000</td>\n",
       "      <td>0.000000</td>\n",
       "    </tr>\n",
       "    <tr>\n",
       "      <th>0.5</th>\n",
       "      <td>0.000000</td>\n",
       "      <td>0.000161</td>\n",
       "      <td>0.000172</td>\n",
       "      <td>0.000000</td>\n",
       "    </tr>\n",
       "    <tr>\n",
       "      <th>1.0</th>\n",
       "      <td>0.000568</td>\n",
       "      <td>0.003032</td>\n",
       "      <td>0.000527</td>\n",
       "      <td>0.000304</td>\n",
       "    </tr>\n",
       "    <tr>\n",
       "      <th>1.5</th>\n",
       "      <td>0.000568</td>\n",
       "      <td>0.003701</td>\n",
       "      <td>0.000527</td>\n",
       "      <td>0.000401</td>\n",
       "    </tr>\n",
       "    <tr>\n",
       "      <th>2.0</th>\n",
       "      <td>0.000895</td>\n",
       "      <td>0.004625</td>\n",
       "      <td>0.000874</td>\n",
       "      <td>0.000606</td>\n",
       "    </tr>\n",
       "  </tbody>\n",
       "</table>\n",
       "</div>"
      ],
      "text/plain": [
       "                    asian     black  hispanic     white\n",
       "TransRisk Score                                        \n",
       "0.0              0.000000  0.000000  0.000000  0.000000\n",
       "0.5              0.000000  0.000161  0.000172  0.000000\n",
       "1.0              0.000568  0.003032  0.000527  0.000304\n",
       "1.5              0.000568  0.003701  0.000527  0.000401\n",
       "2.0              0.000895  0.004625  0.000874  0.000606"
      ]
     },
     "execution_count": 4,
     "metadata": {},
     "output_type": "execute_result"
    }
   ],
   "source": [
    "ProbScoreGreaterThanXGivenGoodAndRace = pd.read_csv('ProbScoreGreaterThanXGivenGoodAndRace.csv').set_index('TransRisk Score')\n",
    "ProbScoreGreaterThanXGivenGoodAndRace.head()"
   ]
  },
  {
   "cell_type": "markdown",
   "metadata": {},
   "source": [
    "<hr/>"
   ]
  },
  {
   "cell_type": "markdown",
   "metadata": {},
   "source": [
    "# How they will calculate P(score>=x | good, race) for tutorial"
   ]
  },
  {
   "cell_type": "markdown",
   "metadata": {},
   "source": [
    "<h2 align='center'>First: find P(score = x | good, race)</h2>\n",
    "### P(score=x | good, race) = P(score=x & good & race) / P(good and race)\n",
    "<hr/>\n",
    "### Step 1:\n",
    "### P(score=x & good & race ) = P(race & score=x) * P(good | race, score=x)\n",
    "###  P(score=x & good & race ) = P(race) * P(score=x | race) * P(good | race, score=x)\n",
    "<hr/>\n",
    "### Step 2:\n",
    "### P(good and race) = P(race) * P(good | race)\n",
    "<hr/>\n",
    "### Step 3:\n",
    "### Step 1 / Step2\n",
    "### P(score=x | good, race) = P(score=x & good & race) / P(good and race)\n",
    "<hr/>"
   ]
  },
  {
   "cell_type": "markdown",
   "metadata": {},
   "source": [
    "## What they will be given\n",
    "\n",
    "** ProbGoodGivenRaceAndScoreEqualsX : P(good | race, score=x) **\n",
    "- This was from figure 7A\n",
    "\n",
    "** ProbRace : P(race) **\n",
    "- this was given above\n",
    "- it is from the percentage of people in the demographic sample size\n",
    "\n",
    "** ProbScoreEqualsXGivenRace : P(score=x | race) **\n",
    "- This was from figure 3A\n",
    "\n",
    "** ProbGoodGivenRace : P(good | race) **\n",
    "- this was given above\n",
    "- it represents the calculated pi values"
   ]
  },
  {
   "cell_type": "code",
   "execution_count": 5,
   "metadata": {},
   "outputs": [],
   "source": [
    "ProbGoodGivenRaceAndScoreEqualsX = pd.read_csv('ProbGoodGivenRaceAndScoreEqualsX.csv').set_index('TransRisk Score')\n",
    "ProbScoreEqualsXGivenRace = pd.read_csv('ProbScoreEqualsXGivenRace.csv').set_index('TransRisk Score')"
   ]
  },
  {
   "cell_type": "markdown",
   "metadata": {},
   "source": [
    "### Step 1:"
   ]
  },
  {
   "cell_type": "code",
   "execution_count": 6,
   "metadata": {},
   "outputs": [],
   "source": [
    "ProbRace.set_index('Demographic', inplace=True)"
   ]
  },
  {
   "cell_type": "code",
   "execution_count": 7,
   "metadata": {},
   "outputs": [],
   "source": [
    "ProbRaceAndScoreEqualsX = pd.DataFrame({\n",
    "    'white': ProbRace.Percentage['white'] * ProbScoreEqualsXGivenRace['white'],\n",
    "    'asian': ProbRace.Percentage['asian'] * ProbScoreEqualsXGivenRace['asian'],\n",
    "    'black': ProbRace.Percentage['black'] * ProbScoreEqualsXGivenRace['black'],\n",
    "    'hispanic': ProbRace.Percentage['hispanic'] * ProbScoreEqualsXGivenRace['hispanic'],\n",
    "})\n",
    "\n",
    "ProbScoreEqualsXAndGoodAndRace = (\n",
    "    ProbRaceAndScoreEqualsX * ProbGoodGivenRaceAndScoreEqualsX)"
   ]
  },
  {
   "cell_type": "markdown",
   "metadata": {},
   "source": [
    "### Step 2:"
   ]
  },
  {
   "cell_type": "code",
   "execution_count": 8,
   "metadata": {
    "collapsed": true
   },
   "outputs": [],
   "source": [
    "ProbGoodAndRace = pd.DataFrame({\n",
    "    'white': ProbRace.Percentage['white'] * ProbGoodGivenRace['white'],\n",
    "    'asian': ProbRace.Percentage['asian'] * ProbGoodGivenRace['asian'],\n",
    "    'black': ProbRace.Percentage['black'] * ProbGoodGivenRace['black'],\n",
    "    'hispanic': ProbRace.Percentage['hispanic'] * ProbGoodGivenRace['hispanic'],\n",
    "})"
   ]
  },
  {
   "cell_type": "markdown",
   "metadata": {},
   "source": [
    "### Step 3:"
   ]
  },
  {
   "cell_type": "code",
   "execution_count": 9,
   "metadata": {
    "collapsed": true
   },
   "outputs": [],
   "source": [
    "ProbScoreEqualsXGivenGoodAndRace = pd.DataFrame({\n",
    "    'white': ProbScoreEqualsXAndGoodAndRace['white'] / ProbGoodAndRace['white'].values[0],\n",
    "    'asian': ProbScoreEqualsXAndGoodAndRace['asian'] / ProbGoodAndRace['asian'].values[0],\n",
    "    'black': ProbScoreEqualsXAndGoodAndRace['black'] / ProbGoodAndRace['black'].values[0],\n",
    "    'hispanic': ProbScoreEqualsXAndGoodAndRace ['hispanic'] / ProbGoodAndRace['hispanic'].values[0],\n",
    "})\n"
   ]
  },
  {
   "cell_type": "markdown",
   "metadata": {},
   "source": [
    "<h2 align='center'>Second: Use P(score=x | good, race) to find the P(score>=x | good, race)</h2>"
   ]
  },
  {
   "cell_type": "markdown",
   "metadata": {},
   "source": [
    "##  P(score>=x | good, race) = P(score = x | good, race).cumsum()"
   ]
  },
  {
   "cell_type": "code",
   "execution_count": 10,
   "metadata": {},
   "outputs": [
    {
     "data": {
      "text/html": [
       "<div>\n",
       "<style>\n",
       "    .dataframe thead tr:only-child th {\n",
       "        text-align: right;\n",
       "    }\n",
       "\n",
       "    .dataframe thead th {\n",
       "        text-align: left;\n",
       "    }\n",
       "\n",
       "    .dataframe tbody tr th {\n",
       "        vertical-align: top;\n",
       "    }\n",
       "</style>\n",
       "<table border=\"1\" class=\"dataframe\">\n",
       "  <thead>\n",
       "    <tr style=\"text-align: right;\">\n",
       "      <th></th>\n",
       "      <th>asian</th>\n",
       "      <th>black</th>\n",
       "      <th>hispanic</th>\n",
       "      <th>white</th>\n",
       "    </tr>\n",
       "    <tr>\n",
       "      <th>TransRisk Score</th>\n",
       "      <th></th>\n",
       "      <th></th>\n",
       "      <th></th>\n",
       "      <th></th>\n",
       "    </tr>\n",
       "  </thead>\n",
       "  <tbody>\n",
       "    <tr>\n",
       "      <th>0.0</th>\n",
       "      <td>0.000000</td>\n",
       "      <td>0.000000</td>\n",
       "      <td>0.000000</td>\n",
       "      <td>0.000000</td>\n",
       "    </tr>\n",
       "    <tr>\n",
       "      <th>0.5</th>\n",
       "      <td>0.000000</td>\n",
       "      <td>0.000161</td>\n",
       "      <td>0.000172</td>\n",
       "      <td>0.000000</td>\n",
       "    </tr>\n",
       "    <tr>\n",
       "      <th>1.0</th>\n",
       "      <td>0.000568</td>\n",
       "      <td>0.003032</td>\n",
       "      <td>0.000527</td>\n",
       "      <td>0.000304</td>\n",
       "    </tr>\n",
       "    <tr>\n",
       "      <th>1.5</th>\n",
       "      <td>0.000568</td>\n",
       "      <td>0.003701</td>\n",
       "      <td>0.000527</td>\n",
       "      <td>0.000401</td>\n",
       "    </tr>\n",
       "    <tr>\n",
       "      <th>2.0</th>\n",
       "      <td>0.000895</td>\n",
       "      <td>0.004625</td>\n",
       "      <td>0.000874</td>\n",
       "      <td>0.000606</td>\n",
       "    </tr>\n",
       "  </tbody>\n",
       "</table>\n",
       "</div>"
      ],
      "text/plain": [
       "                    asian     black  hispanic     white\n",
       "TransRisk Score                                        \n",
       "0.0              0.000000  0.000000  0.000000  0.000000\n",
       "0.5              0.000000  0.000161  0.000172  0.000000\n",
       "1.0              0.000568  0.003032  0.000527  0.000304\n",
       "1.5              0.000568  0.003701  0.000527  0.000401\n",
       "2.0              0.000895  0.004625  0.000874  0.000606"
      ]
     },
     "execution_count": 10,
     "metadata": {},
     "output_type": "execute_result"
    }
   ],
   "source": [
    "ProbScoreEqualsXGivenGoodAndRace.cumsum().head()"
   ]
  },
  {
   "cell_type": "code",
   "execution_count": 11,
   "metadata": {
    "collapsed": true
   },
   "outputs": [],
   "source": [
    "# Might actually need to do this to obtain the correct dataframe\n",
    "# (so 1.0 is at score = 0.0, not at score = 100.0)\n",
    "#ProbScoreEqualsXGivenGoodAndRace.iloc[::-1].cumsum()[::-1]"
   ]
  },
  {
   "cell_type": "code",
   "execution_count": null,
   "metadata": {
    "collapsed": true
   },
   "outputs": [],
   "source": []
  },
  {
   "cell_type": "code",
   "execution_count": null,
   "metadata": {
    "collapsed": true
   },
   "outputs": [],
   "source": []
  },
  {
   "cell_type": "markdown",
   "metadata": {},
   "source": [
    "# Calulating Precision (not sure if this is the way we want to do it)\n",
    "\n",
    "<h3>What I'm working with:</h3>\n",
    "\n",
    "** ProbScoreGreaterThanXGivenRace : P(score>=x | race) **\n",
    "- obtained from cumsumming figure 3A\n",
    "\n",
    "** ProbGoodGivenRaceAndScoreGreaterX : P(good | race, score>=x) **\n",
    "- calculated in the scraping the data, this is what we used to think sensitivity was a few weeks ago"
   ]
  },
  {
   "cell_type": "markdown",
   "metadata": {},
   "source": [
    "<h3 align='center'>Step 1: Find P(race and score>=x and good) - will use this to find the numerator</h3>\n",
    "\n",
    "### P(race and score>=x and good) =  P(race and score>=x) * P(good | race & score>=x)\n",
    "### P(race and score>=x) = P(race) * P(score>=x | race)"
   ]
  },
  {
   "cell_type": "code",
   "execution_count": 12,
   "metadata": {},
   "outputs": [],
   "source": [
    "ProbScoreGreaterThanXGivenRace = (\n",
    "    pd.read_csv('ProbScoreGreaterThanXGivenRace.csv')\n",
    "    .set_index('TransRisk Score'))\n",
    "\n",
    "ProbGoodGivenRaceAndScoreGreaterX = (\n",
    "    pd.read_csv('ProbGoodGivenRaceAndScoreGreaterX.csv'))"
   ]
  },
  {
   "cell_type": "code",
   "execution_count": 13,
   "metadata": {},
   "outputs": [],
   "source": [
    "ProbRaceAndScoreGreaterX = pd.DataFrame({\n",
    "    'white': ProbRace.Percentage['white'] * ProbScoreGreaterThanXGivenRace['white'],\n",
    "    'asian': ProbRace.Percentage['asian'] * ProbScoreGreaterThanXGivenRace['asian'],\n",
    "    'black': ProbRace.Percentage['black'] * ProbScoreGreaterThanXGivenRace['black'],\n",
    "    'hispanic': ProbRace.Percentage['hispanic'] * ProbScoreGreaterThanXGivenRace['hispanic'],\n",
    "})\n",
    "ProbRaceAndScoreGreaterXAndGood = (\n",
    "    ProbGoodGivenRaceAndScoreGreaterX.set_index('TransRisk Score') * \n",
    "    ProbRaceAndScoreGreaterX).fillna(value=0)"
   ]
  },
  {
   "cell_type": "code",
   "execution_count": 14,
   "metadata": {},
   "outputs": [
    {
     "data": {
      "text/html": [
       "<div>\n",
       "<style>\n",
       "    .dataframe thead tr:only-child th {\n",
       "        text-align: right;\n",
       "    }\n",
       "\n",
       "    .dataframe thead th {\n",
       "        text-align: left;\n",
       "    }\n",
       "\n",
       "    .dataframe tbody tr th {\n",
       "        vertical-align: top;\n",
       "    }\n",
       "</style>\n",
       "<table border=\"1\" class=\"dataframe\">\n",
       "  <thead>\n",
       "    <tr style=\"text-align: right;\">\n",
       "      <th></th>\n",
       "      <th>asian</th>\n",
       "      <th>black</th>\n",
       "      <th>hispanic</th>\n",
       "      <th>white</th>\n",
       "    </tr>\n",
       "    <tr>\n",
       "      <th>TransRisk Score</th>\n",
       "      <th></th>\n",
       "      <th></th>\n",
       "      <th></th>\n",
       "      <th></th>\n",
       "    </tr>\n",
       "  </thead>\n",
       "  <tbody>\n",
       "    <tr>\n",
       "      <th>0.0</th>\n",
       "      <td>0.036370</td>\n",
       "      <td>0.033090</td>\n",
       "      <td>0.046510</td>\n",
       "      <td>0.580860</td>\n",
       "    </tr>\n",
       "    <tr>\n",
       "      <th>0.5</th>\n",
       "      <td>0.036370</td>\n",
       "      <td>0.033090</td>\n",
       "      <td>0.046510</td>\n",
       "      <td>0.580860</td>\n",
       "    </tr>\n",
       "    <tr>\n",
       "      <th>1.0</th>\n",
       "      <td>0.036370</td>\n",
       "      <td>0.033085</td>\n",
       "      <td>0.046502</td>\n",
       "      <td>0.580860</td>\n",
       "    </tr>\n",
       "    <tr>\n",
       "      <th>1.5</th>\n",
       "      <td>0.036349</td>\n",
       "      <td>0.032990</td>\n",
       "      <td>0.046485</td>\n",
       "      <td>0.580683</td>\n",
       "    </tr>\n",
       "    <tr>\n",
       "      <th>2.0</th>\n",
       "      <td>0.036349</td>\n",
       "      <td>0.032968</td>\n",
       "      <td>0.046485</td>\n",
       "      <td>0.580627</td>\n",
       "    </tr>\n",
       "  </tbody>\n",
       "</table>\n",
       "</div>"
      ],
      "text/plain": [
       "                    asian     black  hispanic     white\n",
       "TransRisk Score                                        \n",
       "0.0              0.036370  0.033090  0.046510  0.580860\n",
       "0.5              0.036370  0.033090  0.046510  0.580860\n",
       "1.0              0.036370  0.033085  0.046502  0.580860\n",
       "1.5              0.036349  0.032990  0.046485  0.580683\n",
       "2.0              0.036349  0.032968  0.046485  0.580627"
      ]
     },
     "execution_count": 14,
     "metadata": {},
     "output_type": "execute_result"
    }
   ],
   "source": [
    "ProbRaceAndScoreGreaterXAndGood.head()"
   ]
  },
  {
   "cell_type": "markdown",
   "metadata": {},
   "source": [
    "<h3 align='center'>Step 2: Sum up all the demographics from P(score>=x and race) to get P(score>=x)</h3>\n",
    "- this will be our denominator"
   ]
  },
  {
   "cell_type": "code",
   "execution_count": 15,
   "metadata": {},
   "outputs": [
    {
     "data": {
      "text/html": [
       "<div>\n",
       "<style>\n",
       "    .dataframe thead tr:only-child th {\n",
       "        text-align: right;\n",
       "    }\n",
       "\n",
       "    .dataframe thead th {\n",
       "        text-align: left;\n",
       "    }\n",
       "\n",
       "    .dataframe tbody tr th {\n",
       "        vertical-align: top;\n",
       "    }\n",
       "</style>\n",
       "<table border=\"1\" class=\"dataframe\">\n",
       "  <thead>\n",
       "    <tr style=\"text-align: right;\">\n",
       "      <th></th>\n",
       "      <th>P(score&gt;=x)</th>\n",
       "    </tr>\n",
       "    <tr>\n",
       "      <th>TransRisk Score</th>\n",
       "      <th></th>\n",
       "    </tr>\n",
       "  </thead>\n",
       "  <tbody>\n",
       "    <tr>\n",
       "      <th>0.0</th>\n",
       "      <td>0.999842</td>\n",
       "    </tr>\n",
       "    <tr>\n",
       "      <th>0.5</th>\n",
       "      <td>0.999842</td>\n",
       "    </tr>\n",
       "    <tr>\n",
       "      <th>1.0</th>\n",
       "      <td>0.996305</td>\n",
       "    </tr>\n",
       "    <tr>\n",
       "      <th>1.5</th>\n",
       "      <td>0.983254</td>\n",
       "    </tr>\n",
       "    <tr>\n",
       "      <th>2.0</th>\n",
       "      <td>0.979465</td>\n",
       "    </tr>\n",
       "  </tbody>\n",
       "</table>\n",
       "</div>"
      ],
      "text/plain": [
       "                 P(score>=x)\n",
       "TransRisk Score             \n",
       "0.0                 0.999842\n",
       "0.5                 0.999842\n",
       "1.0                 0.996305\n",
       "1.5                 0.983254\n",
       "2.0                 0.979465"
      ]
     },
     "execution_count": 15,
     "metadata": {},
     "output_type": "execute_result"
    }
   ],
   "source": [
    "ProbScoreGreaterX = pd.DataFrame(ProbRaceAndScoreGreaterX.sum(axis=1))\n",
    "ProbScoreGreaterX.columns=['P(score>=x)']\n",
    "ProbScoreGreaterX.head()"
   ]
  },
  {
   "cell_type": "markdown",
   "metadata": {},
   "source": [
    "<h3 align='center'>Step 3: Sum up all the demographics from P(score>=x and race and good) to get P(score>=x and good)</h3>\n",
    "- this will be our numerator"
   ]
  },
  {
   "cell_type": "code",
   "execution_count": 16,
   "metadata": {},
   "outputs": [
    {
     "data": {
      "text/html": [
       "<div>\n",
       "<style>\n",
       "    .dataframe thead tr:only-child th {\n",
       "        text-align: right;\n",
       "    }\n",
       "\n",
       "    .dataframe thead th {\n",
       "        text-align: left;\n",
       "    }\n",
       "\n",
       "    .dataframe tbody tr th {\n",
       "        vertical-align: top;\n",
       "    }\n",
       "</style>\n",
       "<table border=\"1\" class=\"dataframe\">\n",
       "  <thead>\n",
       "    <tr style=\"text-align: right;\">\n",
       "      <th></th>\n",
       "      <th>P(score&gt;=x &amp; good)</th>\n",
       "    </tr>\n",
       "    <tr>\n",
       "      <th>TransRisk Score</th>\n",
       "      <th></th>\n",
       "    </tr>\n",
       "  </thead>\n",
       "  <tbody>\n",
       "    <tr>\n",
       "      <th>0.0</th>\n",
       "      <td>0.696829</td>\n",
       "    </tr>\n",
       "    <tr>\n",
       "      <th>0.5</th>\n",
       "      <td>0.696829</td>\n",
       "    </tr>\n",
       "    <tr>\n",
       "      <th>1.0</th>\n",
       "      <td>0.696816</td>\n",
       "    </tr>\n",
       "    <tr>\n",
       "      <th>1.5</th>\n",
       "      <td>0.696507</td>\n",
       "    </tr>\n",
       "    <tr>\n",
       "      <th>2.0</th>\n",
       "      <td>0.696429</td>\n",
       "    </tr>\n",
       "  </tbody>\n",
       "</table>\n",
       "</div>"
      ],
      "text/plain": [
       "                 P(score>=x & good)\n",
       "TransRisk Score                    \n",
       "0.0                        0.696829\n",
       "0.5                        0.696829\n",
       "1.0                        0.696816\n",
       "1.5                        0.696507\n",
       "2.0                        0.696429"
      ]
     },
     "execution_count": 16,
     "metadata": {},
     "output_type": "execute_result"
    }
   ],
   "source": [
    "ProbScoreGreaterXAndGood = pd.DataFrame(ProbRaceAndScoreGreaterXAndGood.sum(axis=1))\n",
    "ProbScoreGreaterXAndGood.columns=['P(score>=x & good)']\n",
    "ProbScoreGreaterXAndGood.head()"
   ]
  },
  {
   "cell_type": "markdown",
   "metadata": {},
   "source": [
    "<h3 align='center'>Step 4: Divide numerator / denominator to get precision!</h3>\n",
    "### Precision is P(good | score>=x)"
   ]
  },
  {
   "cell_type": "code",
   "execution_count": 17,
   "metadata": {},
   "outputs": [
    {
     "data": {
      "text/html": [
       "<div>\n",
       "<style>\n",
       "    .dataframe thead tr:only-child th {\n",
       "        text-align: right;\n",
       "    }\n",
       "\n",
       "    .dataframe thead th {\n",
       "        text-align: left;\n",
       "    }\n",
       "\n",
       "    .dataframe tbody tr th {\n",
       "        vertical-align: top;\n",
       "    }\n",
       "</style>\n",
       "<table border=\"1\" class=\"dataframe\">\n",
       "  <thead>\n",
       "    <tr style=\"text-align: right;\">\n",
       "      <th></th>\n",
       "      <th>Precision</th>\n",
       "    </tr>\n",
       "    <tr>\n",
       "      <th>TransRisk Score</th>\n",
       "      <th></th>\n",
       "    </tr>\n",
       "  </thead>\n",
       "  <tbody>\n",
       "    <tr>\n",
       "      <th>0.0</th>\n",
       "      <td>0.69694</td>\n",
       "    </tr>\n",
       "    <tr>\n",
       "      <th>0.5</th>\n",
       "      <td>0.69694</td>\n",
       "    </tr>\n",
       "    <tr>\n",
       "      <th>1.0</th>\n",
       "      <td>0.69940</td>\n",
       "    </tr>\n",
       "    <tr>\n",
       "      <th>1.5</th>\n",
       "      <td>0.70837</td>\n",
       "    </tr>\n",
       "    <tr>\n",
       "      <th>2.0</th>\n",
       "      <td>0.71103</td>\n",
       "    </tr>\n",
       "  </tbody>\n",
       "</table>\n",
       "</div>"
      ],
      "text/plain": [
       "                 Precision\n",
       "TransRisk Score           \n",
       "0.0                0.69694\n",
       "0.5                0.69694\n",
       "1.0                0.69940\n",
       "1.5                0.70837\n",
       "2.0                0.71103"
      ]
     },
     "execution_count": 17,
     "metadata": {},
     "output_type": "execute_result"
    }
   ],
   "source": [
    "Precision = pd.DataFrame(\n",
    "    ProbScoreGreaterXAndGood['P(score>=x & good)'] / \n",
    "    ProbScoreGreaterX['P(score>=x)'])\n",
    "Precision.columns=['Precision']\n",
    "Precision.head()"
   ]
  },
  {
   "cell_type": "code",
   "execution_count": null,
   "metadata": {
    "collapsed": true
   },
   "outputs": [],
   "source": []
  }
 ],
 "metadata": {
  "kernelspec": {
   "display_name": "Python 3",
   "language": "python",
   "name": "python3"
  },
  "language_info": {
   "codemirror_mode": {
    "name": "ipython",
    "version": 3
   },
   "file_extension": ".py",
   "mimetype": "text/x-python",
   "name": "python",
   "nbconvert_exporter": "python",
   "pygments_lexer": "ipython3",
   "version": "3.6.1"
  }
 },
 "nbformat": 4,
 "nbformat_minor": 2
}
